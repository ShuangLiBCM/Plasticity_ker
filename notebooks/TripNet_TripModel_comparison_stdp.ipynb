{
 "cells": [
  {
   "cell_type": "markdown",
   "metadata": {
    "deletable": true,
    "editable": true
   },
   "source": [
    "Compare the performance between Gerstner's trip model and TripNet performance by calculating the MSE of data used by Gerstner. Plot the predicted data v.s. raw data in stdp, triplet and quadruplet protocol."
   ]
  },
  {
   "cell_type": "code",
   "execution_count": 1,
   "metadata": {
    "collapsed": false,
    "deletable": true,
    "editable": true
   },
   "outputs": [],
   "source": [
    "import numpy as np\n",
    "from scipy.integrate import odeint\n",
    "import pandas as pd\n",
    "import matplotlib.pyplot as plt\n",
    "import tensorflow as tf\n",
    "import seaborn as sb\n",
    "from modelval import pairptl, network, trainer, dataset, data_aug_knn, perform_eval\n",
    "from modelval.ArbDataGen import arb_w_gen\n",
    "from modelval.spk_visu import spk_see, raster\n",
    "from modelval import gp_regressor\n",
    "from modelval import data_aug_gp\n",
    "from sklearn.model_selection import train_test_split\n",
    "from scipy import stats\n",
    "from modelval import TripModel, network\n",
    "from modelval.ArbDataGen import arb_w_gen\n",
    "from modelval import TripNet, spk_gen\n",
    "% matplotlib inline\n",
    "\n",
    "%load_ext autoreload\n",
    "%autoreload 2\n",
    "\n",
    "import warnings\n",
    "warnings.filterwarnings('ignore')"
   ]
  },
  {
   "cell_type": "code",
   "execution_count": 2,
   "metadata": {
    "collapsed": false,
    "deletable": true,
    "editable": true
   },
   "outputs": [
    {
     "data": {
      "text/html": [
       "<div>\n",
       "<table border=\"1\" class=\"dataframe\">\n",
       "  <thead>\n",
       "    <tr style=\"text-align: right;\">\n",
       "      <th></th>\n",
       "      <th></th>\n",
       "      <th>A2_+</th>\n",
       "      <th>A3_-</th>\n",
       "      <th>A2_-</th>\n",
       "      <th>A3_+</th>\n",
       "      <th>Tau_+</th>\n",
       "      <th>Tau_x</th>\n",
       "      <th>Tau_-</th>\n",
       "      <th>Tau_y</th>\n",
       "    </tr>\n",
       "  </thead>\n",
       "  <tbody>\n",
       "    <tr>\n",
       "      <th rowspan=\"2\" valign=\"top\">Visu_AlltoAll</th>\n",
       "      <th>Full</th>\n",
       "      <td>5e-10</td>\n",
       "      <td>0.00023</td>\n",
       "      <td>0.007</td>\n",
       "      <td>0.0062</td>\n",
       "      <td>16.8</td>\n",
       "      <td>101</td>\n",
       "      <td>33.7</td>\n",
       "      <td>125</td>\n",
       "    </tr>\n",
       "    <tr>\n",
       "      <th>Min</th>\n",
       "      <td>0</td>\n",
       "      <td>0</td>\n",
       "      <td>0.0071</td>\n",
       "      <td>0.0065</td>\n",
       "      <td>16.8</td>\n",
       "      <td>1</td>\n",
       "      <td>33.7</td>\n",
       "      <td>114</td>\n",
       "    </tr>\n",
       "    <tr>\n",
       "      <th rowspan=\"2\" valign=\"top\">Visu_NearestSpk</th>\n",
       "      <th>Full</th>\n",
       "      <td>8.8e-11</td>\n",
       "      <td>0.0031</td>\n",
       "      <td>0.0066</td>\n",
       "      <td>0.053</td>\n",
       "      <td>16.8</td>\n",
       "      <td>714</td>\n",
       "      <td>33.7</td>\n",
       "      <td>40</td>\n",
       "    </tr>\n",
       "    <tr>\n",
       "      <th>Min</th>\n",
       "      <td>0</td>\n",
       "      <td>0</td>\n",
       "      <td>0.008</td>\n",
       "      <td>0.05</td>\n",
       "      <td>16.8</td>\n",
       "      <td>1</td>\n",
       "      <td>33.7</td>\n",
       "      <td>40</td>\n",
       "    </tr>\n",
       "    <tr>\n",
       "      <th rowspan=\"2\" valign=\"top\">Hippo_AlltoAll</th>\n",
       "      <th>Full</th>\n",
       "      <td>0.0061</td>\n",
       "      <td>0.0014</td>\n",
       "      <td>0.0016</td>\n",
       "      <td>0.0067</td>\n",
       "      <td>16.8</td>\n",
       "      <td>946</td>\n",
       "      <td>33.7</td>\n",
       "      <td>27</td>\n",
       "    </tr>\n",
       "    <tr>\n",
       "      <th>Min</th>\n",
       "      <td>0.0053</td>\n",
       "      <td>0</td>\n",
       "      <td>0.0035</td>\n",
       "      <td>0.008</td>\n",
       "      <td>16.8</td>\n",
       "      <td>1</td>\n",
       "      <td>33.7</td>\n",
       "      <td>40</td>\n",
       "    </tr>\n",
       "    <tr>\n",
       "      <th rowspan=\"2\" valign=\"top\">Hippo_NearestSpk</th>\n",
       "      <th>Full</th>\n",
       "      <td>0.0046</td>\n",
       "      <td>7.5e-09</td>\n",
       "      <td>0.003</td>\n",
       "      <td>0.0091</td>\n",
       "      <td>16.8</td>\n",
       "      <td>575</td>\n",
       "      <td>33.7</td>\n",
       "      <td>47</td>\n",
       "    </tr>\n",
       "    <tr>\n",
       "      <th>Min</th>\n",
       "      <td>0.0046</td>\n",
       "      <td>0</td>\n",
       "      <td>0.003</td>\n",
       "      <td>0.0091</td>\n",
       "      <td>16.8</td>\n",
       "      <td>1</td>\n",
       "      <td>33.7</td>\n",
       "      <td>48</td>\n",
       "    </tr>\n",
       "  </tbody>\n",
       "</table>\n",
       "</div>"
      ],
      "text/plain": [
       "                          A2_+     A3_-    A2_-    A3_+ Tau_+ Tau_x Tau_-  \\\n",
       "Visu_AlltoAll    Full    5e-10  0.00023   0.007  0.0062  16.8   101  33.7   \n",
       "                 Min         0        0  0.0071  0.0065  16.8     1  33.7   \n",
       "Visu_NearestSpk  Full  8.8e-11   0.0031  0.0066   0.053  16.8   714  33.7   \n",
       "                 Min         0        0   0.008    0.05  16.8     1  33.7   \n",
       "Hippo_AlltoAll   Full   0.0061   0.0014  0.0016  0.0067  16.8   946  33.7   \n",
       "                 Min    0.0053        0  0.0035   0.008  16.8     1  33.7   \n",
       "Hippo_NearestSpk Full   0.0046  7.5e-09   0.003  0.0091  16.8   575  33.7   \n",
       "                 Min    0.0046        0   0.003  0.0091  16.8     1  33.7   \n",
       "\n",
       "                      Tau_y  \n",
       "Visu_AlltoAll    Full   125  \n",
       "                 Min    114  \n",
       "Visu_NearestSpk  Full    40  \n",
       "                 Min     40  \n",
       "Hippo_AlltoAll   Full    27  \n",
       "                 Min     40  \n",
       "Hippo_NearestSpk Full    47  \n",
       "                 Min     48  "
      ]
     },
     "execution_count": 2,
     "metadata": {},
     "output_type": "execute_result"
    }
   ],
   "source": [
    "trip_para = pd.read_pickle('/src/Plasticity_Ker/data/Gerstner_trip_para_df')\n",
    "trip_para\n",
    "# Reorder columns to match parameter of the model\n",
    "trip_para = trip_para[['A2_+', 'A3_-', 'A2_-', 'A3_+', 'Tau_+', 'Tau_x', 'Tau_-', 'Tau_y']]\n",
    "trip_para"
   ]
  },
  {
   "cell_type": "code",
   "execution_count": 3,
   "metadata": {
    "collapsed": false,
    "deletable": true,
    "editable": true
   },
   "outputs": [],
   "source": [
    "# Visualize kernel\n",
    "from modelval.kernel import KernelGen\n",
    "ker_test = KernelGen()\n",
    "\n",
    "para = trip_para.loc[('Hippo_AlltoAll', 'Min'), :]\n",
    "a = para[:4].values\n",
    "tau = para[4:].values\n",
    "reso_set = 2\n",
    "tau_pre_post = tau[0]/reso_set  # ms\n",
    "tau_post_pre = tau[2]/reso_set # ms\n",
    "\n",
    "len_kernel=101\n",
    "ker_test = KernelGen(len_kernel=len_kernel)\n",
    "ker_test.trip_model_ker(para, data_name='Hippocampus')"
   ]
  },
  {
   "cell_type": "code",
   "execution_count": 4,
   "metadata": {
    "collapsed": false,
    "deletable": true,
    "editable": true
   },
   "outputs": [
    {
     "data": {
      "text/html": [
       "<div>\n",
       "<table border=\"1\" class=\"dataframe\">\n",
       "  <thead>\n",
       "    <tr style=\"text-align: right;\">\n",
       "      <th></th>\n",
       "      <th>ptl_idx</th>\n",
       "      <th>pre_spk_num</th>\n",
       "      <th>pre_spk_freq</th>\n",
       "      <th>post_spk_num</th>\n",
       "      <th>post_spk_freq</th>\n",
       "      <th>ptl_occ</th>\n",
       "      <th>ptl_freq</th>\n",
       "      <th>dt1</th>\n",
       "      <th>dt2</th>\n",
       "      <th>dt3</th>\n",
       "      <th>dw_mean</th>\n",
       "      <th>dw_ste</th>\n",
       "      <th>train_len</th>\n",
       "    </tr>\n",
       "  </thead>\n",
       "  <tbody>\n",
       "    <tr>\n",
       "      <th>0</th>\n",
       "      <td>1.0</td>\n",
       "      <td>1.0</td>\n",
       "      <td>0.0</td>\n",
       "      <td>1.0</td>\n",
       "      <td>0.0</td>\n",
       "      <td>60.0</td>\n",
       "      <td>1.0</td>\n",
       "      <td>-100.0</td>\n",
       "      <td>0.0</td>\n",
       "      <td>0.0</td>\n",
       "      <td>-1.32259</td>\n",
       "      <td>0.0</td>\n",
       "      <td>60.0</td>\n",
       "    </tr>\n",
       "    <tr>\n",
       "      <th>1</th>\n",
       "      <td>1.0</td>\n",
       "      <td>1.0</td>\n",
       "      <td>0.0</td>\n",
       "      <td>1.0</td>\n",
       "      <td>0.0</td>\n",
       "      <td>60.0</td>\n",
       "      <td>1.0</td>\n",
       "      <td>-98.0</td>\n",
       "      <td>0.0</td>\n",
       "      <td>0.0</td>\n",
       "      <td>-1.32259</td>\n",
       "      <td>0.0</td>\n",
       "      <td>60.0</td>\n",
       "    </tr>\n",
       "    <tr>\n",
       "      <th>2</th>\n",
       "      <td>1.0</td>\n",
       "      <td>1.0</td>\n",
       "      <td>0.0</td>\n",
       "      <td>1.0</td>\n",
       "      <td>0.0</td>\n",
       "      <td>60.0</td>\n",
       "      <td>1.0</td>\n",
       "      <td>-96.0</td>\n",
       "      <td>0.0</td>\n",
       "      <td>0.0</td>\n",
       "      <td>-1.32259</td>\n",
       "      <td>0.0</td>\n",
       "      <td>60.0</td>\n",
       "    </tr>\n",
       "    <tr>\n",
       "      <th>3</th>\n",
       "      <td>1.0</td>\n",
       "      <td>1.0</td>\n",
       "      <td>0.0</td>\n",
       "      <td>1.0</td>\n",
       "      <td>0.0</td>\n",
       "      <td>60.0</td>\n",
       "      <td>1.0</td>\n",
       "      <td>-94.0</td>\n",
       "      <td>0.0</td>\n",
       "      <td>0.0</td>\n",
       "      <td>-1.32259</td>\n",
       "      <td>0.0</td>\n",
       "      <td>60.0</td>\n",
       "    </tr>\n",
       "    <tr>\n",
       "      <th>4</th>\n",
       "      <td>1.0</td>\n",
       "      <td>1.0</td>\n",
       "      <td>0.0</td>\n",
       "      <td>1.0</td>\n",
       "      <td>0.0</td>\n",
       "      <td>60.0</td>\n",
       "      <td>1.0</td>\n",
       "      <td>-92.0</td>\n",
       "      <td>0.0</td>\n",
       "      <td>0.0</td>\n",
       "      <td>-1.32259</td>\n",
       "      <td>0.0</td>\n",
       "      <td>60.0</td>\n",
       "    </tr>\n",
       "  </tbody>\n",
       "</table>\n",
       "</div>"
      ],
      "text/plain": [
       "   ptl_idx  pre_spk_num  pre_spk_freq  post_spk_num  post_spk_freq  ptl_occ  \\\n",
       "0      1.0          1.0           0.0           1.0            0.0     60.0   \n",
       "1      1.0          1.0           0.0           1.0            0.0     60.0   \n",
       "2      1.0          1.0           0.0           1.0            0.0     60.0   \n",
       "3      1.0          1.0           0.0           1.0            0.0     60.0   \n",
       "4      1.0          1.0           0.0           1.0            0.0     60.0   \n",
       "\n",
       "   ptl_freq    dt1  dt2  dt3  dw_mean  dw_ste  train_len  \n",
       "0       1.0 -100.0  0.0  0.0 -1.32259     0.0       60.0  \n",
       "1       1.0  -98.0  0.0  0.0 -1.32259     0.0       60.0  \n",
       "2       1.0  -96.0  0.0  0.0 -1.32259     0.0       60.0  \n",
       "3       1.0  -94.0  0.0  0.0 -1.32259     0.0       60.0  \n",
       "4       1.0  -92.0  0.0  0.0 -1.32259     0.0       60.0  "
      ]
     },
     "execution_count": 4,
     "metadata": {},
     "output_type": "execute_result"
    }
   ],
   "source": [
    "# Load STDP data with +10 ms and =10 ms time difference\n",
    "data = pd.read_csv('/src/Plasticity_Ker/data/kernel_training_data_auto.csv')\n",
    "data1 = data[data['ptl_idx']==1]\n",
    "data1_net = np.arange(-100, 100, 2)\n",
    "df1_net = data_aug_gp.STDP_dw_gen(data1_net)\n",
    "\n",
    "df1_net.head()"
   ]
  },
  {
   "cell_type": "code",
   "execution_count": 5,
   "metadata": {
    "collapsed": true,
    "deletable": true,
    "editable": true
   },
   "outputs": [],
   "source": [
    "# Generate spike pairs\n",
    "ptl_list = [1]\n",
    "spk_len = int(df1_net['train_len'].max() * 1000 / ker_test.reso_kernel)\n",
    "if_noise = 0\n",
    "aug_times = [1]\n",
    "spk_pairs, _ = arb_w_gen(df=df1_net, ptl_list=ptl_list, if_noise=if_noise, spk_len=spk_len, kernel=ker_test, net_type='triplet', aug_times=aug_times)"
   ]
  },
  {
   "cell_type": "code",
   "execution_count": 6,
   "metadata": {
    "collapsed": true,
    "deletable": true,
    "editable": true
   },
   "outputs": [],
   "source": [
    "# Load TripNet and Model\n",
    "# Create the network\n",
    "ground_truth_init = 0\n",
    "reg_scale=(1, 1)\n",
    "init_seed=(4,5,6,7)\n",
    "toy_data_net = network.TripNet(kernel=ker_test, ground_truth_init=ground_truth_init, init_seed=init_seed, reg_scale=reg_scale, n_input=spk_pairs.shape[1])"
   ]
  },
  {
   "cell_type": "code",
   "execution_count": 26,
   "metadata": {
    "collapsed": true,
    "deletable": true,
    "editable": true
   },
   "outputs": [],
   "source": [
    "# Create the trainer\n",
    "save_dir= '/src/Plasticity_Ker/model/Trip_ptl1_4_real_aug_gp_mean_noise'\n",
    "\n",
    "toy_net_trainer = trainer.Trainer(toy_data_net.loss, toy_data_net.loss, input_name=toy_data_net.inputs, target_name=toy_data_net.target, save_dir=save_dir, optimizer_config={'learning_rate': toy_data_net.lr})"
   ]
  },
  {
   "cell_type": "code",
   "execution_count": 8,
   "metadata": {
    "collapsed": false,
    "deletable": true,
    "editable": true
   },
   "outputs": [
    {
     "name": "stdout",
     "output_type": "stream",
     "text": [
      "[array([-0.92389393, -1.00908053,  2.52698421], dtype=float32), array([[ 5.71595335]], dtype=float32)]\n"
     ]
    },
    {
     "data": {
      "image/png": "[encoded data removed]",
      "text/plain": [
       "<matplotlib.figure.Figure at 0x7fa897cc5438>"
      ]
     },
     "metadata": {},
     "output_type": "display_data"
    }
   ],
   "source": [
    "toy_net_trainer.restore_best()\n",
    "w_pre = toy_net_trainer.evaluate(ops=toy_data_net.kernel_pre)\n",
    "w_post = toy_net_trainer.evaluate(ops=toy_data_net.kernel_post)\n",
    "w_post_post = toy_net_trainer.evaluate(ops=toy_data_net.kernel_post_post)\n",
    "fc_w = toy_net_trainer.evaluate(ops=toy_data_net.fc_w)\n",
    "bias = toy_net_trainer.evaluate(ops=toy_data_net.bias).reshape(-1,1)\n",
    "plt.plot(-1*w_pre, label='ker_pre_trained')\n",
    "plt.plot(-1*w_post, label='ker_post_trained')\n",
    "plt.plot(-1 * w_post_post, label='ker_post_post_trained')\n",
    "plt.legend()\n",
    "print([fc_w, bias])"
   ]
  },
  {
   "cell_type": "code",
   "execution_count": 9,
   "metadata": {
    "collapsed": true,
    "deletable": true,
    "editable": true
   },
   "outputs": [],
   "source": [
    "# Generate prediction with triplet network\n",
    "ker_test.kernel_pre = w_pre\n",
    "ker_test.kernel_post = w_post\n",
    "ker_test.kernel_post_post= w_post_post\n",
    "ker_test.kernel_scale = fc_w\n",
    "ker_test.bias = bias\n",
    "\n",
    "_, pred1_net = arb_w_gen(spk_pairs=spk_pairs, spk_len=spk_len, kernel=ker_test, net_type='triplet')\n",
    "pred1_net = pred1_net/100"
   ]
  },
  {
   "cell_type": "code",
   "execution_count": 10,
   "metadata": {
    "collapsed": false,
    "deletable": true,
    "editable": true
   },
   "outputs": [
    {
     "data": {
      "text/plain": [
       "(100, 1)"
      ]
     },
     "execution_count": 10,
     "metadata": {},
     "output_type": "execute_result"
    }
   ],
   "source": [
    "pred1_net.shape"
   ]
  },
  {
   "cell_type": "code",
   "execution_count": 11,
   "metadata": {
    "collapsed": false,
    "deletable": true,
    "editable": true
   },
   "outputs": [],
   "source": [
    "# Generate spike pairs for generating tripmodel prediction\n",
    "ptl_list = [1]\n",
    "data1_model = np.linspace(-100, 100, 201)\n",
    "df1_model = data_aug_gp.STDP_dw_gen(data1_model)\n",
    "ker_test.reso_kernel=0.5\n",
    "spk_len = int(df1_model['train_len'].max() * 1000 / ker_test.reso_kernel)\n",
    "if_noise = 0\n",
    "aug_times = [1]\n",
    "spk_pairs, _ = arb_w_gen(df=df1_model, ptl_list=ptl_list, if_noise=if_noise, spk_len=spk_len, kernel=ker_test, net_type='triplet', aug_times=aug_times)"
   ]
  },
  {
   "cell_type": "code",
   "execution_count": 12,
   "metadata": {
    "collapsed": true,
    "deletable": true,
    "editable": true
   },
   "outputs": [],
   "source": [
    "# # Generate equally spaced time distance for feeding the STDP spike generator\n",
    "# dt_gen = np.linspace(-100, 100, 201)\n",
    "# ptl_occ_set = 60\n",
    "# freq_set = 1\n",
    "# reso_set = 0.5"
   ]
  },
  {
   "cell_type": "code",
   "execution_count": 13,
   "metadata": {
    "collapsed": false,
    "deletable": true,
    "editable": true
   },
   "outputs": [],
   "source": [
    "# pre_spk_ptl1, post_spk_ptl1, target_ptl1 = spk_gen.get_stdp_spikes(dt=dt_gen, rep=1, reso=reso_set, ptl_occ=ptl_occ_set, freq=freq_set, between_train_jitter=0,within_train_jitter=0)"
   ]
  },
  {
   "cell_type": "code",
   "execution_count": 14,
   "metadata": {
    "collapsed": true,
    "deletable": true,
    "editable": true
   },
   "outputs": [],
   "source": [
    "pre_spk_ptl1 = spk_pairs[:,:,0]\n",
    "post_spk_ptl1 = spk_pairs[:,:,1]\n",
    "\n",
    "loci_track_pre = []\n",
    "loci_track_post = []\n",
    "\n",
    "# range(pre_spk_ptl1.shape[0])\n",
    "for i in range(pre_spk_ptl1.shape[0]):\n",
    "    loci_pre = np.where(pre_spk_ptl1[i,:] > 0)[0]\n",
    "    loci_post = np.where(post_spk_ptl1[i,:] > 0)[0]\n",
    "    \n",
    "    loci_track_pre.append(loci_pre)\n",
    "    loci_track_post.append(loci_post)"
   ]
  },
  {
   "cell_type": "code",
   "execution_count": 22,
   "metadata": {
    "collapsed": false,
    "deletable": true,
    "editable": true
   },
   "outputs": [],
   "source": [
    "para = trip_para.loc[('Hippo_AlltoAll', 'Min'), :]\n",
    "a = para[:4].values\n",
    "tau = para[4:].values\n",
    "reso_set = 0.5\n",
    "\n",
    "w_AA_full, S_AA_full, pred1_model = TripModel.trip_AlltoAll(a, tau/reso_set, loci_track_pre, loci_track_post, ifSTDP=1, reso = reso_set, tt_len = 60)"
   ]
  },
  {
   "cell_type": "code",
   "execution_count": 28,
   "metadata": {
    "collapsed": false,
    "deletable": true,
    "editable": true
   },
   "outputs": [
    {
     "data": {
      "text/plain": [
       "<matplotlib.legend.Legend at 0x7fa89a5ee1d0>"
      ]
     },
     "execution_count": 28,
     "metadata": {},
     "output_type": "execute_result"
    },
    {
     "data": {
      "image/png": "[encoded data removed]",
      "text/plain": [
       "<matplotlib.figure.Figure at 0x7fa89a661dd8>"
      ]
     },
     "metadata": {},
     "output_type": "display_data"
    }
   ],
   "source": [
    "plt.figure(figsize=(12,5))\n",
    "plt.subplot(1,2,1)\n",
    "plt.plot(data1['dt1'], np.array(data1['dw_mean']/100), 'o',alpha=0.5, label='Raw data')\n",
    "plt.errorbar(x=np.array([-10,10]), y=np.array([-0.17,0.25]), yerr=np.array([0.05,0.05]),color='k', fmt='o', label='TripModel Targets')\n",
    "plt.plot(data1_model,pred1_model,'go',label='TripMode(All-to-All)')\n",
    "plt.plot(data1_net, pred1_net,'ro' , label='TripNet')\n",
    "plt.xlabel('$t^{post} - t^{pre}[ms]$')\n",
    "plt.ylabel('$\\Delta w$')\n",
    "plt.legend(loc='upper left')"
   ]
  },
  {
   "cell_type": "code",
   "execution_count": 25,
   "metadata": {
    "collapsed": false,
    "deletable": true,
    "editable": true
   },
   "outputs": [
    {
     "name": "stdout",
     "output_type": "stream",
     "text": [
      "2.30624346095 3.37022573724\n"
     ]
    }
   ],
   "source": [
    "# Obtain the mse\n",
    "x=np.array([-10,10])\n",
    "x_model = np.zeros(len(x), dtype=int)\n",
    "x_net = np.zeros(len(x), dtype=int)\n",
    "pred1_model_x = []\n",
    "pred1_net_x = []\n",
    "\n",
    "for i in range(len(x)):\n",
    "    x_model[i] = np.where((data1_model - int(x[i]))==np.min(np.abs(data1_model - int(x[i]))))[0][0]\n",
    "    x_net[i] = np.where((data1_net - int(x[i]))==np.min(np.abs(data1_net - int(x[i]))))[0][0]\n",
    "    pred1_model_x.append(pred1_model[x_model[i]])\n",
    "    pred1_net_x.append(pred1_net[x_net[i]])\n",
    "    \n",
    "pred1_model_x = np.hstack(pred1_model_x)\n",
    "pred1_net_x = np.hstack(pred1_net_x)\n",
    "\n",
    "def err(target, pred, sigma):\n",
    "    err = np.sum(np.square((target-pred)/sigma))\n",
    "    return err\n",
    "\n",
    "err_model = err(np.array([-0.17, 0.25]),pred1_model_x, np.array([0.05,0.05]))\n",
    "err_net = err(np.array([-0.17, 0.25]), pred1_net_x,np.array([0.05,0.05]))\n",
    "\n",
    "print(err_model, err_net)"
   ]
  },
  {
   "cell_type": "code",
   "execution_count": null,
   "metadata": {
    "collapsed": true,
    "deletable": true,
    "editable": true
   },
   "outputs": [],
   "source": []
  }
 ],
 "metadata": {
  "kernelspec": {
   "display_name": "Python 3",
   "language": "python",
   "name": "python3"
  },
  "language_info": {
   "codemirror_mode": {
    "name": "ipython",
    "version": 3
   },
   "file_extension": ".py",
   "mimetype": "text/x-python",
   "name": "python",
   "nbconvert_exporter": "python",
   "pygments_lexer": "ipython3",
   "version": "3.5.2"
  }
 },
 "nbformat": 4,
 "nbformat_minor": 2
}

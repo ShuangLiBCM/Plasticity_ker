{
 "cells": [
  {
   "cell_type": "code",
   "execution_count": 13,
   "metadata": {
    "collapsed": false,
    "deletable": true,
    "editable": true
   },
   "outputs": [
    {
     "name": "stdout",
     "output_type": "stream",
     "text": [
      "The autoreload extension is already loaded. To reload it, use:\n",
      "  %reload_ext autoreload\n"
     ]
    }
   ],
   "source": [
    "import numpy as np\n",
    "import pandas as pd\n",
    "import matplotlib.pyplot as plt\n",
    "import seaborn as sns\n",
    "import tensorflow as tf\n",
    "from modelval import pairptl, network, trainer, dataset\n",
    "from modelval.ArbDataGen import arb_w_gen\n",
    "\n",
    "% matplotlib inline\n",
    "%load_ext autoreload\n",
    "%autoreload 2"
   ]
  },
  {
   "cell_type": "code",
   "execution_count": 14,
   "metadata": {
    "collapsed": false,
    "deletable": true,
    "editable": true
   },
   "outputs": [
    {
     "data": {
      "text/plain": [
       "<matplotlib.legend.Legend at 0x7f4840028cc0>"
      ]
     },
     "execution_count": 14,
     "metadata": {},
     "output_type": "execute_result"
    },
    {
     "name": "stderr",
     "output_type": "stream",
     "text": [
      "/usr/local/lib/python3.5/dist-packages/matplotlib/font_manager.py:1297: UserWarning: findfont: Font family ['sans-serif'] not found. Falling back to DejaVu Sans\n",
      "  (prop.get_family(), self.defaultFamily[fontext]))\n"
     ]
    },
    {
     "data": {
      "image/png": "[encoded data removed]",
      "text/plain": [
       "<matplotlib.figure.Figure at 0x7f48400baa58>"
      ]
     },
     "metadata": {},
     "output_type": "display_data"
    }
   ],
   "source": [
    "# Visualize kernel\n",
    "from modelval.kernel import KernelGen\n",
    "plt.figure(figsize=(5,3))\n",
    "ker_test = KernelGen()\n",
    "ker_test.kernel_pre = KernelGen().uni_exp_ker(side='left', tau=20, scale=0.1)\n",
    "ker_test.kernel_post = KernelGen().uni_exp_ker(side='left', tau=20, scale=0.1)\n",
    "ker_test.kernel_post_post = KernelGen().uni_exp_ker(side='left', tau=50, scale=0.1)\n",
    "plt.plot(ker_test.kernel_pre, label='ker_pre')\n",
    "plt.plot(ker_test.kernel_post, label='ker_post')\n",
    "plt.plot(ker_test.kernel_post_post, label='ker_post_post')\n",
    "plt.legend()"
   ]
  },
  {
   "cell_type": "code",
   "execution_count": 15,
   "metadata": {
    "collapsed": false,
    "deletable": true,
    "editable": true
   },
   "outputs": [
    {
     "data": {
      "text/html": [
       "<div>\n",
       "<table border=\"1\" class=\"dataframe\">\n",
       "  <thead>\n",
       "    <tr style=\"text-align: right;\">\n",
       "      <th></th>\n",
       "      <th>ptl_idx</th>\n",
       "      <th>pre_spk_num</th>\n",
       "      <th>pre_spk_freq</th>\n",
       "      <th>post_spk_num</th>\n",
       "      <th>post_spk_freq</th>\n",
       "      <th>ptl_occ</th>\n",
       "      <th>ptl_freq</th>\n",
       "      <th>dt1</th>\n",
       "      <th>dt2</th>\n",
       "      <th>dt3</th>\n",
       "      <th>dw_mean</th>\n",
       "      <th>dw_ste</th>\n",
       "      <th>train_len</th>\n",
       "    </tr>\n",
       "  </thead>\n",
       "  <tbody>\n",
       "    <tr>\n",
       "      <th>0</th>\n",
       "      <td>1</td>\n",
       "      <td>1</td>\n",
       "      <td>0</td>\n",
       "      <td>1</td>\n",
       "      <td>0</td>\n",
       "      <td>60</td>\n",
       "      <td>1.0</td>\n",
       "      <td>-102.898046</td>\n",
       "      <td>0.0</td>\n",
       "      <td>0</td>\n",
       "      <td>-1.322590</td>\n",
       "      <td>0.0</td>\n",
       "      <td>60.0</td>\n",
       "    </tr>\n",
       "    <tr>\n",
       "      <th>1</th>\n",
       "      <td>1</td>\n",
       "      <td>1</td>\n",
       "      <td>0</td>\n",
       "      <td>1</td>\n",
       "      <td>0</td>\n",
       "      <td>60</td>\n",
       "      <td>1.0</td>\n",
       "      <td>-75.579896</td>\n",
       "      <td>0.0</td>\n",
       "      <td>0</td>\n",
       "      <td>2.674768</td>\n",
       "      <td>0.0</td>\n",
       "      <td>60.0</td>\n",
       "    </tr>\n",
       "    <tr>\n",
       "      <th>2</th>\n",
       "      <td>1</td>\n",
       "      <td>1</td>\n",
       "      <td>0</td>\n",
       "      <td>1</td>\n",
       "      <td>0</td>\n",
       "      <td>60</td>\n",
       "      <td>1.0</td>\n",
       "      <td>-80.871473</td>\n",
       "      <td>0.0</td>\n",
       "      <td>0</td>\n",
       "      <td>-12.696449</td>\n",
       "      <td>0.0</td>\n",
       "      <td>60.0</td>\n",
       "    </tr>\n",
       "    <tr>\n",
       "      <th>3</th>\n",
       "      <td>1</td>\n",
       "      <td>1</td>\n",
       "      <td>0</td>\n",
       "      <td>1</td>\n",
       "      <td>0</td>\n",
       "      <td>60</td>\n",
       "      <td>1.0</td>\n",
       "      <td>-67.562239</td>\n",
       "      <td>0.0</td>\n",
       "      <td>0</td>\n",
       "      <td>0.231446</td>\n",
       "      <td>0.0</td>\n",
       "      <td>60.0</td>\n",
       "    </tr>\n",
       "    <tr>\n",
       "      <th>4</th>\n",
       "      <td>1</td>\n",
       "      <td>1</td>\n",
       "      <td>0</td>\n",
       "      <td>1</td>\n",
       "      <td>0</td>\n",
       "      <td>60</td>\n",
       "      <td>1.0</td>\n",
       "      <td>-63.553410</td>\n",
       "      <td>0.0</td>\n",
       "      <td>0</td>\n",
       "      <td>-0.990216</td>\n",
       "      <td>0.0</td>\n",
       "      <td>60.0</td>\n",
       "    </tr>\n",
       "  </tbody>\n",
       "</table>\n",
       "</div>"
      ],
      "text/plain": [
       "   ptl_idx  pre_spk_num  pre_spk_freq  post_spk_num  post_spk_freq  ptl_occ  \\\n",
       "0        1            1             0             1              0       60   \n",
       "1        1            1             0             1              0       60   \n",
       "2        1            1             0             1              0       60   \n",
       "3        1            1             0             1              0       60   \n",
       "4        1            1             0             1              0       60   \n",
       "\n",
       "   ptl_freq         dt1  dt2  dt3    dw_mean  dw_ste  train_len  \n",
       "0       1.0 -102.898046  0.0    0  -1.322590     0.0       60.0  \n",
       "1       1.0  -75.579896  0.0    0   2.674768     0.0       60.0  \n",
       "2       1.0  -80.871473  0.0    0 -12.696449     0.0       60.0  \n",
       "3       1.0  -67.562239  0.0    0   0.231446     0.0       60.0  \n",
       "4       1.0  -63.553410  0.0    0  -0.990216     0.0       60.0  "
      ]
     },
     "execution_count": 15,
     "metadata": {},
     "output_type": "execute_result"
    }
   ],
   "source": [
    "# Load data frame\n",
    "data = pd.read_csv('/src/Plasticity_Ker/data/kernel_training_data_auto.csv')\n",
    "data['train_len'] = data['ptl_occ'] / data['ptl_freq']\n",
    "data.head()"
   ]
  },
  {
   "cell_type": "code",
   "execution_count": 16,
   "metadata": {
    "collapsed": false,
    "deletable": true,
    "editable": true
   },
   "outputs": [],
   "source": [
    "# Generate data\n",
    "ptl_list = [1]\n",
    "spk_len = int(data[data['ptl_idx'].isin(ptl_list)]['train_len'].max() * 1000 / ker_test.reso_kernel)\n",
    "spk_pairs, targets = arb_w_gen(df=data, ptl_list=ptl_list, spk_len=spk_len, kernel=ker_test, aug_times=10, net_type='triplet')\n",
    "# targets = np.expand_dims(np.expand_dims(targets, axis=1), axis=2)"
   ]
  },
  {
   "cell_type": "code",
   "execution_count": 23,
   "metadata": {
    "collapsed": false,
    "deletable": true,
    "editable": true
   },
   "outputs": [],
   "source": [
    "# Create the network\n",
    "ground_truth_init = 0\n",
    "toy_data_net2 = network.TripNet(kernel=ker_test, ground_truth_init=ground_truth_init, n_input=spk_pairs.shape[1])"
   ]
  },
  {
   "cell_type": "code",
   "execution_count": 24,
   "metadata": {
    "collapsed": false,
    "deletable": true,
    "editable": true
   },
   "outputs": [],
   "source": [
    "# Create the trainer\n",
    "save_dir= '/src/Plasticity_Ker/model/TripNet_ptl1_toy'\n",
    "toy_net2_trainer = trainer.Trainer(toy_data_net2.loss, input_name=toy_data_net2.inputs, target_name=toy_data_net2.target, save_dir=save_dir, optimizer_config={'learning_rate': toy_data_net2.lr})"
   ]
  },
  {
   "cell_type": "code",
   "execution_count": 25,
   "metadata": {
    "collapsed": true,
    "deletable": true,
    "editable": true
   },
   "outputs": [],
   "source": [
    "# Obtain the training and validation data\n",
    "from sklearn.model_selection import train_test_split\n",
    "\n",
    "X_train, X_vali, y_train, y_vali = train_test_split(spk_pairs, targets, test_size=0.1)\n",
    "train_data = dataset.Dataset(X_train, y_train)\n",
    "vali_data = dataset.Dataset(X_vali, y_vali)"
   ]
  },
  {
   "cell_type": "code",
   "execution_count": 26,
   "metadata": {
    "collapsed": false,
    "deletable": true,
    "editable": true
   },
   "outputs": [
    {
     "data": {
      "text/plain": [
       "0.0"
      ]
     },
     "execution_count": 26,
     "metadata": {},
     "output_type": "execute_result"
    },
    {
     "name": "stderr",
     "output_type": "stream",
     "text": [
      "/usr/local/lib/python3.5/dist-packages/matplotlib/font_manager.py:1297: UserWarning: findfont: Font family ['sans-serif'] not found. Falling back to DejaVu Sans\n",
      "  (prop.get_family(), self.defaultFamily[fontext]))\n"
     ]
    },
    {
     "data": {
      "image/png": "[encoded data removed]",
      "text/plain": [
       "<matplotlib.figure.Figure at 0x7f4852b392b0>"
      ]
     },
     "metadata": {},
     "output_type": "display_data"
    }
   ],
   "source": [
    "w_pre = toy_net2_trainer.evaluate(ops=toy_data_net2.kernel_pre)\n",
    "w_post = toy_net2_trainer.evaluate(ops=toy_data_net2.kernel_post)\n",
    "w_post_post = toy_net2_trainer.evaluate(ops=toy_data_net2.kernel_post_post)\n",
    "plt.plot(w_pre, label='ker_pre_init')\n",
    "plt.plot(w_post, label='ker_post_init')\n",
    "plt.plot(w_post_post, label='ker_post_post_init')\n",
    "bias = toy_net2_trainer.evaluate(ops=toy_data_net2.bias)\n",
    "plt.legend()\n",
    "bias"
   ]
  },
  {
   "cell_type": "code",
   "execution_count": 31,
   "metadata": {
    "collapsed": false,
    "deletable": true,
    "editable": true
   },
   "outputs": [
    {
     "name": "stdout",
     "output_type": "stream",
     "text": [
      "Global Step 7800 and Step 0045: validation cost=0.00059\n",
      "Updated min validation loss!Saving model...\n",
      "Global Step 7850 and Step 0095: validation cost=0.00056\n",
      "Updated min validation loss!Saving model...\n",
      "Global Step 7900 and Step 0145: validation cost=0.00052\n",
      "Updated min validation loss!Saving model...\n",
      "Global Step 7950 and Step 0195: validation cost=0.00049\n",
      "Updated min validation loss!Saving model...\n",
      "Global Step 8000 and Step 0245: validation cost=0.00046\n",
      "Updated min validation loss!Saving model...\n",
      "Global Step 8050 and Step 0295: validation cost=0.00043\n",
      "Updated min validation loss!Saving model...\n",
      "Global Step 8100 and Step 0345: validation cost=0.00040\n",
      "Updated min validation loss!Saving model...\n",
      "Global Step 8150 and Step 0395: validation cost=0.00038\n",
      "Updated min validation loss!Saving model...\n",
      "Global Step 8200 and Step 0445: validation cost=0.00035\n",
      "Updated min validation loss!Saving model...\n",
      "Global Step 8250 and Step 0495: validation cost=0.00033\n",
      "Updated min validation loss!Saving model...\n",
      "Global Step 8300 and Step 0545: validation cost=0.00031\n",
      "Updated min validation loss!Saving model...\n",
      "Global Step 8350 and Step 0595: validation cost=0.00029\n",
      "Updated min validation loss!Saving model...\n",
      "Global Step 8400 and Step 0645: validation cost=0.00027\n",
      "Updated min validation loss!Saving model...\n",
      "Global Step 8450 and Step 0695: validation cost=0.00024\n",
      "Updated min validation loss!Saving model...\n",
      "Global Step 8500 and Step 0745: validation cost=0.00022\n",
      "Updated min validation loss!Saving model...\n",
      "Global Step 8550 and Step 0795: validation cost=0.00021\n",
      "Updated min validation loss!Saving model...\n",
      "Global Step 8600 and Step 0845: validation cost=0.00019\n",
      "Updated min validation loss!Saving model...\n",
      "Global Step 8650 and Step 0895: validation cost=0.00018\n",
      "Updated min validation loss!Saving model...\n",
      "Global Step 8700 and Step 0945: validation cost=0.00016\n",
      "Updated min validation loss!Saving model...\n",
      "Global Step 8750 and Step 0995: validation cost=0.00015\n",
      "Updated min validation loss!Saving model...\n",
      "Global Step 8800 and Step 1045: validation cost=0.00013\n",
      "Updated min validation loss!Saving model...\n",
      "Global Step 8850 and Step 1095: validation cost=0.00012\n",
      "Updated min validation loss!Saving model...\n",
      "Global Step 8900 and Step 1145: validation cost=0.00011\n",
      "Updated min validation loss!Saving model...\n",
      "Global Step 8950 and Step 1195: validation cost=0.00010\n",
      "Updated min validation loss!Saving model...\n",
      "Global Step 9000 and Step 1245: validation cost=0.00009\n",
      "Updated min validation loss!Saving model...\n",
      "Global Step 9050 and Step 1295: validation cost=0.00008\n",
      "Updated min validation loss!Saving model...\n",
      "Global Step 9100 and Step 1345: validation cost=0.00007\n",
      "Updated min validation loss!Saving model...\n",
      "Global Step 9150 and Step 1395: validation cost=0.00006\n",
      "Updated min validation loss!Saving model...\n",
      "Global Step 9200 and Step 1445: validation cost=0.00006\n",
      "Updated min validation loss!Saving model...\n",
      "Global Step 9250 and Step 1495: validation cost=0.00005\n",
      "Updated min validation loss!Saving model...\n",
      "Global Step 9300 and Step 1545: validation cost=0.00005\n",
      "Updated min validation loss!Saving model...\n",
      "Global Step 9350 and Step 1595: validation cost=0.00004\n",
      "Updated min validation loss!Saving model...\n",
      "Global Step 9400 and Step 1645: validation cost=0.00004\n",
      "Updated min validation loss!Saving model...\n",
      "Global Step 9450 and Step 1695: validation cost=0.00003\n",
      "Updated min validation loss!Saving model...\n",
      "Global Step 9500 and Step 1745: validation cost=0.00003\n",
      "Updated min validation loss!Saving model...\n",
      "Global Step 9550 and Step 1795: validation cost=0.00003\n",
      "Updated min validation loss!Saving model...\n",
      "Global Step 9600 and Step 1845: validation cost=0.00002\n",
      "Updated min validation loss!Saving model...\n",
      "Global Step 9650 and Step 1895: validation cost=0.00009\n",
      "Global Step 9700 and Step 1945: validation cost=0.00010\n",
      "Global Step 9750 and Step 1995: validation cost=0.00002\n",
      "Updated min validation loss!Saving model...\n",
      "Global Step 9800 and Step 2045: validation cost=0.00001\n",
      "Updated min validation loss!Saving model...\n",
      "Global Step 9850 and Step 2095: validation cost=0.00001\n",
      "Updated min validation loss!Saving model...\n",
      "Global Step 9900 and Step 2145: validation cost=0.00001\n",
      "Updated min validation loss!Saving model...\n",
      "Global Step 9950 and Step 2195: validation cost=0.00001\n",
      "Updated min validation loss!Saving model...\n",
      "Global Step 10000 and Step 2245: validation cost=0.00001\n",
      "Updated min validation loss!Saving model...\n",
      "Global Step 10050 and Step 2295: validation cost=0.00001\n",
      "Updated min validation loss!Saving model...\n",
      "Global Step 10100 and Step 2345: validation cost=0.00001\n",
      "Global Step 10150 and Step 2395: validation cost=0.00000\n",
      "Updated min validation loss!Saving model...\n",
      "Global Step 10200 and Step 2445: validation cost=0.00000\n",
      "Updated min validation loss!Saving model...\n",
      "Global Step 10250 and Step 2495: validation cost=0.00002\n",
      "Global Step 10300 and Step 2545: validation cost=0.00009\n",
      "Global Step 10350 and Step 2595: validation cost=0.00010\n",
      "Global Step 10400 and Step 2645: validation cost=0.00000\n",
      "Updated min validation loss!Saving model...\n",
      "Global Step 10450 and Step 2695: validation cost=0.00003\n",
      "Global Step 10500 and Step 2745: validation cost=0.00001\n",
      "Global Step 10550 and Step 2795: validation cost=0.00001\n",
      "Global Step 10600 and Step 2845: validation cost=0.00001\n",
      "Global Step 10650 and Step 2895: validation cost=0.00001\n",
      "Global Step 10700 and Step 2945: validation cost=0.00001\n",
      "Global Step 10750 and Step 2995: validation cost=0.00000\n",
      "Updated min validation loss!Saving model...\n",
      "Global Step 10800 and Step 3045: validation cost=0.00000\n",
      "Updated min validation loss!Saving model...\n",
      "Global Step 10850 and Step 3095: validation cost=0.00000\n",
      "Updated min validation loss!Saving model...\n",
      "Global Step 10900 and Step 3145: validation cost=0.00000\n",
      "Global Step 10950 and Step 3195: validation cost=0.00000\n",
      "Updated min validation loss!Saving model...\n",
      "Global Step 11000 and Step 3245: validation cost=0.00000\n",
      "Updated min validation loss!Saving model...\n",
      "Global Step 11050 and Step 3295: validation cost=0.00003\n",
      "Global Step 11100 and Step 3345: validation cost=0.00001\n",
      "Global Step 11150 and Step 3395: validation cost=0.00000\n",
      "Global Step 11200 and Step 3445: validation cost=0.00001\n",
      "Global Step 11250 and Step 3495: validation cost=0.00002\n",
      "Global Step 11300 and Step 3545: validation cost=0.00001\n",
      "Global Step 11350 and Step 3595: validation cost=0.00002\n",
      "Global Step 11400 and Step 3645: validation cost=0.00002\n",
      "Global Step 11450 and Step 3695: validation cost=0.00003\n",
      "Global Step 11500 and Step 3745: validation cost=0.00009\n",
      "Global Step 11550 and Step 3795: validation cost=0.00001\n",
      "Global Step 11600 and Step 3845: validation cost=0.00000\n",
      "Global Step 11650 and Step 3895: validation cost=0.00000\n",
      "Global Step 11700 and Step 3945: validation cost=0.00000\n",
      "Updated min validation loss!Saving model...\n",
      "Global Step 11750 and Step 3995: validation cost=0.00000\n",
      "Global Step 11800 and Step 4045: validation cost=0.00000\n",
      "Global Step 11850 and Step 4095: validation cost=0.00000\n",
      "Global Step 11900 and Step 4145: validation cost=0.00000\n",
      "Global Step 11950 and Step 4195: validation cost=0.00000\n",
      "Global Step 12000 and Step 4245: validation cost=0.00000\n",
      "Global Step 12050 and Step 4295: validation cost=0.00000\n",
      "Global Step 12100 and Step 4345: validation cost=0.00000\n",
      "Global Step 12150 and Step 4395: validation cost=0.00000\n",
      "Global Step 12200 and Step 4445: validation cost=0.00003\n",
      "Global Step 12250 and Step 4495: validation cost=0.00002\n",
      "Global Step 12300 and Step 4545: validation cost=0.00001\n",
      "Global Step 12350 and Step 4595: validation cost=0.00000\n",
      "Global Step 12400 and Step 4645: validation cost=0.00000\n",
      "Global Step 12450 and Step 4695: validation cost=0.00000\n",
      "Updated min validation loss!Saving model...\n",
      "Global Step 12500 and Step 4745: validation cost=0.00000\n",
      "Updated min validation loss!Saving model...\n",
      "Global Step 12550 and Step 4795: validation cost=0.00000\n",
      "Updated min validation loss!Saving model...\n",
      "Global Step 12600 and Step 4845: validation cost=0.00000\n",
      "Global Step 12650 and Step 4895: validation cost=0.00000\n",
      "Global Step 12700 and Step 4945: validation cost=0.00000\n",
      "Global Step 12750 and Step 4995: validation cost=0.00000\n",
      "Global Step 12800 and Step 5045: validation cost=0.00000\n",
      "Global Step 12850 and Step 5095: validation cost=0.00000\n",
      "Global Step 12900 and Step 5145: validation cost=0.00002\n",
      "Global Step 12950 and Step 5195: validation cost=0.00001\n",
      "Global Step 13000 and Step 5245: validation cost=0.00002\n",
      "Global Step 13050 and Step 5295: validation cost=0.00002\n",
      "Global Step 13100 and Step 5345: validation cost=0.00130\n",
      "Global Step 13150 and Step 5395: validation cost=0.00004\n",
      "Global Step 13200 and Step 5445: validation cost=0.00001\n",
      "Global Step 13250 and Step 5495: validation cost=0.00000\n",
      "Global Step 13300 and Step 5545: validation cost=0.00000\n",
      "Early Stopping!!!\n",
      "Restoring the best parameters...\n",
      "Global Step 13350 and Step 0050: validation cost=0.00000\n",
      "Updated min validation loss!Saving model...\n",
      "Global Step 13400 and Step 0100: validation cost=0.00000\n",
      "Updated min validation loss!Saving model...\n",
      "Global Step 13450 and Step 0150: validation cost=0.00000\n",
      "Updated min validation loss!Saving model...\n",
      "Global Step 13500 and Step 0200: validation cost=0.00000\n",
      "Updated min validation loss!Saving model...\n",
      "Global Step 13550 and Step 0250: validation cost=0.00000\n",
      "Updated min validation loss!Saving model...\n",
      "Global Step 13600 and Step 0300: validation cost=0.00000\n",
      "Updated min validation loss!Saving model...\n",
      "Global Step 13650 and Step 0350: validation cost=0.00000\n",
      "Updated min validation loss!Saving model...\n",
      "Global Step 13700 and Step 0400: validation cost=0.00000\n",
      "Updated min validation loss!Saving model...\n",
      "Global Step 13750 and Step 0450: validation cost=0.00000\n",
      "Updated min validation loss!Saving model...\n",
      "Global Step 13800 and Step 0500: validation cost=0.00000\n",
      "Updated min validation loss!Saving model...\n",
      "Global Step 13850 and Step 0550: validation cost=0.00000\n",
      "Updated min validation loss!Saving model...\n",
      "Global Step 13900 and Step 0600: validation cost=0.00000\n",
      "Updated min validation loss!Saving model...\n",
      "Global Step 13950 and Step 0650: validation cost=0.00000\n",
      "Updated min validation loss!Saving model...\n",
      "Global Step 14000 and Step 0700: validation cost=0.00000\n",
      "Updated min validation loss!Saving model...\n",
      "Global Step 14050 and Step 0750: validation cost=0.00000\n",
      "Updated min validation loss!Saving model...\n",
      "Global Step 14100 and Step 0800: validation cost=0.00000\n",
      "Updated min validation loss!Saving model...\n",
      "Global Step 14150 and Step 0850: validation cost=0.00000\n",
      "Updated min validation loss!Saving model...\n",
      "Global Step 14200 and Step 0900: validation cost=0.00000\n",
      "Updated min validation loss!Saving model...\n",
      "Global Step 14250 and Step 0950: validation cost=0.00000\n",
      "Updated min validation loss!Saving model...\n",
      "Global Step 14300 and Step 1000: validation cost=0.00000\n",
      "Updated min validation loss!Saving model...\n",
      "Global Step 14350 and Step 1050: validation cost=0.00000\n",
      "Updated min validation loss!Saving model...\n",
      "Global Step 14400 and Step 1100: validation cost=0.00000\n",
      "Updated min validation loss!Saving model...\n",
      "Global Step 14450 and Step 1150: validation cost=0.00000\n",
      "Updated min validation loss!Saving model...\n",
      "Global Step 14500 and Step 1200: validation cost=0.00000\n",
      "Updated min validation loss!Saving model...\n",
      "Global Step 14550 and Step 1250: validation cost=0.00000\n",
      "Updated min validation loss!Saving model...\n",
      "Global Step 14600 and Step 1300: validation cost=0.00000\n",
      "Updated min validation loss!Saving model...\n",
      "Global Step 14650 and Step 1350: validation cost=0.00000\n",
      "Updated min validation loss!Saving model...\n",
      "Global Step 14700 and Step 1400: validation cost=0.00000\n",
      "Updated min validation loss!Saving model...\n",
      "Global Step 14750 and Step 1450: validation cost=0.00000\n",
      "Updated min validation loss!Saving model...\n",
      "Global Step 14800 and Step 1500: validation cost=0.00000\n",
      "Global Step 14850 and Step 1550: validation cost=0.00000\n",
      "Global Step 14900 and Step 1600: validation cost=0.00000\n",
      "Updated min validation loss!Saving model...\n",
      "Global Step 14950 and Step 1650: validation cost=0.00000\n",
      "Global Step 15000 and Step 1700: validation cost=0.00000\n",
      "Global Step 15050 and Step 1750: validation cost=0.00000\n",
      "Global Step 15100 and Step 1800: validation cost=0.00000\n",
      "Global Step 15150 and Step 1850: validation cost=0.00000\n",
      "Updated min validation loss!Saving model...\n",
      "Global Step 15200 and Step 1900: validation cost=0.00000\n",
      "Global Step 15250 and Step 1950: validation cost=0.00000\n",
      "Global Step 15300 and Step 2000: validation cost=0.00000\n",
      "Global Step 15350 and Step 2050: validation cost=0.00000\n"
     ]
    },
    {
     "ename": "KeyboardInterrupt",
     "evalue": "",
     "output_type": "error",
     "traceback": [
      "\u001b[0;31m---------------------------------------------------------------------------\u001b[0m",
      "\u001b[0;31mKeyboardInterrupt\u001b[0m                         Traceback (most recent call last)",
      "\u001b[0;32m<ipython-input-31-757cc239723d>\u001b[0m in \u001b[0;36m<module>\u001b[0;34m()\u001b[0m\n\u001b[1;32m      4\u001b[0m \u001b[0mmin_error\u001b[0m \u001b[0;34m=\u001b[0m \u001b[0;34m-\u001b[0m\u001b[0;36m1\u001b[0m\u001b[0;34m\u001b[0m\u001b[0m\n\u001b[1;32m      5\u001b[0m \u001b[0;32mfor\u001b[0m \u001b[0mi\u001b[0m \u001b[0;32min\u001b[0m \u001b[0mrange\u001b[0m\u001b[0;34m(\u001b[0m\u001b[0miterations\u001b[0m\u001b[0;34m)\u001b[0m\u001b[0;34m:\u001b[0m\u001b[0;34m\u001b[0m\u001b[0m\n\u001b[0;32m----> 6\u001b[0;31m     \u001b[0mtoy_net2_trainer\u001b[0m\u001b[0;34m.\u001b[0m\u001b[0mtrain\u001b[0m\u001b[0;34m(\u001b[0m\u001b[0mtrain_data\u001b[0m\u001b[0;34m,\u001b[0m \u001b[0mvali_data\u001b[0m\u001b[0;34m,\u001b[0m \u001b[0mbatch_size\u001b[0m\u001b[0;34m=\u001b[0m\u001b[0;36m128\u001b[0m\u001b[0;34m,\u001b[0m \u001b[0mmin_error\u001b[0m\u001b[0;34m=\u001b[0m\u001b[0mmin_error\u001b[0m\u001b[0;34m,\u001b[0m \u001b[0mfeed_dict\u001b[0m\u001b[0;34m=\u001b[0m\u001b[0;34m{\u001b[0m\u001b[0mtoy_data_net2\u001b[0m\u001b[0;34m.\u001b[0m\u001b[0mlr\u001b[0m\u001b[0;34m:\u001b[0m \u001b[0mlearning_rate\u001b[0m\u001b[0;34m}\u001b[0m\u001b[0;34m)\u001b[0m\u001b[0;34m\u001b[0m\u001b[0m\n\u001b[0m\u001b[1;32m      7\u001b[0m     \u001b[0mlearning_rate\u001b[0m \u001b[0;34m=\u001b[0m \u001b[0mlearning_rate\u001b[0m\u001b[0;34m/\u001b[0m\u001b[0;36m3\u001b[0m\u001b[0;34m\u001b[0m\u001b[0m\n",
      "\u001b[0;32m/src/Plasticity_Ker/PlasticityKer/modelval/trainer.py\u001b[0m in \u001b[0;36mtrain\u001b[0;34m(self, train_data, vali_data, batch_size, save_model_freq, vali_freq, min_error, burn_in_steps, early_stopping_steps, max_steps, load_best, feed_dict)\u001b[0m\n\u001b[1;32m    121\u001b[0m                 \u001b[0mx_train_batch\u001b[0m\u001b[0;34m,\u001b[0m \u001b[0my_train_batch\u001b[0m \u001b[0;34m=\u001b[0m \u001b[0mtrain_data\u001b[0m\u001b[0;34m.\u001b[0m\u001b[0mnext_batch\u001b[0m\u001b[0;34m(\u001b[0m\u001b[0mbatch_size\u001b[0m\u001b[0;34m)\u001b[0m\u001b[0;34m\u001b[0m\u001b[0m\n\u001b[1;32m    122\u001b[0m                 \u001b[0mfd\u001b[0m \u001b[0;34m=\u001b[0m \u001b[0mself\u001b[0m\u001b[0;34m.\u001b[0m\u001b[0mmake_feed_dict\u001b[0m\u001b[0;34m(\u001b[0m\u001b[0mx_train_batch\u001b[0m\u001b[0;34m,\u001b[0m \u001b[0my_train_batch\u001b[0m\u001b[0;34m,\u001b[0m \u001b[0mfeed_dict\u001b[0m\u001b[0;34m=\u001b[0m\u001b[0mfeed_dict\u001b[0m\u001b[0;34m)\u001b[0m\u001b[0;34m\u001b[0m\u001b[0m\n\u001b[0;32m--> 123\u001b[0;31m                 \u001b[0m_\u001b[0m\u001b[0;34m,\u001b[0m \u001b[0mglobal_step\u001b[0m \u001b[0;34m=\u001b[0m \u001b[0msess\u001b[0m\u001b[0;34m.\u001b[0m\u001b[0mrun\u001b[0m\u001b[0;34m(\u001b[0m\u001b[0;34m[\u001b[0m\u001b[0mself\u001b[0m\u001b[0;34m.\u001b[0m\u001b[0mtrain_step\u001b[0m\u001b[0;34m,\u001b[0m \u001b[0mself\u001b[0m\u001b[0;34m.\u001b[0m\u001b[0mglobal_step\u001b[0m\u001b[0;34m]\u001b[0m\u001b[0;34m,\u001b[0m \u001b[0mfeed_dict\u001b[0m\u001b[0;34m=\u001b[0m\u001b[0mfd\u001b[0m\u001b[0;34m)\u001b[0m\u001b[0;34m\u001b[0m\u001b[0m\n\u001b[0m\u001b[1;32m    124\u001b[0m \u001b[0;34m\u001b[0m\u001b[0m\n\u001b[1;32m    125\u001b[0m                 \u001b[0;32mif\u001b[0m \u001b[0mglobal_step\u001b[0m \u001b[0;34m>\u001b[0m \u001b[0mburn_in_steps\u001b[0m \u001b[0;32mand\u001b[0m \u001b[0mglobal_step\u001b[0m \u001b[0;34m%\u001b[0m \u001b[0mvali_freq\u001b[0m \u001b[0;34m==\u001b[0m \u001b[0;36m0\u001b[0m\u001b[0;34m:\u001b[0m\u001b[0;34m\u001b[0m\u001b[0m\n",
      "\u001b[0;32m/usr/local/lib/python3.5/dist-packages/tensorflow/python/client/session.py\u001b[0m in \u001b[0;36mrun\u001b[0;34m(self, fetches, feed_dict, options, run_metadata)\u001b[0m\n\u001b[1;32m    765\u001b[0m     \u001b[0;32mtry\u001b[0m\u001b[0;34m:\u001b[0m\u001b[0;34m\u001b[0m\u001b[0m\n\u001b[1;32m    766\u001b[0m       result = self._run(None, fetches, feed_dict, options_ptr,\n\u001b[0;32m--> 767\u001b[0;31m                          run_metadata_ptr)\n\u001b[0m\u001b[1;32m    768\u001b[0m       \u001b[0;32mif\u001b[0m \u001b[0mrun_metadata\u001b[0m\u001b[0;34m:\u001b[0m\u001b[0;34m\u001b[0m\u001b[0m\n\u001b[1;32m    769\u001b[0m         \u001b[0mproto_data\u001b[0m \u001b[0;34m=\u001b[0m \u001b[0mtf_session\u001b[0m\u001b[0;34m.\u001b[0m\u001b[0mTF_GetBuffer\u001b[0m\u001b[0;34m(\u001b[0m\u001b[0mrun_metadata_ptr\u001b[0m\u001b[0;34m)\u001b[0m\u001b[0;34m\u001b[0m\u001b[0m\n",
      "\u001b[0;32m/usr/local/lib/python3.5/dist-packages/tensorflow/python/client/session.py\u001b[0m in \u001b[0;36m_run\u001b[0;34m(self, handle, fetches, feed_dict, options, run_metadata)\u001b[0m\n\u001b[1;32m    963\u001b[0m     \u001b[0;32mif\u001b[0m \u001b[0mfinal_fetches\u001b[0m \u001b[0;32mor\u001b[0m \u001b[0mfinal_targets\u001b[0m\u001b[0;34m:\u001b[0m\u001b[0;34m\u001b[0m\u001b[0m\n\u001b[1;32m    964\u001b[0m       results = self._do_run(handle, final_targets, final_fetches,\n\u001b[0;32m--> 965\u001b[0;31m                              feed_dict_string, options, run_metadata)\n\u001b[0m\u001b[1;32m    966\u001b[0m     \u001b[0;32melse\u001b[0m\u001b[0;34m:\u001b[0m\u001b[0;34m\u001b[0m\u001b[0m\n\u001b[1;32m    967\u001b[0m       \u001b[0mresults\u001b[0m \u001b[0;34m=\u001b[0m \u001b[0;34m[\u001b[0m\u001b[0;34m]\u001b[0m\u001b[0;34m\u001b[0m\u001b[0m\n",
      "\u001b[0;32m/usr/local/lib/python3.5/dist-packages/tensorflow/python/client/session.py\u001b[0m in \u001b[0;36m_do_run\u001b[0;34m(self, handle, target_list, fetch_list, feed_dict, options, run_metadata)\u001b[0m\n\u001b[1;32m   1013\u001b[0m     \u001b[0;32mif\u001b[0m \u001b[0mhandle\u001b[0m \u001b[0;32mis\u001b[0m \u001b[0;32mNone\u001b[0m\u001b[0;34m:\u001b[0m\u001b[0;34m\u001b[0m\u001b[0m\n\u001b[1;32m   1014\u001b[0m       return self._do_call(_run_fn, self._session, feed_dict, fetch_list,\n\u001b[0;32m-> 1015\u001b[0;31m                            target_list, options, run_metadata)\n\u001b[0m\u001b[1;32m   1016\u001b[0m     \u001b[0;32melse\u001b[0m\u001b[0;34m:\u001b[0m\u001b[0;34m\u001b[0m\u001b[0m\n\u001b[1;32m   1017\u001b[0m       return self._do_call(_prun_fn, self._session, handle, feed_dict,\n",
      "\u001b[0;32m/usr/local/lib/python3.5/dist-packages/tensorflow/python/client/session.py\u001b[0m in \u001b[0;36m_do_call\u001b[0;34m(self, fn, *args)\u001b[0m\n\u001b[1;32m   1020\u001b[0m   \u001b[0;32mdef\u001b[0m \u001b[0m_do_call\u001b[0m\u001b[0;34m(\u001b[0m\u001b[0mself\u001b[0m\u001b[0;34m,\u001b[0m \u001b[0mfn\u001b[0m\u001b[0;34m,\u001b[0m \u001b[0;34m*\u001b[0m\u001b[0margs\u001b[0m\u001b[0;34m)\u001b[0m\u001b[0;34m:\u001b[0m\u001b[0;34m\u001b[0m\u001b[0m\n\u001b[1;32m   1021\u001b[0m     \u001b[0;32mtry\u001b[0m\u001b[0;34m:\u001b[0m\u001b[0;34m\u001b[0m\u001b[0m\n\u001b[0;32m-> 1022\u001b[0;31m       \u001b[0;32mreturn\u001b[0m \u001b[0mfn\u001b[0m\u001b[0;34m(\u001b[0m\u001b[0;34m*\u001b[0m\u001b[0margs\u001b[0m\u001b[0;34m)\u001b[0m\u001b[0;34m\u001b[0m\u001b[0m\n\u001b[0m\u001b[1;32m   1023\u001b[0m     \u001b[0;32mexcept\u001b[0m \u001b[0merrors\u001b[0m\u001b[0;34m.\u001b[0m\u001b[0mOpError\u001b[0m \u001b[0;32mas\u001b[0m \u001b[0me\u001b[0m\u001b[0;34m:\u001b[0m\u001b[0;34m\u001b[0m\u001b[0m\n\u001b[1;32m   1024\u001b[0m       \u001b[0mmessage\u001b[0m \u001b[0;34m=\u001b[0m \u001b[0mcompat\u001b[0m\u001b[0;34m.\u001b[0m\u001b[0mas_text\u001b[0m\u001b[0;34m(\u001b[0m\u001b[0me\u001b[0m\u001b[0;34m.\u001b[0m\u001b[0mmessage\u001b[0m\u001b[0;34m)\u001b[0m\u001b[0;34m\u001b[0m\u001b[0m\n",
      "\u001b[0;32m/usr/local/lib/python3.5/dist-packages/tensorflow/python/client/session.py\u001b[0m in \u001b[0;36m_run_fn\u001b[0;34m(session, feed_dict, fetch_list, target_list, options, run_metadata)\u001b[0m\n\u001b[1;32m   1002\u001b[0m         return tf_session.TF_Run(session, options,\n\u001b[1;32m   1003\u001b[0m                                  \u001b[0mfeed_dict\u001b[0m\u001b[0;34m,\u001b[0m \u001b[0mfetch_list\u001b[0m\u001b[0;34m,\u001b[0m \u001b[0mtarget_list\u001b[0m\u001b[0;34m,\u001b[0m\u001b[0;34m\u001b[0m\u001b[0m\n\u001b[0;32m-> 1004\u001b[0;31m                                  status, run_metadata)\n\u001b[0m\u001b[1;32m   1005\u001b[0m \u001b[0;34m\u001b[0m\u001b[0m\n\u001b[1;32m   1006\u001b[0m     \u001b[0;32mdef\u001b[0m \u001b[0m_prun_fn\u001b[0m\u001b[0;34m(\u001b[0m\u001b[0msession\u001b[0m\u001b[0;34m,\u001b[0m \u001b[0mhandle\u001b[0m\u001b[0;34m,\u001b[0m \u001b[0mfeed_dict\u001b[0m\u001b[0;34m,\u001b[0m \u001b[0mfetch_list\u001b[0m\u001b[0;34m)\u001b[0m\u001b[0;34m:\u001b[0m\u001b[0;34m\u001b[0m\u001b[0m\n",
      "\u001b[0;31mKeyboardInterrupt\u001b[0m: "
     ]
    }
   ],
   "source": [
    "# Learn the kernel from random initialization\n",
    "learning_rate = 0.001\n",
    "iterations = 5\n",
    "min_error = -1\n",
    "for i in range(iterations):\n",
    "    toy_net2_trainer.train(train_data, vali_data, batch_size=128, min_error=min_error, feed_dict={toy_data_net2.lr: learning_rate})\n",
    "    learning_rate = learning_rate/3"
   ]
  },
  {
   "cell_type": "code",
   "execution_count": 32,
   "metadata": {
    "collapsed": false,
    "deletable": true,
    "editable": true
   },
   "outputs": [
    {
     "data": {
      "text/plain": [
       "-2.1076619e-07"
      ]
     },
     "execution_count": 32,
     "metadata": {},
     "output_type": "execute_result"
    },
    {
     "name": "stderr",
     "output_type": "stream",
     "text": [
      "/usr/local/lib/python3.5/dist-packages/matplotlib/font_manager.py:1297: UserWarning: findfont: Font family ['sans-serif'] not found. Falling back to DejaVu Sans\n",
      "  (prop.get_family(), self.defaultFamily[fontext]))\n"
     ]
    },
    {
     "data": {
      "image/png": "[encoded data removed]",
      "text/plain": [
       "<matplotlib.figure.Figure at 0x7f4852eff128>"
      ]
     },
     "metadata": {},
     "output_type": "display_data"
    }
   ],
   "source": [
    "w_pre = toy_net2_trainer.evaluate(ops=toy_data_net2.kernel_pre)\n",
    "w_post = toy_net2_trainer.evaluate(ops=toy_data_net2.kernel_post)\n",
    "w_post_post = toy_net2_trainer.evaluate(ops=toy_data_net2.kernel_post_post)\n",
    "plt.plot(w_pre, label='ker_pre_trained')\n",
    "plt.plot(w_post, label='ker_post_trained')\n",
    "plt.plot(w_post_post, label='ker_post_post_trained')\n",
    "bias = toy_net2_trainer.evaluate(ops=toy_data_net2.bias)\n",
    "plt.legend()\n",
    "bias"
   ]
  },
  {
   "cell_type": "code",
   "execution_count": null,
   "metadata": {
    "collapsed": true,
    "deletable": true,
    "editable": true
   },
   "outputs": [],
   "source": []
  }
 ],
 "metadata": {
  "kernelspec": {
   "display_name": "Python 3",
   "language": "python",
   "name": "python3"
  },
  "language_info": {
   "codemirror_mode": {
    "name": "ipython",
    "version": 3
   },
   "file_extension": ".py",
   "mimetype": "text/x-python",
   "name": "python",
   "nbconvert_exporter": "python",
   "pygments_lexer": "ipython3",
   "version": "3.5.2"
  }
 },
 "nbformat": 4,
 "nbformat_minor": 2
}

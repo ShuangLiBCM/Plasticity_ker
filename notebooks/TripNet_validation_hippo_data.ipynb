{
 "cells": [
  {
   "cell_type": "code",
   "execution_count": 1,
   "metadata": {
    "collapsed": false,
    "deletable": true,
    "editable": true
   },
   "outputs": [],
   "source": [
    "import numpy as np\n",
    "import pandas as pd\n",
    "import matplotlib.pyplot as plt\n",
    "import seaborn as sns\n",
    "import tensorflow as tf\n",
    "from modelval import pairptl, network, trainer, dataset\n",
    "from modelval.ArbDataGen import arb_w_gen\n",
    "\n",
    "% matplotlib inline\n",
    "%load_ext autoreload\n",
    "%autoreload 2"
   ]
  },
  {
   "cell_type": "code",
   "execution_count": 2,
   "metadata": {
    "collapsed": false,
    "deletable": true,
    "editable": true
   },
   "outputs": [
    {
     "data": {
      "text/plain": [
       "<matplotlib.legend.Legend at 0x7faefec30358>"
      ]
     },
     "execution_count": 2,
     "metadata": {},
     "output_type": "execute_result"
    },
    {
     "name": "stderr",
     "output_type": "stream",
     "text": [
      "/usr/local/lib/python3.5/dist-packages/matplotlib/font_manager.py:1297: UserWarning: findfont: Font family ['sans-serif'] not found. Falling back to DejaVu Sans\n",
      "  (prop.get_family(), self.defaultFamily[fontext]))\n"
     ]
    },
    {
     "data": {
      "image/png": "[encoded data removed]",
      "text/plain": [
       "<matplotlib.figure.Figure at 0x7faf00cc8240>"
      ]
     },
     "metadata": {},
     "output_type": "display_data"
    }
   ],
   "source": [
    "# Visualize kernel\n",
    "from modelval.kernel import KernelGen\n",
    "plt.figure(figsize=(5,3))\n",
    "ker_test = KernelGen()\n",
    "ker_test.kernel_pre = KernelGen().uni_exp_ker(side='left', tau=5, scale=0.1)\n",
    "ker_test.kernel_post = KernelGen().uni_exp_ker(side='left', tau=7, scale=0.15)\n",
    "ker_test.kernel_post_post = KernelGen().uni_exp_ker(side='left', tau=10, scale=0.5)\n",
    "plt.plot(ker_test.kernel_pre, label='ker_pre')\n",
    "plt.plot(ker_test.kernel_post, label='ker_post')\n",
    "plt.plot(ker_test.kernel_post_post, label='ker_post_post')\n",
    "plt.legend()"
   ]
  },
  {
   "cell_type": "code",
   "execution_count": 3,
   "metadata": {
    "collapsed": false,
    "deletable": true,
    "editable": true
   },
   "outputs": [
    {
     "data": {
      "text/html": [
       "<div>\n",
       "<table border=\"1\" class=\"dataframe\">\n",
       "  <thead>\n",
       "    <tr style=\"text-align: right;\">\n",
       "      <th></th>\n",
       "      <th>ptl_idx</th>\n",
       "      <th>pre_spk_num</th>\n",
       "      <th>pre_spk_freq</th>\n",
       "      <th>post_spk_num</th>\n",
       "      <th>post_spk_freq</th>\n",
       "      <th>ptl_occ</th>\n",
       "      <th>ptl_freq</th>\n",
       "      <th>dt1</th>\n",
       "      <th>dt2</th>\n",
       "      <th>dt3</th>\n",
       "      <th>dw_mean</th>\n",
       "      <th>dw_ste</th>\n",
       "      <th>train_len</th>\n",
       "    </tr>\n",
       "  </thead>\n",
       "  <tbody>\n",
       "    <tr>\n",
       "      <th>0</th>\n",
       "      <td>1</td>\n",
       "      <td>1</td>\n",
       "      <td>0</td>\n",
       "      <td>1</td>\n",
       "      <td>0</td>\n",
       "      <td>60</td>\n",
       "      <td>1.0</td>\n",
       "      <td>-102.898046</td>\n",
       "      <td>0.0</td>\n",
       "      <td>0</td>\n",
       "      <td>-1.322590</td>\n",
       "      <td>0.0</td>\n",
       "      <td>60.0</td>\n",
       "    </tr>\n",
       "    <tr>\n",
       "      <th>1</th>\n",
       "      <td>1</td>\n",
       "      <td>1</td>\n",
       "      <td>0</td>\n",
       "      <td>1</td>\n",
       "      <td>0</td>\n",
       "      <td>60</td>\n",
       "      <td>1.0</td>\n",
       "      <td>-75.579896</td>\n",
       "      <td>0.0</td>\n",
       "      <td>0</td>\n",
       "      <td>2.674768</td>\n",
       "      <td>0.0</td>\n",
       "      <td>60.0</td>\n",
       "    </tr>\n",
       "    <tr>\n",
       "      <th>2</th>\n",
       "      <td>1</td>\n",
       "      <td>1</td>\n",
       "      <td>0</td>\n",
       "      <td>1</td>\n",
       "      <td>0</td>\n",
       "      <td>60</td>\n",
       "      <td>1.0</td>\n",
       "      <td>-80.871473</td>\n",
       "      <td>0.0</td>\n",
       "      <td>0</td>\n",
       "      <td>-12.696449</td>\n",
       "      <td>0.0</td>\n",
       "      <td>60.0</td>\n",
       "    </tr>\n",
       "    <tr>\n",
       "      <th>3</th>\n",
       "      <td>1</td>\n",
       "      <td>1</td>\n",
       "      <td>0</td>\n",
       "      <td>1</td>\n",
       "      <td>0</td>\n",
       "      <td>60</td>\n",
       "      <td>1.0</td>\n",
       "      <td>-67.562239</td>\n",
       "      <td>0.0</td>\n",
       "      <td>0</td>\n",
       "      <td>0.231446</td>\n",
       "      <td>0.0</td>\n",
       "      <td>60.0</td>\n",
       "    </tr>\n",
       "    <tr>\n",
       "      <th>4</th>\n",
       "      <td>1</td>\n",
       "      <td>1</td>\n",
       "      <td>0</td>\n",
       "      <td>1</td>\n",
       "      <td>0</td>\n",
       "      <td>60</td>\n",
       "      <td>1.0</td>\n",
       "      <td>-63.553410</td>\n",
       "      <td>0.0</td>\n",
       "      <td>0</td>\n",
       "      <td>-0.990216</td>\n",
       "      <td>0.0</td>\n",
       "      <td>60.0</td>\n",
       "    </tr>\n",
       "  </tbody>\n",
       "</table>\n",
       "</div>"
      ],
      "text/plain": [
       "   ptl_idx  pre_spk_num  pre_spk_freq  post_spk_num  post_spk_freq  ptl_occ  \\\n",
       "0        1            1             0             1              0       60   \n",
       "1        1            1             0             1              0       60   \n",
       "2        1            1             0             1              0       60   \n",
       "3        1            1             0             1              0       60   \n",
       "4        1            1             0             1              0       60   \n",
       "\n",
       "   ptl_freq         dt1  dt2  dt3    dw_mean  dw_ste  train_len  \n",
       "0       1.0 -102.898046  0.0    0  -1.322590     0.0       60.0  \n",
       "1       1.0  -75.579896  0.0    0   2.674768     0.0       60.0  \n",
       "2       1.0  -80.871473  0.0    0 -12.696449     0.0       60.0  \n",
       "3       1.0  -67.562239  0.0    0   0.231446     0.0       60.0  \n",
       "4       1.0  -63.553410  0.0    0  -0.990216     0.0       60.0  "
      ]
     },
     "execution_count": 3,
     "metadata": {},
     "output_type": "execute_result"
    }
   ],
   "source": [
    "# Load data frame\n",
    "data = pd.read_csv('/src/Plasticity_Ker/data/kernel_training_data_auto.csv')\n",
    "data['train_len'] = data['ptl_occ'] / data['ptl_freq']\n",
    "data.head()"
   ]
  },
  {
   "cell_type": "code",
   "execution_count": 4,
   "metadata": {
    "collapsed": false,
    "deletable": true,
    "editable": true
   },
   "outputs": [],
   "source": [
    "# Generate data\n",
    "ptl_list = [1,2,3,4]\n",
    "data_select = data[data['ptl_idx'].isin(ptl_list)]\n",
    "\n",
    "# Insert values for STDP\n",
    "dt = np.arange(-100,100,2)\n",
    "for i in range(len(dt)):\n",
    "    new_try1 = data[data['ptl_idx']==1].iloc[0]\n",
    "    new_try1['dt1'] = dt[i]\n",
    "    data_select = data_select.append(new_try1, ignore_index=True)\n",
    "\n",
    "# Insert values for Quadruplet protocol\n",
    "for i in range(len(dt)):\n",
    "    if np.abs(dt[i])>10:\n",
    "        new_try2 = data[data['ptl_idx']==3].iloc[0]\n",
    "        new_try2['dt2'] = dt[i]\n",
    "        data_select = data_select.append(new_try2, ignore_index=True)\n",
    "    \n",
    "spk_len = int(data[data['ptl_idx'].isin(ptl_list)]['train_len'].max() * 1000 / ker_test.reso_kernel)\n",
    "spk_pairs, targets = arb_w_gen(df=data_select, ptl_list=[1,2,3,4], spk_len=spk_len, kernel=ker_test, aug_times=[10,10,10,10], net_type='triplet')"
   ]
  },
  {
   "cell_type": "code",
   "execution_count": 5,
   "metadata": {
    "collapsed": false,
    "deletable": true,
    "editable": true
   },
   "outputs": [
    {
     "data": {
      "text/plain": [
       "(3320, 30000, 2)"
      ]
     },
     "execution_count": 5,
     "metadata": {},
     "output_type": "execute_result"
    }
   ],
   "source": [
    "spk_pairs.shape"
   ]
  },
  {
   "cell_type": "code",
   "execution_count": 6,
   "metadata": {
    "collapsed": false,
    "deletable": true,
    "editable": true
   },
   "outputs": [],
   "source": [
    "# Create the network\n",
    "ground_truth_init = 0\n",
    "toy_data_net2 = network.TripNet(kernel=ker_test, ground_truth_init=ground_truth_init, n_input=spk_pairs.shape[1])"
   ]
  },
  {
   "cell_type": "code",
   "execution_count": 7,
   "metadata": {
    "collapsed": false,
    "deletable": true,
    "editable": true
   },
   "outputs": [],
   "source": [
    "# Create the trainer\n",
    "save_dir= '/src/Plasticity_Ker/model/TripNet_ptl1-4_toy'\n",
    "toy_net2_trainer = trainer.Trainer(toy_data_net2.loss, input_name=toy_data_net2.inputs, target_name=toy_data_net2.target, save_dir=save_dir, optimizer_config={'learning_rate': toy_data_net2.lr})"
   ]
  },
  {
   "cell_type": "code",
   "execution_count": 8,
   "metadata": {
    "collapsed": false,
    "deletable": true,
    "editable": true
   },
   "outputs": [],
   "source": [
    "# Obtain the training and validation data\n",
    "from sklearn.model_selection import train_test_split\n",
    "\n",
    "X_train, X_vali, y_train, y_vali = train_test_split(spk_pairs, targets, test_size=0.1)\n",
    "train_data = dataset.Dataset(X_train, y_train)\n",
    "vali_data = dataset.Dataset(X_vali, y_vali)"
   ]
  },
  {
   "cell_type": "code",
   "execution_count": 9,
   "metadata": {
    "collapsed": false,
    "deletable": true,
    "editable": true
   },
   "outputs": [
    {
     "data": {
      "text/plain": [
       "<matplotlib.legend.Legend at 0x7fae8c1daa58>"
      ]
     },
     "execution_count": 9,
     "metadata": {},
     "output_type": "execute_result"
    },
    {
     "name": "stderr",
     "output_type": "stream",
     "text": [
      "/usr/local/lib/python3.5/dist-packages/matplotlib/font_manager.py:1297: UserWarning: findfont: Font family ['sans-serif'] not found. Falling back to DejaVu Sans\n",
      "  (prop.get_family(), self.defaultFamily[fontext]))\n"
     ]
    },
    {
     "data": {
      "image/png": "[encoded data removed]",
      "text/plain": [
       "<matplotlib.figure.Figure at 0x7fae8d4c66d8>"
      ]
     },
     "metadata": {},
     "output_type": "display_data"
    }
   ],
   "source": [
    "w_pre = toy_net2_trainer.evaluate(ops=toy_data_net2.kernel_pre)\n",
    "w_post = toy_net2_trainer.evaluate(ops=toy_data_net2.kernel_post)\n",
    "w_post_post = toy_net2_trainer.evaluate(ops=toy_data_net2.kernel_post_post)\n",
    "plt.plot(w_pre, label='ker_pre_init')\n",
    "plt.plot(w_post, label='ker_post_init')\n",
    "plt.plot(w_post_post, label='ker_post_post_init')\n",
    "# bias = toy_net2_trainer.evaluate(ops=toy_data_net2.bias)\n",
    "plt.legend()\n",
    "# bias"
   ]
  },
  {
   "cell_type": "code",
   "execution_count": 12,
   "metadata": {
    "collapsed": false,
    "deletable": true,
    "editable": true,
    "scrolled": true
   },
   "outputs": [
    {
     "name": "stdout",
     "output_type": "stream",
     "text": [
      "Global Step 6750 and Step 0004: validation cost=0.00002\n",
      "Updated min validation loss!Saving model...\n",
      "Global Step 6800 and Step 0054: validation cost=0.00003\n",
      "Global Step 6850 and Step 0104: validation cost=0.00002\n",
      "Updated min validation loss!Saving model...\n",
      "Global Step 6900 and Step 0154: validation cost=0.00001\n",
      "Updated min validation loss!Saving model...\n",
      "Global Step 6950 and Step 0204: validation cost=0.00001\n",
      "Updated min validation loss!Saving model...\n",
      "Global Step 7000 and Step 0254: validation cost=0.00001\n",
      "Global Step 7050 and Step 0304: validation cost=0.00001\n",
      "Updated min validation loss!Saving model...\n",
      "Global Step 7100 and Step 0354: validation cost=0.00001\n",
      "Updated min validation loss!Saving model...\n",
      "Global Step 7150 and Step 0404: validation cost=0.00001\n",
      "Global Step 7200 and Step 0454: validation cost=0.00001\n",
      "Global Step 7250 and Step 0504: validation cost=0.00001\n",
      "Updated min validation loss!Saving model...\n",
      "Global Step 7300 and Step 0554: validation cost=0.00000\n",
      "Updated min validation loss!Saving model...\n",
      "Global Step 7350 and Step 0604: validation cost=0.00000\n",
      "Updated min validation loss!Saving model...\n",
      "Global Step 7400 and Step 0654: validation cost=0.00000\n",
      "Global Step 7450 and Step 0704: validation cost=0.00000\n",
      "Global Step 7500 and Step 0754: validation cost=0.00000\n",
      "Updated min validation loss!Saving model...\n",
      "Global Step 7550 and Step 0804: validation cost=0.00000\n",
      "Global Step 7600 and Step 0854: validation cost=0.00000\n",
      "Updated min validation loss!Saving model...\n",
      "Global Step 7650 and Step 0904: validation cost=0.00000\n",
      "Updated min validation loss!Saving model...\n",
      "Global Step 7700 and Step 0954: validation cost=0.00000\n",
      "Global Step 7750 and Step 1004: validation cost=0.00000\n",
      "Updated min validation loss!Saving model...\n",
      "Global Step 7800 and Step 1054: validation cost=0.00000\n",
      "Updated min validation loss!Saving model...\n",
      "Global Step 7850 and Step 1104: validation cost=0.00000\n",
      "Updated min validation loss!Saving model...\n",
      "Global Step 7900 and Step 1154: validation cost=0.00000\n",
      "Updated min validation loss!Saving model...\n",
      "Global Step 7950 and Step 1204: validation cost=0.00000\n",
      "Updated min validation loss!Saving model...\n",
      "Global Step 8000 and Step 1254: validation cost=0.00000\n",
      "Updated min validation loss!Saving model...\n",
      "Global Step 8050 and Step 1304: validation cost=0.00000\n",
      "Global Step 8100 and Step 1354: validation cost=0.00000\n",
      "Global Step 8150 and Step 1404: validation cost=0.00000\n",
      "Updated min validation loss!Saving model...\n",
      "Global Step 8200 and Step 1454: validation cost=0.00000\n",
      "Global Step 8250 and Step 1504: validation cost=0.00000\n",
      "Global Step 8300 and Step 1554: validation cost=0.00000\n",
      "Updated min validation loss!Saving model...\n",
      "Global Step 8350 and Step 1604: validation cost=0.00000\n",
      "Updated min validation loss!Saving model...\n",
      "Global Step 8400 and Step 1654: validation cost=0.00000\n",
      "Global Step 8450 and Step 1704: validation cost=0.00000\n",
      "Global Step 8500 and Step 1754: validation cost=0.00000\n",
      "Updated min validation loss!Saving model...\n",
      "Global Step 8550 and Step 1804: validation cost=0.00000\n",
      "Updated min validation loss!Saving model...\n",
      "Global Step 8600 and Step 1854: validation cost=0.00000\n",
      "Global Step 8650 and Step 1904: validation cost=0.00000\n",
      "Global Step 8700 and Step 1954: validation cost=0.00000\n",
      "Global Step 8750 and Step 2004: validation cost=0.00000\n",
      "Global Step 8800 and Step 2054: validation cost=0.00000\n",
      "Global Step 8850 and Step 2104: validation cost=0.00000\n",
      "Global Step 8900 and Step 2154: validation cost=0.00000\n",
      "Updated min validation loss!Saving model...\n",
      "Global Step 8950 and Step 2204: validation cost=0.00000\n",
      "Global Step 9000 and Step 2254: validation cost=0.00000\n",
      "Updated min validation loss!Saving model...\n",
      "Global Step 9050 and Step 2304: validation cost=0.00000\n",
      "Global Step 9100 and Step 2354: validation cost=0.00000\n",
      "Updated min validation loss!Saving model...\n",
      "Global Step 9150 and Step 2404: validation cost=0.00000\n",
      "Global Step 9200 and Step 2454: validation cost=0.00000\n",
      "Updated min validation loss!Saving model...\n",
      "Global Step 9250 and Step 2504: validation cost=0.00000\n",
      "Global Step 9300 and Step 2554: validation cost=0.00000\n",
      "Global Step 9350 and Step 2604: validation cost=0.00000\n",
      "Global Step 9400 and Step 2654: validation cost=0.00000\n",
      "Global Step 9450 and Step 2704: validation cost=0.00001\n",
      "Global Step 9500 and Step 2754: validation cost=0.00000\n",
      "Global Step 9550 and Step 2804: validation cost=0.00000\n",
      "Global Step 9600 and Step 2854: validation cost=0.00024\n",
      "Global Step 9650 and Step 2904: validation cost=0.00038\n",
      "Global Step 9700 and Step 2954: validation cost=0.00015\n",
      "Global Step 9750 and Step 3004: validation cost=0.00009\n",
      "Global Step 9800 and Step 3054: validation cost=0.00011\n",
      "Global Step 9850 and Step 3104: validation cost=0.00001\n",
      "Global Step 9900 and Step 3154: validation cost=0.00001\n",
      "Global Step 9950 and Step 3204: validation cost=0.00001\n",
      "Early Stopping!!!\n",
      "Restoring the best parameters...\n",
      "Global Step 10000 and Step 0050: validation cost=0.00000\n",
      "Updated min validation loss!Saving model...\n",
      "Global Step 10050 and Step 0100: validation cost=0.00000\n",
      "Global Step 10100 and Step 0150: validation cost=0.00000\n",
      "Global Step 10150 and Step 0200: validation cost=0.00000\n",
      "Updated min validation loss!Saving model...\n",
      "Global Step 10200 and Step 0250: validation cost=0.00000\n",
      "Updated min validation loss!Saving model...\n",
      "Global Step 10250 and Step 0300: validation cost=0.00000\n",
      "Updated min validation loss!Saving model...\n",
      "Global Step 10300 and Step 0350: validation cost=0.00000\n",
      "Global Step 10350 and Step 0400: validation cost=0.00000\n",
      "Updated min validation loss!Saving model...\n",
      "Global Step 10400 and Step 0450: validation cost=0.00000\n",
      "Updated min validation loss!Saving model...\n",
      "Global Step 10450 and Step 0500: validation cost=0.00000\n",
      "Global Step 10500 and Step 0550: validation cost=0.00000\n",
      "Global Step 10550 and Step 0600: validation cost=0.00000\n",
      "Global Step 10600 and Step 0650: validation cost=0.00000\n",
      "Updated min validation loss!Saving model...\n",
      "Global Step 10650 and Step 0700: validation cost=0.00000\n",
      "Global Step 10700 and Step 0750: validation cost=0.00000\n",
      "Global Step 10750 and Step 0800: validation cost=0.00000\n",
      "Updated min validation loss!Saving model...\n",
      "Global Step 10800 and Step 0850: validation cost=0.00000\n",
      "Global Step 10850 and Step 0900: validation cost=0.00000\n",
      "Global Step 10900 and Step 0950: validation cost=0.00000\n",
      "Global Step 10950 and Step 1000: validation cost=0.00000\n",
      "Updated min validation loss!Saving model...\n",
      "Global Step 11000 and Step 1050: validation cost=0.00000\n",
      "Updated min validation loss!Saving model...\n",
      "Global Step 11050 and Step 1100: validation cost=0.00000\n",
      "Updated min validation loss!Saving model...\n",
      "Global Step 11100 and Step 1150: validation cost=0.00000\n",
      "Global Step 11150 and Step 1200: validation cost=0.00000\n",
      "Global Step 11200 and Step 1250: validation cost=0.00000\n",
      "Global Step 11250 and Step 1300: validation cost=0.00000\n",
      "Updated min validation loss!Saving model...\n",
      "Global Step 11300 and Step 1350: validation cost=0.00000\n",
      "Global Step 11350 and Step 1400: validation cost=0.00000\n",
      "Global Step 11400 and Step 1450: validation cost=0.00000\n",
      "Updated min validation loss!Saving model...\n",
      "Global Step 11450 and Step 1500: validation cost=0.00000\n",
      "Updated min validation loss!Saving model...\n",
      "Global Step 11500 and Step 1550: validation cost=0.00000\n",
      "Global Step 11550 and Step 1600: validation cost=0.00000\n",
      "Global Step 11600 and Step 1650: validation cost=0.00000\n",
      "Global Step 11650 and Step 1700: validation cost=0.00000\n",
      "Global Step 11700 and Step 1750: validation cost=0.00000\n",
      "Global Step 11750 and Step 1800: validation cost=0.00000\n",
      "Global Step 11800 and Step 1850: validation cost=0.00000\n",
      "Global Step 11850 and Step 1900: validation cost=0.00000\n",
      "Global Step 11900 and Step 1950: validation cost=0.00000\n",
      "Global Step 11950 and Step 2000: validation cost=0.00000\n",
      "Global Step 12000 and Step 2050: validation cost=0.00000\n",
      "Global Step 12050 and Step 2100: validation cost=0.00000\n",
      "Global Step 12100 and Step 2150: validation cost=0.00000\n",
      "Global Step 12150 and Step 2200: validation cost=0.00000\n",
      "Global Step 12200 and Step 2250: validation cost=0.00000\n",
      "Early Stopping!!!\n",
      "Restoring the best parameters...\n",
      "Global Step 12250 and Step 0050: validation cost=0.00000\n",
      "Updated min validation loss!Saving model...\n",
      "Global Step 12300 and Step 0100: validation cost=0.00000\n",
      "Global Step 12350 and Step 0150: validation cost=0.00000\n",
      "Global Step 12400 and Step 0200: validation cost=0.00000\n",
      "Global Step 12450 and Step 0250: validation cost=0.00000\n",
      "Global Step 12500 and Step 0300: validation cost=0.00000\n",
      "Global Step 12550 and Step 0350: validation cost=0.00000\n",
      "Updated min validation loss!Saving model...\n",
      "Global Step 12600 and Step 0400: validation cost=0.00000\n",
      "Global Step 12650 and Step 0450: validation cost=0.00000\n",
      "Global Step 12700 and Step 0500: validation cost=0.00000\n",
      "Global Step 12750 and Step 0550: validation cost=0.00000\n",
      "Global Step 12800 and Step 0600: validation cost=0.00000\n",
      "Global Step 12850 and Step 0650: validation cost=0.00000\n",
      "Global Step 12900 and Step 0700: validation cost=0.00000\n",
      "Global Step 12950 and Step 0750: validation cost=0.00000\n",
      "Global Step 13000 and Step 0800: validation cost=0.00000\n",
      "Global Step 13050 and Step 0850: validation cost=0.00000\n",
      "Global Step 13100 and Step 0900: validation cost=0.00000\n",
      "Global Step 13150 and Step 0950: validation cost=0.00000\n",
      "Global Step 13200 and Step 1000: validation cost=0.00000\n",
      "Global Step 13250 and Step 1050: validation cost=0.00000\n",
      "Global Step 13300 and Step 1100: validation cost=0.00000\n",
      "Early Stopping!!!\n",
      "Restoring the best parameters...\n",
      "Global Step 13350 and Step 0050: validation cost=0.00000\n",
      "Global Step 13400 and Step 0100: validation cost=0.00000\n",
      "Global Step 13450 and Step 0150: validation cost=0.00000\n",
      "Global Step 13500 and Step 0200: validation cost=0.00000\n",
      "Global Step 13550 and Step 0250: validation cost=0.00000\n",
      "Global Step 13600 and Step 0300: validation cost=0.00000\n",
      "Updated min validation loss!Saving model...\n",
      "Global Step 13650 and Step 0350: validation cost=0.00000\n",
      "Global Step 13700 and Step 0400: validation cost=0.00000\n",
      "Global Step 13750 and Step 0450: validation cost=0.00000\n",
      "Global Step 13800 and Step 0500: validation cost=0.00000\n",
      "Global Step 13850 and Step 0550: validation cost=0.00000\n",
      "Global Step 13900 and Step 0600: validation cost=0.00000\n",
      "Global Step 13950 and Step 0650: validation cost=0.00000\n",
      "Global Step 14000 and Step 0700: validation cost=0.00000\n",
      "Global Step 14050 and Step 0750: validation cost=0.00000\n",
      "Global Step 14100 and Step 0800: validation cost=0.00000\n",
      "Global Step 14150 and Step 0850: validation cost=0.00000\n",
      "Global Step 14200 and Step 0900: validation cost=0.00000\n",
      "Global Step 14250 and Step 0950: validation cost=0.00000\n",
      "Global Step 14300 and Step 1000: validation cost=0.00000\n",
      "Global Step 14350 and Step 1050: validation cost=0.00000\n",
      "Early Stopping!!!\n",
      "Restoring the best parameters...\n",
      "Global Step 14400 and Step 0050: validation cost=0.00000\n",
      "Global Step 14450 and Step 0100: validation cost=0.00000\n",
      "Global Step 14500 and Step 0150: validation cost=0.00000\n",
      "Global Step 14550 and Step 0200: validation cost=0.00000\n",
      "Updated min validation loss!Saving model...\n",
      "Global Step 14600 and Step 0250: validation cost=0.00000\n",
      "Global Step 14650 and Step 0300: validation cost=0.00000\n",
      "Global Step 14700 and Step 0350: validation cost=0.00000\n",
      "Global Step 14750 and Step 0400: validation cost=0.00000\n",
      "Global Step 14800 and Step 0450: validation cost=0.00000\n",
      "Global Step 14850 and Step 0500: validation cost=0.00000\n",
      "Global Step 14900 and Step 0550: validation cost=0.00000\n",
      "Updated min validation loss!Saving model...\n",
      "Global Step 14950 and Step 0600: validation cost=0.00000\n",
      "Global Step 15000 and Step 0650: validation cost=0.00000\n",
      "Global Step 15050 and Step 0700: validation cost=0.00000\n",
      "Global Step 15100 and Step 0750: validation cost=0.00000\n",
      "Global Step 15150 and Step 0800: validation cost=0.00000\n",
      "Global Step 15200 and Step 0850: validation cost=0.00000\n",
      "Global Step 15250 and Step 0900: validation cost=0.00000\n",
      "Global Step 15300 and Step 0950: validation cost=0.00000\n",
      "Global Step 15350 and Step 1000: validation cost=0.00000\n",
      "Global Step 15400 and Step 1050: validation cost=0.00000\n",
      "Global Step 15450 and Step 1100: validation cost=0.00000\n",
      "Global Step 15500 and Step 1150: validation cost=0.00000\n",
      "Updated min validation loss!Saving model...\n",
      "Global Step 15550 and Step 1200: validation cost=0.00000\n",
      "Global Step 15600 and Step 1250: validation cost=0.00000\n",
      "Global Step 15650 and Step 1300: validation cost=0.00000\n",
      "Global Step 15700 and Step 1350: validation cost=0.00000\n",
      "Updated min validation loss!Saving model...\n",
      "Global Step 15750 and Step 1400: validation cost=0.00000\n",
      "Global Step 15800 and Step 1450: validation cost=0.00000\n",
      "Global Step 15850 and Step 1500: validation cost=0.00000\n",
      "Global Step 15900 and Step 1550: validation cost=0.00000\n",
      "Global Step 15950 and Step 1600: validation cost=0.00000\n",
      "Global Step 16000 and Step 1650: validation cost=0.00000\n",
      "Global Step 16050 and Step 1700: validation cost=0.00000\n",
      "Global Step 16100 and Step 1750: validation cost=0.00000\n",
      "Global Step 16150 and Step 1800: validation cost=0.00000\n",
      "Global Step 16200 and Step 1850: validation cost=0.00000\n",
      "Global Step 16250 and Step 1900: validation cost=0.00000\n",
      "Global Step 16300 and Step 1950: validation cost=0.00000\n",
      "Global Step 16350 and Step 2000: validation cost=0.00000\n",
      "Global Step 16400 and Step 2050: validation cost=0.00000\n",
      "Global Step 16450 and Step 2100: validation cost=0.00000\n",
      "Early Stopping!!!\n",
      "Restoring the best parameters...\n"
     ]
    }
   ],
   "source": [
    "# Learn the kernel from random initialization\n",
    "learning_rate = 0.001\n",
    "iterations = 5\n",
    "min_error = -1\n",
    "for i in range(iterations):\n",
    "    toy_net2_trainer.train(train_data, vali_data, batch_size=128, min_error=min_error, feed_dict={toy_data_net2.lr: learning_rate})\n",
    "    learning_rate = learning_rate/3"
   ]
  },
  {
   "cell_type": "code",
   "execution_count": 14,
   "metadata": {
    "collapsed": false,
    "deletable": true,
    "editable": true,
    "scrolled": true
   },
   "outputs": [
    {
     "name": "stderr",
     "output_type": "stream",
     "text": [
      "[autoreload of modelval.ArbDataGen failed: Traceback (most recent call last):\n",
      "  File \"/usr/local/lib/python3.5/dist-packages/IPython/extensions/autoreload.py\", line 247, in check\n",
      "    superreload(m, reload, self.old_objects)\n",
      "  File \"/src/Plasticity_Ker/PlasticityKer/modelval/ArbDataGen.py\", line 151\n",
      "    * (np.abs(mean_dt + between_noise) < rep_interval)\n",
      "    ^\n",
      "IndentationError: unexpected indent\n",
      "]\n"
     ]
    },
    {
     "data": {
      "text/plain": [
       "<matplotlib.legend.Legend at 0x7fae7c7c1c18>"
      ]
     },
     "execution_count": 14,
     "metadata": {},
     "output_type": "execute_result"
    },
    {
     "name": "stderr",
     "output_type": "stream",
     "text": [
      "/usr/local/lib/python3.5/dist-packages/matplotlib/font_manager.py:1297: UserWarning: findfont: Font family ['sans-serif'] not found. Falling back to DejaVu Sans\n",
      "  (prop.get_family(), self.defaultFamily[fontext]))\n"
     ]
    },
    {
     "data": {
      "image/png": "[encoded data removed]",
      "text/plain": [
       "<matplotlib.figure.Figure at 0x7fae8c0a8860>"
      ]
     },
     "metadata": {},
     "output_type": "display_data"
    }
   ],
   "source": [
    "w_pre = toy_net2_trainer.evaluate(ops=toy_data_net2.kernel_pre)\n",
    "w_post = toy_net2_trainer.evaluate(ops=toy_data_net2.kernel_post)\n",
    "w_post_post = toy_net2_trainer.evaluate(ops=toy_data_net2.kernel_post_post)\n",
    "plt.plot(w_pre,  label='ker_pre_trained')\n",
    "plt.plot(w_post,  label='ker_post_trained')\n",
    "plt.plot(w_post_post, label='ker_post_post_trained')\n",
    "plt.legend()"
   ]
  },
  {
   "cell_type": "code",
   "execution_count": null,
   "metadata": {
    "collapsed": false,
    "deletable": true,
    "editable": true
   },
   "outputs": [],
   "source": [
    "w_post[25]"
   ]
  },
  {
   "cell_type": "code",
   "execution_count": null,
   "metadata": {
    "collapsed": true,
    "deletable": true,
    "editable": true
   },
   "outputs": [],
   "source": []
  }
 ],
 "metadata": {
  "kernelspec": {
   "display_name": "Python 3",
   "language": "python",
   "name": "python3"
  },
  "language_info": {
   "codemirror_mode": {
    "name": "ipython",
    "version": 3
   },
   "file_extension": ".py",
   "mimetype": "text/x-python",
   "name": "python",
   "nbconvert_exporter": "python",
   "pygments_lexer": "ipython3",
   "version": "3.5.2"
  }
 },
 "nbformat": 4,
 "nbformat_minor": 2
}

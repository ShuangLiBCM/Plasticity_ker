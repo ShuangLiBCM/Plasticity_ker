{
 "cells": [
  {
   "cell_type": "markdown",
   "metadata": {
    "deletable": true,
    "editable": true
   },
   "source": [
    "Split the protocol into training, validation and testing set and then augment and train."
   ]
  },
  {
   "cell_type": "code",
   "execution_count": 7,
   "metadata": {
    "collapsed": false,
    "deletable": true,
    "editable": true
   },
   "outputs": [
    {
     "name": "stdout",
     "output_type": "stream",
     "text": [
      "The autoreload extension is already loaded. To reload it, use:\n",
      "  %reload_ext autoreload\n"
     ]
    }
   ],
   "source": [
    "# Load libraries and modules\n",
    "import numpy as np\n",
    "import pandas as pd\n",
    "import matplotlib.pyplot as plt\n",
    "import seaborn as sns\n",
    "import tensorflow as tf\n",
    "from modelval import pairptl, network, trainer, dataset, data_aug_knn, perform_eval\n",
    "from modelval.ArbDataGen import arb_w_gen\n",
    "from modelval.spk_visu import spk_see, raster\n",
    "from modelval import gp_regressor\n",
    "from modelval import data_aug_gp\n",
    "from sklearn.model_selection import train_test_split\n",
    "\n",
    "import warnings\n",
    "warnings.filterwarnings('ignore')\n",
    "\n",
    "% matplotlib inline\n",
    "% load_ext autoreload\n",
    "% autoreload 2"
   ]
  },
  {
   "cell_type": "code",
   "execution_count": 8,
   "metadata": {
    "collapsed": false,
    "deletable": true,
    "editable": true
   },
   "outputs": [
    {
     "data": {
      "text/html": [
       "<div>\n",
       "<table border=\"1\" class=\"dataframe\">\n",
       "  <thead>\n",
       "    <tr style=\"text-align: right;\">\n",
       "      <th></th>\n",
       "      <th>ptl_idx</th>\n",
       "      <th>pre_spk_num</th>\n",
       "      <th>pre_spk_freq</th>\n",
       "      <th>post_spk_num</th>\n",
       "      <th>post_spk_freq</th>\n",
       "      <th>ptl_occ</th>\n",
       "      <th>ptl_freq</th>\n",
       "      <th>dt1</th>\n",
       "      <th>dt2</th>\n",
       "      <th>dt3</th>\n",
       "      <th>dw_mean</th>\n",
       "      <th>dw_ste</th>\n",
       "      <th>train_len</th>\n",
       "    </tr>\n",
       "  </thead>\n",
       "  <tbody>\n",
       "    <tr>\n",
       "      <th>0</th>\n",
       "      <td>1</td>\n",
       "      <td>1</td>\n",
       "      <td>0</td>\n",
       "      <td>1</td>\n",
       "      <td>0</td>\n",
       "      <td>60</td>\n",
       "      <td>1.0</td>\n",
       "      <td>-102.898046</td>\n",
       "      <td>0.0</td>\n",
       "      <td>0</td>\n",
       "      <td>-1.322590</td>\n",
       "      <td>0.0</td>\n",
       "      <td>60</td>\n",
       "    </tr>\n",
       "    <tr>\n",
       "      <th>1</th>\n",
       "      <td>1</td>\n",
       "      <td>1</td>\n",
       "      <td>0</td>\n",
       "      <td>1</td>\n",
       "      <td>0</td>\n",
       "      <td>60</td>\n",
       "      <td>1.0</td>\n",
       "      <td>-75.579896</td>\n",
       "      <td>0.0</td>\n",
       "      <td>0</td>\n",
       "      <td>2.674768</td>\n",
       "      <td>0.0</td>\n",
       "      <td>60</td>\n",
       "    </tr>\n",
       "    <tr>\n",
       "      <th>2</th>\n",
       "      <td>1</td>\n",
       "      <td>1</td>\n",
       "      <td>0</td>\n",
       "      <td>1</td>\n",
       "      <td>0</td>\n",
       "      <td>60</td>\n",
       "      <td>1.0</td>\n",
       "      <td>-80.871473</td>\n",
       "      <td>0.0</td>\n",
       "      <td>0</td>\n",
       "      <td>-12.696449</td>\n",
       "      <td>0.0</td>\n",
       "      <td>60</td>\n",
       "    </tr>\n",
       "    <tr>\n",
       "      <th>3</th>\n",
       "      <td>1</td>\n",
       "      <td>1</td>\n",
       "      <td>0</td>\n",
       "      <td>1</td>\n",
       "      <td>0</td>\n",
       "      <td>60</td>\n",
       "      <td>1.0</td>\n",
       "      <td>-67.562239</td>\n",
       "      <td>0.0</td>\n",
       "      <td>0</td>\n",
       "      <td>0.231446</td>\n",
       "      <td>0.0</td>\n",
       "      <td>60</td>\n",
       "    </tr>\n",
       "    <tr>\n",
       "      <th>4</th>\n",
       "      <td>1</td>\n",
       "      <td>1</td>\n",
       "      <td>0</td>\n",
       "      <td>1</td>\n",
       "      <td>0</td>\n",
       "      <td>60</td>\n",
       "      <td>1.0</td>\n",
       "      <td>-63.553410</td>\n",
       "      <td>0.0</td>\n",
       "      <td>0</td>\n",
       "      <td>-0.990216</td>\n",
       "      <td>0.0</td>\n",
       "      <td>60</td>\n",
       "    </tr>\n",
       "  </tbody>\n",
       "</table>\n",
       "</div>"
      ],
      "text/plain": [
       "   ptl_idx  pre_spk_num  pre_spk_freq  post_spk_num  post_spk_freq  ptl_occ  \\\n",
       "0        1            1             0             1              0       60   \n",
       "1        1            1             0             1              0       60   \n",
       "2        1            1             0             1              0       60   \n",
       "3        1            1             0             1              0       60   \n",
       "4        1            1             0             1              0       60   \n",
       "\n",
       "   ptl_freq         dt1  dt2  dt3    dw_mean  dw_ste  train_len  \n",
       "0       1.0 -102.898046  0.0    0  -1.322590     0.0         60  \n",
       "1       1.0  -75.579896  0.0    0   2.674768     0.0         60  \n",
       "2       1.0  -80.871473  0.0    0 -12.696449     0.0         60  \n",
       "3       1.0  -67.562239  0.0    0   0.231446     0.0         60  \n",
       "4       1.0  -63.553410  0.0    0  -0.990216     0.0         60  "
      ]
     },
     "execution_count": 8,
     "metadata": {},
     "output_type": "execute_result"
    }
   ],
   "source": [
    "# Load data frame\n",
    "data = pd.read_csv('/src/Plasticity_Ker/data/kernel_training_data_auto.csv')\n",
    "data.head()"
   ]
  },
  {
   "cell_type": "code",
   "execution_count": 9,
   "metadata": {
    "collapsed": false,
    "deletable": true,
    "editable": true
   },
   "outputs": [],
   "source": [
    "# Obtain augmented data from STDP protocol\n",
    "params = {'amp_kernel': 1,\n",
    " 'length_scale': 0.1,\n",
    " 'power_sc': 0.2,\n",
    " 'sigma_noise': 1.0}\n",
    "\n",
    "x_stdp, f_stdp, x_stdp_test, y_stdp_test, _ = data_aug_gp.stdp_gp(**params)\n",
    "\n",
    "x_stdp_train, x_stdp_vali, y_stdp_train, y_stdp_vali = train_test_split(x_stdp, f_stdp, test_size=0.2)"
   ]
  },
  {
   "cell_type": "code",
   "execution_count": 10,
   "metadata": {
    "collapsed": false,
    "deletable": true,
    "editable": true
   },
   "outputs": [
    {
     "data": {
      "text/plain": [
       "[-110, 110, -50, 110]"
      ]
     },
     "execution_count": 10,
     "metadata": {},
     "output_type": "execute_result"
    },
    {
     "data": {
      "image/png": "[encoded data removed]",
      "text/plain": [
       "<matplotlib.figure.Figure at 0x7f9e8b32b940>"
      ]
     },
     "metadata": {},
     "output_type": "display_data"
    }
   ],
   "source": [
    "plt.plot(x_stdp_train, y_stdp_train, 'o',label='train_data')\n",
    "plt.plot(x_stdp_vali, y_stdp_vali, 'o',label='vali_data')\n",
    "plt.plot(x_stdp_test,y_stdp_test, 'o', label='test_data')\n",
    "plt.legend(loc='upper left')\n",
    "plt.axis([-110,110,-50,110])"
   ]
  },
  {
   "cell_type": "code",
   "execution_count": 11,
   "metadata": {
    "collapsed": false,
    "deletable": true,
    "editable": true
   },
   "outputs": [],
   "source": [
    "# Pute time information into dataframe\n",
    "data_stdp_train = data_aug_gp.STDP_dw_gen(x_stdp_train)\n",
    "data_stdp_vali = data_aug_gp.STDP_dw_gen(x_stdp_vali)\n",
    "data_stdp_test = data_aug_gp.STDP_dw_gen(x_stdp_test.reshape(-1,1))"
   ]
  },
  {
   "cell_type": "code",
   "execution_count": 12,
   "metadata": {
    "collapsed": false,
    "deletable": true,
    "editable": true
   },
   "outputs": [
    {
     "data": {
      "text/plain": [
       "((160, 13), (160, 1), (40, 13), (40, 1), (9, 13), (9, 1))"
      ]
     },
     "execution_count": 12,
     "metadata": {},
     "output_type": "execute_result"
    }
   ],
   "source": [
    "data_stdp_train.shape, y_stdp_train.shape, data_stdp_vali.shape, y_stdp_vali.shape,data_stdp_test.shape, y_stdp_test.shape"
   ]
  },
  {
   "cell_type": "code",
   "execution_count": 13,
   "metadata": {
    "collapsed": false,
    "deletable": true,
    "editable": true
   },
   "outputs": [
    {
     "data": {
      "text/plain": [
       "<matplotlib.legend.Legend at 0x7f9e8b2e16a0>"
      ]
     },
     "execution_count": 13,
     "metadata": {},
     "output_type": "execute_result"
    },
    {
     "data": {
      "image/png": "[encoded data removed]",
      "text/plain": [
       "<matplotlib.figure.Figure at 0x7f9e8b3104a8>"
      ]
     },
     "metadata": {},
     "output_type": "display_data"
    }
   ],
   "source": [
    "# Obtain augmented data from quadruplet protocol\n",
    "params = {'amp_kernel': 1,\n",
    " 'length_scale': 0.45,\n",
    " 'power_sc': 0.4,\n",
    " 'sigma_noise': 1.2}\n",
    "\n",
    "x_quad, f_quad, x_quad_test, y_quad_test,_ = data_aug_gp.quad_gp(**params)\n",
    "\n",
    "# Split into training and validation set\n",
    "x_quad_train, x_quad_vali, y_quad_train, y_quad_vali = train_test_split(x_quad, f_quad, test_size=0.2)\n",
    "\n",
    "plt.plot(x_quad_train, y_quad_train, 'o', label='train_data')\n",
    "plt.plot(x_quad_vali, y_quad_vali, 'o', label='vali_data')\n",
    "plt.plot(x_quad_test, y_quad_test, 'o', label='test_data')\n",
    "plt.legend(loc='upper left')"
   ]
  },
  {
   "cell_type": "code",
   "execution_count": 14,
   "metadata": {
    "collapsed": false,
    "deletable": true,
    "editable": true
   },
   "outputs": [],
   "source": [
    "# Put dt information into dataframe\n",
    "data_quad_train = data_aug_gp.quad_dw_gen(x_quad_train)\n",
    "data_quad_vali = data_aug_gp.quad_dw_gen(x_quad_vali)\n",
    "data_quad_test = data_aug_gp.quad_dw_gen(x_quad_test.reshape(-1,1))"
   ]
  },
  {
   "cell_type": "code",
   "execution_count": 15,
   "metadata": {
    "collapsed": false,
    "deletable": true,
    "editable": true
   },
   "outputs": [
    {
     "data": {
      "text/plain": [
       "((160, 13), (160, 1), (40, 13), (40, 1), (12, 13), (12, 1))"
      ]
     },
     "execution_count": 15,
     "metadata": {},
     "output_type": "execute_result"
    }
   ],
   "source": [
    "data_quad_train.shape, y_quad_train.shape, data_quad_vali.shape, y_quad_vali.shape, data_quad_test.shape, y_quad_test.shape"
   ]
  },
  {
   "cell_type": "code",
   "execution_count": 16,
   "metadata": {
    "collapsed": false,
    "deletable": true,
    "editable": true
   },
   "outputs": [
    {
     "data": {
      "text/plain": [
       "<matplotlib.legend.Legend at 0x7f9e8b20e6a0>"
      ]
     },
     "execution_count": 16,
     "metadata": {},
     "output_type": "execute_result"
    },
    {
     "data": {
      "image/png": "[encoded data removed]",
      "text/plain": [
       "<matplotlib.figure.Figure at 0x7f9e8b261550>"
      ]
     },
     "metadata": {},
     "output_type": "display_data"
    },
    {
     "data": {
      "image/png": "[encoded data removed]",
      "text/plain": [
       "<matplotlib.figure.Figure at 0x7f9e8b2142b0>"
      ]
     },
     "metadata": {},
     "output_type": "display_data"
    }
   ],
   "source": [
    "# Generate data for Triplet\n",
    "dt = np.array([-10, -5, 0, 5, 10]).reshape(-1,1)\n",
    "data_trip, y_trip, data_trip_test, y_trip_test = data_aug_gp.triplet_dw_gen()\n",
    "\n",
    "# Split the triplet data into training and validation\n",
    "np.random.seed(10)\n",
    "idx = np.random.permutation(len(data_trip))\n",
    "data_trip_train = data_trip.iloc[idx[:int(len(data_trip)*0.8)]]\n",
    "y_trip_train = y_trip[idx[:int(len(data_trip)*0.8)]]\n",
    "data_trip_vali = data_trip.iloc[idx[int(len(data_trip)*0.8):]]\n",
    "y_trip_vali = y_trip[idx[int(len(data_trip)*0.8):]]\n",
    "\n",
    "# Validate the correctness of triplet protocol data generation\n",
    "# Find the ptl2\n",
    "data2 = data[data['ptl_idx']==2]\n",
    "plt.plot(data2['dt1'], data2['dw_mean'],'o', label='raw_data')\n",
    "\n",
    "data2_train_check = data_trip_train[data_trip_train['ptl_idx']==2]\n",
    "plt.plot(data2_train_check['dt1'].reshape(-1,1),y_trip_train[data_trip_train['ptl_idx']==2].reshape(-1,1),'o', label='train_data')\n",
    "\n",
    "data2_vali_check = data_trip_vali[data_trip_vali['ptl_idx']==2]\n",
    "plt.plot(data2_vali_check['dt1'].reshape(-1,1),y_trip_vali[data_trip_vali['ptl_idx']==2].reshape(-1,1),'o', label='vali_data')\n",
    "\n",
    "data2_test_check = data_trip_test[data_trip_test['ptl_idx']==2]\n",
    "plt.plot(data2_test_check['dt1'].reshape(-1,1),y_trip_test[data_trip_test['ptl_idx']==2].reshape(-1,1),'o', label='test_data')\n",
    "\n",
    "plt.legend()\n",
    "\n",
    "plt.figure()\n",
    "# Validate the correctness of triplet protocol data generation\n",
    "# Find the ptl2\n",
    "data4 = data[data['ptl_idx']==4]\n",
    "plt.plot(data4['dt1'], data4['dw_mean'],'o', label='raw_data')\n",
    "\n",
    "data4_train_check = data_trip_train[data_trip_train['ptl_idx']==4]\n",
    "plt.plot(data4_train_check['dt1'].reshape(-1,1),y_trip_train[data_trip_train['ptl_idx']==4].reshape(-1,1),'o', label='gen_data')\n",
    "\n",
    "data2_vali_check = data_trip_vali[data_trip_vali['ptl_idx']==4]\n",
    "plt.plot(data2_vali_check['dt1'].reshape(-1,1),y_trip_vali[data_trip_vali['ptl_idx']==4].reshape(-1,1),'o', label='vali_data')\n",
    "\n",
    "data4_test_check = data_trip_test[data_trip_test['ptl_idx']==4]\n",
    "plt.plot(data4_test_check['dt1'].reshape(-1,1),y_trip_test[data_trip_test['ptl_idx']==4].reshape(-1,1),'o', label='test_data')\n",
    "\n",
    "plt.legend()\n",
    "# Find the ptl4"
   ]
  },
  {
   "cell_type": "code",
   "execution_count": 17,
   "metadata": {
    "collapsed": false,
    "deletable": true,
    "editable": true
   },
   "outputs": [],
   "source": [
    "# Combine data from stdp and quadruplet\n",
    "data_gen_train = pd.concat([data_stdp_train, data_trip_train, data_quad_train], axis=0)\n",
    "y_train = np.concatenate([y_stdp_train, y_trip_train, y_quad_train])\n",
    "data_gen_vali = pd.concat([data_stdp_vali, data_trip_vali, data_quad_vali], axis=0)\n",
    "y_vali = np.concatenate([y_stdp_vali, y_trip_vali, y_quad_vali])\n",
    "data_gen_test = pd.concat([data_stdp_test, data_trip_test, data_quad_test], axis=0)\n",
    "y_test = np.concatenate([y_stdp_test, y_trip_test, y_quad_test])"
   ]
  },
  {
   "cell_type": "code",
   "execution_count": 18,
   "metadata": {
    "collapsed": false,
    "deletable": true,
    "editable": true
   },
   "outputs": [
    {
     "data": {
      "text/plain": [
       "((448, 13), (448, 1), (112, 13), (112, 1))"
      ]
     },
     "execution_count": 18,
     "metadata": {},
     "output_type": "execute_result"
    }
   ],
   "source": [
    "data_gen_train.shape, y_train.shape, data_gen_vali.shape, y_vali.shape"
   ]
  },
  {
   "cell_type": "code",
   "execution_count": 19,
   "metadata": {
    "collapsed": false,
    "deletable": true,
    "editable": true
   },
   "outputs": [
    {
     "data": {
      "text/html": [
       "<div>\n",
       "<table border=\"1\" class=\"dataframe\">\n",
       "  <thead>\n",
       "    <tr style=\"text-align: right;\">\n",
       "      <th></th>\n",
       "      <th></th>\n",
       "      <th>A2_+</th>\n",
       "      <th>A3_-</th>\n",
       "      <th>A2_-</th>\n",
       "      <th>A3_+</th>\n",
       "      <th>Tau_+</th>\n",
       "      <th>Tau_x</th>\n",
       "      <th>Tau_-</th>\n",
       "      <th>Tau_y</th>\n",
       "    </tr>\n",
       "  </thead>\n",
       "  <tbody>\n",
       "    <tr>\n",
       "      <th rowspan=\"2\" valign=\"top\">Visu_AlltoAll</th>\n",
       "      <th>Full</th>\n",
       "      <td>5e-10</td>\n",
       "      <td>0.00023</td>\n",
       "      <td>0.007</td>\n",
       "      <td>0.0062</td>\n",
       "      <td>16.8</td>\n",
       "      <td>101</td>\n",
       "      <td>33.7</td>\n",
       "      <td>125</td>\n",
       "    </tr>\n",
       "    <tr>\n",
       "      <th>Min</th>\n",
       "      <td>0</td>\n",
       "      <td>0</td>\n",
       "      <td>0.0071</td>\n",
       "      <td>0.0065</td>\n",
       "      <td>16.8</td>\n",
       "      <td>1</td>\n",
       "      <td>33.7</td>\n",
       "      <td>114</td>\n",
       "    </tr>\n",
       "    <tr>\n",
       "      <th rowspan=\"2\" valign=\"top\">Visu_NearestSpk</th>\n",
       "      <th>Full</th>\n",
       "      <td>8.8e-11</td>\n",
       "      <td>0.0031</td>\n",
       "      <td>0.0066</td>\n",
       "      <td>0.053</td>\n",
       "      <td>16.8</td>\n",
       "      <td>714</td>\n",
       "      <td>33.7</td>\n",
       "      <td>40</td>\n",
       "    </tr>\n",
       "    <tr>\n",
       "      <th>Min</th>\n",
       "      <td>0</td>\n",
       "      <td>0</td>\n",
       "      <td>0.008</td>\n",
       "      <td>0.05</td>\n",
       "      <td>16.8</td>\n",
       "      <td>1</td>\n",
       "      <td>33.7</td>\n",
       "      <td>40</td>\n",
       "    </tr>\n",
       "    <tr>\n",
       "      <th rowspan=\"2\" valign=\"top\">Hippo_AlltoAll</th>\n",
       "      <th>Full</th>\n",
       "      <td>0.0061</td>\n",
       "      <td>0.0014</td>\n",
       "      <td>0.0016</td>\n",
       "      <td>0.0067</td>\n",
       "      <td>16.8</td>\n",
       "      <td>946</td>\n",
       "      <td>33.7</td>\n",
       "      <td>27</td>\n",
       "    </tr>\n",
       "    <tr>\n",
       "      <th>Min</th>\n",
       "      <td>0.0053</td>\n",
       "      <td>0</td>\n",
       "      <td>0.0035</td>\n",
       "      <td>0.008</td>\n",
       "      <td>16.8</td>\n",
       "      <td>1</td>\n",
       "      <td>33.7</td>\n",
       "      <td>40</td>\n",
       "    </tr>\n",
       "    <tr>\n",
       "      <th rowspan=\"2\" valign=\"top\">Hippo_NearestSpk</th>\n",
       "      <th>Full</th>\n",
       "      <td>0.0046</td>\n",
       "      <td>7.5e-09</td>\n",
       "      <td>0.003</td>\n",
       "      <td>0.0091</td>\n",
       "      <td>16.8</td>\n",
       "      <td>575</td>\n",
       "      <td>33.7</td>\n",
       "      <td>47</td>\n",
       "    </tr>\n",
       "    <tr>\n",
       "      <th>Min</th>\n",
       "      <td>0.0046</td>\n",
       "      <td>0</td>\n",
       "      <td>0.003</td>\n",
       "      <td>0.0091</td>\n",
       "      <td>16.8</td>\n",
       "      <td>1</td>\n",
       "      <td>33.7</td>\n",
       "      <td>48</td>\n",
       "    </tr>\n",
       "  </tbody>\n",
       "</table>\n",
       "</div>"
      ],
      "text/plain": [
       "                          A2_+     A3_-    A2_-    A3_+ Tau_+ Tau_x Tau_-  \\\n",
       "Visu_AlltoAll    Full    5e-10  0.00023   0.007  0.0062  16.8   101  33.7   \n",
       "                 Min         0        0  0.0071  0.0065  16.8     1  33.7   \n",
       "Visu_NearestSpk  Full  8.8e-11   0.0031  0.0066   0.053  16.8   714  33.7   \n",
       "                 Min         0        0   0.008    0.05  16.8     1  33.7   \n",
       "Hippo_AlltoAll   Full   0.0061   0.0014  0.0016  0.0067  16.8   946  33.7   \n",
       "                 Min    0.0053        0  0.0035   0.008  16.8     1  33.7   \n",
       "Hippo_NearestSpk Full   0.0046  7.5e-09   0.003  0.0091  16.8   575  33.7   \n",
       "                 Min    0.0046        0   0.003  0.0091  16.8     1  33.7   \n",
       "\n",
       "                      Tau_y  \n",
       "Visu_AlltoAll    Full   125  \n",
       "                 Min    114  \n",
       "Visu_NearestSpk  Full    40  \n",
       "                 Min     40  \n",
       "Hippo_AlltoAll   Full    27  \n",
       "                 Min     40  \n",
       "Hippo_NearestSpk Full    47  \n",
       "                 Min     48  "
      ]
     },
     "execution_count": 19,
     "metadata": {},
     "output_type": "execute_result"
    }
   ],
   "source": [
    "trip_para = pd.read_pickle('/src/Plasticity_Ker/data/Gerstner_trip_para_df')\n",
    "trip_para\n",
    "# Reorder columns to match parameter of the model\n",
    "trip_para = trip_para[['A2_+', 'A3_-', 'A2_-', 'A3_+', 'Tau_+', 'Tau_x', 'Tau_-', 'Tau_y']]\n",
    "trip_para"
   ]
  },
  {
   "cell_type": "code",
   "execution_count": 20,
   "metadata": {
    "collapsed": true,
    "deletable": true,
    "editable": true
   },
   "outputs": [],
   "source": [
    "# Visualize kernel\n",
    "from modelval.kernel import KernelGen\n",
    "ker_test = KernelGen()\n",
    "\n",
    "para = trip_para.loc[('Hippo_AlltoAll', 'Full'), :]\n",
    "a = para[:4].values\n",
    "tau = para[4:].values\n",
    "reso_set = 2\n",
    "tau_pre_post = tau[0]/reso_set  # ms\n",
    "tau_post_pre = tau[2]/reso_set # ms\n",
    "\n",
    "len_kernel=101\n",
    "ker_test = KernelGen(len_kernel=len_kernel)\n",
    "ker_test.trip_model_ker(para, data_name='Hippocampus')"
   ]
  },
  {
   "cell_type": "code",
   "execution_count": 21,
   "metadata": {
    "collapsed": false,
    "deletable": true,
    "editable": true
   },
   "outputs": [],
   "source": [
    "# Generat the spike trains and targets for STDP\n",
    "data_hippo = data[data['ptl_idx']<5]\n",
    "ptl_list = [1,2,3,4]\n",
    "spk_len = int(data_hippo['train_len'].max() * 1000 / ker_test.reso_kernel)\n",
    "if_noise = 0\n",
    "aug_times = [1,1,1,1]\n",
    "spk_pairs_train, targets_train = arb_w_gen(df=data_gen_train, ptl_list=ptl_list, targets=y_train, if_noise=if_noise, spk_len=spk_len, kernel=ker_test, net_type='triplet', aug_times=aug_times)\n",
    "spk_pairs_vali, targets_vali = arb_w_gen(df=data_gen_vali, ptl_list=ptl_list, targets=y_vali, if_noise=if_noise, spk_len=spk_len, kernel=ker_test, net_type='triplet', aug_times=aug_times)"
   ]
  },
  {
   "cell_type": "code",
   "execution_count": 22,
   "metadata": {
    "collapsed": false,
    "deletable": true,
    "editable": true
   },
   "outputs": [],
   "source": [
    "# Create the network\n",
    "ground_truth_init = 0\n",
    "reg_scale=(1, 1)\n",
    "init_seed=(4,5,6,7)\n",
    "toy_data_net = network.TripNet(kernel=ker_test, ground_truth_init=ground_truth_init, reg_scale=reg_scale, n_input=spk_pairs_train.shape[1])"
   ]
  },
  {
   "cell_type": "code",
   "execution_count": 23,
   "metadata": {
    "collapsed": false,
    "deletable": true,
    "editable": true
   },
   "outputs": [],
   "source": [
    "# Create the trainer\n",
    "save_dir= '/src/Plasticity_Ker/model/Trip_ptl1_4_real_aug_gp_sample'\n",
    "# optimizer_op = tf.train.GradientDescentOptimizer\n",
    "toy_net_trainer = trainer.Trainer(toy_data_net.loss, toy_data_net.loss, input_name=toy_data_net.inputs, target_name=toy_data_net.target, save_dir=save_dir, optimizer_config={'learning_rate': toy_data_net.lr})"
   ]
  },
  {
   "cell_type": "code",
   "execution_count": 24,
   "metadata": {
    "collapsed": true,
    "deletable": true,
    "editable": true
   },
   "outputs": [],
   "source": [
    "train_data = dataset.Dataset(spk_pairs_train, targets_train)\n",
    "vali_data = dataset.Dataset(spk_pairs_vali, targets_vali)"
   ]
  },
  {
   "cell_type": "code",
   "execution_count": 25,
   "metadata": {
    "collapsed": false,
    "deletable": true,
    "editable": true
   },
   "outputs": [
    {
     "name": "stdout",
     "output_type": "stream",
     "text": [
      "[-0.22614121 -0.27994752  0.95375919] 0.0\n"
     ]
    },
    {
     "data": {
      "image/png": "[encoded data removed]",
      "text/plain": [
       "<matplotlib.figure.Figure at 0x7f9e8b24ae80>"
      ]
     },
     "metadata": {},
     "output_type": "display_data"
    }
   ],
   "source": [
    "w_pre = toy_net_trainer.evaluate(ops=toy_data_net.kernel_pre)\n",
    "w_post = toy_net_trainer.evaluate(ops=toy_data_net.kernel_post)\n",
    "w_post_post = toy_net_trainer.evaluate(ops=toy_data_net.kernel_post_post)\n",
    "fc_w = toy_net_trainer.evaluate(ops=toy_data_net.fc_w)\n",
    "bias = toy_net_trainer.evaluate(ops=toy_data_net.bias)\n",
    "plt.plot(w_pre,  label='ker_pre_init')\n",
    "plt.plot(w_post,  label='ker_post_init')\n",
    "plt.plot(w_post_post,  label='ker_post_post_init')\n",
    "\n",
    "plt.legend()\n",
    "print(fc_w, bias)"
   ]
  },
  {
   "cell_type": "code",
   "execution_count": 26,
   "metadata": {
    "collapsed": false,
    "deletable": true,
    "editable": true
   },
   "outputs": [
    {
     "name": "stdout",
     "output_type": "stream",
     "text": [
      "\n",
      "Initial validation cost=233.99397\n",
      "Global Step 0150 and Step 0150: validation cost=158.14244\n",
      "Updated min validation loss!Saving model...\n",
      "Global Step 0200 and Step 0200: validation cost=135.78705\n",
      "Updated min validation loss!Saving model...\n",
      "Global Step 0250 and Step 0250: validation cost=120.19991\n",
      "Updated min validation loss!Saving model...\n",
      "Global Step 0300 and Step 0300: validation cost=111.36076\n",
      "Updated min validation loss!Saving model...\n",
      "Global Step 0350 and Step 0350: validation cost=106.73535\n",
      "Updated min validation loss!Saving model...\n",
      "Global Step 0400 and Step 0400: validation cost=103.67099\n",
      "Updated min validation loss!Saving model...\n",
      "Global Step 0450 and Step 0450: validation cost=100.67947\n",
      "Updated min validation loss!Saving model...\n",
      "Global Step 0500 and Step 0500: validation cost=97.14957\n",
      "Updated min validation loss!Saving model...\n",
      "Global Step 0550 and Step 0550: validation cost=93.66383\n",
      "Updated min validation loss!Saving model...\n",
      "Global Step 0600 and Step 0600: validation cost=90.37285\n",
      "Updated min validation loss!Saving model...\n",
      "Global Step 0650 and Step 0650: validation cost=87.44082\n",
      "Updated min validation loss!Saving model...\n",
      "Global Step 0700 and Step 0700: validation cost=84.95639\n",
      "Updated min validation loss!Saving model...\n",
      "Global Step 0750 and Step 0750: validation cost=83.02115\n",
      "Updated min validation loss!Saving model...\n",
      "Global Step 0800 and Step 0800: validation cost=81.56335\n",
      "Updated min validation loss!Saving model...\n",
      "Global Step 0850 and Step 0850: validation cost=80.04710\n",
      "Updated min validation loss!Saving model...\n",
      "Global Step 0900 and Step 0900: validation cost=78.88425\n",
      "Updated min validation loss!Saving model...\n",
      "Global Step 0950 and Step 0950: validation cost=77.79476\n",
      "Updated min validation loss!Saving model...\n",
      "Global Step 1000 and Step 1000: validation cost=76.86437\n",
      "Updated min validation loss!Saving model...\n",
      "Global Step 1050 and Step 1050: validation cost=75.95324\n",
      "Updated min validation loss!Saving model...\n",
      "Global Step 1100 and Step 1100: validation cost=75.21806\n",
      "Updated min validation loss!Saving model...\n",
      "Global Step 1150 and Step 1150: validation cost=74.64521\n",
      "Updated min validation loss!Saving model...\n",
      "Global Step 1200 and Step 1200: validation cost=73.93324\n",
      "Updated min validation loss!Saving model...\n",
      "Global Step 1250 and Step 1250: validation cost=73.46021\n",
      "Updated min validation loss!Saving model...\n",
      "Global Step 1300 and Step 1300: validation cost=72.85719\n",
      "Updated min validation loss!Saving model...\n",
      "Global Step 1350 and Step 1350: validation cost=72.39364\n",
      "Updated min validation loss!Saving model...\n",
      "Global Step 1400 and Step 1400: validation cost=72.15794\n",
      "Updated min validation loss!Saving model...\n",
      "Global Step 1450 and Step 1450: validation cost=71.71972\n",
      "Updated min validation loss!Saving model...\n",
      "Global Step 1500 and Step 1500: validation cost=71.27434\n",
      "Updated min validation loss!Saving model...\n",
      "Global Step 1550 and Step 1550: validation cost=70.92106\n",
      "Updated min validation loss!Saving model...\n",
      "Global Step 1600 and Step 1600: validation cost=70.75526\n",
      "Updated min validation loss!Saving model...\n",
      "Global Step 1650 and Step 1650: validation cost=70.48603\n",
      "Updated min validation loss!Saving model...\n",
      "Global Step 1700 and Step 1700: validation cost=70.13563\n",
      "Updated min validation loss!Saving model...\n",
      "Global Step 1750 and Step 1750: validation cost=70.07908\n",
      "Updated min validation loss!Saving model...\n",
      "Global Step 1800 and Step 1800: validation cost=69.87260\n",
      "Updated min validation loss!Saving model...\n",
      "Global Step 1850 and Step 1850: validation cost=69.79913\n",
      "Updated min validation loss!Saving model...\n",
      "Global Step 1900 and Step 1900: validation cost=69.49709\n",
      "Updated min validation loss!Saving model...\n",
      "Global Step 1950 and Step 1950: validation cost=69.48121\n",
      "Updated min validation loss!Saving model...\n",
      "Global Step 2000 and Step 2000: validation cost=69.31166\n",
      "Updated min validation loss!Saving model...\n",
      "Global Step 2050 and Step 2050: validation cost=69.28239\n",
      "Updated min validation loss!Saving model...\n",
      "Global Step 2100 and Step 2100: validation cost=69.31278\n",
      "Global Step 2150 and Step 2150: validation cost=69.16480\n",
      "Updated min validation loss!Saving model...\n",
      "Global Step 2200 and Step 2200: validation cost=69.03718\n",
      "Updated min validation loss!Saving model...\n",
      "Global Step 2250 and Step 2250: validation cost=68.84087\n",
      "Updated min validation loss!Saving model...\n",
      "Global Step 2300 and Step 2300: validation cost=68.93767\n",
      "Global Step 2350 and Step 2350: validation cost=69.12171\n",
      "Global Step 2400 and Step 2400: validation cost=69.12891\n",
      "Global Step 2450 and Step 2450: validation cost=68.69011\n",
      "Updated min validation loss!Saving model...\n",
      "Global Step 2500 and Step 2500: validation cost=68.66918\n",
      "Updated min validation loss!Saving model...\n",
      "Global Step 2550 and Step 2550: validation cost=68.75242\n",
      "Global Step 2600 and Step 2600: validation cost=68.70975\n",
      "Global Step 2650 and Step 2650: validation cost=68.71832\n",
      "Global Step 2700 and Step 2700: validation cost=68.71432\n",
      "Global Step 2750 and Step 2750: validation cost=68.52691\n",
      "Updated min validation loss!Saving model...\n",
      "Global Step 2800 and Step 2800: validation cost=68.63409\n",
      "Global Step 2850 and Step 2850: validation cost=68.54995\n",
      "Global Step 2900 and Step 2900: validation cost=68.70965\n",
      "Global Step 2950 and Step 2950: validation cost=68.72243\n",
      "Global Step 3000 and Step 3000: validation cost=68.63228\n",
      "Global Step 3050 and Step 3050: validation cost=68.61890\n",
      "Global Step 3100 and Step 3100: validation cost=68.60569\n",
      "Global Step 3150 and Step 3150: validation cost=68.55817\n",
      "Global Step 3200 and Step 3200: validation cost=68.49467\n",
      "Updated min validation loss!Saving model...\n",
      "Global Step 3250 and Step 3250: validation cost=68.44750\n",
      "Updated min validation loss!Saving model...\n",
      "Global Step 3300 and Step 3300: validation cost=68.46062\n",
      "Global Step 3350 and Step 3350: validation cost=68.45525\n",
      "Global Step 3400 and Step 3400: validation cost=68.21362\n",
      "Updated min validation loss!Saving model...\n",
      "Global Step 3450 and Step 3450: validation cost=68.14719\n",
      "Updated min validation loss!Saving model...\n",
      "Global Step 3500 and Step 3500: validation cost=68.15159\n",
      "Global Step 3550 and Step 3550: validation cost=68.22979\n",
      "Global Step 3600 and Step 3600: validation cost=68.20640\n",
      "Global Step 3650 and Step 3650: validation cost=68.13725\n",
      "Updated min validation loss!Saving model...\n",
      "Global Step 3700 and Step 3700: validation cost=68.16417\n",
      "Global Step 3750 and Step 3750: validation cost=68.14948\n",
      "Global Step 3800 and Step 3800: validation cost=68.17126\n",
      "Global Step 3850 and Step 3850: validation cost=68.26101\n",
      "Global Step 3900 and Step 3900: validation cost=68.30478\n",
      "Global Step 3950 and Step 3950: validation cost=68.17680\n",
      "Global Step 4000 and Step 4000: validation cost=68.16607\n",
      "Global Step 4050 and Step 4050: validation cost=68.14754\n",
      "Global Step 4100 and Step 4100: validation cost=68.34670\n",
      "Global Step 4150 and Step 4150: validation cost=68.16154\n",
      "Global Step 4200 and Step 4200: validation cost=68.23715\n",
      "Global Step 4250 and Step 4250: validation cost=68.17902\n",
      "Global Step 4300 and Step 4300: validation cost=68.01287\n",
      "Updated min validation loss!Saving model...\n",
      "Global Step 4350 and Step 4350: validation cost=67.93995\n",
      "Updated min validation loss!Saving model...\n",
      "Global Step 4400 and Step 4400: validation cost=67.98483\n",
      "Global Step 4450 and Step 4450: validation cost=67.95424\n",
      "Global Step 4500 and Step 4500: validation cost=68.08190\n",
      "Global Step 4550 and Step 4550: validation cost=68.02032\n",
      "Global Step 4600 and Step 4600: validation cost=68.04608\n",
      "Global Step 4650 and Step 4650: validation cost=68.11295\n",
      "Global Step 4700 and Step 4700: validation cost=68.03442\n",
      "Global Step 4750 and Step 4750: validation cost=67.97405\n",
      "Global Step 4800 and Step 4800: validation cost=67.86364\n",
      "Updated min validation loss!Saving model...\n",
      "Global Step 4850 and Step 4850: validation cost=67.74837\n",
      "Updated min validation loss!Saving model...\n",
      "Global Step 4900 and Step 4900: validation cost=67.71136\n",
      "Updated min validation loss!Saving model...\n",
      "Global Step 4950 and Step 4950: validation cost=67.74676\n",
      "Global Step 5000 and Step 5000: validation cost=67.69296\n",
      "Updated min validation loss!Saving model...\n",
      "Global Step 5050 and Step 5050: validation cost=67.73888\n",
      "Global Step 5100 and Step 5100: validation cost=67.69857\n",
      "Global Step 5150 and Step 5150: validation cost=67.61379\n",
      "Updated min validation loss!Saving model...\n",
      "Global Step 5200 and Step 5200: validation cost=67.60101\n",
      "Updated min validation loss!Saving model...\n",
      "Global Step 5250 and Step 5250: validation cost=67.59478\n",
      "Updated min validation loss!Saving model...\n",
      "Global Step 5300 and Step 5300: validation cost=67.53440\n",
      "Updated min validation loss!Saving model...\n",
      "Global Step 5350 and Step 5350: validation cost=67.73273\n",
      "Global Step 5400 and Step 5400: validation cost=67.66322\n",
      "Global Step 5450 and Step 5450: validation cost=67.68565\n",
      "Global Step 5500 and Step 5500: validation cost=67.58183\n",
      "Global Step 5550 and Step 5550: validation cost=67.53159\n",
      "Updated min validation loss!Saving model...\n",
      "Global Step 5600 and Step 5600: validation cost=67.51583\n",
      "Updated min validation loss!Saving model...\n",
      "Global Step 5650 and Step 5650: validation cost=67.54933\n",
      "Global Step 5700 and Step 5700: validation cost=67.62361\n",
      "Global Step 5750 and Step 5750: validation cost=67.51878\n",
      "Global Step 5800 and Step 5800: validation cost=67.29092\n",
      "Updated min validation loss!Saving model...\n",
      "Global Step 5850 and Step 5850: validation cost=67.36497\n",
      "Global Step 5900 and Step 5900: validation cost=67.35925\n",
      "Global Step 5950 and Step 5950: validation cost=67.36738\n",
      "Global Step 6000 and Step 6000: validation cost=67.41274\n",
      "Global Step 6050 and Step 6050: validation cost=67.39255\n",
      "Global Step 6100 and Step 6100: validation cost=67.42514\n",
      "Global Step 6150 and Step 6150: validation cost=67.38088\n",
      "Global Step 6200 and Step 6200: validation cost=67.50969\n",
      "Global Step 6250 and Step 6250: validation cost=67.51399\n",
      "Global Step 6300 and Step 6300: validation cost=67.31673\n",
      "Global Step 6350 and Step 6350: validation cost=67.41272\n",
      "Global Step 6400 and Step 6400: validation cost=67.44258\n",
      "Global Step 6450 and Step 6450: validation cost=67.45226\n",
      "Global Step 6500 and Step 6500: validation cost=67.36395\n",
      "Global Step 6550 and Step 6550: validation cost=67.42871\n",
      "Early Stopping!!!\n",
      "Restoring the best parameters...\n",
      "Global Step 6600 and Step 0050: validation cost=67.38052\n",
      "Global Step 6650 and Step 0100: validation cost=67.45464\n",
      "Global Step 6700 and Step 0150: validation cost=67.41436\n",
      "Global Step 6750 and Step 0200: validation cost=67.41970\n",
      "Global Step 6800 and Step 0250: validation cost=67.36866\n",
      "Global Step 6850 and Step 0300: validation cost=67.31431\n",
      "Global Step 6900 and Step 0350: validation cost=67.30889\n",
      "Global Step 6950 and Step 0400: validation cost=67.26666\n",
      "Updated min validation loss!Saving model...\n",
      "Global Step 7000 and Step 0450: validation cost=67.28094\n",
      "Global Step 7050 and Step 0500: validation cost=67.27541\n",
      "Global Step 7100 and Step 0550: validation cost=67.26905\n",
      "Global Step 7150 and Step 0600: validation cost=67.34307\n",
      "Global Step 7200 and Step 0650: validation cost=67.37362\n",
      "Global Step 7250 and Step 0700: validation cost=67.38010\n",
      "Global Step 7300 and Step 0750: validation cost=67.35725\n",
      "Global Step 7350 and Step 0800: validation cost=67.38045\n",
      "Global Step 7400 and Step 0850: validation cost=67.36559\n",
      "Global Step 7450 and Step 0900: validation cost=67.33897\n",
      "Global Step 7500 and Step 0950: validation cost=67.28406\n",
      "Global Step 7550 and Step 1000: validation cost=67.33472\n",
      "Global Step 7600 and Step 1050: validation cost=67.28069\n",
      "Global Step 7650 and Step 1100: validation cost=67.26957\n",
      "Global Step 7700 and Step 1150: validation cost=67.25457\n",
      "Updated min validation loss!Saving model...\n",
      "Global Step 7750 and Step 1200: validation cost=67.28778\n",
      "Global Step 7800 and Step 1250: validation cost=67.31654\n",
      "Global Step 7850 and Step 1300: validation cost=67.24374\n",
      "Updated min validation loss!Saving model...\n",
      "Global Step 7900 and Step 1350: validation cost=67.24919\n",
      "Global Step 7950 and Step 1400: validation cost=67.23336\n",
      "Updated min validation loss!Saving model...\n",
      "Global Step 8000 and Step 1450: validation cost=67.19245\n",
      "Updated min validation loss!Saving model...\n",
      "Global Step 8050 and Step 1500: validation cost=67.12233\n",
      "Updated min validation loss!Saving model...\n",
      "Global Step 8100 and Step 1550: validation cost=67.17407\n",
      "Global Step 8150 and Step 1600: validation cost=67.17431\n",
      "Global Step 8200 and Step 1650: validation cost=67.16337\n",
      "Global Step 8250 and Step 1700: validation cost=67.11522\n",
      "Updated min validation loss!Saving model...\n",
      "Global Step 8300 and Step 1750: validation cost=67.19118\n",
      "Global Step 8350 and Step 1800: validation cost=67.30649\n",
      "Global Step 8400 and Step 1850: validation cost=67.19466\n",
      "Global Step 8450 and Step 1900: validation cost=67.19217\n",
      "Global Step 8500 and Step 1950: validation cost=67.14355\n",
      "Global Step 8550 and Step 2000: validation cost=67.15174\n",
      "Global Step 8600 and Step 2050: validation cost=67.19077\n",
      "Global Step 8650 and Step 2100: validation cost=67.10446\n",
      "Updated min validation loss!Saving model...\n",
      "Global Step 8700 and Step 2150: validation cost=67.14422\n",
      "Global Step 8750 and Step 2200: validation cost=67.24223\n",
      "Global Step 8800 and Step 2250: validation cost=67.22300\n",
      "Global Step 8850 and Step 2300: validation cost=67.18578\n",
      "Global Step 8900 and Step 2350: validation cost=67.18645\n",
      "Global Step 8950 and Step 2400: validation cost=67.20370\n",
      "Global Step 9000 and Step 2450: validation cost=67.14965\n",
      "Global Step 9050 and Step 2500: validation cost=67.11404\n",
      "Global Step 9100 and Step 2550: validation cost=67.19049\n",
      "Global Step 9150 and Step 2600: validation cost=67.16560\n",
      "Global Step 9200 and Step 2650: validation cost=67.10842\n",
      "Global Step 9250 and Step 2700: validation cost=67.00914\n",
      "Updated min validation loss!Saving model...\n",
      "Global Step 9300 and Step 2750: validation cost=67.00457\n",
      "Updated min validation loss!Saving model...\n",
      "Global Step 9350 and Step 2800: validation cost=67.02223\n",
      "Global Step 9400 and Step 2850: validation cost=67.04192\n",
      "Global Step 9450 and Step 2900: validation cost=67.10991\n",
      "Global Step 9500 and Step 2950: validation cost=67.08326\n",
      "Global Step 9550 and Step 3000: validation cost=67.10912\n",
      "Global Step 9600 and Step 3050: validation cost=67.11729\n",
      "Global Step 9650 and Step 3100: validation cost=67.09438\n",
      "Global Step 9700 and Step 3150: validation cost=67.04002\n",
      "Global Step 9750 and Step 3200: validation cost=67.04293\n",
      "Global Step 9800 and Step 3250: validation cost=67.01951\n",
      "Global Step 9850 and Step 3300: validation cost=67.06130\n",
      "Global Step 9900 and Step 3350: validation cost=67.08266\n",
      "Global Step 9950 and Step 3400: validation cost=67.08125\n",
      "Global Step 10000 and Step 3450: validation cost=67.04605\n",
      "Global Step 10050 and Step 3500: validation cost=67.07290\n",
      "Early Stopping!!!\n",
      "Restoring the best parameters...\n",
      "Global Step 10100 and Step 0050: validation cost=66.99419\n",
      "Updated min validation loss!Saving model...\n",
      "Global Step 10150 and Step 0100: validation cost=66.97082\n",
      "Updated min validation loss!Saving model...\n",
      "Global Step 10200 and Step 0150: validation cost=66.98499\n",
      "Global Step 10250 and Step 0200: validation cost=67.01351\n",
      "Global Step 10300 and Step 0250: validation cost=66.97749\n",
      "Global Step 10350 and Step 0300: validation cost=67.01270\n",
      "Global Step 10400 and Step 0350: validation cost=67.00893\n",
      "Global Step 10450 and Step 0400: validation cost=67.04707\n",
      "Global Step 10500 and Step 0450: validation cost=67.06607\n",
      "Global Step 10550 and Step 0500: validation cost=67.05605\n",
      "Global Step 10600 and Step 0550: validation cost=67.03447\n",
      "Global Step 10650 and Step 0600: validation cost=67.00667\n",
      "Global Step 10700 and Step 0650: validation cost=67.00578\n",
      "Global Step 10750 and Step 0700: validation cost=67.01006\n",
      "Global Step 10800 and Step 0750: validation cost=67.01157\n",
      "Global Step 10850 and Step 0800: validation cost=67.03632\n",
      "Global Step 10900 and Step 0850: validation cost=67.02777\n",
      "Early Stopping!!!\n",
      "Restoring the best parameters...\n",
      "Global Step 10950 and Step 0050: validation cost=66.97683\n",
      "Global Step 11000 and Step 0100: validation cost=66.97749\n",
      "Global Step 11050 and Step 0150: validation cost=66.97854\n",
      "Global Step 11100 and Step 0200: validation cost=66.98791\n",
      "Global Step 11150 and Step 0250: validation cost=66.99394\n",
      "Global Step 11200 and Step 0300: validation cost=67.00573\n",
      "Global Step 11250 and Step 0350: validation cost=67.01027\n",
      "Global Step 11300 and Step 0400: validation cost=67.00768\n",
      "Global Step 11350 and Step 0450: validation cost=67.00275\n",
      "Global Step 11400 and Step 0500: validation cost=66.99941\n",
      "Global Step 11450 and Step 0550: validation cost=67.00797\n",
      "Global Step 11500 and Step 0600: validation cost=67.00655\n",
      "Global Step 11550 and Step 0650: validation cost=67.00552\n",
      "Global Step 11600 and Step 0700: validation cost=67.01091\n",
      "Global Step 11650 and Step 0750: validation cost=67.02884\n",
      "Early Stopping!!!\n",
      "Restoring the best parameters...\n",
      "Global Step 11700 and Step 0050: validation cost=66.97420\n",
      "Global Step 11750 and Step 0100: validation cost=66.97536\n",
      "Global Step 11800 and Step 0150: validation cost=66.97974\n",
      "Global Step 11850 and Step 0200: validation cost=66.97991\n",
      "Global Step 11900 and Step 0250: validation cost=66.98262\n",
      "Global Step 11950 and Step 0300: validation cost=66.98359\n",
      "Global Step 12000 and Step 0350: validation cost=66.98935\n",
      "Global Step 12050 and Step 0400: validation cost=66.99095\n",
      "Global Step 12100 and Step 0450: validation cost=66.98999\n",
      "Global Step 12150 and Step 0500: validation cost=66.98934\n",
      "Global Step 12200 and Step 0550: validation cost=66.99014\n",
      "Global Step 12250 and Step 0600: validation cost=66.99216\n",
      "Global Step 12300 and Step 0650: validation cost=66.99438\n",
      "Global Step 12350 and Step 0700: validation cost=66.99681\n",
      "Global Step 12400 and Step 0750: validation cost=66.99678\n",
      "Early Stopping!!!\n",
      "Restoring the best parameters...\n"
     ]
    }
   ],
   "source": [
    "# Learn the kernel from random initialization\n",
    "learning_rate = 0.001\n",
    "iterations = 5\n",
    "min_error = -1\n",
    "for i in range(iterations):\n",
    "    toy_net_trainer.train(train_data, vali_data, batch_size=128, min_error=min_error, feed_dict={toy_data_net.lr: learning_rate})\n",
    "    learning_rate = learning_rate/3"
   ]
  },
  {
   "cell_type": "code",
   "execution_count": 35,
   "metadata": {
    "collapsed": false,
    "deletable": true,
    "editable": true
   },
   "outputs": [
    {
     "name": "stdout",
     "output_type": "stream",
     "text": [
      "[-0.95733529 -0.94509977  2.03064895] 1.75249\n"
     ]
    },
    {
     "data": {
      "image/png": "[encoded data removed]",
      "text/plain": [
       "<matplotlib.figure.Figure at 0x7f9e65f37898>"
      ]
     },
     "metadata": {},
     "output_type": "display_data"
    }
   ],
   "source": [
    "# Restore the model and parameter\n",
    "toy_net_trainer.restore_best()\n",
    "w_pre = toy_net_trainer.evaluate(ops=toy_data_net.kernel_pre)\n",
    "w_post = toy_net_trainer.evaluate(ops=toy_data_net.kernel_post)\n",
    "w_post_post = toy_net_trainer.evaluate(ops=toy_data_net.kernel_post_post)\n",
    "fc_w = toy_net_trainer.evaluate(ops=toy_data_net.fc_w)\n",
    "bias = toy_net_trainer.evaluate(ops=toy_data_net.bias)\n",
    "plt.plot(-1 * w_pre,label='ker_pre_trained')\n",
    "plt.plot(-1 * w_post,label='ker_post_trained')\n",
    "plt.plot(w_post_post,label='ker_post_post_trained')\n",
    "\n",
    "plt.legend()\n",
    "print(fc_w, bias)"
   ]
  },
  {
   "cell_type": "code",
   "execution_count": 36,
   "metadata": {
    "collapsed": true,
    "deletable": true,
    "editable": true
   },
   "outputs": [],
   "source": [
    "# Updated the kernel as trained kernel\n",
    "ker_test.kernel_pre = w_pre\n",
    "ker_test.kernel_post = w_post\n",
    "ker_test.kernel_post_post= w_post_post\n",
    "ker_test.kernel_scale = fc_w\n",
    "ker_test.bias = bias"
   ]
  },
  {
   "cell_type": "code",
   "execution_count": 37,
   "metadata": {
    "collapsed": false,
    "deletable": true,
    "editable": true
   },
   "outputs": [
    {
     "data": {
      "text/plain": [
       "(448, 30000, 2)"
      ]
     },
     "execution_count": 37,
     "metadata": {},
     "output_type": "execute_result"
    }
   ],
   "source": [
    "spk_pairs_train.shape"
   ]
  },
  {
   "cell_type": "code",
   "execution_count": 38,
   "metadata": {
    "collapsed": false,
    "deletable": true,
    "editable": true
   },
   "outputs": [
    {
     "data": {
      "text/plain": [
       "<matplotlib.legend.Legend at 0x7f9e76939710>"
      ]
     },
     "execution_count": 38,
     "metadata": {},
     "output_type": "execute_result"
    },
    {
     "data": {
      "image/png": "[encoded data removed]",
      "text/plain": [
       "<matplotlib.figure.Figure at 0x7f9e6470e630>"
      ]
     },
     "metadata": {},
     "output_type": "display_data"
    }
   ],
   "source": [
    "# Generate training predictions\n",
    "spk_len = int(data['train_len'].max() * 1000 / ker_test.reso_kernel)\n",
    "_, predictions_train = arb_w_gen(spk_pairs=spk_pairs_train, spk_len=spk_len, kernel=ker_test, net_type='triplet')\n",
    "\n",
    "ptl_len = np.array([160,64,192,64])\n",
    "rep_time = np.array([1,1,1,1])\n",
    "ptl_len, targets_out, predictions_out = data_aug_knn.target_pred_gen(targets_train, predictions_train, ptl_len, rep_time)\n",
    "\n",
    "# Calculate the total sum of squares\n",
    "R2 = 1 - np.sum(np.square(predictions_train-targets_train))/(np.square(np.std(targets_train))*(len(targets_train)-1))\n",
    "\n",
    "plt.plot(np.linspace(-30,50,80), np.linspace(-30,50,80),'k--')\n",
    "ptl_type = ['stdp', 'trip1', 'quad','trip2']\n",
    "for i in range(len(ptl_len)):\n",
    "    plt.plot(targets_out[i], predictions_out[i],'o', label=ptl_type[i])\n",
    "\n",
    "plt.title('Training data (R2=%0.2f)'%(R2))\n",
    "plt.legend()"
   ]
  },
  {
   "cell_type": "code",
   "execution_count": 39,
   "metadata": {
    "collapsed": false,
    "deletable": true,
    "editable": true
   },
   "outputs": [
    {
     "data": {
      "text/plain": [
       "<matplotlib.legend.Legend at 0x7f9e65fc4b00>"
      ]
     },
     "execution_count": 39,
     "metadata": {},
     "output_type": "execute_result"
    },
    {
     "data": {
      "image/png": "[encoded data removed]",
      "text/plain": [
       "<matplotlib.figure.Figure at 0x7f9e307a2048>"
      ]
     },
     "metadata": {},
     "output_type": "display_data"
    }
   ],
   "source": [
    "# Generate validation predictions\n",
    "spk_len = int(data['train_len'].max() * 1000 / ker_test.reso_kernel)\n",
    "_, predictions_vali = arb_w_gen(spk_pairs=spk_pairs_vali, spk_len=spk_len, kernel=ker_test, net_type='triplet')\n",
    "\n",
    "ptl_len = np.array([40,16,48,16])\n",
    "rep_time = np.array([1,1,1,1])\n",
    "ptl_len, targets_out, predictions_out = data_aug_knn.target_pred_gen(targets_vali, predictions_vali, ptl_len, rep_time)\n",
    "\n",
    "# Calculate the total sum of squares\n",
    "R2 = 1 - np.sum(np.square(predictions_vali-targets_vali))/(np.square(np.std(targets_vali))*(len(targets_vali)-1))\n",
    "corr = np.sqrt(R2)\n",
    "\n",
    "plt.plot(np.linspace(-30,50,80), np.linspace(-30,50,80),'k--')\n",
    "ptl_type = ['stdp', 'trip1', 'quad','trip2']\n",
    "for i in range(len(ptl_len)):\n",
    "    plt.plot(targets_out[i], predictions_out[i],'o', label=ptl_type[i])\n",
    "\n",
    "plt.title('Validation data (R2=%0.2f)'%(R2))\n",
    "plt.legend()"
   ]
  },
  {
   "cell_type": "code",
   "execution_count": 40,
   "metadata": {
    "collapsed": false,
    "deletable": true,
    "editable": true
   },
   "outputs": [],
   "source": [
    "# Generat the spike trains and targets for STDP\n",
    "data3 = data[data['ptl_idx']==3]\n",
    "ptl_list = [1,2,3,4]\n",
    "spk_len = int(data3['train_len'].max() * 1000 / ker_test.reso_kernel)\n",
    "if_noise = 0\n",
    "aug_times = [1,1,1,1]\n",
    "spk_pairs_test, targets_test = arb_w_gen(df=data_gen_test, ptl_list=ptl_list, targets=y_test, if_noise=if_noise, spk_len=spk_len, kernel=ker_test, net_type='triplet', aug_times=aug_times)"
   ]
  },
  {
   "cell_type": "code",
   "execution_count": 41,
   "metadata": {
    "collapsed": false,
    "deletable": true,
    "editable": true
   },
   "outputs": [
    {
     "data": {
      "text/plain": [
       "<matplotlib.legend.Legend at 0x7f9e30680908>"
      ]
     },
     "execution_count": 41,
     "metadata": {},
     "output_type": "execute_result"
    },
    {
     "data": {
      "image/png": "[encoded data removed]",
      "text/plain": [
       "<matplotlib.figure.Figure at 0x7f9e0077a240>"
      ]
     },
     "metadata": {},
     "output_type": "display_data"
    }
   ],
   "source": [
    "# Generate test predictions\n",
    "spk_len = int(data['train_len'].max() * 1000 / ker_test.reso_kernel)\n",
    "_, predictions_test = arb_w_gen(spk_pairs=spk_pairs_test, spk_len=spk_len, kernel=ker_test, net_type='triplet')\n",
    "\n",
    "ptl_len = np.array([9,7,12,4])\n",
    "rep_time = np.array([1,1,1,1])\n",
    "ptl_len, targets_out, predictions_out = data_aug_knn.target_pred_gen(targets_test, predictions_test, ptl_len, rep_time)\n",
    "\n",
    "# Calculate the total sum of squares\n",
    "R2 = 1 - np.sum(np.square(predictions_test-targets_test))/(np.square(np.std(targets_test))*(len(targets_test)-1))\n",
    "corr = np.sqrt(R2)\n",
    "\n",
    "plt.plot(np.linspace(-30,50,80), np.linspace(-30,50,80),'k--')\n",
    "ptl_type = ['stdp', 'trip1', 'quad','trip2']\n",
    "for i in range(len(ptl_len)):\n",
    "    plt.plot(targets_out[i], predictions_out[i],'o', label=ptl_type[i])\n",
    "\n",
    "plt.title('Testing data (R2=%0.2f)'%(R2))\n",
    "plt.legend()"
   ]
  }
 ],
 "metadata": {
  "kernelspec": {
   "display_name": "Python 3",
   "language": "python",
   "name": "python3"
  },
  "language_info": {
   "codemirror_mode": {
    "name": "ipython",
    "version": 3
   },
   "file_extension": ".py",
   "mimetype": "text/x-python",
   "name": "python",
   "nbconvert_exporter": "python",
   "pygments_lexer": "ipython3",
   "version": "3.5.2"
  }
 },
 "nbformat": 4,
 "nbformat_minor": 2
}

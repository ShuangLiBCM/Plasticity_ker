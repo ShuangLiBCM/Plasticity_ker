{
 "cells": [
  {
   "cell_type": "markdown",
   "metadata": {
    "deletable": true,
    "editable": true
   },
   "source": [
    "Split the protocol into training, validation and testing set and then augment and train."
   ]
  },
  {
   "cell_type": "code",
   "execution_count": 1,
   "metadata": {
    "collapsed": false,
    "deletable": true,
    "editable": true
   },
   "outputs": [],
   "source": [
    "# Load libraries and modules\n",
    "import numpy as np\n",
    "import pandas as pd\n",
    "import matplotlib.pyplot as plt\n",
    "import seaborn as sns\n",
    "import tensorflow as tf\n",
    "from modelval import pairptl, network, trainer, dataset, data_aug_knn, perform_eval\n",
    "from modelval.ArbDataGen import arb_w_gen\n",
    "from modelval.spk_visu import spk_see, raster\n",
    "from modelval import gp_regressor\n",
    "from modelval import data_aug_gp\n",
    "from sklearn.model_selection import train_test_split\n",
    "\n",
    "import warnings\n",
    "warnings.filterwarnings('ignore')\n",
    "\n",
    "% matplotlib inline\n",
    "% load_ext autoreload\n",
    "% autoreload 2"
   ]
  },
  {
   "cell_type": "code",
   "execution_count": 2,
   "metadata": {
    "collapsed": false,
    "deletable": true,
    "editable": true
   },
   "outputs": [
    {
     "data": {
      "text/html": [
       "<div>\n",
       "<table border=\"1\" class=\"dataframe\">\n",
       "  <thead>\n",
       "    <tr style=\"text-align: right;\">\n",
       "      <th></th>\n",
       "      <th>ptl_idx</th>\n",
       "      <th>pre_spk_num</th>\n",
       "      <th>pre_spk_freq</th>\n",
       "      <th>post_spk_num</th>\n",
       "      <th>post_spk_freq</th>\n",
       "      <th>ptl_occ</th>\n",
       "      <th>ptl_freq</th>\n",
       "      <th>dt1</th>\n",
       "      <th>dt2</th>\n",
       "      <th>dt3</th>\n",
       "      <th>dw_mean</th>\n",
       "      <th>dw_ste</th>\n",
       "      <th>train_len</th>\n",
       "    </tr>\n",
       "  </thead>\n",
       "  <tbody>\n",
       "    <tr>\n",
       "      <th>0</th>\n",
       "      <td>1</td>\n",
       "      <td>1</td>\n",
       "      <td>0</td>\n",
       "      <td>1</td>\n",
       "      <td>0</td>\n",
       "      <td>60</td>\n",
       "      <td>1.0</td>\n",
       "      <td>-102.898046</td>\n",
       "      <td>0.0</td>\n",
       "      <td>0</td>\n",
       "      <td>-1.322590</td>\n",
       "      <td>0.0</td>\n",
       "      <td>60</td>\n",
       "    </tr>\n",
       "    <tr>\n",
       "      <th>1</th>\n",
       "      <td>1</td>\n",
       "      <td>1</td>\n",
       "      <td>0</td>\n",
       "      <td>1</td>\n",
       "      <td>0</td>\n",
       "      <td>60</td>\n",
       "      <td>1.0</td>\n",
       "      <td>-75.579896</td>\n",
       "      <td>0.0</td>\n",
       "      <td>0</td>\n",
       "      <td>2.674768</td>\n",
       "      <td>0.0</td>\n",
       "      <td>60</td>\n",
       "    </tr>\n",
       "    <tr>\n",
       "      <th>2</th>\n",
       "      <td>1</td>\n",
       "      <td>1</td>\n",
       "      <td>0</td>\n",
       "      <td>1</td>\n",
       "      <td>0</td>\n",
       "      <td>60</td>\n",
       "      <td>1.0</td>\n",
       "      <td>-80.871473</td>\n",
       "      <td>0.0</td>\n",
       "      <td>0</td>\n",
       "      <td>-12.696449</td>\n",
       "      <td>0.0</td>\n",
       "      <td>60</td>\n",
       "    </tr>\n",
       "    <tr>\n",
       "      <th>3</th>\n",
       "      <td>1</td>\n",
       "      <td>1</td>\n",
       "      <td>0</td>\n",
       "      <td>1</td>\n",
       "      <td>0</td>\n",
       "      <td>60</td>\n",
       "      <td>1.0</td>\n",
       "      <td>-67.562239</td>\n",
       "      <td>0.0</td>\n",
       "      <td>0</td>\n",
       "      <td>0.231446</td>\n",
       "      <td>0.0</td>\n",
       "      <td>60</td>\n",
       "    </tr>\n",
       "    <tr>\n",
       "      <th>4</th>\n",
       "      <td>1</td>\n",
       "      <td>1</td>\n",
       "      <td>0</td>\n",
       "      <td>1</td>\n",
       "      <td>0</td>\n",
       "      <td>60</td>\n",
       "      <td>1.0</td>\n",
       "      <td>-63.553410</td>\n",
       "      <td>0.0</td>\n",
       "      <td>0</td>\n",
       "      <td>-0.990216</td>\n",
       "      <td>0.0</td>\n",
       "      <td>60</td>\n",
       "    </tr>\n",
       "  </tbody>\n",
       "</table>\n",
       "</div>"
      ],
      "text/plain": [
       "   ptl_idx  pre_spk_num  pre_spk_freq  post_spk_num  post_spk_freq  ptl_occ  \\\n",
       "0        1            1             0             1              0       60   \n",
       "1        1            1             0             1              0       60   \n",
       "2        1            1             0             1              0       60   \n",
       "3        1            1             0             1              0       60   \n",
       "4        1            1             0             1              0       60   \n",
       "\n",
       "   ptl_freq         dt1  dt2  dt3    dw_mean  dw_ste  train_len  \n",
       "0       1.0 -102.898046  0.0    0  -1.322590     0.0         60  \n",
       "1       1.0  -75.579896  0.0    0   2.674768     0.0         60  \n",
       "2       1.0  -80.871473  0.0    0 -12.696449     0.0         60  \n",
       "3       1.0  -67.562239  0.0    0   0.231446     0.0         60  \n",
       "4       1.0  -63.553410  0.0    0  -0.990216     0.0         60  "
      ]
     },
     "execution_count": 2,
     "metadata": {},
     "output_type": "execute_result"
    }
   ],
   "source": [
    "# Load data frame\n",
    "data = pd.read_csv('/src/Plasticity_Ker/data/kernel_training_data_auto.csv')\n",
    "data.head()"
   ]
  },
  {
   "cell_type": "code",
   "execution_count": 7,
   "metadata": {
    "collapsed": false,
    "deletable": true,
    "editable": true
   },
   "outputs": [],
   "source": [
    "# Obtain augmented data from STDP protocol\n",
    "params = {'amp_kernel': 1,\n",
    " 'length_scale': 0.1,\n",
    " 'power_sc': 0.2,\n",
    " 'sigma_noise': 1.0}\n",
    "\n",
    "x_stdp, f_stdp, x_stdp_test, y_stdp_test = data_aug_gp.stdp_gp(**params)\n",
    "\n",
    "x_stdp_train, x_stdp_vali, y_stdp_train, y_stdp_vali = train_test_split(x_stdp, f_stdp, test_size=0.2)"
   ]
  },
  {
   "cell_type": "code",
   "execution_count": 8,
   "metadata": {
    "collapsed": false,
    "deletable": true,
    "editable": true
   },
   "outputs": [
    {
     "data": {
      "text/plain": [
       "[-110, 110, -50, 110]"
      ]
     },
     "execution_count": 8,
     "metadata": {},
     "output_type": "execute_result"
    },
    {
     "data": {
      "image/png": "[encoded data removed]",
      "text/plain": [
       "<matplotlib.figure.Figure at 0x7feee85dadd8>"
      ]
     },
     "metadata": {},
     "output_type": "display_data"
    }
   ],
   "source": [
    "plt.plot(x_stdp_train, y_stdp_train, 'o',label='train_data')\n",
    "plt.plot(x_stdp_vali, y_stdp_vali, 'o',label='vali_data')\n",
    "plt.plot(x_stdp_test,y_stdp_test, 'o', label='test_data')\n",
    "plt.legend(loc='upper left')\n",
    "plt.axis([-110,110,-50,110])"
   ]
  },
  {
   "cell_type": "code",
   "execution_count": 9,
   "metadata": {
    "collapsed": false,
    "deletable": true,
    "editable": true
   },
   "outputs": [],
   "source": [
    "# Pute time information into dataframe\n",
    "data_stdp_train = data_aug_gp.STDP_dw_gen(x_stdp_train)\n",
    "data_stdp_vali = data_aug_gp.STDP_dw_gen(x_stdp_vali)\n",
    "data_stdp_test = data_aug_gp.STDP_dw_gen(x_stdp_test.reshape(-1,1))"
   ]
  },
  {
   "cell_type": "code",
   "execution_count": 10,
   "metadata": {
    "collapsed": false,
    "deletable": true,
    "editable": true
   },
   "outputs": [
    {
     "data": {
      "text/plain": [
       "((160, 13), (160, 1), (40, 13), (40, 1), (9, 13), (9, 1))"
      ]
     },
     "execution_count": 10,
     "metadata": {},
     "output_type": "execute_result"
    }
   ],
   "source": [
    "data_stdp_train.shape, y_stdp_train.shape, data_stdp_vali.shape, y_stdp_vali.shape,data_stdp_test.shape, y_stdp_test.shape"
   ]
  },
  {
   "cell_type": "code",
   "execution_count": 13,
   "metadata": {
    "collapsed": false,
    "deletable": true,
    "editable": true
   },
   "outputs": [
    {
     "data": {
      "text/plain": [
       "<matplotlib.legend.Legend at 0x7feee84778d0>"
      ]
     },
     "execution_count": 13,
     "metadata": {},
     "output_type": "execute_result"
    },
    {
     "data": {
      "image/png": "[encoded data removed]",
      "text/plain": [
       "<matplotlib.figure.Figure at 0x7feee84dc3c8>"
      ]
     },
     "metadata": {},
     "output_type": "display_data"
    }
   ],
   "source": [
    "# Obtain augmented data from quadruplet protocol\n",
    "# Obtain augmented data from STDP protocol\n",
    "params = {'amp_kernel': 1,\n",
    " 'length_scale': 0.45,\n",
    " 'power_sc': 0.4,\n",
    " 'sigma_noise': 1.2}\n",
    "\n",
    "x_quad, f_quad, x_quad_test, y_quad_test = data_aug_gp.quad_gp(**params)\n",
    "\n",
    "# Split into training and validation set\n",
    "x_quad_train, x_quad_vali, y_quad_train, y_quad_vali = train_test_split(x_quad, f_quad, test_size=0.2)\n",
    "\n",
    "plt.plot(x_quad_train, y_quad_train, 'o', label='train_data')\n",
    "plt.plot(x_quad_vali, y_quad_vali, 'o', label='vali_data')\n",
    "plt.plot(x_quad_test, y_quad_test, 'o', label='test_data')\n",
    "plt.legend(loc='upper left')"
   ]
  },
  {
   "cell_type": "code",
   "execution_count": 14,
   "metadata": {
    "collapsed": false,
    "deletable": true,
    "editable": true
   },
   "outputs": [],
   "source": [
    "# Put dt information into dataframe\n",
    "data_quad_train = data_aug_gp.quad_dw_gen(x_quad_train)\n",
    "data_quad_vali = data_aug_gp.quad_dw_gen(x_quad_vali)\n",
    "data_quad_test = data_aug_gp.quad_dw_gen(x_quad_test.reshape(-1,1))"
   ]
  },
  {
   "cell_type": "code",
   "execution_count": 15,
   "metadata": {
    "collapsed": false,
    "deletable": true,
    "editable": true
   },
   "outputs": [
    {
     "data": {
      "text/plain": [
       "((160, 13), (160, 1), (40, 13), (40, 1), (12, 13), (12, 1))"
      ]
     },
     "execution_count": 15,
     "metadata": {},
     "output_type": "execute_result"
    }
   ],
   "source": [
    "data_quad_train.shape, y_quad_train.shape, data_quad_vali.shape, y_quad_vali.shape, data_quad_test.shape, y_quad_test.shape"
   ]
  },
  {
   "cell_type": "code",
   "execution_count": 16,
   "metadata": {
    "collapsed": false,
    "deletable": true,
    "editable": true
   },
   "outputs": [],
   "source": [
    "# Generate data for Triplet\n",
    "dt = np.array([-10, -5, 0, 5, 10]).reshape(-1,1)\n",
    "data_trip, y_trip, data_trip_test, y_trip_test = data_aug_gp.triplet_dw_gen()"
   ]
  },
  {
   "cell_type": "code",
   "execution_count": 17,
   "metadata": {
    "collapsed": false,
    "deletable": true,
    "editable": true
   },
   "outputs": [
    {
     "data": {
      "text/plain": [
       "(4, 13)"
      ]
     },
     "execution_count": 17,
     "metadata": {},
     "output_type": "execute_result"
    }
   ],
   "source": [
    "data_trip_test[data_trip_test['ptl_idx']==4].shape"
   ]
  },
  {
   "cell_type": "code",
   "execution_count": 18,
   "metadata": {
    "collapsed": false,
    "deletable": true,
    "editable": true
   },
   "outputs": [
    {
     "data": {
      "text/plain": [
       "80"
      ]
     },
     "execution_count": 18,
     "metadata": {},
     "output_type": "execute_result"
    }
   ],
   "source": [
    "len(data_trip[data_trip['ptl_idx']==4])"
   ]
  },
  {
   "cell_type": "code",
   "execution_count": 19,
   "metadata": {
    "collapsed": true,
    "deletable": true,
    "editable": true
   },
   "outputs": [],
   "source": [
    "# Split the triplet data into training and validation\n",
    "np.random.seed(10)\n",
    "idx = np.random.permutation(len(data_trip))\n",
    "data_trip_train = data_trip.iloc[idx[:int(len(data_trip)*0.8)]]\n",
    "y_trip_train = y_trip[idx[:int(len(data_trip)*0.8)]]\n",
    "data_trip_vali = data_trip.iloc[idx[int(len(data_trip)*0.8):]]\n",
    "y_trip_vali = y_trip[idx[int(len(data_trip)*0.8):]]"
   ]
  },
  {
   "cell_type": "code",
   "execution_count": 20,
   "metadata": {
    "collapsed": false,
    "deletable": true,
    "editable": true
   },
   "outputs": [
    {
     "data": {
      "text/plain": [
       "(16, 13)"
      ]
     },
     "execution_count": 20,
     "metadata": {},
     "output_type": "execute_result"
    }
   ],
   "source": [
    "data_trip_vali[data_trip_vali['ptl_idx']==2].shape"
   ]
  },
  {
   "cell_type": "code",
   "execution_count": 21,
   "metadata": {
    "collapsed": false,
    "deletable": true,
    "editable": true
   },
   "outputs": [
    {
     "data": {
      "text/plain": [
       "<matplotlib.legend.Legend at 0x7feee840a160>"
      ]
     },
     "execution_count": 21,
     "metadata": {},
     "output_type": "execute_result"
    },
    {
     "data": {
      "image/png": "[encoded data removed]",
      "text/plain": [
       "<matplotlib.figure.Figure at 0x7feee84952e8>"
      ]
     },
     "metadata": {},
     "output_type": "display_data"
    }
   ],
   "source": [
    "# Validate the correctness of triplet protocol data generation\n",
    "# Find the ptl2\n",
    "data2 = data[data['ptl_idx']==2]\n",
    "plt.plot(data2['dt1'], data2['dw_mean'],'o', label='raw_data')\n",
    "\n",
    "data2_train_check = data_trip_train[data_trip_train['ptl_idx']==2]\n",
    "plt.plot(data2_train_check['dt1'].reshape(-1,1),y_trip_train[data_trip_train['ptl_idx']==2].reshape(-1,1),'o', label='train_data')\n",
    "\n",
    "data2_vali_check = data_trip_vali[data_trip_vali['ptl_idx']==2]\n",
    "plt.plot(data2_vali_check['dt1'].reshape(-1,1),y_trip_vali[data_trip_vali['ptl_idx']==2].reshape(-1,1),'o', label='vali_data')\n",
    "\n",
    "data2_test_check = data_trip_test[data_trip_test['ptl_idx']==2]\n",
    "plt.plot(data2_test_check['dt1'].reshape(-1,1),y_trip_test[data_trip_test['ptl_idx']==2].reshape(-1,1),'o', label='test_data')\n",
    "\n",
    "plt.legend()\n",
    "# Find the ptl4"
   ]
  },
  {
   "cell_type": "code",
   "execution_count": 22,
   "metadata": {
    "collapsed": false,
    "deletable": true,
    "editable": true
   },
   "outputs": [
    {
     "data": {
      "text/plain": [
       "<matplotlib.legend.Legend at 0x7feee8403780>"
      ]
     },
     "execution_count": 22,
     "metadata": {},
     "output_type": "execute_result"
    },
    {
     "data": {
      "image/png": "[encoded data removed]",
      "text/plain": [
       "<matplotlib.figure.Figure at 0x7feee83bf940>"
      ]
     },
     "metadata": {},
     "output_type": "display_data"
    }
   ],
   "source": [
    "# Validate the correctness of triplet protocol data generation\n",
    "# Find the ptl2\n",
    "data4 = data[data['ptl_idx']==4]\n",
    "plt.plot(data4['dt1'], data4['dw_mean'],'o', label='raw_data')\n",
    "\n",
    "data4_train_check = data_trip_train[data_trip_train['ptl_idx']==4]\n",
    "plt.plot(data4_train_check['dt1'].reshape(-1,1),y_trip_train[data_trip_train['ptl_idx']==4].reshape(-1,1),'o', label='gen_data')\n",
    "\n",
    "data2_vali_check = data_trip_vali[data_trip_vali['ptl_idx']==4]\n",
    "plt.plot(data2_vali_check['dt1'].reshape(-1,1),y_trip_vali[data_trip_vali['ptl_idx']==4].reshape(-1,1),'o', label='vali_data')\n",
    "\n",
    "data4_test_check = data_trip_test[data_trip_test['ptl_idx']==4]\n",
    "plt.plot(data4_test_check['dt1'].reshape(-1,1),y_trip_test[data_trip_test['ptl_idx']==4].reshape(-1,1),'o', label='test_data')\n",
    "\n",
    "plt.legend()\n",
    "# Find the ptl4"
   ]
  },
  {
   "cell_type": "code",
   "execution_count": 23,
   "metadata": {
    "collapsed": false,
    "deletable": true,
    "editable": true
   },
   "outputs": [],
   "source": [
    "# Combine data from stdp and quadruplet\n",
    "data_gen_train = pd.concat([data_stdp_train, data_trip_train, data_quad_train], axis=0)\n",
    "y_train = np.concatenate([y_stdp_train, y_trip_train, y_quad_train])\n",
    "data_gen_vali = pd.concat([data_stdp_vali, data_trip_vali, data_quad_vali], axis=0)\n",
    "y_vali = np.concatenate([y_stdp_vali, y_trip_vali, y_quad_vali])\n",
    "data_gen_test = pd.concat([data_stdp_test, data_trip_test, data_quad_test], axis=0)\n",
    "y_test = np.concatenate([y_stdp_test, y_trip_test, y_quad_test])"
   ]
  },
  {
   "cell_type": "code",
   "execution_count": 24,
   "metadata": {
    "collapsed": false,
    "deletable": true,
    "editable": true
   },
   "outputs": [
    {
     "data": {
      "text/plain": [
       "(32, 13)"
      ]
     },
     "execution_count": 24,
     "metadata": {},
     "output_type": "execute_result"
    }
   ],
   "source": [
    "data_gen_test.shape"
   ]
  },
  {
   "cell_type": "code",
   "execution_count": 25,
   "metadata": {
    "collapsed": false,
    "deletable": true,
    "editable": true
   },
   "outputs": [
    {
     "data": {
      "text/plain": [
       "((448, 13), (448, 1), (112, 13), (112, 1))"
      ]
     },
     "execution_count": 25,
     "metadata": {},
     "output_type": "execute_result"
    }
   ],
   "source": [
    "data_gen_train.shape, y_train.shape, data_gen_vali.shape, y_vali.shape"
   ]
  },
  {
   "cell_type": "code",
   "execution_count": 26,
   "metadata": {
    "collapsed": false,
    "deletable": true,
    "editable": true
   },
   "outputs": [
    {
     "data": {
      "text/html": [
       "<div>\n",
       "<table border=\"1\" class=\"dataframe\">\n",
       "  <thead>\n",
       "    <tr style=\"text-align: right;\">\n",
       "      <th></th>\n",
       "      <th></th>\n",
       "      <th>A2_+</th>\n",
       "      <th>A3_-</th>\n",
       "      <th>A2_-</th>\n",
       "      <th>A3_+</th>\n",
       "      <th>Tau_+</th>\n",
       "      <th>Tau_x</th>\n",
       "      <th>Tau_-</th>\n",
       "      <th>Tau_y</th>\n",
       "    </tr>\n",
       "  </thead>\n",
       "  <tbody>\n",
       "    <tr>\n",
       "      <th rowspan=\"2\" valign=\"top\">Visu_AlltoAll</th>\n",
       "      <th>Full</th>\n",
       "      <td>5e-10</td>\n",
       "      <td>0.00023</td>\n",
       "      <td>0.007</td>\n",
       "      <td>0.0062</td>\n",
       "      <td>16.8</td>\n",
       "      <td>101</td>\n",
       "      <td>33.7</td>\n",
       "      <td>125</td>\n",
       "    </tr>\n",
       "    <tr>\n",
       "      <th>Min</th>\n",
       "      <td>0</td>\n",
       "      <td>0</td>\n",
       "      <td>0.0071</td>\n",
       "      <td>0.0065</td>\n",
       "      <td>16.8</td>\n",
       "      <td>1</td>\n",
       "      <td>33.7</td>\n",
       "      <td>114</td>\n",
       "    </tr>\n",
       "    <tr>\n",
       "      <th rowspan=\"2\" valign=\"top\">Visu_NearestSpk</th>\n",
       "      <th>Full</th>\n",
       "      <td>8.8e-11</td>\n",
       "      <td>0.0031</td>\n",
       "      <td>0.0066</td>\n",
       "      <td>0.053</td>\n",
       "      <td>16.8</td>\n",
       "      <td>714</td>\n",
       "      <td>33.7</td>\n",
       "      <td>40</td>\n",
       "    </tr>\n",
       "    <tr>\n",
       "      <th>Min</th>\n",
       "      <td>0</td>\n",
       "      <td>0</td>\n",
       "      <td>0.008</td>\n",
       "      <td>0.05</td>\n",
       "      <td>16.8</td>\n",
       "      <td>1</td>\n",
       "      <td>33.7</td>\n",
       "      <td>40</td>\n",
       "    </tr>\n",
       "    <tr>\n",
       "      <th rowspan=\"2\" valign=\"top\">Hippo_AlltoAll</th>\n",
       "      <th>Full</th>\n",
       "      <td>0.0061</td>\n",
       "      <td>0.0014</td>\n",
       "      <td>0.0016</td>\n",
       "      <td>0.0067</td>\n",
       "      <td>16.8</td>\n",
       "      <td>946</td>\n",
       "      <td>33.7</td>\n",
       "      <td>27</td>\n",
       "    </tr>\n",
       "    <tr>\n",
       "      <th>Min</th>\n",
       "      <td>0.0053</td>\n",
       "      <td>0</td>\n",
       "      <td>0.0035</td>\n",
       "      <td>0.008</td>\n",
       "      <td>16.8</td>\n",
       "      <td>1</td>\n",
       "      <td>33.7</td>\n",
       "      <td>40</td>\n",
       "    </tr>\n",
       "    <tr>\n",
       "      <th rowspan=\"2\" valign=\"top\">Hippo_NearestSpk</th>\n",
       "      <th>Full</th>\n",
       "      <td>0.0046</td>\n",
       "      <td>7.5e-09</td>\n",
       "      <td>0.003</td>\n",
       "      <td>0.0091</td>\n",
       "      <td>16.8</td>\n",
       "      <td>575</td>\n",
       "      <td>33.7</td>\n",
       "      <td>47</td>\n",
       "    </tr>\n",
       "    <tr>\n",
       "      <th>Min</th>\n",
       "      <td>0.0046</td>\n",
       "      <td>0</td>\n",
       "      <td>0.003</td>\n",
       "      <td>0.0091</td>\n",
       "      <td>16.8</td>\n",
       "      <td>1</td>\n",
       "      <td>33.7</td>\n",
       "      <td>48</td>\n",
       "    </tr>\n",
       "  </tbody>\n",
       "</table>\n",
       "</div>"
      ],
      "text/plain": [
       "                          A2_+     A3_-    A2_-    A3_+ Tau_+ Tau_x Tau_-  \\\n",
       "Visu_AlltoAll    Full    5e-10  0.00023   0.007  0.0062  16.8   101  33.7   \n",
       "                 Min         0        0  0.0071  0.0065  16.8     1  33.7   \n",
       "Visu_NearestSpk  Full  8.8e-11   0.0031  0.0066   0.053  16.8   714  33.7   \n",
       "                 Min         0        0   0.008    0.05  16.8     1  33.7   \n",
       "Hippo_AlltoAll   Full   0.0061   0.0014  0.0016  0.0067  16.8   946  33.7   \n",
       "                 Min    0.0053        0  0.0035   0.008  16.8     1  33.7   \n",
       "Hippo_NearestSpk Full   0.0046  7.5e-09   0.003  0.0091  16.8   575  33.7   \n",
       "                 Min    0.0046        0   0.003  0.0091  16.8     1  33.7   \n",
       "\n",
       "                      Tau_y  \n",
       "Visu_AlltoAll    Full   125  \n",
       "                 Min    114  \n",
       "Visu_NearestSpk  Full    40  \n",
       "                 Min     40  \n",
       "Hippo_AlltoAll   Full    27  \n",
       "                 Min     40  \n",
       "Hippo_NearestSpk Full    47  \n",
       "                 Min     48  "
      ]
     },
     "execution_count": 26,
     "metadata": {},
     "output_type": "execute_result"
    }
   ],
   "source": [
    "trip_para = pd.read_pickle('/src/Plasticity_Ker/data/Gerstner_trip_para_df')\n",
    "trip_para\n",
    "# Reorder columns to match parameter of the model\n",
    "trip_para = trip_para[['A2_+', 'A3_-', 'A2_-', 'A3_+', 'Tau_+', 'Tau_x', 'Tau_-', 'Tau_y']]\n",
    "trip_para"
   ]
  },
  {
   "cell_type": "code",
   "execution_count": 27,
   "metadata": {
    "collapsed": true,
    "deletable": true,
    "editable": true
   },
   "outputs": [],
   "source": [
    "# Visualize kernel\n",
    "from modelval.kernel import KernelGen\n",
    "ker_test = KernelGen()\n",
    "\n",
    "para = trip_para.loc[('Hippo_AlltoAll', 'Full'), :]\n",
    "a = para[:4].values\n",
    "tau = para[4:].values\n",
    "reso_set = 2\n",
    "tau_pre_post = tau[0]/reso_set  # ms\n",
    "tau_post_pre = tau[2]/reso_set # ms\n",
    "\n",
    "len_kernel=101\n",
    "ker_test = KernelGen(len_kernel=len_kernel)\n",
    "ker_test.trip_model_ker(para, data_name='Hippocampus')"
   ]
  },
  {
   "cell_type": "code",
   "execution_count": 28,
   "metadata": {
    "collapsed": false,
    "deletable": true,
    "editable": true
   },
   "outputs": [],
   "source": [
    "# Generat the spike trains and targets for STDP\n",
    "data3 = data[data['ptl_idx']==3]\n",
    "ptl_list = [1,2,3,4]\n",
    "spk_len = int(data3['train_len'].max() * 1000 / ker_test.reso_kernel)\n",
    "if_noise = 0\n",
    "aug_times = [1,1,1,1]\n",
    "spk_pairs_train, targets_train = arb_w_gen(df=data_gen_train, ptl_list=ptl_list, targets=y_train, if_noise=if_noise, spk_len=spk_len, kernel=ker_test, net_type='triplet', aug_times=aug_times)\n",
    "spk_pairs_vali, targets_vali = arb_w_gen(df=data_gen_vali, ptl_list=ptl_list, targets=y_vali, if_noise=if_noise, spk_len=spk_len, kernel=ker_test, net_type='triplet', aug_times=aug_times)"
   ]
  },
  {
   "cell_type": "code",
   "execution_count": 29,
   "metadata": {
    "collapsed": false,
    "deletable": true,
    "editable": true
   },
   "outputs": [],
   "source": [
    "# Create the network\n",
    "ground_truth_init = 0\n",
    "reg_scale=(1, 1)\n",
    "toy_data_net = network.TripNet(kernel=ker_test, ground_truth_init=ground_truth_init, reg_scale=reg_scale, n_input=spk_pairs_train.shape[1])"
   ]
  },
  {
   "cell_type": "code",
   "execution_count": 31,
   "metadata": {
    "collapsed": false,
    "deletable": true,
    "editable": true
   },
   "outputs": [],
   "source": [
    "# Create the trainer\n",
    "save_dir= '/src/Plasticity_Ker/model/Pair_ptl1_4_real_aug_gp_sample'\n",
    "# optimizer_op = tf.train.GradientDescentOptimizer\n",
    "toy_net_trainer = trainer.Trainer(toy_data_net.loss, toy_data_net.loss, input_name=toy_data_net.inputs, target_name=toy_data_net.target, save_dir=save_dir, optimizer_config={'learning_rate': toy_data_net.lr})"
   ]
  },
  {
   "cell_type": "code",
   "execution_count": 32,
   "metadata": {
    "collapsed": true,
    "deletable": true,
    "editable": true
   },
   "outputs": [],
   "source": [
    "train_data = dataset.Dataset(spk_pairs_train, targets_train)\n",
    "vali_data = dataset.Dataset(spk_pairs_vali, targets_vali)"
   ]
  },
  {
   "cell_type": "code",
   "execution_count": 33,
   "metadata": {
    "collapsed": false,
    "deletable": true,
    "editable": true
   },
   "outputs": [
    {
     "name": "stdout",
     "output_type": "stream",
     "text": [
      "[-0.22614121 -0.27994752  0.95375919] 0.0\n"
     ]
    },
    {
     "data": {
      "image/png": "[encoded data removed]",
      "text/plain": [
       "<matplotlib.figure.Figure at 0x7feecc71dc88>"
      ]
     },
     "metadata": {},
     "output_type": "display_data"
    }
   ],
   "source": [
    "w_pre = toy_net_trainer.evaluate(ops=toy_data_net.kernel_pre)\n",
    "w_post = toy_net_trainer.evaluate(ops=toy_data_net.kernel_post)\n",
    "w_post_post = toy_net_trainer.evaluate(ops=toy_data_net.kernel_post_post)\n",
    "fc_w = toy_net_trainer.evaluate(ops=toy_data_net.fc_w)\n",
    "bias = toy_net_trainer.evaluate(ops=toy_data_net.bias)\n",
    "plt.plot(w_pre,  label='ker_pre_init')\n",
    "plt.plot(w_post,  label='ker_post_init')\n",
    "plt.plot(w_post_post,  label='ker_post_post_init')\n",
    "\n",
    "plt.legend()\n",
    "print(fc_w, bias)"
   ]
  },
  {
   "cell_type": "code",
   "execution_count": 34,
   "metadata": {
    "collapsed": false,
    "deletable": true,
    "editable": true
   },
   "outputs": [
    {
     "name": "stdout",
     "output_type": "stream",
     "text": [
      "\n",
      "Initial validation cost=242.45926\n",
      "Global Step 0150 and Step 0150: validation cost=165.65807\n",
      "Updated min validation loss!Saving model...\n",
      "Global Step 0200 and Step 0200: validation cost=143.72319\n",
      "Updated min validation loss!Saving model...\n",
      "Global Step 0250 and Step 0250: validation cost=128.40970\n",
      "Updated min validation loss!Saving model...\n",
      "Global Step 0300 and Step 0300: validation cost=119.92865\n",
      "Updated min validation loss!Saving model...\n",
      "Global Step 0350 and Step 0350: validation cost=115.95222\n",
      "Updated min validation loss!Saving model...\n",
      "Global Step 0400 and Step 0400: validation cost=113.85010\n",
      "Updated min validation loss!Saving model...\n",
      "Global Step 0450 and Step 0450: validation cost=111.89014\n",
      "Updated min validation loss!Saving model...\n",
      "Global Step 0500 and Step 0500: validation cost=109.20074\n",
      "Updated min validation loss!Saving model...\n",
      "Global Step 0550 and Step 0550: validation cost=106.13518\n",
      "Updated min validation loss!Saving model...\n",
      "Global Step 0600 and Step 0600: validation cost=102.78293\n",
      "Updated min validation loss!Saving model...\n",
      "Global Step 0650 and Step 0650: validation cost=99.30280\n",
      "Updated min validation loss!Saving model...\n",
      "Global Step 0700 and Step 0700: validation cost=96.02715\n",
      "Updated min validation loss!Saving model...\n",
      "Global Step 0750 and Step 0750: validation cost=93.18785\n",
      "Updated min validation loss!Saving model...\n",
      "Global Step 0800 and Step 0800: validation cost=90.82188\n",
      "Updated min validation loss!Saving model...\n",
      "Global Step 0850 and Step 0850: validation cost=88.47028\n",
      "Updated min validation loss!Saving model...\n",
      "Global Step 0900 and Step 0900: validation cost=86.49577\n",
      "Updated min validation loss!Saving model...\n",
      "Global Step 0950 and Step 0950: validation cost=84.72072\n",
      "Updated min validation loss!Saving model...\n",
      "Global Step 1000 and Step 1000: validation cost=83.20740\n",
      "Updated min validation loss!Saving model...\n",
      "Global Step 1050 and Step 1050: validation cost=81.78857\n",
      "Updated min validation loss!Saving model...\n",
      "Global Step 1100 and Step 1100: validation cost=80.65044\n",
      "Updated min validation loss!Saving model...\n",
      "Global Step 1150 and Step 1150: validation cost=79.73707\n",
      "Updated min validation loss!Saving model...\n",
      "Global Step 1200 and Step 1200: validation cost=78.70202\n",
      "Updated min validation loss!Saving model...\n",
      "Global Step 1250 and Step 1250: validation cost=77.99119\n",
      "Updated min validation loss!Saving model...\n",
      "Global Step 1300 and Step 1300: validation cost=77.22032\n",
      "Updated min validation loss!Saving model...\n",
      "Global Step 1350 and Step 1350: validation cost=76.57941\n",
      "Updated min validation loss!Saving model...\n",
      "Global Step 1400 and Step 1400: validation cost=76.22482\n",
      "Updated min validation loss!Saving model...\n",
      "Global Step 1450 and Step 1450: validation cost=75.66812\n",
      "Updated min validation loss!Saving model...\n",
      "Global Step 1500 and Step 1500: validation cost=75.13820\n",
      "Updated min validation loss!Saving model...\n",
      "Global Step 1550 and Step 1550: validation cost=74.71894\n",
      "Updated min validation loss!Saving model...\n",
      "Global Step 1600 and Step 1600: validation cost=74.49944\n",
      "Updated min validation loss!Saving model...\n",
      "Global Step 1650 and Step 1650: validation cost=74.18035\n",
      "Updated min validation loss!Saving model...\n",
      "Global Step 1700 and Step 1700: validation cost=73.73966\n",
      "Updated min validation loss!Saving model...\n",
      "Global Step 1750 and Step 1750: validation cost=73.65508\n",
      "Updated min validation loss!Saving model...\n",
      "Global Step 1800 and Step 1800: validation cost=73.43954\n",
      "Updated min validation loss!Saving model...\n",
      "Global Step 1850 and Step 1850: validation cost=73.34704\n",
      "Updated min validation loss!Saving model...\n",
      "Global Step 1900 and Step 1900: validation cost=72.99706\n",
      "Updated min validation loss!Saving model...\n",
      "Global Step 1950 and Step 1950: validation cost=72.94600\n",
      "Updated min validation loss!Saving model...\n",
      "Global Step 2000 and Step 2000: validation cost=72.77180\n",
      "Updated min validation loss!Saving model...\n",
      "Global Step 2050 and Step 2050: validation cost=72.71207\n",
      "Updated min validation loss!Saving model...\n",
      "Global Step 2100 and Step 2100: validation cost=72.70348\n",
      "Updated min validation loss!Saving model...\n",
      "Global Step 2150 and Step 2150: validation cost=72.52091\n",
      "Updated min validation loss!Saving model...\n",
      "Global Step 2200 and Step 2200: validation cost=72.34402\n",
      "Updated min validation loss!Saving model...\n",
      "Global Step 2250 and Step 2250: validation cost=72.12008\n",
      "Updated min validation loss!Saving model...\n",
      "Global Step 2300 and Step 2300: validation cost=72.20869\n",
      "Global Step 2350 and Step 2350: validation cost=72.34949\n",
      "Global Step 2400 and Step 2400: validation cost=72.34300\n",
      "Global Step 2450 and Step 2450: validation cost=71.87759\n",
      "Updated min validation loss!Saving model...\n",
      "Global Step 2500 and Step 2500: validation cost=71.81285\n",
      "Updated min validation loss!Saving model...\n",
      "Global Step 2550 and Step 2550: validation cost=71.87116\n",
      "Global Step 2600 and Step 2600: validation cost=71.76550\n",
      "Updated min validation loss!Saving model...\n",
      "Global Step 2650 and Step 2650: validation cost=71.73518\n",
      "Updated min validation loss!Saving model...\n",
      "Global Step 2700 and Step 2700: validation cost=71.70307\n",
      "Updated min validation loss!Saving model...\n",
      "Global Step 2750 and Step 2750: validation cost=71.47368\n",
      "Updated min validation loss!Saving model...\n",
      "Global Step 2800 and Step 2800: validation cost=71.55791\n",
      "Global Step 2850 and Step 2850: validation cost=71.42075\n",
      "Updated min validation loss!Saving model...\n",
      "Global Step 2900 and Step 2900: validation cost=71.51913\n",
      "Global Step 2950 and Step 2950: validation cost=71.47095\n",
      "Global Step 3000 and Step 3000: validation cost=71.35072\n",
      "Updated min validation loss!Saving model...\n",
      "Global Step 3050 and Step 3050: validation cost=71.25912\n",
      "Updated min validation loss!Saving model...\n",
      "Global Step 3100 and Step 3100: validation cost=71.22691\n",
      "Updated min validation loss!Saving model...\n",
      "Global Step 3150 and Step 3150: validation cost=71.14890\n",
      "Updated min validation loss!Saving model...\n",
      "Global Step 3200 and Step 3200: validation cost=71.02635\n",
      "Updated min validation loss!Saving model...\n",
      "Global Step 3250 and Step 3250: validation cost=70.89256\n",
      "Updated min validation loss!Saving model...\n",
      "Global Step 3300 and Step 3300: validation cost=70.87319\n",
      "Updated min validation loss!Saving model...\n",
      "Global Step 3350 and Step 3350: validation cost=70.79542\n",
      "Updated min validation loss!Saving model...\n",
      "Global Step 3400 and Step 3400: validation cost=70.50512\n",
      "Updated min validation loss!Saving model...\n",
      "Global Step 3450 and Step 3450: validation cost=70.38482\n",
      "Updated min validation loss!Saving model...\n",
      "Global Step 3500 and Step 3500: validation cost=70.37086\n",
      "Updated min validation loss!Saving model...\n",
      "Global Step 3550 and Step 3550: validation cost=70.38704\n",
      "Global Step 3600 and Step 3600: validation cost=70.33864\n",
      "Updated min validation loss!Saving model...\n",
      "Global Step 3650 and Step 3650: validation cost=70.20470\n",
      "Updated min validation loss!Saving model...\n",
      "Global Step 3700 and Step 3700: validation cost=70.14050\n",
      "Updated min validation loss!Saving model...\n",
      "Global Step 3750 and Step 3750: validation cost=70.09708\n",
      "Updated min validation loss!Saving model...\n",
      "Global Step 3800 and Step 3800: validation cost=70.06686\n",
      "Updated min validation loss!Saving model...\n",
      "Global Step 3850 and Step 3850: validation cost=70.09325\n",
      "Global Step 3900 and Step 3900: validation cost=70.08656\n",
      "Global Step 3950 and Step 3950: validation cost=69.91961\n",
      "Updated min validation loss!Saving model...\n",
      "Global Step 4000 and Step 4000: validation cost=69.88760\n",
      "Updated min validation loss!Saving model...\n",
      "Global Step 4050 and Step 4050: validation cost=69.80437\n",
      "Updated min validation loss!Saving model...\n",
      "Global Step 4100 and Step 4100: validation cost=69.95483\n",
      "Global Step 4150 and Step 4150: validation cost=69.71738\n",
      "Updated min validation loss!Saving model...\n",
      "Global Step 4200 and Step 4200: validation cost=69.71142\n",
      "Updated min validation loss!Saving model...\n",
      "Global Step 4250 and Step 4250: validation cost=69.59533\n",
      "Updated min validation loss!Saving model...\n",
      "Global Step 4300 and Step 4300: validation cost=69.41132\n",
      "Updated min validation loss!Saving model...\n",
      "Global Step 4350 and Step 4350: validation cost=69.25526\n",
      "Updated min validation loss!Saving model...\n",
      "Global Step 4400 and Step 4400: validation cost=69.24868\n",
      "Updated min validation loss!Saving model...\n",
      "Global Step 4450 and Step 4450: validation cost=69.16870\n",
      "Updated min validation loss!Saving model...\n",
      "Global Step 4500 and Step 4500: validation cost=69.27557\n",
      "Global Step 4550 and Step 4550: validation cost=69.13048\n",
      "Updated min validation loss!Saving model...\n",
      "Global Step 4600 and Step 4600: validation cost=69.11148\n",
      "Updated min validation loss!Saving model...\n",
      "Global Step 4650 and Step 4650: validation cost=69.12940\n",
      "Global Step 4700 and Step 4700: validation cost=69.01004\n",
      "Updated min validation loss!Saving model...\n",
      "Global Step 4750 and Step 4750: validation cost=68.86551\n",
      "Updated min validation loss!Saving model...\n",
      "Global Step 4800 and Step 4800: validation cost=68.71254\n",
      "Updated min validation loss!Saving model...\n",
      "Global Step 4850 and Step 4850: validation cost=68.54060\n",
      "Updated min validation loss!Saving model...\n",
      "Global Step 4900 and Step 4900: validation cost=68.45438\n",
      "Updated min validation loss!Saving model...\n",
      "Global Step 4950 and Step 4950: validation cost=68.43471\n",
      "Updated min validation loss!Saving model...\n",
      "Global Step 5000 and Step 5000: validation cost=68.33898\n",
      "Updated min validation loss!Saving model...\n",
      "Global Step 5050 and Step 5050: validation cost=68.32134\n",
      "Updated min validation loss!Saving model...\n",
      "Global Step 5100 and Step 5100: validation cost=68.23960\n",
      "Updated min validation loss!Saving model...\n",
      "Global Step 5150 and Step 5150: validation cost=68.07626\n",
      "Updated min validation loss!Saving model...\n",
      "Global Step 5200 and Step 5200: validation cost=68.02899\n",
      "Updated min validation loss!Saving model...\n",
      "Global Step 5250 and Step 5250: validation cost=67.96678\n",
      "Updated min validation loss!Saving model...\n",
      "Global Step 5300 and Step 5300: validation cost=67.87650\n",
      "Updated min validation loss!Saving model...\n",
      "Global Step 5350 and Step 5350: validation cost=68.02141\n",
      "Global Step 5400 and Step 5400: validation cost=67.94187\n",
      "Global Step 5450 and Step 5450: validation cost=67.87038\n",
      "Updated min validation loss!Saving model...\n",
      "Global Step 5500 and Step 5500: validation cost=67.71172\n",
      "Updated min validation loss!Saving model...\n",
      "Global Step 5550 and Step 5550: validation cost=67.63165\n",
      "Updated min validation loss!Saving model...\n",
      "Global Step 5600 and Step 5600: validation cost=67.53291\n",
      "Updated min validation loss!Saving model...\n",
      "Global Step 5650 and Step 5650: validation cost=67.53194\n",
      "Updated min validation loss!Saving model...\n",
      "Global Step 5700 and Step 5700: validation cost=67.56068\n",
      "Global Step 5750 and Step 5750: validation cost=67.40727\n",
      "Updated min validation loss!Saving model...\n",
      "Global Step 5800 and Step 5800: validation cost=67.12843\n",
      "Updated min validation loss!Saving model...\n",
      "Global Step 5850 and Step 5850: validation cost=67.15511\n",
      "Global Step 5900 and Step 5900: validation cost=67.09153\n",
      "Updated min validation loss!Saving model...\n",
      "Global Step 5950 and Step 5950: validation cost=67.04567\n",
      "Updated min validation loss!Saving model...\n",
      "Global Step 6000 and Step 6000: validation cost=67.03847\n",
      "Updated min validation loss!Saving model...\n",
      "Global Step 6050 and Step 6050: validation cost=66.98358\n",
      "Updated min validation loss!Saving model...\n",
      "Global Step 6100 and Step 6100: validation cost=66.95866\n",
      "Updated min validation loss!Saving model...\n",
      "Global Step 6150 and Step 6150: validation cost=66.87984\n",
      "Updated min validation loss!Saving model...\n",
      "Global Step 6200 and Step 6200: validation cost=66.96722\n",
      "Global Step 6250 and Step 6250: validation cost=66.90720\n",
      "Global Step 6300 and Step 6300: validation cost=66.64073\n",
      "Updated min validation loss!Saving model...\n",
      "Global Step 6350 and Step 6350: validation cost=66.69459\n",
      "Global Step 6400 and Step 6400: validation cost=66.67522\n",
      "Global Step 6450 and Step 6450: validation cost=66.65749\n",
      "Global Step 6500 and Step 6500: validation cost=66.52102\n",
      "Updated min validation loss!Saving model...\n",
      "Global Step 6550 and Step 6550: validation cost=66.57009\n",
      "Global Step 6600 and Step 6600: validation cost=66.46786\n",
      "Updated min validation loss!Saving model...\n",
      "Global Step 6650 and Step 6650: validation cost=66.50269\n",
      "Global Step 6700 and Step 6700: validation cost=66.31412\n",
      "Updated min validation loss!Saving model...\n",
      "Global Step 6750 and Step 6750: validation cost=66.22997\n",
      "Updated min validation loss!Saving model...\n",
      "Global Step 6800 and Step 6800: validation cost=66.08089\n",
      "Updated min validation loss!Saving model...\n",
      "Global Step 6850 and Step 6850: validation cost=65.94716\n",
      "Updated min validation loss!Saving model...\n",
      "Global Step 6900 and Step 6900: validation cost=65.88676\n",
      "Updated min validation loss!Saving model...\n",
      "Global Step 6950 and Step 6950: validation cost=65.78972\n",
      "Updated min validation loss!Saving model...\n",
      "Global Step 7000 and Step 7000: validation cost=65.77272\n",
      "Updated min validation loss!Saving model...\n",
      "Global Step 7050 and Step 7050: validation cost=65.65908\n",
      "Updated min validation loss!Saving model...\n",
      "Global Step 7100 and Step 7100: validation cost=65.65870\n",
      "Updated min validation loss!Saving model...\n",
      "Global Step 7150 and Step 7150: validation cost=65.72903\n",
      "Global Step 7200 and Step 7200: validation cost=65.73164\n",
      "Global Step 7250 and Step 7250: validation cost=65.66123\n",
      "Global Step 7300 and Step 7300: validation cost=65.59772\n",
      "Updated min validation loss!Saving model...\n",
      "Global Step 7350 and Step 7350: validation cost=65.61460\n",
      "Global Step 7400 and Step 7400: validation cost=65.47439\n",
      "Updated min validation loss!Saving model...\n",
      "Global Step 7450 and Step 7450: validation cost=65.40994\n",
      "Updated min validation loss!Saving model...\n",
      "Global Step 7500 and Step 7500: validation cost=65.30089\n",
      "Updated min validation loss!Saving model...\n",
      "Global Step 7550 and Step 7550: validation cost=65.35365\n",
      "Global Step 7600 and Step 7600: validation cost=65.11834\n",
      "Updated min validation loss!Saving model...\n",
      "Global Step 7650 and Step 7650: validation cost=65.12810\n",
      "Global Step 7700 and Step 7700: validation cost=65.07439\n",
      "Updated min validation loss!Saving model...\n",
      "Global Step 7750 and Step 7750: validation cost=65.05263\n",
      "Updated min validation loss!Saving model...\n",
      "Global Step 7800 and Step 7800: validation cost=65.04372\n",
      "Updated min validation loss!Saving model...\n",
      "Global Step 7850 and Step 7850: validation cost=64.79282\n",
      "Updated min validation loss!Saving model...\n",
      "Global Step 7900 and Step 7900: validation cost=64.73749\n",
      "Updated min validation loss!Saving model...\n",
      "Global Step 7950 and Step 7950: validation cost=64.71095\n",
      "Updated min validation loss!Saving model...\n",
      "Global Step 8000 and Step 8000: validation cost=64.65703\n",
      "Updated min validation loss!Saving model...\n",
      "Global Step 8050 and Step 8050: validation cost=64.49461\n",
      "Updated min validation loss!Saving model...\n",
      "Global Step 8100 and Step 8100: validation cost=64.55934\n",
      "Global Step 8150 and Step 8150: validation cost=64.45766\n",
      "Updated min validation loss!Saving model...\n",
      "Global Step 8200 and Step 8200: validation cost=64.36251\n",
      "Updated min validation loss!Saving model...\n",
      "Global Step 8250 and Step 8250: validation cost=64.35484\n",
      "Updated min validation loss!Saving model...\n",
      "Global Step 8300 and Step 8300: validation cost=64.45172\n",
      "Global Step 8350 and Step 8350: validation cost=64.64221\n",
      "Global Step 8400 and Step 8400: validation cost=64.38496\n",
      "Global Step 8450 and Step 8450: validation cost=64.32492\n",
      "Updated min validation loss!Saving model...\n",
      "Global Step 8500 and Step 8500: validation cost=64.22527\n",
      "Updated min validation loss!Saving model...\n",
      "Global Step 8550 and Step 8550: validation cost=64.20409\n",
      "Updated min validation loss!Saving model...\n",
      "Global Step 8600 and Step 8600: validation cost=64.15598\n",
      "Updated min validation loss!Saving model...\n",
      "Global Step 8650 and Step 8650: validation cost=63.96448\n",
      "Updated min validation loss!Saving model...\n",
      "Global Step 8700 and Step 8700: validation cost=64.06548\n",
      "Global Step 8750 and Step 8750: validation cost=64.18975\n",
      "Global Step 8800 and Step 8800: validation cost=64.12778\n",
      "Global Step 8850 and Step 8850: validation cost=64.01621\n",
      "Global Step 8900 and Step 8900: validation cost=64.03942\n",
      "Global Step 8950 and Step 8950: validation cost=63.98219\n",
      "Global Step 9000 and Step 9000: validation cost=63.81500\n",
      "Updated min validation loss!Saving model...\n",
      "Global Step 9050 and Step 9050: validation cost=63.85841\n",
      "Global Step 9100 and Step 9100: validation cost=63.91693\n",
      "Global Step 9150 and Step 9150: validation cost=63.89028\n",
      "Global Step 9200 and Step 9200: validation cost=63.74607\n",
      "Updated min validation loss!Saving model...\n",
      "Global Step 9250 and Step 9250: validation cost=63.59612\n",
      "Updated min validation loss!Saving model...\n",
      "Global Step 9300 and Step 9300: validation cost=63.52147\n",
      "Updated min validation loss!Saving model...\n",
      "Global Step 9350 and Step 9350: validation cost=63.56242\n",
      "Global Step 9400 and Step 9400: validation cost=63.57541\n",
      "Global Step 9450 and Step 9450: validation cost=63.62539\n",
      "Global Step 9500 and Step 9500: validation cost=63.56547\n",
      "Global Step 9550 and Step 9550: validation cost=63.64779\n",
      "Global Step 9600 and Step 9600: validation cost=63.53910\n",
      "Global Step 9650 and Step 9650: validation cost=63.49706\n",
      "Updated min validation loss!Saving model...\n",
      "Global Step 9700 and Step 9700: validation cost=63.46204\n",
      "Updated min validation loss!Saving model...\n",
      "Global Step 9750 and Step 9750: validation cost=63.36945\n",
      "Updated min validation loss!Saving model...\n",
      "Global Step 9800 and Step 9800: validation cost=63.28008\n",
      "Updated min validation loss!Saving model...\n",
      "Global Step 9850 and Step 9850: validation cost=63.35809\n",
      "Global Step 9900 and Step 9900: validation cost=63.38637\n",
      "Global Step 9950 and Step 9950: validation cost=63.27542\n",
      "Updated min validation loss!Saving model...\n",
      "Global Step 10000 and Step 10000: validation cost=63.22569\n",
      "Updated min validation loss!Saving model...\n",
      "Global Step 10050 and Step 10050: validation cost=63.30085\n",
      "Global Step 10100 and Step 10100: validation cost=63.20332\n",
      "Updated min validation loss!Saving model...\n",
      "Global Step 10150 and Step 10150: validation cost=62.99881\n",
      "Updated min validation loss!Saving model...\n",
      "Global Step 10200 and Step 10200: validation cost=63.04977\n",
      "Global Step 10250 and Step 10250: validation cost=63.11300\n",
      "Global Step 10300 and Step 10300: validation cost=63.05111\n",
      "Global Step 10350 and Step 10350: validation cost=63.09432\n",
      "Global Step 10400 and Step 10400: validation cost=63.04502\n",
      "Global Step 10450 and Step 10450: validation cost=63.15376\n",
      "Global Step 10500 and Step 10500: validation cost=63.15944\n",
      "Global Step 10550 and Step 10550: validation cost=63.01770\n",
      "Global Step 10600 and Step 10600: validation cost=62.82406\n",
      "Updated min validation loss!Saving model...\n",
      "Global Step 10650 and Step 10650: validation cost=62.77824\n",
      "Updated min validation loss!Saving model...\n",
      "Global Step 10700 and Step 10700: validation cost=62.85242\n",
      "Global Step 10750 and Step 10750: validation cost=62.81204\n",
      "Global Step 10800 and Step 10800: validation cost=62.79548\n",
      "Global Step 10850 and Step 10850: validation cost=62.81147\n",
      "Global Step 10900 and Step 10900: validation cost=62.73773\n",
      "Updated min validation loss!Saving model...\n",
      "Global Step 10950 and Step 10950: validation cost=62.91421\n",
      "Global Step 11000 and Step 11000: validation cost=62.82390\n",
      "Global Step 11050 and Step 11050: validation cost=62.71806\n",
      "Updated min validation loss!Saving model...\n",
      "Global Step 11100 and Step 11100: validation cost=62.72925\n",
      "Global Step 11150 and Step 11150: validation cost=62.77292\n",
      "Global Step 11200 and Step 11200: validation cost=62.79731\n",
      "Global Step 11250 and Step 11250: validation cost=62.79258\n",
      "Global Step 11300 and Step 11300: validation cost=62.69337\n",
      "Updated min validation loss!Saving model...\n",
      "Global Step 11350 and Step 11350: validation cost=62.66750\n",
      "Updated min validation loss!Saving model...\n",
      "Global Step 11400 and Step 11400: validation cost=62.59406\n",
      "Updated min validation loss!Saving model...\n",
      "Global Step 11450 and Step 11450: validation cost=62.53526\n",
      "Updated min validation loss!Saving model...\n",
      "Global Step 11500 and Step 11500: validation cost=62.58358\n",
      "Global Step 11550 and Step 11550: validation cost=62.57207\n",
      "Global Step 11600 and Step 11600: validation cost=62.58366\n",
      "Global Step 11650 and Step 11650: validation cost=62.69129\n",
      "Global Step 11700 and Step 11700: validation cost=62.56503\n",
      "Global Step 11750 and Step 11750: validation cost=62.56361\n",
      "Global Step 11800 and Step 11800: validation cost=62.56622\n",
      "Global Step 11850 and Step 11850: validation cost=62.33464\n",
      "Updated min validation loss!Saving model...\n",
      "Global Step 11900 and Step 11900: validation cost=62.45391\n",
      "Global Step 11950 and Step 11950: validation cost=62.43903\n",
      "Global Step 12000 and Step 12000: validation cost=62.54252\n",
      "Global Step 12050 and Step 12050: validation cost=62.51779\n",
      "Global Step 12100 and Step 12100: validation cost=62.30692\n",
      "Updated min validation loss!Saving model...\n",
      "Global Step 12150 and Step 12150: validation cost=62.31813\n",
      "Global Step 12200 and Step 12200: validation cost=62.33925\n",
      "Global Step 12250 and Step 12250: validation cost=62.37513\n",
      "Global Step 12300 and Step 12300: validation cost=62.42980\n",
      "Global Step 12350 and Step 12350: validation cost=62.34747\n",
      "Global Step 12400 and Step 12400: validation cost=62.29606\n",
      "Updated min validation loss!Saving model...\n",
      "Global Step 12450 and Step 12450: validation cost=62.32124\n",
      "Global Step 12500 and Step 12500: validation cost=62.21680\n",
      "Updated min validation loss!Saving model...\n",
      "Global Step 12550 and Step 12550: validation cost=62.23878\n",
      "Global Step 12600 and Step 12600: validation cost=62.23064\n",
      "Global Step 12650 and Step 12650: validation cost=62.16090\n",
      "Updated min validation loss!Saving model...\n",
      "Global Step 12700 and Step 12700: validation cost=62.11783\n",
      "Updated min validation loss!Saving model...\n",
      "Global Step 12750 and Step 12750: validation cost=62.22530\n",
      "Global Step 12800 and Step 12800: validation cost=62.20962\n",
      "Global Step 12850 and Step 12850: validation cost=62.25190\n",
      "Global Step 12900 and Step 12900: validation cost=62.07012\n",
      "Updated min validation loss!Saving model...\n",
      "Global Step 12950 and Step 12950: validation cost=62.04432\n",
      "Updated min validation loss!Saving model...\n",
      "Global Step 13000 and Step 13000: validation cost=61.99804\n",
      "Updated min validation loss!Saving model...\n",
      "Global Step 13050 and Step 13050: validation cost=62.03226\n",
      "Global Step 13100 and Step 13100: validation cost=62.16078\n",
      "Global Step 13150 and Step 13150: validation cost=62.08034\n",
      "Global Step 13200 and Step 13200: validation cost=62.02537\n",
      "Global Step 13250 and Step 13250: validation cost=61.92159\n",
      "Updated min validation loss!Saving model...\n",
      "Global Step 13300 and Step 13300: validation cost=61.98843\n",
      "Global Step 13350 and Step 13350: validation cost=61.92416\n",
      "Global Step 13400 and Step 13400: validation cost=61.94664\n",
      "Global Step 13450 and Step 13450: validation cost=61.84686\n",
      "Updated min validation loss!Saving model...\n",
      "Global Step 13500 and Step 13500: validation cost=61.87757\n",
      "Global Step 13550 and Step 13550: validation cost=61.91005\n",
      "Global Step 13600 and Step 13600: validation cost=61.85591\n",
      "Global Step 13650 and Step 13650: validation cost=61.79495\n",
      "Updated min validation loss!Saving model...\n",
      "Global Step 13700 and Step 13700: validation cost=61.91297\n",
      "Global Step 13750 and Step 13750: validation cost=61.88917\n",
      "Global Step 13800 and Step 13800: validation cost=61.69302\n",
      "Updated min validation loss!Saving model...\n",
      "Global Step 13850 and Step 13850: validation cost=61.84383\n",
      "Global Step 13900 and Step 13900: validation cost=61.85990\n",
      "Global Step 13950 and Step 13950: validation cost=61.86269\n",
      "Global Step 14000 and Step 14000: validation cost=61.76015\n",
      "Global Step 14050 and Step 14050: validation cost=61.85463\n",
      "Global Step 14100 and Step 14100: validation cost=61.89970\n",
      "Global Step 14150 and Step 14150: validation cost=61.99734\n",
      "Global Step 14200 and Step 14200: validation cost=61.99403\n",
      "Global Step 14250 and Step 14250: validation cost=61.91226\n",
      "Global Step 14300 and Step 14300: validation cost=61.89755\n",
      "Global Step 14350 and Step 14350: validation cost=61.89123\n",
      "Global Step 14400 and Step 14400: validation cost=61.85482\n",
      "Global Step 14450 and Step 14450: validation cost=61.87717\n",
      "Global Step 14500 and Step 14500: validation cost=61.95912\n",
      "Global Step 14550 and Step 14550: validation cost=62.07913\n",
      "Early Stopping!!!\n",
      "Restoring the best parameters...\n",
      "Global Step 14600 and Step 0050: validation cost=61.74593\n",
      "Global Step 14650 and Step 0100: validation cost=61.83719\n",
      "Global Step 14700 and Step 0150: validation cost=61.80233\n",
      "Global Step 14750 and Step 0200: validation cost=61.81390\n",
      "Global Step 14800 and Step 0250: validation cost=61.86222\n",
      "Global Step 14850 and Step 0300: validation cost=61.79727\n",
      "Global Step 14900 and Step 0350: validation cost=61.82816\n",
      "Global Step 14950 and Step 0400: validation cost=61.79108\n",
      "Global Step 15000 and Step 0450: validation cost=61.77339\n",
      "Global Step 15050 and Step 0500: validation cost=61.75331\n",
      "Global Step 15100 and Step 0550: validation cost=61.78456\n",
      "Global Step 15150 and Step 0600: validation cost=61.73050\n",
      "Global Step 15200 and Step 0650: validation cost=61.73959\n",
      "Global Step 15250 and Step 0700: validation cost=61.78936\n",
      "Global Step 15300 and Step 0750: validation cost=61.79044\n",
      "Early Stopping!!!\n",
      "Restoring the best parameters...\n",
      "Global Step 15350 and Step 0050: validation cost=61.71836\n",
      "Global Step 15400 and Step 0100: validation cost=61.69667\n",
      "Global Step 15450 and Step 0150: validation cost=61.71084\n",
      "Global Step 15500 and Step 0200: validation cost=61.72464\n",
      "Global Step 15550 and Step 0250: validation cost=61.71745\n",
      "Global Step 15600 and Step 0300: validation cost=61.73283\n",
      "Global Step 15650 and Step 0350: validation cost=61.74356\n",
      "Global Step 15700 and Step 0400: validation cost=61.71555\n",
      "Global Step 15750 and Step 0450: validation cost=61.74768\n",
      "Global Step 15800 and Step 0500: validation cost=61.75607\n",
      "Global Step 15850 and Step 0550: validation cost=61.78729\n",
      "Global Step 15900 and Step 0600: validation cost=61.80487\n",
      "Global Step 15950 and Step 0650: validation cost=61.79766\n",
      "Global Step 16000 and Step 0700: validation cost=61.78598\n",
      "Global Step 16050 and Step 0750: validation cost=61.79097\n",
      "Early Stopping!!!\n",
      "Restoring the best parameters...\n",
      "Global Step 16100 and Step 0050: validation cost=61.71177\n",
      "Global Step 16150 and Step 0100: validation cost=61.71548\n",
      "Global Step 16200 and Step 0150: validation cost=61.73222\n",
      "Global Step 16250 and Step 0200: validation cost=61.73516\n",
      "Global Step 16300 and Step 0250: validation cost=61.73581\n",
      "Global Step 16350 and Step 0300: validation cost=61.73941\n",
      "Global Step 16400 and Step 0350: validation cost=61.73515\n",
      "Global Step 16450 and Step 0400: validation cost=61.72967\n",
      "Global Step 16500 and Step 0450: validation cost=61.73661\n",
      "Global Step 16550 and Step 0500: validation cost=61.75139\n",
      "Global Step 16600 and Step 0550: validation cost=61.75456\n",
      "Global Step 16650 and Step 0600: validation cost=61.75550\n",
      "Global Step 16700 and Step 0650: validation cost=61.75156\n",
      "Global Step 16750 and Step 0700: validation cost=61.75845\n",
      "Global Step 16800 and Step 0750: validation cost=61.76171\n",
      "Early Stopping!!!\n",
      "Restoring the best parameters...\n",
      "Global Step 16850 and Step 0050: validation cost=61.69747\n",
      "Global Step 16900 and Step 0100: validation cost=61.70125\n",
      "Global Step 16950 and Step 0150: validation cost=61.70112\n",
      "Global Step 17000 and Step 0200: validation cost=61.70525\n",
      "Global Step 17050 and Step 0250: validation cost=61.70417\n",
      "Global Step 17100 and Step 0300: validation cost=61.70660\n",
      "Global Step 17150 and Step 0350: validation cost=61.71022\n",
      "Global Step 17200 and Step 0400: validation cost=61.71165\n",
      "Global Step 17250 and Step 0450: validation cost=61.71362\n",
      "Global Step 17300 and Step 0500: validation cost=61.71815\n",
      "Global Step 17350 and Step 0550: validation cost=61.72417\n",
      "Global Step 17400 and Step 0600: validation cost=61.72563\n",
      "Global Step 17450 and Step 0650: validation cost=61.72778\n",
      "Global Step 17500 and Step 0700: validation cost=61.72857\n",
      "Global Step 17550 and Step 0750: validation cost=61.72952\n",
      "Early Stopping!!!\n",
      "Restoring the best parameters...\n"
     ]
    }
   ],
   "source": [
    "# Learn the kernel from random initialization\n",
    "learning_rate = 0.001\n",
    "iterations = 5\n",
    "min_error = -1\n",
    "for i in range(iterations):\n",
    "    toy_net_trainer.train(train_data, vali_data, batch_size=128, min_error=min_error, feed_dict={toy_data_net.lr: learning_rate})\n",
    "    learning_rate = learning_rate/3"
   ]
  },
  {
   "cell_type": "code",
   "execution_count": 35,
   "metadata": {
    "collapsed": false,
    "deletable": true,
    "editable": true
   },
   "outputs": [
    {
     "name": "stdout",
     "output_type": "stream",
     "text": [
      "[-0.92389393 -1.00908053  2.52698421] 5.71595\n"
     ]
    },
    {
     "data": {
      "image/png": "[encoded data removed]",
      "text/plain": [
       "<matplotlib.figure.Figure at 0x7feecc128358>"
      ]
     },
     "metadata": {},
     "output_type": "display_data"
    }
   ],
   "source": [
    "# Restore the model and parameter\n",
    "toy_net_trainer.restore_best()\n",
    "w_pre = toy_net_trainer.evaluate(ops=toy_data_net.kernel_pre)\n",
    "w_post = toy_net_trainer.evaluate(ops=toy_data_net.kernel_post)\n",
    "w_post_post = toy_net_trainer.evaluate(ops=toy_data_net.kernel_post_post)\n",
    "fc_w = toy_net_trainer.evaluate(ops=toy_data_net.fc_w)\n",
    "bias = toy_net_trainer.evaluate(ops=toy_data_net.bias)\n",
    "plt.plot(-1 * w_pre,label='ker_pre_trained')\n",
    "plt.plot(-1 * w_post,label='ker_post_trained')\n",
    "plt.plot(w_post_post,label='ker_post_post_trained')\n",
    "\n",
    "plt.legend()\n",
    "print(fc_w, bias)"
   ]
  },
  {
   "cell_type": "code",
   "execution_count": 36,
   "metadata": {
    "collapsed": true,
    "deletable": true,
    "editable": true
   },
   "outputs": [],
   "source": [
    "# Updated the kernel as trained kernel\n",
    "ker_test.kernel_pre = w_pre\n",
    "ker_test.kernel_post = w_post\n",
    "ker_test.kernel_post_post= w_post_post\n",
    "ker_test.kernel_scale = fc_w\n",
    "ker_test.bias = bias"
   ]
  },
  {
   "cell_type": "code",
   "execution_count": 38,
   "metadata": {
    "collapsed": false
   },
   "outputs": [
    {
     "data": {
      "text/plain": [
       "(448, 30000, 2)"
      ]
     },
     "execution_count": 38,
     "metadata": {},
     "output_type": "execute_result"
    }
   ],
   "source": [
    "spk_pairs_train.shape"
   ]
  },
  {
   "cell_type": "code",
   "execution_count": 39,
   "metadata": {
    "collapsed": false,
    "deletable": true,
    "editable": true
   },
   "outputs": [
    {
     "data": {
      "text/plain": [
       "<matplotlib.legend.Legend at 0x7feeb9087940>"
      ]
     },
     "execution_count": 39,
     "metadata": {},
     "output_type": "execute_result"
    },
    {
     "data": {
      "image/png": "[encoded data removed]",
      "text/plain": [
       "<matplotlib.figure.Figure at 0x7feeb9fcef28>"
      ]
     },
     "metadata": {},
     "output_type": "display_data"
    }
   ],
   "source": [
    "# Generate training predictions\n",
    "spk_len = int(data['train_len'].max() * 1000 / ker_test.reso_kernel)\n",
    "_, predictions_train = arb_w_gen(spk_pairs=spk_pairs_train, spk_len=spk_len, kernel=ker_test, net_type='triplet')\n",
    "\n",
    "ptl_len = np.array([160,64,192,64])\n",
    "rep_time = np.array([1,1,1,1])\n",
    "ptl_len, targets_out, predictions_out = data_aug_knn.target_pred_gen(targets_train, predictions_train, ptl_len, rep_time)\n",
    "\n",
    "# Calculate the total sum of squares\n",
    "R2 = 1 - np.sum(np.square(predictions_train-targets_train))/(np.square(np.std(targets_train))*(len(targets_train)-1))\n",
    "\n",
    "plt.plot(np.linspace(-30,50,80), np.linspace(-30,50,80),'k--')\n",
    "ptl_type = ['stdp', 'trip1', 'quad','trip2']\n",
    "for i in range(len(ptl_len)):\n",
    "    plt.plot(targets_out[i], predictions_out[i],'o', label=ptl_type[i])\n",
    "\n",
    "plt.title('Training data (R2=%0.2f)'%(R2))\n",
    "plt.legend()"
   ]
  },
  {
   "cell_type": "code",
   "execution_count": 40,
   "metadata": {
    "collapsed": false,
    "deletable": true,
    "editable": true
   },
   "outputs": [
    {
     "data": {
      "text/plain": [
       "<matplotlib.legend.Legend at 0x7feecc046ef0>"
      ]
     },
     "execution_count": 40,
     "metadata": {},
     "output_type": "execute_result"
    },
    {
     "data": {
      "image/png": "[encoded data removed]",
      "text/plain": [
       "<matplotlib.figure.Figure at 0x7feeb8f9be80>"
      ]
     },
     "metadata": {},
     "output_type": "display_data"
    }
   ],
   "source": [
    "# Generate validation predictions\n",
    "spk_len = int(data['train_len'].max() * 1000 / ker_test.reso_kernel)\n",
    "_, predictions_vali = arb_w_gen(spk_pairs=spk_pairs_vali, spk_len=spk_len, kernel=ker_test, net_type='triplet')\n",
    "\n",
    "ptl_len = np.array([40,16,48,16])\n",
    "rep_time = np.array([1,1,1,1])\n",
    "ptl_len, targets_out, predictions_out = data_aug_knn.target_pred_gen(targets_vali, predictions_vali, ptl_len, rep_time)\n",
    "\n",
    "# Calculate the total sum of squares\n",
    "R2 = 1 - np.sum(np.square(predictions_vali-targets_vali))/(np.square(np.std(targets_vali))*(len(targets_vali)-1))\n",
    "corr = np.sqrt(R2)\n",
    "\n",
    "plt.plot(np.linspace(-30,50,80), np.linspace(-30,50,80),'k--')\n",
    "ptl_type = ['stdp', 'trip1', 'quad','trip2']\n",
    "for i in range(len(ptl_len)):\n",
    "    plt.plot(targets_out[i], predictions_out[i],'o', label=ptl_type[i])\n",
    "\n",
    "plt.title('Validation data (R2=%0.2f)'%(R2))\n",
    "plt.legend()"
   ]
  },
  {
   "cell_type": "code",
   "execution_count": 41,
   "metadata": {
    "collapsed": false,
    "deletable": true,
    "editable": true
   },
   "outputs": [],
   "source": [
    "# Generat the spike trains and targets for STDP\n",
    "data3 = data[data['ptl_idx']==3]\n",
    "ptl_list = [1,2,3,4]\n",
    "spk_len = int(data3['train_len'].max() * 1000 / ker_test.reso_kernel)\n",
    "if_noise = 0\n",
    "aug_times = [1,1,1,1]\n",
    "spk_pairs_test, targets_test = arb_w_gen(df=data_gen_test, ptl_list=ptl_list, targets=y_test, if_noise=if_noise, spk_len=spk_len, kernel=ker_test, net_type='triplet', aug_times=aug_times)"
   ]
  },
  {
   "cell_type": "code",
   "execution_count": 42,
   "metadata": {
    "collapsed": false,
    "deletable": true,
    "editable": true
   },
   "outputs": [
    {
     "data": {
      "text/plain": [
       "<matplotlib.legend.Legend at 0x7feeb8cf8d68>"
      ]
     },
     "execution_count": 42,
     "metadata": {},
     "output_type": "execute_result"
    },
    {
     "data": {
      "image/png": "[encoded data removed]",
      "text/plain": [
       "<matplotlib.figure.Figure at 0x7feeb9e47518>"
      ]
     },
     "metadata": {},
     "output_type": "display_data"
    }
   ],
   "source": [
    "# Generate test predictions\n",
    "spk_len = int(data['train_len'].max() * 1000 / ker_test.reso_kernel)\n",
    "_, predictions_test = arb_w_gen(spk_pairs=spk_pairs_test, spk_len=spk_len, kernel=ker_test, net_type='triplet')\n",
    "\n",
    "ptl_len = np.array([9,7,12,4])\n",
    "rep_time = np.array([1,1,1,1])\n",
    "ptl_len, targets_out, predictions_out = data_aug_knn.target_pred_gen(targets_test, predictions_test, ptl_len, rep_time)\n",
    "\n",
    "# Calculate the total sum of squares\n",
    "R2 = 1 - np.sum(np.square(predictions_test-targets_test))/(np.square(np.std(targets_test))*(len(targets_test)-1))\n",
    "corr = np.sqrt(R2)\n",
    "\n",
    "plt.plot(np.linspace(-30,50,80), np.linspace(-30,50,80),'k--')\n",
    "ptl_type = ['stdp', 'trip1', 'quad','trip2']\n",
    "for i in range(len(ptl_len)):\n",
    "    plt.plot(targets_out[i], predictions_out[i],'o', label=ptl_type[i])\n",
    "\n",
    "plt.title('Testing data (R2=%0.2f)'%(R2))\n",
    "plt.legend()"
   ]
  }
 ],
 "metadata": {
  "kernelspec": {
   "display_name": "Python 3",
   "language": "python",
   "name": "python3"
  },
  "language_info": {
   "codemirror_mode": {
    "name": "ipython",
    "version": 3
   },
   "file_extension": ".py",
   "mimetype": "text/x-python",
   "name": "python",
   "nbconvert_exporter": "python",
   "pygments_lexer": "ipython3",
   "version": "3.5.2"
  }
 },
 "nbformat": 4,
 "nbformat_minor": 2
}

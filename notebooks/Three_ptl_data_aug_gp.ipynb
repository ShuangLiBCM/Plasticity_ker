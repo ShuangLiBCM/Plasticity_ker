{
 "cells": [
  {
   "cell_type": "markdown",
   "metadata": {
    "deletable": true,
    "editable": true
   },
   "source": [
    "Split the protocol into training, validation and testing set and then augment and train."
   ]
  },
  {
   "cell_type": "code",
   "execution_count": 1,
   "metadata": {
    "collapsed": false,
    "deletable": true,
    "editable": true
   },
   "outputs": [],
   "source": [
    "# Load libraries and modules\n",
    "import numpy as np\n",
    "import pandas as pd\n",
    "import matplotlib.pyplot as plt\n",
    "import seaborn as sns\n",
    "import tensorflow as tf\n",
    "from modelval import pairptl, network, trainer, dataset, data_aug_knn, perform_eval\n",
    "from modelval.ArbDataGen import arb_w_gen\n",
    "from modelval.spk_visu import spk_see, raster\n",
    "from modelval import gp_regressor\n",
    "from modelval import data_aug_gp\n",
    "from sklearn.model_selection import train_test_split\n",
    "\n",
    "import warnings\n",
    "warnings.filterwarnings('ignore')\n",
    "\n",
    "% matplotlib inline\n",
    "% load_ext autoreload\n",
    "% autoreload 2"
   ]
  },
  {
   "cell_type": "code",
   "execution_count": 2,
   "metadata": {
    "collapsed": false,
    "deletable": true,
    "editable": true
   },
   "outputs": [
    {
     "data": {
      "text/html": [
       "<div>\n",
       "<table border=\"1\" class=\"dataframe\">\n",
       "  <thead>\n",
       "    <tr style=\"text-align: right;\">\n",
       "      <th></th>\n",
       "      <th>ptl_idx</th>\n",
       "      <th>pre_spk_num</th>\n",
       "      <th>pre_spk_freq</th>\n",
       "      <th>post_spk_num</th>\n",
       "      <th>post_spk_freq</th>\n",
       "      <th>ptl_occ</th>\n",
       "      <th>ptl_freq</th>\n",
       "      <th>dt1</th>\n",
       "      <th>dt2</th>\n",
       "      <th>dt3</th>\n",
       "      <th>dw_mean</th>\n",
       "      <th>dw_ste</th>\n",
       "      <th>train_len</th>\n",
       "    </tr>\n",
       "  </thead>\n",
       "  <tbody>\n",
       "    <tr>\n",
       "      <th>0</th>\n",
       "      <td>1</td>\n",
       "      <td>1</td>\n",
       "      <td>0</td>\n",
       "      <td>1</td>\n",
       "      <td>0</td>\n",
       "      <td>60</td>\n",
       "      <td>1.0</td>\n",
       "      <td>-102.898046</td>\n",
       "      <td>0.0</td>\n",
       "      <td>0</td>\n",
       "      <td>-1.322590</td>\n",
       "      <td>0.0</td>\n",
       "      <td>60</td>\n",
       "    </tr>\n",
       "    <tr>\n",
       "      <th>1</th>\n",
       "      <td>1</td>\n",
       "      <td>1</td>\n",
       "      <td>0</td>\n",
       "      <td>1</td>\n",
       "      <td>0</td>\n",
       "      <td>60</td>\n",
       "      <td>1.0</td>\n",
       "      <td>-75.579896</td>\n",
       "      <td>0.0</td>\n",
       "      <td>0</td>\n",
       "      <td>2.674768</td>\n",
       "      <td>0.0</td>\n",
       "      <td>60</td>\n",
       "    </tr>\n",
       "    <tr>\n",
       "      <th>2</th>\n",
       "      <td>1</td>\n",
       "      <td>1</td>\n",
       "      <td>0</td>\n",
       "      <td>1</td>\n",
       "      <td>0</td>\n",
       "      <td>60</td>\n",
       "      <td>1.0</td>\n",
       "      <td>-80.871473</td>\n",
       "      <td>0.0</td>\n",
       "      <td>0</td>\n",
       "      <td>-12.696449</td>\n",
       "      <td>0.0</td>\n",
       "      <td>60</td>\n",
       "    </tr>\n",
       "    <tr>\n",
       "      <th>3</th>\n",
       "      <td>1</td>\n",
       "      <td>1</td>\n",
       "      <td>0</td>\n",
       "      <td>1</td>\n",
       "      <td>0</td>\n",
       "      <td>60</td>\n",
       "      <td>1.0</td>\n",
       "      <td>-67.562239</td>\n",
       "      <td>0.0</td>\n",
       "      <td>0</td>\n",
       "      <td>0.231446</td>\n",
       "      <td>0.0</td>\n",
       "      <td>60</td>\n",
       "    </tr>\n",
       "    <tr>\n",
       "      <th>4</th>\n",
       "      <td>1</td>\n",
       "      <td>1</td>\n",
       "      <td>0</td>\n",
       "      <td>1</td>\n",
       "      <td>0</td>\n",
       "      <td>60</td>\n",
       "      <td>1.0</td>\n",
       "      <td>-63.553410</td>\n",
       "      <td>0.0</td>\n",
       "      <td>0</td>\n",
       "      <td>-0.990216</td>\n",
       "      <td>0.0</td>\n",
       "      <td>60</td>\n",
       "    </tr>\n",
       "  </tbody>\n",
       "</table>\n",
       "</div>"
      ],
      "text/plain": [
       "   ptl_idx  pre_spk_num  pre_spk_freq  post_spk_num  post_spk_freq  ptl_occ  \\\n",
       "0        1            1             0             1              0       60   \n",
       "1        1            1             0             1              0       60   \n",
       "2        1            1             0             1              0       60   \n",
       "3        1            1             0             1              0       60   \n",
       "4        1            1             0             1              0       60   \n",
       "\n",
       "   ptl_freq         dt1  dt2  dt3    dw_mean  dw_ste  train_len  \n",
       "0       1.0 -102.898046  0.0    0  -1.322590     0.0         60  \n",
       "1       1.0  -75.579896  0.0    0   2.674768     0.0         60  \n",
       "2       1.0  -80.871473  0.0    0 -12.696449     0.0         60  \n",
       "3       1.0  -67.562239  0.0    0   0.231446     0.0         60  \n",
       "4       1.0  -63.553410  0.0    0  -0.990216     0.0         60  "
      ]
     },
     "execution_count": 2,
     "metadata": {},
     "output_type": "execute_result"
    }
   ],
   "source": [
    "# Load data frame\n",
    "data = pd.read_csv('/src/Plasticity_Ker/data/kernel_training_data_auto.csv')\n",
    "data.head()"
   ]
  },
  {
   "cell_type": "code",
   "execution_count": 3,
   "metadata": {
    "collapsed": false,
    "deletable": true,
    "editable": true
   },
   "outputs": [],
   "source": [
    "# Obtain augmented data from STDP protocol\n",
    "params = {'amp_kernel': 1,\n",
    " 'length_scale': 0.1,\n",
    " 'power_sc': 0.2,\n",
    " 'sigma_noise': 1.0}\n",
    "\n",
    "x_stdp, f_stdp, x_stdp_test, y_stdp_test, _ = data_aug_gp.stdp_gp(**params)\n",
    "\n",
    "x_stdp_train, x_stdp_vali, y_stdp_train, y_stdp_vali = train_test_split(x_stdp, f_stdp, test_size=0.2)"
   ]
  },
  {
   "cell_type": "code",
   "execution_count": 4,
   "metadata": {
    "collapsed": false,
    "deletable": true,
    "editable": true
   },
   "outputs": [
    {
     "data": {
      "text/plain": [
       "[-110, 110, -50, 110]"
      ]
     },
     "execution_count": 4,
     "metadata": {},
     "output_type": "execute_result"
    },
    {
     "data": {
      "image/png": "[encoded data removed]",
      "text/plain": [
       "<matplotlib.figure.Figure at 0x7fbeda8cd8d0>"
      ]
     },
     "metadata": {},
     "output_type": "display_data"
    }
   ],
   "source": [
    "plt.plot(x_stdp_train, y_stdp_train, 'o',label='train_data')\n",
    "plt.plot(x_stdp_vali, y_stdp_vali, 'o',label='vali_data')\n",
    "plt.plot(x_stdp_test,y_stdp_test, 'o', label='test_data')\n",
    "plt.legend(loc='upper left')\n",
    "plt.axis([-110,110,-50,110])"
   ]
  },
  {
   "cell_type": "code",
   "execution_count": 5,
   "metadata": {
    "collapsed": false,
    "deletable": true,
    "editable": true
   },
   "outputs": [],
   "source": [
    "# Pute time information into dataframe\n",
    "data_stdp_train = data_aug_gp.STDP_dw_gen(x_stdp_train)\n",
    "data_stdp_vali = data_aug_gp.STDP_dw_gen(x_stdp_vali)\n",
    "data_stdp_test = data_aug_gp.STDP_dw_gen(x_stdp_test.reshape(-1,1))"
   ]
  },
  {
   "cell_type": "code",
   "execution_count": 6,
   "metadata": {
    "collapsed": false,
    "deletable": true,
    "editable": true
   },
   "outputs": [
    {
     "data": {
      "text/plain": [
       "((160, 13), (160, 1), (40, 13), (40, 1), (9, 13), (9, 1))"
      ]
     },
     "execution_count": 6,
     "metadata": {},
     "output_type": "execute_result"
    }
   ],
   "source": [
    "data_stdp_train.shape, y_stdp_train.shape, data_stdp_vali.shape, y_stdp_vali.shape,data_stdp_test.shape, y_stdp_test.shape"
   ]
  },
  {
   "cell_type": "code",
   "execution_count": 7,
   "metadata": {
    "collapsed": false,
    "deletable": true,
    "editable": true
   },
   "outputs": [
    {
     "data": {
      "text/plain": [
       "<matplotlib.legend.Legend at 0x7fbed8846860>"
      ]
     },
     "execution_count": 7,
     "metadata": {},
     "output_type": "execute_result"
    },
    {
     "data": {
      "image/png": "[encoded data removed]",
      "text/plain": [
       "<matplotlib.figure.Figure at 0x7fbed8815e48>"
      ]
     },
     "metadata": {},
     "output_type": "display_data"
    }
   ],
   "source": [
    "# Obtain augmented data from quadruplet protocol\n",
    "params = {'amp_kernel': 1,\n",
    " 'length_scale': 0.45,\n",
    " 'power_sc': 0.4,\n",
    " 'sigma_noise': 1.2}\n",
    "\n",
    "x_quad, f_quad, x_quad_test, y_quad_test,_ = data_aug_gp.quad_gp(**params)\n",
    "\n",
    "# Split into training and validation set\n",
    "x_quad_train, x_quad_vali, y_quad_train, y_quad_vali = train_test_split(x_quad, f_quad, test_size=0.2)\n",
    "\n",
    "plt.plot(x_quad_train, y_quad_train, 'o', label='train_data')\n",
    "plt.plot(x_quad_vali, y_quad_vali, 'o', label='vali_data')\n",
    "plt.plot(x_quad_test, y_quad_test, 'o', label='test_data')\n",
    "plt.legend(loc='upper left')"
   ]
  },
  {
   "cell_type": "code",
   "execution_count": 8,
   "metadata": {
    "collapsed": false,
    "deletable": true,
    "editable": true
   },
   "outputs": [],
   "source": [
    "# Put dt information into dataframe\n",
    "data_quad_train = data_aug_gp.quad_dw_gen(x_quad_train)\n",
    "data_quad_vali = data_aug_gp.quad_dw_gen(x_quad_vali)\n",
    "data_quad_test = data_aug_gp.quad_dw_gen(x_quad_test.reshape(-1,1))"
   ]
  },
  {
   "cell_type": "code",
   "execution_count": 9,
   "metadata": {
    "collapsed": false,
    "deletable": true,
    "editable": true
   },
   "outputs": [
    {
     "data": {
      "text/plain": [
       "((160, 13), (160, 1), (40, 13), (40, 1), (12, 13), (12, 1))"
      ]
     },
     "execution_count": 9,
     "metadata": {},
     "output_type": "execute_result"
    }
   ],
   "source": [
    "data_quad_train.shape, y_quad_train.shape, data_quad_vali.shape, y_quad_vali.shape, data_quad_test.shape, y_quad_test.shape"
   ]
  },
  {
   "cell_type": "code",
   "execution_count": 10,
   "metadata": {
    "collapsed": false,
    "deletable": true,
    "editable": true
   },
   "outputs": [
    {
     "data": {
      "text/plain": [
       "<matplotlib.legend.Legend at 0x7fbed87490b8>"
      ]
     },
     "execution_count": 10,
     "metadata": {},
     "output_type": "execute_result"
    },
    {
     "data": {
      "image/png": "[encoded data removed]",
      "text/plain": [
       "<matplotlib.figure.Figure at 0x7fbed87fcf98>"
      ]
     },
     "metadata": {},
     "output_type": "display_data"
    },
    {
     "data": {
      "image/png": "[encoded data removed]",
      "text/plain": [
       "<matplotlib.figure.Figure at 0x7fbed8749ba8>"
      ]
     },
     "metadata": {},
     "output_type": "display_data"
    }
   ],
   "source": [
    "# Generate data for Triplet\n",
    "dt = np.array([-10, -5, 0, 5, 10]).reshape(-1,1)\n",
    "data_trip, y_trip, data_trip_test, y_trip_test = data_aug_gp.triplet_dw_gen()\n",
    "\n",
    "# Split the triplet data into training and validation\n",
    "np.random.seed(10)\n",
    "idx = np.random.permutation(len(data_trip))\n",
    "data_trip_train = data_trip.iloc[idx[:int(len(data_trip)*0.8)]]\n",
    "y_trip_train = y_trip[idx[:int(len(data_trip)*0.8)]]\n",
    "data_trip_vali = data_trip.iloc[idx[int(len(data_trip)*0.8):]]\n",
    "y_trip_vali = y_trip[idx[int(len(data_trip)*0.8):]]\n",
    "\n",
    "# Validate the correctness of triplet protocol data generation\n",
    "# Find the ptl2\n",
    "data2 = data[data['ptl_idx']==2]\n",
    "plt.plot(data2['dt1'], data2['dw_mean'],'o', label='raw_data')\n",
    "\n",
    "data2_train_check = data_trip_train[data_trip_train['ptl_idx']==2]\n",
    "plt.plot(data2_train_check['dt1'].reshape(-1,1),y_trip_train[data_trip_train['ptl_idx']==2].reshape(-1,1),'o', label='train_data')\n",
    "\n",
    "data2_vali_check = data_trip_vali[data_trip_vali['ptl_idx']==2]\n",
    "plt.plot(data2_vali_check['dt1'].reshape(-1,1),y_trip_vali[data_trip_vali['ptl_idx']==2].reshape(-1,1),'o', label='vali_data')\n",
    "\n",
    "data2_test_check = data_trip_test[data_trip_test['ptl_idx']==2]\n",
    "plt.plot(data2_test_check['dt1'].reshape(-1,1),y_trip_test[data_trip_test['ptl_idx']==2].reshape(-1,1),'o', label='test_data')\n",
    "\n",
    "plt.legend()\n",
    "\n",
    "plt.figure()\n",
    "# Validate the correctness of triplet protocol data generation\n",
    "# Find the ptl2\n",
    "data4 = data[data['ptl_idx']==4]\n",
    "plt.plot(data4['dt1'], data4['dw_mean'],'o', label='raw_data')\n",
    "\n",
    "data4_train_check = data_trip_train[data_trip_train['ptl_idx']==4]\n",
    "plt.plot(data4_train_check['dt1'].reshape(-1,1),y_trip_train[data_trip_train['ptl_idx']==4].reshape(-1,1),'o', label='gen_data')\n",
    "\n",
    "data2_vali_check = data_trip_vali[data_trip_vali['ptl_idx']==4]\n",
    "plt.plot(data2_vali_check['dt1'].reshape(-1,1),y_trip_vali[data_trip_vali['ptl_idx']==4].reshape(-1,1),'o', label='vali_data')\n",
    "\n",
    "data4_test_check = data_trip_test[data_trip_test['ptl_idx']==4]\n",
    "plt.plot(data4_test_check['dt1'].reshape(-1,1),y_trip_test[data_trip_test['ptl_idx']==4].reshape(-1,1),'o', label='test_data')\n",
    "\n",
    "plt.legend()\n",
    "# Find the ptl4"
   ]
  },
  {
   "cell_type": "code",
   "execution_count": 11,
   "metadata": {
    "collapsed": false,
    "deletable": true,
    "editable": true
   },
   "outputs": [],
   "source": [
    "# Combine data from stdp and quadruplet\n",
    "data_gen_train = pd.concat([data_stdp_train, data_trip_train, data_quad_train], axis=0)\n",
    "y_train = np.concatenate([y_stdp_train, y_trip_train, y_quad_train])\n",
    "data_gen_vali = pd.concat([data_stdp_vali, data_trip_vali, data_quad_vali], axis=0)\n",
    "y_vali = np.concatenate([y_stdp_vali, y_trip_vali, y_quad_vali])\n",
    "data_gen_test = pd.concat([data_stdp_test, data_trip_test, data_quad_test], axis=0)\n",
    "y_test = np.concatenate([y_stdp_test, y_trip_test, y_quad_test])"
   ]
  },
  {
   "cell_type": "code",
   "execution_count": 12,
   "metadata": {
    "collapsed": false,
    "deletable": true,
    "editable": true
   },
   "outputs": [
    {
     "data": {
      "text/plain": [
       "((448, 13), (448, 1), (112, 13), (112, 1))"
      ]
     },
     "execution_count": 12,
     "metadata": {},
     "output_type": "execute_result"
    }
   ],
   "source": [
    "data_gen_train.shape, y_train.shape, data_gen_vali.shape, y_vali.shape"
   ]
  },
  {
   "cell_type": "code",
   "execution_count": 13,
   "metadata": {
    "collapsed": false,
    "deletable": true,
    "editable": true
   },
   "outputs": [
    {
     "data": {
      "text/html": [
       "<div>\n",
       "<table border=\"1\" class=\"dataframe\">\n",
       "  <thead>\n",
       "    <tr style=\"text-align: right;\">\n",
       "      <th></th>\n",
       "      <th></th>\n",
       "      <th>A2_+</th>\n",
       "      <th>A3_-</th>\n",
       "      <th>A2_-</th>\n",
       "      <th>A3_+</th>\n",
       "      <th>Tau_+</th>\n",
       "      <th>Tau_x</th>\n",
       "      <th>Tau_-</th>\n",
       "      <th>Tau_y</th>\n",
       "    </tr>\n",
       "  </thead>\n",
       "  <tbody>\n",
       "    <tr>\n",
       "      <th rowspan=\"2\" valign=\"top\">Visu_AlltoAll</th>\n",
       "      <th>Full</th>\n",
       "      <td>5e-10</td>\n",
       "      <td>0.00023</td>\n",
       "      <td>0.007</td>\n",
       "      <td>0.0062</td>\n",
       "      <td>16.8</td>\n",
       "      <td>101</td>\n",
       "      <td>33.7</td>\n",
       "      <td>125</td>\n",
       "    </tr>\n",
       "    <tr>\n",
       "      <th>Min</th>\n",
       "      <td>0</td>\n",
       "      <td>0</td>\n",
       "      <td>0.0071</td>\n",
       "      <td>0.0065</td>\n",
       "      <td>16.8</td>\n",
       "      <td>1</td>\n",
       "      <td>33.7</td>\n",
       "      <td>114</td>\n",
       "    </tr>\n",
       "    <tr>\n",
       "      <th rowspan=\"2\" valign=\"top\">Visu_NearestSpk</th>\n",
       "      <th>Full</th>\n",
       "      <td>8.8e-11</td>\n",
       "      <td>0.0031</td>\n",
       "      <td>0.0066</td>\n",
       "      <td>0.053</td>\n",
       "      <td>16.8</td>\n",
       "      <td>714</td>\n",
       "      <td>33.7</td>\n",
       "      <td>40</td>\n",
       "    </tr>\n",
       "    <tr>\n",
       "      <th>Min</th>\n",
       "      <td>0</td>\n",
       "      <td>0</td>\n",
       "      <td>0.008</td>\n",
       "      <td>0.05</td>\n",
       "      <td>16.8</td>\n",
       "      <td>1</td>\n",
       "      <td>33.7</td>\n",
       "      <td>40</td>\n",
       "    </tr>\n",
       "    <tr>\n",
       "      <th rowspan=\"2\" valign=\"top\">Hippo_AlltoAll</th>\n",
       "      <th>Full</th>\n",
       "      <td>0.0061</td>\n",
       "      <td>0.0014</td>\n",
       "      <td>0.0016</td>\n",
       "      <td>0.0067</td>\n",
       "      <td>16.8</td>\n",
       "      <td>946</td>\n",
       "      <td>33.7</td>\n",
       "      <td>27</td>\n",
       "    </tr>\n",
       "    <tr>\n",
       "      <th>Min</th>\n",
       "      <td>0.0053</td>\n",
       "      <td>0</td>\n",
       "      <td>0.0035</td>\n",
       "      <td>0.008</td>\n",
       "      <td>16.8</td>\n",
       "      <td>1</td>\n",
       "      <td>33.7</td>\n",
       "      <td>40</td>\n",
       "    </tr>\n",
       "    <tr>\n",
       "      <th rowspan=\"2\" valign=\"top\">Hippo_NearestSpk</th>\n",
       "      <th>Full</th>\n",
       "      <td>0.0046</td>\n",
       "      <td>7.5e-09</td>\n",
       "      <td>0.003</td>\n",
       "      <td>0.0091</td>\n",
       "      <td>16.8</td>\n",
       "      <td>575</td>\n",
       "      <td>33.7</td>\n",
       "      <td>47</td>\n",
       "    </tr>\n",
       "    <tr>\n",
       "      <th>Min</th>\n",
       "      <td>0.0046</td>\n",
       "      <td>0</td>\n",
       "      <td>0.003</td>\n",
       "      <td>0.0091</td>\n",
       "      <td>16.8</td>\n",
       "      <td>1</td>\n",
       "      <td>33.7</td>\n",
       "      <td>48</td>\n",
       "    </tr>\n",
       "  </tbody>\n",
       "</table>\n",
       "</div>"
      ],
      "text/plain": [
       "                          A2_+     A3_-    A2_-    A3_+ Tau_+ Tau_x Tau_-  \\\n",
       "Visu_AlltoAll    Full    5e-10  0.00023   0.007  0.0062  16.8   101  33.7   \n",
       "                 Min         0        0  0.0071  0.0065  16.8     1  33.7   \n",
       "Visu_NearestSpk  Full  8.8e-11   0.0031  0.0066   0.053  16.8   714  33.7   \n",
       "                 Min         0        0   0.008    0.05  16.8     1  33.7   \n",
       "Hippo_AlltoAll   Full   0.0061   0.0014  0.0016  0.0067  16.8   946  33.7   \n",
       "                 Min    0.0053        0  0.0035   0.008  16.8     1  33.7   \n",
       "Hippo_NearestSpk Full   0.0046  7.5e-09   0.003  0.0091  16.8   575  33.7   \n",
       "                 Min    0.0046        0   0.003  0.0091  16.8     1  33.7   \n",
       "\n",
       "                      Tau_y  \n",
       "Visu_AlltoAll    Full   125  \n",
       "                 Min    114  \n",
       "Visu_NearestSpk  Full    40  \n",
       "                 Min     40  \n",
       "Hippo_AlltoAll   Full    27  \n",
       "                 Min     40  \n",
       "Hippo_NearestSpk Full    47  \n",
       "                 Min     48  "
      ]
     },
     "execution_count": 13,
     "metadata": {},
     "output_type": "execute_result"
    }
   ],
   "source": [
    "trip_para = pd.read_pickle('/src/Plasticity_Ker/data/Gerstner_trip_para_df')\n",
    "trip_para\n",
    "# Reorder columns to match parameter of the model\n",
    "trip_para = trip_para[['A2_+', 'A3_-', 'A2_-', 'A3_+', 'Tau_+', 'Tau_x', 'Tau_-', 'Tau_y']]\n",
    "trip_para"
   ]
  },
  {
   "cell_type": "code",
   "execution_count": 14,
   "metadata": {
    "collapsed": true,
    "deletable": true,
    "editable": true
   },
   "outputs": [],
   "source": [
    "# Visualize kernel\n",
    "from modelval.kernel import KernelGen\n",
    "ker_test = KernelGen()\n",
    "\n",
    "para = trip_para.loc[('Hippo_AlltoAll', 'Full'), :]\n",
    "a = para[:4].values\n",
    "tau = para[4:].values\n",
    "reso_set = 2\n",
    "tau_pre_post = tau[0]/reso_set  # ms\n",
    "tau_post_pre = tau[2]/reso_set # ms\n",
    "\n",
    "len_kernel=101\n",
    "ker_test = KernelGen(len_kernel=len_kernel)\n",
    "ker_test.trip_model_ker(para, data_name='Hippocampus')"
   ]
  },
  {
   "cell_type": "code",
   "execution_count": 15,
   "metadata": {
    "collapsed": false,
    "deletable": true,
    "editable": true
   },
   "outputs": [],
   "source": [
    "# Generat the spike trains and targets for STDP\n",
    "data_hippo = data[data['ptl_idx']<5]\n",
    "ptl_list = [1,2,3,4]\n",
    "spk_len = int(data_hippo['train_len'].max() * 1000 / ker_test.reso_kernel)\n",
    "if_noise = 0\n",
    "aug_times = [1,1,1,1]\n",
    "spk_pairs_train, targets_train = arb_w_gen(df=data_gen_train, ptl_list=ptl_list, targets=y_train, if_noise=if_noise, spk_len=spk_len, kernel=ker_test, net_type='triplet', aug_times=aug_times)\n",
    "spk_pairs_vali, targets_vali = arb_w_gen(df=data_gen_vali, ptl_list=ptl_list, targets=y_vali, if_noise=if_noise, spk_len=spk_len, kernel=ker_test, net_type='triplet', aug_times=aug_times)"
   ]
  },
  {
   "cell_type": "code",
   "execution_count": 16,
   "metadata": {
    "collapsed": false,
    "deletable": true,
    "editable": true
   },
   "outputs": [],
   "source": [
    "# Create the network\n",
    "ground_truth_init = 0\n",
    "reg_scale=(10, 1, 10)\n",
    "init_seed=(4,5,6,7)\n",
    "toy_data_net = network.TripNet(kernel=ker_test, ground_truth_init=ground_truth_init, reg_scale=reg_scale, n_input=spk_pairs_train.shape[1])"
   ]
  },
  {
   "cell_type": "code",
   "execution_count": 17,
   "metadata": {
    "collapsed": false,
    "deletable": true,
    "editable": true
   },
   "outputs": [],
   "source": [
    "# Create the trainer\n",
    "save_dir= '/src/Plasticity_Ker/model/Trip_ptl1_4_real_aug_gp_sample_alpha1_alpha3_10'\n",
    "# optimizer_op = tf.train.GradientDescentOptimizer\n",
    "toy_net_trainer = trainer.Trainer(toy_data_net.loss, toy_data_net.loss, input_name=toy_data_net.inputs, target_name=toy_data_net.target, save_dir=save_dir, optimizer_config={'learning_rate': toy_data_net.lr})"
   ]
  },
  {
   "cell_type": "code",
   "execution_count": 18,
   "metadata": {
    "collapsed": true,
    "deletable": true,
    "editable": true
   },
   "outputs": [],
   "source": [
    "train_data = dataset.Dataset(spk_pairs_train, targets_train)\n",
    "vali_data = dataset.Dataset(spk_pairs_vali, targets_vali)"
   ]
  },
  {
   "cell_type": "code",
   "execution_count": 19,
   "metadata": {
    "collapsed": false,
    "deletable": true,
    "editable": true
   },
   "outputs": [
    {
     "name": "stdout",
     "output_type": "stream",
     "text": [
      "[-0.22614121 -0.27994752  0.95375919] 0.0\n"
     ]
    },
    {
     "data": {
      "image/png": "[encoded data removed]",
      "text/plain": [
       "<matplotlib.figure.Figure at 0x7fbed878d748>"
      ]
     },
     "metadata": {},
     "output_type": "display_data"
    }
   ],
   "source": [
    "w_pre = toy_net_trainer.evaluate(ops=toy_data_net.kernel_pre)\n",
    "w_post = toy_net_trainer.evaluate(ops=toy_data_net.kernel_post)\n",
    "w_post_post = toy_net_trainer.evaluate(ops=toy_data_net.kernel_post_post)\n",
    "fc_w = toy_net_trainer.evaluate(ops=toy_data_net.fc_w)\n",
    "bias = toy_net_trainer.evaluate(ops=toy_data_net.bias)\n",
    "plt.plot(w_pre,  label='ker_pre_init')\n",
    "plt.plot(w_post,  label='ker_post_init')\n",
    "plt.plot(w_post_post,  label='ker_post_post_init')\n",
    "\n",
    "plt.legend()\n",
    "print(fc_w, bias)"
   ]
  },
  {
   "cell_type": "code",
   "execution_count": 20,
   "metadata": {
    "collapsed": false,
    "deletable": true,
    "editable": true
   },
   "outputs": [
    {
     "name": "stdout",
     "output_type": "stream",
     "text": [
      "\n",
      "Initial validation cost=267.93738\n",
      "Global Step 0150 and Step 0150: validation cost=168.66588\n",
      "Updated min validation loss!Saving model...\n",
      "Global Step 0200 and Step 0200: validation cost=145.01643\n",
      "Updated min validation loss!Saving model...\n",
      "Global Step 0250 and Step 0250: validation cost=128.26178\n",
      "Updated min validation loss!Saving model...\n",
      "Global Step 0300 and Step 0300: validation cost=118.53568\n",
      "Updated min validation loss!Saving model...\n",
      "Global Step 0350 and Step 0350: validation cost=113.50166\n",
      "Updated min validation loss!Saving model...\n",
      "Global Step 0400 and Step 0400: validation cost=110.43836\n",
      "Updated min validation loss!Saving model...\n",
      "Global Step 0450 and Step 0450: validation cost=108.06507\n",
      "Updated min validation loss!Saving model...\n",
      "Global Step 0500 and Step 0500: validation cost=105.77412\n",
      "Updated min validation loss!Saving model...\n",
      "Global Step 0550 and Step 0550: validation cost=103.30350\n",
      "Updated min validation loss!Saving model...\n",
      "Global Step 0600 and Step 0600: validation cost=101.02818\n",
      "Updated min validation loss!Saving model...\n",
      "Global Step 0650 and Step 0650: validation cost=98.85699\n",
      "Updated min validation loss!Saving model...\n",
      "Global Step 0700 and Step 0700: validation cost=96.80167\n",
      "Updated min validation loss!Saving model...\n",
      "Global Step 0750 and Step 0750: validation cost=94.98830\n",
      "Updated min validation loss!Saving model...\n",
      "Global Step 0800 and Step 0800: validation cost=93.38092\n",
      "Updated min validation loss!Saving model...\n",
      "Global Step 0850 and Step 0850: validation cost=91.79526\n",
      "Updated min validation loss!Saving model...\n",
      "Global Step 0900 and Step 0900: validation cost=90.41604\n",
      "Updated min validation loss!Saving model...\n",
      "Global Step 0950 and Step 0950: validation cost=89.39555\n",
      "Updated min validation loss!Saving model...\n",
      "Global Step 1000 and Step 1000: validation cost=88.14053\n",
      "Updated min validation loss!Saving model...\n",
      "Global Step 1050 and Step 1050: validation cost=87.10091\n",
      "Updated min validation loss!Saving model...\n",
      "Global Step 1100 and Step 1100: validation cost=86.10780\n",
      "Updated min validation loss!Saving model...\n",
      "Global Step 1150 and Step 1150: validation cost=85.05732\n",
      "Updated min validation loss!Saving model...\n",
      "Global Step 1200 and Step 1200: validation cost=84.39632\n",
      "Updated min validation loss!Saving model...\n",
      "Global Step 1250 and Step 1250: validation cost=83.50873\n",
      "Updated min validation loss!Saving model...\n",
      "Global Step 1300 and Step 1300: validation cost=83.01459\n",
      "Updated min validation loss!Saving model...\n",
      "Global Step 1350 and Step 1350: validation cost=82.05621\n",
      "Updated min validation loss!Saving model...\n",
      "Global Step 1400 and Step 1400: validation cost=81.53973\n",
      "Updated min validation loss!Saving model...\n",
      "Global Step 1450 and Step 1450: validation cost=81.00534\n",
      "Updated min validation loss!Saving model...\n",
      "Global Step 1500 and Step 1500: validation cost=80.61617\n",
      "Updated min validation loss!Saving model...\n",
      "Global Step 1550 and Step 1550: validation cost=80.34914\n",
      "Updated min validation loss!Saving model...\n",
      "Global Step 1600 and Step 1600: validation cost=80.09048\n",
      "Updated min validation loss!Saving model...\n",
      "Global Step 1650 and Step 1650: validation cost=79.78827\n",
      "Updated min validation loss!Saving model...\n",
      "Global Step 1700 and Step 1700: validation cost=79.28307\n",
      "Updated min validation loss!Saving model...\n",
      "Global Step 1750 and Step 1750: validation cost=79.33080\n",
      "Global Step 1800 and Step 1800: validation cost=79.09090\n",
      "Updated min validation loss!Saving model...\n",
      "Global Step 1850 and Step 1850: validation cost=79.01001\n",
      "Updated min validation loss!Saving model...\n",
      "Global Step 1900 and Step 1900: validation cost=78.73829\n",
      "Updated min validation loss!Saving model...\n",
      "Global Step 1950 and Step 1950: validation cost=78.51717\n",
      "Updated min validation loss!Saving model...\n",
      "Global Step 2000 and Step 2000: validation cost=78.39750\n",
      "Updated min validation loss!Saving model...\n",
      "Global Step 2050 and Step 2050: validation cost=78.15873\n",
      "Updated min validation loss!Saving model...\n",
      "Global Step 2100 and Step 2100: validation cost=77.99738\n",
      "Updated min validation loss!Saving model...\n",
      "Global Step 2150 and Step 2150: validation cost=77.94286\n",
      "Updated min validation loss!Saving model...\n",
      "Global Step 2200 and Step 2200: validation cost=78.23100\n",
      "Global Step 2250 and Step 2250: validation cost=78.10207\n",
      "Global Step 2300 and Step 2300: validation cost=78.13232\n",
      "Global Step 2350 and Step 2350: validation cost=77.94495\n",
      "Global Step 2400 and Step 2400: validation cost=77.66687\n",
      "Updated min validation loss!Saving model...\n",
      "Global Step 2450 and Step 2450: validation cost=77.70422\n",
      "Global Step 2500 and Step 2500: validation cost=77.70574\n",
      "Global Step 2550 and Step 2550: validation cost=77.46078\n",
      "Updated min validation loss!Saving model...\n",
      "Global Step 2600 and Step 2600: validation cost=77.59929\n",
      "Global Step 2650 and Step 2650: validation cost=77.56280\n",
      "Global Step 2700 and Step 2700: validation cost=77.20636\n",
      "Updated min validation loss!Saving model...\n",
      "Global Step 2750 and Step 2750: validation cost=77.14120\n",
      "Updated min validation loss!Saving model...\n",
      "Global Step 2800 and Step 2800: validation cost=77.06573\n",
      "Updated min validation loss!Saving model...\n",
      "Global Step 2850 and Step 2850: validation cost=77.05133\n",
      "Updated min validation loss!Saving model...\n",
      "Global Step 2900 and Step 2900: validation cost=77.07114\n",
      "Global Step 2950 and Step 2950: validation cost=76.87437\n",
      "Updated min validation loss!Saving model...\n",
      "Global Step 3000 and Step 3000: validation cost=76.64254\n",
      "Updated min validation loss!Saving model...\n",
      "Global Step 3050 and Step 3050: validation cost=76.58192\n",
      "Updated min validation loss!Saving model...\n",
      "Global Step 3100 and Step 3100: validation cost=76.62439\n",
      "Global Step 3150 and Step 3150: validation cost=76.43648\n",
      "Updated min validation loss!Saving model...\n",
      "Global Step 3200 and Step 3200: validation cost=76.57188\n",
      "Global Step 3250 and Step 3250: validation cost=76.40539\n",
      "Updated min validation loss!Saving model...\n",
      "Global Step 3300 and Step 3300: validation cost=76.20152\n",
      "Updated min validation loss!Saving model...\n",
      "Global Step 3350 and Step 3350: validation cost=76.29764\n",
      "Global Step 3400 and Step 3400: validation cost=76.20341\n",
      "Global Step 3450 and Step 3450: validation cost=76.18691\n",
      "Updated min validation loss!Saving model...\n",
      "Global Step 3500 and Step 3500: validation cost=76.28650\n",
      "Global Step 3550 and Step 3550: validation cost=76.23599\n",
      "Global Step 3600 and Step 3600: validation cost=76.14499\n",
      "Updated min validation loss!Saving model...\n",
      "Global Step 3650 and Step 3650: validation cost=75.95938\n",
      "Updated min validation loss!Saving model...\n",
      "Global Step 3700 and Step 3700: validation cost=76.04202\n",
      "Global Step 3750 and Step 3750: validation cost=75.95747\n",
      "Updated min validation loss!Saving model...\n",
      "Global Step 3800 and Step 3800: validation cost=75.92713\n",
      "Updated min validation loss!Saving model...\n",
      "Global Step 3850 and Step 3850: validation cost=75.79964\n",
      "Updated min validation loss!Saving model...\n",
      "Global Step 3900 and Step 3900: validation cost=75.76429\n",
      "Updated min validation loss!Saving model...\n",
      "Global Step 3950 and Step 3950: validation cost=75.88963\n",
      "Global Step 4000 and Step 4000: validation cost=75.77497\n",
      "Global Step 4050 and Step 4050: validation cost=75.84713\n",
      "Global Step 4100 and Step 4100: validation cost=75.67699\n",
      "Updated min validation loss!Saving model...\n",
      "Global Step 4150 and Step 4150: validation cost=75.55476\n",
      "Updated min validation loss!Saving model...\n",
      "Global Step 4200 and Step 4200: validation cost=75.60280\n",
      "Global Step 4250 and Step 4250: validation cost=75.63623\n",
      "Global Step 4300 and Step 4300: validation cost=75.55542\n",
      "Global Step 4350 and Step 4350: validation cost=75.55347\n",
      "Updated min validation loss!Saving model...\n",
      "Global Step 4400 and Step 4400: validation cost=75.57927\n",
      "Global Step 4450 and Step 4450: validation cost=75.42627\n",
      "Updated min validation loss!Saving model...\n",
      "Global Step 4500 and Step 4500: validation cost=75.45986\n",
      "Global Step 4550 and Step 4550: validation cost=75.36472\n",
      "Updated min validation loss!Saving model...\n",
      "Global Step 4600 and Step 4600: validation cost=75.32021\n",
      "Updated min validation loss!Saving model...\n",
      "Global Step 4650 and Step 4650: validation cost=75.29682\n",
      "Updated min validation loss!Saving model...\n",
      "Global Step 4700 and Step 4700: validation cost=75.08154\n",
      "Updated min validation loss!Saving model...\n",
      "Global Step 4750 and Step 4750: validation cost=74.98114\n",
      "Updated min validation loss!Saving model...\n",
      "Global Step 4800 and Step 4800: validation cost=74.79581\n",
      "Updated min validation loss!Saving model...\n",
      "Global Step 4850 and Step 4850: validation cost=74.81631\n",
      "Global Step 4900 and Step 4900: validation cost=74.87125\n",
      "Global Step 4950 and Step 4950: validation cost=74.74065\n",
      "Updated min validation loss!Saving model...\n",
      "Global Step 5000 and Step 5000: validation cost=74.83492\n",
      "Global Step 5050 and Step 5050: validation cost=74.72290\n",
      "Updated min validation loss!Saving model...\n",
      "Global Step 5100 and Step 5100: validation cost=74.66398\n",
      "Updated min validation loss!Saving model...\n",
      "Global Step 5150 and Step 5150: validation cost=74.60686\n",
      "Updated min validation loss!Saving model...\n",
      "Global Step 5200 and Step 5200: validation cost=74.53089\n",
      "Updated min validation loss!Saving model...\n",
      "Global Step 5250 and Step 5250: validation cost=74.56369\n",
      "Global Step 5300 and Step 5300: validation cost=74.54525\n",
      "Global Step 5350 and Step 5350: validation cost=74.44350\n",
      "Updated min validation loss!Saving model...\n",
      "Global Step 5400 and Step 5400: validation cost=74.50843\n",
      "Global Step 5450 and Step 5450: validation cost=74.39738\n",
      "Updated min validation loss!Saving model...\n",
      "Global Step 5500 and Step 5500: validation cost=74.21687\n",
      "Updated min validation loss!Saving model...\n",
      "Global Step 5550 and Step 5550: validation cost=74.24867\n",
      "Global Step 5600 and Step 5600: validation cost=74.32378\n",
      "Global Step 5650 and Step 5650: validation cost=74.22614\n",
      "Global Step 5700 and Step 5700: validation cost=74.08693\n",
      "Updated min validation loss!Saving model...\n",
      "Global Step 5750 and Step 5750: validation cost=74.19032\n",
      "Global Step 5800 and Step 5800: validation cost=74.19945\n",
      "Global Step 5850 and Step 5850: validation cost=74.15006\n",
      "Global Step 5900 and Step 5900: validation cost=74.40689\n",
      "Global Step 5950 and Step 5950: validation cost=74.26557\n",
      "Global Step 6000 and Step 6000: validation cost=74.13575\n",
      "Global Step 6050 and Step 6050: validation cost=74.04201\n",
      "Updated min validation loss!Saving model...\n",
      "Global Step 6100 and Step 6100: validation cost=73.96832\n",
      "Updated min validation loss!Saving model...\n",
      "Global Step 6150 and Step 6150: validation cost=73.82434\n",
      "Updated min validation loss!Saving model...\n",
      "Global Step 6200 and Step 6200: validation cost=73.58614\n",
      "Updated min validation loss!Saving model...\n",
      "Global Step 6250 and Step 6250: validation cost=73.69705\n",
      "Global Step 6300 and Step 6300: validation cost=73.76575\n",
      "Global Step 6350 and Step 6350: validation cost=73.70169\n",
      "Global Step 6400 and Step 6400: validation cost=73.70198\n",
      "Global Step 6450 and Step 6450: validation cost=73.73365\n",
      "Global Step 6500 and Step 6500: validation cost=73.50897\n",
      "Updated min validation loss!Saving model...\n",
      "Global Step 6550 and Step 6550: validation cost=73.64812\n",
      "Global Step 6600 and Step 6600: validation cost=73.63069\n",
      "Global Step 6650 and Step 6650: validation cost=73.78289\n",
      "Global Step 6700 and Step 6700: validation cost=73.72330\n",
      "Global Step 6750 and Step 6750: validation cost=73.58110\n",
      "Global Step 6800 and Step 6800: validation cost=73.42792\n",
      "Updated min validation loss!Saving model...\n",
      "Global Step 6850 and Step 6850: validation cost=73.44016\n",
      "Global Step 6900 and Step 6900: validation cost=73.46117\n",
      "Global Step 6950 and Step 6950: validation cost=73.61526\n",
      "Global Step 7000 and Step 7000: validation cost=73.39239\n",
      "Updated min validation loss!Saving model...\n",
      "Global Step 7050 and Step 7050: validation cost=73.36067\n",
      "Updated min validation loss!Saving model...\n",
      "Global Step 7100 and Step 7100: validation cost=73.38737\n",
      "Global Step 7150 and Step 7150: validation cost=73.33412\n",
      "Updated min validation loss!Saving model...\n",
      "Global Step 7200 and Step 7200: validation cost=73.16806\n",
      "Updated min validation loss!Saving model...\n",
      "Global Step 7250 and Step 7250: validation cost=73.17780\n",
      "Global Step 7300 and Step 7300: validation cost=73.15977\n",
      "Updated min validation loss!Saving model...\n",
      "Global Step 7350 and Step 7350: validation cost=73.12765\n",
      "Updated min validation loss!Saving model...\n",
      "Global Step 7400 and Step 7400: validation cost=73.14009\n",
      "Global Step 7450 and Step 7450: validation cost=73.08454\n",
      "Updated min validation loss!Saving model...\n",
      "Global Step 7500 and Step 7500: validation cost=73.07147\n",
      "Updated min validation loss!Saving model...\n",
      "Global Step 7550 and Step 7550: validation cost=72.85239\n",
      "Updated min validation loss!Saving model...\n",
      "Global Step 7600 and Step 7600: validation cost=72.86353\n",
      "Global Step 7650 and Step 7650: validation cost=72.84575\n",
      "Updated min validation loss!Saving model...\n",
      "Global Step 7700 and Step 7700: validation cost=72.67773\n",
      "Updated min validation loss!Saving model...\n",
      "Global Step 7750 and Step 7750: validation cost=72.58029\n",
      "Updated min validation loss!Saving model...\n",
      "Global Step 7800 and Step 7800: validation cost=72.52139\n",
      "Updated min validation loss!Saving model...\n",
      "Global Step 7850 and Step 7850: validation cost=72.68011\n",
      "Global Step 7900 and Step 7900: validation cost=72.59879\n",
      "Global Step 7950 and Step 7950: validation cost=72.83986\n",
      "Global Step 8000 and Step 8000: validation cost=72.74887\n",
      "Global Step 8050 and Step 8050: validation cost=72.55330\n",
      "Global Step 8100 and Step 8100: validation cost=72.53246\n",
      "Global Step 8150 and Step 8150: validation cost=72.70975\n",
      "Global Step 8200 and Step 8200: validation cost=72.60833\n",
      "Global Step 8250 and Step 8250: validation cost=72.57801\n",
      "Global Step 8300 and Step 8300: validation cost=72.56642\n",
      "Global Step 8350 and Step 8350: validation cost=72.66204\n",
      "Global Step 8400 and Step 8400: validation cost=72.79840\n",
      "Global Step 8450 and Step 8450: validation cost=72.69501\n",
      "Global Step 8500 and Step 8500: validation cost=72.67734\n",
      "Global Step 8550 and Step 8550: validation cost=72.58996\n",
      "Early Stopping!!!\n",
      "Restoring the best parameters...\n",
      "Global Step 8600 and Step 0050: validation cost=72.54347\n",
      "Global Step 8650 and Step 0100: validation cost=72.52956\n",
      "Global Step 8700 and Step 0150: validation cost=72.58395\n",
      "Global Step 8750 and Step 0200: validation cost=72.58099\n",
      "Global Step 8800 and Step 0250: validation cost=72.58393\n",
      "Global Step 8850 and Step 0300: validation cost=72.60270\n",
      "Global Step 8900 and Step 0350: validation cost=72.53943\n",
      "Global Step 8950 and Step 0400: validation cost=72.55614\n",
      "Global Step 9000 and Step 0450: validation cost=72.63097\n",
      "Global Step 9050 and Step 0500: validation cost=72.75610\n",
      "Global Step 9100 and Step 0550: validation cost=72.68011\n",
      "Global Step 9150 and Step 0600: validation cost=72.62105\n",
      "Global Step 9200 and Step 0650: validation cost=72.66277\n",
      "Global Step 9250 and Step 0700: validation cost=72.53432\n",
      "Global Step 9300 and Step 0750: validation cost=72.56606\n",
      "Early Stopping!!!\n",
      "Restoring the best parameters...\n",
      "Global Step 9350 and Step 0050: validation cost=72.53563\n",
      "Global Step 9400 and Step 0100: validation cost=72.57971\n",
      "Global Step 9450 and Step 0150: validation cost=72.55220\n",
      "Global Step 9500 and Step 0200: validation cost=72.55614\n",
      "Global Step 9550 and Step 0250: validation cost=72.54047\n",
      "Global Step 9600 and Step 0300: validation cost=72.55735\n",
      "Global Step 9650 and Step 0350: validation cost=72.53550\n",
      "Global Step 9700 and Step 0400: validation cost=72.56602\n",
      "Global Step 9750 and Step 0450: validation cost=72.58090\n",
      "Global Step 9800 and Step 0500: validation cost=72.60506\n",
      "Global Step 9850 and Step 0550: validation cost=72.60345\n",
      "Global Step 9900 and Step 0600: validation cost=72.63773\n",
      "Global Step 9950 and Step 0650: validation cost=72.61594\n",
      "Global Step 10000 and Step 0700: validation cost=72.63433\n",
      "Global Step 10050 and Step 0750: validation cost=72.67760\n",
      "Early Stopping!!!\n",
      "Restoring the best parameters...\n",
      "Global Step 10100 and Step 0050: validation cost=72.51702\n",
      "Updated min validation loss!Saving model...\n",
      "Global Step 10150 and Step 0100: validation cost=72.52364\n",
      "Global Step 10200 and Step 0150: validation cost=72.52649\n",
      "Global Step 10250 and Step 0200: validation cost=72.54473\n",
      "Global Step 10300 and Step 0250: validation cost=72.55125\n",
      "Global Step 10350 and Step 0300: validation cost=72.55082\n",
      "Global Step 10400 and Step 0350: validation cost=72.54717\n",
      "Global Step 10450 and Step 0400: validation cost=72.54788\n",
      "Global Step 10500 and Step 0450: validation cost=72.53971\n",
      "Global Step 10550 and Step 0500: validation cost=72.53700\n",
      "Global Step 10600 and Step 0550: validation cost=72.52531\n",
      "Global Step 10650 and Step 0600: validation cost=72.54139\n",
      "Global Step 10700 and Step 0650: validation cost=72.53182\n",
      "Global Step 10750 and Step 0700: validation cost=72.54382\n",
      "Global Step 10800 and Step 0750: validation cost=72.55122\n",
      "Global Step 10850 and Step 0800: validation cost=72.54803\n",
      "Early Stopping!!!\n",
      "Restoring the best parameters...\n",
      "Global Step 10900 and Step 0050: validation cost=72.51688\n",
      "Updated min validation loss!Saving model...\n",
      "Global Step 10950 and Step 0100: validation cost=72.52201\n",
      "Global Step 11000 and Step 0150: validation cost=72.51916\n",
      "Global Step 11050 and Step 0200: validation cost=72.52202\n",
      "Global Step 11100 and Step 0250: validation cost=72.52095\n",
      "Global Step 11150 and Step 0300: validation cost=72.52759\n",
      "Global Step 11200 and Step 0350: validation cost=72.52755\n",
      "Global Step 11250 and Step 0400: validation cost=72.52858\n",
      "Global Step 11300 and Step 0450: validation cost=72.52496\n",
      "Global Step 11350 and Step 0500: validation cost=72.52770\n",
      "Global Step 11400 and Step 0550: validation cost=72.53353\n",
      "Global Step 11450 and Step 0600: validation cost=72.53403\n",
      "Global Step 11500 and Step 0650: validation cost=72.53709\n",
      "Global Step 11550 and Step 0700: validation cost=72.53841\n",
      "Global Step 11600 and Step 0750: validation cost=72.53834\n",
      "Global Step 11650 and Step 0800: validation cost=72.54004\n",
      "Early Stopping!!!\n",
      "Restoring the best parameters...\n"
     ]
    }
   ],
   "source": [
    "# Learn the kernel from random initialization\n",
    "learning_rate = 0.001\n",
    "iterations = 5\n",
    "min_error = -1\n",
    "for i in range(iterations):\n",
    "    toy_net_trainer.train(train_data, vali_data, batch_size=128, min_error=min_error, feed_dict={toy_data_net.lr: learning_rate})\n",
    "    learning_rate = learning_rate/3"
   ]
  },
  {
   "cell_type": "code",
   "execution_count": 21,
   "metadata": {
    "collapsed": false,
    "deletable": true,
    "editable": true
   },
   "outputs": [
    {
     "name": "stdout",
     "output_type": "stream",
     "text": [
      "[-1.37486207 -1.70190251  3.7887671 ] 1.57887\n"
     ]
    },
    {
     "data": {
      "image/png": "[encoded data removed]",
      "text/plain": [
       "<matplotlib.figure.Figure at 0x7fbec0595208>"
      ]
     },
     "metadata": {},
     "output_type": "display_data"
    }
   ],
   "source": [
    "# Restore the model and parameter\n",
    "toy_net_trainer.restore_best()\n",
    "w_pre = toy_net_trainer.evaluate(ops=toy_data_net.kernel_pre)\n",
    "w_post = toy_net_trainer.evaluate(ops=toy_data_net.kernel_post)\n",
    "w_post_post = toy_net_trainer.evaluate(ops=toy_data_net.kernel_post_post)\n",
    "fc_w = toy_net_trainer.evaluate(ops=toy_data_net.fc_w)\n",
    "bias = toy_net_trainer.evaluate(ops=toy_data_net.bias)\n",
    "plt.plot(-1 * w_pre,label='ker_pre_trained')\n",
    "plt.plot(-1 * w_post,label='ker_post_trained')\n",
    "plt.plot(w_post_post,label='ker_post_post_trained')\n",
    "\n",
    "plt.legend()\n",
    "print(fc_w, bias)"
   ]
  },
  {
   "cell_type": "code",
   "execution_count": 22,
   "metadata": {
    "collapsed": true,
    "deletable": true,
    "editable": true
   },
   "outputs": [],
   "source": [
    "# Updated the kernel as trained kernel\n",
    "ker_test.kernel_pre = w_pre\n",
    "ker_test.kernel_post = w_post\n",
    "ker_test.kernel_post_post= w_post_post\n",
    "ker_test.kernel_scale = fc_w\n",
    "ker_test.bias = bias"
   ]
  },
  {
   "cell_type": "code",
   "execution_count": 23,
   "metadata": {
    "collapsed": false,
    "deletable": true,
    "editable": true
   },
   "outputs": [
    {
     "data": {
      "text/plain": [
       "(448, 30000, 2)"
      ]
     },
     "execution_count": 23,
     "metadata": {},
     "output_type": "execute_result"
    }
   ],
   "source": [
    "spk_pairs_train.shape"
   ]
  },
  {
   "cell_type": "code",
   "execution_count": 24,
   "metadata": {
    "collapsed": false,
    "deletable": true,
    "editable": true
   },
   "outputs": [
    {
     "data": {
      "text/plain": [
       "<matplotlib.legend.Legend at 0x7fbec04622b0>"
      ]
     },
     "execution_count": 24,
     "metadata": {},
     "output_type": "execute_result"
    },
    {
     "data": {
      "image/png": "[encoded data removed]",
      "text/plain": [
       "<matplotlib.figure.Figure at 0x7fbec0462fd0>"
      ]
     },
     "metadata": {},
     "output_type": "display_data"
    }
   ],
   "source": [
    "# Generate training predictions\n",
    "spk_len = int(data['train_len'].max() * 1000 / ker_test.reso_kernel)\n",
    "_, predictions_train = arb_w_gen(spk_pairs=spk_pairs_train, spk_len=spk_len, kernel=ker_test, net_type='triplet')\n",
    "\n",
    "ptl_len = np.array([160,64,192,64])\n",
    "rep_time = np.array([1,1,1,1])\n",
    "ptl_len, targets_out, predictions_out = data_aug_knn.target_pred_gen(targets_train, predictions_train, ptl_len, rep_time)\n",
    "\n",
    "# Calculate the total sum of squares\n",
    "R2 = 1 - np.sum(np.square(predictions_train-targets_train))/(np.square(np.std(targets_train))*(len(targets_train)-1))\n",
    "\n",
    "plt.plot(np.linspace(-30,50,80), np.linspace(-30,50,80),'k--')\n",
    "ptl_type = ['stdp', 'trip1', 'quad','trip2']\n",
    "for i in range(len(ptl_len)):\n",
    "    plt.plot(targets_out[i], predictions_out[i],'o', label=ptl_type[i])\n",
    "\n",
    "plt.title('Training data (R2=%0.2f)'%(R2))\n",
    "plt.legend()"
   ]
  },
  {
   "cell_type": "code",
   "execution_count": 25,
   "metadata": {
    "collapsed": false,
    "deletable": true,
    "editable": true
   },
   "outputs": [
    {
     "data": {
      "text/plain": [
       "<matplotlib.legend.Legend at 0x7fbeb2f1eef0>"
      ]
     },
     "execution_count": 25,
     "metadata": {},
     "output_type": "execute_result"
    },
    {
     "data": {
      "image/png": "[encoded data removed]",
      "text/plain": [
       "<matplotlib.figure.Figure at 0x7fbeb86f41d0>"
      ]
     },
     "metadata": {},
     "output_type": "display_data"
    }
   ],
   "source": [
    "# Generate validation predictions\n",
    "spk_len = int(data['train_len'].max() * 1000 / ker_test.reso_kernel)\n",
    "_, predictions_vali = arb_w_gen(spk_pairs=spk_pairs_vali, spk_len=spk_len, kernel=ker_test, net_type='triplet')\n",
    "\n",
    "ptl_len = np.array([40,16,48,16])\n",
    "rep_time = np.array([1,1,1,1])\n",
    "ptl_len, targets_out, predictions_out = data_aug_knn.target_pred_gen(targets_vali, predictions_vali, ptl_len, rep_time)\n",
    "\n",
    "# Calculate the total sum of squares\n",
    "R2 = 1 - np.sum(np.square(predictions_vali-targets_vali))/(np.square(np.std(targets_vali))*(len(targets_vali)-1))\n",
    "corr = np.sqrt(R2)\n",
    "\n",
    "plt.plot(np.linspace(-30,50,80), np.linspace(-30,50,80),'k--')\n",
    "ptl_type = ['stdp', 'trip1', 'quad','trip2']\n",
    "for i in range(len(ptl_len)):\n",
    "    plt.plot(targets_out[i], predictions_out[i],'o', label=ptl_type[i])\n",
    "\n",
    "plt.title('Validation data (R2=%0.2f)'%(R2))\n",
    "plt.legend()"
   ]
  },
  {
   "cell_type": "code",
   "execution_count": 26,
   "metadata": {
    "collapsed": false,
    "deletable": true,
    "editable": true
   },
   "outputs": [],
   "source": [
    "# Generat the spike trains and targets for STDP\n",
    "data3 = data[data['ptl_idx']==3]\n",
    "ptl_list = [1,2,3,4]\n",
    "spk_len = int(data3['train_len'].max() * 1000 / ker_test.reso_kernel)\n",
    "if_noise = 0\n",
    "aug_times = [1,1,1,1]\n",
    "spk_pairs_test, targets_test = arb_w_gen(df=data_gen_test, ptl_list=ptl_list, targets=y_test, if_noise=if_noise, spk_len=spk_len, kernel=ker_test, net_type='triplet', aug_times=aug_times)"
   ]
  },
  {
   "cell_type": "code",
   "execution_count": 27,
   "metadata": {
    "collapsed": false,
    "deletable": true,
    "editable": true
   },
   "outputs": [
    {
     "data": {
      "text/plain": [
       "<matplotlib.legend.Legend at 0x7fbec058fe10>"
      ]
     },
     "execution_count": 27,
     "metadata": {},
     "output_type": "execute_result"
    },
    {
     "data": {
      "image/png": "[encoded data removed]",
      "text/plain": [
       "<matplotlib.figure.Figure at 0x7fbe7c6ace10>"
      ]
     },
     "metadata": {},
     "output_type": "display_data"
    }
   ],
   "source": [
    "# Generate test predictions\n",
    "spk_len = int(data['train_len'].max() * 1000 / ker_test.reso_kernel)\n",
    "_, predictions_test = arb_w_gen(spk_pairs=spk_pairs_test, spk_len=spk_len, kernel=ker_test, net_type='triplet')\n",
    "\n",
    "ptl_len = np.array([9,7,12,4])\n",
    "rep_time = np.array([1,1,1,1])\n",
    "ptl_len, targets_out, predictions_out = data_aug_knn.target_pred_gen(targets_test, predictions_test, ptl_len, rep_time)\n",
    "\n",
    "# Calculate the total sum of squares\n",
    "R2 = 1 - np.sum(np.square(predictions_test-targets_test))/(np.square(np.std(targets_test))*(len(targets_test)-1))\n",
    "corr = np.sqrt(R2)\n",
    "\n",
    "plt.plot(np.linspace(-30,50,80), np.linspace(-30,50,80),'k--')\n",
    "ptl_type = ['stdp', 'trip1', 'quad','trip2']\n",
    "for i in range(len(ptl_len)):\n",
    "    plt.plot(targets_out[i], predictions_out[i],'o', label=ptl_type[i])\n",
    "\n",
    "plt.title('Testing data (R2=%0.2f)'%(R2))\n",
    "plt.legend()"
   ]
  }
 ],
 "metadata": {
  "kernelspec": {
   "display_name": "Python 3",
   "language": "python",
   "name": "python3"
  },
  "language_info": {
   "codemirror_mode": {
    "name": "ipython",
    "version": 3
   },
   "file_extension": ".py",
   "mimetype": "text/x-python",
   "name": "python",
   "nbconvert_exporter": "python",
   "pygments_lexer": "ipython3",
   "version": "3.5.2"
  }
 },
 "nbformat": 4,
 "nbformat_minor": 2
}

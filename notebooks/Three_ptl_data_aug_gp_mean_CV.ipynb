{
 "cells": [
  {
   "cell_type": "markdown",
   "metadata": {
    "deletable": true,
    "editable": true
   },
   "source": [
    "Augment the literature data"
   ]
  },
  {
   "cell_type": "code",
   "execution_count": 1,
   "metadata": {
    "collapsed": false,
    "deletable": true,
    "editable": true
   },
   "outputs": [],
   "source": [
    "# Load libraries and modules\n",
    "import numpy as np\n",
    "import pandas as pd\n",
    "import matplotlib.pyplot as plt\n",
    "import seaborn as sns\n",
    "import tensorflow as tf\n",
    "from modelval import pairptl, network, trainer, dataset, data_aug_knn, perform_eval\n",
    "from modelval.ArbDataGen import arb_w_gen, data_Gen\n",
    "from modelval.spk_visu import spk_see, raster\n",
    "from modelval import gp_regressor\n",
    "from modelval import data_aug_gp\n",
    "from sklearn.model_selection import train_test_split\n",
    "from modelval.kernel import KernelGen\n",
    "\n",
    "import warnings\n",
    "warnings.filterwarnings('ignore')\n",
    "\n",
    "% matplotlib inline\n",
    "% load_ext autoreload\n",
    "% autoreload 2"
   ]
  },
  {
   "cell_type": "code",
   "execution_count": 2,
   "metadata": {
    "collapsed": false,
    "deletable": true,
    "editable": true
   },
   "outputs": [
    {
     "data": {
      "text/html": [
       "<div>\n",
       "<table border=\"1\" class=\"dataframe\">\n",
       "  <thead>\n",
       "    <tr style=\"text-align: right;\">\n",
       "      <th></th>\n",
       "      <th>ptl_idx</th>\n",
       "      <th>pre_spk_num</th>\n",
       "      <th>pre_spk_freq</th>\n",
       "      <th>post_spk_num</th>\n",
       "      <th>post_spk_freq</th>\n",
       "      <th>ptl_occ</th>\n",
       "      <th>ptl_freq</th>\n",
       "      <th>dt1</th>\n",
       "      <th>dt2</th>\n",
       "      <th>dt3</th>\n",
       "      <th>dw_mean</th>\n",
       "      <th>dw_ste</th>\n",
       "      <th>train_len</th>\n",
       "    </tr>\n",
       "  </thead>\n",
       "  <tbody>\n",
       "    <tr>\n",
       "      <th>0</th>\n",
       "      <td>1</td>\n",
       "      <td>1</td>\n",
       "      <td>0</td>\n",
       "      <td>1</td>\n",
       "      <td>0</td>\n",
       "      <td>60</td>\n",
       "      <td>1.0</td>\n",
       "      <td>-102.898046</td>\n",
       "      <td>0.0</td>\n",
       "      <td>0</td>\n",
       "      <td>-1.322590</td>\n",
       "      <td>0.0</td>\n",
       "      <td>60</td>\n",
       "    </tr>\n",
       "    <tr>\n",
       "      <th>1</th>\n",
       "      <td>1</td>\n",
       "      <td>1</td>\n",
       "      <td>0</td>\n",
       "      <td>1</td>\n",
       "      <td>0</td>\n",
       "      <td>60</td>\n",
       "      <td>1.0</td>\n",
       "      <td>-75.579896</td>\n",
       "      <td>0.0</td>\n",
       "      <td>0</td>\n",
       "      <td>2.674768</td>\n",
       "      <td>0.0</td>\n",
       "      <td>60</td>\n",
       "    </tr>\n",
       "    <tr>\n",
       "      <th>2</th>\n",
       "      <td>1</td>\n",
       "      <td>1</td>\n",
       "      <td>0</td>\n",
       "      <td>1</td>\n",
       "      <td>0</td>\n",
       "      <td>60</td>\n",
       "      <td>1.0</td>\n",
       "      <td>-80.871473</td>\n",
       "      <td>0.0</td>\n",
       "      <td>0</td>\n",
       "      <td>-12.696449</td>\n",
       "      <td>0.0</td>\n",
       "      <td>60</td>\n",
       "    </tr>\n",
       "    <tr>\n",
       "      <th>3</th>\n",
       "      <td>1</td>\n",
       "      <td>1</td>\n",
       "      <td>0</td>\n",
       "      <td>1</td>\n",
       "      <td>0</td>\n",
       "      <td>60</td>\n",
       "      <td>1.0</td>\n",
       "      <td>-67.562239</td>\n",
       "      <td>0.0</td>\n",
       "      <td>0</td>\n",
       "      <td>0.231446</td>\n",
       "      <td>0.0</td>\n",
       "      <td>60</td>\n",
       "    </tr>\n",
       "    <tr>\n",
       "      <th>4</th>\n",
       "      <td>1</td>\n",
       "      <td>1</td>\n",
       "      <td>0</td>\n",
       "      <td>1</td>\n",
       "      <td>0</td>\n",
       "      <td>60</td>\n",
       "      <td>1.0</td>\n",
       "      <td>-63.553410</td>\n",
       "      <td>0.0</td>\n",
       "      <td>0</td>\n",
       "      <td>-0.990216</td>\n",
       "      <td>0.0</td>\n",
       "      <td>60</td>\n",
       "    </tr>\n",
       "  </tbody>\n",
       "</table>\n",
       "</div>"
      ],
      "text/plain": [
       "   ptl_idx  pre_spk_num  pre_spk_freq  post_spk_num  post_spk_freq  ptl_occ  \\\n",
       "0        1            1             0             1              0       60   \n",
       "1        1            1             0             1              0       60   \n",
       "2        1            1             0             1              0       60   \n",
       "3        1            1             0             1              0       60   \n",
       "4        1            1             0             1              0       60   \n",
       "\n",
       "   ptl_freq         dt1  dt2  dt3    dw_mean  dw_ste  train_len  \n",
       "0       1.0 -102.898046  0.0    0  -1.322590     0.0         60  \n",
       "1       1.0  -75.579896  0.0    0   2.674768     0.0         60  \n",
       "2       1.0  -80.871473  0.0    0 -12.696449     0.0         60  \n",
       "3       1.0  -67.562239  0.0    0   0.231446     0.0         60  \n",
       "4       1.0  -63.553410  0.0    0  -0.990216     0.0         60  "
      ]
     },
     "execution_count": 2,
     "metadata": {},
     "output_type": "execute_result"
    }
   ],
   "source": [
    "# Load data frame\n",
    "data = pd.read_csv('/src/Plasticity_Ker/data/kernel_training_data_auto.csv')\n",
    "data.head()"
   ]
  },
  {
   "cell_type": "code",
   "execution_count": 4,
   "metadata": {
    "collapsed": false,
    "deletable": true,
    "editable": true,
    "scrolled": true
   },
   "outputs": [],
   "source": [
    "# Generate cv for training and validation data given the test fold\n",
    "data_gen_train, data_gen_vali, data_gen_test, y_train, y_vali, y_test = data_Gen(data, test_fold_num=0)"
   ]
  },
  {
   "cell_type": "code",
   "execution_count": 6,
   "metadata": {
    "collapsed": false,
    "deletable": true,
    "editable": true
   },
   "outputs": [
    {
     "name": "stdout",
     "output_type": "stream",
     "text": [
      "\n",
      "Initial validation mse=159.24588\n",
      "Global Step 0150 and Step 0150: validation mse=133.38208\n",
      "Updated min validation loss!Saving model...\n",
      "Global Step 0200 and Step 0200: validation mse=128.71376\n",
      "Updated min validation loss!Saving model...\n",
      "Global Step 0250 and Step 0250: validation mse=122.76202\n",
      "Updated min validation loss!Saving model...\n",
      "Global Step 0300 and Step 0300: validation mse=115.17812\n",
      "Updated min validation loss!Saving model...\n",
      "Global Step 0350 and Step 0350: validation mse=106.00658\n",
      "Updated min validation loss!Saving model...\n",
      "Global Step 0400 and Step 0400: validation mse=95.79094\n",
      "Updated min validation loss!Saving model...\n",
      "Global Step 0450 and Step 0450: validation mse=84.27122\n",
      "Updated min validation loss!Saving model...\n",
      "Global Step 0500 and Step 0500: validation mse=71.47044\n",
      "Updated min validation loss!Saving model...\n",
      "Global Step 0550 and Step 0550: validation mse=58.90564\n",
      "Updated min validation loss!Saving model...\n",
      "Global Step 0600 and Step 0600: validation mse=48.01554\n",
      "Updated min validation loss!Saving model...\n",
      "Global Step 0650 and Step 0650: validation mse=39.95169\n",
      "Updated min validation loss!Saving model...\n",
      "Global Step 0700 and Step 0700: validation mse=34.29163\n",
      "Updated min validation loss!Saving model...\n",
      "Global Step 0750 and Step 0750: validation mse=30.71155\n",
      "Updated min validation loss!Saving model...\n",
      "Global Step 0800 and Step 0800: validation mse=28.25664\n",
      "Updated min validation loss!Saving model...\n",
      "Global Step 0850 and Step 0850: validation mse=26.81280\n",
      "Updated min validation loss!Saving model...\n",
      "Global Step 0900 and Step 0900: validation mse=25.84538\n",
      "Updated min validation loss!Saving model...\n",
      "Global Step 0950 and Step 0950: validation mse=25.32618\n",
      "Updated min validation loss!Saving model...\n",
      "Global Step 1000 and Step 1000: validation mse=24.84954\n",
      "Updated min validation loss!Saving model...\n",
      "Global Step 1050 and Step 1050: validation mse=24.54989\n",
      "Updated min validation loss!Saving model...\n",
      "Global Step 1100 and Step 1100: validation mse=24.37347\n",
      "Updated min validation loss!Saving model...\n",
      "Global Step 1150 and Step 1150: validation mse=24.07274\n",
      "Updated min validation loss!Saving model...\n",
      "Global Step 1200 and Step 1200: validation mse=23.85538\n",
      "Updated min validation loss!Saving model...\n",
      "Global Step 1250 and Step 1250: validation mse=23.41718\n",
      "Updated min validation loss!Saving model...\n",
      "Global Step 1300 and Step 1300: validation mse=23.08874\n",
      "Updated min validation loss!Saving model...\n",
      "Global Step 1350 and Step 1350: validation mse=22.63182\n",
      "Updated min validation loss!Saving model...\n",
      "Global Step 1400 and Step 1400: validation mse=22.36092\n",
      "Updated min validation loss!Saving model...\n",
      "Global Step 1450 and Step 1450: validation mse=22.03139\n",
      "Updated min validation loss!Saving model...\n",
      "Global Step 1500 and Step 1500: validation mse=21.63914\n",
      "Updated min validation loss!Saving model...\n",
      "Global Step 1550 and Step 1550: validation mse=21.21317\n",
      "Updated min validation loss!Saving model...\n",
      "Global Step 1600 and Step 1600: validation mse=20.69440\n",
      "Updated min validation loss!Saving model...\n",
      "Global Step 1650 and Step 1650: validation mse=20.44998\n",
      "Updated min validation loss!Saving model...\n",
      "Global Step 1700 and Step 1700: validation mse=20.15576\n",
      "Updated min validation loss!Saving model...\n",
      "Global Step 1750 and Step 1750: validation mse=19.67113\n",
      "Updated min validation loss!Saving model...\n",
      "Global Step 1800 and Step 1800: validation mse=19.23256\n",
      "Updated min validation loss!Saving model...\n",
      "Global Step 1850 and Step 1850: validation mse=18.80680\n",
      "Updated min validation loss!Saving model...\n",
      "Global Step 1900 and Step 1900: validation mse=18.55225\n",
      "Updated min validation loss!Saving model...\n",
      "Global Step 1950 and Step 1950: validation mse=18.10098\n",
      "Updated min validation loss!Saving model...\n",
      "Global Step 2000 and Step 2000: validation mse=17.69556\n",
      "Updated min validation loss!Saving model...\n",
      "Global Step 2050 and Step 2050: validation mse=17.31675\n",
      "Updated min validation loss!Saving model...\n",
      "Global Step 2100 and Step 2100: validation mse=17.12233\n",
      "Updated min validation loss!Saving model...\n",
      "Global Step 2150 and Step 2150: validation mse=16.65329\n",
      "Updated min validation loss!Saving model...\n",
      "Global Step 2200 and Step 2200: validation mse=16.24044\n",
      "Updated min validation loss!Saving model...\n",
      "Global Step 2250 and Step 2250: validation mse=15.98081\n",
      "Updated min validation loss!Saving model...\n",
      "Global Step 2300 and Step 2300: validation mse=15.60942\n",
      "Updated min validation loss!Saving model...\n",
      "Global Step 2350 and Step 2350: validation mse=15.49454\n",
      "Updated min validation loss!Saving model...\n",
      "Global Step 2400 and Step 2400: validation mse=15.13034\n",
      "Updated min validation loss!Saving model...\n",
      "Global Step 2450 and Step 2450: validation mse=14.95730\n",
      "Updated min validation loss!Saving model...\n",
      "Global Step 2500 and Step 2500: validation mse=14.70775\n",
      "Updated min validation loss!Saving model...\n",
      "Global Step 2550 and Step 2550: validation mse=14.55367\n",
      "Updated min validation loss!Saving model...\n",
      "Global Step 2600 and Step 2600: validation mse=14.26599\n",
      "Updated min validation loss!Saving model...\n",
      "Global Step 2650 and Step 2650: validation mse=14.13860\n",
      "Updated min validation loss!Saving model...\n",
      "Global Step 2700 and Step 2700: validation mse=13.93476\n",
      "Updated min validation loss!Saving model...\n",
      "Global Step 2750 and Step 2750: validation mse=13.64277\n",
      "Updated min validation loss!Saving model...\n",
      "Global Step 2800 and Step 2800: validation mse=13.49137\n",
      "Updated min validation loss!Saving model...\n",
      "Global Step 2850 and Step 2850: validation mse=13.33381\n",
      "Updated min validation loss!Saving model...\n",
      "Global Step 2900 and Step 2900: validation mse=13.24090\n",
      "Updated min validation loss!Saving model...\n",
      "Global Step 2950 and Step 2950: validation mse=13.07279\n",
      "Updated min validation loss!Saving model...\n",
      "Global Step 3000 and Step 3000: validation mse=12.95506\n",
      "Updated min validation loss!Saving model...\n",
      "Global Step 3050 and Step 3050: validation mse=12.85053\n",
      "Updated min validation loss!Saving model...\n",
      "Global Step 3100 and Step 3100: validation mse=12.72127\n",
      "Updated min validation loss!Saving model...\n",
      "Global Step 3150 and Step 3150: validation mse=12.61765\n",
      "Updated min validation loss!Saving model...\n",
      "Global Step 3200 and Step 3200: validation mse=12.53937\n",
      "Updated min validation loss!Saving model...\n",
      "Global Step 3250 and Step 3250: validation mse=12.37713\n",
      "Updated min validation loss!Saving model...\n",
      "Global Step 3300 and Step 3300: validation mse=12.23218\n",
      "Updated min validation loss!Saving model...\n",
      "Global Step 3350 and Step 3350: validation mse=12.23051\n",
      "Updated min validation loss!Saving model...\n",
      "Global Step 3400 and Step 3400: validation mse=12.15073\n",
      "Updated min validation loss!Saving model...\n",
      "Global Step 3450 and Step 3450: validation mse=12.06199\n",
      "Updated min validation loss!Saving model...\n",
      "Global Step 3500 and Step 3500: validation mse=11.95017\n",
      "Updated min validation loss!Saving model...\n",
      "Global Step 3550 and Step 3550: validation mse=11.90291\n",
      "Updated min validation loss!Saving model...\n",
      "Global Step 3600 and Step 3600: validation mse=11.81102\n",
      "Updated min validation loss!Saving model...\n",
      "Global Step 3650 and Step 3650: validation mse=11.78181\n",
      "Updated min validation loss!Saving model...\n",
      "Global Step 3700 and Step 3700: validation mse=11.69802\n",
      "Updated min validation loss!Saving model...\n",
      "Global Step 3750 and Step 3750: validation mse=11.59695\n",
      "Updated min validation loss!Saving model...\n",
      "Global Step 3800 and Step 3800: validation mse=11.58123\n",
      "Updated min validation loss!Saving model...\n",
      "Global Step 3850 and Step 3850: validation mse=11.61013\n",
      "Global Step 3900 and Step 3900: validation mse=11.41807\n",
      "Updated min validation loss!Saving model...\n",
      "Global Step 3950 and Step 3950: validation mse=11.49510\n",
      "Global Step 4000 and Step 4000: validation mse=11.37017\n",
      "Updated min validation loss!Saving model...\n",
      "Global Step 4050 and Step 4050: validation mse=11.41886\n",
      "Global Step 4100 and Step 4100: validation mse=11.25051\n",
      "Updated min validation loss!Saving model...\n",
      "Global Step 4150 and Step 4150: validation mse=11.22277\n",
      "Updated min validation loss!Saving model...\n",
      "Global Step 4200 and Step 4200: validation mse=11.19809\n",
      "Updated min validation loss!Saving model...\n",
      "Global Step 4250 and Step 4250: validation mse=11.26390\n",
      "Global Step 4300 and Step 4300: validation mse=11.19384\n",
      "Updated min validation loss!Saving model...\n",
      "Global Step 4350 and Step 4350: validation mse=11.12713\n",
      "Updated min validation loss!Saving model...\n",
      "Global Step 4400 and Step 4400: validation mse=11.11429\n",
      "Updated min validation loss!Saving model...\n",
      "Global Step 4450 and Step 4450: validation mse=11.07745\n",
      "Updated min validation loss!Saving model...\n",
      "Global Step 4500 and Step 4500: validation mse=11.14805\n",
      "Global Step 4550 and Step 4550: validation mse=11.06284\n",
      "Updated min validation loss!Saving model...\n",
      "Global Step 4600 and Step 4600: validation mse=11.04293\n",
      "Updated min validation loss!Saving model...\n",
      "Global Step 4650 and Step 4650: validation mse=10.94095\n",
      "Updated min validation loss!Saving model...\n",
      "Global Step 4700 and Step 4700: validation mse=10.94971\n",
      "Global Step 4750 and Step 4750: validation mse=10.93395\n",
      "Updated min validation loss!Saving model...\n",
      "Global Step 4800 and Step 4800: validation mse=10.95104\n",
      "Global Step 4850 and Step 4850: validation mse=10.98594\n",
      "Global Step 4900 and Step 4900: validation mse=10.97435\n",
      "Global Step 4950 and Step 4950: validation mse=11.00294\n",
      "Global Step 5000 and Step 5000: validation mse=10.95011\n",
      "Global Step 5050 and Step 5050: validation mse=10.97902\n",
      "Global Step 5100 and Step 5100: validation mse=10.98878\n",
      "Global Step 5150 and Step 5150: validation mse=11.05175\n",
      "Global Step 5200 and Step 5200: validation mse=10.86028\n",
      "Updated min validation loss!Saving model...\n",
      "Global Step 5250 and Step 5250: validation mse=10.88218\n",
      "Global Step 5300 and Step 5300: validation mse=10.88619\n",
      "Global Step 5350 and Step 5350: validation mse=10.78385\n",
      "Updated min validation loss!Saving model...\n",
      "Global Step 5400 and Step 5400: validation mse=10.92147\n",
      "Global Step 5450 and Step 5450: validation mse=10.82175\n",
      "Global Step 5500 and Step 5500: validation mse=10.83785\n",
      "Global Step 5550 and Step 5550: validation mse=10.85629\n",
      "Global Step 5600 and Step 5600: validation mse=10.69103\n",
      "Updated min validation loss!Saving model...\n",
      "Global Step 5650 and Step 5650: validation mse=10.70234\n",
      "Global Step 5700 and Step 5700: validation mse=10.73319\n",
      "Global Step 5750 and Step 5750: validation mse=10.75943\n",
      "Global Step 5800 and Step 5800: validation mse=10.81670\n",
      "Global Step 5850 and Step 5850: validation mse=10.86409\n",
      "Global Step 5900 and Step 5900: validation mse=10.78405\n",
      "Global Step 5950 and Step 5950: validation mse=10.72690\n",
      "Global Step 6000 and Step 6000: validation mse=10.67356\n",
      "Updated min validation loss!Saving model...\n",
      "Global Step 6050 and Step 6050: validation mse=10.78680\n",
      "Global Step 6100 and Step 6100: validation mse=10.62146\n",
      "Updated min validation loss!Saving model...\n",
      "Global Step 6150 and Step 6150: validation mse=10.70906\n",
      "Global Step 6200 and Step 6200: validation mse=10.79208\n",
      "Global Step 6250 and Step 6250: validation mse=10.80835\n",
      "Global Step 6300 and Step 6300: validation mse=10.77822\n",
      "Global Step 6350 and Step 6350: validation mse=10.78120\n",
      "Global Step 6400 and Step 6400: validation mse=10.76621\n",
      "Global Step 6450 and Step 6450: validation mse=10.74028\n",
      "Global Step 6500 and Step 6500: validation mse=10.73587\n",
      "Global Step 6550 and Step 6550: validation mse=10.69166\n",
      "Global Step 6600 and Step 6600: validation mse=10.75454\n",
      "Global Step 6650 and Step 6650: validation mse=10.96933\n",
      "Global Step 6700 and Step 6700: validation mse=10.75170\n",
      "Global Step 6750 and Step 6750: validation mse=10.75775\n",
      "Global Step 6800 and Step 6800: validation mse=10.91354\n",
      "Global Step 6850 and Step 6850: validation mse=10.75857\n",
      "Early Stopping!!!\n",
      "Restoring the best parameters...\n",
      "Global Step 6900 and Step 0050: validation mse=10.67647\n",
      "Global Step 6950 and Step 0100: validation mse=10.71047\n",
      "Global Step 7000 and Step 0150: validation mse=10.70254\n",
      "Global Step 7050 and Step 0200: validation mse=10.67618\n",
      "Global Step 7100 and Step 0250: validation mse=10.69640\n",
      "Global Step 7150 and Step 0300: validation mse=10.66977\n",
      "Global Step 7200 and Step 0350: validation mse=10.68178\n",
      "Global Step 7250 and Step 0400: validation mse=10.65276\n",
      "Global Step 7300 and Step 0450: validation mse=10.66011\n",
      "Global Step 7350 and Step 0500: validation mse=10.71474\n",
      "Global Step 7400 and Step 0550: validation mse=10.66845\n",
      "Global Step 7450 and Step 0600: validation mse=10.69960\n",
      "Global Step 7500 and Step 0650: validation mse=10.74283\n",
      "Global Step 7550 and Step 0700: validation mse=10.72121\n",
      "Global Step 7600 and Step 0750: validation mse=10.69784\n",
      "Early Stopping!!!\n",
      "Restoring the best parameters...\n",
      "Global Step 7650 and Step 0050: validation mse=10.69390\n",
      "Global Step 7700 and Step 0100: validation mse=10.71976\n",
      "Global Step 7750 and Step 0150: validation mse=10.71574\n",
      "Global Step 7800 and Step 0200: validation mse=10.71731\n",
      "Global Step 7850 and Step 0250: validation mse=10.70464\n",
      "Global Step 7900 and Step 0300: validation mse=10.70280\n",
      "Global Step 7950 and Step 0350: validation mse=10.70196\n",
      "Global Step 8000 and Step 0400: validation mse=10.69688\n",
      "Global Step 8050 and Step 0450: validation mse=10.73564\n",
      "Global Step 8100 and Step 0500: validation mse=10.71007\n",
      "Global Step 8150 and Step 0550: validation mse=10.74478\n",
      "Global Step 8200 and Step 0600: validation mse=10.72860\n",
      "Global Step 8250 and Step 0650: validation mse=10.73811\n",
      "Global Step 8300 and Step 0700: validation mse=10.74769\n",
      "Global Step 8350 and Step 0750: validation mse=10.75102\n",
      "Early Stopping!!!\n",
      "Restoring the best parameters...\n",
      "Global Step 8400 and Step 0050: validation mse=10.67052\n",
      "Global Step 8450 and Step 0100: validation mse=10.68907\n",
      "Global Step 8500 and Step 0150: validation mse=10.68641\n",
      "Global Step 8550 and Step 0200: validation mse=10.69928\n",
      "Global Step 8600 and Step 0250: validation mse=10.69454\n",
      "Global Step 8650 and Step 0300: validation mse=10.70236\n",
      "Global Step 8700 and Step 0350: validation mse=10.70889\n",
      "Global Step 8750 and Step 0400: validation mse=10.70460\n",
      "Global Step 8800 and Step 0450: validation mse=10.70074\n",
      "Global Step 8850 and Step 0500: validation mse=10.69827\n",
      "Global Step 8900 and Step 0550: validation mse=10.70080\n",
      "Global Step 8950 and Step 0600: validation mse=10.69626\n",
      "Global Step 9000 and Step 0650: validation mse=10.69963\n",
      "Global Step 9050 and Step 0700: validation mse=10.69644\n",
      "Global Step 9100 and Step 0750: validation mse=10.70722\n",
      "Early Stopping!!!\n",
      "Restoring the best parameters...\n",
      "Global Step 9150 and Step 0050: validation mse=10.64495\n",
      "Global Step 9200 and Step 0100: validation mse=10.66357\n",
      "Global Step 9250 and Step 0150: validation mse=10.67655\n",
      "Global Step 9300 and Step 0200: validation mse=10.68348\n",
      "Global Step 9350 and Step 0250: validation mse=10.68859\n",
      "Global Step 9400 and Step 0300: validation mse=10.69411\n",
      "Global Step 9450 and Step 0350: validation mse=10.69358\n",
      "Global Step 9500 and Step 0400: validation mse=10.69755\n",
      "Global Step 9550 and Step 0450: validation mse=10.69593\n",
      "Global Step 9600 and Step 0500: validation mse=10.70382\n",
      "Global Step 9650 and Step 0550: validation mse=10.71161\n",
      "Global Step 9700 and Step 0600: validation mse=10.70875\n",
      "Global Step 9750 and Step 0650: validation mse=10.71095\n",
      "Global Step 9800 and Step 0700: validation mse=10.71666\n",
      "Global Step 9850 and Step 0750: validation mse=10.71178\n",
      "Early Stopping!!!\n",
      "Restoring the best parameters...\n"
     ]
    },
    {
     "ename": "NameError",
     "evalue": "name 'i' is not defined",
     "output_type": "error",
     "traceback": [
      "\u001b[0;31m---------------------------------------------------------------------------\u001b[0m",
      "\u001b[0;31mNameError\u001b[0m                                 Traceback (most recent call last)",
      "\u001b[0;32m<ipython-input-6-0695d8c5ebbb>\u001b[0m in \u001b[0;36m<module>\u001b[0;34m()\u001b[0m\n\u001b[1;32m     48\u001b[0m     \u001b[0mlearning_rate\u001b[0m \u001b[0;34m=\u001b[0m \u001b[0mlearning_rate\u001b[0m\u001b[0;34m/\u001b[0m\u001b[0;36m3\u001b[0m\u001b[0;34m\u001b[0m\u001b[0m\n\u001b[1;32m     49\u001b[0m \u001b[0;34m\u001b[0m\u001b[0m\n\u001b[0;32m---> 50\u001b[0;31m \u001b[0mvali_err\u001b[0m\u001b[0;34m[\u001b[0m\u001b[0mi\u001b[0m\u001b[0;34m]\u001b[0m \u001b[0;34m=\u001b[0m \u001b[0mmini_vali_loss\u001b[0m\u001b[0;34m\u001b[0m\u001b[0m\n\u001b[0m\u001b[1;32m     51\u001b[0m \u001b[0mtoy_net_trainer\u001b[0m\u001b[0;34m.\u001b[0m\u001b[0mrestore_best\u001b[0m\u001b[0;34m(\u001b[0m\u001b[0;34m)\u001b[0m\u001b[0;34m\u001b[0m\u001b[0m\n\u001b[1;32m     52\u001b[0m \u001b[0mw_pre\u001b[0m\u001b[0;34m.\u001b[0m\u001b[0mappend\u001b[0m\u001b[0;34m(\u001b[0m\u001b[0mtoy_net_trainer\u001b[0m\u001b[0;34m.\u001b[0m\u001b[0mevaluate\u001b[0m\u001b[0;34m(\u001b[0m\u001b[0mops\u001b[0m\u001b[0;34m=\u001b[0m\u001b[0mtoy_data_net\u001b[0m\u001b[0;34m.\u001b[0m\u001b[0mkernel_pre\u001b[0m\u001b[0;34m)\u001b[0m\u001b[0;34m)\u001b[0m\u001b[0;34m\u001b[0m\u001b[0m\n",
      "\u001b[0;31mNameError\u001b[0m: name 'i' is not defined"
     ]
    }
   ],
   "source": [
    "# Visualize kernel\n",
    "vali_err = np.zeros(len(data_gen_train))\n",
    "kernel_pre = []\n",
    "kernel_post = []\n",
    "kernel_post_post = []\n",
    "fc_w = []\n",
    "bias = []\n",
    "scale = []\n",
    "\n",
    "ker_test = KernelGen()\n",
    "\n",
    "fold=0\n",
    "\n",
    "len_kernel = 101\n",
    "len_trip = 151\n",
    "ker_test = KernelGen(len_kernel=len_kernel, len_trip=len_trip)\n",
    "\n",
    "# Generat the spike trains and targets for STDP\n",
    "data_hippo = data[data['ptl_idx']<5]\n",
    "ptl_list = [1,2,3,4]\n",
    "spk_len = int(data_hippo['train_len'].max() * 1000 / ker_test.reso_kernel)\n",
    "if_noise = 1\n",
    "aug_times = [1,1,1,1]\n",
    "spk_pairs_train, targets_train = arb_w_gen(df=data_gen_train[fold], ptl_list=ptl_list, targets=y_train[fold], if_noise=if_noise, spk_len=spk_len, kernel=ker_test, net_type='triplet', aug_times=aug_times, seed=723)\n",
    "spk_pairs_vali, targets_vali = arb_w_gen(df=data_gen_vali[fold], ptl_list=ptl_list, targets=y_vali[fold], if_noise=if_noise, spk_len=spk_len, kernel=ker_test, net_type='triplet', aug_times=aug_times, seed=606)\n",
    "\n",
    "# Create the network\n",
    "ground_truth_init = 0\n",
    "reg_scale=(1,1,100,200)\n",
    "init_seed=(4,5,6,7,8)\n",
    "\n",
    "toy_data_net = network.TripNet(kernel=ker_test, ground_truth_init=ground_truth_init, reg_scale=reg_scale, n_input=spk_pairs_train.shape[1])\n",
    "\n",
    "# Create the trainer\n",
    "save_dir= '/src/Plasticity_Ker/model/Trip_ptl1_4_real_aug_gp_mean_noise_alpha1_alpha3_10_long_post_post_diff_bias' + 'cv' + str(fold)\n",
    "toy_net_trainer = trainer.Trainer(toy_data_net.mse, toy_data_net.loss, input_name=toy_data_net.inputs, target_name=toy_data_net.target, save_dir=save_dir, optimizer_config={'learning_rate': toy_data_net.lr})\n",
    "\n",
    "# Package the data\n",
    "train_data = dataset.Dataset(spk_pairs_train, targets_train)\n",
    "vali_data = dataset.Dataset(spk_pairs_vali, targets_vali)\n",
    "\n",
    "# Learn the kernel from random initialization\n",
    "learning_rate = 0.001\n",
    "iterations = 5\n",
    "min_error = -1\n",
    "for _ in range(iterations):\n",
    "    mini_vali_loss = toy_net_trainer.train(train_data, vali_data, batch_size=128, min_error=min_error, feed_dict={toy_data_net.lr: learning_rate})\n",
    "    learning_rate = learning_rate/3\n",
    "\n",
    "vali_err[i] = mini_vali_loss\n",
    "toy_net_trainer.restore_best()\n",
    "w_pre.append(toy_net_trainer.evaluate(ops=toy_data_net.kernel_pre))\n",
    "w_post.append(toy_net_trainer.evaluate(ops=toy_data_net.kernel_post))\n",
    "w_post_post.append(toy_net_trainer.evaluate(ops=toy_data_net.kernel_post_post))\n",
    "fc_w.append(toy_net_trainer.evaluate(ops=toy_data_net.fc_w))\n",
    "bias.append(toy_net_trainer.evaluate(ops=toy_data_net.bias))\n",
    "scale.append(toy_net_trainer.evaluate(ops=toy_data_net.scaler))"
   ]
  },
  {
   "cell_type": "code",
   "execution_count": 7,
   "metadata": {
    "collapsed": false,
    "deletable": true,
    "editable": true
   },
   "outputs": [
    {
     "data": {
      "text/plain": [
       "array([ 0.,  0.,  0.,  0.,  0.])"
      ]
     },
     "execution_count": 7,
     "metadata": {},
     "output_type": "execute_result"
    }
   ],
   "source": [
    "vali_err"
   ]
  },
  {
   "cell_type": "code",
   "execution_count": 8,
   "metadata": {
    "collapsed": false,
    "deletable": true,
    "editable": true
   },
   "outputs": [
    {
     "name": "stdout",
     "output_type": "stream",
     "text": [
      "[array([-1.43309343, -1.97685266,  4.94732666], dtype=float32), array([[ 0.65506017],\n",
      "       [ 0.11003124],\n",
      "       [-3.15956783],\n",
      "       [-1.0529418 ]], dtype=float32), array([[ 3.57077169],\n",
      "       [ 1.57127333],\n",
      "       [ 0.92292601],\n",
      "       [ 1.71839118]], dtype=float32)]\n"
     ]
    },
    {
     "data": {
      "image/png": "[encoded data removed]",
      "text/plain": [
       "<matplotlib.figure.Figure at 0x7fa04ef06f60>"
      ]
     },
     "metadata": {},
     "output_type": "display_data"
    }
   ],
   "source": [
    "toy_net_trainer.restore_best()\n",
    "w_pre = toy_net_trainer.evaluate(ops=toy_data_net.kernel_pre)\n",
    "w_post = toy_net_trainer.evaluate(ops=toy_data_net.kernel_post)\n",
    "w_post_post = toy_net_trainer.evaluate(ops=toy_data_net.kernel_post_post)\n",
    "fc_w = toy_net_trainer.evaluate(ops=toy_data_net.fc_w)\n",
    "bias = toy_net_trainer.evaluate(ops=toy_data_net.bias)\n",
    "scaler = toy_net_trainer.evaluate(ops=toy_data_net.scaler)\n",
    "\n",
    "plt.plot(-1*w_pre, label='ker_pre_trained')\n",
    "\n",
    "plt.plot(-1*w_post, label='ker_post_trained')\n",
    "plt.plot(-1*w_post_post, label='ker_post_post_trained')\n",
    "plt.legend()\n",
    "print([fc_w, bias, scaler])"
   ]
  },
  {
   "cell_type": "code",
   "execution_count": 9,
   "metadata": {
    "collapsed": false,
    "deletable": true,
    "editable": true
   },
   "outputs": [
    {
     "data": {
      "image/png": "[encoded data removed]",
      "text/plain": [
       "<matplotlib.figure.Figure at 0x7fa04c6467f0>"
      ]
     },
     "metadata": {},
     "output_type": "display_data"
    }
   ],
   "source": [
    "# Test effect of smoothed kernel\n",
    "w_pre_sm = w_pre\n",
    "w_post_sm = w_post \n",
    "w_post_post_sm = w_post_post\n",
    "w_pre_sm[:51] = data_aug_gp.smooth(w_pre[:51], width=10)\n",
    "w_post_sm[:49] = data_aug_gp.smooth(w_post[:49], width=10)\n",
    "w_post_post_sm[:100] = data_aug_gp.smooth(w_post_post[:100], width=5)\n",
    "\n",
    "plt.plot(-1 * w_pre_sm)\n",
    "plt.plot(-1 * w_post_sm)\n",
    "plt.plot(-1*w_post_post_sm)\n",
    "\n",
    "ker_test.kernel_pre = w_pre_sm\n",
    "ker_test.kernel_post = w_post_sm\n",
    "ker_test.kernel_post_post= w_post_post_sm\n",
    "ker_test.kernel_scale = fc_w\n",
    "ker_test.bias = bias\n",
    "ker_test.scale = scaler"
   ]
  },
  {
   "cell_type": "markdown",
   "metadata": {
    "collapsed": true,
    "deletable": true,
    "editable": true
   },
   "source": [
    "Compare the target and prediction"
   ]
  },
  {
   "cell_type": "code",
   "execution_count": 10,
   "metadata": {
    "collapsed": false,
    "deletable": true,
    "editable": true
   },
   "outputs": [],
   "source": [
    "# Updated the kernel as trained kernel\n",
    "ker_test.kernel_pre = w_pre\n",
    "ker_test.kernel_post = w_post\n",
    "ker_test.kernel_post_post= w_post_post\n",
    "ker_test.kernel_scale = fc_w\n",
    "ker_test.bias = bias\n",
    "ker_test.scale = scaler"
   ]
  },
  {
   "cell_type": "code",
   "execution_count": 12,
   "metadata": {
    "collapsed": false,
    "deletable": true,
    "editable": true
   },
   "outputs": [
    {
     "data": {
      "text/plain": [
       "<matplotlib.legend.Legend at 0x7f9fa4041a58>"
      ]
     },
     "execution_count": 12,
     "metadata": {},
     "output_type": "execute_result"
    },
    {
     "data": {
      "image/png": "[encoded data removed]",
      "text/plain": [
       "<matplotlib.figure.Figure at 0x7f9fdc64f8d0>"
      ]
     },
     "metadata": {},
     "output_type": "display_data"
    }
   ],
   "source": [
    "# Generate training predictions\n",
    "spk_len = int(data['train_len'].max() * 1000 / ker_test.reso_kernel)\n",
    "_, predictions_train = arb_w_gen(spk_pairs=spk_pairs_train, spk_len=spk_len, kernel=ker_test, net_type='triplet')\n",
    "\n",
    "ptl_len = np.array([160,3,160,3])\n",
    "rep_time = np.array([1,1,1,1])\n",
    "ptl_len, targets_out, predictions_out = data_aug_gp.target_pred_gen(targets_train, predictions_train, ptl_len, rep_time)\n",
    "\n",
    "# Calculate the total sum of squares\n",
    "R2 = 1 - np.sum(np.square(predictions_train-targets_train))/(np.square(np.std(targets_train))*(len(targets_train)-1))\n",
    "\n",
    "plt.plot(np.linspace(-30,50,80), np.linspace(-30,50,80),'k--')\n",
    "ptl_type = ['stdp', 'trip1', 'quad','trip2']\n",
    "for i in range(len(ptl_len)):\n",
    "    plt.plot(targets_out[i], predictions_out[i],'o', label=ptl_type[i])\n",
    "\n",
    "plt.title('Training data (R2=%0.2f)'%(R2))\n",
    "plt.legend()"
   ]
  },
  {
   "cell_type": "code",
   "execution_count": 14,
   "metadata": {
    "collapsed": false,
    "deletable": true,
    "editable": true
   },
   "outputs": [
    {
     "data": {
      "text/plain": [
       "<matplotlib.legend.Legend at 0x7fa01c6c5f98>"
      ]
     },
     "execution_count": 14,
     "metadata": {},
     "output_type": "execute_result"
    },
    {
     "data": {
      "image/png": "[encoded data removed]",
      "text/plain": [
       "<matplotlib.figure.Figure at 0x7fa02c6f4588>"
      ]
     },
     "metadata": {},
     "output_type": "display_data"
    }
   ],
   "source": [
    "# Generate validation predictions\n",
    "spk_len = int(data['train_len'].max() * 1000 / ker_test.reso_kernel)\n",
    "_, predictions_vali = arb_w_gen(spk_pairs=spk_pairs_vali, spk_len=spk_len, kernel=ker_test, net_type='triplet')\n",
    "\n",
    "ptl_len = np.array([40,1,40,1])\n",
    "rep_time = np.array([1,1,1,1])\n",
    "ptl_len, targets_out, predictions_out = data_aug_gp.target_pred_gen(targets_vali, predictions_vali, ptl_len, rep_time)\n",
    "\n",
    "# Calculate the total sum of squares\n",
    "R2 = 1 - np.sum(np.square(predictions_vali-targets_vali))/(np.square(np.std(targets_vali))*(len(targets_vali)-1))\n",
    "corr = np.sqrt(R2)\n",
    "\n",
    "plt.plot(np.linspace(-30,50,80), np.linspace(-30,50,80),'k--')\n",
    "ptl_type = ['stdp', 'trip1', 'quad','trip2']\n",
    "for i in range(len(ptl_len)):\n",
    "    plt.plot(targets_out[i], predictions_out[i],'o', label=ptl_type[i])\n",
    "\n",
    "plt.title('Validation data (R2=%0.2f)'%(R2))\n",
    "plt.legend()"
   ]
  },
  {
   "cell_type": "code",
   "execution_count": 21,
   "metadata": {
    "collapsed": false
   },
   "outputs": [
    {
     "data": {
      "text/plain": [
       "(31, 1)"
      ]
     },
     "execution_count": 21,
     "metadata": {},
     "output_type": "execute_result"
    }
   ],
   "source": [
    "y_test.shape"
   ]
  },
  {
   "cell_type": "code",
   "execution_count": 23,
   "metadata": {
    "collapsed": false,
    "deletable": true,
    "editable": true
   },
   "outputs": [],
   "source": [
    "# Generat the spike trains and targets for STDP\n",
    "data3 = data[data['ptl_idx']==3]\n",
    "ptl_list = [1,2,3,4]\n",
    "spk_len = int(data3['train_len'].max() * 1000 / ker_test.reso_kernel)\n",
    "if_noise = 0\n",
    "aug_times = [1,1,1,1]\n",
    "\n",
    "spk_pairs_test, targets_test = arb_w_gen(df=data_gen_test[0], ptl_list=ptl_list, targets=y_test, if_noise=if_noise, spk_len=spk_len, kernel=ker_test, net_type='triplet', aug_times=aug_times)"
   ]
  },
  {
   "cell_type": "code",
   "execution_count": 31,
   "metadata": {
    "collapsed": false
   },
   "outputs": [
    {
     "data": {
      "text/plain": [
       "(31, 1)"
      ]
     },
     "execution_count": 31,
     "metadata": {},
     "output_type": "execute_result"
    }
   ],
   "source": [
    "predictions_test.shape"
   ]
  },
  {
   "cell_type": "code",
   "execution_count": 32,
   "metadata": {
    "collapsed": false,
    "deletable": true,
    "editable": true
   },
   "outputs": [
    {
     "data": {
      "text/plain": [
       "<matplotlib.legend.Legend at 0x7f9fa40c6f28>"
      ]
     },
     "execution_count": 32,
     "metadata": {},
     "output_type": "execute_result"
    },
    {
     "data": {
      "image/png": "[encoded data removed]",
      "text/plain": [
       "<matplotlib.figure.Figure at 0x7f9cd81dffd0>"
      ]
     },
     "metadata": {},
     "output_type": "display_data"
    }
   ],
   "source": [
    "# Generate test predictions\n",
    "spk_len = int(data['train_len'].max() * 1000 / ker_test.reso_kernel)\n",
    "_, predictions_test = arb_w_gen(spk_pairs=spk_pairs_test, spk_len=spk_len, kernel=ker_test, net_type='triplet')\n",
    "\n",
    "ptl_len = np.array([12,7,12,4])\n",
    "rep_time = np.array([1,1,1,1])\n",
    "ptl_len, targets_out, predictions_out = data_aug_gp.target_pred_gen(y_test, predictions_test, ptl_len, rep_time)\n",
    "\n",
    "# Calculate the total sum of squares\n",
    "R2 = 1 - np.sum(np.square(predictions_test-y_test))/(np.square(np.std(y_test))*(len(y_test)-1))\n",
    "corr = np.sqrt(R2)\n",
    "\n",
    "plt.plot(np.linspace(-30,50,80), np.linspace(-30,50,80),'k--')\n",
    "ptl_type = ['stdp', 'trip1', 'quad','trip2']\n",
    "for i in range(len(ptl_len)):\n",
    "    plt.plot(targets_out[i], predictions_out[i],'o', label=ptl_type[i])\n",
    "\n",
    "plt.title('Testing data (R2=%0.2f)'%(R2))\n",
    "plt.legend()"
   ]
  },
  {
   "cell_type": "code",
   "execution_count": null,
   "metadata": {
    "collapsed": true,
    "deletable": true,
    "editable": true
   },
   "outputs": [],
   "source": []
  }
 ],
 "metadata": {
  "kernelspec": {
   "display_name": "Python 3",
   "language": "python",
   "name": "python3"
  },
  "language_info": {
   "codemirror_mode": {
    "name": "ipython",
    "version": 3
   },
   "file_extension": ".py",
   "mimetype": "text/x-python",
   "name": "python",
   "nbconvert_exporter": "python",
   "pygments_lexer": "ipython3",
   "version": "3.5.2"
  }
 },
 "nbformat": 4,
 "nbformat_minor": 2
}

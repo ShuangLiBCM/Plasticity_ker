{
 "cells": [
  {
   "cell_type": "markdown",
   "metadata": {
    "deletable": true,
    "editable": true
   },
   "source": [
    "Augment the literature data"
   ]
  },
  {
   "cell_type": "code",
   "execution_count": 1,
   "metadata": {
    "collapsed": false,
    "deletable": true,
    "editable": true
   },
   "outputs": [],
   "source": [
    "# Load libraries and modules\n",
    "import numpy as np\n",
    "import pandas as pd\n",
    "import matplotlib.pyplot as plt\n",
    "import seaborn as sns\n",
    "import tensorflow as tf\n",
    "from modelval import pairptl, network, trainer, dataset, dw_gen, perform_eval\n",
    "from modelval.ArbDataGen import arb_w_gen\n",
    "\n",
    "import warnings\n",
    "warnings.filterwarnings('ignore')\n",
    "\n",
    "% matplotlib inline\n",
    "% load_ext autoreload\n",
    "% autoreload 2"
   ]
  },
  {
   "cell_type": "code",
   "execution_count": 2,
   "metadata": {
    "collapsed": false,
    "deletable": true,
    "editable": true
   },
   "outputs": [
    {
     "data": {
      "text/html": [
       "<div>\n",
       "<table border=\"1\" class=\"dataframe\">\n",
       "  <thead>\n",
       "    <tr style=\"text-align: right;\">\n",
       "      <th></th>\n",
       "      <th>ptl_idx</th>\n",
       "      <th>pre_spk_num</th>\n",
       "      <th>pre_spk_freq</th>\n",
       "      <th>post_spk_num</th>\n",
       "      <th>post_spk_freq</th>\n",
       "      <th>ptl_occ</th>\n",
       "      <th>ptl_freq</th>\n",
       "      <th>dt1</th>\n",
       "      <th>dt2</th>\n",
       "      <th>dt3</th>\n",
       "      <th>dw_mean</th>\n",
       "      <th>dw_ste</th>\n",
       "      <th>train_len</th>\n",
       "    </tr>\n",
       "  </thead>\n",
       "  <tbody>\n",
       "    <tr>\n",
       "      <th>0</th>\n",
       "      <td>1</td>\n",
       "      <td>1</td>\n",
       "      <td>0</td>\n",
       "      <td>1</td>\n",
       "      <td>0</td>\n",
       "      <td>60</td>\n",
       "      <td>1.0</td>\n",
       "      <td>-102.898046</td>\n",
       "      <td>0.0</td>\n",
       "      <td>0</td>\n",
       "      <td>-1.322590</td>\n",
       "      <td>0.0</td>\n",
       "      <td>60</td>\n",
       "    </tr>\n",
       "    <tr>\n",
       "      <th>1</th>\n",
       "      <td>1</td>\n",
       "      <td>1</td>\n",
       "      <td>0</td>\n",
       "      <td>1</td>\n",
       "      <td>0</td>\n",
       "      <td>60</td>\n",
       "      <td>1.0</td>\n",
       "      <td>-75.579896</td>\n",
       "      <td>0.0</td>\n",
       "      <td>0</td>\n",
       "      <td>2.674768</td>\n",
       "      <td>0.0</td>\n",
       "      <td>60</td>\n",
       "    </tr>\n",
       "    <tr>\n",
       "      <th>2</th>\n",
       "      <td>1</td>\n",
       "      <td>1</td>\n",
       "      <td>0</td>\n",
       "      <td>1</td>\n",
       "      <td>0</td>\n",
       "      <td>60</td>\n",
       "      <td>1.0</td>\n",
       "      <td>-80.871473</td>\n",
       "      <td>0.0</td>\n",
       "      <td>0</td>\n",
       "      <td>-12.696449</td>\n",
       "      <td>0.0</td>\n",
       "      <td>60</td>\n",
       "    </tr>\n",
       "    <tr>\n",
       "      <th>3</th>\n",
       "      <td>1</td>\n",
       "      <td>1</td>\n",
       "      <td>0</td>\n",
       "      <td>1</td>\n",
       "      <td>0</td>\n",
       "      <td>60</td>\n",
       "      <td>1.0</td>\n",
       "      <td>-67.562239</td>\n",
       "      <td>0.0</td>\n",
       "      <td>0</td>\n",
       "      <td>0.231446</td>\n",
       "      <td>0.0</td>\n",
       "      <td>60</td>\n",
       "    </tr>\n",
       "    <tr>\n",
       "      <th>4</th>\n",
       "      <td>1</td>\n",
       "      <td>1</td>\n",
       "      <td>0</td>\n",
       "      <td>1</td>\n",
       "      <td>0</td>\n",
       "      <td>60</td>\n",
       "      <td>1.0</td>\n",
       "      <td>-63.553410</td>\n",
       "      <td>0.0</td>\n",
       "      <td>0</td>\n",
       "      <td>-0.990216</td>\n",
       "      <td>0.0</td>\n",
       "      <td>60</td>\n",
       "    </tr>\n",
       "  </tbody>\n",
       "</table>\n",
       "</div>"
      ],
      "text/plain": [
       "   ptl_idx  pre_spk_num  pre_spk_freq  post_spk_num  post_spk_freq  ptl_occ  \\\n",
       "0        1            1             0             1              0       60   \n",
       "1        1            1             0             1              0       60   \n",
       "2        1            1             0             1              0       60   \n",
       "3        1            1             0             1              0       60   \n",
       "4        1            1             0             1              0       60   \n",
       "\n",
       "   ptl_freq         dt1  dt2  dt3    dw_mean  dw_ste  train_len  \n",
       "0       1.0 -102.898046  0.0    0  -1.322590     0.0         60  \n",
       "1       1.0  -75.579896  0.0    0   2.674768     0.0         60  \n",
       "2       1.0  -80.871473  0.0    0 -12.696449     0.0         60  \n",
       "3       1.0  -67.562239  0.0    0   0.231446     0.0         60  \n",
       "4       1.0  -63.553410  0.0    0  -0.990216     0.0         60  "
      ]
     },
     "execution_count": 2,
     "metadata": {},
     "output_type": "execute_result"
    }
   ],
   "source": [
    "# Load data frame\n",
    "data = pd.read_csv('/src/Plasticity_Ker/data/kernel_training_data_auto.csv')\n",
    "data.head()"
   ]
  },
  {
   "cell_type": "code",
   "execution_count": 3,
   "metadata": {
    "collapsed": false,
    "deletable": true,
    "editable": true
   },
   "outputs": [],
   "source": [
    "# Generate data for STDP\n",
    "data1 = data[data['ptl_idx']==1]\n",
    "data1_gen, targets1 = dw_gen.STDP_dw_gen(n_neighbors=3)"
   ]
  },
  {
   "cell_type": "code",
   "execution_count": 4,
   "metadata": {
    "collapsed": false,
    "deletable": true,
    "editable": true
   },
   "outputs": [
    {
     "data": {
      "text/plain": [
       "<matplotlib.legend.Legend at 0x7f4b9640a390>"
      ]
     },
     "execution_count": 4,
     "metadata": {},
     "output_type": "execute_result"
    },
    {
     "data": {
      "image/png": "[encoded data removed]",
      "text/plain": [
       "<matplotlib.figure.Figure at 0x7f4b9640a208>"
      ]
     },
     "metadata": {},
     "output_type": "display_data"
    }
   ],
   "source": [
    "plt.plot(data1['dt1'], data1['dw_mean'],'o', label='Raw data')\n",
    "width_list = np.concatenate([np.linspace(10,3,50), np.linspace(3,10,50)])\n",
    "plt.plot(data1_gen['dt1'], targets1,'o', label='KNN')\n",
    "targets1_sm = dw_gen.smooth(targets1,width_list = width_list)\n",
    "plt.plot(data1_gen['dt1'],targets1_sm,'o', label='Smoothness filter')\n",
    "plt.xlabel('dt(ms)')\n",
    "plt.ylabel('$\\Delta w$')\n",
    "plt.legend(loc='upper left')"
   ]
  },
  {
   "cell_type": "code",
   "execution_count": 5,
   "metadata": {
    "collapsed": false,
    "deletable": true,
    "editable": true
   },
   "outputs": [],
   "source": [
    "# Generate data for Triplet\n",
    "dt = np.array([-10, -5, 0, 5, 10]).reshape(-1,1)\n",
    "data2_gen, targets2 = dw_gen.triplet_dw_gen(dt)"
   ]
  },
  {
   "cell_type": "code",
   "execution_count": 6,
   "metadata": {
    "collapsed": false,
    "deletable": true,
    "editable": true
   },
   "outputs": [
    {
     "data": {
      "text/plain": [
       "ptl_idx           2.000000\n",
       "pre_spk_num       2.000000\n",
       "pre_spk_freq      0.000000\n",
       "post_spk_num      1.000000\n",
       "post_spk_freq     0.000000\n",
       "ptl_occ          60.000000\n",
       "ptl_freq          1.000000\n",
       "dt1              -5.000000\n",
       "dt2               5.000000\n",
       "dt3               0.000000\n",
       "dw_mean          -0.232386\n",
       "dw_ste            0.000000\n",
       "train_len        60.000000\n",
       "Name: 57, dtype: float64"
      ]
     },
     "execution_count": 6,
     "metadata": {},
     "output_type": "execute_result"
    }
   ],
   "source": [
    "data2 = data[data['ptl_idx']==2]\n",
    "data2[data2['dt1']==dt[1][0]].iloc[0]"
   ]
  },
  {
   "cell_type": "code",
   "execution_count": 7,
   "metadata": {
    "collapsed": false,
    "deletable": true,
    "editable": true
   },
   "outputs": [
    {
     "data": {
      "text/html": [
       "<div>\n",
       "<table border=\"1\" class=\"dataframe\">\n",
       "  <thead>\n",
       "    <tr style=\"text-align: right;\">\n",
       "      <th></th>\n",
       "      <th>ptl_idx</th>\n",
       "      <th>pre_spk_num</th>\n",
       "      <th>pre_spk_freq</th>\n",
       "      <th>post_spk_num</th>\n",
       "      <th>post_spk_freq</th>\n",
       "      <th>ptl_occ</th>\n",
       "      <th>ptl_freq</th>\n",
       "      <th>dt1</th>\n",
       "      <th>dt2</th>\n",
       "      <th>dt3</th>\n",
       "      <th>dw_mean</th>\n",
       "      <th>dw_ste</th>\n",
       "      <th>train_len</th>\n",
       "    </tr>\n",
       "  </thead>\n",
       "  <tbody>\n",
       "    <tr>\n",
       "      <th>0</th>\n",
       "      <td>2.0</td>\n",
       "      <td>2.0</td>\n",
       "      <td>0.0</td>\n",
       "      <td>1.0</td>\n",
       "      <td>0.0</td>\n",
       "      <td>60.0</td>\n",
       "      <td>1.0</td>\n",
       "      <td>-10.0</td>\n",
       "      <td>10.0</td>\n",
       "      <td>0.0</td>\n",
       "      <td>2.634968</td>\n",
       "      <td>0.000000</td>\n",
       "      <td>60.0</td>\n",
       "    </tr>\n",
       "    <tr>\n",
       "      <th>1</th>\n",
       "      <td>2.0</td>\n",
       "      <td>2.0</td>\n",
       "      <td>0.0</td>\n",
       "      <td>1.0</td>\n",
       "      <td>0.0</td>\n",
       "      <td>60.0</td>\n",
       "      <td>1.0</td>\n",
       "      <td>-5.0</td>\n",
       "      <td>5.0</td>\n",
       "      <td>0.0</td>\n",
       "      <td>-0.162906</td>\n",
       "      <td>0.000000</td>\n",
       "      <td>60.0</td>\n",
       "    </tr>\n",
       "    <tr>\n",
       "      <th>2</th>\n",
       "      <td>2.0</td>\n",
       "      <td>2.0</td>\n",
       "      <td>0.0</td>\n",
       "      <td>1.0</td>\n",
       "      <td>0.0</td>\n",
       "      <td>60.0</td>\n",
       "      <td>1.0</td>\n",
       "      <td>0.0</td>\n",
       "      <td>0.0</td>\n",
       "      <td>0.0</td>\n",
       "      <td>50.000000</td>\n",
       "      <td>0.000000</td>\n",
       "      <td>60.0</td>\n",
       "    </tr>\n",
       "    <tr>\n",
       "      <th>3</th>\n",
       "      <td>2.0</td>\n",
       "      <td>1.0</td>\n",
       "      <td>0.0</td>\n",
       "      <td>2.0</td>\n",
       "      <td>0.0</td>\n",
       "      <td>60.0</td>\n",
       "      <td>1.0</td>\n",
       "      <td>5.0</td>\n",
       "      <td>-5.0</td>\n",
       "      <td>0.0</td>\n",
       "      <td>27.321098</td>\n",
       "      <td>0.000000</td>\n",
       "      <td>60.0</td>\n",
       "    </tr>\n",
       "    <tr>\n",
       "      <th>4</th>\n",
       "      <td>2.0</td>\n",
       "      <td>1.0</td>\n",
       "      <td>0.0</td>\n",
       "      <td>2.0</td>\n",
       "      <td>0.0</td>\n",
       "      <td>60.0</td>\n",
       "      <td>1.0</td>\n",
       "      <td>10.0</td>\n",
       "      <td>-10.0</td>\n",
       "      <td>0.0</td>\n",
       "      <td>25.392321</td>\n",
       "      <td>0.000000</td>\n",
       "      <td>60.0</td>\n",
       "    </tr>\n",
       "    <tr>\n",
       "      <th>139</th>\n",
       "      <td>4.0</td>\n",
       "      <td>2.0</td>\n",
       "      <td>0.0</td>\n",
       "      <td>1.0</td>\n",
       "      <td>0.0</td>\n",
       "      <td>60.0</td>\n",
       "      <td>1.0</td>\n",
       "      <td>-15.0</td>\n",
       "      <td>5.0</td>\n",
       "      <td>0.0</td>\n",
       "      <td>0.246154</td>\n",
       "      <td>3.354050</td>\n",
       "      <td>60.0</td>\n",
       "    </tr>\n",
       "    <tr>\n",
       "      <th>140</th>\n",
       "      <td>4.0</td>\n",
       "      <td>2.0</td>\n",
       "      <td>0.0</td>\n",
       "      <td>1.0</td>\n",
       "      <td>0.0</td>\n",
       "      <td>60.0</td>\n",
       "      <td>1.0</td>\n",
       "      <td>-5.0</td>\n",
       "      <td>15.0</td>\n",
       "      <td>0.0</td>\n",
       "      <td>23.154206</td>\n",
       "      <td>4.891500</td>\n",
       "      <td>60.0</td>\n",
       "    </tr>\n",
       "    <tr>\n",
       "      <th>141</th>\n",
       "      <td>4.0</td>\n",
       "      <td>1.0</td>\n",
       "      <td>0.0</td>\n",
       "      <td>2.0</td>\n",
       "      <td>0.0</td>\n",
       "      <td>60.0</td>\n",
       "      <td>1.0</td>\n",
       "      <td>5.0</td>\n",
       "      <td>-15.0</td>\n",
       "      <td>0.0</td>\n",
       "      <td>20.722837</td>\n",
       "      <td>7.546790</td>\n",
       "      <td>60.0</td>\n",
       "    </tr>\n",
       "    <tr>\n",
       "      <th>142</th>\n",
       "      <td>4.0</td>\n",
       "      <td>1.0</td>\n",
       "      <td>0.0</td>\n",
       "      <td>2.0</td>\n",
       "      <td>0.0</td>\n",
       "      <td>60.0</td>\n",
       "      <td>1.0</td>\n",
       "      <td>15.0</td>\n",
       "      <td>-5.0</td>\n",
       "      <td>0.0</td>\n",
       "      <td>28.118581</td>\n",
       "      <td>4.751571</td>\n",
       "      <td>60.0</td>\n",
       "    </tr>\n",
       "  </tbody>\n",
       "</table>\n",
       "</div>"
      ],
      "text/plain": [
       "     ptl_idx  pre_spk_num  pre_spk_freq  post_spk_num  post_spk_freq  ptl_occ  \\\n",
       "0        2.0          2.0           0.0           1.0            0.0     60.0   \n",
       "1        2.0          2.0           0.0           1.0            0.0     60.0   \n",
       "2        2.0          2.0           0.0           1.0            0.0     60.0   \n",
       "3        2.0          1.0           0.0           2.0            0.0     60.0   \n",
       "4        2.0          1.0           0.0           2.0            0.0     60.0   \n",
       "139      4.0          2.0           0.0           1.0            0.0     60.0   \n",
       "140      4.0          2.0           0.0           1.0            0.0     60.0   \n",
       "141      4.0          1.0           0.0           2.0            0.0     60.0   \n",
       "142      4.0          1.0           0.0           2.0            0.0     60.0   \n",
       "\n",
       "     ptl_freq   dt1   dt2  dt3    dw_mean    dw_ste  train_len  \n",
       "0         1.0 -10.0  10.0  0.0   2.634968  0.000000       60.0  \n",
       "1         1.0  -5.0   5.0  0.0  -0.162906  0.000000       60.0  \n",
       "2         1.0   0.0   0.0  0.0  50.000000  0.000000       60.0  \n",
       "3         1.0   5.0  -5.0  0.0  27.321098  0.000000       60.0  \n",
       "4         1.0  10.0 -10.0  0.0  25.392321  0.000000       60.0  \n",
       "139       1.0 -15.0   5.0  0.0   0.246154  3.354050       60.0  \n",
       "140       1.0  -5.0  15.0  0.0  23.154206  4.891500       60.0  \n",
       "141       1.0   5.0 -15.0  0.0  20.722837  7.546790       60.0  \n",
       "142       1.0  15.0  -5.0  0.0  28.118581  4.751571       60.0  "
      ]
     },
     "execution_count": 7,
     "metadata": {},
     "output_type": "execute_result"
    }
   ],
   "source": [
    "# Visualize the triplet data\n",
    "data2_gen"
   ]
  },
  {
   "cell_type": "code",
   "execution_count": 8,
   "metadata": {
    "collapsed": false,
    "deletable": true,
    "editable": true
   },
   "outputs": [
    {
     "data": {
      "text/plain": [
       "[-110, 100, -30, 60]"
      ]
     },
     "execution_count": 8,
     "metadata": {},
     "output_type": "execute_result"
    },
    {
     "data": {
      "image/png": "[encoded data removed]",
      "text/plain": [
       "<matplotlib.figure.Figure at 0x7f4b963bf9e8>"
      ]
     },
     "metadata": {},
     "output_type": "display_data"
    }
   ],
   "source": [
    "data3 = data[data['ptl_idx']==3]\n",
    "X = np.array(data3['dt2']).reshape(-1,1)\n",
    "y = np.array(data3['dw_mean']).reshape(-1,1)\n",
    "plt.plot(data3['dt2'], data3['dw_mean'], 'o')\n",
    "plt.axis([-110, 100, -30, 60])"
   ]
  },
  {
   "cell_type": "code",
   "execution_count": 9,
   "metadata": {
    "collapsed": false,
    "deletable": true,
    "editable": true
   },
   "outputs": [],
   "source": [
    "# Generate dt1\n",
    "# Insert values for Quadruplet\n",
    "dt = np.concatenate([np.arange(-100,-10,2).reshape(-1,1), np.arange(10,100,2).reshape(-1,1)])\n",
    "data3_gen = pd.DataFrame(data=None, columns=list(data.columns))\n",
    "for i in range(len(dt)):\n",
    "    new_try3 = data3.iloc[0]\n",
    "    new_try3['dt2'] = dt[i]\n",
    "    data3_gen = data3_gen.append(new_try3, ignore_index=True)"
   ]
  },
  {
   "cell_type": "code",
   "execution_count": 10,
   "metadata": {
    "collapsed": false,
    "deletable": true,
    "editable": true
   },
   "outputs": [
    {
     "data": {
      "image/png": "[encoded data removed]",
      "text/plain": [
       "<matplotlib.figure.Figure at 0x7f4b90a979e8>"
      ]
     },
     "metadata": {},
     "output_type": "display_data"
    }
   ],
   "source": [
    "# Use K nearest neigbors to estimate the mean value of a given dt1\n",
    "from sklearn.neighbors import KNeighborsRegressor\n",
    "\n",
    "# Search through the parameter for the one gives the minimum reconstruction error\n",
    "n_neighbors = [3,5,7,10]\n",
    "weights = ['uniform', 'distance']\n",
    "\n",
    "figure, ax = plt.subplots(2,4)\n",
    "figure.set_figheight(6)\n",
    "figure.set_figwidth(12)\n",
    "\n",
    "for j in range(len(weights)):\n",
    "    for i in range(len(n_neighbors)):\n",
    "        \n",
    "        Kn_reg = KNeighborsRegressor(n_neighbors=n_neighbors[i], weights=weights[j])\n",
    "        Kn_reg.fit(X,y)\n",
    "        y_pred = Kn_reg.predict(np.array(data3_gen['dt2']).reshape(-1,1))\n",
    "        \n",
    "        # Calculate mean squared error\n",
    "        \n",
    "        ax[j,i].plot(data3['dt2'], data3['dw_mean'], 'o')\n",
    "        ax[j,i].plot(data3_gen['dt2'], y_pred, 'ro')\n",
    "        ax[j,i].set_xlim([-110,100])\n",
    "        ax[j,i].set_title(['n=%d'%(n_neighbors[i]), ' w=%s'%(weights[j])])\n",
    "plt.tight_layout()"
   ]
  },
  {
   "cell_type": "code",
   "execution_count": 11,
   "metadata": {
    "collapsed": false,
    "deletable": true,
    "editable": true
   },
   "outputs": [
    {
     "data": {
      "text/plain": [
       "<matplotlib.text.Text at 0x7f4b907615c0>"
      ]
     },
     "execution_count": 11,
     "metadata": {},
     "output_type": "execute_result"
    },
    {
     "data": {
      "image/png": "[encoded data removed]",
      "text/plain": [
       "<matplotlib.figure.Figure at 0x7f4b90aef240>"
      ]
     },
     "metadata": {},
     "output_type": "display_data"
    }
   ],
   "source": [
    "# Choose one parameter and generate the prediction\n",
    "n_neighbors = 7\n",
    "weights = 'uniform'\n",
    "\n",
    "Kn_reg = KNeighborsRegressor(n_neighbors=n_neighbors, weights=weights)\n",
    "Kn_reg.fit(X,y)\n",
    "y_pred = Kn_reg.predict(np.array(data3_gen['dt2']).reshape(-1,1))\n",
    "targets3=y_pred\n",
    "plt.plot(data3['dt2'], data3['dw_mean'], 'o')\n",
    "plt.plot(data3_gen['dt2'], y_pred, 'ro')\n",
    "plt.axis([-110,100,-30,60])\n",
    "plt.title('.'.join(('n=%d'%(n_neighbors), ', w=%s'%(weights))))"
   ]
  },
  {
   "cell_type": "code",
   "execution_count": 12,
   "metadata": {
    "collapsed": false,
    "deletable": true,
    "editable": true
   },
   "outputs": [
    {
     "data": {
      "text/plain": [
       "(90, 1)"
      ]
     },
     "execution_count": 12,
     "metadata": {},
     "output_type": "execute_result"
    }
   ],
   "source": [
    "targets3.shape"
   ]
  },
  {
   "cell_type": "code",
   "execution_count": 13,
   "metadata": {
    "collapsed": false,
    "deletable": true,
    "editable": true
   },
   "outputs": [
    {
     "data": {
      "text/plain": [
       "<matplotlib.legend.Legend at 0x7f4b9067d240>"
      ]
     },
     "execution_count": 13,
     "metadata": {},
     "output_type": "execute_result"
    },
    {
     "data": {
      "image/png": "[encoded data removed]",
      "text/plain": [
       "<matplotlib.figure.Figure at 0x7f4b9071a588>"
      ]
     },
     "metadata": {},
     "output_type": "display_data"
    }
   ],
   "source": [
    "width_list = np.concatenate([np.linspace(10,3,45), np.linspace(3,10,45)])\n",
    "targets3_sm = np.concatenate([dw_gen.smooth(targets3[:45],width_list = width_list), dw_gen.smooth(targets3[45:],width_list = width_list)])\n",
    "plt.plot(data3['dt2'], data3['dw_mean'], 'o', label='Raw data')\n",
    "plt.plot(data3_gen['dt2'], targets3,'o', label='KNN')\n",
    "plt.plot(data3_gen['dt2'], targets3_sm,'o', label='Smoothness filter')\n",
    "plt.xlabel('dt(ms)')\n",
    "plt.ylabel('$\\Delta w$')\n",
    "plt.legend()"
   ]
  },
  {
   "cell_type": "code",
   "execution_count": 14,
   "metadata": {
    "collapsed": false,
    "deletable": true,
    "editable": true
   },
   "outputs": [
    {
     "data": {
      "text/html": [
       "<div>\n",
       "<table border=\"1\" class=\"dataframe\">\n",
       "  <thead>\n",
       "    <tr style=\"text-align: right;\">\n",
       "      <th></th>\n",
       "      <th></th>\n",
       "      <th>A2_+</th>\n",
       "      <th>A3_-</th>\n",
       "      <th>A2_-</th>\n",
       "      <th>A3_+</th>\n",
       "      <th>Tau_+</th>\n",
       "      <th>Tau_x</th>\n",
       "      <th>Tau_-</th>\n",
       "      <th>Tau_y</th>\n",
       "    </tr>\n",
       "  </thead>\n",
       "  <tbody>\n",
       "    <tr>\n",
       "      <th rowspan=\"2\" valign=\"top\">Visu_AlltoAll</th>\n",
       "      <th>Full</th>\n",
       "      <td>5e-10</td>\n",
       "      <td>0.00023</td>\n",
       "      <td>0.007</td>\n",
       "      <td>0.0062</td>\n",
       "      <td>16.8</td>\n",
       "      <td>101</td>\n",
       "      <td>33.7</td>\n",
       "      <td>125</td>\n",
       "    </tr>\n",
       "    <tr>\n",
       "      <th>Min</th>\n",
       "      <td>0</td>\n",
       "      <td>0</td>\n",
       "      <td>0.0071</td>\n",
       "      <td>0.0065</td>\n",
       "      <td>16.8</td>\n",
       "      <td>1</td>\n",
       "      <td>33.7</td>\n",
       "      <td>114</td>\n",
       "    </tr>\n",
       "    <tr>\n",
       "      <th rowspan=\"2\" valign=\"top\">Visu_NearestSpk</th>\n",
       "      <th>Full</th>\n",
       "      <td>8.8e-11</td>\n",
       "      <td>0.0031</td>\n",
       "      <td>0.0066</td>\n",
       "      <td>0.053</td>\n",
       "      <td>16.8</td>\n",
       "      <td>714</td>\n",
       "      <td>33.7</td>\n",
       "      <td>40</td>\n",
       "    </tr>\n",
       "    <tr>\n",
       "      <th>Min</th>\n",
       "      <td>0</td>\n",
       "      <td>0</td>\n",
       "      <td>0.008</td>\n",
       "      <td>0.05</td>\n",
       "      <td>16.8</td>\n",
       "      <td>1</td>\n",
       "      <td>33.7</td>\n",
       "      <td>40</td>\n",
       "    </tr>\n",
       "    <tr>\n",
       "      <th rowspan=\"2\" valign=\"top\">Hippo_AlltoAll</th>\n",
       "      <th>Full</th>\n",
       "      <td>0.0061</td>\n",
       "      <td>0.0014</td>\n",
       "      <td>0.0016</td>\n",
       "      <td>0.0067</td>\n",
       "      <td>16.8</td>\n",
       "      <td>946</td>\n",
       "      <td>33.7</td>\n",
       "      <td>27</td>\n",
       "    </tr>\n",
       "    <tr>\n",
       "      <th>Min</th>\n",
       "      <td>0.0053</td>\n",
       "      <td>0</td>\n",
       "      <td>0.0035</td>\n",
       "      <td>0.008</td>\n",
       "      <td>16.8</td>\n",
       "      <td>1</td>\n",
       "      <td>33.7</td>\n",
       "      <td>40</td>\n",
       "    </tr>\n",
       "    <tr>\n",
       "      <th rowspan=\"2\" valign=\"top\">Hippo_NearestSpk</th>\n",
       "      <th>Full</th>\n",
       "      <td>0.0046</td>\n",
       "      <td>7.5e-09</td>\n",
       "      <td>0.003</td>\n",
       "      <td>0.0091</td>\n",
       "      <td>16.8</td>\n",
       "      <td>575</td>\n",
       "      <td>33.7</td>\n",
       "      <td>47</td>\n",
       "    </tr>\n",
       "    <tr>\n",
       "      <th>Min</th>\n",
       "      <td>0.0046</td>\n",
       "      <td>0</td>\n",
       "      <td>0.003</td>\n",
       "      <td>0.0091</td>\n",
       "      <td>16.8</td>\n",
       "      <td>1</td>\n",
       "      <td>33.7</td>\n",
       "      <td>48</td>\n",
       "    </tr>\n",
       "  </tbody>\n",
       "</table>\n",
       "</div>"
      ],
      "text/plain": [
       "                          A2_+     A3_-    A2_-    A3_+ Tau_+ Tau_x Tau_-  \\\n",
       "Visu_AlltoAll    Full    5e-10  0.00023   0.007  0.0062  16.8   101  33.7   \n",
       "                 Min         0        0  0.0071  0.0065  16.8     1  33.7   \n",
       "Visu_NearestSpk  Full  8.8e-11   0.0031  0.0066   0.053  16.8   714  33.7   \n",
       "                 Min         0        0   0.008    0.05  16.8     1  33.7   \n",
       "Hippo_AlltoAll   Full   0.0061   0.0014  0.0016  0.0067  16.8   946  33.7   \n",
       "                 Min    0.0053        0  0.0035   0.008  16.8     1  33.7   \n",
       "Hippo_NearestSpk Full   0.0046  7.5e-09   0.003  0.0091  16.8   575  33.7   \n",
       "                 Min    0.0046        0   0.003  0.0091  16.8     1  33.7   \n",
       "\n",
       "                      Tau_y  \n",
       "Visu_AlltoAll    Full   125  \n",
       "                 Min    114  \n",
       "Visu_NearestSpk  Full    40  \n",
       "                 Min     40  \n",
       "Hippo_AlltoAll   Full    27  \n",
       "                 Min     40  \n",
       "Hippo_NearestSpk Full    47  \n",
       "                 Min     48  "
      ]
     },
     "execution_count": 14,
     "metadata": {},
     "output_type": "execute_result"
    }
   ],
   "source": [
    "trip_para = pd.read_pickle('/src/Plasticity_Ker/data/Gerstner_trip_para_df')\n",
    "trip_para\n",
    "# Reorder columns to match parameter of the model\n",
    "trip_para = trip_para[['A2_+', 'A3_-', 'A2_-', 'A3_+', 'Tau_+', 'Tau_x', 'Tau_-', 'Tau_y']]\n",
    "trip_para"
   ]
  },
  {
   "cell_type": "code",
   "execution_count": 15,
   "metadata": {
    "collapsed": false,
    "deletable": true,
    "editable": true
   },
   "outputs": [
    {
     "name": "stdout",
     "output_type": "stream",
     "text": [
      "1.0 1.0\n"
     ]
    },
    {
     "data": {
      "image/png": "[encoded data removed]",
      "text/plain": [
       "<matplotlib.figure.Figure at 0x7f4b90641550>"
      ]
     },
     "metadata": {},
     "output_type": "display_data"
    }
   ],
   "source": [
    "# Visualize kernel\n",
    "from modelval.kernel import KernelGen\n",
    "plt.figure(figsize=(5,3))\n",
    "ker_test = KernelGen()\n",
    "\n",
    "para = trip_para.loc[('Hippo_AlltoAll', 'Full'), :]\n",
    "a = para[:4].values\n",
    "tau = para[4:].values\n",
    "reso_set = 2\n",
    "tau_pre_post = tau[0]/reso_set  # ms\n",
    "tau_post_pre = tau[2]/reso_set # ms\n",
    "\n",
    "ker_test = KernelGen(len_kernel=101)\n",
    "ker_test.trip_model_ker(para, data_name='Hippocampus')\n",
    "plt.plot(ker_test.kernel_pre, label='ker_pre')\n",
    "plt.plot(ker_test.kernel_post, label='ker_post')\n",
    "plt.legend()\n",
    "print(np.linalg.norm(ker_test.kernel_pre, ord=2), np.linalg.norm(ker_test.kernel_post, ord=2))"
   ]
  },
  {
   "cell_type": "code",
   "execution_count": 16,
   "metadata": {
    "collapsed": false,
    "deletable": true,
    "editable": true
   },
   "outputs": [],
   "source": [
    "data_gen = pd.concat([data1_gen, data2_gen, data3_gen])\n",
    "targets = np.concatenate([targets1_sm, targets2, targets3_sm])"
   ]
  },
  {
   "cell_type": "code",
   "execution_count": 17,
   "metadata": {
    "collapsed": false,
    "deletable": true,
    "editable": true
   },
   "outputs": [
    {
     "data": {
      "text/plain": [
       "1.0    100\n",
       "3.0     90\n",
       "2.0      5\n",
       "4.0      4\n",
       "Name: ptl_idx, dtype: int64"
      ]
     },
     "execution_count": 17,
     "metadata": {},
     "output_type": "execute_result"
    }
   ],
   "source": [
    "data_gen['ptl_idx'].value_counts()"
   ]
  },
  {
   "cell_type": "code",
   "execution_count": 18,
   "metadata": {
    "collapsed": false,
    "deletable": true,
    "editable": true
   },
   "outputs": [
    {
     "data": {
      "text/plain": [
       "([<matplotlib.lines.Line2D at 0x7f4b90ab2c50>],)"
      ]
     },
     "execution_count": 18,
     "metadata": {},
     "output_type": "execute_result"
    },
    {
     "data": {
      "image/png": "[encoded data removed]",
      "text/plain": [
       "<matplotlib.figure.Figure at 0x7f4b90716a90>"
      ]
     },
     "metadata": {},
     "output_type": "display_data"
    }
   ],
   "source": [
    "plt.plot(data_gen.iloc[:len(data1_gen)]['dt1'],targets[:targets1.shape[0]],'o'), "
   ]
  },
  {
   "cell_type": "code",
   "execution_count": 19,
   "metadata": {
    "collapsed": false,
    "deletable": true,
    "editable": true
   },
   "outputs": [
    {
     "data": {
      "text/plain": [
       "([<matplotlib.lines.Line2D at 0x7f4b9061fe48>],)"
      ]
     },
     "execution_count": 19,
     "metadata": {},
     "output_type": "execute_result"
    },
    {
     "data": {
      "image/png": "[encoded data removed]",
      "text/plain": [
       "<matplotlib.figure.Figure at 0x7f4b90659ef0>"
      ]
     },
     "metadata": {},
     "output_type": "display_data"
    }
   ],
   "source": [
    "plt.plot(data_gen.iloc[len(data1_gen):]['dt2'],targets[targets1.shape[0]:],'o'), "
   ]
  },
  {
   "cell_type": "code",
   "execution_count": 20,
   "metadata": {
    "collapsed": false,
    "deletable": true,
    "editable": true
   },
   "outputs": [],
   "source": [
    "ptl_list = [1,2,4,3]\n",
    "spk_len = int(data3_gen['train_len'].max() * 1000 / ker_test.reso_kernel)\n",
    "if_noise = 1\n",
    "aug_times = [20,40,40,20]\n",
    "spk_pairs, targets = arb_w_gen(df=data_gen, ptl_list=ptl_list, targets=targets, if_noise=if_noise, spk_len=spk_len, kernel=ker_test, net_type='triplet', aug_times=aug_times)"
   ]
  },
  {
   "cell_type": "code",
   "execution_count": 21,
   "metadata": {
    "collapsed": true,
    "deletable": true,
    "editable": true
   },
   "outputs": [],
   "source": [
    "# # np.save('/src/Plasticity_Ker/data/spk_pairs.npy', spk_pairs)\n",
    "# # np.save('/src/Plasticity_Ker/data/targets.npy', targets)\n",
    "# spk_pairs = np.load('/src/Plasticity_Ker/data/spk_pairs.npy')\n",
    "# targets = np.load('/src/Plasticity_Ker/data/targets.npy')"
   ]
  },
  {
   "cell_type": "code",
   "execution_count": 22,
   "metadata": {
    "collapsed": false,
    "deletable": true,
    "editable": true
   },
   "outputs": [
    {
     "data": {
      "text/plain": [
       "(4160, 1)"
      ]
     },
     "execution_count": 22,
     "metadata": {},
     "output_type": "execute_result"
    }
   ],
   "source": [
    "targets.shape"
   ]
  },
  {
   "cell_type": "code",
   "execution_count": 23,
   "metadata": {
    "collapsed": false,
    "deletable": true,
    "editable": true
   },
   "outputs": [],
   "source": [
    "# Create the network\n",
    "ground_truth_init = 0\n",
    "reg_scale=(1, 1)\n",
    "init_seed=(4,5,6,7)\n",
    "toy_data_net = network.TripNet(kernel=ker_test, ground_truth_init=ground_truth_init, init_seed=init_seed, reg_scale=reg_scale, n_input=spk_pairs.shape[1])"
   ]
  },
  {
   "cell_type": "code",
   "execution_count": 24,
   "metadata": {
    "collapsed": true,
    "deletable": true,
    "editable": true
   },
   "outputs": [],
   "source": [
    "# Create the trainer\n",
    "save_dir= '/src/Plasticity_Ker/model/Trip_ptl1_4_real_aug'\n",
    "toy_net_trainer = trainer.Trainer(toy_data_net.loss, toy_data_net.loss, input_name=toy_data_net.inputs, target_name=toy_data_net.target, save_dir=save_dir, optimizer_config={'learning_rate': toy_data_net.lr})"
   ]
  },
  {
   "cell_type": "code",
   "execution_count": 25,
   "metadata": {
    "collapsed": false,
    "deletable": true,
    "editable": true
   },
   "outputs": [],
   "source": [
    "# Obtain the training and validation data\n",
    "from sklearn.model_selection import train_test_split\n",
    "\n",
    "X_train_val, X_test, y_train_val, y_test = train_test_split(spk_pairs, targets, test_size=0.1)\n",
    "X_train, X_vali, y_train, y_vali = train_test_split(X_train_val,  y_train_val, test_size=0.1)\n",
    "train_data = dataset.Dataset(X_train, y_train)\n",
    "vali_data = dataset.Dataset(X_vali, y_vali)"
   ]
  },
  {
   "cell_type": "code",
   "execution_count": 26,
   "metadata": {
    "collapsed": false,
    "deletable": true,
    "editable": true
   },
   "outputs": [
    {
     "name": "stdout",
     "output_type": "stream",
     "text": [
      "[-0.03211808  0.01240611 -0.48971248] 0.0\n"
     ]
    },
    {
     "data": {
      "image/png": "[encoded data removed]",
      "text/plain": [
       "<matplotlib.figure.Figure at 0x7f4b0c49e828>"
      ]
     },
     "metadata": {},
     "output_type": "display_data"
    }
   ],
   "source": [
    "w_pre = toy_net_trainer.evaluate(ops=toy_data_net.kernel_pre)\n",
    "w_post = toy_net_trainer.evaluate(ops=toy_data_net.kernel_post)\n",
    "w_post_post = toy_net_trainer.evaluate(ops=toy_data_net.kernel_post_post)\n",
    "fc_w = toy_net_trainer.evaluate(ops=toy_data_net.fc_w)\n",
    "bias = toy_net_trainer.evaluate(ops=toy_data_net.bias)\n",
    "plt.plot(w_pre,  label='ker_pre_trained')\n",
    "plt.plot(w_post,  label='ker_post_trained')\n",
    "plt.plot(w_post_post,  label='ker_post_trained')\n",
    "plt.legend()\n",
    "print(fc_w, bias)"
   ]
  },
  {
   "cell_type": "code",
   "execution_count": 36,
   "metadata": {
    "collapsed": false,
    "deletable": true,
    "editable": true
   },
   "outputs": [
    {
     "name": "stdout",
     "output_type": "stream",
     "text": [
      "Global Step 2700 and Step 0045: validation cost=7.10558\n",
      "Global Step 2750 and Step 0095: validation cost=7.03907\n",
      "Updated min validation loss!Saving model...\n",
      "Global Step 2800 and Step 0145: validation cost=6.96065\n",
      "Updated min validation loss!Saving model...\n",
      "Global Step 2850 and Step 0195: validation cost=7.08832\n",
      "Global Step 2900 and Step 0245: validation cost=7.10927\n",
      "Global Step 2950 and Step 0295: validation cost=6.94189\n",
      "Updated min validation loss!Saving model...\n",
      "Global Step 3000 and Step 0345: validation cost=6.81944\n",
      "Updated min validation loss!Saving model...\n",
      "Global Step 3050 and Step 0395: validation cost=6.93388\n",
      "Global Step 3100 and Step 0445: validation cost=6.86535\n",
      "Global Step 3150 and Step 0495: validation cost=6.80027\n",
      "Updated min validation loss!Saving model...\n",
      "Global Step 3200 and Step 0545: validation cost=6.80283\n",
      "Global Step 3250 and Step 0595: validation cost=6.84169\n",
      "Global Step 3300 and Step 0645: validation cost=6.78930\n",
      "Updated min validation loss!Saving model...\n",
      "Global Step 3350 and Step 0695: validation cost=6.78876\n",
      "Updated min validation loss!Saving model...\n",
      "Global Step 3400 and Step 0745: validation cost=6.84440\n",
      "Global Step 3450 and Step 0795: validation cost=6.85389\n",
      "Global Step 3500 and Step 0845: validation cost=6.83493\n",
      "Global Step 3550 and Step 0895: validation cost=6.71982\n",
      "Updated min validation loss!Saving model...\n",
      "Global Step 3600 and Step 0945: validation cost=6.80314\n",
      "Global Step 3650 and Step 0995: validation cost=6.73276\n",
      "Global Step 3700 and Step 1045: validation cost=6.86321\n",
      "Global Step 3750 and Step 1095: validation cost=6.70395\n",
      "Updated min validation loss!Saving model...\n",
      "Global Step 3800 and Step 1145: validation cost=6.61329\n",
      "Updated min validation loss!Saving model...\n",
      "Global Step 3850 and Step 1195: validation cost=6.54853\n",
      "Updated min validation loss!Saving model...\n",
      "Global Step 3900 and Step 1245: validation cost=6.62535\n",
      "Global Step 3950 and Step 1295: validation cost=6.61225\n",
      "Global Step 4000 and Step 1345: validation cost=6.57781\n",
      "Global Step 4050 and Step 1395: validation cost=6.63762\n",
      "Global Step 4100 and Step 1445: validation cost=6.61034\n",
      "Global Step 4150 and Step 1495: validation cost=6.59102\n",
      "Global Step 4200 and Step 1545: validation cost=6.52125\n",
      "Updated min validation loss!Saving model...\n",
      "Global Step 4250 and Step 1595: validation cost=6.45146\n",
      "Updated min validation loss!Saving model...\n",
      "Global Step 4300 and Step 1645: validation cost=6.46750\n",
      "Global Step 4350 and Step 1695: validation cost=6.37430\n",
      "Updated min validation loss!Saving model...\n",
      "Global Step 4400 and Step 1745: validation cost=6.40926\n",
      "Global Step 4450 and Step 1795: validation cost=6.40074\n",
      "Global Step 4500 and Step 1845: validation cost=6.41965\n",
      "Global Step 4550 and Step 1895: validation cost=6.45926\n",
      "Global Step 4600 and Step 1945: validation cost=6.42270\n",
      "Global Step 4650 and Step 1995: validation cost=6.39617\n",
      "Global Step 4700 and Step 2045: validation cost=6.37435\n",
      "Global Step 4750 and Step 2095: validation cost=6.42933\n",
      "Global Step 4800 and Step 2145: validation cost=6.40081\n",
      "Global Step 4850 and Step 2195: validation cost=6.35473\n",
      "Updated min validation loss!Saving model...\n",
      "Global Step 4900 and Step 2245: validation cost=6.25502\n",
      "Updated min validation loss!Saving model...\n",
      "Global Step 4950 and Step 2295: validation cost=6.22887\n",
      "Updated min validation loss!Saving model...\n",
      "Global Step 5000 and Step 2345: validation cost=6.35037\n",
      "Global Step 5050 and Step 2395: validation cost=6.17365\n",
      "Updated min validation loss!Saving model...\n",
      "Global Step 5100 and Step 2445: validation cost=6.18312\n",
      "Global Step 5150 and Step 2495: validation cost=6.24490\n",
      "Global Step 5200 and Step 2545: validation cost=6.18352\n",
      "Global Step 5250 and Step 2595: validation cost=6.08348\n",
      "Updated min validation loss!Saving model...\n",
      "Global Step 5300 and Step 2645: validation cost=6.12154\n",
      "Global Step 5350 and Step 2695: validation cost=6.13443\n",
      "Global Step 5400 and Step 2745: validation cost=6.25491\n",
      "Global Step 5450 and Step 2795: validation cost=6.27244\n",
      "Global Step 5500 and Step 2845: validation cost=6.16631\n",
      "Global Step 5550 and Step 2895: validation cost=6.10782\n",
      "Global Step 5600 and Step 2945: validation cost=6.09827\n",
      "Global Step 5650 and Step 2995: validation cost=6.37865\n",
      "Global Step 5700 and Step 3045: validation cost=6.22725\n",
      "Global Step 5750 and Step 3095: validation cost=6.10622\n",
      "Global Step 5800 and Step 3145: validation cost=6.23439\n",
      "Global Step 5850 and Step 3195: validation cost=6.12746\n",
      "Global Step 5900 and Step 3245: validation cost=6.13273\n",
      "Global Step 5950 and Step 3295: validation cost=6.16264\n",
      "Global Step 6000 and Step 3345: validation cost=6.05418\n",
      "Updated min validation loss!Saving model...\n",
      "Global Step 6050 and Step 3395: validation cost=6.11390\n",
      "Global Step 6100 and Step 3445: validation cost=6.02048\n",
      "Updated min validation loss!Saving model...\n",
      "Global Step 6150 and Step 3495: validation cost=6.06760\n",
      "Global Step 6200 and Step 3545: validation cost=6.08519\n",
      "Global Step 6250 and Step 3595: validation cost=6.19383\n",
      "Global Step 6300 and Step 3645: validation cost=6.12559\n",
      "Global Step 6350 and Step 3695: validation cost=6.17078\n",
      "Global Step 6400 and Step 3745: validation cost=6.15262\n",
      "Global Step 6450 and Step 3795: validation cost=6.10131\n",
      "Global Step 6500 and Step 3845: validation cost=5.97629\n",
      "Updated min validation loss!Saving model...\n",
      "Global Step 6550 and Step 3895: validation cost=6.11422\n",
      "Global Step 6600 and Step 3945: validation cost=6.00084\n",
      "Global Step 6650 and Step 3995: validation cost=6.09127\n",
      "Global Step 6700 and Step 4045: validation cost=6.04562\n",
      "Global Step 6750 and Step 4095: validation cost=5.98073\n",
      "Global Step 6800 and Step 4145: validation cost=6.14302\n",
      "Global Step 6850 and Step 4195: validation cost=5.94919\n",
      "Updated min validation loss!Saving model...\n",
      "Global Step 6900 and Step 4245: validation cost=5.88804\n",
      "Updated min validation loss!Saving model...\n",
      "Global Step 6950 and Step 4295: validation cost=5.88269\n",
      "Updated min validation loss!Saving model...\n",
      "Global Step 7000 and Step 4345: validation cost=6.00488\n",
      "Global Step 7050 and Step 4395: validation cost=5.95525\n",
      "Global Step 7100 and Step 4445: validation cost=5.93044\n",
      "Global Step 7150 and Step 4495: validation cost=5.98373\n",
      "Global Step 7200 and Step 4545: validation cost=6.19286\n",
      "Global Step 7250 and Step 4595: validation cost=5.86624\n",
      "Updated min validation loss!Saving model...\n",
      "Global Step 7300 and Step 4645: validation cost=5.89800\n",
      "Global Step 7350 and Step 4695: validation cost=5.89108\n",
      "Global Step 7400 and Step 4745: validation cost=5.84206\n",
      "Updated min validation loss!Saving model...\n",
      "Global Step 7450 and Step 4795: validation cost=5.86560\n",
      "Global Step 7500 and Step 4845: validation cost=5.81453\n",
      "Updated min validation loss!Saving model...\n",
      "Global Step 7550 and Step 4895: validation cost=5.89158\n",
      "Global Step 7600 and Step 4945: validation cost=5.89877\n",
      "Global Step 7650 and Step 4995: validation cost=5.78090\n",
      "Updated min validation loss!Saving model...\n",
      "Global Step 7700 and Step 5045: validation cost=5.71624\n",
      "Updated min validation loss!Saving model...\n",
      "Global Step 7750 and Step 5095: validation cost=5.79506\n",
      "Global Step 7800 and Step 5145: validation cost=5.87572\n",
      "Global Step 7850 and Step 5195: validation cost=5.87042\n",
      "Global Step 7900 and Step 5245: validation cost=5.74484\n",
      "Global Step 7950 and Step 5295: validation cost=5.81784\n",
      "Global Step 8000 and Step 5345: validation cost=5.89611\n",
      "Global Step 8050 and Step 5395: validation cost=5.81698\n",
      "Global Step 8100 and Step 5445: validation cost=5.86385\n",
      "Global Step 8150 and Step 5495: validation cost=5.96759\n",
      "Global Step 8200 and Step 5545: validation cost=5.99639\n",
      "Global Step 8250 and Step 5595: validation cost=5.99400\n",
      "Global Step 8300 and Step 5645: validation cost=5.92850\n",
      "Global Step 8350 and Step 5695: validation cost=5.76711\n",
      "Global Step 8400 and Step 5745: validation cost=5.82981\n",
      "Global Step 8450 and Step 5795: validation cost=5.96584\n",
      "Early Stopping!!!\n",
      "Restoring the best parameters...\n",
      "Global Step 8500 and Step 0050: validation cost=5.80213\n",
      "Global Step 8550 and Step 0100: validation cost=5.88593\n",
      "Global Step 8600 and Step 0150: validation cost=5.83917\n",
      "Global Step 8650 and Step 0200: validation cost=5.79282\n",
      "Global Step 8700 and Step 0250: validation cost=5.89412\n",
      "Global Step 8750 and Step 0300: validation cost=5.89192\n",
      "Global Step 8800 and Step 0350: validation cost=5.89853\n",
      "Global Step 8850 and Step 0400: validation cost=5.89973\n",
      "Global Step 8900 and Step 0450: validation cost=5.89852\n",
      "Global Step 8950 and Step 0500: validation cost=5.83484\n",
      "Global Step 9000 and Step 0550: validation cost=5.82474\n",
      "Global Step 9050 and Step 0600: validation cost=5.82915\n",
      "Global Step 9100 and Step 0650: validation cost=5.87606\n",
      "Global Step 9150 and Step 0700: validation cost=5.84245\n",
      "Global Step 9200 and Step 0750: validation cost=5.81336\n",
      "Early Stopping!!!\n",
      "Restoring the best parameters...\n",
      "Global Step 9250 and Step 0050: validation cost=5.75250\n",
      "Global Step 9300 and Step 0100: validation cost=5.78568\n",
      "Global Step 9350 and Step 0150: validation cost=5.80580\n",
      "Global Step 9400 and Step 0200: validation cost=5.82258\n",
      "Global Step 9450 and Step 0250: validation cost=5.82966\n",
      "Global Step 9500 and Step 0300: validation cost=5.83736\n",
      "Global Step 9550 and Step 0350: validation cost=5.82344\n",
      "Global Step 9600 and Step 0400: validation cost=5.82814\n",
      "Global Step 9650 and Step 0450: validation cost=5.83684\n",
      "Global Step 9700 and Step 0500: validation cost=5.84347\n",
      "Global Step 9750 and Step 0550: validation cost=5.86461\n",
      "Global Step 9800 and Step 0600: validation cost=5.83457\n",
      "Global Step 9850 and Step 0650: validation cost=5.83713\n",
      "Global Step 9900 and Step 0700: validation cost=5.83668\n",
      "Global Step 9950 and Step 0750: validation cost=5.83073\n",
      "Early Stopping!!!\n",
      "Restoring the best parameters...\n",
      "Global Step 10000 and Step 0050: validation cost=5.72658\n",
      "Global Step 10050 and Step 0100: validation cost=5.73444\n",
      "Global Step 10100 and Step 0150: validation cost=5.74154\n",
      "Global Step 10150 and Step 0200: validation cost=5.74596\n",
      "Global Step 10200 and Step 0250: validation cost=5.75874\n",
      "Global Step 10250 and Step 0300: validation cost=5.76412\n",
      "Global Step 10300 and Step 0350: validation cost=5.77019\n",
      "Global Step 10350 and Step 0400: validation cost=5.76637\n",
      "Global Step 10400 and Step 0450: validation cost=5.76824\n",
      "Global Step 10450 and Step 0500: validation cost=5.78254\n",
      "Global Step 10500 and Step 0550: validation cost=5.79191\n",
      "Global Step 10550 and Step 0600: validation cost=5.79510\n",
      "Global Step 10600 and Step 0650: validation cost=5.80177\n",
      "Global Step 10650 and Step 0700: validation cost=5.81151\n",
      "Global Step 10700 and Step 0750: validation cost=5.81021\n",
      "Early Stopping!!!\n",
      "Restoring the best parameters...\n",
      "Global Step 10750 and Step 0050: validation cost=5.71667\n",
      "Global Step 10800 and Step 0100: validation cost=5.72171\n",
      "Global Step 10850 and Step 0150: validation cost=5.72578\n",
      "Global Step 10900 and Step 0200: validation cost=5.73231\n",
      "Global Step 10950 and Step 0250: validation cost=5.73429\n",
      "Global Step 11000 and Step 0300: validation cost=5.73868\n",
      "Global Step 11050 and Step 0350: validation cost=5.74228\n",
      "Global Step 11100 and Step 0400: validation cost=5.74790\n",
      "Global Step 11150 and Step 0450: validation cost=5.75126\n",
      "Global Step 11200 and Step 0500: validation cost=5.75342\n",
      "Global Step 11250 and Step 0550: validation cost=5.75895\n",
      "Global Step 11300 and Step 0600: validation cost=5.76147\n",
      "Global Step 11350 and Step 0650: validation cost=5.76397\n",
      "Global Step 11400 and Step 0700: validation cost=5.77002\n",
      "Global Step 11450 and Step 0750: validation cost=5.77567\n",
      "Early Stopping!!!\n",
      "Restoring the best parameters...\n"
     ]
    }
   ],
   "source": [
    "# Learn the kernel from random initialization\n",
    "learning_rate = 0.001\n",
    "iterations = 5\n",
    "min_error = -1\n",
    "for i in range(iterations):\n",
    "    toy_net_trainer.train(train_data, vali_data, batch_size=128, min_error=min_error, feed_dict={toy_data_net.lr: learning_rate})\n",
    "    learning_rate = learning_rate/3"
   ]
  },
  {
   "cell_type": "code",
   "execution_count": 37,
   "metadata": {
    "collapsed": false,
    "deletable": true,
    "editable": true
   },
   "outputs": [
    {
     "name": "stdout",
     "output_type": "stream",
     "text": [
      "[array([-1.16004169, -0.99600381, -1.77480674], dtype=float32), 2.3834853]\n"
     ]
    },
    {
     "data": {
      "image/png": "[encoded data removed]",
      "text/plain": [
       "<matplotlib.figure.Figure at 0x7f4aec8475f8>"
      ]
     },
     "metadata": {},
     "output_type": "display_data"
    }
   ],
   "source": [
    "toy_net_trainer.restore_best()\n",
    "w_pre = toy_net_trainer.evaluate(ops=toy_data_net.kernel_pre)\n",
    "w_post = toy_net_trainer.evaluate(ops=toy_data_net.kernel_post)\n",
    "w_post_post = toy_net_trainer.evaluate(ops=toy_data_net.kernel_post_post)\n",
    "fc_w = toy_net_trainer.evaluate(ops=toy_data_net.fc_w)\n",
    "bias = toy_net_trainer.evaluate(ops=toy_data_net.bias)\n",
    "plt.plot(-1*w_pre, label='ker_pre_trained')\n",
    "plt.plot(-1*w_post, label='ker_post_trained')\n",
    "plt.plot(-1 * w_post_post, label='ker_post_post_trained')\n",
    "plt.legend()\n",
    "print([fc_w, bias])"
   ]
  },
  {
   "cell_type": "code",
   "execution_count": 38,
   "metadata": {
    "collapsed": false,
    "deletable": true,
    "editable": true
   },
   "outputs": [],
   "source": [
    "# # Test effect of smoothed kernel\n",
    "# w_pre_sm = w_pre\n",
    "# w_post_sm = w_post \n",
    "# w_post_post_sm = w_post_post\n",
    "# w_pre_sm[:50] = dw_gen.smooth(w_pre[:50], width=2)\n",
    "# w_post_sm[:48] = dw_gen.smooth(w_post[:48], width=5)\n",
    "# w_post_post_sm[:49] = dw_gen.smooth(w_post_post[:49], width=3)\n",
    "\n",
    "# plt.plot(-1 * w_pre_sm)\n",
    "# plt.plot(-1 * w_post_sm)\n",
    "# plt.plot(w_post_post_sm)"
   ]
  },
  {
   "cell_type": "markdown",
   "metadata": {
    "collapsed": true,
    "deletable": true,
    "editable": true
   },
   "source": [
    "Compare the target and prediction"
   ]
  },
  {
   "cell_type": "code",
   "execution_count": 39,
   "metadata": {
    "collapsed": false,
    "deletable": true,
    "editable": true
   },
   "outputs": [],
   "source": [
    "ker_test.kernel_pre = w_pre\n",
    "ker_test.kernel_post = w_post\n",
    "ker_test.kernel_post_post= w_post_post\n",
    "ker_test.kernel_scale = fc_w\n",
    "ker_test.bias = bias"
   ]
  },
  {
   "cell_type": "code",
   "execution_count": null,
   "metadata": {
    "collapsed": false,
    "deletable": true,
    "editable": true
   },
   "outputs": [],
   "source": [
    "spk_len = int(data1_gen['train_len'].max() * 1000 / ker_test.reso_kernel)\n",
    "spk_pairs, predictions = arb_w_gen(spk_pairs=spk_pairs, spk_len=spk_len, kernel=ker_test, net_type='triplet')"
   ]
  },
  {
   "cell_type": "code",
   "execution_count": null,
   "metadata": {
    "collapsed": false,
    "deletable": true,
    "editable": true
   },
   "outputs": [],
   "source": [
    "# np.save('/src/Plasticity_Ker/data/predictions.npy', predictions)\n",
    "# predictions = np.load('/src/Plasticity_Ker/data/predictions.npy')"
   ]
  },
  {
   "cell_type": "code",
   "execution_count": null,
   "metadata": {
    "collapsed": false,
    "deletable": true,
    "editable": true
   },
   "outputs": [],
   "source": [
    "x_fit = np.linspace(np.min(targets)-1, np.max(targets)+1, 100)\n",
    "len_stdp = len(data1_gen)*20\n",
    "targets_stdp = targets[:len_stdp]\n",
    "predictions_stdp = predictions[:len_stdp]\n",
    "len_triplet = len(data1_gen)*20+len(data2_gen[data2_gen['ptl_idx']==2])*40\n",
    "targets_triplet = targets[len_stdp:len_triplet]\n",
    "predictions_triplet = predictions[len_stdp:len_triplet]\n",
    "len_trip2 = len(data1_gen)*20+len(data2_gen[data2_gen['ptl_idx']==2])*40+len(data2_gen[data2_gen['ptl_idx']==4])*40\n",
    "targets_trip2 = targets[len_triplet:len_trip2]\n",
    "predictions_trip2 = predictions[len_triplet:len_trip2]\n",
    "targets_quad = targets[len_trip2:]\n",
    "predictions_quad = predictions[len_trip2:]\n",
    "R2, corr, y_fit = perform_eval.R2_corr(predictions,targets, x_fit)\n",
    "R2_stdp, corr_stdp, y_fit_stdp = perform_eval.R2_corr(predictions_stdp,targets_stdp, x_fit)\n",
    "R2_triplet, corr_triplet, y_fit_triplet = perform_eval.R2_corr(predictions_triplet,targets_triplet, x_fit)\n",
    "R2_quad, corr_quad, y_fit_quad = perform_eval.R2_corr(predictions_quad ,targets_quad, x_fit)\n",
    "R2_quad, corr_trip2, y_fit_trip2 = perform_eval.R2_corr(predictions_trip2 ,targets_trip2, x_fit)"
   ]
  },
  {
   "cell_type": "code",
   "execution_count": null,
   "metadata": {
    "collapsed": false,
    "deletable": true,
    "editable": true
   },
   "outputs": [],
   "source": [
    "predictions.shape"
   ]
  },
  {
   "cell_type": "code",
   "execution_count": null,
   "metadata": {
    "collapsed": false,
    "deletable": true,
    "editable": true
   },
   "outputs": [],
   "source": [
    "plt.plot(x_fit, y_fit_stdp, 'k--')\n",
    "#plt.plot(x_fit, y_fit_triplet, 'r--')\n",
    "plt.plot(x_fit, y_fit_quad, 'b--')\n",
    "\n",
    "plt.plot(targets_stdp, predictions_stdp, 'o', label='stdp')\n",
    "plt.plot(targets_quad, predictions_quad, 'o', label='quadruplet')\n",
    "plt.plot(targets_triplet, predictions_triplet, 'o', label='triplet')\n",
    "plt.plot(targets_trip2, predictions_trip2, 'o', label='triplet2')\n",
    "\n",
    "\n",
    "plt.xlabel('targets')\n",
    "plt.ylabel('predictions')\n",
    "plt.title(''.join(('R2=%.4f'%(R2), ', Corr=%.4f'%(corr))))\n",
    "plt.legend()"
   ]
  },
  {
   "cell_type": "code",
   "execution_count": null,
   "metadata": {
    "collapsed": false,
    "deletable": true,
    "editable": true
   },
   "outputs": [],
   "source": [
    "test= spk_pairs[len(data1_gen)*20:, :,:]"
   ]
  },
  {
   "cell_type": "code",
   "execution_count": null,
   "metadata": {
    "collapsed": false,
    "deletable": true,
    "editable": true
   },
   "outputs": [],
   "source": [
    "test.shape[0]"
   ]
  },
  {
   "cell_type": "code",
   "execution_count": null,
   "metadata": {
    "collapsed": false,
    "deletable": true,
    "editable": true
   },
   "outputs": [],
   "source": [
    "dt2=[]\n",
    "for i in range(test.shape[0]):\n",
    "    test_pre = np.where(test[i][:,0]==1)[0]\n",
    "    test_post = np.where(test[i][:, 1]==1)[0]\n",
    "    if test_pre[0] < test_post[0]:   # Pre-post-post-pre\n",
    "        idx = np.arange(0,len(test_post),2)\n",
    "        test_post_1 = test_post[idx]\n",
    "        test_post_2 = test_post[idx+1]\n",
    "        dt2.append(np.mean(test_post_1-test_post_2))\n",
    "    else:   # Post-pre-pre-post\n",
    "        idx = np.arange(0,len(test_pre),2)\n",
    "        test_pre_1 = test_pre[idx]\n",
    "        test_pre_2 = test_pre[idx+1]\n",
    "        dt2.append(np.mean(test_pre_2-test_pre_1))"
   ]
  },
  {
   "cell_type": "code",
   "execution_count": null,
   "metadata": {
    "collapsed": false,
    "deletable": true,
    "editable": true
   },
   "outputs": [],
   "source": [
    "plt.plot(dt2, targets_quad, 'o')\n",
    "plt.plot(dt2, predictions_quad, 'o')"
   ]
  },
  {
   "cell_type": "markdown",
   "metadata": {
    "deletable": true,
    "editable": true
   },
   "source": [
    "Generate test restuls"
   ]
  },
  {
   "cell_type": "code",
   "execution_count": null,
   "metadata": {
    "collapsed": true,
    "deletable": true,
    "editable": true
   },
   "outputs": [],
   "source": [
    "ptl_list = [1,2,4,3]\n",
    "spk_len = int(data1_gen['train_len'].max() * 1000 / ker_test.reso_kernel)\n",
    "spk_pairs, predictions = arb_w_gen(spk_pairs=X_test, df=data1_gen, ptl_list=ptl_list, spk_len=spk_len, kernel=ker_test, aug_times=[20])"
   ]
  },
  {
   "cell_type": "code",
   "execution_count": null,
   "metadata": {
    "collapsed": true,
    "deletable": true,
    "editable": true
   },
   "outputs": [],
   "source": [
    "targets = y_test"
   ]
  },
  {
   "cell_type": "code",
   "execution_count": null,
   "metadata": {
    "collapsed": false,
    "deletable": true,
    "editable": true
   },
   "outputs": [],
   "source": [
    "# Calculate R square\n",
    "R2 = 1 - np.sum(np.square(predictions - targets))/np.sum(np.square(targets - np.mean(targets)))\n",
    "# Calculate correlation coefficient\n",
    "corr = np.sum(np.dot((predictions - np.mean(predictions)).T, targets - np.mean(targets)))/np.std(predictions)/np.std(targets)/len(targets)\n",
    "b1 = np.sum(np.dot((predictions - np.mean(predictions)).T, targets - np.mean(targets)))/np.sum(np.square(targets - np.mean(targets)))\n",
    "b2 = np.mean(predictions) - np.mean(targets)*b1\n",
    "x_fit = np.linspace(np.min(targets)-1, np.max(targets)+1, 100)\n",
    "y_fit = x_fit * b1 + b2\n",
    "plt.plot(x_fit, y_fit, 'k--')\n",
    "plt.plot(targets, predictions, 'ro')\n",
    "plt.xlabel('targets')\n",
    "plt.ylabel('predictions')\n",
    "plt.title(''.join(('R2=%.4f'%(R2), ', Corr=%.4f'%(corr))))"
   ]
  },
  {
   "cell_type": "code",
   "execution_count": null,
   "metadata": {
    "collapsed": true,
    "deletable": true,
    "editable": true
   },
   "outputs": [],
   "source": []
  }
 ],
 "metadata": {
  "kernelspec": {
   "display_name": "Python 3",
   "language": "python",
   "name": "python3"
  },
  "language_info": {
   "codemirror_mode": {
    "name": "ipython",
    "version": 3
   },
   "file_extension": ".py",
   "mimetype": "text/x-python",
   "name": "python",
   "nbconvert_exporter": "python",
   "pygments_lexer": "ipython3",
   "version": "3.5.2"
  }
 },
 "nbformat": 4,
 "nbformat_minor": 2
}

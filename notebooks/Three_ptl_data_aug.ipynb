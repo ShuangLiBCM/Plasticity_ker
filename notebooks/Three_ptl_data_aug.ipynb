{
 "cells": [
  {
   "cell_type": "markdown",
   "metadata": {
    "deletable": true,
    "editable": true
   },
   "source": [
    "Augment the literature data"
   ]
  },
  {
   "cell_type": "code",
   "execution_count": 28,
   "metadata": {
    "collapsed": false,
    "deletable": true,
    "editable": true
   },
   "outputs": [
    {
     "name": "stdout",
     "output_type": "stream",
     "text": [
      "The autoreload extension is already loaded. To reload it, use:\n",
      "  %reload_ext autoreload\n"
     ]
    }
   ],
   "source": [
    "# Load libraries and modules\n",
    "import numpy as np\n",
    "import pandas as pd\n",
    "import matplotlib.pyplot as plt\n",
    "import seaborn as sns\n",
    "import tensorflow as tf\n",
    "from modelval import pairptl, network, trainer, dataset, dw_gen, perform_eval\n",
    "from modelval.ArbDataGen import arb_w_gen\n",
    "from modelval.spk_visu import spk_see, raster\n",
    "\n",
    "import warnings\n",
    "warnings.filterwarnings('ignore')\n",
    "\n",
    "% matplotlib inline\n",
    "% load_ext autoreload\n",
    "% autoreload 2"
   ]
  },
  {
   "cell_type": "code",
   "execution_count": 2,
   "metadata": {
    "collapsed": false,
    "deletable": true,
    "editable": true
   },
   "outputs": [
    {
     "data": {
      "text/html": [
       "<div>\n",
       "<table border=\"1\" class=\"dataframe\">\n",
       "  <thead>\n",
       "    <tr style=\"text-align: right;\">\n",
       "      <th></th>\n",
       "      <th>ptl_idx</th>\n",
       "      <th>pre_spk_num</th>\n",
       "      <th>pre_spk_freq</th>\n",
       "      <th>post_spk_num</th>\n",
       "      <th>post_spk_freq</th>\n",
       "      <th>ptl_occ</th>\n",
       "      <th>ptl_freq</th>\n",
       "      <th>dt1</th>\n",
       "      <th>dt2</th>\n",
       "      <th>dt3</th>\n",
       "      <th>dw_mean</th>\n",
       "      <th>dw_ste</th>\n",
       "      <th>train_len</th>\n",
       "    </tr>\n",
       "  </thead>\n",
       "  <tbody>\n",
       "    <tr>\n",
       "      <th>0</th>\n",
       "      <td>1</td>\n",
       "      <td>1</td>\n",
       "      <td>0</td>\n",
       "      <td>1</td>\n",
       "      <td>0</td>\n",
       "      <td>60</td>\n",
       "      <td>1.0</td>\n",
       "      <td>-102.898046</td>\n",
       "      <td>0.0</td>\n",
       "      <td>0</td>\n",
       "      <td>-1.322590</td>\n",
       "      <td>0.0</td>\n",
       "      <td>60</td>\n",
       "    </tr>\n",
       "    <tr>\n",
       "      <th>1</th>\n",
       "      <td>1</td>\n",
       "      <td>1</td>\n",
       "      <td>0</td>\n",
       "      <td>1</td>\n",
       "      <td>0</td>\n",
       "      <td>60</td>\n",
       "      <td>1.0</td>\n",
       "      <td>-75.579896</td>\n",
       "      <td>0.0</td>\n",
       "      <td>0</td>\n",
       "      <td>2.674768</td>\n",
       "      <td>0.0</td>\n",
       "      <td>60</td>\n",
       "    </tr>\n",
       "    <tr>\n",
       "      <th>2</th>\n",
       "      <td>1</td>\n",
       "      <td>1</td>\n",
       "      <td>0</td>\n",
       "      <td>1</td>\n",
       "      <td>0</td>\n",
       "      <td>60</td>\n",
       "      <td>1.0</td>\n",
       "      <td>-80.871473</td>\n",
       "      <td>0.0</td>\n",
       "      <td>0</td>\n",
       "      <td>-12.696449</td>\n",
       "      <td>0.0</td>\n",
       "      <td>60</td>\n",
       "    </tr>\n",
       "    <tr>\n",
       "      <th>3</th>\n",
       "      <td>1</td>\n",
       "      <td>1</td>\n",
       "      <td>0</td>\n",
       "      <td>1</td>\n",
       "      <td>0</td>\n",
       "      <td>60</td>\n",
       "      <td>1.0</td>\n",
       "      <td>-67.562239</td>\n",
       "      <td>0.0</td>\n",
       "      <td>0</td>\n",
       "      <td>0.231446</td>\n",
       "      <td>0.0</td>\n",
       "      <td>60</td>\n",
       "    </tr>\n",
       "    <tr>\n",
       "      <th>4</th>\n",
       "      <td>1</td>\n",
       "      <td>1</td>\n",
       "      <td>0</td>\n",
       "      <td>1</td>\n",
       "      <td>0</td>\n",
       "      <td>60</td>\n",
       "      <td>1.0</td>\n",
       "      <td>-63.553410</td>\n",
       "      <td>0.0</td>\n",
       "      <td>0</td>\n",
       "      <td>-0.990216</td>\n",
       "      <td>0.0</td>\n",
       "      <td>60</td>\n",
       "    </tr>\n",
       "  </tbody>\n",
       "</table>\n",
       "</div>"
      ],
      "text/plain": [
       "   ptl_idx  pre_spk_num  pre_spk_freq  post_spk_num  post_spk_freq  ptl_occ  \\\n",
       "0        1            1             0             1              0       60   \n",
       "1        1            1             0             1              0       60   \n",
       "2        1            1             0             1              0       60   \n",
       "3        1            1             0             1              0       60   \n",
       "4        1            1             0             1              0       60   \n",
       "\n",
       "   ptl_freq         dt1  dt2  dt3    dw_mean  dw_ste  train_len  \n",
       "0       1.0 -102.898046  0.0    0  -1.322590     0.0         60  \n",
       "1       1.0  -75.579896  0.0    0   2.674768     0.0         60  \n",
       "2       1.0  -80.871473  0.0    0 -12.696449     0.0         60  \n",
       "3       1.0  -67.562239  0.0    0   0.231446     0.0         60  \n",
       "4       1.0  -63.553410  0.0    0  -0.990216     0.0         60  "
      ]
     },
     "execution_count": 2,
     "metadata": {},
     "output_type": "execute_result"
    }
   ],
   "source": [
    "# Load data frame\n",
    "data = pd.read_csv('/src/Plasticity_Ker/data/kernel_training_data_auto.csv')\n",
    "data.head()"
   ]
  },
  {
   "cell_type": "code",
   "execution_count": 3,
   "metadata": {
    "collapsed": false,
    "deletable": true,
    "editable": true
   },
   "outputs": [],
   "source": [
    "# Generate data for STDP\n",
    "data1 = data[data['ptl_idx']==1]\n",
    "data1_gen, targets1 = dw_gen.STDP_dw_gen(n_neighbors=3)"
   ]
  },
  {
   "cell_type": "code",
   "execution_count": 4,
   "metadata": {
    "collapsed": false,
    "deletable": true,
    "editable": true
   },
   "outputs": [
    {
     "data": {
      "text/plain": [
       "<matplotlib.legend.Legend at 0x7f27ba50d390>"
      ]
     },
     "execution_count": 4,
     "metadata": {},
     "output_type": "execute_result"
    },
    {
     "data": {
      "image/png": "[encoded data removed]",
      "text/plain": [
       "<matplotlib.figure.Figure at 0x7f27ba50d240>"
      ]
     },
     "metadata": {},
     "output_type": "display_data"
    }
   ],
   "source": [
    "plt.plot(data1['dt1'], data1['dw_mean'],'o', label='Raw data')\n",
    "width_list = np.concatenate([np.linspace(10,3,50), np.linspace(3,10,50)])\n",
    "plt.plot(data1_gen['dt1'], targets1,'o', label='KNN')\n",
    "targets1_sm = dw_gen.smooth(targets1,width_list = width_list)\n",
    "plt.plot(data1_gen['dt1'],targets1_sm,'o', label='Smoothness filter')\n",
    "plt.xlabel('dt(ms)')\n",
    "plt.ylabel('$\\Delta w$')\n",
    "plt.legend(loc='upper left')"
   ]
  },
  {
   "cell_type": "code",
   "execution_count": 5,
   "metadata": {
    "collapsed": false,
    "deletable": true,
    "editable": true
   },
   "outputs": [],
   "source": [
    "# Generate data for Triplet\n",
    "dt = np.array([-10, -5, 0, 5, 10]).reshape(-1,1)\n",
    "data2_gen, targets2 = dw_gen.triplet_dw_gen(dt)"
   ]
  },
  {
   "cell_type": "code",
   "execution_count": 6,
   "metadata": {
    "collapsed": false,
    "deletable": true,
    "editable": true
   },
   "outputs": [
    {
     "data": {
      "text/html": [
       "<div>\n",
       "<table border=\"1\" class=\"dataframe\">\n",
       "  <thead>\n",
       "    <tr style=\"text-align: right;\">\n",
       "      <th></th>\n",
       "      <th>ptl_idx</th>\n",
       "      <th>pre_spk_num</th>\n",
       "      <th>pre_spk_freq</th>\n",
       "      <th>post_spk_num</th>\n",
       "      <th>post_spk_freq</th>\n",
       "      <th>ptl_occ</th>\n",
       "      <th>ptl_freq</th>\n",
       "      <th>dt1</th>\n",
       "      <th>dt2</th>\n",
       "      <th>dt3</th>\n",
       "      <th>dw_mean</th>\n",
       "      <th>dw_ste</th>\n",
       "      <th>train_len</th>\n",
       "    </tr>\n",
       "  </thead>\n",
       "  <tbody>\n",
       "    <tr>\n",
       "      <th>0</th>\n",
       "      <td>2.0</td>\n",
       "      <td>2.0</td>\n",
       "      <td>0.0</td>\n",
       "      <td>1.0</td>\n",
       "      <td>0.0</td>\n",
       "      <td>60.0</td>\n",
       "      <td>1.0</td>\n",
       "      <td>-10.0</td>\n",
       "      <td>10.0</td>\n",
       "      <td>0.0</td>\n",
       "      <td>2.634968</td>\n",
       "      <td>0.000000</td>\n",
       "      <td>60.0</td>\n",
       "    </tr>\n",
       "    <tr>\n",
       "      <th>1</th>\n",
       "      <td>2.0</td>\n",
       "      <td>2.0</td>\n",
       "      <td>0.0</td>\n",
       "      <td>1.0</td>\n",
       "      <td>0.0</td>\n",
       "      <td>60.0</td>\n",
       "      <td>1.0</td>\n",
       "      <td>-5.0</td>\n",
       "      <td>5.0</td>\n",
       "      <td>0.0</td>\n",
       "      <td>-0.162906</td>\n",
       "      <td>0.000000</td>\n",
       "      <td>60.0</td>\n",
       "    </tr>\n",
       "    <tr>\n",
       "      <th>2</th>\n",
       "      <td>2.0</td>\n",
       "      <td>2.0</td>\n",
       "      <td>0.0</td>\n",
       "      <td>1.0</td>\n",
       "      <td>0.0</td>\n",
       "      <td>60.0</td>\n",
       "      <td>1.0</td>\n",
       "      <td>0.0</td>\n",
       "      <td>0.0</td>\n",
       "      <td>0.0</td>\n",
       "      <td>50.000000</td>\n",
       "      <td>0.000000</td>\n",
       "      <td>60.0</td>\n",
       "    </tr>\n",
       "    <tr>\n",
       "      <th>3</th>\n",
       "      <td>2.0</td>\n",
       "      <td>1.0</td>\n",
       "      <td>0.0</td>\n",
       "      <td>2.0</td>\n",
       "      <td>0.0</td>\n",
       "      <td>60.0</td>\n",
       "      <td>1.0</td>\n",
       "      <td>5.0</td>\n",
       "      <td>-5.0</td>\n",
       "      <td>0.0</td>\n",
       "      <td>27.321098</td>\n",
       "      <td>0.000000</td>\n",
       "      <td>60.0</td>\n",
       "    </tr>\n",
       "    <tr>\n",
       "      <th>4</th>\n",
       "      <td>2.0</td>\n",
       "      <td>1.0</td>\n",
       "      <td>0.0</td>\n",
       "      <td>2.0</td>\n",
       "      <td>0.0</td>\n",
       "      <td>60.0</td>\n",
       "      <td>1.0</td>\n",
       "      <td>10.0</td>\n",
       "      <td>-10.0</td>\n",
       "      <td>0.0</td>\n",
       "      <td>25.392321</td>\n",
       "      <td>0.000000</td>\n",
       "      <td>60.0</td>\n",
       "    </tr>\n",
       "    <tr>\n",
       "      <th>139</th>\n",
       "      <td>4.0</td>\n",
       "      <td>2.0</td>\n",
       "      <td>0.0</td>\n",
       "      <td>1.0</td>\n",
       "      <td>0.0</td>\n",
       "      <td>60.0</td>\n",
       "      <td>1.0</td>\n",
       "      <td>-15.0</td>\n",
       "      <td>5.0</td>\n",
       "      <td>0.0</td>\n",
       "      <td>0.246154</td>\n",
       "      <td>3.354050</td>\n",
       "      <td>60.0</td>\n",
       "    </tr>\n",
       "    <tr>\n",
       "      <th>140</th>\n",
       "      <td>4.0</td>\n",
       "      <td>2.0</td>\n",
       "      <td>0.0</td>\n",
       "      <td>1.0</td>\n",
       "      <td>0.0</td>\n",
       "      <td>60.0</td>\n",
       "      <td>1.0</td>\n",
       "      <td>-5.0</td>\n",
       "      <td>15.0</td>\n",
       "      <td>0.0</td>\n",
       "      <td>23.154206</td>\n",
       "      <td>4.891500</td>\n",
       "      <td>60.0</td>\n",
       "    </tr>\n",
       "    <tr>\n",
       "      <th>141</th>\n",
       "      <td>4.0</td>\n",
       "      <td>1.0</td>\n",
       "      <td>0.0</td>\n",
       "      <td>2.0</td>\n",
       "      <td>0.0</td>\n",
       "      <td>60.0</td>\n",
       "      <td>1.0</td>\n",
       "      <td>5.0</td>\n",
       "      <td>-15.0</td>\n",
       "      <td>0.0</td>\n",
       "      <td>20.722837</td>\n",
       "      <td>7.546790</td>\n",
       "      <td>60.0</td>\n",
       "    </tr>\n",
       "    <tr>\n",
       "      <th>142</th>\n",
       "      <td>4.0</td>\n",
       "      <td>1.0</td>\n",
       "      <td>0.0</td>\n",
       "      <td>2.0</td>\n",
       "      <td>0.0</td>\n",
       "      <td>60.0</td>\n",
       "      <td>1.0</td>\n",
       "      <td>15.0</td>\n",
       "      <td>-5.0</td>\n",
       "      <td>0.0</td>\n",
       "      <td>28.118581</td>\n",
       "      <td>4.751571</td>\n",
       "      <td>60.0</td>\n",
       "    </tr>\n",
       "  </tbody>\n",
       "</table>\n",
       "</div>"
      ],
      "text/plain": [
       "     ptl_idx  pre_spk_num  pre_spk_freq  post_spk_num  post_spk_freq  ptl_occ  \\\n",
       "0        2.0          2.0           0.0           1.0            0.0     60.0   \n",
       "1        2.0          2.0           0.0           1.0            0.0     60.0   \n",
       "2        2.0          2.0           0.0           1.0            0.0     60.0   \n",
       "3        2.0          1.0           0.0           2.0            0.0     60.0   \n",
       "4        2.0          1.0           0.0           2.0            0.0     60.0   \n",
       "139      4.0          2.0           0.0           1.0            0.0     60.0   \n",
       "140      4.0          2.0           0.0           1.0            0.0     60.0   \n",
       "141      4.0          1.0           0.0           2.0            0.0     60.0   \n",
       "142      4.0          1.0           0.0           2.0            0.0     60.0   \n",
       "\n",
       "     ptl_freq   dt1   dt2  dt3    dw_mean    dw_ste  train_len  \n",
       "0         1.0 -10.0  10.0  0.0   2.634968  0.000000       60.0  \n",
       "1         1.0  -5.0   5.0  0.0  -0.162906  0.000000       60.0  \n",
       "2         1.0   0.0   0.0  0.0  50.000000  0.000000       60.0  \n",
       "3         1.0   5.0  -5.0  0.0  27.321098  0.000000       60.0  \n",
       "4         1.0  10.0 -10.0  0.0  25.392321  0.000000       60.0  \n",
       "139       1.0 -15.0   5.0  0.0   0.246154  3.354050       60.0  \n",
       "140       1.0  -5.0  15.0  0.0  23.154206  4.891500       60.0  \n",
       "141       1.0   5.0 -15.0  0.0  20.722837  7.546790       60.0  \n",
       "142       1.0  15.0  -5.0  0.0  28.118581  4.751571       60.0  "
      ]
     },
     "execution_count": 6,
     "metadata": {},
     "output_type": "execute_result"
    }
   ],
   "source": [
    "# Visualize the triplet data\n",
    "data2_gen"
   ]
  },
  {
   "cell_type": "code",
   "execution_count": 7,
   "metadata": {
    "collapsed": false,
    "deletable": true,
    "editable": true
   },
   "outputs": [],
   "source": [
    "# Generate data for Quadruplet\n",
    "data3 = data[data['ptl_idx']==3]\n",
    "data3_gen, targets3 = dw_gen.quad_dw_gen(n_neighbors=7)"
   ]
  },
  {
   "cell_type": "code",
   "execution_count": 8,
   "metadata": {
    "collapsed": false,
    "deletable": true,
    "editable": true
   },
   "outputs": [
    {
     "data": {
      "text/plain": [
       "<matplotlib.legend.Legend at 0x7f27b83a21d0>"
      ]
     },
     "execution_count": 8,
     "metadata": {},
     "output_type": "execute_result"
    },
    {
     "data": {
      "image/png": "[encoded data removed]",
      "text/plain": [
       "<matplotlib.figure.Figure at 0x7f27ba766eb8>"
      ]
     },
     "metadata": {},
     "output_type": "display_data"
    }
   ],
   "source": [
    "width_list = np.concatenate([np.linspace(10,3,45), np.linspace(3,10,45)])\n",
    "plt.plot(data3['dt2'], data3['dw_mean'],'o', label='Raw data')\n",
    "plt.plot(data3_gen['dt2'], targets3,'o', label='KNN')\n",
    "targets3_sm = np.concatenate([dw_gen.smooth(targets3[:45],width_list = width_list), dw_gen.smooth(targets3[45:],width_list = width_list)])\n",
    "plt.plot(data3_gen['dt2'],targets3_sm,'o', label='Smoothness filter')\n",
    "plt.xlabel('dt(ms)')\n",
    "plt.ylabel('$\\Delta w$')\n",
    "plt.legend(loc='upper left')"
   ]
  },
  {
   "cell_type": "code",
   "execution_count": 9,
   "metadata": {
    "collapsed": false,
    "deletable": true,
    "editable": true
   },
   "outputs": [
    {
     "data": {
      "text/html": [
       "<div>\n",
       "<table border=\"1\" class=\"dataframe\">\n",
       "  <thead>\n",
       "    <tr style=\"text-align: right;\">\n",
       "      <th></th>\n",
       "      <th></th>\n",
       "      <th>A2_+</th>\n",
       "      <th>A3_-</th>\n",
       "      <th>A2_-</th>\n",
       "      <th>A3_+</th>\n",
       "      <th>Tau_+</th>\n",
       "      <th>Tau_x</th>\n",
       "      <th>Tau_-</th>\n",
       "      <th>Tau_y</th>\n",
       "    </tr>\n",
       "  </thead>\n",
       "  <tbody>\n",
       "    <tr>\n",
       "      <th rowspan=\"2\" valign=\"top\">Visu_AlltoAll</th>\n",
       "      <th>Full</th>\n",
       "      <td>5e-10</td>\n",
       "      <td>0.00023</td>\n",
       "      <td>0.007</td>\n",
       "      <td>0.0062</td>\n",
       "      <td>16.8</td>\n",
       "      <td>101</td>\n",
       "      <td>33.7</td>\n",
       "      <td>125</td>\n",
       "    </tr>\n",
       "    <tr>\n",
       "      <th>Min</th>\n",
       "      <td>0</td>\n",
       "      <td>0</td>\n",
       "      <td>0.0071</td>\n",
       "      <td>0.0065</td>\n",
       "      <td>16.8</td>\n",
       "      <td>1</td>\n",
       "      <td>33.7</td>\n",
       "      <td>114</td>\n",
       "    </tr>\n",
       "    <tr>\n",
       "      <th rowspan=\"2\" valign=\"top\">Visu_NearestSpk</th>\n",
       "      <th>Full</th>\n",
       "      <td>8.8e-11</td>\n",
       "      <td>0.0031</td>\n",
       "      <td>0.0066</td>\n",
       "      <td>0.053</td>\n",
       "      <td>16.8</td>\n",
       "      <td>714</td>\n",
       "      <td>33.7</td>\n",
       "      <td>40</td>\n",
       "    </tr>\n",
       "    <tr>\n",
       "      <th>Min</th>\n",
       "      <td>0</td>\n",
       "      <td>0</td>\n",
       "      <td>0.008</td>\n",
       "      <td>0.05</td>\n",
       "      <td>16.8</td>\n",
       "      <td>1</td>\n",
       "      <td>33.7</td>\n",
       "      <td>40</td>\n",
       "    </tr>\n",
       "    <tr>\n",
       "      <th rowspan=\"2\" valign=\"top\">Hippo_AlltoAll</th>\n",
       "      <th>Full</th>\n",
       "      <td>0.0061</td>\n",
       "      <td>0.0014</td>\n",
       "      <td>0.0016</td>\n",
       "      <td>0.0067</td>\n",
       "      <td>16.8</td>\n",
       "      <td>946</td>\n",
       "      <td>33.7</td>\n",
       "      <td>27</td>\n",
       "    </tr>\n",
       "    <tr>\n",
       "      <th>Min</th>\n",
       "      <td>0.0053</td>\n",
       "      <td>0</td>\n",
       "      <td>0.0035</td>\n",
       "      <td>0.008</td>\n",
       "      <td>16.8</td>\n",
       "      <td>1</td>\n",
       "      <td>33.7</td>\n",
       "      <td>40</td>\n",
       "    </tr>\n",
       "    <tr>\n",
       "      <th rowspan=\"2\" valign=\"top\">Hippo_NearestSpk</th>\n",
       "      <th>Full</th>\n",
       "      <td>0.0046</td>\n",
       "      <td>7.5e-09</td>\n",
       "      <td>0.003</td>\n",
       "      <td>0.0091</td>\n",
       "      <td>16.8</td>\n",
       "      <td>575</td>\n",
       "      <td>33.7</td>\n",
       "      <td>47</td>\n",
       "    </tr>\n",
       "    <tr>\n",
       "      <th>Min</th>\n",
       "      <td>0.0046</td>\n",
       "      <td>0</td>\n",
       "      <td>0.003</td>\n",
       "      <td>0.0091</td>\n",
       "      <td>16.8</td>\n",
       "      <td>1</td>\n",
       "      <td>33.7</td>\n",
       "      <td>48</td>\n",
       "    </tr>\n",
       "  </tbody>\n",
       "</table>\n",
       "</div>"
      ],
      "text/plain": [
       "                          A2_+     A3_-    A2_-    A3_+ Tau_+ Tau_x Tau_-  \\\n",
       "Visu_AlltoAll    Full    5e-10  0.00023   0.007  0.0062  16.8   101  33.7   \n",
       "                 Min         0        0  0.0071  0.0065  16.8     1  33.7   \n",
       "Visu_NearestSpk  Full  8.8e-11   0.0031  0.0066   0.053  16.8   714  33.7   \n",
       "                 Min         0        0   0.008    0.05  16.8     1  33.7   \n",
       "Hippo_AlltoAll   Full   0.0061   0.0014  0.0016  0.0067  16.8   946  33.7   \n",
       "                 Min    0.0053        0  0.0035   0.008  16.8     1  33.7   \n",
       "Hippo_NearestSpk Full   0.0046  7.5e-09   0.003  0.0091  16.8   575  33.7   \n",
       "                 Min    0.0046        0   0.003  0.0091  16.8     1  33.7   \n",
       "\n",
       "                      Tau_y  \n",
       "Visu_AlltoAll    Full   125  \n",
       "                 Min    114  \n",
       "Visu_NearestSpk  Full    40  \n",
       "                 Min     40  \n",
       "Hippo_AlltoAll   Full    27  \n",
       "                 Min     40  \n",
       "Hippo_NearestSpk Full    47  \n",
       "                 Min     48  "
      ]
     },
     "execution_count": 9,
     "metadata": {},
     "output_type": "execute_result"
    }
   ],
   "source": [
    "trip_para = pd.read_pickle('/src/Plasticity_Ker/data/Gerstner_trip_para_df')\n",
    "trip_para\n",
    "# Reorder columns to match parameter of the model\n",
    "trip_para = trip_para[['A2_+', 'A3_-', 'A2_-', 'A3_+', 'Tau_+', 'Tau_x', 'Tau_-', 'Tau_y']]\n",
    "trip_para"
   ]
  },
  {
   "cell_type": "code",
   "execution_count": 10,
   "metadata": {
    "collapsed": false,
    "deletable": true,
    "editable": true
   },
   "outputs": [],
   "source": [
    "# Visualize kernel\n",
    "from modelval.kernel import KernelGen\n",
    "ker_test = KernelGen()\n",
    "\n",
    "para = trip_para.loc[('Hippo_AlltoAll', 'Full'), :]\n",
    "a = para[:4].values\n",
    "tau = para[4:].values\n",
    "reso_set = 2\n",
    "tau_pre_post = tau[0]/reso_set  # ms\n",
    "tau_post_pre = tau[2]/reso_set # ms\n",
    "\n",
    "ker_test = KernelGen(len_kernel=101)\n",
    "ker_test.trip_model_ker(para, data_name='Hippocampus')"
   ]
  },
  {
   "cell_type": "code",
   "execution_count": 11,
   "metadata": {
    "collapsed": false,
    "deletable": true,
    "editable": true
   },
   "outputs": [],
   "source": [
    "data_gen = pd.concat([data1_gen, data2_gen, data3_gen])\n",
    "targets = np.concatenate([targets1_sm, targets2, targets3_sm])"
   ]
  },
  {
   "cell_type": "code",
   "execution_count": 16,
   "metadata": {
    "collapsed": false,
    "deletable": true,
    "editable": true
   },
   "outputs": [
    {
     "data": {
      "text/plain": [
       "([<matplotlib.lines.Line2D at 0x7f280cd10ac8>],)"
      ]
     },
     "execution_count": 16,
     "metadata": {},
     "output_type": "execute_result"
    },
    {
     "data": {
      "image/png": "[encoded data removed]",
      "text/plain": [
       "<matplotlib.figure.Figure at 0x7f280d6a2dd8>"
      ]
     },
     "metadata": {},
     "output_type": "display_data"
    }
   ],
   "source": [
    "plt.plot(data_gen.iloc[:len(data1_gen)]['dt1'],targets[:targets1.shape[0]],'o'), "
   ]
  },
  {
   "cell_type": "code",
   "execution_count": 17,
   "metadata": {
    "collapsed": false,
    "deletable": true,
    "editable": true
   },
   "outputs": [
    {
     "data": {
      "text/plain": [
       "([<matplotlib.lines.Line2D at 0x7f280cc8d358>],)"
      ]
     },
     "execution_count": 17,
     "metadata": {},
     "output_type": "execute_result"
    },
    {
     "data": {
      "image/png": "[encoded data removed]",
      "text/plain": [
       "<matplotlib.figure.Figure at 0x7f280cd2d2e8>"
      ]
     },
     "metadata": {},
     "output_type": "display_data"
    }
   ],
   "source": [
    "plt.plot(data_gen.iloc[len(data1_gen):]['dt2'],targets[targets1.shape[0]:],'o'), "
   ]
  },
  {
   "cell_type": "code",
   "execution_count": 18,
   "metadata": {
    "collapsed": false
   },
   "outputs": [
    {
     "data": {
      "text/plain": [
       "1.0    100\n",
       "3.0     90\n",
       "2.0      5\n",
       "4.0      4\n",
       "Name: ptl_idx, dtype: int64"
      ]
     },
     "execution_count": 18,
     "metadata": {},
     "output_type": "execute_result"
    }
   ],
   "source": [
    "data_gen['ptl_idx'].value_counts()"
   ]
  },
  {
   "cell_type": "code",
   "execution_count": 20,
   "metadata": {
    "collapsed": false,
    "deletable": true,
    "editable": true
   },
   "outputs": [],
   "source": [
    "ptl_list = [1,2,4,3]\n",
    "spk_len = int(data3_gen['train_len'].max() * 1000 / ker_test.reso_kernel)\n",
    "if_noise = 0\n",
    "aug_times = [20,40,40,20]\n",
    "spk_pairs, targets = arb_w_gen(df=data_gen, ptl_list=ptl_list, targets=targets, if_noise=if_noise, spk_len=spk_len, kernel=ker_test, net_type='triplet', aug_times=aug_times)"
   ]
  },
  {
   "cell_type": "code",
   "execution_count": 22,
   "metadata": {
    "collapsed": false
   },
   "outputs": [
    {
     "data": {
      "text/plain": [
       "(4160, 30000, 2)"
      ]
     },
     "execution_count": 22,
     "metadata": {},
     "output_type": "execute_result"
    }
   ],
   "source": [
    "spk_pairs.shape"
   ]
  },
  {
   "cell_type": "code",
   "execution_count": 25,
   "metadata": {
    "collapsed": true
   },
   "outputs": [],
   "source": [
    "len_stdp = len(data1_gen)*20\n",
    "len_triplet = len(data1_gen)*20+len(data2_gen[data2_gen['ptl_idx']==2])*40\n",
    "len_trip2 = len(data1_gen)*20+len(data2_gen[data2_gen['ptl_idx']==2])*40+len(data2_gen[data2_gen['ptl_idx']==4])*40\n",
    "len_quad = len(targets) - len_trip2"
   ]
  },
  {
   "cell_type": "code",
   "execution_count": 34,
   "metadata": {
    "collapsed": false,
    "deletable": true,
    "editable": true
   },
   "outputs": [
    {
     "data": {
      "image/png": "[encoded data removed]",
      "text/plain": [
       "<matplotlib.figure.Figure at 0x7f27404f6da0>"
      ]
     },
     "metadata": {},
     "output_type": "display_data"
    }
   ],
   "source": [
    "# Visualize spike trains to check accuracy\n",
    "# STDP:\n",
    "spk_stdp = spk_pairs[:len_stdp,:,:]\n",
    "loci_pre, loci_post = spk_see(ptl_type=1, spk_pairs=spk_stdp)\n",
    "fig = plt.figure(figsize=(15, 8))\n",
    "trial_length = np.arange(0,5)\n",
    "ax = raster(loci_pre, trial_length)\n",
    "ax = raster(loci_post,trial_length, color='r')\n",
    "plt.title('Pre Post synaptic spike')\n",
    "plt.xlabel('Time (ms)')\n",
    "plt.ylabel('Trial #')\n",
    "plt.legend()\n",
    "fig.show()"
   ]
  },
  {
   "cell_type": "code",
   "execution_count": null,
   "metadata": {
    "collapsed": true
   },
   "outputs": [],
   "source": [
    "# triplet:\n",
    "spk_trip1 = spk_pairs[len_stdp:len_triplet,:,:]\n",
    "loci_pre, loci_post = spk_see(ptl_type=1, spk_pairs=spk_stdp)\n",
    "fig = plt.figure(figsize=(15, 8))\n",
    "trial_length = np.arange(0,5)\n",
    "ax = raster(loci_pre, trial_length)\n",
    "ax = raster(loci_post,trial_length, color='r')\n",
    "plt.title('Pre Post synaptic spike')\n",
    "plt.xlabel('Time (ms)')\n",
    "plt.ylabel('Trial #')\n",
    "plt.legend()\n",
    "fig.show()"
   ]
  },
  {
   "cell_type": "code",
   "execution_count": null,
   "metadata": {
    "collapsed": false,
    "deletable": true,
    "editable": true
   },
   "outputs": [],
   "source": [
    "targets.shape"
   ]
  },
  {
   "cell_type": "code",
   "execution_count": null,
   "metadata": {
    "collapsed": false,
    "deletable": true,
    "editable": true
   },
   "outputs": [],
   "source": [
    "# Create the network\n",
    "ground_truth_init = 0\n",
    "reg_scale=(1, 1)\n",
    "init_seed=(4,5,6,7)\n",
    "toy_data_net = network.TripNet(kernel=ker_test, ground_truth_init=ground_truth_init, init_seed=init_seed, reg_scale=reg_scale, n_input=spk_pairs.shape[1])"
   ]
  },
  {
   "cell_type": "code",
   "execution_count": null,
   "metadata": {
    "collapsed": true,
    "deletable": true,
    "editable": true
   },
   "outputs": [],
   "source": [
    "# Create the trainer\n",
    "save_dir= '/src/Plasticity_Ker/model/Trip_ptl1_4_real_aug_no_noise'\n",
    "toy_net_trainer = trainer.Trainer(toy_data_net.loss, toy_data_net.loss, input_name=toy_data_net.inputs, target_name=toy_data_net.target, save_dir=save_dir, optimizer_config={'learning_rate': toy_data_net.lr})"
   ]
  },
  {
   "cell_type": "code",
   "execution_count": null,
   "metadata": {
    "collapsed": false,
    "deletable": true,
    "editable": true
   },
   "outputs": [],
   "source": [
    "# Obtain the training and validation data\n",
    "from sklearn.model_selection import train_test_split\n",
    "\n",
    "X_train_val, X_test, y_train_val, y_test = train_test_split(spk_pairs, targets, test_size=0.1)\n",
    "X_train, X_vali, y_train, y_vali = train_test_split(X_train_val,  y_train_val, test_size=0.1)\n",
    "train_data = dataset.Dataset(X_train, y_train)\n",
    "vali_data = dataset.Dataset(X_vali, y_vali)"
   ]
  },
  {
   "cell_type": "code",
   "execution_count": null,
   "metadata": {
    "collapsed": false,
    "deletable": true,
    "editable": true
   },
   "outputs": [],
   "source": [
    "w_pre = toy_net_trainer.evaluate(ops=toy_data_net.kernel_pre)\n",
    "w_post = toy_net_trainer.evaluate(ops=toy_data_net.kernel_post)\n",
    "w_post_post = toy_net_trainer.evaluate(ops=toy_data_net.kernel_post_post)\n",
    "fc_w = toy_net_trainer.evaluate(ops=toy_data_net.fc_w)\n",
    "bias = toy_net_trainer.evaluate(ops=toy_data_net.bias)\n",
    "plt.plot(w_pre,  label='ker_pre_trained')\n",
    "plt.plot(w_post,  label='ker_post_trained')\n",
    "plt.plot(w_post_post,  label='ker_post_trained')\n",
    "plt.legend()\n",
    "print(fc_w, bias)"
   ]
  },
  {
   "cell_type": "code",
   "execution_count": null,
   "metadata": {
    "collapsed": false,
    "deletable": true,
    "editable": true
   },
   "outputs": [],
   "source": [
    "# # Learn the kernel from random initialization\n",
    "# learning_rate = 0.001\n",
    "# iterations = 5\n",
    "# min_error = -1\n",
    "# for i in range(iterations):\n",
    "#     toy_net_trainer.train(train_data, vali_data, batch_size=128, min_error=min_error, feed_dict={toy_data_net.lr: learning_rate})\n",
    "#     learning_rate = learning_rate/3"
   ]
  },
  {
   "cell_type": "code",
   "execution_count": null,
   "metadata": {
    "collapsed": false,
    "deletable": true,
    "editable": true
   },
   "outputs": [],
   "source": [
    "toy_net_trainer.restore_best()\n",
    "w_pre = toy_net_trainer.evaluate(ops=toy_data_net.kernel_pre)\n",
    "w_post = toy_net_trainer.evaluate(ops=toy_data_net.kernel_post)\n",
    "w_post_post = toy_net_trainer.evaluate(ops=toy_data_net.kernel_post_post)\n",
    "fc_w = toy_net_trainer.evaluate(ops=toy_data_net.fc_w)\n",
    "bias = toy_net_trainer.evaluate(ops=toy_data_net.bias)\n",
    "plt.plot(-1*w_pre, label='ker_pre_trained')\n",
    "plt.plot(-1*w_post, label='ker_post_trained')\n",
    "plt.plot(-1 * w_post_post, label='ker_post_post_trained')\n",
    "plt.legend()\n",
    "print([fc_w, bias])"
   ]
  },
  {
   "cell_type": "code",
   "execution_count": null,
   "metadata": {
    "collapsed": false,
    "deletable": true,
    "editable": true
   },
   "outputs": [],
   "source": [
    "# # Test effect of smoothed kernel\n",
    "# w_pre_sm = w_pre\n",
    "# w_post_sm = w_post \n",
    "# w_post_post_sm = w_post_post\n",
    "# w_pre_sm[:50] = dw_gen.smooth(w_pre[:50], width=2)\n",
    "# w_post_sm[:48] = dw_gen.smooth(w_post[:48], width=2)\n",
    "# w_post_post_sm[:49] = dw_gen.smooth(w_post_post[:49], width=3)\n",
    "\n",
    "# plt.plot(-1 * w_pre_sm)\n",
    "# plt.plot(-1 * w_post_sm)\n",
    "# plt.plot(-1*w_post_post_sm)\n",
    "\n",
    "# ker_test.kernel_pre = w_pre_sm\n",
    "# ker_test.kernel_post = w_post_sm\n",
    "# ker_test.kernel_post_post= w_post_post_sm\n",
    "# ker_test.kernel_scale = fc_w\n",
    "# ker_test.bias = bias"
   ]
  },
  {
   "cell_type": "markdown",
   "metadata": {
    "collapsed": true,
    "deletable": true,
    "editable": true
   },
   "source": [
    "Compare the target and prediction"
   ]
  },
  {
   "cell_type": "code",
   "execution_count": null,
   "metadata": {
    "collapsed": false,
    "deletable": true,
    "editable": true
   },
   "outputs": [],
   "source": [
    "ker_test.kernel_pre = w_pre\n",
    "ker_test.kernel_post = w_post\n",
    "ker_test.kernel_post_post= w_post_post\n",
    "ker_test.kernel_scale = fc_w\n",
    "ker_test.bias = bias"
   ]
  },
  {
   "cell_type": "code",
   "execution_count": null,
   "metadata": {
    "collapsed": false,
    "deletable": true,
    "editable": true
   },
   "outputs": [],
   "source": [
    "spk_len = int(data1_gen['train_len'].max() * 1000 / ker_test.reso_kernel)\n",
    "spk_pairs, predictions = arb_w_gen(spk_pairs=spk_pairs, spk_len=spk_len, kernel=ker_test, net_type='triplet')"
   ]
  },
  {
   "cell_type": "code",
   "execution_count": null,
   "metadata": {
    "collapsed": false,
    "deletable": true,
    "editable": true
   },
   "outputs": [],
   "source": [
    "# np.save('/src/Plasticity_Ker/data/predictions.npy', predictions)\n",
    "# predictions = np.load('/src/Plasticity_Ker/data/predictions.npy')"
   ]
  },
  {
   "cell_type": "code",
   "execution_count": null,
   "metadata": {
    "collapsed": false,
    "deletable": true,
    "editable": true
   },
   "outputs": [],
   "source": [
    "x_fit = np.linspace(np.min(targets)-1, np.max(targets)+1, 100)\n",
    "targets_stdp = targets[:len_stdp]\n",
    "predictions_stdp = predictions[:len_stdp]\n",
    "targets_triplet = targets[len_stdp:len_triplet]\n",
    "predictions_triplet = predictions[len_stdp:len_triplet]\n",
    "targets_trip2 = targets[len_triplet:len_trip2]\n",
    "predictions_trip2 = predictions[len_triplet:len_trip2]\n",
    "targets_quad = targets[len_trip2:]\n",
    "predictions_quad = predictions[len_trip2:]\n",
    "R2, corr, y_fit = perform_eval.R2_corr(predictions,targets, x_fit)\n",
    "R2_stdp, corr_stdp, y_fit_stdp = perform_eval.R2_corr(predictions_stdp,targets_stdp, x_fit)\n",
    "R2_triplet, corr_triplet, y_fit_triplet = perform_eval.R2_corr(predictions_triplet,targets_triplet, x_fit)\n",
    "R2_quad, corr_quad, y_fit_quad = perform_eval.R2_corr(predictions_quad ,targets_quad, x_fit)\n",
    "R2_quad, corr_trip2, y_fit_trip2 = perform_eval.R2_corr(predictions_trip2 ,targets_trip2, x_fit)"
   ]
  },
  {
   "cell_type": "code",
   "execution_count": null,
   "metadata": {
    "collapsed": false,
    "deletable": true,
    "editable": true
   },
   "outputs": [],
   "source": [
    "predictions.shape"
   ]
  },
  {
   "cell_type": "code",
   "execution_count": null,
   "metadata": {
    "collapsed": false,
    "deletable": true,
    "editable": true
   },
   "outputs": [],
   "source": [
    "plt.plot(x_fit, y_fit_stdp, 'k--')\n",
    "#plt.plot(x_fit, y_fit_triplet, 'r--')\n",
    "plt.plot(x_fit, y_fit_quad, 'b--')\n",
    "\n",
    "plt.plot(targets_stdp, predictions_stdp, 'o', label='stdp(n={a})'.format(a=len_stdp))\n",
    "plt.plot(targets_quad, predictions_quad, 'o', label='quadruplet(n={a})'.format(a=len(targets)-len_trip2))\n",
    "plt.plot(targets_triplet, predictions_triplet, 'o', label='triplet(n={a})'.format(a=(len_triplet-len_stdp)))\n",
    "plt.plot(targets_trip2, predictions_trip2, 'o', label='triplet2(n={a})'.format(a=(len_trip2-len_triplet)))\n",
    "\n",
    "\n",
    "plt.xlabel('targets')\n",
    "plt.ylabel('predictions')\n",
    "plt.title(''.join(('R2=%.4f'%(R2), ', Corr=%.4f'%(corr))))\n",
    "plt.legend()"
   ]
  },
  {
   "cell_type": "code",
   "execution_count": null,
   "metadata": {
    "collapsed": false,
    "deletable": true,
    "editable": true
   },
   "outputs": [],
   "source": [
    "test= spk_pairs[len(data1_gen)*20:, :,:]"
   ]
  },
  {
   "cell_type": "markdown",
   "metadata": {
    "deletable": true,
    "editable": true
   },
   "source": [
    "Generate test restuls"
   ]
  },
  {
   "cell_type": "code",
   "execution_count": null,
   "metadata": {
    "collapsed": true,
    "deletable": true,
    "editable": true
   },
   "outputs": [],
   "source": [
    "ptl_list = [1,2,4,3]\n",
    "spk_len = int(data1_gen['train_len'].max() * 1000 / ker_test.reso_kernel)\n",
    "spk_pairs, predictions = arb_w_gen(spk_pairs=X_test, df=data1_gen, ptl_list=ptl_list, spk_len=spk_len, kernel=ker_test, aug_times=[20])"
   ]
  },
  {
   "cell_type": "code",
   "execution_count": null,
   "metadata": {
    "collapsed": true,
    "deletable": true,
    "editable": true
   },
   "outputs": [],
   "source": [
    "targets_test = y_test"
   ]
  },
  {
   "cell_type": "code",
   "execution_count": null,
   "metadata": {
    "collapsed": false,
    "deletable": true,
    "editable": true
   },
   "outputs": [],
   "source": [
    "# Calculate R square\n",
    "R2 = 1 - np.sum(np.square(predictions - targets_test))/np.sum(np.square(targets_test - np.mean(targets_test)))\n",
    "# Calculate correlation coefficient\n",
    "corr = np.sum(np.dot((predictions - np.mean(predictions)).T, targets_test- np.mean(targets_test)))/np.std(predictions)/np.std(targets_test)/len(targets_test)\n",
    "b1 = np.sum(np.dot((predictions - np.mean(predictions)).T, targets_test - np.mean(targets_test)))/np.sum(np.square(targets_test - np.mean(targets_test)))\n",
    "b2 = np.mean(predictions) - np.mean(targets_test)*b1\n",
    "x_fit = np.linspace(np.min(targets_test)-1, np.max(targets_test)+1, 100)\n",
    "y_fit = x_fit * b1 + b2\n",
    "plt.plot(x_fit, y_fit, 'k--')\n",
    "plt.plot(targets_test, predictions, 'ro')\n",
    "plt.xlabel('targets')\n",
    "plt.ylabel('predictions')\n",
    "plt.title(''.join(('R2=%.4f'%(R2), ', Corr=%.4f'%(corr))))"
   ]
  },
  {
   "cell_type": "code",
   "execution_count": null,
   "metadata": {
    "collapsed": true,
    "deletable": true,
    "editable": true
   },
   "outputs": [],
   "source": []
  },
  {
   "cell_type": "code",
   "execution_count": null,
   "metadata": {
    "collapsed": true,
    "deletable": true,
    "editable": true
   },
   "outputs": [],
   "source": []
  }
 ],
 "metadata": {
  "kernelspec": {
   "display_name": "Python 3",
   "language": "python",
   "name": "python3"
  },
  "language_info": {
   "codemirror_mode": {
    "name": "ipython",
    "version": 3
   },
   "file_extension": ".py",
   "mimetype": "text/x-python",
   "name": "python",
   "nbconvert_exporter": "python",
   "pygments_lexer": "ipython3",
   "version": "3.5.2"
  }
 },
 "nbformat": 4,
 "nbformat_minor": 2
}

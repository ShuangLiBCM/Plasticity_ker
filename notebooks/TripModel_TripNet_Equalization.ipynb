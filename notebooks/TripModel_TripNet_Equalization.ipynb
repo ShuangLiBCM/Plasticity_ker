{
 "cells": [
  {
   "cell_type": "markdown",
   "metadata": {
    "deletable": true,
    "editable": true
   },
   "source": [
    "Confirm that TripNet and TripModel generate sample results given the kernel"
   ]
  },
  {
   "cell_type": "code",
   "execution_count": 6,
   "metadata": {
    "collapsed": false,
    "deletable": true,
    "editable": true
   },
   "outputs": [],
   "source": [
    "import numpy as np\n",
    "from scipy.integrate import odeint\n",
    "import pandas as pd\n",
    "import matplotlib.pyplot as plt\n",
    "import tensorflow as tf\n",
    "import seaborn as sb\n",
    "from scipy import stats\n",
    "\n",
    "% matplotlib inline"
   ]
  },
  {
   "cell_type": "code",
   "execution_count": 7,
   "metadata": {
    "collapsed": false,
    "deletable": true,
    "editable": true
   },
   "outputs": [
    {
     "data": {
      "text/html": [
       "<div>\n",
       "<table border=\"1\" class=\"dataframe\">\n",
       "  <thead>\n",
       "    <tr style=\"text-align: right;\">\n",
       "      <th></th>\n",
       "      <th></th>\n",
       "      <th>A2_+</th>\n",
       "      <th>A3_-</th>\n",
       "      <th>A2_-</th>\n",
       "      <th>A3_+</th>\n",
       "      <th>Tau_+</th>\n",
       "      <th>Tau_x</th>\n",
       "      <th>Tau_-</th>\n",
       "      <th>Tau_y</th>\n",
       "    </tr>\n",
       "  </thead>\n",
       "  <tbody>\n",
       "    <tr>\n",
       "      <th rowspan=\"2\" valign=\"top\">Visu_AlltoAll</th>\n",
       "      <th>Full</th>\n",
       "      <td>5e-10</td>\n",
       "      <td>0.00023</td>\n",
       "      <td>0.007</td>\n",
       "      <td>0.0062</td>\n",
       "      <td>16.8</td>\n",
       "      <td>101</td>\n",
       "      <td>33.7</td>\n",
       "      <td>125</td>\n",
       "    </tr>\n",
       "    <tr>\n",
       "      <th>Min</th>\n",
       "      <td>0</td>\n",
       "      <td>0</td>\n",
       "      <td>0.0071</td>\n",
       "      <td>0.0065</td>\n",
       "      <td>16.8</td>\n",
       "      <td>1</td>\n",
       "      <td>33.7</td>\n",
       "      <td>114</td>\n",
       "    </tr>\n",
       "    <tr>\n",
       "      <th rowspan=\"2\" valign=\"top\">Visu_NearestSpk</th>\n",
       "      <th>Full</th>\n",
       "      <td>8.8e-11</td>\n",
       "      <td>0.0031</td>\n",
       "      <td>0.0066</td>\n",
       "      <td>0.053</td>\n",
       "      <td>16.8</td>\n",
       "      <td>714</td>\n",
       "      <td>33.7</td>\n",
       "      <td>40</td>\n",
       "    </tr>\n",
       "    <tr>\n",
       "      <th>Min</th>\n",
       "      <td>0</td>\n",
       "      <td>0</td>\n",
       "      <td>0.008</td>\n",
       "      <td>0.05</td>\n",
       "      <td>16.8</td>\n",
       "      <td>1</td>\n",
       "      <td>33.7</td>\n",
       "      <td>40</td>\n",
       "    </tr>\n",
       "    <tr>\n",
       "      <th rowspan=\"2\" valign=\"top\">Hippo_AlltoAll</th>\n",
       "      <th>Full</th>\n",
       "      <td>0.0061</td>\n",
       "      <td>0.0014</td>\n",
       "      <td>0.0016</td>\n",
       "      <td>0.0067</td>\n",
       "      <td>16.8</td>\n",
       "      <td>946</td>\n",
       "      <td>33.7</td>\n",
       "      <td>27</td>\n",
       "    </tr>\n",
       "    <tr>\n",
       "      <th>Min</th>\n",
       "      <td>0.0053</td>\n",
       "      <td>0</td>\n",
       "      <td>0.0035</td>\n",
       "      <td>0.008</td>\n",
       "      <td>16.8</td>\n",
       "      <td>1</td>\n",
       "      <td>33.7</td>\n",
       "      <td>40</td>\n",
       "    </tr>\n",
       "    <tr>\n",
       "      <th rowspan=\"2\" valign=\"top\">Hippo_NearestSpk</th>\n",
       "      <th>Full</th>\n",
       "      <td>0.0046</td>\n",
       "      <td>7.5e-09</td>\n",
       "      <td>0.003</td>\n",
       "      <td>0.0091</td>\n",
       "      <td>16.8</td>\n",
       "      <td>575</td>\n",
       "      <td>33.7</td>\n",
       "      <td>47</td>\n",
       "    </tr>\n",
       "    <tr>\n",
       "      <th>Min</th>\n",
       "      <td>0.0046</td>\n",
       "      <td>0</td>\n",
       "      <td>0.003</td>\n",
       "      <td>0.0091</td>\n",
       "      <td>16.8</td>\n",
       "      <td>1</td>\n",
       "      <td>33.7</td>\n",
       "      <td>48</td>\n",
       "    </tr>\n",
       "  </tbody>\n",
       "</table>\n",
       "</div>"
      ],
      "text/plain": [
       "                          A2_+     A3_-    A2_-    A3_+ Tau_+ Tau_x Tau_-  \\\n",
       "Visu_AlltoAll    Full    5e-10  0.00023   0.007  0.0062  16.8   101  33.7   \n",
       "                 Min         0        0  0.0071  0.0065  16.8     1  33.7   \n",
       "Visu_NearestSpk  Full  8.8e-11   0.0031  0.0066   0.053  16.8   714  33.7   \n",
       "                 Min         0        0   0.008    0.05  16.8     1  33.7   \n",
       "Hippo_AlltoAll   Full   0.0061   0.0014  0.0016  0.0067  16.8   946  33.7   \n",
       "                 Min    0.0053        0  0.0035   0.008  16.8     1  33.7   \n",
       "Hippo_NearestSpk Full   0.0046  7.5e-09   0.003  0.0091  16.8   575  33.7   \n",
       "                 Min    0.0046        0   0.003  0.0091  16.8     1  33.7   \n",
       "\n",
       "                      Tau_y  \n",
       "Visu_AlltoAll    Full   125  \n",
       "                 Min    114  \n",
       "Visu_NearestSpk  Full    40  \n",
       "                 Min     40  \n",
       "Hippo_AlltoAll   Full    27  \n",
       "                 Min     40  \n",
       "Hippo_NearestSpk Full    47  \n",
       "                 Min     48  "
      ]
     },
     "execution_count": 7,
     "metadata": {},
     "output_type": "execute_result"
    }
   ],
   "source": [
    "trip_para = pd.read_pickle('/data/Gerstner_trip_para_df')\n",
    "trip_para\n",
    "# Reorder columns to match parameter of the model\n",
    "trip_para = trip_para[['A2_+', 'A3_-', 'A2_-', 'A3_+', 'Tau_+', 'Tau_x', 'Tau_-', 'Tau_y']]\n",
    "trip_para"
   ]
  },
  {
   "cell_type": "code",
   "execution_count": 13,
   "metadata": {
    "collapsed": false,
    "deletable": true,
    "editable": true
   },
   "outputs": [
    {
     "name": "stdout",
     "output_type": "stream",
     "text": [
      "1.0 1.0 1.0\n"
     ]
    },
    {
     "name": "stderr",
     "output_type": "stream",
     "text": [
      "/usr/local/lib/python3.5/dist-packages/matplotlib/font_manager.py:1297: UserWarning: findfont: Font family ['sans-serif'] not found. Falling back to DejaVu Sans\n",
      "  (prop.get_family(), self.defaultFamily[fontext]))\n"
     ]
    },
    {
     "data": {
      "image/png": "[encoded data removed]",
      "text/plain": [
       "<matplotlib.figure.Figure at 0x7f5577901b38>"
      ]
     },
     "metadata": {},
     "output_type": "display_data"
    }
   ],
   "source": [
    "# Load Gerstner's kernel\n",
    "# Visualize kernel\n",
    "from modelval.kernel import KernelGen\n",
    "\n",
    "para = trip_para.loc[('Hippo_AlltoAll', 'Min'), :]\n",
    "ker_test = KernelGen()\n",
    "ker_test.trip_model_ker(para, data_name='Hippocampus')\n",
    "\n",
    "plt.plot(ker_test.kernel_pre * ker_test.kernel_scale[0], label='ker_pre')\n",
    "plt.plot(ker_test.kernel_post * ker_test.kernel_scale[1], label='ker_post')\n",
    "plt.plot(ker_test.kernel_post_post * ker_test.kernel_scale[2], label='ker_post_post')\n",
    "plt.legend()\n",
    "print(np.linalg.norm(ker_test.kernel_pre, ord=2), np.linalg.norm(ker_test.kernel_post, ord=2), np.linalg.norm(ker_test.kernel_post_post, ord=2))"
   ]
  },
  {
   "cell_type": "code",
   "execution_count": 15,
   "metadata": {
    "collapsed": false,
    "deletable": true,
    "editable": true
   },
   "outputs": [],
   "source": [
    "# Load STDP data\n",
    "vali_input_tt = np.load('/data/8ptl_vali_spk.npy')\n",
    "vali_target_tt = np.load('/data/8ptl_vali_target.npy')\n",
    "vali_ptl = np.load('/data/8ptl_vali_ptl.npy')"
   ]
  },
  {
   "cell_type": "code",
   "execution_count": 16,
   "metadata": {
    "collapsed": true
   },
   "outputs": [],
   "source": [
    "# Generate predcition with validation set from the augmented STDP data\n",
    "STDP_vali_input = vali_input_tt[:int(vali_ptl[0]),:,:]\n",
    "STDP_vali_target = vali_target_tt[:int(vali_ptl[0])]"
   ]
  },
  {
   "cell_type": "code",
   "execution_count": 17,
   "metadata": {
    "collapsed": false,
    "deletable": true,
    "editable": true
   },
   "outputs": [
    {
     "ename": "NameError",
     "evalue": "name 'TripModel' is not defined",
     "output_type": "error",
     "traceback": [
      "\u001b[0;31m---------------------------------------------------------------------------\u001b[0m",
      "\u001b[0;31mNameError\u001b[0m                                 Traceback (most recent call last)",
      "\u001b[0;32m<ipython-input-17-5e2d46f053ac>\u001b[0m in \u001b[0;36m<module>\u001b[0;34m()\u001b[0m\n\u001b[1;32m     15\u001b[0m \u001b[0mdt_final\u001b[0m \u001b[0;34m=\u001b[0m \u001b[0mnp\u001b[0m\u001b[0;34m.\u001b[0m\u001b[0mhstack\u001b[0m\u001b[0;34m(\u001b[0m\u001b[0mdt_track\u001b[0m\u001b[0;34m)\u001b[0m\u001b[0;34m\u001b[0m\u001b[0m\n\u001b[1;32m     16\u001b[0m \u001b[0;34m\u001b[0m\u001b[0m\n\u001b[0;32m---> 17\u001b[0;31m \u001b[0mw_AA_STDP\u001b[0m\u001b[0;34m,\u001b[0m \u001b[0mS_AA_STDP\u001b[0m\u001b[0;34m,\u001b[0m \u001b[0mdw_AA_STDP\u001b[0m \u001b[0;34m=\u001b[0m \u001b[0mTripModel\u001b[0m\u001b[0;34m.\u001b[0m\u001b[0mtrip_AlltoAll\u001b[0m\u001b[0;34m(\u001b[0m\u001b[0ma\u001b[0m\u001b[0;34m,\u001b[0m \u001b[0mtau\u001b[0m\u001b[0;34m/\u001b[0m\u001b[0mreso_set\u001b[0m\u001b[0;34m,\u001b[0m \u001b[0mloci_track_pre\u001b[0m\u001b[0;34m,\u001b[0m \u001b[0mloci_track_post\u001b[0m\u001b[0;34m,\u001b[0m \u001b[0mifSTDP\u001b[0m\u001b[0;34m=\u001b[0m\u001b[0;36m0\u001b[0m\u001b[0;34m,\u001b[0m \u001b[0mreso\u001b[0m \u001b[0;34m=\u001b[0m \u001b[0mreso_set\u001b[0m\u001b[0;34m,\u001b[0m \u001b[0mtt_len\u001b[0m \u001b[0;34m=\u001b[0m \u001b[0;36m500\u001b[0m\u001b[0;34m,\u001b[0m \u001b[0msimu_step\u001b[0m\u001b[0;34m=\u001b[0m\u001b[0;36m1\u001b[0m\u001b[0;34m)\u001b[0m\u001b[0;34m\u001b[0m\u001b[0m\n\u001b[0m\u001b[1;32m     18\u001b[0m \u001b[0mdiff2\u001b[0m \u001b[0;34m=\u001b[0m \u001b[0mdw_AA_STDP\u001b[0m  \u001b[0;34m-\u001b[0m \u001b[0mnp\u001b[0m\u001b[0;34m.\u001b[0m\u001b[0mhstack\u001b[0m\u001b[0;34m(\u001b[0m\u001b[0mSTDP_vali_target\u001b[0m\u001b[0;34m)\u001b[0m\u001b[0;34m\u001b[0m\u001b[0m\n\u001b[1;32m     19\u001b[0m \u001b[0mfrac_var_tripmodel\u001b[0m \u001b[0;34m=\u001b[0m \u001b[0;36m1\u001b[0m \u001b[0;34m-\u001b[0m \u001b[0mnp\u001b[0m\u001b[0;34m.\u001b[0m\u001b[0mmean\u001b[0m\u001b[0;34m(\u001b[0m\u001b[0mdiff2\u001b[0m \u001b[0;34m**\u001b[0m \u001b[0;36m2\u001b[0m\u001b[0;34m)\u001b[0m\u001b[0;34m/\u001b[0m\u001b[0mnp\u001b[0m\u001b[0;34m.\u001b[0m\u001b[0mvar\u001b[0m\u001b[0;34m(\u001b[0m\u001b[0mnp\u001b[0m\u001b[0;34m.\u001b[0m\u001b[0mhstack\u001b[0m\u001b[0;34m(\u001b[0m\u001b[0mSTDP_vali_target\u001b[0m\u001b[0;34m)\u001b[0m\u001b[0;34m)\u001b[0m\u001b[0;34m\u001b[0m\u001b[0m\n",
      "\u001b[0;31mNameError\u001b[0m: name 'TripModel' is not defined"
     ]
    }
   ],
   "source": [
    "# Generate prediction with Gerstner's model\n",
    "loci_track_pre = []\n",
    "loci_track_post = []\n",
    "dt_track = []\n",
    "\n",
    "for i in range(STDP_vali_input.shape[0]):\n",
    "    loci_pre_STDP = np.where(STDP_vali_input[i,:,0] > 0)[0]\n",
    "    loci_post_STDP = np.where(STDP_vali_input[i,:,1] > 0)[0]\n",
    "    dt = np.mean(loci_post_STDP - loci_pre_STDP)\n",
    "    dt_track.append(dt)\n",
    "    \n",
    "    loci_track_pre.append(loci_pre_STDP)\n",
    "    loci_track_post.append(loci_post_STDP)\n",
    "    \n",
    "dt_final = np.hstack(dt_track)\n",
    "\n",
    "w_AA_STDP, S_AA_STDP, dw_AA_STDP = TripModel.trip_AlltoAll(a, tau/reso_set, loci_track_pre, loci_track_post, ifSTDP=0, reso = reso_set, tt_len = 500, simu_step=1)\n",
    "diff2 = dw_AA_STDP  - np.hstack(STDP_vali_target)\n",
    "frac_var_tripmodel = 1 - np.mean(diff2 ** 2)/np.var(np.hstack(STDP_vali_target))\n",
    "slope, intercept, r_value_tripmodel, p_value, std_err = stats.linregress(np.hstack(STDP_vali_target),np.squeeze(dw_AA_STDP))"
   ]
  },
  {
   "cell_type": "code",
   "execution_count": null,
   "metadata": {
    "collapsed": true,
    "deletable": true,
    "editable": true
   },
   "outputs": [],
   "source": [
    "# Prediction with TripNet using TripModel parameter\n",
    "TripNet_pred = TripNet.target_gen(data_train_pre=STDP_vali_input[:,:,0], data_train_post=STDP_vali_input[:,:,1] , kernel_pre_post=ker_pre_post_hp, kernel_post_pre=ker_post_pre_hp, kernel_post_post=ker_post_post_hp, len_ker=len_ker)\n",
    "diff3 = np.hstack(TripNet_pred[0]) - np.hstack(STDP_vali_target)\n",
    "frac_var_tripnet = 1 - np.mean(diff3 ** 2)/np.var(np.hstack(STDP_vali_target))\n",
    "slope, intercept, r_value_tripnet, p_value, std_err = stats.linregress(np.hstack(STDP_vali_target),np.hstack(TripNet_pred[0]))\n",
    "y_fit = np.hstack(STDP_vali_target) * slope + intercept"
   ]
  },
  {
   "cell_type": "code",
   "execution_count": null,
   "metadata": {
    "collapsed": true,
    "deletable": true,
    "editable": true
   },
   "outputs": [],
   "source": [
    "plt.figure(figsize=(8,4))\n",
    "plt.subplot(1,2,1)\n",
    "plt.plot(np.hstack(TripNet_pred[0]), dw_AA_STDP,'.')\n",
    "plt.plot(np.linspace(-0.2,0.3,10), np.linspace(-0.2,0.3,10), 'r')\n",
    "plt.xlabel('TripNet_pred')\n",
    "plt.ylabel('TripModel_pred')\n",
    "plt.subplot(1,2,2)\n",
    "plt.plot(dt_final * reso_set, dw_AA_STDP, '.', label='TripModel')\n",
    "plt.plot(dt_final * reso_set, np.hstack(TripNet_pred[0]), 'r.', label='TripNet')\n",
    "plt.xlabel('$\\Delta {t}$(ms)')\n",
    "plt.ylabel('$\\Delta {w}$')\n",
    "plt.legend(loc='upper right')"
   ]
  }
 ],
 "metadata": {
  "kernelspec": {
   "display_name": "Python 3",
   "language": "python",
   "name": "python3"
  },
  "language_info": {
   "codemirror_mode": {
    "name": "ipython",
    "version": 3
   },
   "file_extension": ".py",
   "mimetype": "text/x-python",
   "name": "python",
   "nbconvert_exporter": "python",
   "pygments_lexer": "ipython3",
   "version": "3.5.2"
  }
 },
 "nbformat": 4,
 "nbformat_minor": 2
}

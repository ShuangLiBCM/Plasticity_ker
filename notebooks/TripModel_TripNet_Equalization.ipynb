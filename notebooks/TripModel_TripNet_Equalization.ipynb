{
 "cells": [
  {
   "cell_type": "markdown",
   "metadata": {
    "deletable": true,
    "editable": true
   },
   "source": [
    "Confirm that TripNet and TripModel generate sample results given the kernel. For both non-shifted tripnet and shifted tripnet"
   ]
  },
  {
   "cell_type": "code",
   "execution_count": 1,
   "metadata": {
    "collapsed": false,
    "deletable": true,
    "editable": true
   },
   "outputs": [],
   "source": [
    "import numpy as np\n",
    "from scipy.integrate import odeint\n",
    "import pandas as pd\n",
    "import matplotlib.pyplot as plt\n",
    "import tensorflow as tf\n",
    "import seaborn as sb\n",
    "from scipy import stats\n",
    "from modelval import TripModel, network\n",
    "from modelval.ArbDataGen import arb_w_gen\n",
    "from modelval import TripNet\n",
    "import time\n",
    "\n",
    "% matplotlib inline\n",
    "\n",
    "%load_ext autoreload\n",
    "%autoreload 2"
   ]
  },
  {
   "cell_type": "code",
   "execution_count": 2,
   "metadata": {
    "collapsed": false,
    "deletable": true,
    "editable": true
   },
   "outputs": [
    {
     "data": {
      "text/html": [
       "<div>\n",
       "<table border=\"1\" class=\"dataframe\">\n",
       "  <thead>\n",
       "    <tr style=\"text-align: right;\">\n",
       "      <th></th>\n",
       "      <th></th>\n",
       "      <th>A2_+</th>\n",
       "      <th>A3_-</th>\n",
       "      <th>A2_-</th>\n",
       "      <th>A3_+</th>\n",
       "      <th>Tau_+</th>\n",
       "      <th>Tau_x</th>\n",
       "      <th>Tau_-</th>\n",
       "      <th>Tau_y</th>\n",
       "    </tr>\n",
       "  </thead>\n",
       "  <tbody>\n",
       "    <tr>\n",
       "      <th rowspan=\"2\" valign=\"top\">Visu_AlltoAll</th>\n",
       "      <th>Full</th>\n",
       "      <td>5e-10</td>\n",
       "      <td>0.00023</td>\n",
       "      <td>0.007</td>\n",
       "      <td>0.0062</td>\n",
       "      <td>16.8</td>\n",
       "      <td>101</td>\n",
       "      <td>33.7</td>\n",
       "      <td>125</td>\n",
       "    </tr>\n",
       "    <tr>\n",
       "      <th>Min</th>\n",
       "      <td>0</td>\n",
       "      <td>0</td>\n",
       "      <td>0.0071</td>\n",
       "      <td>0.0065</td>\n",
       "      <td>16.8</td>\n",
       "      <td>1</td>\n",
       "      <td>33.7</td>\n",
       "      <td>114</td>\n",
       "    </tr>\n",
       "    <tr>\n",
       "      <th rowspan=\"2\" valign=\"top\">Visu_NearestSpk</th>\n",
       "      <th>Full</th>\n",
       "      <td>8.8e-11</td>\n",
       "      <td>0.0031</td>\n",
       "      <td>0.0066</td>\n",
       "      <td>0.053</td>\n",
       "      <td>16.8</td>\n",
       "      <td>714</td>\n",
       "      <td>33.7</td>\n",
       "      <td>40</td>\n",
       "    </tr>\n",
       "    <tr>\n",
       "      <th>Min</th>\n",
       "      <td>0</td>\n",
       "      <td>0</td>\n",
       "      <td>0.008</td>\n",
       "      <td>0.05</td>\n",
       "      <td>16.8</td>\n",
       "      <td>1</td>\n",
       "      <td>33.7</td>\n",
       "      <td>40</td>\n",
       "    </tr>\n",
       "    <tr>\n",
       "      <th rowspan=\"2\" valign=\"top\">Hippo_AlltoAll</th>\n",
       "      <th>Full</th>\n",
       "      <td>0.0061</td>\n",
       "      <td>0.0014</td>\n",
       "      <td>0.0016</td>\n",
       "      <td>0.0067</td>\n",
       "      <td>16.8</td>\n",
       "      <td>946</td>\n",
       "      <td>33.7</td>\n",
       "      <td>27</td>\n",
       "    </tr>\n",
       "    <tr>\n",
       "      <th>Min</th>\n",
       "      <td>0.0053</td>\n",
       "      <td>0</td>\n",
       "      <td>0.0035</td>\n",
       "      <td>0.008</td>\n",
       "      <td>16.8</td>\n",
       "      <td>1</td>\n",
       "      <td>33.7</td>\n",
       "      <td>40</td>\n",
       "    </tr>\n",
       "    <tr>\n",
       "      <th rowspan=\"2\" valign=\"top\">Hippo_NearestSpk</th>\n",
       "      <th>Full</th>\n",
       "      <td>0.0046</td>\n",
       "      <td>7.5e-09</td>\n",
       "      <td>0.003</td>\n",
       "      <td>0.0091</td>\n",
       "      <td>16.8</td>\n",
       "      <td>575</td>\n",
       "      <td>33.7</td>\n",
       "      <td>47</td>\n",
       "    </tr>\n",
       "    <tr>\n",
       "      <th>Min</th>\n",
       "      <td>0.0046</td>\n",
       "      <td>0</td>\n",
       "      <td>0.003</td>\n",
       "      <td>0.0091</td>\n",
       "      <td>16.8</td>\n",
       "      <td>1</td>\n",
       "      <td>33.7</td>\n",
       "      <td>48</td>\n",
       "    </tr>\n",
       "  </tbody>\n",
       "</table>\n",
       "</div>"
      ],
      "text/plain": [
       "                          A2_+     A3_-    A2_-    A3_+ Tau_+ Tau_x Tau_-  \\\n",
       "Visu_AlltoAll    Full    5e-10  0.00023   0.007  0.0062  16.8   101  33.7   \n",
       "                 Min         0        0  0.0071  0.0065  16.8     1  33.7   \n",
       "Visu_NearestSpk  Full  8.8e-11   0.0031  0.0066   0.053  16.8   714  33.7   \n",
       "                 Min         0        0   0.008    0.05  16.8     1  33.7   \n",
       "Hippo_AlltoAll   Full   0.0061   0.0014  0.0016  0.0067  16.8   946  33.7   \n",
       "                 Min    0.0053        0  0.0035   0.008  16.8     1  33.7   \n",
       "Hippo_NearestSpk Full   0.0046  7.5e-09   0.003  0.0091  16.8   575  33.7   \n",
       "                 Min    0.0046        0   0.003  0.0091  16.8     1  33.7   \n",
       "\n",
       "                      Tau_y  \n",
       "Visu_AlltoAll    Full   125  \n",
       "                 Min    114  \n",
       "Visu_NearestSpk  Full    40  \n",
       "                 Min     40  \n",
       "Hippo_AlltoAll   Full    27  \n",
       "                 Min     40  \n",
       "Hippo_NearestSpk Full    47  \n",
       "                 Min     48  "
      ]
     },
     "execution_count": 2,
     "metadata": {},
     "output_type": "execute_result"
    }
   ],
   "source": [
    "trip_para = pd.read_pickle('/data/Gerstner_trip_para_df')\n",
    "trip_para\n",
    "# Reorder columns to match parameter of the model\n",
    "trip_para = trip_para[['A2_+', 'A3_-', 'A2_-', 'A3_+', 'Tau_+', 'Tau_x', 'Tau_-', 'Tau_y']]\n",
    "trip_para"
   ]
  },
  {
   "cell_type": "code",
   "execution_count": 3,
   "metadata": {
    "collapsed": false,
    "deletable": true,
    "editable": true
   },
   "outputs": [
    {
     "name": "stdout",
     "output_type": "stream",
     "text": [
      "0.0114889355013 0.0104374101286 4.88147823915\n"
     ]
    },
    {
     "name": "stderr",
     "output_type": "stream",
     "text": [
      "/usr/local/lib/python3.5/dist-packages/matplotlib/font_manager.py:1297: UserWarning: findfont: Font family ['sans-serif'] not found. Falling back to DejaVu Sans\n",
      "  (prop.get_family(), self.defaultFamily[fontext]))\n"
     ]
    },
    {
     "data": {
      "image/png": "[encoded data removed]",
      "text/plain": [
       "<matplotlib.figure.Figure at 0x7fe22c5bdc50>"
      ]
     },
     "metadata": {},
     "output_type": "display_data"
    }
   ],
   "source": [
    "# Load Gerstner's kernel\n",
    "# Visualize kernel\n",
    "from modelval.kernel import KernelGen\n",
    "\n",
    "para = trip_para.loc[('Hippo_AlltoAll', 'Min'), :]\n",
    "a = np.array(para[:4].values)\n",
    "tau = np.array(para[4:].values)\n",
    "reso_set = 2\n",
    "ker_test = KernelGen()\n",
    "ker_test.trip_model_ker(para, data_name='Hippocampus')\n",
    "\n",
    "ker_pre_post_hp, ker_post_pre_hp, ker_post_post_hp, len_ker = TripNet.ker_gen(a, tau, reso_set)\n",
    "ker_test.kernel_pre = ker_pre_post_hp\n",
    "ker_test.kernel_post = ker_post_pre_hp\n",
    "ker_test.kernel_post_post = ker_post_post_hp\n",
    "ker_test.kernel_scale = np.array([1,1,1])\n",
    "ker_test.len_kernel = 401\n",
    "\n",
    "plt.plot(ker_test.kernel_pre[150:220]/np.max(ker_test.kernel_pre), label='ker_pre')\n",
    "plt.plot(ker_test.kernel_post[150:220]/np.max(ker_test.kernel_post), label='ker_post')\n",
    "plt.plot(ker_test.kernel_post_post[150:220]/np.max(ker_test.kernel_post_post), label='ker_post_post')\n",
    "\n",
    "plt.legend()\n",
    "print(np.linalg.norm(ker_test.kernel_pre, ord=2), np.linalg.norm(ker_test.kernel_post, ord=2), np.linalg.norm(ker_test.kernel_post_post, ord=2))"
   ]
  },
  {
   "cell_type": "code",
   "execution_count": 4,
   "metadata": {
    "collapsed": false,
    "deletable": true,
    "editable": true
   },
   "outputs": [
    {
     "data": {
      "text/plain": [
       "array([ 0.])"
      ]
     },
     "execution_count": 4,
     "metadata": {},
     "output_type": "execute_result"
    }
   ],
   "source": [
    "ker_test.kernel_post[201]"
   ]
  },
  {
   "cell_type": "code",
   "execution_count": 5,
   "metadata": {
    "collapsed": false,
    "deletable": true,
    "editable": true
   },
   "outputs": [],
   "source": [
    "# Load STDP data\n",
    "vali_input_tt = np.load('/data/8ptl_vali_spk.npy')\n",
    "vali_target_tt = np.load('/data/8ptl_vali_target.npy')\n",
    "vali_ptl = np.load('/data/8ptl_vali_ptl.npy')"
   ]
  },
  {
   "cell_type": "code",
   "execution_count": 6,
   "metadata": {
    "collapsed": false,
    "deletable": true,
    "editable": true
   },
   "outputs": [
    {
     "data": {
      "text/plain": [
       "132.0"
      ]
     },
     "execution_count": 6,
     "metadata": {},
     "output_type": "execute_result"
    }
   ],
   "source": [
    "np.sum(vali_ptl[:2])"
   ]
  },
  {
   "cell_type": "code",
   "execution_count": 7,
   "metadata": {
    "collapsed": true,
    "deletable": true,
    "editable": true
   },
   "outputs": [],
   "source": [
    "# Generate predcition with validation set from the augmented STDP data\n",
    "STDP_vali_input = vali_input_tt[:int(vali_ptl[0]),:,:]\n",
    "STDP_vali_target = vali_target_tt[:int(vali_ptl[0])]"
   ]
  },
  {
   "cell_type": "code",
   "execution_count": 8,
   "metadata": {
    "collapsed": false,
    "deletable": true,
    "editable": true
   },
   "outputs": [],
   "source": [
    "# Generate prediction with Gerstner's model\n",
    "loci_track_pre = []\n",
    "loci_track_post = []\n",
    "dt_track = []\n",
    "\n",
    "for i in range(STDP_vali_input.shape[0]):\n",
    "    loci_pre_STDP = np.where(STDP_vali_input[i,:,0] > 0)[0]\n",
    "    loci_post_STDP = np.where(STDP_vali_input[i,:,1] > 0)[0]\n",
    "    dt = np.mean(loci_post_STDP - loci_pre_STDP)\n",
    "    dt_track.append(dt)\n",
    "    \n",
    "    loci_track_pre.append(loci_pre_STDP)\n",
    "    loci_track_post.append(loci_post_STDP)\n",
    "    \n",
    "dt_final = np.hstack(dt_track)"
   ]
  },
  {
   "cell_type": "code",
   "execution_count": 9,
   "metadata": {
    "collapsed": false,
    "deletable": true,
    "editable": true
   },
   "outputs": [
    {
     "name": "stdout",
     "output_type": "stream",
     "text": [
      "9.05426573753357 sec\n"
     ]
    }
   ],
   "source": [
    "start = time.time()\n",
    "_, _, dw_AA_STDP = TripModel.trip_AlltoAll(a, tau/reso_set, loci_track_pre, loci_track_post, ifSTDP=0, reso = reso_set, tt_len = 500, simu_step=1)\n",
    "end = time.time()\n",
    "print('{a} sec'.format(a=end-start))"
   ]
  },
  {
   "cell_type": "code",
   "execution_count": 11,
   "metadata": {
    "collapsed": false,
    "deletable": true,
    "editable": true
   },
   "outputs": [],
   "source": [
    "# Prediction with TripNet using TripModel parameter\n",
    "data = pd.read_csv('/src/Plasticity_Ker/data/kernel_training_data_auto.csv')\n",
    "spk_len = int(data[data['ptl_idx']==1]['train_len'].max() * 1000 / ker_test.reso_kernel)\n",
    "\n",
    "# Build the TripNet\n",
    "ground_truth_init = 1\n",
    "toy_data_net2 = network.TripNet(kernel=ker_test, ground_truth_init=ground_truth_init, n_input=STDP_vali_input.shape[1])"
   ]
  },
  {
   "cell_type": "code",
   "execution_count": 14,
   "metadata": {
    "collapsed": false,
    "deletable": true,
    "editable": true
   },
   "outputs": [
    {
     "name": "stdout",
     "output_type": "stream",
     "text": [
      "0.6376667022705078 sec\n"
     ]
    }
   ],
   "source": [
    "# Predict\n",
    "start = time.time()\n",
    "_, TripNet_pred = arb_w_gen(spk_pairs=STDP_vali_input, spk_len=spk_len, kernel=ker_test, net_type='triplet')\n",
    "end = time.time()\n",
    "print('{a} sec'.format(a=end-start))"
   ]
  },
  {
   "cell_type": "code",
   "execution_count": 45,
   "metadata": {
    "collapsed": false,
    "deletable": true,
    "editable": true
   },
   "outputs": [
    {
     "name": "stderr",
     "output_type": "stream",
     "text": [
      "/usr/local/lib/python3.5/dist-packages/matplotlib/font_manager.py:1297: UserWarning: findfont: Font family ['sans-serif'] not found. Falling back to DejaVu Sans\n",
      "  (prop.get_family(), self.defaultFamily[fontext]))\n"
     ]
    },
    {
     "data": {
      "image/png": "[encoded data removed]",
      "text/plain": [
       "<matplotlib.figure.Figure at 0x7f54b6e806a0>"
      ]
     },
     "metadata": {},
     "output_type": "display_data"
    }
   ],
   "source": [
    "plt.figure(figsize=(8,4))\n",
    "plt.subplot(1,2,1)\n",
    "plt.plot(dw_AA_STDP, TripNet_pred, '.')\n",
    "plt.plot(np.linspace(-0.2,0.3,10), np.linspace(-0.2,0.3,10), 'r')\n",
    "plt.ylabel('TripNet_pred')\n",
    "plt.xlabel('TripModel_pred')\n",
    "plt.subplot(1,2,2)\n",
    "plt.plot(dt_final * reso_set, dw_AA_STDP, '.', label='TripModel')\n",
    "plt.plot(dt_final * reso_set, TripNet_pred, 'r.', label='TripNet')\n",
    "plt.xlabel('$\\Delta {t}$(ms)')\n",
    "plt.ylabel('$\\Delta {w}$')\n",
    "plt.legend(loc='upper right')\n",
    "plt.tight_layout()"
   ]
  },
  {
   "cell_type": "code",
   "execution_count": 15,
   "metadata": {
    "collapsed": true,
    "deletable": true,
    "editable": true
   },
   "outputs": [],
   "source": [
    "Trip1_vali_input = vali_input_tt[int(vali_ptl[0]):int(vali_ptl[0])+int(vali_ptl[1]),:,:]\n",
    "Trip1_vali_target = vali_target_tt[int(vali_ptl[0]):int(vali_ptl[0])+int(vali_ptl[1])]\n",
    "\n",
    "Trip1_pre_spk = Trip1_vali_input[:,:,0]\n",
    "Trip1_post_spk = Trip1_vali_input[:,:,1]"
   ]
  },
  {
   "cell_type": "code",
   "execution_count": 16,
   "metadata": {
    "collapsed": false,
    "deletable": true,
    "editable": true
   },
   "outputs": [
    {
     "name": "stdout",
     "output_type": "stream",
     "text": [
      "7.677860260009766 sec\n"
     ]
    }
   ],
   "source": [
    "# Generate prediction with Gerstner's model\n",
    "dt_mean2 = np.zeros(Trip1_vali_input.shape[0])\n",
    "dt_track2 = []\n",
    "loci_track_pre_trip1 = []\n",
    "loci_track_post_trip1 = []\n",
    "for i in range(Trip1_vali_input.shape[0]):\n",
    "    loci_pre_trip1 = np.where(Trip1_vali_input[i,:,0] > 0)[0]\n",
    "    loci_post_trip1 = np.where(Trip1_vali_input[i,:,1] > 0)[0]\n",
    "    if len(loci_pre_trip1) > len(loci_post_trip1):  # Pre-post-pre\n",
    "        dt2 = loci_pre_trip1[0::2] - loci_post_trip1\n",
    "    else:\n",
    "        dt2 = loci_pre_trip1 - loci_post_trip1[0::2]\n",
    "    dt_track2.append(dt2)\n",
    "    dt_mean2[i] = np.mean(dt2)\n",
    "    loci_track_pre_trip1.append(loci_pre_trip1)\n",
    "    loci_track_post_trip1.append(loci_post_trip1)\n",
    "    \n",
    "# dt_final_trip1 = np.hstack(dt_track_trip1)\n",
    "para = trip_para.loc[('Hippo_AlltoAll', 'Min'), :]\n",
    "a = para[:4].values\n",
    "tau = para[4:].values\n",
    "reso_set = 2\n",
    "start = time.time()\n",
    "w_AA_trip1, S_AA_trip1, dw_AA_trip1 = TripModel.trip_AlltoAll(a, tau/reso_set, loci_track_pre_trip1, loci_track_post_trip1, ifSTDP=0, reso = reso_set, tt_len = 500)\n",
    "end = time.time()\n",
    "print('{a} sec'.format(a=end-start))\n",
    "diff = dw_AA_trip1  - np.hstack(Trip1_vali_target)\n",
    "frac_var_tripmodel_trip1 = 1 - np.mean(diff** 2)/np.var(np.hstack(Trip1_vali_target))\n",
    "slope, intercept, r_value_tripmodel_trip1, p_value, std_err = stats.linregress(np.hstack(Trip1_vali_target),np.squeeze(dw_AA_trip1))"
   ]
  },
  {
   "cell_type": "code",
   "execution_count": 17,
   "metadata": {
    "collapsed": false,
    "deletable": true,
    "editable": true
   },
   "outputs": [
    {
     "name": "stdout",
     "output_type": "stream",
     "text": [
      "0.7830643653869629 sec\n"
     ]
    }
   ],
   "source": [
    "# Predict\n",
    "start = time.time()\n",
    "_, TripNet_pred_trip1 = arb_w_gen(spk_pairs=Trip1_vali_input, spk_len=spk_len, kernel=ker_test, net_type='triplet')\n",
    "end = time.time()\n",
    "print('{a} sec'.format(a=end-start))"
   ]
  },
  {
   "cell_type": "code",
   "execution_count": 39,
   "metadata": {
    "collapsed": false,
    "deletable": true,
    "editable": true
   },
   "outputs": [
    {
     "name": "stderr",
     "output_type": "stream",
     "text": [
      "/usr/local/lib/python3.5/dist-packages/matplotlib/font_manager.py:1297: UserWarning: findfont: Font family ['sans-serif'] not found. Falling back to DejaVu Sans\n",
      "  (prop.get_family(), self.defaultFamily[fontext]))\n"
     ]
    },
    {
     "data": {
      "image/png": "[encoded data removed]",
      "text/plain": [
       "<matplotlib.figure.Figure at 0x7f54b70e0c88>"
      ]
     },
     "metadata": {},
     "output_type": "display_data"
    }
   ],
   "source": [
    "# Performance validation, TripModel and TripNet performs the same\n",
    "plt.figure(figsize=(8,4))\n",
    "plt.subplot(1,2,1)\n",
    "plt.plot(dw_AA_trip1,TripNet_pred_trip1, '.')\n",
    "plt.xlabel('TripModel_pred')\n",
    "plt.ylabel('TripNet_pred')\n",
    "plt.plot(np.linspace(0.0,0.4,10),np.linspace(0.0,0.4,10), 'r' )\n",
    "plt.subplot(1,2,2)\n",
    "plt.plot(dt_mean2*reso_set, dw_AA_trip1,'.', label='TripModel')\n",
    "plt.plot(dt_mean2*reso_set, TripNet_pred_trip1,'r.', label='TripNet')\n",
    "plt.legend(loc='upper left')\n",
    "plt.xlabel('$\\Delta {t}$(ms)')\n",
    "plt.ylabel('$\\Delta {w}$')\n",
    "plt.tight_layout()"
   ]
  },
  {
   "cell_type": "code",
   "execution_count": 21,
   "metadata": {
    "collapsed": false,
    "deletable": true,
    "editable": true
   },
   "outputs": [],
   "source": [
    "# Generate predcition with validation set from the augmented STDP data\n",
    "Quad_vali_input = vali_input_tt[int(np.sum(vali_ptl[:2])):int(np.sum(vali_ptl[:3])),:,:]\n",
    "Quad_vali_target = vali_target_tt[int(np.sum(vali_ptl[:2])):int(np.sum(vali_ptl[:3]))]\n",
    "\n",
    "Quad_pre_spk = Quad_vali_input[:,:,0]\n",
    "Quad_post_spk = Quad_vali_input[:,:,1]"
   ]
  },
  {
   "cell_type": "code",
   "execution_count": 30,
   "metadata": {
    "collapsed": false,
    "deletable": true,
    "editable": true
   },
   "outputs": [],
   "source": [
    "# Generate prediction with Gerstner's model\n",
    "dt_mean3 = np.zeros(Quad_vali_input.shape[0])\n",
    "dt_track3 = []\n",
    "loci_track_pre_quad = []\n",
    "loci_track_post_quad = []\n",
    "for i in range(Quad_vali_input.shape[0]):\n",
    "    loci_pre_quad = np.where(Quad_vali_input[i,:,0] > 0)[0]\n",
    "    loci_post_quad = np.where(Quad_vali_input[i,:,1] > 0)[0]\n",
    "    if loci_pre_quad[0] < loci_post_quad[0]:   # Pre-post-post-pre\n",
    "        dt3 = -loci_post_quad[1::2] + loci_pre_quad[0::2]\n",
    "    else:\n",
    "        dt3 = -loci_pre_quad[0::2] + loci_post_quad[1::2]\n",
    "    dt_track3.append(dt3)\n",
    "    dt_mean3[i] = np.mean(dt3)*reso_set\n",
    "    loci_track_pre_quad.append(loci_pre_quad)\n",
    "    loci_track_post_quad.append(loci_post_quad)\n",
    "\n",
    "_, _, dw_AA_quad = TripModel.trip_AlltoAll(a, tau/reso_set, loci_track_pre_quad, loci_track_post_quad, ifSTDP=0, reso = reso_set, tt_len = 500)"
   ]
  },
  {
   "cell_type": "code",
   "execution_count": 47,
   "metadata": {
    "collapsed": true,
    "deletable": true,
    "editable": true
   },
   "outputs": [],
   "source": [
    "# Predict\n",
    "_, TripNet_pred_quad = arb_w_gen(spk_pairs=Quad_vali_input, spk_len=spk_len, kernel=ker_test, net_type='triplet')"
   ]
  },
  {
   "cell_type": "code",
   "execution_count": 48,
   "metadata": {
    "collapsed": false,
    "deletable": true,
    "editable": true
   },
   "outputs": [
    {
     "name": "stderr",
     "output_type": "stream",
     "text": [
      "/usr/local/lib/python3.5/dist-packages/matplotlib/font_manager.py:1297: UserWarning: findfont: Font family ['sans-serif'] not found. Falling back to DejaVu Sans\n",
      "  (prop.get_family(), self.defaultFamily[fontext]))\n"
     ]
    },
    {
     "data": {
      "image/png": "[encoded data removed]",
      "text/plain": [
       "<matplotlib.figure.Figure at 0x7f54b72acdd8>"
      ]
     },
     "metadata": {},
     "output_type": "display_data"
    }
   ],
   "source": [
    "plt.figure(figsize=(8,4))\n",
    "plt.subplot(1,2,1)\n",
    "plt.plot(dw_AA_quad, TripNet_pred_quad, '.')\n",
    "plt.plot(np.linspace(0.0,0.5,10), np.linspace(0.0,0.5,10), 'r')\n",
    "plt.ylabel('TripNet_pred')\n",
    "plt.xlabel('TripModel_pred')\n",
    "plt.subplot(1,2,2)\n",
    "plt.plot(dt_mean3, dw_AA_quad, '.', label='TripModel')\n",
    "plt.plot(dt_mean3, TripNet_pred_quad, 'r.', label='TripNet')\n",
    "plt.xlabel('$\\Delta {t}$(ms)')\n",
    "plt.ylabel('$\\Delta {w}$')\n",
    "plt.legend(loc='upper right')\n",
    "plt.tight_layout()"
   ]
  },
  {
   "cell_type": "code",
   "execution_count": 40,
   "metadata": {
    "collapsed": false,
    "deletable": true,
    "editable": true
   },
   "outputs": [
    {
     "name": "stdout",
     "output_type": "stream",
     "text": [
      "0.0114889355013 0.0104374101286 5.49854674024\n"
     ]
    },
    {
     "name": "stderr",
     "output_type": "stream",
     "text": [
      "/usr/local/lib/python3.5/dist-packages/matplotlib/font_manager.py:1297: UserWarning: findfont: Font family ['sans-serif'] not found. Falling back to DejaVu Sans\n",
      "  (prop.get_family(), self.defaultFamily[fontext]))\n"
     ]
    },
    {
     "data": {
      "image/png": "[encoded data removed]",
      "text/plain": [
       "<matplotlib.figure.Figure at 0x7f54b6807470>"
      ]
     },
     "metadata": {},
     "output_type": "display_data"
    }
   ],
   "source": [
    "# Load Gerstner's kernel\n",
    "# Visualize kernel\n",
    "from modelval.kernel import KernelGen\n",
    "\n",
    "para = trip_para.loc[('Hippo_AlltoAll', 'Min'), :]\n",
    "a = np.array(para[:4].values)\n",
    "tau = np.array(para[4:].values)\n",
    "reso_set = 2\n",
    "ker_test = KernelGen()\n",
    "ker_test.trip_model_ker(para, data_name='Hippocampus')\n",
    "\n",
    "ker_pre_post_hp, ker_post_pre_hp, ker_post_post_hp, len_ker = TripNet.ker_gen_shift(a, tau, reso_set)\n",
    "ker_test.kernel_pre = ker_pre_post_hp\n",
    "ker_test.kernel_post = ker_post_pre_hp\n",
    "ker_test.kernel_post_post = ker_post_post_hp\n",
    "ker_test.kernel_scale = np.array([1,1,1])\n",
    "ker_test.len_kernel = 401\n",
    "\n",
    "plt.plot(ker_test.kernel_pre[150:220]/np.max(ker_test.kernel_pre), label='ker_pre')\n",
    "plt.plot(ker_test.kernel_post[150:220]/np.max(ker_test.kernel_post), label='ker_post')\n",
    "plt.plot(ker_test.kernel_post_post[150:220]/np.max(ker_test.kernel_post_post), label='ker_post_post')\n",
    "\n",
    "plt.legend()\n",
    "print(np.linalg.norm(ker_test.kernel_pre, ord=2), np.linalg.norm(ker_test.kernel_post, ord=2), np.linalg.norm(ker_test.kernel_post_post, ord=2))"
   ]
  },
  {
   "cell_type": "code",
   "execution_count": 41,
   "metadata": {
    "collapsed": true,
    "deletable": true,
    "editable": true
   },
   "outputs": [],
   "source": [
    "TripNet_pred_quad= TripNet.target_gen(data_train_pre=Quad_pre_spk, data_train_post=Quad_post_spk, kernel_pre_post=ker_pre_post_hp, kernel_post_pre=ker_post_pre_hp, kernel_post_post=ker_post_post_hp, len_ker=401)"
   ]
  },
  {
   "cell_type": "code",
   "execution_count": 43,
   "metadata": {
    "collapsed": false,
    "deletable": true,
    "editable": true
   },
   "outputs": [
    {
     "data": {
      "text/plain": [
       "<matplotlib.legend.Legend at 0x7f54b71a5400>"
      ]
     },
     "execution_count": 43,
     "metadata": {},
     "output_type": "execute_result"
    },
    {
     "name": "stderr",
     "output_type": "stream",
     "text": [
      "/usr/local/lib/python3.5/dist-packages/matplotlib/font_manager.py:1297: UserWarning: findfont: Font family ['sans-serif'] not found. Falling back to DejaVu Sans\n",
      "  (prop.get_family(), self.defaultFamily[fontext]))\n"
     ]
    },
    {
     "data": {
      "image/png": "[encoded data removed]",
      "text/plain": [
       "<matplotlib.figure.Figure at 0x7f54b67ec898>"
      ]
     },
     "metadata": {},
     "output_type": "display_data"
    }
   ],
   "source": [
    "plt.figure(figsize=(8,4))\n",
    "plt.subplot(1,2,1)\n",
    "plt.plot(dw_AA_quad, TripNet_pred_quad[0], '.')\n",
    "plt.plot(np.linspace(0.0,0.5,10), np.linspace(0.0,0.5,10), 'r')\n",
    "plt.xlabel('TripNet_pred')\n",
    "plt.ylabel('TripModel_pred')\n",
    "plt.subplot(1,2,2)\n",
    "plt.plot(dt_mean3, dw_AA_quad, '.', label='TripModel')\n",
    "plt.plot(dt_mean3, TripNet_pred_quad[0], 'r.', label='TripNet')\n",
    "plt.xlabel('$\\Delta {t}$(ms)')\n",
    "plt.ylabel('$\\Delta {w}$')\n",
    "plt.legend(loc='upper right')"
   ]
  }
 ],
 "metadata": {
  "kernelspec": {
   "display_name": "Python 3",
   "language": "python",
   "name": "python3"
  },
  "language_info": {
   "codemirror_mode": {
    "name": "ipython",
    "version": 3
   },
   "file_extension": ".py",
   "mimetype": "text/x-python",
   "name": "python",
   "nbconvert_exporter": "python",
   "pygments_lexer": "ipython3",
   "version": "3.5.2"
  }
 },
 "nbformat": 4,
 "nbformat_minor": 2
}

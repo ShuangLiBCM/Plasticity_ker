{
 "cells": [
  {
   "cell_type": "markdown",
   "metadata": {
    "deletable": true,
    "editable": true
   },
   "source": [
    "Test the function for training guassian process regression"
   ]
  },
  {
   "cell_type": "code",
   "execution_count": 352,
   "metadata": {
    "collapsed": false,
    "deletable": true,
    "editable": true
   },
   "outputs": [
    {
     "name": "stdout",
     "output_type": "stream",
     "text": [
      "The autoreload extension is already loaded. To reload it, use:\n",
      "  %reload_ext autoreload\n"
     ]
    }
   ],
   "source": [
    "# Load libraries and modules\n",
    "import numpy as np\n",
    "import pandas as pd\n",
    "import matplotlib.pyplot as plt\n",
    "import seaborn as sns\n",
    "import tensorflow as tf\n",
    "from modelval import pairptl, network, trainer, dataset, dw_gen, perform_eval\n",
    "from modelval.ArbDataGen import arb_w_gen\n",
    "from modelval.spk_visu import spk_see, raster\n",
    "from sklearn.utils import check_random_state\n",
    "import modelval.gp_regressor\n",
    "\n",
    "import warnings\n",
    "\n",
    "warnings.filterwarnings('ignore')\n",
    "\n",
    "% matplotlib inline\n",
    "% load_ext autoreload\n",
    "% autoreload 2"
   ]
  },
  {
   "cell_type": "code",
   "execution_count": 353,
   "metadata": {
    "collapsed": false,
    "deletable": true,
    "editable": true
   },
   "outputs": [
    {
     "data": {
      "text/html": [
       "<div>\n",
       "<table border=\"1\" class=\"dataframe\">\n",
       "  <thead>\n",
       "    <tr style=\"text-align: right;\">\n",
       "      <th></th>\n",
       "      <th>ptl_idx</th>\n",
       "      <th>pre_spk_num</th>\n",
       "      <th>pre_spk_freq</th>\n",
       "      <th>post_spk_num</th>\n",
       "      <th>post_spk_freq</th>\n",
       "      <th>ptl_occ</th>\n",
       "      <th>ptl_freq</th>\n",
       "      <th>dt1</th>\n",
       "      <th>dt2</th>\n",
       "      <th>dt3</th>\n",
       "      <th>dw_mean</th>\n",
       "      <th>dw_ste</th>\n",
       "      <th>train_len</th>\n",
       "    </tr>\n",
       "  </thead>\n",
       "  <tbody>\n",
       "    <tr>\n",
       "      <th>0</th>\n",
       "      <td>1</td>\n",
       "      <td>1</td>\n",
       "      <td>0</td>\n",
       "      <td>1</td>\n",
       "      <td>0</td>\n",
       "      <td>60</td>\n",
       "      <td>1.0</td>\n",
       "      <td>-102.898046</td>\n",
       "      <td>0.0</td>\n",
       "      <td>0</td>\n",
       "      <td>-1.322590</td>\n",
       "      <td>0.0</td>\n",
       "      <td>60</td>\n",
       "    </tr>\n",
       "    <tr>\n",
       "      <th>1</th>\n",
       "      <td>1</td>\n",
       "      <td>1</td>\n",
       "      <td>0</td>\n",
       "      <td>1</td>\n",
       "      <td>0</td>\n",
       "      <td>60</td>\n",
       "      <td>1.0</td>\n",
       "      <td>-75.579896</td>\n",
       "      <td>0.0</td>\n",
       "      <td>0</td>\n",
       "      <td>2.674768</td>\n",
       "      <td>0.0</td>\n",
       "      <td>60</td>\n",
       "    </tr>\n",
       "    <tr>\n",
       "      <th>2</th>\n",
       "      <td>1</td>\n",
       "      <td>1</td>\n",
       "      <td>0</td>\n",
       "      <td>1</td>\n",
       "      <td>0</td>\n",
       "      <td>60</td>\n",
       "      <td>1.0</td>\n",
       "      <td>-80.871473</td>\n",
       "      <td>0.0</td>\n",
       "      <td>0</td>\n",
       "      <td>-12.696449</td>\n",
       "      <td>0.0</td>\n",
       "      <td>60</td>\n",
       "    </tr>\n",
       "    <tr>\n",
       "      <th>3</th>\n",
       "      <td>1</td>\n",
       "      <td>1</td>\n",
       "      <td>0</td>\n",
       "      <td>1</td>\n",
       "      <td>0</td>\n",
       "      <td>60</td>\n",
       "      <td>1.0</td>\n",
       "      <td>-67.562239</td>\n",
       "      <td>0.0</td>\n",
       "      <td>0</td>\n",
       "      <td>0.231446</td>\n",
       "      <td>0.0</td>\n",
       "      <td>60</td>\n",
       "    </tr>\n",
       "    <tr>\n",
       "      <th>4</th>\n",
       "      <td>1</td>\n",
       "      <td>1</td>\n",
       "      <td>0</td>\n",
       "      <td>1</td>\n",
       "      <td>0</td>\n",
       "      <td>60</td>\n",
       "      <td>1.0</td>\n",
       "      <td>-63.553410</td>\n",
       "      <td>0.0</td>\n",
       "      <td>0</td>\n",
       "      <td>-0.990216</td>\n",
       "      <td>0.0</td>\n",
       "      <td>60</td>\n",
       "    </tr>\n",
       "  </tbody>\n",
       "</table>\n",
       "</div>"
      ],
      "text/plain": [
       "   ptl_idx  pre_spk_num  pre_spk_freq  post_spk_num  post_spk_freq  ptl_occ  \\\n",
       "0        1            1             0             1              0       60   \n",
       "1        1            1             0             1              0       60   \n",
       "2        1            1             0             1              0       60   \n",
       "3        1            1             0             1              0       60   \n",
       "4        1            1             0             1              0       60   \n",
       "\n",
       "   ptl_freq         dt1  dt2  dt3    dw_mean  dw_ste  train_len  \n",
       "0       1.0 -102.898046  0.0    0  -1.322590     0.0         60  \n",
       "1       1.0  -75.579896  0.0    0   2.674768     0.0         60  \n",
       "2       1.0  -80.871473  0.0    0 -12.696449     0.0         60  \n",
       "3       1.0  -67.562239  0.0    0   0.231446     0.0         60  \n",
       "4       1.0  -63.553410  0.0    0  -0.990216     0.0         60  "
      ]
     },
     "execution_count": 353,
     "metadata": {},
     "output_type": "execute_result"
    }
   ],
   "source": [
    "# Load data frame\n",
    "data = pd.read_csv('/src/Plasticity_Ker/data/kernel_training_data_auto.csv')\n",
    "data.head()"
   ]
  },
  {
   "cell_type": "code",
   "execution_count": 354,
   "metadata": {
    "collapsed": false,
    "deletable": true,
    "editable": true
   },
   "outputs": [
    {
     "data": {
      "text/plain": [
       "[<matplotlib.lines.Line2D at 0x7fc537aa5320>]"
      ]
     },
     "execution_count": 354,
     "metadata": {},
     "output_type": "execute_result"
    },
    {
     "data": {
      "image/png": "[encoded data removed]",
      "text/plain": [
       "<matplotlib.figure.Figure at 0x7fc537bd1e10>"
      ]
     },
     "metadata": {},
     "output_type": "display_data"
    }
   ],
   "source": [
    "# Generate data for STDP\n",
    "data1 = data[data['ptl_idx']==1]\n",
    "\n",
    "# Seperate the data into training and validation\n",
    "from sklearn.model_selection import KFold\n",
    "\n",
    "x = data1['dt1'].reshape(-1,1)\n",
    "y = data1['dw_mean'].reshape(-1,1)\n",
    "\n",
    "# Rescale y to match the maximum variance of RBF kernel during Gaussian Process Regression\n",
    "\n",
    "y = y/data1[np.abs(data1['dt1'])>50]['dw_mean'].std()\n",
    "plt.plot(x,y,'o')"
   ]
  },
  {
   "cell_type": "code",
   "execution_count": 356,
   "metadata": {
    "collapsed": false,
    "deletable": true,
    "editable": true
   },
   "outputs": [],
   "source": [
    "# Hyperparameter search\n",
    "# Create the parameter list\n",
    "param_list={\n",
    "   # 'scale': np.linspace(20,60,5),              # scaler for baseline variance\n",
    "   # 'noise_const': np.linspace(50,120,10),      # Dependence of noise on |x|\n",
    "    'sigma_obs': np.linspace(0.05,1,20),          # Noise variance\n",
    "    'bias': np.linspace(5,15,15),                # Mimimum length scale\n",
    "    'sigma_kernel': np.linspace(0.05,1,20),      # length scale for covariance matrix\n",
    "}\n",
    "\n",
    "# Convert to parameter grid\n",
    "from sklearn.model_selection import ParameterGrid\n",
    "param_grid = list(ParameterGrid(param_list))\n",
    "kf = KFold(n_splits=5, shuffle=True)\n",
    "# Perform k-fold cross validation and get mean mse\n",
    "mse = np.zeros(len(param_grid))\n",
    "for i in range(len(param_grid)):\n",
    "    k = 0\n",
    "    for train_index, test_index in kf.split(x):\n",
    "        mse_tmp = np.ones(kf.get_n_splits(x)) * np.nan\n",
    "        x_train = x[train_index,:].reshape(-1,1)\n",
    "        y_train = y[train_index,:].reshape(-1,1)\n",
    "        x_test = x[test_index,:].reshape(-1,1)\n",
    "        y_test = y[test_index,:].reshape(-1,1)\n",
    "        gp_rg=gp_regressor.GP_regressor(x_train, y_train, x_test, if_stat_kernel=False, **param_grid[i])\n",
    "        try:\n",
    "            gp_rg.fit(y_bias=0)\n",
    "        except:\n",
    "            continue\n",
    "        f, _, _ = gp_rg.fit(y_bias=0)\n",
    "        mse_tmp[k] = np.nanmean(np.square(f-y_test))\n",
    "        k = k+1\n",
    "    mse[i] = np.nanmean(mse_tmp)"
   ]
  },
  {
   "cell_type": "code",
   "execution_count": 357,
   "metadata": {
    "collapsed": false,
    "deletable": true,
    "editable": true
   },
   "outputs": [],
   "source": [
    "# Choose the parameter with minimum mse\n",
    "param_best = param_grid[np.where(mse == np.nanmin(mse))[0][0]]\n",
    "param_best = {'bias': 7.8571428571428577,\n",
    " 'sigma_kernel': 0.54999999999999993,\n",
    " 'sigma_obs': 0.90000000000000002}"
   ]
  },
  {
   "cell_type": "code",
   "execution_count": 396,
   "metadata": {
    "collapsed": false,
    "deletable": true,
    "editable": true
   },
   "outputs": [
    {
     "data": {
      "text/plain": [
       "<matplotlib.legend.Legend at 0x7fc5365bdbe0>"
      ]
     },
     "execution_count": 396,
     "metadata": {},
     "output_type": "execute_result"
    },
    {
     "data": {
      "image/png": "[encoded data removed]",
      "text/plain": [
       "<matplotlib.figure.Figure at 0x7fc5369b3e80>"
      ]
     },
     "metadata": {},
     "output_type": "display_data"
    }
   ],
   "source": [
    "x = data1['dt1'].reshape(-1,1)\n",
    "y = data1['dw_mean'].reshape(-1,1)\n",
    "y = y/data1[np.abs(data1['dt1'])>50]['dw_mean'].std()\n",
    "x_test = np.linspace(np.min(x),np.max(x),200).reshape(-1,1)\n",
    "#param_best = {'bias': 10, 'sigma_kernel': 0.05, 'sigma_obs':1}\n",
    "# Create gp regressor with designated parameter\n",
    "gp_rg = gp_regressor.GP_regressor(x, y, x_test,if_stat_kernel=False, **param_best)\n",
    "f, v_f, lp = gp_rg.fit(y_bias=0)\n",
    "f = f*data1[np.abs(data1['dt1'])>50]['dw_mean'].std()\n",
    "std = np.sqrt(v_f.transpose().diagonal()).reshape(-1,1)*data1[np.abs(data1['dt1'])>50]['dw_mean'].std()\n",
    "plt.plot(data1['dt1'], data1['dw_mean'],'o', color='steelblue',label='Raw_data_train')\n",
    "plt.plot(x_test, f, 'k', label='f_mean')\n",
    "plt.axis([-110,110,-50,110])\n",
    "plt.fill_between(np.squeeze(x_test), np.squeeze(f-1.96*std), np.squeeze(f+1.96*std), alpha=0.5, color='deeppink', label='95% CI')\n",
    "plt.legend(loc='upper left')"
   ]
  },
  {
   "cell_type": "code",
   "execution_count": 376,
   "metadata": {
    "collapsed": false,
    "deletable": true,
    "editable": true
   },
   "outputs": [
    {
     "data": {
      "text/plain": [
       "[<matplotlib.lines.Line2D at 0x7fc53700d780>]"
      ]
     },
     "execution_count": 376,
     "metadata": {},
     "output_type": "execute_result"
    },
    {
     "data": {
      "image/png": "[encoded data removed]",
      "text/plain": [
       "<matplotlib.figure.Figure at 0x7fc537573780>"
      ]
     },
     "metadata": {},
     "output_type": "display_data"
    }
   ],
   "source": [
    "# Generate data for Quadruplet protocol\n",
    "data3 = data[data['ptl_idx']==3]\n",
    "plt.plot(data3['dt2'], data3['dw_mean'],'o', label='Raw_data_train')"
   ]
  },
  {
   "cell_type": "code",
   "execution_count": 337,
   "metadata": {
    "collapsed": true,
    "deletable": true,
    "editable": true
   },
   "outputs": [],
   "source": [
    "# Hyperparameter search\n",
    "\n",
    "# Create the parameter list\n",
    "param_list={\n",
    "   # 'scale': np.linspace(20,60,5),              # scaler for baseline variance\n",
    "   # 'noise_const': np.linspace(50,120,10),      # Dependence of noise on |x|\n",
    "    'sigma_obs': np.linspace(0.05,1,20),          # Noise variance\n",
    "    'bias': np.linspace(5,15,15),                # Mimimum length scale\n",
    "    'sigma_kernel': np.linspace(0.05,1,20),      # length scale for covariance matrix\n",
    "}\n",
    "\n",
    "# Convert to parameter grid\n",
    "from sklearn.model_selection import ParameterGrid\n",
    "param_grid = list(ParameterGrid(param_list))\n",
    "\n",
    "# Seperate the data into training and validation\n",
    "from sklearn.model_selection import KFold\n",
    "\n",
    "x_r = data3[data3['dt2']>0]['dt2'].reshape(-1,1)\n",
    "y_r = data3[data3['dt2']>0]['dw_mean'].reshape(-1,1)\n",
    "\n",
    "x_l = data3[data3['dt2']<0]['dt2'].reshape(-1,1)\n",
    "y_l = data3[data3['dt2']<0]['dw_mean'].reshape(-1,1)\n",
    "\n",
    "kf = KFold(n_splits=5, shuffle=True)\n",
    "# Perform k-fold cross validation and get mean mse\n",
    "mse = np.zeros(len(param_grid))\n",
    "for i in range(len(param_grid)):\n",
    "    k = 0\n",
    "    for (train_r_index, test_r_index), (train_l_index, test_l_index) in zip(kf.split(x_r),kf.split(x_l)):\n",
    "        mse_tmp = np.ones(kf.get_n_splits(x_r)) * np.nan\n",
    "        x_train_r = x_r[train_r_index,:].reshape(-1,1)\n",
    "        x_train_l = x_l[train_l_index,:].reshape(-1,1)\n",
    "        y_train_r = y_r[train_r_index,:].reshape(-1,1)\n",
    "        y_train_l = y_l[train_l_index,:].reshape(-1,1)\n",
    "        x_test_r = x_r[test_r_index,:].reshape(-1,1)\n",
    "        y_test_r = y_r[test_r_index,:].reshape(-1,1)\n",
    "        x_test_l = x_l[test_l_index,:].reshape(-1,1)\n",
    "        y_test_l = y_l[test_l_index,:].reshape(-1,1)\n",
    "        gp_rg_r = gp_regressor.GP_regressor(x_r, y_r, x_test_r,if_stat_kernel=False,  **param_grid[i])\n",
    "        gp_rg_l = gp_regressor.GP_regressor(x_l, y_l, x_test_l,if_stat_kernel=False, **param_grid[i])\n",
    "        try:\n",
    "            gp_rg_r.fit()\n",
    "            gp_rg_l.fit()\n",
    "        except:\n",
    "            continue\n",
    "        f_r, _, _ = gp_rg_r.fit()\n",
    "        f_l, _, _ = gp_rg_l.fit()\n",
    "        mse_tmp[k] = np.nanmean(np.square(f_r-y_test_r)) + np.nanmean(np.square(f_l-y_test_l))\n",
    "        k = k+1\n",
    "    mse[i] = np.nanmean(mse_tmp)"
   ]
  },
  {
   "cell_type": "code",
   "execution_count": 377,
   "metadata": {
    "collapsed": false,
    "deletable": true,
    "editable": true
   },
   "outputs": [],
   "source": [
    "# Choose the parameter with minimum mse\n",
    "param_best = param_grid[np.where(mse == np.nanmin(mse))[0][0]]\n",
    "param_best = {'bias': 6.4285714285714288,\n",
    " 'sigma_kernel': 0.84999999999999998,\n",
    " 'sigma_obs': 0.79999999999999993}"
   ]
  },
  {
   "cell_type": "code",
   "execution_count": 394,
   "metadata": {
    "collapsed": false,
    "deletable": true,
    "editable": true
   },
   "outputs": [
    {
     "data": {
      "text/plain": [
       "<matplotlib.legend.Legend at 0x7fc5366b9e80>"
      ]
     },
     "execution_count": 394,
     "metadata": {},
     "output_type": "execute_result"
    },
    {
     "data": {
      "image/png": "[encoded data removed]",
      "text/plain": [
       "<matplotlib.figure.Figure at 0x7fc5367b19b0>"
      ]
     },
     "metadata": {},
     "output_type": "display_data"
    }
   ],
   "source": [
    "x_r = data3[data3['dt2']>0]['dt2'].reshape(-1,1)\n",
    "y_r = data3[data3['dt2']>0]['dw_mean'].reshape(-1,1)\n",
    "x_test_r = np.linspace(np.min(x_r),np.max(x_r),120).reshape(-1,1)\n",
    "y_r = y_r/data3[np.abs(data3['dt2'])>100]['dw_mean'].std()\n",
    "\n",
    "x_l = data3[data3['dt2']<0]['dt2'].reshape(-1,1)\n",
    "y_l = data3[data3['dt2']<0]['dw_mean'].reshape(-1,1)\n",
    "x_test_l = np.linspace(np.min(x_l),np.max(x_l),120).reshape(-1,1)\n",
    "y_l = y_l/data3[np.abs(data3['dt2'])>100]['dw_mean'].std()\n",
    "\n",
    "#best_params = {'sigma_kernel':1,'bias':5, 'sigma_obs':1, 'if_stat_kernel':False}\n",
    "\n",
    "gp_rg = gp_regressor.GP_regressor(x_r, y_r, x_test_r, **best_params)\n",
    "f, v_f_r, lp = gp_rg.fit()\n",
    "f = f * data3[np.abs(data3['dt2'])>100]['dw_mean'].std()\n",
    "std = np.sqrt(v_f_r.transpose().diagonal()).reshape(-1,1)* data3[np.abs(data3['dt2'])>100]['dw_mean'].std()\n",
    "plt.plot(x_r, data3[data3['dt2']>0]['dw_mean'],'o', color='steelblue', label='Raw_data_train')\n",
    "plt_range1 = np.arange(0,112,1)\n",
    "\n",
    "plt.plot(x_test_r, f,'k')\n",
    "plt.fill_between(np.squeeze(x_test_r), np.squeeze(f-1.96*std), np.squeeze(f+1.96*std), alpha=0.5, color='deeppink')\n",
    "\n",
    "\n",
    "gp_rg = gp_regressor.GP_regressor(x_l, y_l, x_test_l, **best_params)\n",
    "f, v_f_l, lp = gp_rg.fit()\n",
    "f = f * data3[np.abs(data3['dt2'])>100]['dw_mean'].std()\n",
    "std = np.sqrt(v_f_l.transpose().diagonal()).reshape(-1,1)* data3[np.abs(data3['dt2'])>100]['dw_mean'].std()\n",
    "plt.plot(x_l, np.array(data3[data3['dt2']<0]['dw_mean']),'o',color='steelblue')\n",
    "plt.plot(x_test_l, f,'k', label='f_mean')\n",
    "plt.fill_between(np.squeeze(x_test_l), np.squeeze(f-1.96*std), np.squeeze(f+1.96*std), alpha=0.5, color='deeppink', label='95% CI')\n",
    "plt.legend(loc='upper left')"
   ]
  },
  {
   "cell_type": "code",
   "execution_count": 217,
   "metadata": {
    "collapsed": false,
    "deletable": true,
    "editable": true
   },
   "outputs": [
    {
     "data": {
      "text/plain": [
       "{'bias': 15.0,\n",
       " 'sigma_kernel': 1.8655172413793102,\n",
       " 'sigma_obs': 6.8333333333333339}"
      ]
     },
     "execution_count": 217,
     "metadata": {},
     "output_type": "execute_result"
    }
   ],
   "source": [
    "param_grid[np.where(mse == np.nanmin(mse))[0][0]]"
   ]
  },
  {
   "cell_type": "code",
   "execution_count": 329,
   "metadata": {
    "collapsed": false,
    "deletable": true,
    "editable": true
   },
   "outputs": [
    {
     "data": {
      "text/plain": [
       "<matplotlib.legend.Legend at 0x7fa230319c50>"
      ]
     },
     "execution_count": 329,
     "metadata": {},
     "output_type": "execute_result"
    },
    {
     "data": {
      "image/png": "[encoded data removed]",
      "text/plain": [
       "<matplotlib.figure.Figure at 0x7fa23005a438>"
      ]
     },
     "metadata": {},
     "output_type": "display_data"
    }
   ],
   "source": [
    "# Test with toy example\n",
    "import numpy as np\n",
    "from matplotlib import pyplot as plt\n",
    "\n",
    "from sklearn.gaussian_process import GaussianProcessRegressor\n",
    "from sklearn.gaussian_process.kernels import RBF, ConstantKernel as C\n",
    "\n",
    "np.random.seed(1)\n",
    "\n",
    "\n",
    "def f(x):\n",
    "    \"\"\"The function to predict.\"\"\"\n",
    "    return x * np.sin(x)\n",
    "\n",
    "# ----------------------------------------------------------------------\n",
    "#  First the noiseless case\n",
    "X = np.atleast_2d([1., 3., 5., 6., 7., 8.]).reshape(-1,1)\n",
    "\n",
    "# Observations\n",
    "y = f(X).ravel().reshape(-1,1)\n",
    "\n",
    "# Mesh the input space for evaluations of the real function, the prediction and\n",
    "# its MSE\n",
    "x = np.atleast_2d(np.linspace(0, 10, 1000)).T\n",
    "\n",
    "# Fit to data using Maximum Likelihood Estimation of the parameters\n",
    "gp_rg = gp_regressor.GP_regressor(X, y, x, sigma_obs=0, sigma_kernel=0.1)\n",
    "y_pred, v_f, lp = gp_rg.fit()\n",
    "sigma = np.sqrt(v_f.transpose().diagonal()).reshape(-1,1)\n",
    "\n",
    "# Plot the function, the prediction and the 95% confidence interval based on\n",
    "# the MSE\n",
    "fig = plt.figure()\n",
    "plt.plot(x, f(x), 'r:', label=u'$f(x) = x\\,\\sin(x)$')\n",
    "plt.plot(X, y, 'r.', markersize=10, label=u'Observations')\n",
    "plt.plot(x, y_pred, 'b-', label=u'Prediction')\n",
    "plt.fill(np.concatenate([x, x[::-1]]),\n",
    "         np.concatenate([y_pred - 1.9600 * sigma,\n",
    "                        (y_pred + 1.9600 * sigma)[::-1]]),\n",
    "         alpha=.5, fc='b', ec='None', label='95% confidence interval')\n",
    "plt.xlabel('$x$')\n",
    "plt.ylabel('$f(x)$')\n",
    "plt.ylim(-10, 20)\n",
    "plt.legend(loc='upper left')"
   ]
  },
  {
   "cell_type": "code",
   "execution_count": 330,
   "metadata": {
    "collapsed": false,
    "deletable": true,
    "editable": true
   },
   "outputs": [
    {
     "data": {
      "text/plain": [
       "<matplotlib.legend.Legend at 0x7fa2302799e8>"
      ]
     },
     "execution_count": 330,
     "metadata": {},
     "output_type": "execute_result"
    },
    {
     "data": {
      "image/png": "[encoded data removed]",
      "text/plain": [
       "<matplotlib.figure.Figure at 0x7fa230314400>"
      ]
     },
     "metadata": {},
     "output_type": "display_data"
    }
   ],
   "source": [
    "np.random.seed(1)\n",
    "\n",
    "\n",
    "def f(x):\n",
    "    \"\"\"The function to predict.\"\"\"\n",
    "    return x * np.sin(x)\n",
    "\n",
    "# ----------------------------------------------------------------------\n",
    "#  First the noiseless case\n",
    "X = np.atleast_2d([1., 3., 5., 6., 7., 8.]).T\n",
    "\n",
    "# Observations\n",
    "y = f(X).ravel()\n",
    "\n",
    "# Mesh the input space for evaluations of the real function, the prediction and\n",
    "# its MSE\n",
    "x = np.atleast_2d(np.linspace(0, 10, 1000)).T\n",
    "\n",
    "# Instanciate a Gaussian Process model\n",
    "kernel = RBF(0.1)\n",
    "gp = GaussianProcessRegressor(kernel=kernel)\n",
    "\n",
    "# Fit to data using Maximum Likelihood Estimation of the parameters\n",
    "gp.fit(X, y)\n",
    "\n",
    "# Make the prediction on the meshed x-axis (ask for MSE as well)\n",
    "y_pred, sigma = gp.predict(x, return_std=True)\n",
    "\n",
    "# Plot the function, the prediction and the 95% confidence interval based on\n",
    "# the MSE\n",
    "fig = plt.figure()\n",
    "plt.plot(x, f(x), 'r:', label=u'$f(x) = x\\,\\sin(x)$')\n",
    "plt.plot(X, y, 'r.', markersize=10, label=u'Observations')\n",
    "plt.plot(x, y_pred, 'b-', label=u'Prediction')\n",
    "plt.fill(np.concatenate([x, x[::-1]]),\n",
    "         np.concatenate([y_pred - 1.9600 * sigma,\n",
    "                        (y_pred + 1.9600 * sigma)[::-1]]),\n",
    "         alpha=.5, fc='b', ec='None', label='95% confidence interval')\n",
    "plt.xlabel('$x$')\n",
    "plt.ylabel('$f(x)$')\n",
    "plt.ylim(-10, 20)\n",
    "plt.legend(loc='upper left')\n"
   ]
  },
  {
   "cell_type": "code",
   "execution_count": null,
   "metadata": {
    "collapsed": true,
    "deletable": true,
    "editable": true
   },
   "outputs": [],
   "source": []
  }
 ],
 "metadata": {
  "kernelspec": {
   "display_name": "Python 3",
   "language": "python",
   "name": "python3"
  },
  "language_info": {
   "codemirror_mode": {
    "name": "ipython",
    "version": 3
   },
   "file_extension": ".py",
   "mimetype": "text/x-python",
   "name": "python",
   "nbconvert_exporter": "python",
   "pygments_lexer": "ipython3",
   "version": "3.5.2"
  }
 },
 "nbformat": 4,
 "nbformat_minor": 2
}

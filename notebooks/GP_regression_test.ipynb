{
 "cells": [
  {
   "cell_type": "markdown",
   "metadata": {
    "deletable": true,
    "editable": true
   },
   "source": [
    "Test the function for training guassian process regression"
   ]
  },
  {
   "cell_type": "code",
   "execution_count": 1,
   "metadata": {
    "collapsed": false,
    "deletable": true,
    "editable": true
   },
   "outputs": [],
   "source": [
    "# Load libraries and modules\n",
    "import numpy as np\n",
    "import pandas as pd\n",
    "import matplotlib.pyplot as plt\n",
    "import seaborn as sns\n",
    "import tensorflow as tf\n",
    "from modelval import pairptl, network, trainer, dataset, dw_gen, perform_eval\n",
    "from modelval.ArbDataGen import arb_w_gen\n",
    "from modelval.spk_visu import spk_see, raster\n",
    "import warnings\n",
    "warnings.filterwarnings('ignore')\n",
    "\n",
    "% matplotlib inline\n",
    "% load_ext autoreload\n",
    "% autoreload 2"
   ]
  },
  {
   "cell_type": "code",
   "execution_count": 2,
   "metadata": {
    "collapsed": true,
    "deletable": true,
    "editable": true
   },
   "outputs": [],
   "source": [
    "x = np.linspace(-5,5,200)"
   ]
  },
  {
   "cell_type": "code",
   "execution_count": 3,
   "metadata": {
    "collapsed": true,
    "deletable": true,
    "editable": true
   },
   "outputs": [],
   "source": [
    "y = np.exp(-1 * np.square(x)/np.abs(x))"
   ]
  },
  {
   "cell_type": "code",
   "execution_count": 4,
   "metadata": {
    "collapsed": false,
    "deletable": true,
    "editable": true
   },
   "outputs": [
    {
     "data": {
      "text/plain": [
       "[<matplotlib.lines.Line2D at 0x7f66b3f1c470>]"
      ]
     },
     "execution_count": 4,
     "metadata": {},
     "output_type": "execute_result"
    },
    {
     "data": {
      "image/png": "[encoded data removed]",
      "text/plain": [
       "<matplotlib.figure.Figure at 0x7f6720861cc0>"
      ]
     },
     "metadata": {},
     "output_type": "display_data"
    }
   ],
   "source": [
    "plt.plot(x, y)"
   ]
  },
  {
   "cell_type": "code",
   "execution_count": 5,
   "metadata": {
    "collapsed": false,
    "deletable": true,
    "editable": true
   },
   "outputs": [
    {
     "data": {
      "text/html": [
       "<div>\n",
       "<table border=\"1\" class=\"dataframe\">\n",
       "  <thead>\n",
       "    <tr style=\"text-align: right;\">\n",
       "      <th></th>\n",
       "      <th>ptl_idx</th>\n",
       "      <th>pre_spk_num</th>\n",
       "      <th>pre_spk_freq</th>\n",
       "      <th>post_spk_num</th>\n",
       "      <th>post_spk_freq</th>\n",
       "      <th>ptl_occ</th>\n",
       "      <th>ptl_freq</th>\n",
       "      <th>dt1</th>\n",
       "      <th>dt2</th>\n",
       "      <th>dt3</th>\n",
       "      <th>dw_mean</th>\n",
       "      <th>dw_ste</th>\n",
       "      <th>train_len</th>\n",
       "    </tr>\n",
       "  </thead>\n",
       "  <tbody>\n",
       "    <tr>\n",
       "      <th>0</th>\n",
       "      <td>1</td>\n",
       "      <td>1</td>\n",
       "      <td>0</td>\n",
       "      <td>1</td>\n",
       "      <td>0</td>\n",
       "      <td>60</td>\n",
       "      <td>1.0</td>\n",
       "      <td>-102.898046</td>\n",
       "      <td>0.0</td>\n",
       "      <td>0</td>\n",
       "      <td>-1.322590</td>\n",
       "      <td>0.0</td>\n",
       "      <td>60</td>\n",
       "    </tr>\n",
       "    <tr>\n",
       "      <th>1</th>\n",
       "      <td>1</td>\n",
       "      <td>1</td>\n",
       "      <td>0</td>\n",
       "      <td>1</td>\n",
       "      <td>0</td>\n",
       "      <td>60</td>\n",
       "      <td>1.0</td>\n",
       "      <td>-75.579896</td>\n",
       "      <td>0.0</td>\n",
       "      <td>0</td>\n",
       "      <td>2.674768</td>\n",
       "      <td>0.0</td>\n",
       "      <td>60</td>\n",
       "    </tr>\n",
       "    <tr>\n",
       "      <th>2</th>\n",
       "      <td>1</td>\n",
       "      <td>1</td>\n",
       "      <td>0</td>\n",
       "      <td>1</td>\n",
       "      <td>0</td>\n",
       "      <td>60</td>\n",
       "      <td>1.0</td>\n",
       "      <td>-80.871473</td>\n",
       "      <td>0.0</td>\n",
       "      <td>0</td>\n",
       "      <td>-12.696449</td>\n",
       "      <td>0.0</td>\n",
       "      <td>60</td>\n",
       "    </tr>\n",
       "    <tr>\n",
       "      <th>3</th>\n",
       "      <td>1</td>\n",
       "      <td>1</td>\n",
       "      <td>0</td>\n",
       "      <td>1</td>\n",
       "      <td>0</td>\n",
       "      <td>60</td>\n",
       "      <td>1.0</td>\n",
       "      <td>-67.562239</td>\n",
       "      <td>0.0</td>\n",
       "      <td>0</td>\n",
       "      <td>0.231446</td>\n",
       "      <td>0.0</td>\n",
       "      <td>60</td>\n",
       "    </tr>\n",
       "    <tr>\n",
       "      <th>4</th>\n",
       "      <td>1</td>\n",
       "      <td>1</td>\n",
       "      <td>0</td>\n",
       "      <td>1</td>\n",
       "      <td>0</td>\n",
       "      <td>60</td>\n",
       "      <td>1.0</td>\n",
       "      <td>-63.553410</td>\n",
       "      <td>0.0</td>\n",
       "      <td>0</td>\n",
       "      <td>-0.990216</td>\n",
       "      <td>0.0</td>\n",
       "      <td>60</td>\n",
       "    </tr>\n",
       "  </tbody>\n",
       "</table>\n",
       "</div>"
      ],
      "text/plain": [
       "   ptl_idx  pre_spk_num  pre_spk_freq  post_spk_num  post_spk_freq  ptl_occ  \\\n",
       "0        1            1             0             1              0       60   \n",
       "1        1            1             0             1              0       60   \n",
       "2        1            1             0             1              0       60   \n",
       "3        1            1             0             1              0       60   \n",
       "4        1            1             0             1              0       60   \n",
       "\n",
       "   ptl_freq         dt1  dt2  dt3    dw_mean  dw_ste  train_len  \n",
       "0       1.0 -102.898046  0.0    0  -1.322590     0.0         60  \n",
       "1       1.0  -75.579896  0.0    0   2.674768     0.0         60  \n",
       "2       1.0  -80.871473  0.0    0 -12.696449     0.0         60  \n",
       "3       1.0  -67.562239  0.0    0   0.231446     0.0         60  \n",
       "4       1.0  -63.553410  0.0    0  -0.990216     0.0         60  "
      ]
     },
     "execution_count": 5,
     "metadata": {},
     "output_type": "execute_result"
    }
   ],
   "source": [
    "# Load data frame\n",
    "data = pd.read_csv('/src/Plasticity_Ker/data/kernel_training_data_auto.csv')\n",
    "data.head()"
   ]
  },
  {
   "cell_type": "code",
   "execution_count": 227,
   "metadata": {
    "collapsed": false,
    "deletable": true,
    "editable": true
   },
   "outputs": [
    {
     "data": {
      "text/plain": [
       "[<matplotlib.lines.Line2D at 0x7f66aec03ef0>]"
      ]
     },
     "execution_count": 227,
     "metadata": {},
     "output_type": "execute_result"
    },
    {
     "data": {
      "image/png": "[encoded data removed]",
      "text/plain": [
       "<matplotlib.figure.Figure at 0x7f66aec3c438>"
      ]
     },
     "metadata": {},
     "output_type": "display_data"
    }
   ],
   "source": [
    "# Generate data for STDP\n",
    "data1 = data[data['ptl_idx']==1]\n",
    "plt.plot(data1['dt1'], data1['dw_mean'],'o', label='Raw_data_train')"
   ]
  },
  {
   "cell_type": "code",
   "execution_count": 407,
   "metadata": {
    "collapsed": true,
    "deletable": true,
    "editable": true
   },
   "outputs": [],
   "source": [
    "x = data1['dt1'].reshape(-1,1)\n",
    "y = data1['dw_mean'].reshape(-1,1)"
   ]
  },
  {
   "cell_type": "code",
   "execution_count": 408,
   "metadata": {
    "collapsed": true,
    "deletable": true,
    "editable": true
   },
   "outputs": [],
   "source": [
    "x_test = np.linspace(-100,100,200).reshape(-1,1)"
   ]
  },
  {
   "cell_type": "code",
   "execution_count": 409,
   "metadata": {
    "collapsed": true,
    "deletable": true,
    "editable": true
   },
   "outputs": [],
   "source": [
    "from modelval import GP_regressor"
   ]
  },
  {
   "cell_type": "code",
   "execution_count": 410,
   "metadata": {
    "collapsed": false,
    "deletable": true,
    "editable": true
   },
   "outputs": [],
   "source": [
    "# f, v_f, lp = GP_regressor.gp_regessor(x, y, x_test, sigma_obs=1.6, sigma_kernel=1.5)\n",
    "# std = np.sqrt(v_f.diagonal()).reshape(-1,1)"
   ]
  },
  {
   "cell_type": "code",
   "execution_count": 411,
   "metadata": {
    "collapsed": false,
    "deletable": true,
    "editable": true
   },
   "outputs": [
    {
     "data": {
      "text/plain": [
       "<matplotlib.collections.PolyCollection at 0x7f66aa37ff60>"
      ]
     },
     "execution_count": 411,
     "metadata": {},
     "output_type": "execute_result"
    },
    {
     "data": {
      "image/png": "[encoded data removed]",
      "text/plain": [
       "<matplotlib.figure.Figure at 0x7f66abf6da58>"
      ]
     },
     "metadata": {},
     "output_type": "display_data"
    }
   ],
   "source": [
    "f, v_f, lp = GP_regressor.gp_regessor(x, y, x_test,sigma_kernel=2.37, bias=2, sigma_obs=1.1, noise_const=700, if_stat_kernel=False, if_stat_noise=False)\n",
    "std = np.sqrt(v_f.transpose().diagonal()).reshape(-1,1)\n",
    "plt.plot(data1['dt1'], data1['dw_mean'],'o', label='Raw_data_train')\n",
    "plt.plot(x_test, f)\n",
    "plt.fill_between(np.squeeze(x_test), np.squeeze(f-1.96*std), np.squeeze(f+1.96*std), alpha=1, color='deeppink')"
   ]
  },
  {
   "cell_type": "code",
   "execution_count": null,
   "metadata": {
    "collapsed": false,
    "deletable": true,
    "editable": true
   },
   "outputs": [],
   "source": [
    "# Hyperparameter search\n",
    "\n",
    "# Create the parameter list\n",
    "param_list={\n",
    "    'noise_const': np.linspace(100,1000,10),    # Dependence of noise on |x|\n",
    "    'sigma_obs': np.linspace(1,3,20),            # Noise variance\n",
    "    'bias': np.linspace(1,5,10),                 # Mimimum length scale\n",
    "    'sigma_kernel': np.linspace(1,3,20),        # length scale for covariance matrix\n",
    "}\n",
    "\n",
    "# Convert to parameter grid\n",
    "from sklearn.model_selection import ParameterGrid\n",
    "param_grid = list(ParameterGrid(param_list))\n",
    "\n",
    "# Seperate the data into training and validation\n",
    "from sklearn.model_selection import KFold\n",
    "\n",
    "x = data1['dt1'].reshape(-1,1)\n",
    "y = data1['dw_mean'].reshape(-1,1)\n",
    "\n",
    "kf = KFold(n_splits=5, shuffle=True)\n",
    "# Perform k-fold cross validation and get mean mse\n",
    "mse = np.zeros(len(param_grid))\n",
    "for i in range(len(param_grid)):\n",
    "    k = 0\n",
    "    for train_index, test_index in kf.split(x):\n",
    "        mse_tmp = np.zeros(kf.get_n_splits(x))\n",
    "        x_train = x[train_index,:].reshape(-1,1)\n",
    "        y_train = y[train_index,:].reshape(-1,1)\n",
    "        x_test = x[test_index,:].reshape(-1,1)\n",
    "        y_test = y[test_index,:].reshape(-1,1)\n",
    "        f, _, _ = GP_regressor.gp_regessor(x_train, y_train, x_test, if_stat_kernel=False, if_stat_noise=False, **param_grid[i])\n",
    "        mse_tmp[k] = np.mean(np.square(f-y_test))\n",
    "        k = k+1\n",
    "    mse[i] = np.mean(mse_tmp)\n",
    "    \n",
    "# Choose the parameter with minimum mse\n",
    "param_grid[np.where(mse == np.min(mse))[0][0]]"
   ]
  },
  {
   "cell_type": "code",
   "execution_count": 220,
   "metadata": {
    "collapsed": false,
    "deletable": true,
    "editable": true
   },
   "outputs": [
    {
     "data": {
      "text/plain": [
       "<matplotlib.legend.Legend at 0x7f66aed3fbe0>"
      ]
     },
     "execution_count": 220,
     "metadata": {},
     "output_type": "execute_result"
    },
    {
     "data": {
      "image/png": "[encoded data removed]",
      "text/plain": [
       "<matplotlib.figure.Figure at 0x7f66aedfb588>"
      ]
     },
     "metadata": {},
     "output_type": "display_data"
    }
   ],
   "source": [
    "# Test with toy example\n",
    "import numpy as np\n",
    "from matplotlib import pyplot as plt\n",
    "\n",
    "from sklearn.gaussian_process import GaussianProcessRegressor\n",
    "from sklearn.gaussian_process.kernels import RBF, ConstantKernel as C\n",
    "\n",
    "np.random.seed(1)\n",
    "\n",
    "\n",
    "def f(x):\n",
    "    \"\"\"The function to predict.\"\"\"\n",
    "    return x * np.sin(x)\n",
    "\n",
    "# ----------------------------------------------------------------------\n",
    "#  First the noiseless case\n",
    "X = np.atleast_2d([1., 3., 5., 6., 7., 8.]).reshape(-1,1)\n",
    "\n",
    "# Observations\n",
    "y = f(X).ravel().reshape(-1,1)\n",
    "\n",
    "# Mesh the input space for evaluations of the real function, the prediction and\n",
    "# its MSE\n",
    "x = np.atleast_2d(np.linspace(0, 10, 1000)).T\n",
    "\n",
    "# Fit to data using Maximum Likelihood Estimation of the parameters\n",
    "y_pred, v_f, lp = GP_regressor.gp_regessor(X, y, x, sigma_obs=0, sigma_kernel=0.1)\n",
    "sigma = np.sqrt(v_f.transpose().diagonal()).reshape(-1,1)\n",
    "\n",
    "# Plot the function, the prediction and the 95% confidence interval based on\n",
    "# the MSE\n",
    "fig = plt.figure()\n",
    "plt.plot(x, f(x), 'r:', label=u'$f(x) = x\\,\\sin(x)$')\n",
    "plt.plot(X, y, 'r.', markersize=10, label=u'Observations')\n",
    "plt.plot(x, y_pred, 'b-', label=u'Prediction')\n",
    "plt.fill(np.concatenate([x, x[::-1]]),\n",
    "         np.concatenate([y_pred - 1.9600 * sigma,\n",
    "                        (y_pred + 1.9600 * sigma)[::-1]]),\n",
    "         alpha=.5, fc='b', ec='None', label='95% confidence interval')\n",
    "plt.xlabel('$x$')\n",
    "plt.ylabel('$f(x)$')\n",
    "plt.ylim(-10, 20)\n",
    "plt.legend(loc='upper left')"
   ]
  },
  {
   "cell_type": "code",
   "execution_count": 221,
   "metadata": {
    "collapsed": false,
    "deletable": true,
    "editable": true
   },
   "outputs": [
    {
     "data": {
      "text/plain": [
       "<matplotlib.legend.Legend at 0x7f66aecbc128>"
      ]
     },
     "execution_count": 221,
     "metadata": {},
     "output_type": "execute_result"
    },
    {
     "data": {
      "image/png": "[encoded data removed]",
      "text/plain": [
       "<matplotlib.figure.Figure at 0x7f66af6d13c8>"
      ]
     },
     "metadata": {},
     "output_type": "display_data"
    }
   ],
   "source": [
    "np.random.seed(1)\n",
    "\n",
    "\n",
    "def f(x):\n",
    "    \"\"\"The function to predict.\"\"\"\n",
    "    return x * np.sin(x)\n",
    "\n",
    "# ----------------------------------------------------------------------\n",
    "#  First the noiseless case\n",
    "X = np.atleast_2d([1., 3., 5., 6., 7., 8.]).T\n",
    "\n",
    "# Observations\n",
    "y = f(X).ravel()\n",
    "\n",
    "# Mesh the input space for evaluations of the real function, the prediction and\n",
    "# its MSE\n",
    "x = np.atleast_2d(np.linspace(0, 10, 1000)).T\n",
    "\n",
    "# Instanciate a Gaussian Process model\n",
    "kernel = RBF(0.1)\n",
    "gp = GaussianProcessRegressor(kernel=kernel)\n",
    "\n",
    "# Fit to data using Maximum Likelihood Estimation of the parameters\n",
    "gp.fit(X, y)\n",
    "\n",
    "# Make the prediction on the meshed x-axis (ask for MSE as well)\n",
    "y_pred, sigma = gp.predict(x, return_std=True)\n",
    "\n",
    "# Plot the function, the prediction and the 95% confidence interval based on\n",
    "# the MSE\n",
    "fig = plt.figure()\n",
    "plt.plot(x, f(x), 'r:', label=u'$f(x) = x\\,\\sin(x)$')\n",
    "plt.plot(X, y, 'r.', markersize=10, label=u'Observations')\n",
    "plt.plot(x, y_pred, 'b-', label=u'Prediction')\n",
    "plt.fill(np.concatenate([x, x[::-1]]),\n",
    "         np.concatenate([y_pred - 1.9600 * sigma,\n",
    "                        (y_pred + 1.9600 * sigma)[::-1]]),\n",
    "         alpha=.5, fc='b', ec='None', label='95% confidence interval')\n",
    "plt.xlabel('$x$')\n",
    "plt.ylabel('$f(x)$')\n",
    "plt.ylim(-10, 20)\n",
    "plt.legend(loc='upper left')\n"
   ]
  }
 ],
 "metadata": {
  "kernelspec": {
   "display_name": "Python 3",
   "language": "python",
   "name": "python3"
  },
  "language_info": {
   "codemirror_mode": {
    "name": "ipython",
    "version": 3
   },
   "file_extension": ".py",
   "mimetype": "text/x-python",
   "name": "python",
   "nbconvert_exporter": "python",
   "pygments_lexer": "ipython3",
   "version": "3.5.2"
  }
 },
 "nbformat": 4,
 "nbformat_minor": 2
}

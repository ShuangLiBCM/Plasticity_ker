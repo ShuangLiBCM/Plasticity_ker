{
 "cells": [
  {
   "cell_type": "markdown",
   "metadata": {
    "deletable": true,
    "editable": true
   },
   "source": [
    "Train validation data with convnet"
   ]
  },
  {
   "cell_type": "code",
   "execution_count": 69,
   "metadata": {
    "collapsed": false,
    "deletable": true,
    "editable": true
   },
   "outputs": [
    {
     "name": "stdout",
     "output_type": "stream",
     "text": [
      "The autoreload extension is already loaded. To reload it, use:\n",
      "  %reload_ext autoreload\n"
     ]
    }
   ],
   "source": [
    "import numpy as np\n",
    "import pandas as pd\n",
    "import matplotlib.pyplot as plt\n",
    "import seaborn as sns\n",
    "import tensorflow as tf\n",
    "from modelval import pairptl, network, trainer, dataset\n",
    "from modelval.ArbDataGen import arb_w_gen\n",
    "\n",
    "% matplotlib inline\n",
    "%load_ext autoreload\n",
    "    \n",
    "%autoreload 2"
   ]
  },
  {
   "cell_type": "code",
   "execution_count": 70,
   "metadata": {
    "collapsed": false,
    "deletable": true,
    "editable": true
   },
   "outputs": [],
   "source": [
    "# Load data frame\n",
    "data = pd.read_csv('/src/Plasticity_Ker/data/kernel_training_data_auto.csv')"
   ]
  },
  {
   "cell_type": "code",
   "execution_count": 71,
   "metadata": {
    "collapsed": false,
    "deletable": true,
    "editable": true
   },
   "outputs": [
    {
     "data": {
      "text/html": [
       "<div>\n",
       "<table border=\"1\" class=\"dataframe\">\n",
       "  <thead>\n",
       "    <tr style=\"text-align: right;\">\n",
       "      <th></th>\n",
       "      <th>ptl_idx</th>\n",
       "      <th>pre_spk_num</th>\n",
       "      <th>pre_spk_freq</th>\n",
       "      <th>post_spk_num</th>\n",
       "      <th>post_spk_freq</th>\n",
       "      <th>ptl_occ</th>\n",
       "      <th>ptl_freq</th>\n",
       "      <th>dt1</th>\n",
       "      <th>dt2</th>\n",
       "      <th>dt3</th>\n",
       "      <th>dw_mean</th>\n",
       "      <th>dw_ste</th>\n",
       "      <th>train_len</th>\n",
       "    </tr>\n",
       "  </thead>\n",
       "  <tbody>\n",
       "    <tr>\n",
       "      <th>0</th>\n",
       "      <td>1</td>\n",
       "      <td>1</td>\n",
       "      <td>0</td>\n",
       "      <td>1</td>\n",
       "      <td>0</td>\n",
       "      <td>60</td>\n",
       "      <td>1.0</td>\n",
       "      <td>-102.898046</td>\n",
       "      <td>0.0</td>\n",
       "      <td>0</td>\n",
       "      <td>-1.322590</td>\n",
       "      <td>0.0</td>\n",
       "      <td>60.0</td>\n",
       "    </tr>\n",
       "    <tr>\n",
       "      <th>1</th>\n",
       "      <td>1</td>\n",
       "      <td>1</td>\n",
       "      <td>0</td>\n",
       "      <td>1</td>\n",
       "      <td>0</td>\n",
       "      <td>60</td>\n",
       "      <td>1.0</td>\n",
       "      <td>-75.579896</td>\n",
       "      <td>0.0</td>\n",
       "      <td>0</td>\n",
       "      <td>2.674768</td>\n",
       "      <td>0.0</td>\n",
       "      <td>60.0</td>\n",
       "    </tr>\n",
       "    <tr>\n",
       "      <th>2</th>\n",
       "      <td>1</td>\n",
       "      <td>1</td>\n",
       "      <td>0</td>\n",
       "      <td>1</td>\n",
       "      <td>0</td>\n",
       "      <td>60</td>\n",
       "      <td>1.0</td>\n",
       "      <td>-80.871473</td>\n",
       "      <td>0.0</td>\n",
       "      <td>0</td>\n",
       "      <td>-12.696449</td>\n",
       "      <td>0.0</td>\n",
       "      <td>60.0</td>\n",
       "    </tr>\n",
       "    <tr>\n",
       "      <th>3</th>\n",
       "      <td>1</td>\n",
       "      <td>1</td>\n",
       "      <td>0</td>\n",
       "      <td>1</td>\n",
       "      <td>0</td>\n",
       "      <td>60</td>\n",
       "      <td>1.0</td>\n",
       "      <td>-67.562239</td>\n",
       "      <td>0.0</td>\n",
       "      <td>0</td>\n",
       "      <td>0.231446</td>\n",
       "      <td>0.0</td>\n",
       "      <td>60.0</td>\n",
       "    </tr>\n",
       "    <tr>\n",
       "      <th>4</th>\n",
       "      <td>1</td>\n",
       "      <td>1</td>\n",
       "      <td>0</td>\n",
       "      <td>1</td>\n",
       "      <td>0</td>\n",
       "      <td>60</td>\n",
       "      <td>1.0</td>\n",
       "      <td>-63.553410</td>\n",
       "      <td>0.0</td>\n",
       "      <td>0</td>\n",
       "      <td>-0.990216</td>\n",
       "      <td>0.0</td>\n",
       "      <td>60.0</td>\n",
       "    </tr>\n",
       "  </tbody>\n",
       "</table>\n",
       "</div>"
      ],
      "text/plain": [
       "   ptl_idx  pre_spk_num  pre_spk_freq  post_spk_num  post_spk_freq  ptl_occ  \\\n",
       "0        1            1             0             1              0       60   \n",
       "1        1            1             0             1              0       60   \n",
       "2        1            1             0             1              0       60   \n",
       "3        1            1             0             1              0       60   \n",
       "4        1            1             0             1              0       60   \n",
       "\n",
       "   ptl_freq         dt1  dt2  dt3    dw_mean  dw_ste  train_len  \n",
       "0       1.0 -102.898046  0.0    0  -1.322590     0.0       60.0  \n",
       "1       1.0  -75.579896  0.0    0   2.674768     0.0       60.0  \n",
       "2       1.0  -80.871473  0.0    0 -12.696449     0.0       60.0  \n",
       "3       1.0  -67.562239  0.0    0   0.231446     0.0       60.0  \n",
       "4       1.0  -63.553410  0.0    0  -0.990216     0.0       60.0  "
      ]
     },
     "execution_count": 71,
     "metadata": {},
     "output_type": "execute_result"
    }
   ],
   "source": [
    "data['train_len'] = data['ptl_occ'] / data['ptl_freq']\n",
    "data.head()"
   ]
  },
  {
   "cell_type": "code",
   "execution_count": 72,
   "metadata": {
    "collapsed": true,
    "deletable": true,
    "editable": true
   },
   "outputs": [],
   "source": [
    "test_data = data[data['ptl_idx']==1]"
   ]
  },
  {
   "cell_type": "code",
   "execution_count": 73,
   "metadata": {
    "collapsed": false,
    "deletable": true,
    "editable": true
   },
   "outputs": [
    {
     "data": {
      "text/plain": [
       "<matplotlib.axes._subplots.AxesSubplot at 0x7f9cdcf80898>"
      ]
     },
     "execution_count": 73,
     "metadata": {},
     "output_type": "execute_result"
    },
    {
     "name": "stderr",
     "output_type": "stream",
     "text": [
      "/usr/local/lib/python3.5/dist-packages/matplotlib/font_manager.py:1297: UserWarning: findfont: Font family ['sans-serif'] not found. Falling back to DejaVu Sans\n",
      "  (prop.get_family(), self.defaultFamily[fontext]))\n"
     ]
    },
    {
     "data": {
      "image/png": "[encoded data removed]",
      "text/plain": [
       "<matplotlib.figure.Figure at 0x7f9c88133470>"
      ]
     },
     "metadata": {},
     "output_type": "display_data"
    }
   ],
   "source": [
    "test_data['dt1'].hist(bins=50)"
   ]
  },
  {
   "cell_type": "code",
   "execution_count": 74,
   "metadata": {
    "collapsed": false,
    "deletable": true,
    "editable": true
   },
   "outputs": [
    {
     "data": {
      "text/plain": [
       "<matplotlib.legend.Legend at 0x7f9d12186fd0>"
      ]
     },
     "execution_count": 74,
     "metadata": {},
     "output_type": "execute_result"
    },
    {
     "name": "stderr",
     "output_type": "stream",
     "text": [
      "/usr/local/lib/python3.5/dist-packages/matplotlib/font_manager.py:1297: UserWarning: findfont: Font family ['sans-serif'] not found. Falling back to DejaVu Sans\n",
      "  (prop.get_family(), self.defaultFamily[fontext]))\n"
     ]
    },
    {
     "data": {
      "image/png": "[encoded data removed]",
      "text/plain": [
       "<matplotlib.figure.Figure at 0x7f9d1219dda0>"
      ]
     },
     "metadata": {},
     "output_type": "display_data"
    }
   ],
   "source": [
    "# Visualize kernel\n",
    "from modelval.kernel import KernelGen\n",
    "ker_test = KernelGen(scale_left=0.5, scale_right=1, tau_left=40, tau_right=20)\n",
    "plt.plot(ker_test.dot_ker, label='ker_pre')\n",
    "plt.plot(ker_test.bilat_ker, label='ker_post')\n",
    "plt.legend()"
   ]
  },
  {
   "cell_type": "code",
   "execution_count": 75,
   "metadata": {
    "collapsed": true,
    "deletable": true,
    "editable": true
   },
   "outputs": [],
   "source": [
    "# # Combine the 3 training sets and targets to generate the new training and targets\n",
    "\n",
    "# input_3_ptl = []\n",
    "# target_3_ptl = []\n",
    "\n",
    "# # input_stdp =np.load('/data/STDP_toy_input.npy')\n",
    "# # input_3_ptl.append(input_stdp)\n",
    "# # target_stdp = np.load('/data/STDP_toy_target.npy')\n",
    "# # target_3_ptl.append(target_stdp)\n",
    "# input_triplet = np.load('/data/Triplet_toy_input.npy')\n",
    "# input_3_ptl.append(input_triplet)\n",
    "# target_triplet = np.load('/data/Triplet_toy_target.npy')\n",
    "# target_3_ptl.append(target_triplet)\n",
    "# input_quad = np.load('/data/Quad_toy_input.npy')\n",
    "# input_3_ptl.append(input_quad)\n",
    "# target_quad = np.load('/data/Quad_toy_target.npy')\n",
    "# target_3_ptl.append(target_quad)\n",
    "\n",
    "# spk_pairs = np.vstack(input_3_ptl)\n",
    "# # targets = np.vstack(target_3_ptl)"
   ]
  },
  {
   "cell_type": "code",
   "execution_count": 76,
   "metadata": {
    "collapsed": false,
    "deletable": true,
    "editable": true
   },
   "outputs": [],
   "source": [
    "# Generate data\n",
    "ptl_list = [2,3,4]\n",
    "spk_len = int(data[data['ptl_idx'].isin(ptl_list)]['train_len'].max() * 1000 / ker_test.reso_kernel)\n",
    "spk_pairs, targets = arb_w_gen(df=data, ptl_list=ptl_list, spk_len=spk_len, kernel=ker_test, aug_times=10)\n",
    "# spk_pairs, targets = arb_w_gen(spk_pairs=spk_pairs, kernel=ker_test)"
   ]
  },
  {
   "cell_type": "code",
   "execution_count": 77,
   "metadata": {
    "collapsed": false,
    "deletable": true,
    "editable": true
   },
   "outputs": [],
   "source": [
    "# Create the network\n",
    "ground_truth_init = 0\n",
    "toy_data_net = network.PairNet(kernel=ker_test, kernel_pre=ker_test.dot_ker, kernel_post=ker_test.bilat_ker, ground_truth_init=ground_truth_init, n_input=spk_pairs.shape[1])"
   ]
  },
  {
   "cell_type": "code",
   "execution_count": 78,
   "metadata": {
    "collapsed": false,
    "deletable": true,
    "editable": true
   },
   "outputs": [],
   "source": [
    "# Create the trainer\n",
    "save_dir= '/src/Plasticity_Ker/model/PairNet_ptl2-4_toy_old'\n",
    "toy_net_trainer = trainer.Trainer(toy_data_net.loss, input_name=toy_data_net.inputs, target_name=toy_data_net.target, save_dir=save_dir, optimizer_config={'learning_rate': toy_data_net.lr})"
   ]
  },
  {
   "cell_type": "code",
   "execution_count": 79,
   "metadata": {
    "collapsed": false,
    "deletable": true,
    "editable": true
   },
   "outputs": [],
   "source": [
    "# Obtain the training and validation data\n",
    "from sklearn.model_selection import train_test_split\n",
    "\n",
    "X_train, X_vali, y_train, y_vali = train_test_split(spk_pairs, targets)\n",
    "train_data = dataset.Dataset(X_train, y_train)\n",
    "vali_data = dataset.Dataset(X_vali, y_vali)"
   ]
  },
  {
   "cell_type": "code",
   "execution_count": 80,
   "metadata": {
    "collapsed": false,
    "deletable": true,
    "editable": true
   },
   "outputs": [
    {
     "data": {
      "text/plain": [
       "0.0"
      ]
     },
     "execution_count": 80,
     "metadata": {},
     "output_type": "execute_result"
    },
    {
     "name": "stderr",
     "output_type": "stream",
     "text": [
      "/usr/local/lib/python3.5/dist-packages/matplotlib/font_manager.py:1297: UserWarning: findfont: Font family ['sans-serif'] not found. Falling back to DejaVu Sans\n",
      "  (prop.get_family(), self.defaultFamily[fontext]))\n"
     ]
    },
    {
     "data": {
      "image/png": "[encoded data removed]",
      "text/plain": [
       "<matplotlib.figure.Figure at 0x7f9d11e605f8>"
      ]
     },
     "metadata": {},
     "output_type": "display_data"
    }
   ],
   "source": [
    "w_pre = toy_net_trainer.evaluate(ops=toy_data_net.kernel_pre)\n",
    "w_post = toy_net_trainer.evaluate(ops=toy_data_net.kernel_post)\n",
    "plt.plot(w_pre, label='ker_pre_init')\n",
    "plt.plot(w_post, label='ker_post_init')\n",
    "bias = toy_net_trainer.evaluate(ops=toy_data_net.bias)\n",
    "plt.legend()\n",
    "bias"
   ]
  },
  {
   "cell_type": "code",
   "execution_count": null,
   "metadata": {
    "collapsed": false,
    "deletable": true,
    "editable": true,
    "scrolled": true
   },
   "outputs": [
    {
     "name": "stdout",
     "output_type": "stream",
     "text": [
      "\n",
      "Initial validation cost=536.99316\n",
      "Global Step 0150 and Step 0150: validation cost=73.49900\n",
      "Updated min validation loss!Saving model...\n",
      "Global Step 0200 and Step 0200: validation cost=54.71394\n",
      "Updated min validation loss!Saving model...\n",
      "Global Step 0250 and Step 0250: validation cost=52.18322\n",
      "Updated min validation loss!Saving model...\n",
      "Global Step 0300 and Step 0300: validation cost=37.09847\n",
      "Updated min validation loss!Saving model...\n",
      "Global Step 0350 and Step 0350: validation cost=41.69559\n",
      "Global Step 0400 and Step 0400: validation cost=31.96295\n",
      "Updated min validation loss!Saving model...\n",
      "Global Step 0450 and Step 0450: validation cost=30.11923\n",
      "Updated min validation loss!Saving model...\n",
      "Global Step 0500 and Step 0500: validation cost=29.97068\n",
      "Updated min validation loss!Saving model...\n",
      "Global Step 0550 and Step 0550: validation cost=27.20436\n",
      "Updated min validation loss!Saving model...\n",
      "Global Step 0600 and Step 0600: validation cost=24.49210\n",
      "Updated min validation loss!Saving model...\n",
      "Global Step 0650 and Step 0650: validation cost=18.28967\n",
      "Updated min validation loss!Saving model...\n",
      "Global Step 0700 and Step 0700: validation cost=22.32636\n",
      "Global Step 0750 and Step 0750: validation cost=22.37379\n",
      "Global Step 0800 and Step 0800: validation cost=19.72655\n",
      "Global Step 0850 and Step 0850: validation cost=18.07536\n",
      "Updated min validation loss!Saving model...\n",
      "Global Step 0900 and Step 0900: validation cost=16.83295\n",
      "Updated min validation loss!Saving model...\n",
      "Global Step 0950 and Step 0950: validation cost=18.32349\n",
      "Global Step 1000 and Step 1000: validation cost=16.04390\n",
      "Updated min validation loss!Saving model...\n",
      "Global Step 1050 and Step 1050: validation cost=17.05574\n",
      "Global Step 1100 and Step 1100: validation cost=13.66630\n",
      "Updated min validation loss!Saving model...\n",
      "Global Step 1150 and Step 1150: validation cost=14.66630\n",
      "Global Step 1200 and Step 1200: validation cost=14.15520\n",
      "Global Step 1250 and Step 1250: validation cost=13.26919\n",
      "Updated min validation loss!Saving model...\n",
      "Global Step 1300 and Step 1300: validation cost=10.96022\n",
      "Updated min validation loss!Saving model...\n",
      "Global Step 1350 and Step 1350: validation cost=9.99934\n",
      "Updated min validation loss!Saving model...\n",
      "Global Step 1400 and Step 1400: validation cost=10.89918\n",
      "Global Step 1450 and Step 1450: validation cost=10.91275\n",
      "Global Step 1500 and Step 1500: validation cost=8.12871\n",
      "Updated min validation loss!Saving model...\n",
      "Global Step 1550 and Step 1550: validation cost=9.04533\n",
      "Global Step 1600 and Step 1600: validation cost=8.83642\n",
      "Global Step 1650 and Step 1650: validation cost=7.47540\n",
      "Updated min validation loss!Saving model...\n",
      "Global Step 1700 and Step 1700: validation cost=7.04552\n",
      "Updated min validation loss!Saving model...\n",
      "Global Step 1750 and Step 1750: validation cost=7.36221\n",
      "Global Step 1800 and Step 1800: validation cost=7.33446\n",
      "Global Step 1850 and Step 1850: validation cost=6.28205\n",
      "Updated min validation loss!Saving model...\n",
      "Global Step 1900 and Step 1900: validation cost=6.90107\n",
      "Global Step 1950 and Step 1950: validation cost=5.61857\n",
      "Updated min validation loss!Saving model...\n",
      "Global Step 2000 and Step 2000: validation cost=6.06836\n",
      "Global Step 2050 and Step 2050: validation cost=5.63987\n",
      "Global Step 2100 and Step 2100: validation cost=5.27657\n",
      "Updated min validation loss!Saving model...\n",
      "Global Step 2150 and Step 2150: validation cost=4.73288\n",
      "Updated min validation loss!Saving model...\n",
      "Global Step 2200 and Step 2200: validation cost=4.99364\n",
      "Global Step 2250 and Step 2250: validation cost=3.72612\n",
      "Updated min validation loss!Saving model...\n",
      "Global Step 2300 and Step 2300: validation cost=3.92951\n",
      "Global Step 2350 and Step 2350: validation cost=3.54350\n",
      "Updated min validation loss!Saving model...\n",
      "Global Step 2400 and Step 2400: validation cost=3.97466\n",
      "Global Step 2450 and Step 2450: validation cost=3.98392\n",
      "Global Step 2500 and Step 2500: validation cost=3.97652\n",
      "Global Step 2550 and Step 2550: validation cost=3.71618\n",
      "Global Step 2600 and Step 2600: validation cost=2.81705\n",
      "Updated min validation loss!Saving model...\n",
      "Global Step 2650 and Step 2650: validation cost=2.65492\n",
      "Updated min validation loss!Saving model...\n",
      "Global Step 2700 and Step 2700: validation cost=2.86110\n",
      "Global Step 2750 and Step 2750: validation cost=2.95300\n",
      "Global Step 2800 and Step 2800: validation cost=2.79899\n",
      "Global Step 2850 and Step 2850: validation cost=2.26322\n",
      "Updated min validation loss!Saving model...\n",
      "Global Step 2900 and Step 2900: validation cost=2.38893\n",
      "Global Step 2950 and Step 2950: validation cost=2.21880\n",
      "Updated min validation loss!Saving model...\n",
      "Global Step 3000 and Step 3000: validation cost=2.29053\n",
      "Global Step 3050 and Step 3050: validation cost=2.13272\n",
      "Updated min validation loss!Saving model...\n",
      "Global Step 3100 and Step 3100: validation cost=1.81925\n",
      "Updated min validation loss!Saving model...\n",
      "Global Step 3150 and Step 3150: validation cost=1.85497\n",
      "Global Step 3200 and Step 3200: validation cost=1.86219\n",
      "Global Step 3250 and Step 3250: validation cost=1.48306\n",
      "Updated min validation loss!Saving model...\n",
      "Global Step 3300 and Step 3300: validation cost=1.69507\n",
      "Global Step 3350 and Step 3350: validation cost=1.50647\n",
      "Global Step 3400 and Step 3400: validation cost=1.64387\n",
      "Global Step 3450 and Step 3450: validation cost=1.36106\n",
      "Updated min validation loss!Saving model...\n",
      "Global Step 3500 and Step 3500: validation cost=1.66948\n",
      "Global Step 3550 and Step 3550: validation cost=1.43778\n",
      "Global Step 3600 and Step 3600: validation cost=1.69522\n",
      "Global Step 3650 and Step 3650: validation cost=1.35628\n",
      "Updated min validation loss!Saving model...\n",
      "Global Step 3700 and Step 3700: validation cost=1.28830\n",
      "Updated min validation loss!Saving model...\n",
      "Global Step 3750 and Step 3750: validation cost=1.24530\n",
      "Updated min validation loss!Saving model...\n",
      "Global Step 3800 and Step 3800: validation cost=1.41003\n",
      "Global Step 3850 and Step 3850: validation cost=1.22198\n",
      "Updated min validation loss!Saving model...\n",
      "Global Step 3900 and Step 3900: validation cost=1.25498\n",
      "Global Step 3950 and Step 3950: validation cost=1.45995\n",
      "Global Step 4000 and Step 4000: validation cost=1.15006\n",
      "Updated min validation loss!Saving model...\n",
      "Global Step 4050 and Step 4050: validation cost=1.40562\n",
      "Global Step 4100 and Step 4100: validation cost=0.99540\n",
      "Updated min validation loss!Saving model...\n",
      "Global Step 4150 and Step 4150: validation cost=1.37566\n",
      "Global Step 4200 and Step 4200: validation cost=0.99104\n",
      "Updated min validation loss!Saving model...\n",
      "Global Step 4250 and Step 4250: validation cost=1.14914\n",
      "Global Step 4300 and Step 4300: validation cost=1.09373\n",
      "Global Step 4350 and Step 4350: validation cost=1.13187\n",
      "Global Step 4400 and Step 4400: validation cost=1.06886\n",
      "Global Step 4450 and Step 4450: validation cost=1.06540\n",
      "Global Step 4500 and Step 4500: validation cost=1.03969\n",
      "Global Step 4550 and Step 4550: validation cost=1.21580\n",
      "Global Step 4600 and Step 4600: validation cost=1.30941\n",
      "Global Step 4650 and Step 4650: validation cost=0.91784\n",
      "Updated min validation loss!Saving model...\n",
      "Global Step 4700 and Step 4700: validation cost=1.05992\n",
      "Global Step 4750 and Step 4750: validation cost=1.14070\n",
      "Global Step 4800 and Step 4800: validation cost=1.13327\n",
      "Global Step 4850 and Step 4850: validation cost=0.90217\n",
      "Updated min validation loss!Saving model...\n",
      "Global Step 4900 and Step 4900: validation cost=0.93173\n",
      "Global Step 4950 and Step 4950: validation cost=0.97150\n",
      "Global Step 5000 and Step 5000: validation cost=0.94456\n",
      "Global Step 5050 and Step 5050: validation cost=0.97316\n",
      "Global Step 5100 and Step 5100: validation cost=1.05107\n",
      "Global Step 5150 and Step 5150: validation cost=0.89324\n",
      "Updated min validation loss!Saving model...\n",
      "Global Step 5200 and Step 5200: validation cost=0.74039\n",
      "Updated min validation loss!Saving model...\n",
      "Global Step 5250 and Step 5250: validation cost=0.77502\n",
      "Global Step 5300 and Step 5300: validation cost=0.82617\n",
      "Global Step 5350 and Step 5350: validation cost=1.02984\n",
      "Global Step 5400 and Step 5400: validation cost=0.87231\n",
      "Global Step 5450 and Step 5450: validation cost=0.83759\n"
     ]
    }
   ],
   "source": [
    "# Learn the kernel from random initialization\n",
    "learning_rate = 0.001\n",
    "iterations = 5\n",
    "min_error = -1\n",
    "for i in range(iterations):\n",
    "    toy_net_trainer.train(train_data, vali_data, batch_size=128, min_error=min_error, feed_dict={toy_data_net.lr: learning_rate})\n",
    "    learning_rate = learning_rate/3"
   ]
  },
  {
   "cell_type": "code",
   "execution_count": 57,
   "metadata": {
    "collapsed": false,
    "deletable": true,
    "editable": true
   },
   "outputs": [
    {
     "name": "stdout",
     "output_type": "stream",
     "text": [
      "bias = 0.2126220315694809\n"
     ]
    },
    {
     "name": "stderr",
     "output_type": "stream",
     "text": [
      "/usr/local/lib/python3.5/dist-packages/matplotlib/font_manager.py:1297: UserWarning: findfont: Font family ['sans-serif'] not found. Falling back to DejaVu Sans\n",
      "  (prop.get_family(), self.defaultFamily[fontext]))\n"
     ]
    },
    {
     "data": {
      "image/png": "[encoded data removed]",
      "text/plain": [
       "<matplotlib.figure.Figure at 0x7f9cdcfe7f60>"
      ]
     },
     "metadata": {},
     "output_type": "display_data"
    }
   ],
   "source": [
    "toy_net_trainer.restore_best()\n",
    "w_pre = toy_net_trainer.evaluate(ops=toy_data_net.kernel_pre)\n",
    "w_post = toy_net_trainer.evaluate(ops=toy_data_net.kernel_post)\n",
    "plt.plot(np.linspace(0,50,51)*2 - 50, w_pre,  label='ker_pre_trained')\n",
    "plt.plot(np.linspace(0,50,51)*2 - 50, w_post,  label='ker_post_trained')\n",
    "bias = toy_net_trainer.evaluate(ops=toy_data_net.bias)\n",
    "plt.legend()\n",
    "print(\"bias = {bias}\".format(bias=bias))"
   ]
  },
  {
   "cell_type": "code",
   "execution_count": null,
   "metadata": {
    "collapsed": true
   },
   "outputs": [],
   "source": []
  }
 ],
 "metadata": {
  "kernelspec": {
   "display_name": "Python 3",
   "language": "python",
   "name": "python3"
  },
  "language_info": {
   "codemirror_mode": {
    "name": "ipython",
    "version": 3
   },
   "file_extension": ".py",
   "mimetype": "text/x-python",
   "name": "python",
   "nbconvert_exporter": "python",
   "pygments_lexer": "ipython3",
   "version": "3.5.2"
  }
 },
 "nbformat": 4,
 "nbformat_minor": 2
}

{
 "cells": [
  {
   "cell_type": "markdown",
   "metadata": {
    "deletable": true,
    "editable": true
   },
   "source": [
    "Train validation data with convnet"
   ]
  },
  {
   "cell_type": "code",
   "execution_count": 36,
   "metadata": {
    "collapsed": false,
    "deletable": true,
    "editable": true
   },
   "outputs": [
    {
     "name": "stdout",
     "output_type": "stream",
     "text": [
      "The autoreload extension is already loaded. To reload it, use:\n",
      "  %reload_ext autoreload\n"
     ]
    }
   ],
   "source": [
    "import numpy as np\n",
    "import pandas as pd\n",
    "import matplotlib.pyplot as plt\n",
    "import seaborn as sns\n",
    "import tensorflow as tf\n",
    "from modelval import pairptl, network, trainer, dataset\n",
    "from modelval.ArbDataGen import arb_w_gen\n",
    "\n",
    "% matplotlib inline\n",
    "%load_ext autoreload\n",
    "    \n",
    "%autoreload 2"
   ]
  },
  {
   "cell_type": "code",
   "execution_count": 37,
   "metadata": {
    "collapsed": false,
    "deletable": true,
    "editable": true
   },
   "outputs": [],
   "source": [
    "# Load data frame\n",
    "data = pd.read_csv('/src/Plasticity_Ker/data/kernel_training_data_auto.csv')"
   ]
  },
  {
   "cell_type": "code",
   "execution_count": 38,
   "metadata": {
    "collapsed": false,
    "deletable": true,
    "editable": true
   },
   "outputs": [
    {
     "data": {
      "text/html": [
       "<div>\n",
       "<table border=\"1\" class=\"dataframe\">\n",
       "  <thead>\n",
       "    <tr style=\"text-align: right;\">\n",
       "      <th></th>\n",
       "      <th>ptl_idx</th>\n",
       "      <th>pre_spk_num</th>\n",
       "      <th>pre_spk_freq</th>\n",
       "      <th>post_spk_num</th>\n",
       "      <th>post_spk_freq</th>\n",
       "      <th>ptl_occ</th>\n",
       "      <th>ptl_freq</th>\n",
       "      <th>dt1</th>\n",
       "      <th>dt2</th>\n",
       "      <th>dt3</th>\n",
       "      <th>dw_mean</th>\n",
       "      <th>dw_ste</th>\n",
       "    </tr>\n",
       "  </thead>\n",
       "  <tbody>\n",
       "    <tr>\n",
       "      <th>0</th>\n",
       "      <td>1</td>\n",
       "      <td>1</td>\n",
       "      <td>0</td>\n",
       "      <td>1</td>\n",
       "      <td>0</td>\n",
       "      <td>60</td>\n",
       "      <td>1.0</td>\n",
       "      <td>-102.898046</td>\n",
       "      <td>0.0</td>\n",
       "      <td>0</td>\n",
       "      <td>-1.322590</td>\n",
       "      <td>0.0</td>\n",
       "    </tr>\n",
       "    <tr>\n",
       "      <th>1</th>\n",
       "      <td>1</td>\n",
       "      <td>1</td>\n",
       "      <td>0</td>\n",
       "      <td>1</td>\n",
       "      <td>0</td>\n",
       "      <td>60</td>\n",
       "      <td>1.0</td>\n",
       "      <td>-75.579896</td>\n",
       "      <td>0.0</td>\n",
       "      <td>0</td>\n",
       "      <td>2.674768</td>\n",
       "      <td>0.0</td>\n",
       "    </tr>\n",
       "    <tr>\n",
       "      <th>2</th>\n",
       "      <td>1</td>\n",
       "      <td>1</td>\n",
       "      <td>0</td>\n",
       "      <td>1</td>\n",
       "      <td>0</td>\n",
       "      <td>60</td>\n",
       "      <td>1.0</td>\n",
       "      <td>-80.871473</td>\n",
       "      <td>0.0</td>\n",
       "      <td>0</td>\n",
       "      <td>-12.696449</td>\n",
       "      <td>0.0</td>\n",
       "    </tr>\n",
       "    <tr>\n",
       "      <th>3</th>\n",
       "      <td>1</td>\n",
       "      <td>1</td>\n",
       "      <td>0</td>\n",
       "      <td>1</td>\n",
       "      <td>0</td>\n",
       "      <td>60</td>\n",
       "      <td>1.0</td>\n",
       "      <td>-67.562239</td>\n",
       "      <td>0.0</td>\n",
       "      <td>0</td>\n",
       "      <td>0.231446</td>\n",
       "      <td>0.0</td>\n",
       "    </tr>\n",
       "    <tr>\n",
       "      <th>4</th>\n",
       "      <td>1</td>\n",
       "      <td>1</td>\n",
       "      <td>0</td>\n",
       "      <td>1</td>\n",
       "      <td>0</td>\n",
       "      <td>60</td>\n",
       "      <td>1.0</td>\n",
       "      <td>-63.553410</td>\n",
       "      <td>0.0</td>\n",
       "      <td>0</td>\n",
       "      <td>-0.990216</td>\n",
       "      <td>0.0</td>\n",
       "    </tr>\n",
       "  </tbody>\n",
       "</table>\n",
       "</div>"
      ],
      "text/plain": [
       "   ptl_idx  pre_spk_num  pre_spk_freq  post_spk_num  post_spk_freq  ptl_occ  \\\n",
       "0        1            1             0             1              0       60   \n",
       "1        1            1             0             1              0       60   \n",
       "2        1            1             0             1              0       60   \n",
       "3        1            1             0             1              0       60   \n",
       "4        1            1             0             1              0       60   \n",
       "\n",
       "   ptl_freq         dt1  dt2  dt3    dw_mean  dw_ste  \n",
       "0       1.0 -102.898046  0.0    0  -1.322590     0.0  \n",
       "1       1.0  -75.579896  0.0    0   2.674768     0.0  \n",
       "2       1.0  -80.871473  0.0    0 -12.696449     0.0  \n",
       "3       1.0  -67.562239  0.0    0   0.231446     0.0  \n",
       "4       1.0  -63.553410  0.0    0  -0.990216     0.0  "
      ]
     },
     "execution_count": 38,
     "metadata": {},
     "output_type": "execute_result"
    }
   ],
   "source": [
    "data[data['ptl_idx']==1].head()"
   ]
  },
  {
   "cell_type": "code",
   "execution_count": 39,
   "metadata": {
    "collapsed": true,
    "deletable": true,
    "editable": true
   },
   "outputs": [],
   "source": [
    "test_data = data[data['ptl_idx']==1]"
   ]
  },
  {
   "cell_type": "code",
   "execution_count": 40,
   "metadata": {
    "collapsed": false,
    "deletable": true,
    "editable": true
   },
   "outputs": [
    {
     "data": {
      "text/plain": [
       "<matplotlib.axes._subplots.AxesSubplot at 0x7f2eb00a8c88>"
      ]
     },
     "execution_count": 40,
     "metadata": {},
     "output_type": "execute_result"
    },
    {
     "name": "stderr",
     "output_type": "stream",
     "text": [
      "/usr/local/lib/python3.5/dist-packages/matplotlib/font_manager.py:1297: UserWarning: findfont: Font family ['sans-serif'] not found. Falling back to DejaVu Sans\n",
      "  (prop.get_family(), self.defaultFamily[fontext]))\n"
     ]
    },
    {
     "data": {
      "image/png": "[encoded data removed]",
      "text/plain": [
       "<matplotlib.figure.Figure at 0x7f2ec746f160>"
      ]
     },
     "metadata": {},
     "output_type": "display_data"
    }
   ],
   "source": [
    "test_data['dt1'].hist()"
   ]
  },
  {
   "cell_type": "code",
   "execution_count": 41,
   "metadata": {
    "collapsed": false,
    "deletable": true,
    "editable": true
   },
   "outputs": [
    {
     "data": {
      "text/plain": [
       "<matplotlib.legend.Legend at 0x7f2ea2da66d8>"
      ]
     },
     "execution_count": 41,
     "metadata": {},
     "output_type": "execute_result"
    },
    {
     "name": "stderr",
     "output_type": "stream",
     "text": [
      "/usr/local/lib/python3.5/dist-packages/matplotlib/font_manager.py:1297: UserWarning: findfont: Font family ['sans-serif'] not found. Falling back to DejaVu Sans\n",
      "  (prop.get_family(), self.defaultFamily[fontext]))\n"
     ]
    },
    {
     "data": {
      "image/png": "[encoded data removed]",
      "text/plain": [
       "<matplotlib.figure.Figure at 0x7f2e381aba58>"
      ]
     },
     "metadata": {},
     "output_type": "display_data"
    }
   ],
   "source": [
    "# Visualize kernel\n",
    "from modelval.kernel import KernelGen\n",
    "ker_test = KernelGen()\n",
    "plt.plot(ker_test.dot_ker, label='ker_pre')\n",
    "plt.plot(ker_test.bilat_ker, label='ker_post')\n",
    "plt.legend()"
   ]
  },
  {
   "cell_type": "code",
   "execution_count": 42,
   "metadata": {
    "collapsed": false,
    "deletable": true,
    "editable": true
   },
   "outputs": [],
   "source": [
    "# Generate data\n",
    "spk_pairs, targets = arb_w_gen(df=data, ptl_list=[1], kernel=ker_test, spk_len=60000, aug_times=10)"
   ]
  },
  {
   "cell_type": "code",
   "execution_count": 43,
   "metadata": {
    "collapsed": false,
    "deletable": true,
    "editable": true
   },
   "outputs": [],
   "source": [
    "# Create the network\n",
    "ground_truth_init = 0\n",
    "toy_data_net = network.PairNet(kernel=ker_test, kernel_pre=ker_test.dot_ker, kernel_post=ker_test.bilat_ker, ground_truth_init=ground_truth_init, n_input=spk_pairs.shape[1])"
   ]
  },
  {
   "cell_type": "code",
   "execution_count": 44,
   "metadata": {
    "collapsed": false,
    "deletable": true,
    "editable": true
   },
   "outputs": [],
   "source": [
    "# Create the trainer\n",
    "toy_net_trainer = trainer.Trainer(toy_data_net.loss, input_name=toy_data_net.inputs, target_name=toy_data_net.target, save_dir='/src/Plasticity_Ker/model',  optimizer_config={'learning_rate': toy_data_net.lr})"
   ]
  },
  {
   "cell_type": "code",
   "execution_count": 45,
   "metadata": {
    "collapsed": false,
    "deletable": true,
    "editable": true
   },
   "outputs": [],
   "source": [
    "# Obtain the training and validation data\n",
    "from sklearn.model_selection import train_test_split\n",
    "\n",
    "X_train, X_vali, y_train, y_vali = train_test_split(spk_pairs, targets, test_size=0.1)\n",
    "train_data = dataset.Dataset(X_train, y_train)\n",
    "vali_data = dataset.Dataset(X_vali, y_vali)"
   ]
  },
  {
   "cell_type": "code",
   "execution_count": 46,
   "metadata": {
    "collapsed": false,
    "deletable": true,
    "editable": true
   },
   "outputs": [
    {
     "data": {
      "text/plain": [
       "<matplotlib.legend.Legend at 0x7f2ec73c3cf8>"
      ]
     },
     "execution_count": 46,
     "metadata": {},
     "output_type": "execute_result"
    },
    {
     "name": "stderr",
     "output_type": "stream",
     "text": [
      "/usr/local/lib/python3.5/dist-packages/matplotlib/font_manager.py:1297: UserWarning: findfont: Font family ['sans-serif'] not found. Falling back to DejaVu Sans\n",
      "  (prop.get_family(), self.defaultFamily[fontext]))\n"
     ]
    },
    {
     "data": {
      "image/png": "[encoded data removed]",
      "text/plain": [
       "<matplotlib.figure.Figure at 0x7f2eafff0d30>"
      ]
     },
     "metadata": {},
     "output_type": "display_data"
    }
   ],
   "source": [
    "w_pre = toy_net_trainer.evaluate(ops=toy_data_net.kernel_pre)\n",
    "w_post = toy_net_trainer.evaluate(ops=toy_data_net.kernel_post)\n",
    "plt.plot(w_pre, label='ker_pre_init')\n",
    "plt.plot(w_post, label='ker_post_init')\n",
    "bias = toy_net_trainer.evaluate(ops=toy_data_net.bias)\n",
    "bias\n",
    "plt.legend()"
   ]
  },
  {
   "cell_type": "code",
   "execution_count": 34,
   "metadata": {
    "collapsed": false,
    "deletable": true,
    "editable": true
   },
   "outputs": [
    {
     "name": "stdout",
     "output_type": "stream",
     "text": [
      "\n",
      "Initial validation cost=1292.28027\n",
      "Global Step 0200 and Step 0200: validation cost=737.38513\n",
      "Updated min validation loss!Saving model...\n",
      "Global Step 0400 and Step 0400: validation cost=400.87634\n",
      "Updated min validation loss!Saving model...\n",
      "Global Step 0600 and Step 0600: validation cost=204.62497\n",
      "Updated min validation loss!Saving model...\n",
      "Global Step 0800 and Step 0800: validation cost=97.51956\n",
      "Updated min validation loss!Saving model...\n",
      "Global Step 1000 and Step 1000: validation cost=43.43357\n",
      "Updated min validation loss!Saving model...\n",
      "Global Step 1200 and Step 1200: validation cost=18.28487\n",
      "Updated min validation loss!Saving model...\n",
      "Global Step 1400 and Step 1400: validation cost=7.41582\n",
      "Updated min validation loss!Saving model...\n",
      "Global Step 1600 and Step 1600: validation cost=2.95286\n",
      "Updated min validation loss!Saving model...\n",
      "Global Step 1800 and Step 1800: validation cost=1.18707\n",
      "Updated min validation loss!Saving model...\n",
      "Global Step 2000 and Step 2000: validation cost=0.49919\n",
      "Updated min validation loss!Saving model...\n",
      "Global Step 2200 and Step 2200: validation cost=0.24109\n",
      "Updated min validation loss!Saving model...\n",
      "Global Step 2400 and Step 2400: validation cost=0.14994\n",
      "Updated min validation loss!Saving model...\n",
      "Global Step 2600 and Step 2600: validation cost=0.11887\n",
      "Updated min validation loss!Saving model...\n",
      "Global Step 2800 and Step 2800: validation cost=0.10730\n",
      "Updated min validation loss!Saving model...\n",
      "Global Step 3000 and Step 3000: validation cost=0.10050\n",
      "Updated min validation loss!Saving model...\n",
      "Global Step 3200 and Step 3200: validation cost=0.09424\n",
      "Updated min validation loss!Saving model...\n",
      "Global Step 3400 and Step 3400: validation cost=0.08883\n",
      "Updated min validation loss!Saving model...\n",
      "Global Step 3600 and Step 3600: validation cost=0.08303\n",
      "Updated min validation loss!Saving model...\n",
      "Global Step 3800 and Step 3800: validation cost=0.07714\n",
      "Updated min validation loss!Saving model...\n",
      "Global Step 4000 and Step 4000: validation cost=0.07162\n",
      "Updated min validation loss!Saving model...\n",
      "Global Step 4200 and Step 4200: validation cost=0.06655\n",
      "Updated min validation loss!Saving model...\n",
      "Global Step 4400 and Step 4400: validation cost=0.06100\n",
      "Updated min validation loss!Saving model...\n",
      "Global Step 4600 and Step 4600: validation cost=0.05626\n",
      "Updated min validation loss!Saving model...\n",
      "Global Step 4800 and Step 4800: validation cost=0.05149\n",
      "Updated min validation loss!Saving model...\n",
      "Global Step 5000 and Step 5000: validation cost=0.04708\n",
      "Updated min validation loss!Saving model...\n",
      "Global Step 5200 and Step 5200: validation cost=0.04286\n",
      "Updated min validation loss!Saving model...\n",
      "Global Step 5400 and Step 5400: validation cost=0.03934\n",
      "Updated min validation loss!Saving model...\n",
      "Global Step 5600 and Step 5600: validation cost=0.03574\n",
      "Updated min validation loss!Saving model...\n",
      "Global Step 5800 and Step 5800: validation cost=0.03250\n",
      "Updated min validation loss!Saving model...\n",
      "Global Step 6000 and Step 6000: validation cost=0.02955\n",
      "Updated min validation loss!Saving model...\n",
      "Global Step 6200 and Step 6200: validation cost=0.02697\n",
      "Updated min validation loss!Saving model...\n",
      "Global Step 6400 and Step 6400: validation cost=0.02483\n",
      "Updated min validation loss!Saving model...\n",
      "Global Step 6600 and Step 6600: validation cost=0.02291\n",
      "Updated min validation loss!Saving model...\n",
      "Global Step 6800 and Step 6800: validation cost=0.02132\n",
      "Updated min validation loss!Saving model...\n",
      "Global Step 7000 and Step 7000: validation cost=0.02011\n",
      "Updated min validation loss!Saving model...\n",
      "Global Step 7200 and Step 7200: validation cost=0.01903\n",
      "Updated min validation loss!Saving model...\n",
      "Global Step 7400 and Step 7400: validation cost=0.01799\n",
      "Updated min validation loss!Saving model...\n",
      "Global Step 7600 and Step 7600: validation cost=0.01710\n",
      "Updated min validation loss!Saving model...\n",
      "Global Step 7800 and Step 7800: validation cost=0.01638\n",
      "Updated min validation loss!Saving model...\n",
      "Global Step 8000 and Step 8000: validation cost=0.01570\n",
      "Updated min validation loss!Saving model...\n",
      "Global Step 8200 and Step 8200: validation cost=0.01463\n",
      "Updated min validation loss!Saving model...\n",
      "Global Step 8400 and Step 8400: validation cost=0.01420\n",
      "Updated min validation loss!Saving model...\n",
      "Global Step 8600 and Step 8600: validation cost=0.01314\n",
      "Updated min validation loss!Saving model...\n",
      "Global Step 8800 and Step 8800: validation cost=0.01258\n",
      "Updated min validation loss!Saving model...\n",
      "Global Step 9000 and Step 9000: validation cost=0.01159\n",
      "Updated min validation loss!Saving model...\n",
      "Global Step 9200 and Step 9200: validation cost=0.01084\n",
      "Updated min validation loss!Saving model...\n",
      "Global Step 9400 and Step 9400: validation cost=0.01023\n",
      "Updated min validation loss!Saving model...\n",
      "Global Step 9600 and Step 9600: validation cost=0.00940\n",
      "Updated min validation loss!Saving model...\n",
      "Global Step 9800 and Step 9800: validation cost=0.00830\n",
      "Updated min validation loss!Saving model...\n",
      "Restoring the best parameters...\n",
      "Global Step 10000 and Step 0001: validation cost=0.00826\n",
      "Updated min validation loss!Saving model...\n",
      "Global Step 10200 and Step 0201: validation cost=0.00807\n",
      "Updated min validation loss!Saving model...\n",
      "Global Step 10400 and Step 0401: validation cost=0.00780\n",
      "Updated min validation loss!Saving model...\n",
      "Global Step 10600 and Step 0601: validation cost=0.00750\n",
      "Updated min validation loss!Saving model...\n",
      "Global Step 10800 and Step 0801: validation cost=0.00717\n",
      "Updated min validation loss!Saving model...\n",
      "Global Step 11000 and Step 1001: validation cost=0.00690\n",
      "Updated min validation loss!Saving model...\n",
      "Global Step 11200 and Step 1201: validation cost=0.00647\n",
      "Updated min validation loss!Saving model...\n",
      "Global Step 11400 and Step 1401: validation cost=0.00621\n",
      "Updated min validation loss!Saving model...\n",
      "Global Step 11600 and Step 1601: validation cost=0.00594\n",
      "Updated min validation loss!Saving model...\n",
      "Global Step 11800 and Step 1801: validation cost=0.00563\n",
      "Updated min validation loss!Saving model...\n",
      "Global Step 12000 and Step 2001: validation cost=0.00517\n",
      "Updated min validation loss!Saving model...\n",
      "Global Step 12200 and Step 2201: validation cost=0.00486\n",
      "Updated min validation loss!Saving model...\n",
      "Global Step 12400 and Step 2401: validation cost=0.00450\n",
      "Updated min validation loss!Saving model...\n",
      "Global Step 12600 and Step 2601: validation cost=0.00432\n",
      "Updated min validation loss!Saving model...\n",
      "Global Step 12800 and Step 2801: validation cost=0.00395\n",
      "Updated min validation loss!Saving model...\n",
      "Global Step 13000 and Step 3001: validation cost=0.00370\n",
      "Updated min validation loss!Saving model...\n",
      "Global Step 13200 and Step 3201: validation cost=0.00339\n",
      "Updated min validation loss!Saving model...\n",
      "Global Step 13400 and Step 3401: validation cost=0.00308\n",
      "Updated min validation loss!Saving model...\n",
      "Global Step 13600 and Step 3601: validation cost=0.00290\n",
      "Updated min validation loss!Saving model...\n",
      "Global Step 13800 and Step 3801: validation cost=0.00270\n",
      "Updated min validation loss!Saving model...\n",
      "Global Step 14000 and Step 4001: validation cost=0.00252\n",
      "Updated min validation loss!Saving model...\n",
      "Global Step 14200 and Step 4201: validation cost=0.00227\n",
      "Updated min validation loss!Saving model...\n",
      "Global Step 14400 and Step 4401: validation cost=0.00212\n",
      "Updated min validation loss!Saving model...\n",
      "Global Step 14600 and Step 4601: validation cost=0.00200\n",
      "Updated min validation loss!Saving model...\n",
      "Global Step 14800 and Step 4801: validation cost=0.00184\n",
      "Updated min validation loss!Saving model...\n",
      "Global Step 15000 and Step 5001: validation cost=0.00171\n",
      "Updated min validation loss!Saving model...\n",
      "Global Step 15200 and Step 5201: validation cost=0.00160\n",
      "Updated min validation loss!Saving model...\n",
      "Global Step 15400 and Step 5401: validation cost=0.00152\n",
      "Updated min validation loss!Saving model...\n",
      "Global Step 15600 and Step 5601: validation cost=0.00137\n",
      "Updated min validation loss!Saving model...\n",
      "Global Step 15800 and Step 5801: validation cost=0.00129\n",
      "Updated min validation loss!Saving model...\n",
      "Global Step 16000 and Step 6001: validation cost=0.00119\n",
      "Updated min validation loss!Saving model...\n",
      "Global Step 16200 and Step 6201: validation cost=0.00113\n",
      "Updated min validation loss!Saving model...\n",
      "Global Step 16400 and Step 6401: validation cost=0.00105\n",
      "Updated min validation loss!Saving model...\n",
      "Global Step 16600 and Step 6601: validation cost=0.00104\n",
      "Updated min validation loss!Saving model...\n",
      "Global Step 16800 and Step 6801: validation cost=0.00088\n",
      "Updated min validation loss!Saving model...\n",
      "Global Step 17000 and Step 7001: validation cost=0.00082\n",
      "Updated min validation loss!Saving model...\n",
      "Global Step 17200 and Step 7201: validation cost=0.00078\n",
      "Updated min validation loss!Saving model...\n",
      "Global Step 17400 and Step 7401: validation cost=0.00073\n",
      "Updated min validation loss!Saving model...\n",
      "Global Step 17600 and Step 7601: validation cost=0.00067\n",
      "Updated min validation loss!Saving model...\n",
      "Global Step 17800 and Step 7801: validation cost=0.00064\n",
      "Updated min validation loss!Saving model...\n",
      "Global Step 18000 and Step 8001: validation cost=0.00059\n",
      "Updated min validation loss!Saving model...\n",
      "Global Step 18200 and Step 8201: validation cost=0.00050\n",
      "Updated min validation loss!Saving model...\n",
      "Global Step 18400 and Step 8401: validation cost=0.00046\n",
      "Updated min validation loss!Saving model...\n",
      "Global Step 18600 and Step 8601: validation cost=0.00042\n",
      "Updated min validation loss!Saving model...\n",
      "Global Step 18800 and Step 8801: validation cost=0.00039\n",
      "Updated min validation loss!Saving model...\n",
      "Global Step 19000 and Step 9001: validation cost=0.00036\n",
      "Updated min validation loss!Saving model...\n",
      "Global Step 19200 and Step 9201: validation cost=0.00033\n",
      "Updated min validation loss!Saving model...\n",
      "Global Step 19400 and Step 9401: validation cost=0.00029\n",
      "Updated min validation loss!Saving model...\n",
      "Global Step 19600 and Step 9601: validation cost=0.00026\n",
      "Updated min validation loss!Saving model...\n",
      "Global Step 19800 and Step 9801: validation cost=0.00025\n",
      "Updated min validation loss!Saving model...\n",
      "Restoring the best parameters...\n",
      "Global Step 20000 and Step 0002: validation cost=0.00024\n",
      "Updated min validation loss!Saving model...\n",
      "Global Step 20200 and Step 0202: validation cost=0.00023\n",
      "Updated min validation loss!Saving model...\n",
      "Global Step 20400 and Step 0402: validation cost=0.00023\n",
      "Updated min validation loss!Saving model...\n",
      "Global Step 20600 and Step 0602: validation cost=0.00022\n",
      "Updated min validation loss!Saving model...\n",
      "Global Step 20800 and Step 0802: validation cost=0.00022\n",
      "Updated min validation loss!Saving model...\n",
      "Global Step 21000 and Step 1002: validation cost=0.00019\n",
      "Updated min validation loss!Saving model...\n",
      "Global Step 21200 and Step 1202: validation cost=0.00020\n",
      "Global Step 21400 and Step 1402: validation cost=0.00019\n",
      "Updated min validation loss!Saving model...\n",
      "Global Step 21600 and Step 1602: validation cost=0.00018\n",
      "Updated min validation loss!Saving model...\n",
      "Global Step 21800 and Step 1802: validation cost=0.00018\n",
      "Global Step 22000 and Step 2002: validation cost=0.00016\n",
      "Updated min validation loss!Saving model...\n",
      "Global Step 22200 and Step 2202: validation cost=0.00016\n",
      "Updated min validation loss!Saving model...\n",
      "Global Step 22400 and Step 2402: validation cost=0.00015\n",
      "Updated min validation loss!Saving model...\n",
      "Global Step 22600 and Step 2602: validation cost=0.00015\n",
      "Updated min validation loss!Saving model...\n",
      "Global Step 22800 and Step 2802: validation cost=0.00015\n",
      "Updated min validation loss!Saving model...\n",
      "Global Step 23000 and Step 3002: validation cost=0.00014\n",
      "Updated min validation loss!Saving model...\n",
      "Global Step 23200 and Step 3202: validation cost=0.00013\n",
      "Updated min validation loss!Saving model...\n",
      "Global Step 23400 and Step 3402: validation cost=0.00013\n",
      "Updated min validation loss!Saving model...\n",
      "Global Step 23600 and Step 3602: validation cost=0.00012\n",
      "Updated min validation loss!Saving model...\n",
      "Global Step 23800 and Step 3802: validation cost=0.00012\n",
      "Updated min validation loss!Saving model...\n",
      "Global Step 24000 and Step 4002: validation cost=0.00012\n",
      "Updated min validation loss!Saving model...\n",
      "Global Step 24200 and Step 4202: validation cost=0.00012\n",
      "Global Step 24400 and Step 4402: validation cost=0.00011\n",
      "Updated min validation loss!Saving model...\n",
      "Global Step 24600 and Step 4602: validation cost=0.00012\n",
      "Global Step 24800 and Step 4802: validation cost=0.00012\n",
      "Global Step 25000 and Step 5002: validation cost=0.00012\n",
      "Global Step 25200 and Step 5202: validation cost=0.00011\n",
      "Updated min validation loss!Saving model...\n",
      "Global Step 25400 and Step 5402: validation cost=0.00012\n",
      "Global Step 25600 and Step 5602: validation cost=0.00012\n",
      "Global Step 25800 and Step 5802: validation cost=0.00012\n",
      "Global Step 26000 and Step 6002: validation cost=0.00013\n",
      "Global Step 26200 and Step 6202: validation cost=0.00013\n",
      "Global Step 26400 and Step 6402: validation cost=0.00013\n",
      "Global Step 26600 and Step 6602: validation cost=0.00014\n",
      "Global Step 26800 and Step 6802: validation cost=0.00013\n",
      "Global Step 27000 and Step 7002: validation cost=0.00014\n",
      "Global Step 27200 and Step 7202: validation cost=0.00014\n",
      "Global Step 27400 and Step 7402: validation cost=0.00014\n",
      "Global Step 27600 and Step 7602: validation cost=0.00015\n",
      "Global Step 27800 and Step 7802: validation cost=0.00015\n",
      "Global Step 28000 and Step 8002: validation cost=0.00015\n",
      "Early Stopping!!!\n",
      "Restoring the best parameters...\n"
     ]
    }
   ],
   "source": [
    "# Learn the kernel from random initialization\n",
    "learning_rate = 0.001\n",
    "iterations = 3\n",
    "for i in range(iterations):\n",
    "    toy_net_trainer.train(train_data, vali_data, batch_size=128, feed_dict={toy_data_net.lr: learning_rate})\n",
    "    learning_rate = learning_rate/3"
   ]
  },
  {
   "cell_type": "code",
   "execution_count": 52,
   "metadata": {
    "collapsed": false,
    "deletable": true,
    "editable": true
   },
   "outputs": [
    {
     "data": {
      "text/plain": [
       "<matplotlib.legend.Legend at 0x7f2ec758f828>"
      ]
     },
     "execution_count": 52,
     "metadata": {},
     "output_type": "execute_result"
    },
    {
     "name": "stderr",
     "output_type": "stream",
     "text": [
      "/usr/local/lib/python3.5/dist-packages/matplotlib/font_manager.py:1297: UserWarning: findfont: Font family ['sans-serif'] not found. Falling back to DejaVu Sans\n",
      "  (prop.get_family(), self.defaultFamily[fontext]))\n"
     ]
    },
    {
     "data": {
      "image/png": "[encoded data removed]",
      "text/plain": [
       "<matplotlib.figure.Figure at 0x7f2ec755a320>"
      ]
     },
     "metadata": {},
     "output_type": "display_data"
    }
   ],
   "source": [
    "toy_net_trainer.restore_best()\n",
    "w_pre = toy_net_trainer.evaluate(ops=toy_data_net.kernel_pre)\n",
    "w_post = toy_net_trainer.evaluate(ops=toy_data_net.kernel_post)\n",
    "plt.plot(np.linspace(0,100,101)*2 - 100, w_pre, '.', label='ker_pre_trained')\n",
    "plt.plot(np.linspace(0,100,101)*2 - 100, w_post, '.', label='ker_post_trained')\n",
    "bias = toy_net_trainer.evaluate(ops=toy_data_net.bias)\n",
    "bias\n",
    "plt.legend()"
   ]
  },
  {
   "cell_type": "code",
   "execution_count": null,
   "metadata": {
    "collapsed": true,
    "deletable": true,
    "editable": true
   },
   "outputs": [],
   "source": []
  }
 ],
 "metadata": {
  "kernelspec": {
   "display_name": "Python 3",
   "language": "python",
   "name": "python3"
  },
  "language_info": {
   "codemirror_mode": {
    "name": "ipython",
    "version": 3
   },
   "file_extension": ".py",
   "mimetype": "text/x-python",
   "name": "python",
   "nbconvert_exporter": "python",
   "pygments_lexer": "ipython3",
   "version": "3.5.2"
  }
 },
 "nbformat": 4,
 "nbformat_minor": 2
}

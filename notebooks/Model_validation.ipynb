{
 "cells": [
  {
   "cell_type": "markdown",
   "metadata": {
    "deletable": true,
    "editable": true
   },
   "source": [
    "Train validation data with convnet"
   ]
  },
  {
   "cell_type": "code",
   "execution_count": 166,
   "metadata": {
    "collapsed": false,
    "deletable": true,
    "editable": true
   },
   "outputs": [
    {
     "name": "stdout",
     "output_type": "stream",
     "text": [
      "The autoreload extension is already loaded. To reload it, use:\n",
      "  %reload_ext autoreload\n"
     ]
    }
   ],
   "source": [
    "import numpy as np\n",
    "import pandas as pd\n",
    "import matplotlib.pyplot as plt\n",
    "import seaborn as sns\n",
    "import tensorflow as tf\n",
    "from modelval import pairptl, network, trainer, dataset\n",
    "from modelval.ArbDataGen import arb_w_gen\n",
    "\n",
    "% matplotlib inline\n",
    "%load_ext autoreload\n",
    "    \n",
    "%autoreload 2"
   ]
  },
  {
   "cell_type": "code",
   "execution_count": 167,
   "metadata": {
    "collapsed": false,
    "deletable": true,
    "editable": true
   },
   "outputs": [],
   "source": [
    "# Load data frame\n",
    "data = pd.read_csv('/src/Plasticity_Ker/data/kernel_training_data_auto.csv')"
   ]
  },
  {
   "cell_type": "code",
   "execution_count": 168,
   "metadata": {
    "collapsed": true
   },
   "outputs": [],
   "source": [
    "data['train_len'] = data['ptl_occ'] / data['ptl_freq']"
   ]
  },
  {
   "cell_type": "code",
   "execution_count": 169,
   "metadata": {
    "collapsed": false,
    "deletable": true,
    "editable": true
   },
   "outputs": [
    {
     "data": {
      "text/html": [
       "<div>\n",
       "<table border=\"1\" class=\"dataframe\">\n",
       "  <thead>\n",
       "    <tr style=\"text-align: right;\">\n",
       "      <th></th>\n",
       "      <th>ptl_idx</th>\n",
       "      <th>pre_spk_num</th>\n",
       "      <th>pre_spk_freq</th>\n",
       "      <th>post_spk_num</th>\n",
       "      <th>post_spk_freq</th>\n",
       "      <th>ptl_occ</th>\n",
       "      <th>ptl_freq</th>\n",
       "      <th>dt1</th>\n",
       "      <th>dt2</th>\n",
       "      <th>dt3</th>\n",
       "      <th>dw_mean</th>\n",
       "      <th>dw_ste</th>\n",
       "      <th>train_len</th>\n",
       "    </tr>\n",
       "  </thead>\n",
       "  <tbody>\n",
       "    <tr>\n",
       "      <th>0</th>\n",
       "      <td>1</td>\n",
       "      <td>1</td>\n",
       "      <td>0</td>\n",
       "      <td>1</td>\n",
       "      <td>0</td>\n",
       "      <td>60</td>\n",
       "      <td>1.0</td>\n",
       "      <td>-102.898046</td>\n",
       "      <td>0.0</td>\n",
       "      <td>0</td>\n",
       "      <td>-1.322590</td>\n",
       "      <td>0.0</td>\n",
       "      <td>60.0</td>\n",
       "    </tr>\n",
       "    <tr>\n",
       "      <th>1</th>\n",
       "      <td>1</td>\n",
       "      <td>1</td>\n",
       "      <td>0</td>\n",
       "      <td>1</td>\n",
       "      <td>0</td>\n",
       "      <td>60</td>\n",
       "      <td>1.0</td>\n",
       "      <td>-75.579896</td>\n",
       "      <td>0.0</td>\n",
       "      <td>0</td>\n",
       "      <td>2.674768</td>\n",
       "      <td>0.0</td>\n",
       "      <td>60.0</td>\n",
       "    </tr>\n",
       "    <tr>\n",
       "      <th>2</th>\n",
       "      <td>1</td>\n",
       "      <td>1</td>\n",
       "      <td>0</td>\n",
       "      <td>1</td>\n",
       "      <td>0</td>\n",
       "      <td>60</td>\n",
       "      <td>1.0</td>\n",
       "      <td>-80.871473</td>\n",
       "      <td>0.0</td>\n",
       "      <td>0</td>\n",
       "      <td>-12.696449</td>\n",
       "      <td>0.0</td>\n",
       "      <td>60.0</td>\n",
       "    </tr>\n",
       "    <tr>\n",
       "      <th>3</th>\n",
       "      <td>1</td>\n",
       "      <td>1</td>\n",
       "      <td>0</td>\n",
       "      <td>1</td>\n",
       "      <td>0</td>\n",
       "      <td>60</td>\n",
       "      <td>1.0</td>\n",
       "      <td>-67.562239</td>\n",
       "      <td>0.0</td>\n",
       "      <td>0</td>\n",
       "      <td>0.231446</td>\n",
       "      <td>0.0</td>\n",
       "      <td>60.0</td>\n",
       "    </tr>\n",
       "    <tr>\n",
       "      <th>4</th>\n",
       "      <td>1</td>\n",
       "      <td>1</td>\n",
       "      <td>0</td>\n",
       "      <td>1</td>\n",
       "      <td>0</td>\n",
       "      <td>60</td>\n",
       "      <td>1.0</td>\n",
       "      <td>-63.553410</td>\n",
       "      <td>0.0</td>\n",
       "      <td>0</td>\n",
       "      <td>-0.990216</td>\n",
       "      <td>0.0</td>\n",
       "      <td>60.0</td>\n",
       "    </tr>\n",
       "  </tbody>\n",
       "</table>\n",
       "</div>"
      ],
      "text/plain": [
       "   ptl_idx  pre_spk_num  pre_spk_freq  post_spk_num  post_spk_freq  ptl_occ  \\\n",
       "0        1            1             0             1              0       60   \n",
       "1        1            1             0             1              0       60   \n",
       "2        1            1             0             1              0       60   \n",
       "3        1            1             0             1              0       60   \n",
       "4        1            1             0             1              0       60   \n",
       "\n",
       "   ptl_freq         dt1  dt2  dt3    dw_mean  dw_ste  train_len  \n",
       "0       1.0 -102.898046  0.0    0  -1.322590     0.0       60.0  \n",
       "1       1.0  -75.579896  0.0    0   2.674768     0.0       60.0  \n",
       "2       1.0  -80.871473  0.0    0 -12.696449     0.0       60.0  \n",
       "3       1.0  -67.562239  0.0    0   0.231446     0.0       60.0  \n",
       "4       1.0  -63.553410  0.0    0  -0.990216     0.0       60.0  "
      ]
     },
     "execution_count": 169,
     "metadata": {},
     "output_type": "execute_result"
    }
   ],
   "source": [
    "data.head()"
   ]
  },
  {
   "cell_type": "code",
   "execution_count": 170,
   "metadata": {
    "collapsed": true,
    "deletable": true,
    "editable": true
   },
   "outputs": [],
   "source": [
    "test_data = data[data['ptl_idx']==1]"
   ]
  },
  {
   "cell_type": "code",
   "execution_count": 171,
   "metadata": {
    "collapsed": false,
    "deletable": true,
    "editable": true
   },
   "outputs": [
    {
     "data": {
      "text/plain": [
       "<matplotlib.axes._subplots.AxesSubplot at 0x7f72494ab2b0>"
      ]
     },
     "execution_count": 171,
     "metadata": {},
     "output_type": "execute_result"
    },
    {
     "name": "stderr",
     "output_type": "stream",
     "text": [
      "/usr/local/lib/python3.5/dist-packages/matplotlib/font_manager.py:1297: UserWarning: findfont: Font family ['sans-serif'] not found. Falling back to DejaVu Sans\n",
      "  (prop.get_family(), self.defaultFamily[fontext]))\n"
     ]
    },
    {
     "data": {
      "image/png": "[encoded data removed]",
      "text/plain": [
       "<matplotlib.figure.Figure at 0x7f7249467080>"
      ]
     },
     "metadata": {},
     "output_type": "display_data"
    }
   ],
   "source": [
    "test_data['dt1'].hist(bins=50)"
   ]
  },
  {
   "cell_type": "code",
   "execution_count": 172,
   "metadata": {
    "collapsed": false,
    "deletable": true,
    "editable": true
   },
   "outputs": [
    {
     "data": {
      "text/plain": [
       "<matplotlib.legend.Legend at 0x7f728eec2828>"
      ]
     },
     "execution_count": 172,
     "metadata": {},
     "output_type": "execute_result"
    },
    {
     "name": "stderr",
     "output_type": "stream",
     "text": [
      "/usr/local/lib/python3.5/dist-packages/matplotlib/font_manager.py:1297: UserWarning: findfont: Font family ['sans-serif'] not found. Falling back to DejaVu Sans\n",
      "  (prop.get_family(), self.defaultFamily[fontext]))\n"
     ]
    },
    {
     "data": {
      "image/png": "[encoded data removed]",
      "text/plain": [
       "<matplotlib.figure.Figure at 0x7f728ef65d68>"
      ]
     },
     "metadata": {},
     "output_type": "display_data"
    }
   ],
   "source": [
    "# Visualize kernel\n",
    "from modelval.kernel import KernelGen\n",
    "ker_test = KernelGen()\n",
    "plt.plot(ker_test.dot_ker, label='ker_pre')\n",
    "plt.plot(ker_test.bilat_ker, label='ker_post')\n",
    "plt.legend()"
   ]
  },
  {
   "cell_type": "code",
   "execution_count": 173,
   "metadata": {
    "collapsed": false,
    "deletable": true,
    "editable": true
   },
   "outputs": [],
   "source": [
    "# Generate data\n",
    "ptl_list = [2,3,4]\n",
    "spk_len = int(data[data['ptl_idx'].isin(ptl_list)]['train_len'].max() * 1000 / ker_test.reso_kernel)\n",
    "spk_pairs, targets = arb_w_gen(df=data, ptl_list=ptl_list, spk_len=spk_len, kernel=ker_test, aug_times=10)"
   ]
  },
  {
   "cell_type": "code",
   "execution_count": 180,
   "metadata": {
    "collapsed": false,
    "deletable": true,
    "editable": true
   },
   "outputs": [],
   "source": [
    "# Create the network\n",
    "ground_truth_init = 0\n",
    "toy_data_net = network.PairNet(kernel=ker_test, kernel_pre=ker_test.dot_ker, kernel_post=ker_test.bilat_ker, ground_truth_init=ground_truth_init, n_input=spk_pairs.shape[1])"
   ]
  },
  {
   "cell_type": "code",
   "execution_count": 181,
   "metadata": {
    "collapsed": false,
    "deletable": true,
    "editable": true
   },
   "outputs": [],
   "source": [
    "# Create the trainer\n",
    "save_dir= '/src/Plasticity_Ker/model/PairNet_ptl2-4_toy'\n",
    "toy_net_trainer = trainer.Trainer(toy_data_net.loss, input_name=toy_data_net.inputs, target_name=toy_data_net.target, save_dir=save_dir, optimizer_config={'learning_rate': toy_data_net.lr})"
   ]
  },
  {
   "cell_type": "code",
   "execution_count": 182,
   "metadata": {
    "collapsed": false,
    "deletable": true,
    "editable": true
   },
   "outputs": [],
   "source": [
    "# Obtain the training and validation data\n",
    "from sklearn.model_selection import train_test_split\n",
    "\n",
    "X_train, X_vali, y_train, y_vali = train_test_split(spk_pairs, targets, test_size=0.1)\n",
    "train_data = dataset.Dataset(X_train, y_train)\n",
    "vali_data = dataset.Dataset(X_vali, y_vali)"
   ]
  },
  {
   "cell_type": "code",
   "execution_count": 183,
   "metadata": {
    "collapsed": false,
    "deletable": true,
    "editable": true
   },
   "outputs": [
    {
     "data": {
      "text/plain": [
       "0.0"
      ]
     },
     "execution_count": 183,
     "metadata": {},
     "output_type": "execute_result"
    },
    {
     "name": "stderr",
     "output_type": "stream",
     "text": [
      "/usr/local/lib/python3.5/dist-packages/matplotlib/font_manager.py:1297: UserWarning: findfont: Font family ['sans-serif'] not found. Falling back to DejaVu Sans\n",
      "  (prop.get_family(), self.defaultFamily[fontext]))\n"
     ]
    },
    {
     "data": {
      "image/png": "[encoded data removed]",
      "text/plain": [
       "<matplotlib.figure.Figure at 0x7f729c910470>"
      ]
     },
     "metadata": {},
     "output_type": "display_data"
    }
   ],
   "source": [
    "w_pre = toy_net_trainer.evaluate(ops=toy_data_net.kernel_pre)\n",
    "w_post = toy_net_trainer.evaluate(ops=toy_data_net.kernel_post)\n",
    "plt.plot(w_pre, label='ker_pre_init')\n",
    "plt.plot(w_post, label='ker_post_init')\n",
    "bias = toy_net_trainer.evaluate(ops=toy_data_net.bias)\n",
    "plt.legend()\n",
    "bias"
   ]
  },
  {
   "cell_type": "code",
   "execution_count": 184,
   "metadata": {
    "collapsed": false,
    "deletable": true,
    "editable": true,
    "scrolled": true
   },
   "outputs": [
    {
     "name": "stdout",
     "output_type": "stream",
     "text": [
      "\n",
      "Initial validation cost=339.06778\n",
      "Global Step 0200 and Step 0200: validation cost=257.00650\n",
      "Updated min validation loss!Saving model...\n",
      "Global Step 0400 and Step 0400: validation cost=195.23001\n",
      "Updated min validation loss!Saving model...\n",
      "Global Step 0600 and Step 0600: validation cost=148.68832\n",
      "Updated min validation loss!Saving model...\n",
      "Global Step 0800 and Step 0800: validation cost=113.58018\n",
      "Updated min validation loss!Saving model...\n",
      "Global Step 1000 and Step 1000: validation cost=87.10564\n",
      "Updated min validation loss!Saving model...\n",
      "Global Step 1200 and Step 1200: validation cost=67.13853\n",
      "Updated min validation loss!Saving model...\n",
      "Global Step 1400 and Step 1400: validation cost=52.00639\n",
      "Updated min validation loss!Saving model...\n",
      "Global Step 1600 and Step 1600: validation cost=40.58809\n",
      "Updated min validation loss!Saving model...\n",
      "Global Step 1800 and Step 1800: validation cost=31.99589\n",
      "Updated min validation loss!Saving model...\n",
      "Global Step 2000 and Step 2000: validation cost=25.47530\n",
      "Updated min validation loss!Saving model...\n",
      "Global Step 2200 and Step 2200: validation cost=20.50537\n",
      "Updated min validation loss!Saving model...\n",
      "Global Step 2400 and Step 2400: validation cost=16.66963\n",
      "Updated min validation loss!Saving model...\n",
      "Global Step 2600 and Step 2600: validation cost=13.68517\n",
      "Updated min validation loss!Saving model...\n",
      "Global Step 2800 and Step 2800: validation cost=11.33713\n",
      "Updated min validation loss!Saving model...\n",
      "Global Step 3000 and Step 3000: validation cost=9.45304\n",
      "Updated min validation loss!Saving model...\n",
      "Global Step 3200 and Step 3200: validation cost=7.93128\n",
      "Updated min validation loss!Saving model...\n",
      "Global Step 3400 and Step 3400: validation cost=6.68246\n",
      "Updated min validation loss!Saving model...\n",
      "Global Step 3600 and Step 3600: validation cost=5.63147\n",
      "Updated min validation loss!Saving model...\n",
      "Global Step 3800 and Step 3800: validation cost=4.75141\n",
      "Updated min validation loss!Saving model...\n",
      "Global Step 4000 and Step 4000: validation cost=4.00722\n",
      "Updated min validation loss!Saving model...\n",
      "Global Step 4200 and Step 4200: validation cost=3.37752\n",
      "Updated min validation loss!Saving model...\n",
      "Global Step 4400 and Step 4400: validation cost=2.84592\n",
      "Updated min validation loss!Saving model...\n",
      "Global Step 4600 and Step 4600: validation cost=2.40024\n",
      "Updated min validation loss!Saving model...\n",
      "Global Step 4800 and Step 4800: validation cost=2.02985\n",
      "Updated min validation loss!Saving model...\n",
      "Global Step 5000 and Step 5000: validation cost=1.72256\n",
      "Updated min validation loss!Saving model...\n",
      "Global Step 5200 and Step 5200: validation cost=1.47016\n",
      "Updated min validation loss!Saving model...\n",
      "Global Step 5400 and Step 5400: validation cost=1.26626\n",
      "Updated min validation loss!Saving model...\n",
      "Global Step 5600 and Step 5600: validation cost=1.10296\n",
      "Updated min validation loss!Saving model...\n",
      "Global Step 5800 and Step 5800: validation cost=0.97117\n",
      "Updated min validation loss!Saving model...\n",
      "Global Step 6000 and Step 6000: validation cost=0.86757\n",
      "Updated min validation loss!Saving model...\n",
      "Global Step 6200 and Step 6200: validation cost=0.78705\n",
      "Updated min validation loss!Saving model...\n",
      "Global Step 6400 and Step 6400: validation cost=0.72326\n",
      "Updated min validation loss!Saving model...\n",
      "Global Step 6600 and Step 6600: validation cost=0.67385\n",
      "Updated min validation loss!Saving model...\n",
      "Global Step 6800 and Step 6800: validation cost=0.63594\n",
      "Updated min validation loss!Saving model...\n",
      "Global Step 7000 and Step 7000: validation cost=0.60448\n",
      "Updated min validation loss!Saving model...\n",
      "Global Step 7200 and Step 7200: validation cost=0.58004\n",
      "Updated min validation loss!Saving model...\n",
      "Global Step 7400 and Step 7400: validation cost=0.55884\n",
      "Updated min validation loss!Saving model...\n",
      "Global Step 7600 and Step 7600: validation cost=0.53990\n",
      "Updated min validation loss!Saving model...\n",
      "Global Step 7800 and Step 7800: validation cost=0.52354\n",
      "Updated min validation loss!Saving model...\n",
      "Global Step 8000 and Step 8000: validation cost=0.50651\n",
      "Updated min validation loss!Saving model...\n",
      "Global Step 8200 and Step 8200: validation cost=0.49176\n",
      "Updated min validation loss!Saving model...\n",
      "Global Step 8400 and Step 8400: validation cost=0.47697\n",
      "Updated min validation loss!Saving model...\n",
      "Global Step 8600 and Step 8600: validation cost=0.46250\n",
      "Updated min validation loss!Saving model...\n",
      "Global Step 8800 and Step 8800: validation cost=0.44818\n",
      "Updated min validation loss!Saving model...\n",
      "Global Step 9000 and Step 9000: validation cost=0.43450\n",
      "Updated min validation loss!Saving model...\n",
      "Global Step 9200 and Step 9200: validation cost=0.42119\n",
      "Updated min validation loss!Saving model...\n",
      "Global Step 9400 and Step 9400: validation cost=0.40798\n",
      "Updated min validation loss!Saving model...\n",
      "Global Step 9600 and Step 9600: validation cost=0.39613\n",
      "Updated min validation loss!Saving model...\n",
      "Global Step 9800 and Step 9800: validation cost=0.38338\n",
      "Updated min validation loss!Saving model...\n",
      "Global Step 10000 and Step 10000: validation cost=0.37265\n",
      "Updated min validation loss!Saving model...\n",
      "Global Step 10200 and Step 10200: validation cost=0.36183\n",
      "Updated min validation loss!Saving model...\n",
      "Global Step 10400 and Step 10400: validation cost=0.35098\n",
      "Updated min validation loss!Saving model...\n",
      "Global Step 10600 and Step 10600: validation cost=0.34104\n",
      "Updated min validation loss!Saving model...\n",
      "Global Step 10800 and Step 10800: validation cost=0.33118\n",
      "Updated min validation loss!Saving model...\n",
      "Global Step 11000 and Step 11000: validation cost=0.32209\n",
      "Updated min validation loss!Saving model...\n",
      "Global Step 11200 and Step 11200: validation cost=0.31270\n",
      "Updated min validation loss!Saving model...\n",
      "Global Step 11400 and Step 11400: validation cost=0.30520\n",
      "Updated min validation loss!Saving model...\n",
      "Global Step 11600 and Step 11600: validation cost=0.29681\n",
      "Updated min validation loss!Saving model...\n",
      "Global Step 11800 and Step 11800: validation cost=0.28876\n",
      "Updated min validation loss!Saving model...\n",
      "Global Step 12000 and Step 12000: validation cost=0.28147\n",
      "Updated min validation loss!Saving model...\n",
      "Global Step 12200 and Step 12200: validation cost=0.27418\n",
      "Updated min validation loss!Saving model...\n",
      "Global Step 12400 and Step 12400: validation cost=0.26759\n",
      "Updated min validation loss!Saving model...\n",
      "Global Step 12600 and Step 12600: validation cost=0.25980\n",
      "Updated min validation loss!Saving model...\n",
      "Global Step 12800 and Step 12800: validation cost=0.25425\n",
      "Updated min validation loss!Saving model...\n",
      "Global Step 13000 and Step 13000: validation cost=0.24778\n",
      "Updated min validation loss!Saving model...\n",
      "Global Step 13200 and Step 13200: validation cost=0.24128\n",
      "Updated min validation loss!Saving model...\n",
      "Global Step 13400 and Step 13400: validation cost=0.23508\n",
      "Updated min validation loss!Saving model...\n",
      "Global Step 13600 and Step 13600: validation cost=0.22943\n",
      "Updated min validation loss!Saving model...\n",
      "Global Step 13800 and Step 13800: validation cost=0.22240\n",
      "Updated min validation loss!Saving model...\n",
      "Global Step 14000 and Step 14000: validation cost=0.21686\n",
      "Updated min validation loss!Saving model...\n",
      "Global Step 14200 and Step 14200: validation cost=0.21082\n",
      "Updated min validation loss!Saving model...\n",
      "Global Step 14400 and Step 14400: validation cost=0.20571\n",
      "Updated min validation loss!Saving model...\n",
      "Global Step 14600 and Step 14600: validation cost=0.19902\n",
      "Updated min validation loss!Saving model...\n",
      "Global Step 14800 and Step 14800: validation cost=0.19324\n",
      "Updated min validation loss!Saving model...\n",
      "Global Step 15000 and Step 15000: validation cost=0.18774\n",
      "Updated min validation loss!Saving model...\n",
      "Global Step 15200 and Step 15200: validation cost=0.18234\n",
      "Updated min validation loss!Saving model...\n",
      "Global Step 15400 and Step 15400: validation cost=0.17743\n",
      "Updated min validation loss!Saving model...\n",
      "Global Step 15600 and Step 15600: validation cost=0.17134\n",
      "Updated min validation loss!Saving model...\n",
      "Global Step 15800 and Step 15800: validation cost=0.16614\n",
      "Updated min validation loss!Saving model...\n",
      "Global Step 16000 and Step 16000: validation cost=0.16064\n",
      "Updated min validation loss!Saving model...\n",
      "Global Step 16200 and Step 16200: validation cost=0.15574\n",
      "Updated min validation loss!Saving model...\n",
      "Global Step 16400 and Step 16400: validation cost=0.15054\n",
      "Updated min validation loss!Saving model...\n",
      "Global Step 16600 and Step 16600: validation cost=0.14589\n",
      "Updated min validation loss!Saving model...\n",
      "Global Step 16800 and Step 16800: validation cost=0.14104\n",
      "Updated min validation loss!Saving model...\n",
      "Global Step 17000 and Step 17000: validation cost=0.13591\n",
      "Updated min validation loss!Saving model...\n",
      "Global Step 17200 and Step 17200: validation cost=0.13102\n",
      "Updated min validation loss!Saving model...\n",
      "Global Step 17400 and Step 17400: validation cost=0.12663\n",
      "Updated min validation loss!Saving model...\n",
      "Global Step 17600 and Step 17600: validation cost=0.12166\n",
      "Updated min validation loss!Saving model...\n",
      "Global Step 17800 and Step 17800: validation cost=0.11769\n",
      "Updated min validation loss!Saving model...\n",
      "Global Step 18000 and Step 18000: validation cost=0.11349\n",
      "Updated min validation loss!Saving model...\n",
      "Global Step 18200 and Step 18200: validation cost=0.10902\n",
      "Updated min validation loss!Saving model...\n",
      "Global Step 18400 and Step 18400: validation cost=0.10460\n",
      "Updated min validation loss!Saving model...\n",
      "Global Step 18600 and Step 18600: validation cost=0.10070\n",
      "Updated min validation loss!Saving model...\n",
      "Global Step 18800 and Step 18800: validation cost=0.09652\n",
      "Updated min validation loss!Saving model...\n",
      "Global Step 19000 and Step 19000: validation cost=0.09280\n",
      "Updated min validation loss!Saving model...\n",
      "Global Step 19200 and Step 19200: validation cost=0.08914\n",
      "Updated min validation loss!Saving model...\n",
      "Global Step 19400 and Step 19400: validation cost=0.08517\n",
      "Updated min validation loss!Saving model...\n",
      "Global Step 19600 and Step 19600: validation cost=0.08134\n",
      "Updated min validation loss!Saving model...\n",
      "Global Step 19800 and Step 19800: validation cost=0.07790\n",
      "Updated min validation loss!Saving model...\n",
      "Global Step 20000 and Step 20000: validation cost=0.07437\n",
      "Updated min validation loss!Saving model...\n",
      "Global Step 20200 and Step 20200: validation cost=0.07107\n",
      "Updated min validation loss!Saving model...\n",
      "Global Step 20400 and Step 20400: validation cost=0.06758\n",
      "Updated min validation loss!Saving model...\n",
      "Global Step 20600 and Step 20600: validation cost=0.06472\n",
      "Updated min validation loss!Saving model...\n",
      "Global Step 20800 and Step 20800: validation cost=0.06167\n",
      "Updated min validation loss!Saving model...\n",
      "Global Step 21000 and Step 21000: validation cost=0.05864\n",
      "Updated min validation loss!Saving model...\n",
      "Global Step 21200 and Step 21200: validation cost=0.05555\n",
      "Updated min validation loss!Saving model...\n",
      "Global Step 21400 and Step 21400: validation cost=0.05272\n",
      "Updated min validation loss!Saving model...\n",
      "Global Step 21600 and Step 21600: validation cost=0.04984\n",
      "Updated min validation loss!Saving model...\n",
      "Global Step 21800 and Step 21800: validation cost=0.04704\n",
      "Updated min validation loss!Saving model...\n",
      "Global Step 22000 and Step 22000: validation cost=0.04473\n",
      "Updated min validation loss!Saving model...\n",
      "Global Step 22200 and Step 22200: validation cost=0.04250\n",
      "Updated min validation loss!Saving model...\n",
      "Global Step 22400 and Step 22400: validation cost=0.03973\n",
      "Updated min validation loss!Saving model...\n",
      "Global Step 22600 and Step 22600: validation cost=0.03768\n",
      "Updated min validation loss!Saving model...\n",
      "Global Step 22800 and Step 22800: validation cost=0.03512\n",
      "Updated min validation loss!Saving model...\n",
      "Global Step 23000 and Step 23000: validation cost=0.03313\n",
      "Updated min validation loss!Saving model...\n",
      "Global Step 23200 and Step 23200: validation cost=0.03105\n",
      "Updated min validation loss!Saving model...\n",
      "Global Step 23400 and Step 23400: validation cost=0.02889\n",
      "Updated min validation loss!Saving model...\n",
      "Global Step 23600 and Step 23600: validation cost=0.02690\n",
      "Updated min validation loss!Saving model...\n",
      "Global Step 23800 and Step 23800: validation cost=0.02505\n",
      "Updated min validation loss!Saving model...\n",
      "Global Step 24000 and Step 24000: validation cost=0.02323\n",
      "Updated min validation loss!Saving model...\n",
      "Global Step 24200 and Step 24200: validation cost=0.02151\n",
      "Updated min validation loss!Saving model...\n",
      "Global Step 24400 and Step 24400: validation cost=0.01985\n",
      "Updated min validation loss!Saving model...\n",
      "Global Step 24600 and Step 24600: validation cost=0.01842\n",
      "Updated min validation loss!Saving model...\n",
      "Global Step 24800 and Step 24800: validation cost=0.01681\n",
      "Updated min validation loss!Saving model...\n",
      "Global Step 25000 and Step 25000: validation cost=0.01547\n",
      "Updated min validation loss!Saving model...\n",
      "Global Step 25200 and Step 25200: validation cost=0.01412\n",
      "Updated min validation loss!Saving model...\n",
      "Global Step 25400 and Step 25400: validation cost=0.01280\n",
      "Updated min validation loss!Saving model...\n",
      "Global Step 25600 and Step 25600: validation cost=0.01159\n",
      "Updated min validation loss!Saving model...\n",
      "Global Step 25800 and Step 25800: validation cost=0.01052\n",
      "Updated min validation loss!Saving model...\n",
      "Global Step 26000 and Step 26000: validation cost=0.00944\n",
      "Updated min validation loss!Saving model...\n",
      "Global Step 26200 and Step 26200: validation cost=0.00849\n",
      "Updated min validation loss!Saving model...\n",
      "Global Step 26400 and Step 26400: validation cost=0.00757\n",
      "Updated min validation loss!Saving model...\n",
      "Global Step 26600 and Step 26600: validation cost=0.00666\n",
      "Updated min validation loss!Saving model...\n",
      "Global Step 26800 and Step 26800: validation cost=0.00594\n",
      "Updated min validation loss!Saving model...\n",
      "Global Step 27000 and Step 27000: validation cost=0.00516\n",
      "Updated min validation loss!Saving model...\n",
      "Global Step 27200 and Step 27200: validation cost=0.00453\n",
      "Updated min validation loss!Saving model...\n",
      "Global Step 27400 and Step 27400: validation cost=0.00392\n",
      "Updated min validation loss!Saving model...\n",
      "Global Step 27600 and Step 27600: validation cost=0.00336\n",
      "Updated min validation loss!Saving model...\n",
      "Global Step 27800 and Step 27800: validation cost=0.00292\n",
      "Updated min validation loss!Saving model...\n",
      "Global Step 28000 and Step 28000: validation cost=0.00244\n",
      "Updated min validation loss!Saving model...\n",
      "Global Step 28200 and Step 28200: validation cost=0.00205\n",
      "Updated min validation loss!Saving model...\n",
      "Global Step 28400 and Step 28400: validation cost=0.00171\n",
      "Updated min validation loss!Saving model...\n",
      "Global Step 28600 and Step 28600: validation cost=0.00140\n",
      "Updated min validation loss!Saving model...\n",
      "Global Step 28800 and Step 28800: validation cost=0.00115\n",
      "Updated min validation loss!Saving model...\n",
      "Global Step 29000 and Step 29000: validation cost=0.00099\n",
      "Updated min validation loss!Saving model...\n",
      "Global Step 29200 and Step 29200: validation cost=0.00077\n",
      "Updated min validation loss!Saving model...\n",
      "Global Step 29400 and Step 29400: validation cost=0.00063\n",
      "Updated min validation loss!Saving model...\n",
      "Global Step 29600 and Step 29600: validation cost=0.00051\n",
      "Updated min validation loss!Saving model...\n",
      "Global Step 29800 and Step 29800: validation cost=0.00043\n",
      "Updated min validation loss!Saving model...\n",
      "Global Step 30000 and Step 30000: validation cost=0.00036\n",
      "Updated min validation loss!Saving model...\n",
      "Global Step 30200 and Step 30200: validation cost=0.00031\n",
      "Updated min validation loss!Saving model...\n",
      "Global Step 30400 and Step 30400: validation cost=0.00026\n",
      "Updated min validation loss!Saving model...\n",
      "Global Step 30600 and Step 30600: validation cost=0.00025\n",
      "Updated min validation loss!Saving model...\n",
      "Global Step 30800 and Step 30800: validation cost=0.00023\n",
      "Updated min validation loss!Saving model...\n",
      "Global Step 31000 and Step 31000: validation cost=0.00022\n",
      "Updated min validation loss!Saving model...\n",
      "Global Step 31200 and Step 31200: validation cost=0.00021\n",
      "Updated min validation loss!Saving model...\n",
      "Global Step 31400 and Step 31400: validation cost=0.00021\n",
      "Updated min validation loss!Saving model...\n",
      "Global Step 31600 and Step 31600: validation cost=0.00020\n",
      "Updated min validation loss!Saving model...\n",
      "Global Step 31800 and Step 31800: validation cost=0.00022\n",
      "Global Step 32000 and Step 32000: validation cost=0.00021\n",
      "Global Step 32200 and Step 32200: validation cost=0.00021\n",
      "Global Step 32400 and Step 32400: validation cost=0.00020\n",
      "Updated min validation loss!Saving model...\n",
      "Global Step 32600 and Step 32600: validation cost=0.00021\n",
      "Global Step 32800 and Step 32800: validation cost=0.00022\n",
      "Global Step 33000 and Step 33000: validation cost=0.00024\n",
      "Global Step 33200 and Step 33200: validation cost=0.00019\n",
      "Updated min validation loss!Saving model...\n",
      "Global Step 33400 and Step 33400: validation cost=0.00021\n",
      "Global Step 33600 and Step 33600: validation cost=0.00020\n",
      "Global Step 33800 and Step 33800: validation cost=0.00020\n",
      "Global Step 34000 and Step 34000: validation cost=0.00019\n",
      "Updated min validation loss!Saving model...\n",
      "Global Step 34200 and Step 34200: validation cost=0.00019\n",
      "Updated min validation loss!Saving model...\n",
      "Global Step 34400 and Step 34400: validation cost=0.00021\n",
      "Global Step 34600 and Step 34600: validation cost=0.00019\n",
      "Global Step 34800 and Step 34800: validation cost=0.00020\n",
      "Global Step 35000 and Step 35000: validation cost=0.00020\n",
      "Global Step 35200 and Step 35200: validation cost=0.00020\n",
      "Global Step 35400 and Step 35400: validation cost=0.00018\n",
      "Updated min validation loss!Saving model...\n",
      "Global Step 35600 and Step 35600: validation cost=0.00018\n",
      "Global Step 35800 and Step 35800: validation cost=0.00019\n",
      "Global Step 36000 and Step 36000: validation cost=0.00019\n",
      "Global Step 36200 and Step 36200: validation cost=0.00018\n",
      "Global Step 36400 and Step 36400: validation cost=0.00019\n",
      "Global Step 36600 and Step 36600: validation cost=0.00018\n",
      "Global Step 36800 and Step 36800: validation cost=0.00019\n",
      "Global Step 37000 and Step 37000: validation cost=0.00019\n",
      "Global Step 37200 and Step 37200: validation cost=0.00018\n",
      "Updated min validation loss!Saving model...\n",
      "Global Step 37400 and Step 37400: validation cost=0.00017\n",
      "Updated min validation loss!Saving model...\n",
      "Global Step 37600 and Step 37600: validation cost=0.00017\n",
      "Updated min validation loss!Saving model...\n",
      "Global Step 37800 and Step 37800: validation cost=0.00016\n",
      "Updated min validation loss!Saving model...\n",
      "Global Step 38000 and Step 38000: validation cost=0.00016\n",
      "Global Step 38200 and Step 38200: validation cost=0.00016\n",
      "Global Step 38400 and Step 38400: validation cost=0.00016\n",
      "Global Step 38600 and Step 38600: validation cost=0.00016\n",
      "Global Step 38800 and Step 38800: validation cost=0.00017\n",
      "Global Step 39000 and Step 39000: validation cost=0.00016\n",
      "Global Step 39200 and Step 39200: validation cost=0.00016\n",
      "Updated min validation loss!Saving model...\n",
      "Global Step 39400 and Step 39400: validation cost=0.00017\n",
      "Global Step 39600 and Step 39600: validation cost=0.00016\n",
      "Updated min validation loss!Saving model...\n",
      "Global Step 39800 and Step 39800: validation cost=0.00015\n",
      "Updated min validation loss!Saving model...\n",
      "Global Step 40000 and Step 40000: validation cost=0.00016\n",
      "Global Step 40200 and Step 40200: validation cost=0.00016\n",
      "Global Step 40400 and Step 40400: validation cost=0.00015\n",
      "Updated min validation loss!Saving model...\n",
      "Global Step 40600 and Step 40600: validation cost=0.00015\n",
      "Updated min validation loss!Saving model...\n",
      "Global Step 40800 and Step 40800: validation cost=0.00015\n",
      "Global Step 41000 and Step 41000: validation cost=0.00015\n",
      "Global Step 41200 and Step 41200: validation cost=0.00016\n",
      "Global Step 41400 and Step 41400: validation cost=0.00014\n",
      "Updated min validation loss!Saving model...\n",
      "Global Step 41600 and Step 41600: validation cost=0.00015\n",
      "Global Step 41800 and Step 41800: validation cost=0.00014\n",
      "Updated min validation loss!Saving model...\n",
      "Global Step 42000 and Step 42000: validation cost=0.00015\n",
      "Global Step 42200 and Step 42200: validation cost=0.00014\n",
      "Global Step 42400 and Step 42400: validation cost=0.00014\n",
      "Global Step 42600 and Step 42600: validation cost=0.00017\n",
      "Global Step 42800 and Step 42800: validation cost=0.00014\n",
      "Global Step 43000 and Step 43000: validation cost=0.00015\n",
      "Global Step 43200 and Step 43200: validation cost=0.00014\n",
      "Updated min validation loss!Saving model...\n",
      "Global Step 43400 and Step 43400: validation cost=0.00014\n",
      "Global Step 43600 and Step 43600: validation cost=0.00014\n",
      "Global Step 43800 and Step 43800: validation cost=0.00013\n",
      "Updated min validation loss!Saving model...\n",
      "Global Step 44000 and Step 44000: validation cost=0.00013\n",
      "Global Step 44200 and Step 44200: validation cost=0.00012\n",
      "Updated min validation loss!Saving model...\n",
      "Global Step 44400 and Step 44400: validation cost=0.00013\n",
      "Global Step 44600 and Step 44600: validation cost=0.00013\n",
      "Global Step 44800 and Step 44800: validation cost=0.00012\n",
      "Global Step 45000 and Step 45000: validation cost=0.00011\n",
      "Updated min validation loss!Saving model...\n",
      "Global Step 45200 and Step 45200: validation cost=0.00011\n",
      "Updated min validation loss!Saving model...\n",
      "Global Step 45400 and Step 45400: validation cost=0.00012\n",
      "Global Step 45600 and Step 45600: validation cost=0.00012\n",
      "Global Step 45800 and Step 45800: validation cost=0.00012\n",
      "Global Step 46000 and Step 46000: validation cost=0.00011\n",
      "Updated min validation loss!Saving model...\n",
      "Global Step 46200 and Step 46200: validation cost=0.00012\n",
      "Global Step 46400 and Step 46400: validation cost=0.00011\n",
      "Global Step 46600 and Step 46600: validation cost=0.00011\n",
      "Updated min validation loss!Saving model...\n",
      "Global Step 46800 and Step 46800: validation cost=0.00012\n",
      "Global Step 47000 and Step 47000: validation cost=0.00011\n",
      "Global Step 47200 and Step 47200: validation cost=0.00012\n",
      "Global Step 47400 and Step 47400: validation cost=0.00012\n",
      "Global Step 47600 and Step 47600: validation cost=0.00011\n",
      "Updated min validation loss!Saving model...\n",
      "Global Step 47800 and Step 47800: validation cost=0.00010\n",
      "Updated min validation loss!Saving model...\n",
      "Global Step 48000 and Step 48000: validation cost=0.00011\n",
      "Global Step 48200 and Step 48200: validation cost=0.00011\n",
      "Global Step 48400 and Step 48400: validation cost=0.00011\n",
      "Global Step 48600 and Step 48600: validation cost=0.00010\n",
      "Updated min validation loss!Saving model...\n",
      "Global Step 48800 and Step 48800: validation cost=0.00009\n",
      "Updated min validation loss!Saving model...\n",
      "Global Step 49000 and Step 49000: validation cost=0.00011\n",
      "Global Step 49200 and Step 49200: validation cost=0.00010\n",
      "Global Step 49400 and Step 49400: validation cost=0.00010\n"
     ]
    },
    {
     "ename": "KeyboardInterrupt",
     "evalue": "",
     "output_type": "error",
     "traceback": [
      "\u001b[0;31m---------------------------------------------------------------------------\u001b[0m",
      "\u001b[0;31mKeyboardInterrupt\u001b[0m                         Traceback (most recent call last)",
      "\u001b[0;32m<ipython-input-184-1e4909ff0b65>\u001b[0m in \u001b[0;36m<module>\u001b[0;34m()\u001b[0m\n\u001b[1;32m      4\u001b[0m \u001b[0mmin_error\u001b[0m \u001b[0;34m=\u001b[0m \u001b[0;36m0.0000001\u001b[0m\u001b[0;34m\u001b[0m\u001b[0m\n\u001b[1;32m      5\u001b[0m \u001b[0;32mfor\u001b[0m \u001b[0mi\u001b[0m \u001b[0;32min\u001b[0m \u001b[0mrange\u001b[0m\u001b[0;34m(\u001b[0m\u001b[0miterations\u001b[0m\u001b[0;34m)\u001b[0m\u001b[0;34m:\u001b[0m\u001b[0;34m\u001b[0m\u001b[0m\n\u001b[0;32m----> 6\u001b[0;31m     \u001b[0mtoy_net_trainer\u001b[0m\u001b[0;34m.\u001b[0m\u001b[0mtrain\u001b[0m\u001b[0;34m(\u001b[0m\u001b[0mtrain_data\u001b[0m\u001b[0;34m,\u001b[0m \u001b[0mvali_data\u001b[0m\u001b[0;34m,\u001b[0m \u001b[0mbatch_size\u001b[0m\u001b[0;34m=\u001b[0m\u001b[0;36m128\u001b[0m\u001b[0;34m,\u001b[0m \u001b[0mmin_error\u001b[0m\u001b[0;34m=\u001b[0m\u001b[0mmin_error\u001b[0m\u001b[0;34m,\u001b[0m \u001b[0mfeed_dict\u001b[0m\u001b[0;34m=\u001b[0m\u001b[0;34m{\u001b[0m\u001b[0mtoy_data_net\u001b[0m\u001b[0;34m.\u001b[0m\u001b[0mlr\u001b[0m\u001b[0;34m:\u001b[0m \u001b[0mlearning_rate\u001b[0m\u001b[0;34m}\u001b[0m\u001b[0;34m)\u001b[0m\u001b[0;34m\u001b[0m\u001b[0m\n\u001b[0m\u001b[1;32m      7\u001b[0m     \u001b[0mlearning_rate\u001b[0m \u001b[0;34m=\u001b[0m \u001b[0mlearning_rate\u001b[0m\u001b[0;34m/\u001b[0m\u001b[0;36m3\u001b[0m\u001b[0;34m\u001b[0m\u001b[0m\n",
      "\u001b[0;32m/src/Plasticity_Ker/PlasticityKer/modelval/trainer.py\u001b[0m in \u001b[0;36mtrain\u001b[0;34m(self, train_data, vali_data, batch_size, save_model_freq, vali_freq, min_error, burn_in_steps, early_stopping_steps, max_steps, load_best, feed_dict)\u001b[0m\n\u001b[1;32m    120\u001b[0m                     \u001b[0mself\u001b[0m\u001b[0;34m.\u001b[0m\u001b[0msave\u001b[0m\u001b[0;34m(\u001b[0m\u001b[0mstep\u001b[0m\u001b[0;34m)\u001b[0m\u001b[0;34m\u001b[0m\u001b[0m\n\u001b[1;32m    121\u001b[0m \u001b[0;34m\u001b[0m\u001b[0m\n\u001b[0;32m--> 122\u001b[0;31m                 \u001b[0mx_train_batch\u001b[0m\u001b[0;34m,\u001b[0m \u001b[0my_train_batch\u001b[0m \u001b[0;34m=\u001b[0m \u001b[0mtrain_data\u001b[0m\u001b[0;34m.\u001b[0m\u001b[0mnext_batch\u001b[0m\u001b[0;34m(\u001b[0m\u001b[0mbatch_size\u001b[0m\u001b[0;34m)\u001b[0m\u001b[0;34m\u001b[0m\u001b[0m\n\u001b[0m\u001b[1;32m    123\u001b[0m                 \u001b[0mfd\u001b[0m \u001b[0;34m=\u001b[0m \u001b[0mself\u001b[0m\u001b[0;34m.\u001b[0m\u001b[0mmake_feed_dict\u001b[0m\u001b[0;34m(\u001b[0m\u001b[0mx_train_batch\u001b[0m\u001b[0;34m,\u001b[0m \u001b[0my_train_batch\u001b[0m\u001b[0;34m,\u001b[0m \u001b[0mfeed_dict\u001b[0m\u001b[0;34m=\u001b[0m\u001b[0mfeed_dict\u001b[0m\u001b[0;34m)\u001b[0m\u001b[0;34m\u001b[0m\u001b[0m\n\u001b[1;32m    124\u001b[0m                 \u001b[0m_\u001b[0m\u001b[0;34m,\u001b[0m \u001b[0mglobal_step\u001b[0m \u001b[0;34m=\u001b[0m \u001b[0msess\u001b[0m\u001b[0;34m.\u001b[0m\u001b[0mrun\u001b[0m\u001b[0;34m(\u001b[0m\u001b[0;34m[\u001b[0m\u001b[0mself\u001b[0m\u001b[0;34m.\u001b[0m\u001b[0mtrain_step\u001b[0m\u001b[0;34m,\u001b[0m \u001b[0mself\u001b[0m\u001b[0;34m.\u001b[0m\u001b[0mglobal_step\u001b[0m\u001b[0;34m]\u001b[0m\u001b[0;34m,\u001b[0m \u001b[0mfeed_dict\u001b[0m\u001b[0;34m=\u001b[0m\u001b[0mfd\u001b[0m\u001b[0;34m)\u001b[0m\u001b[0;34m\u001b[0m\u001b[0m\n",
      "\u001b[0;32m/src/Plasticity_Ker/PlasticityKer/modelval/dataset.py\u001b[0m in \u001b[0;36mnext_batch\u001b[0;34m(self, batch_size, shuffle)\u001b[0m\n\u001b[1;32m     45\u001b[0m                 \u001b[0mperm\u001b[0m \u001b[0;34m=\u001b[0m \u001b[0mnp\u001b[0m\u001b[0;34m.\u001b[0m\u001b[0marange\u001b[0m\u001b[0;34m(\u001b[0m\u001b[0mself\u001b[0m\u001b[0;34m.\u001b[0m\u001b[0msample_size\u001b[0m\u001b[0;34m)\u001b[0m\u001b[0;34m\u001b[0m\u001b[0m\n\u001b[1;32m     46\u001b[0m                 \u001b[0mnp\u001b[0m\u001b[0;34m.\u001b[0m\u001b[0mrandom\u001b[0m\u001b[0;34m.\u001b[0m\u001b[0mshuffle\u001b[0m\u001b[0;34m(\u001b[0m\u001b[0mperm\u001b[0m\u001b[0;34m)\u001b[0m\u001b[0;34m\u001b[0m\u001b[0m\n\u001b[0;32m---> 47\u001b[0;31m                 \u001b[0mself\u001b[0m\u001b[0;34m.\u001b[0m\u001b[0m_x\u001b[0m \u001b[0;34m=\u001b[0m \u001b[0mself\u001b[0m\u001b[0;34m.\u001b[0m\u001b[0mx\u001b[0m\u001b[0;34m[\u001b[0m\u001b[0mperm\u001b[0m\u001b[0;34m]\u001b[0m\u001b[0;34m\u001b[0m\u001b[0m\n\u001b[0m\u001b[1;32m     48\u001b[0m                 \u001b[0mself\u001b[0m\u001b[0;34m.\u001b[0m\u001b[0m_y\u001b[0m \u001b[0;34m=\u001b[0m \u001b[0mself\u001b[0m\u001b[0;34m.\u001b[0m\u001b[0my\u001b[0m\u001b[0;34m[\u001b[0m\u001b[0mperm\u001b[0m\u001b[0;34m]\u001b[0m\u001b[0;34m\u001b[0m\u001b[0m\n\u001b[1;32m     49\u001b[0m             \u001b[0;31m# Start next epoch\u001b[0m\u001b[0;34m\u001b[0m\u001b[0;34m\u001b[0m\u001b[0m\n",
      "\u001b[0;31mKeyboardInterrupt\u001b[0m: "
     ]
    }
   ],
   "source": [
    "# Learn the kernel from random initialization\n",
    "learning_rate = 0.0001\n",
    "iterations = 3\n",
    "min_error = 0.0000001\n",
    "for i in range(iterations):\n",
    "    toy_net_trainer.train(train_data, vali_data, batch_size=128, min_error=min_error, feed_dict={toy_data_net.lr: learning_rate})\n",
    "    learning_rate = learning_rate/3"
   ]
  },
  {
   "cell_type": "code",
   "execution_count": 185,
   "metadata": {
    "collapsed": false,
    "deletable": true,
    "editable": true
   },
   "outputs": [
    {
     "name": "stdout",
     "output_type": "stream",
     "text": [
      "bias = -0.0023372124414891005\n"
     ]
    },
    {
     "name": "stderr",
     "output_type": "stream",
     "text": [
      "/usr/local/lib/python3.5/dist-packages/matplotlib/font_manager.py:1297: UserWarning: findfont: Font family ['sans-serif'] not found. Falling back to DejaVu Sans\n",
      "  (prop.get_family(), self.defaultFamily[fontext]))\n"
     ]
    },
    {
     "data": {
      "image/png": "[encoded data removed]",
      "text/plain": [
       "<matplotlib.figure.Figure at 0x7f729c9fd7b8>"
      ]
     },
     "metadata": {},
     "output_type": "display_data"
    }
   ],
   "source": [
    "toy_net_trainer.restore_best()\n",
    "w_pre = toy_net_trainer.evaluate(ops=toy_data_net.kernel_pre)\n",
    "w_post = toy_net_trainer.evaluate(ops=toy_data_net.kernel_post)\n",
    "plt.plot(np.linspace(0,100,51)*2 - 100, w_pre,  label='ker_pre_trained')\n",
    "plt.plot(np.linspace(0,100,51)*2 - 100, w_post,  label='ker_post_trained')\n",
    "bias = toy_net_trainer.evaluate(ops=toy_data_net.bias)\n",
    "plt.legend()\n",
    "print(\"bias = {bias}\".format(bias=bias))"
   ]
  },
  {
   "cell_type": "code",
   "execution_count": null,
   "metadata": {
    "collapsed": true
   },
   "outputs": [],
   "source": []
  }
 ],
 "metadata": {
  "kernelspec": {
   "display_name": "Python 3",
   "language": "python",
   "name": "python3"
  },
  "language_info": {
   "codemirror_mode": {
    "name": "ipython",
    "version": 3
   },
   "file_extension": ".py",
   "mimetype": "text/x-python",
   "name": "python",
   "nbconvert_exporter": "python",
   "pygments_lexer": "ipython3",
   "version": "3.5.2"
  }
 },
 "nbformat": 4,
 "nbformat_minor": 2
}

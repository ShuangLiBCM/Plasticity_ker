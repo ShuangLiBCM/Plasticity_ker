{
 "cells": [
  {
   "cell_type": "markdown",
   "metadata": {
    "deletable": true,
    "editable": true
   },
   "source": [
    "Train validation data with convnet"
   ]
  },
  {
   "cell_type": "code",
   "execution_count": 78,
   "metadata": {
    "collapsed": false,
    "deletable": true,
    "editable": true
   },
   "outputs": [
    {
     "name": "stdout",
     "output_type": "stream",
     "text": [
      "The autoreload extension is already loaded. To reload it, use:\n",
      "  %reload_ext autoreload\n"
     ]
    }
   ],
   "source": [
    "import numpy as np\n",
    "import pandas as pd\n",
    "import matplotlib.pyplot as plt\n",
    "import seaborn as sns\n",
    "import tensorflow as tf\n",
    "from modelval import pairptl, network, trainer, dataset\n",
    "from modelval.ArbDataGen import arb_w_gen\n",
    "\n",
    "% matplotlib inline\n",
    "%load_ext autoreload\n",
    "    \n",
    "%autoreload 2"
   ]
  },
  {
   "cell_type": "code",
   "execution_count": 79,
   "metadata": {
    "collapsed": false,
    "deletable": true,
    "editable": true
   },
   "outputs": [],
   "source": [
    "# Load data frame\n",
    "data = pd.read_csv('/src/Plasticity_Ker/data/kernel_training_data_auto.csv')"
   ]
  },
  {
   "cell_type": "code",
   "execution_count": 80,
   "metadata": {
    "collapsed": true
   },
   "outputs": [],
   "source": [
    "data['train_len'] = data['ptl_occ'] / data['ptl_freq']"
   ]
  },
  {
   "cell_type": "code",
   "execution_count": 81,
   "metadata": {
    "collapsed": false,
    "deletable": true,
    "editable": true
   },
   "outputs": [
    {
     "data": {
      "text/html": [
       "<div>\n",
       "<table border=\"1\" class=\"dataframe\">\n",
       "  <thead>\n",
       "    <tr style=\"text-align: right;\">\n",
       "      <th></th>\n",
       "      <th>ptl_idx</th>\n",
       "      <th>pre_spk_num</th>\n",
       "      <th>pre_spk_freq</th>\n",
       "      <th>post_spk_num</th>\n",
       "      <th>post_spk_freq</th>\n",
       "      <th>ptl_occ</th>\n",
       "      <th>ptl_freq</th>\n",
       "      <th>dt1</th>\n",
       "      <th>dt2</th>\n",
       "      <th>dt3</th>\n",
       "      <th>dw_mean</th>\n",
       "      <th>dw_ste</th>\n",
       "      <th>train_len</th>\n",
       "    </tr>\n",
       "  </thead>\n",
       "  <tbody>\n",
       "    <tr>\n",
       "      <th>0</th>\n",
       "      <td>1</td>\n",
       "      <td>1</td>\n",
       "      <td>0</td>\n",
       "      <td>1</td>\n",
       "      <td>0</td>\n",
       "      <td>60</td>\n",
       "      <td>1.0</td>\n",
       "      <td>-102.898046</td>\n",
       "      <td>0.0</td>\n",
       "      <td>0</td>\n",
       "      <td>-1.322590</td>\n",
       "      <td>0.0</td>\n",
       "      <td>60.0</td>\n",
       "    </tr>\n",
       "    <tr>\n",
       "      <th>1</th>\n",
       "      <td>1</td>\n",
       "      <td>1</td>\n",
       "      <td>0</td>\n",
       "      <td>1</td>\n",
       "      <td>0</td>\n",
       "      <td>60</td>\n",
       "      <td>1.0</td>\n",
       "      <td>-75.579896</td>\n",
       "      <td>0.0</td>\n",
       "      <td>0</td>\n",
       "      <td>2.674768</td>\n",
       "      <td>0.0</td>\n",
       "      <td>60.0</td>\n",
       "    </tr>\n",
       "    <tr>\n",
       "      <th>2</th>\n",
       "      <td>1</td>\n",
       "      <td>1</td>\n",
       "      <td>0</td>\n",
       "      <td>1</td>\n",
       "      <td>0</td>\n",
       "      <td>60</td>\n",
       "      <td>1.0</td>\n",
       "      <td>-80.871473</td>\n",
       "      <td>0.0</td>\n",
       "      <td>0</td>\n",
       "      <td>-12.696449</td>\n",
       "      <td>0.0</td>\n",
       "      <td>60.0</td>\n",
       "    </tr>\n",
       "    <tr>\n",
       "      <th>3</th>\n",
       "      <td>1</td>\n",
       "      <td>1</td>\n",
       "      <td>0</td>\n",
       "      <td>1</td>\n",
       "      <td>0</td>\n",
       "      <td>60</td>\n",
       "      <td>1.0</td>\n",
       "      <td>-67.562239</td>\n",
       "      <td>0.0</td>\n",
       "      <td>0</td>\n",
       "      <td>0.231446</td>\n",
       "      <td>0.0</td>\n",
       "      <td>60.0</td>\n",
       "    </tr>\n",
       "    <tr>\n",
       "      <th>4</th>\n",
       "      <td>1</td>\n",
       "      <td>1</td>\n",
       "      <td>0</td>\n",
       "      <td>1</td>\n",
       "      <td>0</td>\n",
       "      <td>60</td>\n",
       "      <td>1.0</td>\n",
       "      <td>-63.553410</td>\n",
       "      <td>0.0</td>\n",
       "      <td>0</td>\n",
       "      <td>-0.990216</td>\n",
       "      <td>0.0</td>\n",
       "      <td>60.0</td>\n",
       "    </tr>\n",
       "  </tbody>\n",
       "</table>\n",
       "</div>"
      ],
      "text/plain": [
       "   ptl_idx  pre_spk_num  pre_spk_freq  post_spk_num  post_spk_freq  ptl_occ  \\\n",
       "0        1            1             0             1              0       60   \n",
       "1        1            1             0             1              0       60   \n",
       "2        1            1             0             1              0       60   \n",
       "3        1            1             0             1              0       60   \n",
       "4        1            1             0             1              0       60   \n",
       "\n",
       "   ptl_freq         dt1  dt2  dt3    dw_mean  dw_ste  train_len  \n",
       "0       1.0 -102.898046  0.0    0  -1.322590     0.0       60.0  \n",
       "1       1.0  -75.579896  0.0    0   2.674768     0.0       60.0  \n",
       "2       1.0  -80.871473  0.0    0 -12.696449     0.0       60.0  \n",
       "3       1.0  -67.562239  0.0    0   0.231446     0.0       60.0  \n",
       "4       1.0  -63.553410  0.0    0  -0.990216     0.0       60.0  "
      ]
     },
     "execution_count": 81,
     "metadata": {},
     "output_type": "execute_result"
    }
   ],
   "source": [
    "data.head()"
   ]
  },
  {
   "cell_type": "code",
   "execution_count": 82,
   "metadata": {
    "collapsed": true,
    "deletable": true,
    "editable": true
   },
   "outputs": [],
   "source": [
    "test_data = data[data['ptl_idx']==1]"
   ]
  },
  {
   "cell_type": "code",
   "execution_count": 83,
   "metadata": {
    "collapsed": false,
    "deletable": true,
    "editable": true
   },
   "outputs": [
    {
     "data": {
      "text/plain": [
       "<matplotlib.axes._subplots.AxesSubplot at 0x7f720af4de48>"
      ]
     },
     "execution_count": 83,
     "metadata": {},
     "output_type": "execute_result"
    },
    {
     "name": "stderr",
     "output_type": "stream",
     "text": [
      "/usr/local/lib/python3.5/dist-packages/matplotlib/font_manager.py:1297: UserWarning: findfont: Font family ['sans-serif'] not found. Falling back to DejaVu Sans\n",
      "  (prop.get_family(), self.defaultFamily[fontext]))\n"
     ]
    },
    {
     "data": {
      "image/png": "[encoded data removed]",
      "text/plain": [
       "<matplotlib.figure.Figure at 0x7f7249fce438>"
      ]
     },
     "metadata": {},
     "output_type": "display_data"
    }
   ],
   "source": [
    "test_data['dt1'].hist(bins=50)"
   ]
  },
  {
   "cell_type": "code",
   "execution_count": 84,
   "metadata": {
    "collapsed": false,
    "deletable": true,
    "editable": true
   },
   "outputs": [
    {
     "data": {
      "text/plain": [
       "<matplotlib.legend.Legend at 0x7f7249375550>"
      ]
     },
     "execution_count": 84,
     "metadata": {},
     "output_type": "execute_result"
    },
    {
     "name": "stderr",
     "output_type": "stream",
     "text": [
      "/usr/local/lib/python3.5/dist-packages/matplotlib/font_manager.py:1297: UserWarning: findfont: Font family ['sans-serif'] not found. Falling back to DejaVu Sans\n",
      "  (prop.get_family(), self.defaultFamily[fontext]))\n"
     ]
    },
    {
     "data": {
      "image/png": "[encoded data removed]",
      "text/plain": [
       "<matplotlib.figure.Figure at 0x7f72493fc400>"
      ]
     },
     "metadata": {},
     "output_type": "display_data"
    }
   ],
   "source": [
    "# Visualize kernel\n",
    "from modelval.kernel import KernelGen\n",
    "ker_test = KernelGen()\n",
    "plt.plot(ker_test.dot_ker, label='ker_pre')\n",
    "plt.plot(ker_test.bilat_ker, label='ker_post')\n",
    "plt.legend()"
   ]
  },
  {
   "cell_type": "code",
   "execution_count": 93,
   "metadata": {
    "collapsed": false,
    "deletable": true,
    "editable": true
   },
   "outputs": [],
   "source": [
    "# Generate data\n",
    "ptl_list = [1,2,3,4]\n",
    "spk_len = int(data[data['ptl_idx'].isin(ptl_list)]['train_len'].max() * 1000 / ker_test.reso_kernel)\n",
    "spk_pairs, targets = arb_w_gen(df=data, ptl_list=ptl_list, spk_len=spk_len, kernel=ker_test, aug_times=10)"
   ]
  },
  {
   "cell_type": "code",
   "execution_count": 70,
   "metadata": {
    "collapsed": false,
    "deletable": true,
    "editable": true
   },
   "outputs": [],
   "source": [
    "# Create the network\n",
    "ground_truth_init = 0\n",
    "toy_data_net = network.PairNet(kernel=ker_test, kernel_pre=ker_test.dot_ker, kernel_post=ker_test.bilat_ker, ground_truth_init=ground_truth_init, n_input=spk_pairs.shape[1])"
   ]
  },
  {
   "cell_type": "code",
   "execution_count": 71,
   "metadata": {
    "collapsed": false,
    "deletable": true,
    "editable": true
   },
   "outputs": [],
   "source": [
    "# Create the trainer\n",
    "save_dir= '/src/Plasticity_Ker/model/PairNet_ptl1-4_toy'\n",
    "toy_net_trainer = trainer.Trainer(toy_data_net.loss, input_name=toy_data_net.inputs, target_name=toy_data_net.target, save_dir=save_dir, optimizer_config={'learning_rate': toy_data_net.lr})"
   ]
  },
  {
   "cell_type": "code",
   "execution_count": 72,
   "metadata": {
    "collapsed": false,
    "deletable": true,
    "editable": true
   },
   "outputs": [],
   "source": [
    "# Obtain the training and validation data\n",
    "from sklearn.model_selection import train_test_split\n",
    "\n",
    "X_train, X_vali, y_train, y_vali = train_test_split(spk_pairs, targets, test_size=0.1)\n",
    "train_data = dataset.Dataset(X_train, y_train)\n",
    "vali_data = dataset.Dataset(X_vali, y_vali)"
   ]
  },
  {
   "cell_type": "code",
   "execution_count": 73,
   "metadata": {
    "collapsed": false,
    "deletable": true,
    "editable": true
   },
   "outputs": [
    {
     "data": {
      "text/plain": [
       "0.0"
      ]
     },
     "execution_count": 73,
     "metadata": {},
     "output_type": "execute_result"
    },
    {
     "name": "stderr",
     "output_type": "stream",
     "text": [
      "/usr/local/lib/python3.5/dist-packages/matplotlib/font_manager.py:1297: UserWarning: findfont: Font family ['sans-serif'] not found. Falling back to DejaVu Sans\n",
      "  (prop.get_family(), self.defaultFamily[fontext]))\n"
     ]
    },
    {
     "data": {
      "image/png": "[encoded data removed]",
      "text/plain": [
       "<matplotlib.figure.Figure at 0x7f7248ccab70>"
      ]
     },
     "metadata": {},
     "output_type": "display_data"
    }
   ],
   "source": [
    "w_pre = toy_net_trainer.evaluate(ops=toy_data_net.kernel_pre)\n",
    "w_post = toy_net_trainer.evaluate(ops=toy_data_net.kernel_post)\n",
    "plt.plot(w_pre, label='ker_pre_init')\n",
    "plt.plot(w_post, label='ker_post_init')\n",
    "bias = toy_net_trainer.evaluate(ops=toy_data_net.bias)\n",
    "plt.legend()\n",
    "bias"
   ]
  },
  {
   "cell_type": "code",
   "execution_count": 74,
   "metadata": {
    "collapsed": false,
    "deletable": true,
    "editable": true
   },
   "outputs": [
    {
     "name": "stdout",
     "output_type": "stream",
     "text": [
      "\n",
      "Initial validation cost=308.11481\n",
      "Global Step 0200 and Step 0200: validation cost=100.61570\n",
      "Updated min validation loss!Saving model...\n",
      "Global Step 0400 and Step 0400: validation cost=44.85865\n",
      "Updated min validation loss!Saving model...\n",
      "Global Step 0600 and Step 0600: validation cost=20.65164\n",
      "Updated min validation loss!Saving model...\n",
      "Global Step 0800 and Step 0800: validation cost=9.52350\n",
      "Updated min validation loss!Saving model...\n",
      "Global Step 1000 and Step 1000: validation cost=4.12264\n",
      "Updated min validation loss!Saving model...\n",
      "Global Step 1200 and Step 1200: validation cost=2.30005\n",
      "Updated min validation loss!Saving model...\n",
      "Global Step 1400 and Step 1400: validation cost=1.28440\n",
      "Updated min validation loss!Saving model...\n",
      "Global Step 1600 and Step 1600: validation cost=0.76946\n",
      "Updated min validation loss!Saving model...\n",
      "Global Step 1800 and Step 1800: validation cost=0.56172\n",
      "Updated min validation loss!Saving model...\n",
      "Global Step 2000 and Step 2000: validation cost=0.29327\n",
      "Updated min validation loss!Saving model...\n",
      "Global Step 2200 and Step 2200: validation cost=0.31810\n",
      "Global Step 2400 and Step 2400: validation cost=0.21504\n",
      "Updated min validation loss!Saving model...\n",
      "Global Step 2600 and Step 2600: validation cost=0.11277\n",
      "Updated min validation loss!Saving model...\n",
      "Global Step 2800 and Step 2800: validation cost=0.14267\n",
      "Global Step 3000 and Step 3000: validation cost=0.11195\n",
      "Updated min validation loss!Saving model...\n",
      "Global Step 3200 and Step 3200: validation cost=0.07276\n",
      "Updated min validation loss!Saving model...\n",
      "Global Step 3400 and Step 3400: validation cost=0.05715\n",
      "Updated min validation loss!Saving model...\n",
      "Global Step 3600 and Step 3600: validation cost=0.03952\n",
      "Updated min validation loss!Saving model...\n",
      "Global Step 3800 and Step 3800: validation cost=0.03413\n",
      "Updated min validation loss!Saving model...\n",
      "Global Step 4000 and Step 4000: validation cost=0.02493\n",
      "Updated min validation loss!Saving model...\n",
      "Global Step 4200 and Step 4200: validation cost=0.01953\n",
      "Updated min validation loss!Saving model...\n",
      "Global Step 4400 and Step 4400: validation cost=0.01567\n",
      "Updated min validation loss!Saving model...\n",
      "Global Step 4600 and Step 4600: validation cost=0.01025\n",
      "Updated min validation loss!Saving model...\n",
      "Global Step 4800 and Step 4800: validation cost=0.00864\n",
      "Updated min validation loss!Saving model...\n",
      "Global Step 5000 and Step 5000: validation cost=0.00690\n",
      "Updated min validation loss!Saving model...\n",
      "Global Step 5200 and Step 5200: validation cost=0.00626\n",
      "Updated min validation loss!Saving model...\n",
      "Global Step 5400 and Step 5400: validation cost=0.00479\n",
      "Updated min validation loss!Saving model...\n",
      "Global Step 5600 and Step 5600: validation cost=0.00414\n",
      "Updated min validation loss!Saving model...\n",
      "Global Step 5800 and Step 5800: validation cost=0.00329\n",
      "Updated min validation loss!Saving model...\n",
      "Global Step 6000 and Step 6000: validation cost=0.00287\n",
      "Updated min validation loss!Saving model...\n",
      "Global Step 6200 and Step 6200: validation cost=0.00226\n",
      "Updated min validation loss!Saving model...\n",
      "Global Step 6400 and Step 6400: validation cost=0.00169\n",
      "Updated min validation loss!Saving model...\n",
      "Global Step 6600 and Step 6600: validation cost=0.00090\n",
      "Updated min validation loss!Saving model...\n",
      "Global Step 6800 and Step 6800: validation cost=0.00076\n",
      "Updated min validation loss!Saving model...\n",
      "Global Step 7000 and Step 7000: validation cost=0.00075\n",
      "Updated min validation loss!Saving model...\n",
      "Global Step 7200 and Step 7200: validation cost=0.00047\n",
      "Updated min validation loss!Saving model...\n",
      "Global Step 7400 and Step 7400: validation cost=0.00043\n",
      "Updated min validation loss!Saving model...\n",
      "Global Step 7600 and Step 7600: validation cost=0.00036\n",
      "Updated min validation loss!Saving model...\n",
      "Global Step 7800 and Step 7800: validation cost=0.00016\n",
      "Updated min validation loss!Saving model...\n",
      "Global Step 8000 and Step 8000: validation cost=0.00009\n",
      "Updated min validation loss!Saving model...\n",
      "Global Step 8200 and Step 8200: validation cost=0.00007\n",
      "Updated min validation loss!Saving model...\n",
      "Global Step 8400 and Step 8400: validation cost=0.00005\n",
      "Updated min validation loss!Saving model...\n",
      "Global Step 8600 and Step 8600: validation cost=0.00004\n",
      "Updated min validation loss!Saving model...\n",
      "Global Step 8800 and Step 8800: validation cost=0.00015\n",
      "Global Step 9000 and Step 9000: validation cost=0.00013\n",
      "Global Step 9200 and Step 9200: validation cost=0.00001\n",
      "Updated min validation loss!Saving model...\n",
      "Global Step 9400 and Step 9400: validation cost=0.00004\n",
      "Global Step 9600 and Step 9600: validation cost=0.00011\n",
      "Global Step 9800 and Step 9800: validation cost=0.00003\n",
      "Restoring the best parameters...\n",
      "Global Step 10000 and Step 0001: validation cost=0.00001\n",
      "Updated min validation loss!Saving model...\n",
      "Global Step 10200 and Step 0201: validation cost=0.00001\n",
      "Updated min validation loss!Saving model...\n",
      "Global Step 10400 and Step 0401: validation cost=0.00000\n",
      "Updated min validation loss!Saving model...\n",
      "Global Step 10600 and Step 0601: validation cost=0.00001\n",
      "Global Step 10800 and Step 0801: validation cost=0.00000\n",
      "Updated min validation loss!Saving model...\n",
      "Global Step 11000 and Step 1001: validation cost=0.00000\n",
      "Global Step 11200 and Step 1201: validation cost=0.00000\n",
      "Updated min validation loss!Saving model...\n",
      "Global Step 11400 and Step 1401: validation cost=0.00000\n",
      "Global Step 11600 and Step 1601: validation cost=0.00000\n",
      "Updated min validation loss!Saving model...\n",
      "Global Step 11800 and Step 1801: validation cost=0.00000\n",
      "Global Step 12000 and Step 2001: validation cost=0.00002\n",
      "Global Step 12200 and Step 2201: validation cost=0.00000\n",
      "Global Step 12400 and Step 2401: validation cost=0.00001\n",
      "Global Step 12600 and Step 2601: validation cost=0.00000\n",
      "Global Step 12800 and Step 2801: validation cost=0.00000\n",
      "Global Step 13000 and Step 3001: validation cost=0.00000\n",
      "Global Step 13200 and Step 3201: validation cost=0.00000\n",
      "Global Step 13400 and Step 3401: validation cost=0.00001\n",
      "Global Step 13600 and Step 3601: validation cost=0.00001\n",
      "Global Step 13800 and Step 3801: validation cost=0.00001\n",
      "Global Step 14000 and Step 4001: validation cost=0.00003\n",
      "Global Step 14200 and Step 4201: validation cost=0.00003\n",
      "Global Step 14400 and Step 4401: validation cost=0.00001\n",
      "Global Step 14600 and Step 4601: validation cost=0.00001\n",
      "Global Step 14800 and Step 4801: validation cost=0.00002\n",
      "Global Step 15000 and Step 5001: validation cost=0.00006\n",
      "Early Stopping!!!\n",
      "Restoring the best parameters...\n",
      "Global Step 15200 and Step 0200: validation cost=0.00000\n",
      "Updated min validation loss!Saving model...\n",
      "Global Step 15400 and Step 0400: validation cost=0.00000\n",
      "Updated min validation loss!Saving model...\n",
      "Global Step 15600 and Step 0600: validation cost=0.00000\n",
      "Updated min validation loss!Saving model...\n",
      "Global Step 15800 and Step 0800: validation cost=0.00000\n",
      "Global Step 16000 and Step 1000: validation cost=0.00000\n",
      "Updated min validation loss!Saving model...\n",
      "Global Step 16200 and Step 1200: validation cost=0.00000\n",
      "Updated min validation loss!Saving model...\n",
      "Global Step 16400 and Step 1400: validation cost=0.00000\n",
      "Global Step 16600 and Step 1600: validation cost=0.00000\n",
      "Global Step 16800 and Step 1800: validation cost=0.00000\n",
      "Global Step 17000 and Step 2000: validation cost=0.00000\n",
      "Global Step 17200 and Step 2200: validation cost=0.00000\n",
      "Global Step 17400 and Step 2400: validation cost=0.00000\n",
      "Global Step 17600 and Step 2600: validation cost=0.00000\n",
      "Global Step 17800 and Step 2800: validation cost=0.00000\n",
      "Global Step 18000 and Step 3000: validation cost=0.00000\n",
      "Global Step 18200 and Step 3200: validation cost=0.00000\n",
      "Global Step 18400 and Step 3400: validation cost=0.00000\n",
      "Global Step 18600 and Step 3600: validation cost=0.00000\n",
      "Global Step 18800 and Step 3800: validation cost=0.00000\n",
      "Global Step 19000 and Step 4000: validation cost=0.00000\n",
      "Global Step 19200 and Step 4200: validation cost=0.00000\n",
      "Global Step 19400 and Step 4400: validation cost=0.00000\n",
      "Global Step 19600 and Step 4600: validation cost=0.00000\n",
      "Global Step 19800 and Step 4800: validation cost=0.00000\n",
      "Global Step 20000 and Step 5000: validation cost=0.00000\n",
      "Early Stopping!!!\n",
      "Restoring the best parameters...\n"
     ]
    }
   ],
   "source": [
    "# Learn the kernel from random initialization\n",
    "learning_rate = 0.001\n",
    "iterations = 3\n",
    "min_error = 0.0000001\n",
    "for i in range(iterations):\n",
    "    toy_net_trainer.train(train_data, vali_data, batch_size=128, min_error=min_error, feed_dict={toy_data_net.lr: learning_rate})\n",
    "    learning_rate = learning_rate/3"
   ]
  },
  {
   "cell_type": "code",
   "execution_count": 76,
   "metadata": {
    "collapsed": false,
    "deletable": true,
    "editable": true
   },
   "outputs": [
    {
     "name": "stdout",
     "output_type": "stream",
     "text": [
      "bias = -0.0006207771948538721\n"
     ]
    },
    {
     "name": "stderr",
     "output_type": "stream",
     "text": [
      "/usr/local/lib/python3.5/dist-packages/matplotlib/font_manager.py:1297: UserWarning: findfont: Font family ['sans-serif'] not found. Falling back to DejaVu Sans\n",
      "  (prop.get_family(), self.defaultFamily[fontext]))\n"
     ]
    },
    {
     "data": {
      "image/png": "[encoded data removed]",
      "text/plain": [
       "<matplotlib.figure.Figure at 0x7f72498a8eb8>"
      ]
     },
     "metadata": {},
     "output_type": "display_data"
    }
   ],
   "source": [
    "toy_net_trainer.restore_best()\n",
    "w_pre = toy_net_trainer.evaluate(ops=toy_data_net.kernel_pre)\n",
    "w_post = toy_net_trainer.evaluate(ops=toy_data_net.kernel_post)\n",
    "plt.plot(np.linspace(0,100,51)*2 - 100, w_pre,  label='ker_pre_trained')\n",
    "plt.plot(np.linspace(0,100,51)*2 - 100, w_post,  label='ker_post_trained')\n",
    "bias = toy_net_trainer.evaluate(ops=toy_data_net.bias)\n",
    "plt.legend()\n",
    "print(\"bias = {bias}\".format(bias=bias))"
   ]
  }
 ],
 "metadata": {
  "kernelspec": {
   "display_name": "Python 3",
   "language": "python",
   "name": "python3"
  },
  "language_info": {
   "codemirror_mode": {
    "name": "ipython",
    "version": 3
   },
   "file_extension": ".py",
   "mimetype": "text/x-python",
   "name": "python",
   "nbconvert_exporter": "python",
   "pygments_lexer": "ipython3",
   "version": "3.5.2"
  }
 },
 "nbformat": 4,
 "nbformat_minor": 2
}

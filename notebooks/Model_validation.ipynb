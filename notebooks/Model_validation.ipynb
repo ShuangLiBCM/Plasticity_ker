{
 "cells": [
  {
   "cell_type": "markdown",
   "metadata": {
    "deletable": true,
    "editable": true
   },
   "source": [
    "Train validation data with convnet"
   ]
  },
  {
   "cell_type": "code",
   "execution_count": 79,
   "metadata": {
    "collapsed": false,
    "deletable": true,
    "editable": true
   },
   "outputs": [
    {
     "name": "stdout",
     "output_type": "stream",
     "text": [
      "The autoreload extension is already loaded. To reload it, use:\n",
      "  %reload_ext autoreload\n"
     ]
    }
   ],
   "source": [
    "import numpy as np\n",
    "import pandas as pd\n",
    "import matplotlib.pyplot as plt\n",
    "import seaborn as sns\n",
    "import tensorflow as tf\n",
    "from modelval import pairptl, network, trainer, dataset\n",
    "from modelval.ArbDataGen import arb_w_gen\n",
    "\n",
    "% matplotlib inline\n",
    "%load_ext autoreload\n",
    "    \n",
    "%autoreload 2"
   ]
  },
  {
   "cell_type": "code",
   "execution_count": 80,
   "metadata": {
    "collapsed": false,
    "deletable": true,
    "editable": true
   },
   "outputs": [],
   "source": [
    "# Load data frame\n",
    "data = pd.read_csv('/src/Plasticity_Ker/data/kernel_training_data_auto.csv')"
   ]
  },
  {
   "cell_type": "code",
   "execution_count": 81,
   "metadata": {
    "collapsed": true,
    "deletable": true,
    "editable": true
   },
   "outputs": [],
   "source": [
    "data['train_len'] = data['ptl_occ'] / data['ptl_freq']\n",
    "data.head()"
   ]
  },
  {
   "cell_type": "code",
   "execution_count": 83,
   "metadata": {
    "collapsed": true,
    "deletable": true,
    "editable": true
   },
   "outputs": [],
   "source": [
    "test_data = data[data['ptl_idx']==1]"
   ]
  },
  {
   "cell_type": "code",
   "execution_count": 84,
   "metadata": {
    "collapsed": false,
    "deletable": true,
    "editable": true
   },
   "outputs": [
    {
     "data": {
      "text/plain": [
       "<matplotlib.axes._subplots.AxesSubplot at 0x7f7bd790e780>"
      ]
     },
     "execution_count": 84,
     "metadata": {},
     "output_type": "execute_result"
    },
    {
     "name": "stderr",
     "output_type": "stream",
     "text": [
      "/usr/local/lib/python3.5/dist-packages/matplotlib/font_manager.py:1297: UserWarning: findfont: Font family ['sans-serif'] not found. Falling back to DejaVu Sans\n",
      "  (prop.get_family(), self.defaultFamily[fontext]))\n"
     ]
    },
    {
     "data": {
      "image/png": "[encoded data removed]",
      "text/plain": [
       "<matplotlib.figure.Figure at 0x7f7bd7900710>"
      ]
     },
     "metadata": {},
     "output_type": "display_data"
    }
   ],
   "source": [
    "test_data['dt1'].hist(bins=50)"
   ]
  },
  {
   "cell_type": "code",
   "execution_count": 85,
   "metadata": {
    "collapsed": false,
    "deletable": true,
    "editable": true
   },
   "outputs": [
    {
     "data": {
      "text/plain": [
       "<matplotlib.legend.Legend at 0x7f7bf43e83c8>"
      ]
     },
     "execution_count": 85,
     "metadata": {},
     "output_type": "execute_result"
    },
    {
     "name": "stderr",
     "output_type": "stream",
     "text": [
      "/usr/local/lib/python3.5/dist-packages/matplotlib/font_manager.py:1297: UserWarning: findfont: Font family ['sans-serif'] not found. Falling back to DejaVu Sans\n",
      "  (prop.get_family(), self.defaultFamily[fontext]))\n"
     ]
    },
    {
     "data": {
      "image/png": "[encoded data removed]",
      "text/plain": [
       "<matplotlib.figure.Figure at 0x7f7bf428ab38>"
      ]
     },
     "metadata": {},
     "output_type": "display_data"
    }
   ],
   "source": [
    "# Visualize kernel\n",
    "from modelval.kernel import KernelGen\n",
    "ker_test = KernelGen(scale_left=0.05, scale_right=0.1, tau_left=40, tau_right=20, scale=0.1)\n",
    "plt.plot(ker_test.dot_ker, label='ker_pre')\n",
    "plt.plot(ker_test.bilat_ker, label='ker_post')\n",
    "plt.legend()"
   ]
  },
  {
   "cell_type": "code",
   "execution_count": 86,
   "metadata": {
    "collapsed": true,
    "deletable": true,
    "editable": true
   },
   "outputs": [],
   "source": [
    "# # Combine the 3 training sets and targets to generate the new training and targets\n",
    "\n",
    "# input_3_ptl = []\n",
    "# target_3_ptl = []\n",
    "\n",
    "# # input_stdp =np.load('/data/STDP_toy_input.npy')\n",
    "# # input_3_ptl.append(input_stdp)\n",
    "# # target_stdp = np.load('/data/STDP_toy_target.npy')\n",
    "# # target_3_ptl.append(target_stdp)\n",
    "# input_triplet = np.load('/data/Triplet_toy_input.npy')\n",
    "# input_3_ptl.append(input_triplet)\n",
    "# target_triplet = np.load('/data/Triplet_toy_target.npy')\n",
    "# target_3_ptl.append(target_triplet)\n",
    "# input_quad = np.load('/data/Quad_toy_input.npy')\n",
    "# input_3_ptl.append(input_quad)\n",
    "# target_quad = np.load('/data/Quad_toy_target.npy')\n",
    "# target_3_ptl.append(target_quad)\n",
    "\n",
    "# spk_pairs = np.vstack(input_3_ptl)\n",
    "# # targets = np.vstack(target_3_ptl)"
   ]
  },
  {
   "cell_type": "code",
   "execution_count": 87,
   "metadata": {
    "collapsed": false,
    "deletable": true,
    "editable": true
   },
   "outputs": [],
   "source": [
    "# Generate data\n",
    "ptl_list = [2,3,4]\n",
    "spk_len = int(data[data['ptl_idx'].isin(ptl_list)]['train_len'].max() * 1000 / ker_test.reso_kernel)\n",
    "spk_pairs, targets = arb_w_gen(df=data, ptl_list=ptl_list, spk_len=spk_len, kernel=ker_test, aug_times=10)\n",
    "# spk_pairs, targets = arb_w_gen(spk_pairs=spk_pairs, kernel=ker_test)"
   ]
  },
  {
   "cell_type": "code",
   "execution_count": 88,
   "metadata": {
    "collapsed": false,
    "deletable": true,
    "editable": true
   },
   "outputs": [],
   "source": [
    "# Create the network\n",
    "ground_truth_init = 0\n",
    "toy_data_net = network.PairNet(kernel=ker_test, kernel_pre=ker_test.dot_ker, kernel_post=ker_test.bilat_ker, ground_truth_init=ground_truth_init, n_input=spk_pairs.shape[1])"
   ]
  },
  {
   "cell_type": "code",
   "execution_count": 89,
   "metadata": {
    "collapsed": false,
    "deletable": true,
    "editable": true
   },
   "outputs": [],
   "source": [
    "# Create the trainer\n",
    "save_dir= '/src/Plasticity_Ker/model/PairNet_ptl2-4_toy_old'\n",
    "toy_net_trainer = trainer.Trainer(toy_data_net.loss, input_name=toy_data_net.inputs, target_name=toy_data_net.target, save_dir=save_dir, optimizer_config={'learning_rate': toy_data_net.lr})"
   ]
  },
  {
   "cell_type": "code",
   "execution_count": 90,
   "metadata": {
    "collapsed": false,
    "deletable": true,
    "editable": true
   },
   "outputs": [],
   "source": [
    "# Obtain the training and validation data\n",
    "from sklearn.model_selection import train_test_split\n",
    "\n",
    "X_train, X_vali, y_train, y_vali = train_test_split(spk_pairs, targets, test_size=0.1)\n",
    "train_data = dataset.Dataset(X_train, y_train)\n",
    "vali_data = dataset.Dataset(X_vali, y_vali)"
   ]
  },
  {
   "cell_type": "code",
   "execution_count": 91,
   "metadata": {
    "collapsed": false,
    "deletable": true,
    "editable": true
   },
   "outputs": [
    {
     "data": {
      "text/plain": [
       "0.0"
      ]
     },
     "execution_count": 91,
     "metadata": {},
     "output_type": "execute_result"
    },
    {
     "name": "stderr",
     "output_type": "stream",
     "text": [
      "/usr/local/lib/python3.5/dist-packages/matplotlib/font_manager.py:1297: UserWarning: findfont: Font family ['sans-serif'] not found. Falling back to DejaVu Sans\n",
      "  (prop.get_family(), self.defaultFamily[fontext]))\n"
     ]
    },
    {
     "data": {
      "image/png": "[encoded data removed]",
      "text/plain": [
       "<matplotlib.figure.Figure at 0x7f7bf4507518>"
      ]
     },
     "metadata": {},
     "output_type": "display_data"
    }
   ],
   "source": [
    "w_pre = toy_net_trainer.evaluate(ops=toy_data_net.kernel_pre)\n",
    "w_post = toy_net_trainer.evaluate(ops=toy_data_net.kernel_post)\n",
    "plt.plot(w_pre, label='ker_pre_init')\n",
    "plt.plot(w_post, label='ker_post_init')\n",
    "bias = toy_net_trainer.evaluate(ops=toy_data_net.bias)\n",
    "plt.legend()\n",
    "bias"
   ]
  },
  {
   "cell_type": "code",
   "execution_count": 95,
   "metadata": {
    "collapsed": false,
    "deletable": true,
    "editable": true,
    "scrolled": true
   },
   "outputs": [
    {
     "name": "stdout",
     "output_type": "stream",
     "text": [
      "Global Step 6550 and Step 0025: validation cost=0.00181\n",
      "Updated min validation loss!Saving model...\n",
      "Global Step 6600 and Step 0075: validation cost=0.00178\n",
      "Updated min validation loss!Saving model...\n",
      "Global Step 6650 and Step 0125: validation cost=0.00174\n",
      "Updated min validation loss!Saving model...\n",
      "Global Step 6700 and Step 0175: validation cost=0.00170\n",
      "Updated min validation loss!Saving model...\n",
      "Global Step 6750 and Step 0225: validation cost=0.00167\n",
      "Updated min validation loss!Saving model...\n",
      "Global Step 6800 and Step 0275: validation cost=0.00164\n",
      "Updated min validation loss!Saving model...\n",
      "Global Step 6850 and Step 0325: validation cost=0.00160\n",
      "Updated min validation loss!Saving model...\n",
      "Global Step 6900 and Step 0375: validation cost=0.00156\n",
      "Updated min validation loss!Saving model...\n",
      "Global Step 6950 and Step 0425: validation cost=0.00153\n",
      "Updated min validation loss!Saving model...\n",
      "Global Step 7000 and Step 0475: validation cost=0.00150\n",
      "Updated min validation loss!Saving model...\n",
      "Global Step 7050 and Step 0525: validation cost=0.00147\n",
      "Updated min validation loss!Saving model...\n",
      "Global Step 7100 and Step 0575: validation cost=0.00144\n",
      "Updated min validation loss!Saving model...\n",
      "Global Step 7150 and Step 0625: validation cost=0.00141\n",
      "Updated min validation loss!Saving model...\n",
      "Global Step 7200 and Step 0675: validation cost=0.00138\n",
      "Updated min validation loss!Saving model...\n",
      "Global Step 7250 and Step 0725: validation cost=0.00135\n",
      "Updated min validation loss!Saving model...\n",
      "Global Step 7300 and Step 0775: validation cost=0.00132\n",
      "Updated min validation loss!Saving model...\n",
      "Global Step 7350 and Step 0825: validation cost=0.00129\n",
      "Updated min validation loss!Saving model...\n",
      "Global Step 7400 and Step 0875: validation cost=0.00126\n",
      "Updated min validation loss!Saving model...\n",
      "Global Step 7450 and Step 0925: validation cost=0.00123\n",
      "Updated min validation loss!Saving model...\n",
      "Global Step 7500 and Step 0975: validation cost=0.00120\n",
      "Updated min validation loss!Saving model...\n",
      "Global Step 7550 and Step 1025: validation cost=0.00117\n",
      "Updated min validation loss!Saving model...\n",
      "Global Step 7600 and Step 1075: validation cost=0.00114\n",
      "Updated min validation loss!Saving model...\n",
      "Global Step 7650 and Step 1125: validation cost=0.00112\n",
      "Updated min validation loss!Saving model...\n",
      "Global Step 7700 and Step 1175: validation cost=0.00109\n",
      "Updated min validation loss!Saving model...\n",
      "Global Step 7750 and Step 1225: validation cost=0.00106\n",
      "Updated min validation loss!Saving model...\n",
      "Global Step 7800 and Step 1275: validation cost=0.00103\n",
      "Updated min validation loss!Saving model...\n",
      "Global Step 7850 and Step 1325: validation cost=0.00100\n",
      "Updated min validation loss!Saving model...\n",
      "Global Step 7900 and Step 1375: validation cost=0.00098\n",
      "Updated min validation loss!Saving model...\n",
      "Global Step 7950 and Step 1425: validation cost=0.00096\n",
      "Updated min validation loss!Saving model...\n",
      "Global Step 8000 and Step 1475: validation cost=0.00093\n",
      "Updated min validation loss!Saving model...\n",
      "Global Step 8050 and Step 1525: validation cost=0.00090\n",
      "Updated min validation loss!Saving model...\n",
      "Global Step 8100 and Step 1575: validation cost=0.00088\n",
      "Updated min validation loss!Saving model...\n",
      "Global Step 8150 and Step 1625: validation cost=0.00085\n",
      "Updated min validation loss!Saving model...\n",
      "Global Step 8200 and Step 1675: validation cost=0.00083\n",
      "Updated min validation loss!Saving model...\n",
      "Global Step 8250 and Step 1725: validation cost=0.00080\n",
      "Updated min validation loss!Saving model...\n",
      "Global Step 8300 and Step 1775: validation cost=0.00078\n",
      "Updated min validation loss!Saving model...\n",
      "Global Step 8350 and Step 1825: validation cost=0.00076\n",
      "Updated min validation loss!Saving model...\n",
      "Global Step 8400 and Step 1875: validation cost=0.00073\n",
      "Updated min validation loss!Saving model...\n",
      "Global Step 8450 and Step 1925: validation cost=0.00071\n",
      "Updated min validation loss!Saving model...\n",
      "Global Step 8500 and Step 1975: validation cost=0.00069\n",
      "Updated min validation loss!Saving model...\n",
      "Global Step 8550 and Step 2025: validation cost=0.00067\n",
      "Updated min validation loss!Saving model...\n",
      "Global Step 8600 and Step 2075: validation cost=0.00065\n",
      "Updated min validation loss!Saving model...\n",
      "Global Step 8650 and Step 2125: validation cost=0.00063\n",
      "Updated min validation loss!Saving model...\n",
      "Global Step 8700 and Step 2175: validation cost=0.00061\n",
      "Updated min validation loss!Saving model...\n",
      "Global Step 8750 and Step 2225: validation cost=0.00059\n",
      "Updated min validation loss!Saving model...\n",
      "Global Step 8800 and Step 2275: validation cost=0.00057\n",
      "Updated min validation loss!Saving model...\n",
      "Global Step 8850 and Step 2325: validation cost=0.00055\n",
      "Updated min validation loss!Saving model...\n",
      "Global Step 8900 and Step 2375: validation cost=0.00053\n",
      "Updated min validation loss!Saving model...\n",
      "Global Step 8950 and Step 2425: validation cost=0.00051\n",
      "Updated min validation loss!Saving model...\n",
      "Global Step 9000 and Step 2475: validation cost=0.00049\n",
      "Updated min validation loss!Saving model...\n",
      "Global Step 9050 and Step 2525: validation cost=0.00047\n",
      "Updated min validation loss!Saving model...\n",
      "Global Step 9100 and Step 2575: validation cost=0.00046\n",
      "Updated min validation loss!Saving model...\n",
      "Global Step 9150 and Step 2625: validation cost=0.00044\n",
      "Updated min validation loss!Saving model...\n",
      "Global Step 9200 and Step 2675: validation cost=0.00043\n",
      "Updated min validation loss!Saving model...\n",
      "Global Step 9250 and Step 2725: validation cost=0.00041\n",
      "Updated min validation loss!Saving model...\n",
      "Global Step 9300 and Step 2775: validation cost=0.00040\n",
      "Updated min validation loss!Saving model...\n",
      "Global Step 9350 and Step 2825: validation cost=0.00038\n",
      "Updated min validation loss!Saving model...\n",
      "Global Step 9400 and Step 2875: validation cost=0.00037\n",
      "Updated min validation loss!Saving model...\n",
      "Global Step 9450 and Step 2925: validation cost=0.00035\n",
      "Updated min validation loss!Saving model...\n",
      "Global Step 9500 and Step 2975: validation cost=0.00034\n",
      "Updated min validation loss!Saving model...\n",
      "Global Step 9550 and Step 3025: validation cost=0.00033\n",
      "Updated min validation loss!Saving model...\n",
      "Global Step 9600 and Step 3075: validation cost=0.00031\n",
      "Updated min validation loss!Saving model...\n",
      "Global Step 9650 and Step 3125: validation cost=0.00030\n",
      "Updated min validation loss!Saving model...\n",
      "Global Step 9700 and Step 3175: validation cost=0.00029\n",
      "Updated min validation loss!Saving model...\n",
      "Global Step 9750 and Step 3225: validation cost=0.00027\n",
      "Updated min validation loss!Saving model...\n",
      "Global Step 9800 and Step 3275: validation cost=0.00026\n",
      "Updated min validation loss!Saving model...\n",
      "Global Step 9850 and Step 3325: validation cost=0.00025\n",
      "Updated min validation loss!Saving model...\n",
      "Global Step 9900 and Step 3375: validation cost=0.00024\n",
      "Updated min validation loss!Saving model...\n",
      "Global Step 9950 and Step 3425: validation cost=0.00023\n",
      "Updated min validation loss!Saving model...\n",
      "Global Step 10000 and Step 3475: validation cost=0.00022\n",
      "Updated min validation loss!Saving model...\n",
      "Global Step 10050 and Step 3525: validation cost=0.00021\n",
      "Updated min validation loss!Saving model...\n",
      "Global Step 10100 and Step 3575: validation cost=0.00020\n",
      "Updated min validation loss!Saving model...\n",
      "Global Step 10150 and Step 3625: validation cost=0.00019\n",
      "Updated min validation loss!Saving model...\n",
      "Global Step 10200 and Step 3675: validation cost=0.00019\n",
      "Updated min validation loss!Saving model...\n",
      "Global Step 10250 and Step 3725: validation cost=0.00018\n",
      "Updated min validation loss!Saving model...\n",
      "Global Step 10300 and Step 3775: validation cost=0.00017\n",
      "Updated min validation loss!Saving model...\n",
      "Global Step 10350 and Step 3825: validation cost=0.00016\n",
      "Updated min validation loss!Saving model...\n",
      "Global Step 10400 and Step 3875: validation cost=0.00015\n",
      "Updated min validation loss!Saving model...\n",
      "Global Step 10450 and Step 3925: validation cost=0.00015\n",
      "Updated min validation loss!Saving model...\n",
      "Global Step 10500 and Step 3975: validation cost=0.00014\n",
      "Updated min validation loss!Saving model...\n",
      "Global Step 10550 and Step 4025: validation cost=0.00013\n",
      "Updated min validation loss!Saving model...\n",
      "Global Step 10600 and Step 4075: validation cost=0.00013\n",
      "Updated min validation loss!Saving model...\n",
      "Global Step 10650 and Step 4125: validation cost=0.00012\n",
      "Updated min validation loss!Saving model...\n",
      "Global Step 10700 and Step 4175: validation cost=0.00011\n",
      "Updated min validation loss!Saving model...\n",
      "Global Step 10750 and Step 4225: validation cost=0.00011\n",
      "Updated min validation loss!Saving model...\n",
      "Global Step 10800 and Step 4275: validation cost=0.00010\n",
      "Updated min validation loss!Saving model...\n",
      "Global Step 10850 and Step 4325: validation cost=0.00010\n",
      "Updated min validation loss!Saving model...\n",
      "Global Step 10900 and Step 4375: validation cost=0.00010\n",
      "Updated min validation loss!Saving model...\n",
      "Global Step 10950 and Step 4425: validation cost=0.00009\n",
      "Updated min validation loss!Saving model...\n",
      "Global Step 11000 and Step 4475: validation cost=0.00009\n",
      "Updated min validation loss!Saving model...\n",
      "Global Step 11050 and Step 4525: validation cost=0.00008\n",
      "Updated min validation loss!Saving model...\n",
      "Global Step 11100 and Step 4575: validation cost=0.00008\n",
      "Updated min validation loss!Saving model...\n",
      "Global Step 11150 and Step 4625: validation cost=0.00007\n",
      "Updated min validation loss!Saving model...\n",
      "Global Step 11200 and Step 4675: validation cost=0.00007\n",
      "Updated min validation loss!Saving model...\n",
      "Global Step 11250 and Step 4725: validation cost=0.00007\n",
      "Updated min validation loss!Saving model...\n",
      "Global Step 11300 and Step 4775: validation cost=0.00006\n",
      "Updated min validation loss!Saving model...\n",
      "Global Step 11350 and Step 4825: validation cost=0.00006\n",
      "Updated min validation loss!Saving model...\n",
      "Global Step 11400 and Step 4875: validation cost=0.00006\n",
      "Updated min validation loss!Saving model...\n",
      "Global Step 11450 and Step 4925: validation cost=0.00005\n",
      "Updated min validation loss!Saving model...\n",
      "Global Step 11500 and Step 4975: validation cost=0.00005\n",
      "Updated min validation loss!Saving model...\n",
      "Global Step 11550 and Step 5025: validation cost=0.00005\n",
      "Updated min validation loss!Saving model...\n",
      "Global Step 11600 and Step 5075: validation cost=0.00005\n",
      "Updated min validation loss!Saving model...\n",
      "Global Step 11650 and Step 5125: validation cost=0.00004\n",
      "Updated min validation loss!Saving model...\n",
      "Global Step 11700 and Step 5175: validation cost=0.00004\n",
      "Updated min validation loss!Saving model...\n",
      "Global Step 11750 and Step 5225: validation cost=0.00004\n",
      "Updated min validation loss!Saving model...\n",
      "Global Step 11800 and Step 5275: validation cost=0.00004\n",
      "Updated min validation loss!Saving model...\n",
      "Global Step 11850 and Step 5325: validation cost=0.00004\n",
      "Updated min validation loss!Saving model...\n",
      "Global Step 11900 and Step 5375: validation cost=0.00003\n",
      "Updated min validation loss!Saving model...\n",
      "Global Step 11950 and Step 5425: validation cost=0.00003\n",
      "Updated min validation loss!Saving model...\n",
      "Global Step 12000 and Step 5475: validation cost=0.00003\n",
      "Updated min validation loss!Saving model...\n",
      "Global Step 12050 and Step 5525: validation cost=0.00003\n",
      "Updated min validation loss!Saving model...\n",
      "Global Step 12100 and Step 5575: validation cost=0.00003\n",
      "Updated min validation loss!Saving model...\n",
      "Global Step 12150 and Step 5625: validation cost=0.00002\n",
      "Updated min validation loss!Saving model...\n",
      "Global Step 12200 and Step 5675: validation cost=0.00002\n",
      "Updated min validation loss!Saving model...\n",
      "Global Step 12250 and Step 5725: validation cost=0.00002\n",
      "Updated min validation loss!Saving model...\n",
      "Global Step 12300 and Step 5775: validation cost=0.00002\n",
      "Updated min validation loss!Saving model...\n",
      "Global Step 12350 and Step 5825: validation cost=0.00002\n",
      "Updated min validation loss!Saving model...\n",
      "Global Step 12400 and Step 5875: validation cost=0.00002\n",
      "Updated min validation loss!Saving model...\n",
      "Global Step 12450 and Step 5925: validation cost=0.00002\n",
      "Updated min validation loss!Saving model...\n",
      "Global Step 12500 and Step 5975: validation cost=0.00002\n",
      "Updated min validation loss!Saving model...\n",
      "Global Step 12550 and Step 6025: validation cost=0.00002\n",
      "Updated min validation loss!Saving model...\n",
      "Global Step 12600 and Step 6075: validation cost=0.00001\n",
      "Updated min validation loss!Saving model...\n",
      "Global Step 12650 and Step 6125: validation cost=0.00001\n",
      "Updated min validation loss!Saving model...\n",
      "Global Step 12700 and Step 6175: validation cost=0.00001\n",
      "Updated min validation loss!Saving model...\n",
      "Global Step 12750 and Step 6225: validation cost=0.00001\n",
      "Updated min validation loss!Saving model...\n",
      "Global Step 12800 and Step 6275: validation cost=0.00001\n",
      "Updated min validation loss!Saving model...\n",
      "Global Step 12850 and Step 6325: validation cost=0.00001\n",
      "Updated min validation loss!Saving model...\n",
      "Global Step 12900 and Step 6375: validation cost=0.00001\n",
      "Updated min validation loss!Saving model...\n",
      "Global Step 12950 and Step 6425: validation cost=0.00001\n",
      "Updated min validation loss!Saving model...\n",
      "Global Step 13000 and Step 6475: validation cost=0.00001\n",
      "Updated min validation loss!Saving model...\n",
      "Global Step 13050 and Step 6525: validation cost=0.00001\n",
      "Updated min validation loss!Saving model...\n",
      "Global Step 13100 and Step 6575: validation cost=0.00001\n",
      "Updated min validation loss!Saving model...\n",
      "Global Step 13150 and Step 6625: validation cost=0.00001\n",
      "Updated min validation loss!Saving model...\n",
      "Global Step 13200 and Step 6675: validation cost=0.00001\n",
      "Updated min validation loss!Saving model...\n",
      "Global Step 13250 and Step 6725: validation cost=0.00001\n",
      "Updated min validation loss!Saving model...\n",
      "Global Step 13300 and Step 6775: validation cost=0.00001\n",
      "Updated min validation loss!Saving model...\n",
      "Global Step 13350 and Step 6825: validation cost=0.00001\n",
      "Updated min validation loss!Saving model...\n",
      "Global Step 13400 and Step 6875: validation cost=0.00000\n",
      "Updated min validation loss!Saving model...\n",
      "Global Step 13450 and Step 6925: validation cost=0.00000\n",
      "Updated min validation loss!Saving model...\n",
      "Global Step 13500 and Step 6975: validation cost=0.00000\n",
      "Updated min validation loss!Saving model...\n",
      "Global Step 13550 and Step 7025: validation cost=0.00000\n",
      "Updated min validation loss!Saving model...\n",
      "Global Step 13600 and Step 7075: validation cost=0.00000\n",
      "Updated min validation loss!Saving model...\n",
      "Global Step 13650 and Step 7125: validation cost=0.00000\n",
      "Updated min validation loss!Saving model...\n",
      "Global Step 13700 and Step 7175: validation cost=0.00000\n",
      "Updated min validation loss!Saving model...\n",
      "Global Step 13750 and Step 7225: validation cost=0.00000\n",
      "Updated min validation loss!Saving model...\n",
      "Global Step 13800 and Step 7275: validation cost=0.00000\n",
      "Updated min validation loss!Saving model...\n",
      "Global Step 13850 and Step 7325: validation cost=0.00000\n",
      "Updated min validation loss!Saving model...\n",
      "Global Step 13900 and Step 7375: validation cost=0.00000\n",
      "Updated min validation loss!Saving model...\n",
      "Global Step 13950 and Step 7425: validation cost=0.00000\n",
      "Updated min validation loss!Saving model...\n",
      "Global Step 14000 and Step 7475: validation cost=0.00000\n",
      "Updated min validation loss!Saving model...\n",
      "Global Step 14050 and Step 7525: validation cost=0.00000\n",
      "Updated min validation loss!Saving model...\n",
      "Global Step 14100 and Step 7575: validation cost=0.00000\n",
      "Updated min validation loss!Saving model...\n",
      "Global Step 14150 and Step 7625: validation cost=0.00000\n",
      "Updated min validation loss!Saving model...\n",
      "Global Step 14200 and Step 7675: validation cost=0.00000\n",
      "Updated min validation loss!Saving model...\n",
      "Global Step 14250 and Step 7725: validation cost=0.00000\n",
      "Updated min validation loss!Saving model...\n",
      "Global Step 14300 and Step 7775: validation cost=0.00000\n",
      "Updated min validation loss!Saving model...\n",
      "Global Step 14350 and Step 7825: validation cost=0.00000\n",
      "Updated min validation loss!Saving model...\n",
      "Global Step 14400 and Step 7875: validation cost=0.00000\n",
      "Updated min validation loss!Saving model...\n",
      "Global Step 14450 and Step 7925: validation cost=0.00000\n",
      "Updated min validation loss!Saving model...\n",
      "Global Step 14500 and Step 7975: validation cost=0.00000\n",
      "Updated min validation loss!Saving model...\n",
      "Global Step 14550 and Step 8025: validation cost=0.00000\n",
      "Updated min validation loss!Saving model...\n",
      "Global Step 14600 and Step 8075: validation cost=0.00000\n",
      "Global Step 14650 and Step 8125: validation cost=0.00000\n",
      "Global Step 14700 and Step 8175: validation cost=0.00000\n",
      "Updated min validation loss!Saving model...\n",
      "Global Step 14750 and Step 8225: validation cost=0.00000\n",
      "Global Step 14800 and Step 8275: validation cost=0.00000\n",
      "Updated min validation loss!Saving model...\n",
      "Global Step 14850 and Step 8325: validation cost=0.00000\n",
      "Global Step 14900 and Step 8375: validation cost=0.00000\n",
      "Updated min validation loss!Saving model...\n",
      "Global Step 14950 and Step 8425: validation cost=0.00000\n",
      "Global Step 15000 and Step 8475: validation cost=0.00000\n",
      "Global Step 15050 and Step 8525: validation cost=0.00000\n",
      "Global Step 15100 and Step 8575: validation cost=0.00000\n",
      "Global Step 15150 and Step 8625: validation cost=0.00000\n",
      "Global Step 15200 and Step 8675: validation cost=0.00000\n",
      "Global Step 15250 and Step 8725: validation cost=0.00000\n",
      "Global Step 15300 and Step 8775: validation cost=0.00000\n",
      "Global Step 15350 and Step 8825: validation cost=0.00000\n",
      "Global Step 15400 and Step 8875: validation cost=0.00000\n",
      "Global Step 15450 and Step 8925: validation cost=0.00000\n",
      "Global Step 15500 and Step 8975: validation cost=0.00000\n",
      "Updated min validation loss!Saving model...\n",
      "Global Step 15550 and Step 9025: validation cost=0.00000\n",
      "Global Step 15600 and Step 9075: validation cost=0.00000\n",
      "Global Step 15650 and Step 9125: validation cost=0.00000\n",
      "Updated min validation loss!Saving model...\n",
      "Global Step 15700 and Step 9175: validation cost=0.00000\n",
      "Updated min validation loss!Saving model...\n",
      "Global Step 15750 and Step 9225: validation cost=0.00000\n",
      "Updated min validation loss!Saving model...\n",
      "Global Step 15800 and Step 9275: validation cost=0.00000\n",
      "Global Step 15850 and Step 9325: validation cost=0.00000\n",
      "Global Step 15900 and Step 9375: validation cost=0.00000\n",
      "Global Step 15950 and Step 9425: validation cost=0.00000\n",
      "Updated min validation loss!Saving model...\n",
      "Global Step 16000 and Step 9475: validation cost=0.00000\n",
      "Minimum error reached!!!\n",
      "Restoring the best parameters...\n",
      "Global Step 16050 and Step 0050: validation cost=0.00000\n",
      "Updated min validation loss!Saving model...\n",
      "Global Step 16100 and Step 0100: validation cost=0.00000\n",
      "Minimum error reached!!!\n",
      "Restoring the best parameters...\n",
      "Global Step 16150 and Step 0050: validation cost=0.00000\n",
      "Global Step 16200 and Step 0100: validation cost=0.00000\n",
      "Global Step 16250 and Step 0150: validation cost=0.00000\n",
      "Minimum error reached!!!\n",
      "Restoring the best parameters...\n"
     ]
    }
   ],
   "source": [
    "# Learn the kernel from random initialization\n",
    "learning_rate = 0.0001\n",
    "iterations = 3\n",
    "min_error = 0.000001\n",
    "for i in range(iterations):\n",
    "    toy_net_trainer.train(train_data, vali_data, batch_size=128, min_error=min_error, feed_dict={toy_data_net.lr: learning_rate})\n",
    "    learning_rate = learning_rate/3"
   ]
  },
  {
   "cell_type": "code",
   "execution_count": 96,
   "metadata": {
    "collapsed": false,
    "deletable": true,
    "editable": true
   },
   "outputs": [
    {
     "name": "stdout",
     "output_type": "stream",
     "text": [
      "bias = -0.00029880361398682\n"
     ]
    },
    {
     "name": "stderr",
     "output_type": "stream",
     "text": [
      "/usr/local/lib/python3.5/dist-packages/matplotlib/font_manager.py:1297: UserWarning: findfont: Font family ['sans-serif'] not found. Falling back to DejaVu Sans\n",
      "  (prop.get_family(), self.defaultFamily[fontext]))\n"
     ]
    },
    {
     "data": {
      "image/png": "[encoded data removed]",
      "text/plain": [
       "<matplotlib.figure.Figure at 0x7f7bf14d5438>"
      ]
     },
     "metadata": {},
     "output_type": "display_data"
    }
   ],
   "source": [
    "toy_net_trainer.restore_best()\n",
    "w_pre = toy_net_trainer.evaluate(ops=toy_data_net.kernel_pre)\n",
    "w_post = toy_net_trainer.evaluate(ops=toy_data_net.kernel_post)\n",
    "plt.plot(np.linspace(0,50,51)*2 - 50, w_pre,  label='ker_pre_trained')\n",
    "plt.plot(np.linspace(0,50,51)*2 - 50, w_post,  label='ker_post_trained')\n",
    "bias = toy_net_trainer.evaluate(ops=toy_data_net.bias)\n",
    "plt.legend()\n",
    "print(\"bias = {bias}\".format(bias=bias))"
   ]
  },
  {
   "cell_type": "code",
   "execution_count": null,
   "metadata": {
    "collapsed": true,
    "deletable": true,
    "editable": true
   },
   "outputs": [],
   "source": []
  }
 ],
 "metadata": {
  "kernelspec": {
   "display_name": "Python 3",
   "language": "python",
   "name": "python3"
  },
  "language_info": {
   "codemirror_mode": {
    "name": "ipython",
    "version": 3
   },
   "file_extension": ".py",
   "mimetype": "text/x-python",
   "name": "python",
   "nbconvert_exporter": "python",
   "pygments_lexer": "ipython3",
   "version": "3.5.2"
  }
 },
 "nbformat": 4,
 "nbformat_minor": 2
}

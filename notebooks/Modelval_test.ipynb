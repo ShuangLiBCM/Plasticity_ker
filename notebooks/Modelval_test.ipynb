{
 "cells": [
  {
   "cell_type": "markdown",
   "metadata": {
    "deletable": true,
    "editable": true
   },
   "source": [
    "Test the modules and functions of modelval"
   ]
  },
  {
   "cell_type": "code",
   "execution_count": 12,
   "metadata": {
    "collapsed": false,
    "deletable": true,
    "editable": true
   },
   "outputs": [
    {
     "name": "stdout",
     "output_type": "stream",
     "text": [
      "The autoreload extension is already loaded. To reload it, use:\n",
      "  %reload_ext autoreload\n"
     ]
    }
   ],
   "source": [
    "import numpy as np\n",
    "import pandas as pd\n",
    "import matplotlib.pyplot as plt\n",
    "import seaborn as sns\n",
    "import tensorflow as tf\n",
    "% matplotlib inline\n",
    "%load_ext autoreload\n",
    "    \n",
    "%autoreload 2"
   ]
  },
  {
   "cell_type": "code",
   "execution_count": 9,
   "metadata": {
    "collapsed": false,
    "deletable": true,
    "editable": true
   },
   "outputs": [],
   "source": [
    "data = pd.read_csv('/src/Plasticity_Ker/data/kernel_training_data_auto.csv')"
   ]
  },
  {
   "cell_type": "code",
   "execution_count": 11,
   "metadata": {
    "collapsed": false,
    "deletable": true,
    "editable": true
   },
   "outputs": [
    {
     "data": {
      "text/html": [
       "<div>\n",
       "<table border=\"1\" class=\"dataframe\">\n",
       "  <thead>\n",
       "    <tr style=\"text-align: right;\">\n",
       "      <th></th>\n",
       "      <th>ptl_idx</th>\n",
       "      <th>pre_spk_num</th>\n",
       "      <th>pre_spk_freq</th>\n",
       "      <th>post_spk_num</th>\n",
       "      <th>post_spk_freq</th>\n",
       "      <th>ptl_occ</th>\n",
       "      <th>ptl_freq</th>\n",
       "      <th>dt1</th>\n",
       "      <th>dt2</th>\n",
       "      <th>dt3</th>\n",
       "      <th>dw_mean</th>\n",
       "      <th>dw_ste</th>\n",
       "    </tr>\n",
       "  </thead>\n",
       "  <tbody>\n",
       "    <tr>\n",
       "      <th>0</th>\n",
       "      <td>1</td>\n",
       "      <td>1</td>\n",
       "      <td>0</td>\n",
       "      <td>1</td>\n",
       "      <td>0</td>\n",
       "      <td>60</td>\n",
       "      <td>1.0</td>\n",
       "      <td>-102.898046</td>\n",
       "      <td>0.0</td>\n",
       "      <td>0</td>\n",
       "      <td>-1.322590</td>\n",
       "      <td>0.0</td>\n",
       "    </tr>\n",
       "    <tr>\n",
       "      <th>1</th>\n",
       "      <td>1</td>\n",
       "      <td>1</td>\n",
       "      <td>0</td>\n",
       "      <td>1</td>\n",
       "      <td>0</td>\n",
       "      <td>60</td>\n",
       "      <td>1.0</td>\n",
       "      <td>-75.579896</td>\n",
       "      <td>0.0</td>\n",
       "      <td>0</td>\n",
       "      <td>2.674768</td>\n",
       "      <td>0.0</td>\n",
       "    </tr>\n",
       "    <tr>\n",
       "      <th>2</th>\n",
       "      <td>1</td>\n",
       "      <td>1</td>\n",
       "      <td>0</td>\n",
       "      <td>1</td>\n",
       "      <td>0</td>\n",
       "      <td>60</td>\n",
       "      <td>1.0</td>\n",
       "      <td>-80.871473</td>\n",
       "      <td>0.0</td>\n",
       "      <td>0</td>\n",
       "      <td>-12.696449</td>\n",
       "      <td>0.0</td>\n",
       "    </tr>\n",
       "    <tr>\n",
       "      <th>3</th>\n",
       "      <td>1</td>\n",
       "      <td>1</td>\n",
       "      <td>0</td>\n",
       "      <td>1</td>\n",
       "      <td>0</td>\n",
       "      <td>60</td>\n",
       "      <td>1.0</td>\n",
       "      <td>-67.562239</td>\n",
       "      <td>0.0</td>\n",
       "      <td>0</td>\n",
       "      <td>0.231446</td>\n",
       "      <td>0.0</td>\n",
       "    </tr>\n",
       "    <tr>\n",
       "      <th>4</th>\n",
       "      <td>1</td>\n",
       "      <td>1</td>\n",
       "      <td>0</td>\n",
       "      <td>1</td>\n",
       "      <td>0</td>\n",
       "      <td>60</td>\n",
       "      <td>1.0</td>\n",
       "      <td>-63.553410</td>\n",
       "      <td>0.0</td>\n",
       "      <td>0</td>\n",
       "      <td>-0.990216</td>\n",
       "      <td>0.0</td>\n",
       "    </tr>\n",
       "  </tbody>\n",
       "</table>\n",
       "</div>"
      ],
      "text/plain": [
       "   ptl_idx  pre_spk_num  pre_spk_freq  post_spk_num  post_spk_freq  ptl_occ  \\\n",
       "0        1            1             0             1              0       60   \n",
       "1        1            1             0             1              0       60   \n",
       "2        1            1             0             1              0       60   \n",
       "3        1            1             0             1              0       60   \n",
       "4        1            1             0             1              0       60   \n",
       "\n",
       "   ptl_freq         dt1  dt2  dt3    dw_mean  dw_ste  \n",
       "0       1.0 -102.898046  0.0    0  -1.322590     0.0  \n",
       "1       1.0  -75.579896  0.0    0   2.674768     0.0  \n",
       "2       1.0  -80.871473  0.0    0 -12.696449     0.0  \n",
       "3       1.0  -67.562239  0.0    0   0.231446     0.0  \n",
       "4       1.0  -63.553410  0.0    0  -0.990216     0.0  "
      ]
     },
     "execution_count": 11,
     "metadata": {},
     "output_type": "execute_result"
    }
   ],
   "source": [
    "data[data['ptl_idx']==1].head()"
   ]
  },
  {
   "cell_type": "markdown",
   "metadata": {
    "deletable": true,
    "editable": true
   },
   "source": [
    "Test KernelGen object"
   ]
  },
  {
   "cell_type": "code",
   "execution_count": 13,
   "metadata": {
    "collapsed": true,
    "deletable": true,
    "editable": true
   },
   "outputs": [],
   "source": [
    "from modelval.kernel import KernelGen"
   ]
  },
  {
   "cell_type": "code",
   "execution_count": 14,
   "metadata": {
    "collapsed": false,
    "deletable": true,
    "editable": true
   },
   "outputs": [],
   "source": [
    "ker_test = KernelGen()"
   ]
  },
  {
   "cell_type": "code",
   "execution_count": 15,
   "metadata": {
    "collapsed": false,
    "deletable": true,
    "editable": true
   },
   "outputs": [
    {
     "data": {
      "text/plain": [
       "[<matplotlib.lines.Line2D at 0x7fbe4abb3cf8>]"
      ]
     },
     "execution_count": 15,
     "metadata": {},
     "output_type": "execute_result"
    },
    {
     "name": "stderr",
     "output_type": "stream",
     "text": [
      "/usr/local/lib/python3.5/dist-packages/matplotlib/font_manager.py:1297: UserWarning: findfont: Font family ['sans-serif'] not found. Falling back to DejaVu Sans\n",
      "  (prop.get_family(), self.defaultFamily[fontext]))\n"
     ]
    },
    {
     "data": {
      "image/png": "[encoded data removed]",
      "text/plain": [
       "<matplotlib.figure.Figure at 0x7fbe4ac7c2b0>"
      ]
     },
     "metadata": {},
     "output_type": "display_data"
    }
   ],
   "source": [
    "fig, ax = plt.subplots(1,2, sharex=True,sharey=True)\n",
    "fig.set_figwidth(5)\n",
    "fig.set_figheight(2)\n",
    "ax[0].plot(ker_test.x, ker_test.bilat_ker)\n",
    "ax[0].set_xlim(-100, 100)\n",
    "uni_ker = ker_test.uni_exp_ker()\n",
    "ax[1].plot(ker_test.x, ker_test.unilat_ker)"
   ]
  },
  {
   "cell_type": "markdown",
   "metadata": {
    "deletable": true,
    "editable": true
   },
   "source": [
    "Test KernelGen function"
   ]
  },
  {
   "cell_type": "code",
   "execution_count": 17,
   "metadata": {
    "collapsed": false,
    "deletable": true,
    "editable": true
   },
   "outputs": [],
   "source": [
    "from modelval.ArbDataGen import arb_spk_gen"
   ]
  },
  {
   "cell_type": "code",
   "execution_count": 18,
   "metadata": {
    "collapsed": false,
    "deletable": true,
    "editable": true
   },
   "outputs": [],
   "source": [
    "test_ptl = PairPtl(*data.iloc[10])\n",
    "spk_time_pre, spk_time_post, spk_pair = arb_spk_gen(test_ptl, ker_test.reso_kernel, if_noise=1)"
   ]
  },
  {
   "cell_type": "code",
   "execution_count": 19,
   "metadata": {
    "collapsed": false,
    "deletable": true,
    "editable": true
   },
   "outputs": [
    {
     "data": {
      "text/plain": [
       "array([  188,   688,  1188,  1688,  2188,  2688,  3188,  3688,  4188,\n",
       "        4688,  5188,  5688,  6188,  6688,  7188,  7688,  8188,  8688,\n",
       "        9188,  9688, 10188, 10688, 11188, 11688, 12188, 12688, 13188,\n",
       "       13688, 14188, 14688, 15188, 15688, 16188, 16688, 17188, 17688,\n",
       "       18188, 18688, 19188, 19688, 20188, 20688, 21188, 21688, 22188,\n",
       "       22688, 23188, 23688, 24188, 24688, 25188, 25688, 26188, 26688,\n",
       "       27188, 27688, 28188, 28688, 29188, 29688])"
      ]
     },
     "execution_count": 19,
     "metadata": {},
     "output_type": "execute_result"
    }
   ],
   "source": [
    "spk_time_pre"
   ]
  },
  {
   "cell_type": "code",
   "execution_count": 20,
   "metadata": {
    "collapsed": false,
    "deletable": true,
    "editable": true
   },
   "outputs": [
    {
     "data": {
      "text/plain": [
       "array([  180,   679,  1183,  1680,  2178,  2679,  3181,  3682,  4178,\n",
       "        4682,  5180,  5678,  6180,  6679,  7180,  7683,  8181,  8678,\n",
       "        9179,  9673, 10176, 10680, 11180, 11678, 12181, 12676, 13179,\n",
       "       13677, 14179, 14678, 15180, 15680, 16180, 16678, 17181, 17677,\n",
       "       18181, 18680, 19183, 19680, 20180, 20680, 21180, 21681, 22180,\n",
       "       22681, 23179, 23680, 24183, 24681, 25180, 25683, 26182, 26681,\n",
       "       27180, 27680, 28184, 28679, 29184, 29680])"
      ]
     },
     "execution_count": 20,
     "metadata": {},
     "output_type": "execute_result"
    }
   ],
   "source": [
    "spk_time_post"
   ]
  },
  {
   "cell_type": "code",
   "execution_count": 21,
   "metadata": {
    "collapsed": false,
    "deletable": true,
    "editable": true,
    "scrolled": true
   },
   "outputs": [
    {
     "data": {
      "text/plain": [
       "<matplotlib.legend.Legend at 0x7f3f3cd91860>"
      ]
     },
     "execution_count": 21,
     "metadata": {},
     "output_type": "execute_result"
    },
    {
     "data": {
      "image/png": "[encoded data removed]",
      "text/plain": [
       "<matplotlib.figure.Figure at 0x7f3f3b3c59b0>"
      ]
     },
     "metadata": {},
     "output_type": "display_data"
    }
   ],
   "source": [
    "plt.plot(spk_time_pre[:20], np.ones(20), '.', label='Pre')\n",
    "plt.plot(spk_time_post[:20], np.ones(20), '.', label='Post')\n",
    "plt.legend()\n",
    "#plt.axis([0,200,0.9,1.1])"
   ]
  },
  {
   "cell_type": "markdown",
   "metadata": {
    "deletable": true,
    "editable": true
   },
   "source": [
    "Test dataset"
   ]
  },
  {
   "cell_type": "code",
   "execution_count": 22,
   "metadata": {
    "collapsed": false,
    "deletable": true,
    "editable": true
   },
   "outputs": [],
   "source": [
    "from modelval.dataset import Dataset"
   ]
  },
  {
   "cell_type": "code",
   "execution_count": 23,
   "metadata": {
    "collapsed": true,
    "deletable": true,
    "editable": true
   },
   "outputs": [],
   "source": [
    "x = np.random.normal(loc=0.0, scale=1.0, size=[10000,10])"
   ]
  },
  {
   "cell_type": "code",
   "execution_count": 24,
   "metadata": {
    "collapsed": false,
    "deletable": true,
    "editable": true
   },
   "outputs": [],
   "source": [
    "w_true = np.ones(shape=(10,1)) * 0.5\n",
    "y_true = np.dot(x, w_true)"
   ]
  },
  {
   "cell_type": "code",
   "execution_count": 25,
   "metadata": {
    "collapsed": true,
    "deletable": true,
    "editable": true
   },
   "outputs": [],
   "source": [
    "from sklearn.model_selection import train_test_split"
   ]
  },
  {
   "cell_type": "code",
   "execution_count": 26,
   "metadata": {
    "collapsed": false,
    "deletable": true,
    "editable": true
   },
   "outputs": [],
   "source": [
    "X_train, X_vali, y_train, y_vali = train_test_split(x, y_true, test_size=0.1)"
   ]
  },
  {
   "cell_type": "code",
   "execution_count": 27,
   "metadata": {
    "collapsed": true,
    "deletable": true,
    "editable": true
   },
   "outputs": [],
   "source": [
    "train_data = Dataset(X_train, y_train)"
   ]
  },
  {
   "cell_type": "code",
   "execution_count": 28,
   "metadata": {
    "collapsed": true,
    "deletable": true,
    "editable": true
   },
   "outputs": [],
   "source": [
    "vali_data = Dataset(X_vali, y_vali)"
   ]
  },
  {
   "cell_type": "markdown",
   "metadata": {
    "deletable": true,
    "editable": true
   },
   "source": [
    "Test network class"
   ]
  },
  {
   "cell_type": "code",
   "execution_count": 29,
   "metadata": {
    "collapsed": false,
    "deletable": true,
    "editable": true
   },
   "outputs": [],
   "source": [
    "from modelval.network import BaseNet"
   ]
  },
  {
   "cell_type": "code",
   "execution_count": 30,
   "metadata": {
    "collapsed": false,
    "deletable": true,
    "editable": true
   },
   "outputs": [],
   "source": [
    "# Build the basic network\n",
    "basenet = BaseNet()"
   ]
  },
  {
   "cell_type": "code",
   "execution_count": 31,
   "metadata": {
    "collapsed": false,
    "deletable": true,
    "editable": true
   },
   "outputs": [],
   "source": [
    "from modelval.trainer import Trainer"
   ]
  },
  {
   "cell_type": "code",
   "execution_count": 32,
   "metadata": {
    "collapsed": false,
    "deletable": true,
    "editable": true
   },
   "outputs": [],
   "source": [
    "basenet_train = Trainer(basenet.loss, input_name=basenet.X, target_name=basenet.y, save_dir='/src/Plasticity_Ker/model/',  optimizer_config={'learning_rate': basenet.lr})"
   ]
  },
  {
   "cell_type": "code",
   "execution_count": 33,
   "metadata": {
    "collapsed": false,
    "deletable": true,
    "editable": true
   },
   "outputs": [
    {
     "name": "stdout",
     "output_type": "stream",
     "text": [
      "\n",
      "Initial validation cost=1314.30713\n",
      "Global Step 0200 and Step 0200: validation cost=808.99316\n",
      "Updated min validation loss!Saving model...\n",
      "Global Step 0400 and Step 0400: validation cost=455.06076\n",
      "Updated min validation loss!Saving model...\n",
      "Global Step 0600 and Step 0600: validation cost=301.10376\n",
      "Updated min validation loss!Saving model...\n",
      "Global Step 0800 and Step 0800: validation cost=166.96881\n",
      "Updated min validation loss!Saving model...\n",
      "Global Step 1000 and Step 1000: validation cost=68.70240\n",
      "Updated min validation loss!Saving model...\n",
      "Global Step 1200 and Step 1200: validation cost=33.96545\n",
      "Updated min validation loss!Saving model...\n",
      "Global Step 1400 and Step 1400: validation cost=16.72872\n",
      "Updated min validation loss!Saving model...\n",
      "Global Step 1600 and Step 1600: validation cost=6.76650\n",
      "Updated min validation loss!Saving model...\n",
      "Global Step 1800 and Step 1800: validation cost=3.39062\n",
      "Updated min validation loss!Saving model...\n",
      "Global Step 2000 and Step 2000: validation cost=1.02232\n",
      "Updated min validation loss!Saving model...\n",
      "Global Step 2200 and Step 2200: validation cost=0.40596\n",
      "Updated min validation loss!Saving model...\n",
      "Global Step 2400 and Step 2400: validation cost=0.13468\n",
      "Updated min validation loss!Saving model...\n",
      "Global Step 2600 and Step 2600: validation cost=0.03255\n",
      "Updated min validation loss!Saving model...\n",
      "Global Step 2800 and Step 2800: validation cost=0.00736\n",
      "Updated min validation loss!Saving model...\n",
      "Global Step 3000 and Step 3000: validation cost=0.00189\n",
      "Updated min validation loss!Saving model...\n",
      "Global Step 3200 and Step 3200: validation cost=0.00031\n",
      "Updated min validation loss!Saving model...\n",
      "Global Step 3400 and Step 3400: validation cost=0.00004\n",
      "Updated min validation loss!Saving model...\n",
      "Global Step 3600 and Step 3600: validation cost=0.00001\n",
      "Updated min validation loss!Saving model...\n",
      "Global Step 3800 and Step 3800: validation cost=0.00000\n",
      "Updated min validation loss!Saving model...\n",
      "Global Step 4000 and Step 4000: validation cost=0.00000\n",
      "Updated min validation loss!Saving model...\n",
      "Global Step 4200 and Step 4200: validation cost=0.00000\n",
      "Updated min validation loss!Saving model...\n",
      "Global Step 4400 and Step 4400: validation cost=0.00000\n",
      "Updated min validation loss!Saving model...\n",
      "Global Step 4600 and Step 4600: validation cost=0.00000\n",
      "Updated min validation loss!Saving model...\n",
      "Global Step 4800 and Step 4800: validation cost=0.00000\n",
      "Updated min validation loss!Saving model...\n",
      "Global Step 5000 and Step 5000: validation cost=0.00000\n",
      "Updated min validation loss!Saving model...\n",
      "Global Step 5200 and Step 5200: validation cost=0.00000\n",
      "Updated min validation loss!Saving model...\n",
      "Global Step 5400 and Step 5400: validation cost=0.00000\n",
      "Updated min validation loss!Saving model...\n",
      "Global Step 5600 and Step 5600: validation cost=0.00000\n",
      "Updated min validation loss!Saving model...\n",
      "Global Step 5800 and Step 5800: validation cost=0.00000\n",
      "Updated min validation loss!Saving model...\n",
      "Global Step 6000 and Step 6000: validation cost=0.00000\n",
      "Updated min validation loss!Saving model...\n",
      "Global Step 6200 and Step 6200: validation cost=0.00000\n",
      "Updated min validation loss!Saving model...\n",
      "Global Step 6400 and Step 6400: validation cost=0.00000\n",
      "Updated min validation loss!Saving model...\n",
      "Global Step 6600 and Step 6600: validation cost=0.00000\n",
      "Updated min validation loss!Saving model...\n",
      "Global Step 6800 and Step 6800: validation cost=0.00000\n",
      "Updated min validation loss!Saving model...\n",
      "Global Step 7000 and Step 7000: validation cost=0.00000\n",
      "Updated min validation loss!Saving model...\n",
      "Global Step 7200 and Step 7200: validation cost=0.00000\n",
      "Updated min validation loss!Saving model...\n",
      "Global Step 7400 and Step 7400: validation cost=0.00000\n",
      "Updated min validation loss!Saving model...\n",
      "Global Step 7600 and Step 7600: validation cost=0.00000\n",
      "Updated min validation loss!Saving model...\n",
      "Global Step 7800 and Step 7800: validation cost=0.00000\n",
      "Updated min validation loss!Saving model...\n",
      "Global Step 8000 and Step 8000: validation cost=0.00000\n",
      "Updated min validation loss!Saving model...\n",
      "Global Step 8200 and Step 8200: validation cost=0.00000\n",
      "Updated min validation loss!Saving model...\n",
      "Global Step 8400 and Step 8400: validation cost=0.00000\n",
      "Updated min validation loss!Saving model...\n",
      "Global Step 8600 and Step 8600: validation cost=0.00000\n",
      "Updated min validation loss!Saving model...\n",
      "Global Step 8800 and Step 8800: validation cost=0.00000\n",
      "Updated min validation loss!Saving model...\n",
      "Global Step 9000 and Step 9000: validation cost=0.00000\n",
      "Updated min validation loss!Saving model...\n",
      "Global Step 9200 and Step 9200: validation cost=0.00000\n",
      "Updated min validation loss!Saving model...\n",
      "Global Step 9400 and Step 9400: validation cost=0.00000\n",
      "Updated min validation loss!Saving model...\n",
      "Global Step 9600 and Step 9600: validation cost=0.00000\n",
      "Global Step 9800 and Step 9800: validation cost=0.00000\n",
      "Updated min validation loss!Saving model...\n",
      "Restoring the best parameters...\n",
      "INFO:tensorflow:Restoring parameters from /src/Plasticity_Ker/model/best\n",
      "Global Step 10000 and Step 0001: validation cost=0.00000\n",
      "Updated min validation loss!Saving model...\n",
      "Global Step 10200 and Step 0201: validation cost=0.00000\n",
      "Updated min validation loss!Saving model...\n",
      "Global Step 10400 and Step 0401: validation cost=0.00000\n",
      "Updated min validation loss!Saving model...\n",
      "Global Step 10600 and Step 0601: validation cost=0.00000\n",
      "Updated min validation loss!Saving model...\n",
      "Global Step 10800 and Step 0801: validation cost=0.00000\n",
      "Global Step 11000 and Step 1001: validation cost=0.00000\n",
      "Global Step 11200 and Step 1201: validation cost=0.00000\n",
      "Global Step 11400 and Step 1401: validation cost=0.00000\n",
      "Global Step 11600 and Step 1601: validation cost=0.00000\n",
      "Global Step 11800 and Step 1801: validation cost=0.00000\n",
      "Global Step 12000 and Step 2001: validation cost=0.00000\n",
      "Global Step 12200 and Step 2201: validation cost=0.00000\n",
      "Updated min validation loss!Saving model...\n",
      "Global Step 12400 and Step 2401: validation cost=0.00000\n",
      "Updated min validation loss!Saving model...\n",
      "Global Step 12600 and Step 2601: validation cost=0.00000\n",
      "Global Step 12800 and Step 2801: validation cost=0.00000\n",
      "Updated min validation loss!Saving model...\n",
      "Global Step 13000 and Step 3001: validation cost=0.00000\n",
      "Updated min validation loss!Saving model...\n",
      "Global Step 13200 and Step 3201: validation cost=0.00000\n",
      "Global Step 13400 and Step 3401: validation cost=0.00000\n",
      "Updated min validation loss!Saving model...\n",
      "Global Step 13600 and Step 3601: validation cost=0.00000\n",
      "Global Step 13800 and Step 3801: validation cost=0.00000\n",
      "Updated min validation loss!Saving model...\n",
      "Global Step 14000 and Step 4001: validation cost=0.00000\n",
      "Updated min validation loss!Saving model...\n",
      "Global Step 14200 and Step 4201: validation cost=0.00000\n",
      "Updated min validation loss!Saving model...\n",
      "Global Step 14400 and Step 4401: validation cost=0.00000\n",
      "Updated min validation loss!Saving model...\n",
      "Global Step 14600 and Step 4601: validation cost=0.00000\n",
      "Global Step 14800 and Step 4801: validation cost=0.00000\n",
      "Updated min validation loss!Saving model...\n",
      "Global Step 15000 and Step 5001: validation cost=0.00000\n",
      "Updated min validation loss!Saving model...\n",
      "Global Step 15200 and Step 5201: validation cost=0.00000\n",
      "Global Step 15400 and Step 5401: validation cost=0.00000\n",
      "Global Step 15600 and Step 5601: validation cost=0.00000\n",
      "Updated min validation loss!Saving model...\n",
      "Global Step 15800 and Step 5801: validation cost=0.00000\n",
      "Global Step 16000 and Step 6001: validation cost=0.00000\n",
      "Global Step 16200 and Step 6201: validation cost=0.00000\n",
      "Global Step 16400 and Step 6401: validation cost=0.00000\n",
      "Global Step 16600 and Step 6601: validation cost=0.00000\n",
      "Global Step 16800 and Step 6801: validation cost=0.00000\n",
      "Global Step 17000 and Step 7001: validation cost=0.00000\n",
      "Early Stopping!!!\n",
      "Restoring the best parameters...\n",
      "INFO:tensorflow:Restoring parameters from /src/Plasticity_Ker/model/best\n",
      "Global Step 17200 and Step 0200: validation cost=0.00000\n",
      "Global Step 17400 and Step 0400: validation cost=0.00000\n",
      "Global Step 17600 and Step 0600: validation cost=0.00000\n",
      "Global Step 17800 and Step 0800: validation cost=0.00000\n",
      "Updated min validation loss!Saving model...\n",
      "Global Step 18000 and Step 1000: validation cost=0.00000\n",
      "Global Step 18200 and Step 1200: validation cost=0.00000\n",
      "Global Step 18400 and Step 1400: validation cost=0.00000\n",
      "Global Step 18600 and Step 1600: validation cost=0.00000\n",
      "Global Step 18800 and Step 1800: validation cost=0.00000\n",
      "Global Step 19000 and Step 2000: validation cost=0.00000\n",
      "Global Step 19200 and Step 2200: validation cost=0.00000\n",
      "Global Step 19400 and Step 2400: validation cost=0.00000\n",
      "Global Step 19600 and Step 2600: validation cost=0.00000\n",
      "Global Step 19800 and Step 2800: validation cost=0.00000\n",
      "Global Step 20000 and Step 3000: validation cost=0.00000\n",
      "Global Step 20200 and Step 3200: validation cost=0.00000\n",
      "Global Step 20400 and Step 3400: validation cost=0.00000\n",
      "Global Step 20600 and Step 3600: validation cost=0.00000\n",
      "Global Step 20800 and Step 3800: validation cost=0.00000\n",
      "Global Step 21000 and Step 4000: validation cost=0.00000\n",
      "Global Step 21200 and Step 4200: validation cost=0.00000\n",
      "Early Stopping!!!\n",
      "Restoring the best parameters...\n",
      "INFO:tensorflow:Restoring parameters from /src/Plasticity_Ker/model/best\n"
     ]
    }
   ],
   "source": [
    "learning_rate = 0.001\n",
    "iterations = 3\n",
    "for i in range(iterations):\n",
    "    # test_net.train(train_data, vali_data, feed_dict={lr: learning_rate, l1: 0.001, l2: 0.001})\n",
    "    basenet_train.train(train_data, vali_data, feed_dict={basenet.lr: learning_rate})\n",
    "    learning_rate = learning_rate/3"
   ]
  },
  {
   "cell_type": "code",
   "execution_count": 34,
   "metadata": {
    "collapsed": true,
    "deletable": true,
    "editable": true
   },
   "outputs": [],
   "source": [
    "w_hat = basenet_train.evaluate(ops=basenet.w)"
   ]
  },
  {
   "cell_type": "code",
   "execution_count": 35,
   "metadata": {
    "collapsed": false,
    "deletable": true,
    "editable": true
   },
   "outputs": [
    {
     "data": {
      "text/plain": [
       "array([[0.5],\n",
       "       [0.5],\n",
       "       [0.5],\n",
       "       [0.5],\n",
       "       [0.5],\n",
       "       [0.5],\n",
       "       [0.5],\n",
       "       [0.5],\n",
       "       [0.5],\n",
       "       [0.5]], dtype=float32)"
      ]
     },
     "execution_count": 35,
     "metadata": {},
     "output_type": "execute_result"
    }
   ],
   "source": [
    "w_hat"
   ]
  },
  {
   "cell_type": "code",
   "execution_count": 36,
   "metadata": {
    "collapsed": false,
    "deletable": true,
    "editable": true
   },
   "outputs": [
    {
     "data": {
      "text/plain": [
       "<matplotlib.legend.Legend at 0x7f3f310c3cf8>"
      ]
     },
     "execution_count": 36,
     "metadata": {},
     "output_type": "execute_result"
    },
    {
     "data": {
      "image/png": "[encoded data removed]",
      "text/plain": [
       "<matplotlib.figure.Figure at 0x7f3f310e94e0>"
      ]
     },
     "metadata": {},
     "output_type": "display_data"
    }
   ],
   "source": [
    "loss = np.vstack(basenet_train.loss_tracker)\n",
    "plt.plot(loss[:20,0], label = 'training loss')\n",
    "plt.plot(loss[:20,1], label = 'Validation loss')\n",
    "plt.legend()"
   ]
  },
  {
   "cell_type": "markdown",
   "metadata": {
    "deletable": true,
    "editable": true
   },
   "source": [
    "Test PairNet"
   ]
  },
  {
   "cell_type": "code",
   "execution_count": 41,
   "metadata": {
    "collapsed": true,
    "deletable": true,
    "editable": true
   },
   "outputs": [],
   "source": [
    "from modelval.network import PairNet"
   ]
  },
  {
   "cell_type": "code",
   "execution_count": 42,
   "metadata": {
    "collapsed": true,
    "deletable": true,
    "editable": true
   },
   "outputs": [],
   "source": [
    "# Create arbitrary spike train to validate the restuls\n",
    "spk_train = np.zeros((30000, 2))\n",
    "spk_train[1000, :] = 1\n",
    "spk_train = spk_train.reshape([1, 30000, 2])"
   ]
  },
  {
   "cell_type": "code",
   "execution_count": 44,
   "metadata": {
    "collapsed": false,
    "deletable": true,
    "editable": true
   },
   "outputs": [],
   "source": [
    "pairnet_test = PairNet(kernel=ker_test, n_input=spk_train.shape[1], kernel_pre=ker_test.bilat_ker, kernel_post=ker_test.unilat_ker)"
   ]
  },
  {
   "cell_type": "code",
   "execution_count": 45,
   "metadata": {
    "collapsed": false,
    "deletable": true,
    "editable": true
   },
   "outputs": [],
   "source": [
    "pairnet_test_train = Trainer(pairnet_test.prediction, input_name=pairnet_test.inputs)"
   ]
  },
  {
   "cell_type": "code",
   "execution_count": 46,
   "metadata": {
    "collapsed": false,
    "deletable": true,
    "editable": true
   },
   "outputs": [],
   "source": [
    "test_ptl = PairPtl(*data.iloc[10])\n",
    "spk_time_pre, spk_time_post, spk_pair = arb_spk_gen(test_ptl, ker_test.reso_kernel, if_noise=1)\n",
    "spk_pair = spk_pair.reshape([1, 30000, 2])"
   ]
  },
  {
   "cell_type": "code",
   "execution_count": 47,
   "metadata": {
    "collapsed": false,
    "deletable": true,
    "editable": true
   },
   "outputs": [
    {
     "data": {
      "text/plain": [
       "array([[[4.946867]]], dtype=float32)"
      ]
     },
     "execution_count": 47,
     "metadata": {},
     "output_type": "execute_result"
    }
   ],
   "source": [
    "pairnet_test_train.evaluate(ops=pairnet_test.prediction, inputs=spk_train)"
   ]
  },
  {
   "cell_type": "code",
   "execution_count": 49,
   "metadata": {
    "collapsed": false,
    "deletable": true,
    "editable": true
   },
   "outputs": [
    {
     "data": {
      "text/plain": [
       "4.946866897552985"
      ]
     },
     "execution_count": 49,
     "metadata": {},
     "output_type": "execute_result"
    }
   ],
   "source": [
    "np.sum(np.multiply(ker_test.bilat_ker, ker_test.unilat_ker))"
   ]
  },
  {
   "cell_type": "markdown",
   "metadata": {
    "deletable": true,
    "editable": true
   },
   "source": [
    "Test generating batch spike trains"
   ]
  },
  {
   "cell_type": "code",
   "execution_count": 50,
   "metadata": {
    "collapsed": false,
    "deletable": true,
    "editable": true
   },
   "outputs": [],
   "source": [
    "from modelval.kernel import KernelGen\n",
    "ker_test = KernelGen()"
   ]
  },
  {
   "cell_type": "code",
   "execution_count": 51,
   "metadata": {
    "collapsed": true,
    "deletable": true,
    "editable": true
   },
   "outputs": [],
   "source": [
    "from modelval.ArbDataGen import arb_w_gen"
   ]
  },
  {
   "cell_type": "code",
   "execution_count": 52,
   "metadata": {
    "collapsed": false,
    "deletable": true,
    "editable": true
   },
   "outputs": [],
   "source": [
    "spk_pairs, targets = arb_w_gen(df=data, ptl_list=[1], kernel=ker_test, aug_times=1)"
   ]
  },
  {
   "cell_type": "code",
   "execution_count": 53,
   "metadata": {
    "collapsed": false,
    "deletable": true,
    "editable": true
   },
   "outputs": [
    {
     "data": {
      "text/plain": [
       "(45, 150000, 2)"
      ]
     },
     "execution_count": 53,
     "metadata": {},
     "output_type": "execute_result"
    }
   ],
   "source": [
    "spk_pairs.shape"
   ]
  },
  {
   "cell_type": "code",
   "execution_count": 54,
   "metadata": {
    "collapsed": false,
    "deletable": true,
    "editable": true
   },
   "outputs": [
    {
     "data": {
      "text/plain": [
       "(45, 1, 1)"
      ]
     },
     "execution_count": 54,
     "metadata": {},
     "output_type": "execute_result"
    }
   ],
   "source": [
    "targets.shape"
   ]
  }
 ],
 "metadata": {
  "kernelspec": {
   "display_name": "Python 3",
   "language": "python",
   "name": "python3"
  },
  "language_info": {
   "codemirror_mode": {
    "name": "ipython",
    "version": 3
   },
   "file_extension": ".py",
   "mimetype": "text/x-python",
   "name": "python",
   "nbconvert_exporter": "python",
   "pygments_lexer": "ipython3",
   "version": "3.5.2"
  }
 },
 "nbformat": 4,
 "nbformat_minor": 2
}

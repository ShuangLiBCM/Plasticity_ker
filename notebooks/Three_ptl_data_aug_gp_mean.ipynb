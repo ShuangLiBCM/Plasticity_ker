{
 "cells": [
  {
   "cell_type": "markdown",
   "metadata": {
    "deletable": true,
    "editable": true
   },
   "source": [
    "Augment the literature data"
   ]
  },
  {
   "cell_type": "code",
   "execution_count": 1,
   "metadata": {
    "collapsed": false,
    "deletable": true,
    "editable": true
   },
   "outputs": [],
   "source": [
    "# Load libraries and modules\n",
    "import numpy as np\n",
    "import pandas as pd\n",
    "import matplotlib.pyplot as plt\n",
    "import seaborn as sns\n",
    "import tensorflow as tf\n",
    "from modelval import pairptl, network, trainer, dataset, data_aug_knn, perform_eval\n",
    "from modelval.ArbDataGen import arb_w_gen\n",
    "from modelval.spk_visu import spk_see, raster\n",
    "from modelval import gp_regressor\n",
    "from modelval import data_aug_gp\n",
    "from sklearn.model_selection import train_test_split\n",
    "\n",
    "import warnings\n",
    "warnings.filterwarnings('ignore')\n",
    "\n",
    "% matplotlib inline\n",
    "% load_ext autoreload\n",
    "% autoreload 2"
   ]
  },
  {
   "cell_type": "code",
   "execution_count": 2,
   "metadata": {
    "collapsed": false,
    "deletable": true,
    "editable": true
   },
   "outputs": [
    {
     "data": {
      "text/html": [
       "<div>\n",
       "<table border=\"1\" class=\"dataframe\">\n",
       "  <thead>\n",
       "    <tr style=\"text-align: right;\">\n",
       "      <th></th>\n",
       "      <th>ptl_idx</th>\n",
       "      <th>pre_spk_num</th>\n",
       "      <th>pre_spk_freq</th>\n",
       "      <th>post_spk_num</th>\n",
       "      <th>post_spk_freq</th>\n",
       "      <th>ptl_occ</th>\n",
       "      <th>ptl_freq</th>\n",
       "      <th>dt1</th>\n",
       "      <th>dt2</th>\n",
       "      <th>dt3</th>\n",
       "      <th>dw_mean</th>\n",
       "      <th>dw_ste</th>\n",
       "      <th>train_len</th>\n",
       "    </tr>\n",
       "  </thead>\n",
       "  <tbody>\n",
       "    <tr>\n",
       "      <th>0</th>\n",
       "      <td>1</td>\n",
       "      <td>1</td>\n",
       "      <td>0</td>\n",
       "      <td>1</td>\n",
       "      <td>0</td>\n",
       "      <td>60</td>\n",
       "      <td>1.0</td>\n",
       "      <td>-102.898046</td>\n",
       "      <td>0.0</td>\n",
       "      <td>0</td>\n",
       "      <td>-1.322590</td>\n",
       "      <td>0.0</td>\n",
       "      <td>60</td>\n",
       "    </tr>\n",
       "    <tr>\n",
       "      <th>1</th>\n",
       "      <td>1</td>\n",
       "      <td>1</td>\n",
       "      <td>0</td>\n",
       "      <td>1</td>\n",
       "      <td>0</td>\n",
       "      <td>60</td>\n",
       "      <td>1.0</td>\n",
       "      <td>-75.579896</td>\n",
       "      <td>0.0</td>\n",
       "      <td>0</td>\n",
       "      <td>2.674768</td>\n",
       "      <td>0.0</td>\n",
       "      <td>60</td>\n",
       "    </tr>\n",
       "    <tr>\n",
       "      <th>2</th>\n",
       "      <td>1</td>\n",
       "      <td>1</td>\n",
       "      <td>0</td>\n",
       "      <td>1</td>\n",
       "      <td>0</td>\n",
       "      <td>60</td>\n",
       "      <td>1.0</td>\n",
       "      <td>-80.871473</td>\n",
       "      <td>0.0</td>\n",
       "      <td>0</td>\n",
       "      <td>-12.696449</td>\n",
       "      <td>0.0</td>\n",
       "      <td>60</td>\n",
       "    </tr>\n",
       "    <tr>\n",
       "      <th>3</th>\n",
       "      <td>1</td>\n",
       "      <td>1</td>\n",
       "      <td>0</td>\n",
       "      <td>1</td>\n",
       "      <td>0</td>\n",
       "      <td>60</td>\n",
       "      <td>1.0</td>\n",
       "      <td>-67.562239</td>\n",
       "      <td>0.0</td>\n",
       "      <td>0</td>\n",
       "      <td>0.231446</td>\n",
       "      <td>0.0</td>\n",
       "      <td>60</td>\n",
       "    </tr>\n",
       "    <tr>\n",
       "      <th>4</th>\n",
       "      <td>1</td>\n",
       "      <td>1</td>\n",
       "      <td>0</td>\n",
       "      <td>1</td>\n",
       "      <td>0</td>\n",
       "      <td>60</td>\n",
       "      <td>1.0</td>\n",
       "      <td>-63.553410</td>\n",
       "      <td>0.0</td>\n",
       "      <td>0</td>\n",
       "      <td>-0.990216</td>\n",
       "      <td>0.0</td>\n",
       "      <td>60</td>\n",
       "    </tr>\n",
       "  </tbody>\n",
       "</table>\n",
       "</div>"
      ],
      "text/plain": [
       "   ptl_idx  pre_spk_num  pre_spk_freq  post_spk_num  post_spk_freq  ptl_occ  \\\n",
       "0        1            1             0             1              0       60   \n",
       "1        1            1             0             1              0       60   \n",
       "2        1            1             0             1              0       60   \n",
       "3        1            1             0             1              0       60   \n",
       "4        1            1             0             1              0       60   \n",
       "\n",
       "   ptl_freq         dt1  dt2  dt3    dw_mean  dw_ste  train_len  \n",
       "0       1.0 -102.898046  0.0    0  -1.322590     0.0         60  \n",
       "1       1.0  -75.579896  0.0    0   2.674768     0.0         60  \n",
       "2       1.0  -80.871473  0.0    0 -12.696449     0.0         60  \n",
       "3       1.0  -67.562239  0.0    0   0.231446     0.0         60  \n",
       "4       1.0  -63.553410  0.0    0  -0.990216     0.0         60  "
      ]
     },
     "execution_count": 2,
     "metadata": {},
     "output_type": "execute_result"
    }
   ],
   "source": [
    "# Load data frame\n",
    "data = pd.read_csv('/src/Plasticity_Ker/data/kernel_training_data_auto.csv')\n",
    "data.head()"
   ]
  },
  {
   "cell_type": "code",
   "execution_count": 3,
   "metadata": {
    "collapsed": false,
    "deletable": true,
    "editable": true
   },
   "outputs": [],
   "source": [
    "# Generate data for STDP\n",
    "data1 = data[data['ptl_idx']==1]\n",
    "data1_gen, targets1 = data_aug_knn.STDP_dw_gen(n_neighbors=3)"
   ]
  },
  {
   "cell_type": "code",
   "execution_count": 4,
   "metadata": {
    "collapsed": false,
    "deletable": true,
    "editable": true
   },
   "outputs": [],
   "source": [
    "# Obtain the gp mean\n",
    "params = {'amp_kernel': 1,\n",
    " 'length_scale': 0.1,\n",
    " 'power_sc': 0.2,\n",
    " 'sigma_noise': 1.0}\n",
    "\n",
    "x_stdp, _, x_stdp_test, y_stdp_test, y_stdp = data_aug_gp.stdp_gp(**params)\n",
    "\n",
    "x_stdp_train, x_stdp_vali, y_stdp_train, y_stdp_vali = train_test_split(x_stdp, y_stdp, test_size=0.2)"
   ]
  },
  {
   "cell_type": "code",
   "execution_count": 5,
   "metadata": {
    "collapsed": false,
    "deletable": true,
    "editable": true
   },
   "outputs": [
    {
     "data": {
      "text/plain": [
       "[-110, 110, -50, 110]"
      ]
     },
     "execution_count": 5,
     "metadata": {},
     "output_type": "execute_result"
    },
    {
     "data": {
      "image/png": "[encoded data removed]",
      "text/plain": [
       "<matplotlib.figure.Figure at 0x7fed9409f438>"
      ]
     },
     "metadata": {},
     "output_type": "display_data"
    }
   ],
   "source": [
    "plt.plot(x_stdp_train, y_stdp_train, 'o',label='train_data')\n",
    "plt.plot(x_stdp_vali, y_stdp_vali, 'o',label='vali_data')\n",
    "plt.plot(x_stdp_test,y_stdp_test, 'o', label='test_data')\n",
    "plt.legend(loc='upper left')\n",
    "plt.axis([-110,110,-50,110])"
   ]
  },
  {
   "cell_type": "code",
   "execution_count": 6,
   "metadata": {
    "collapsed": false,
    "deletable": true,
    "editable": true
   },
   "outputs": [],
   "source": [
    "# Pute time information into dataframe\n",
    "data_stdp_train = data_aug_gp.STDP_dw_gen(x_stdp_train)\n",
    "data_stdp_vali = data_aug_gp.STDP_dw_gen(x_stdp_vali)\n",
    "data_stdp_test = data_aug_gp.STDP_dw_gen(x_stdp_test.reshape(-1,1))"
   ]
  },
  {
   "cell_type": "code",
   "execution_count": 7,
   "metadata": {
    "collapsed": false,
    "deletable": true,
    "editable": true
   },
   "outputs": [
    {
     "data": {
      "text/plain": [
       "((160, 13), (160, 1), (40, 13), (40, 1), (9, 13), (9, 1))"
      ]
     },
     "execution_count": 7,
     "metadata": {},
     "output_type": "execute_result"
    }
   ],
   "source": [
    "data_stdp_train.shape, y_stdp_train.shape, data_stdp_vali.shape, y_stdp_vali.shape,data_stdp_test.shape, y_stdp_test.shape"
   ]
  },
  {
   "cell_type": "code",
   "execution_count": 8,
   "metadata": {
    "collapsed": false,
    "deletable": true,
    "editable": true
   },
   "outputs": [
    {
     "data": {
      "text/plain": [
       "<matplotlib.legend.Legend at 0x7fed23b3ac88>"
      ]
     },
     "execution_count": 8,
     "metadata": {},
     "output_type": "execute_result"
    },
    {
     "data": {
      "image/png": "[encoded data removed]",
      "text/plain": [
       "<matplotlib.figure.Figure at 0x7fed23b1ef28>"
      ]
     },
     "metadata": {},
     "output_type": "display_data"
    }
   ],
   "source": [
    "# Obtain augmented data from quadruplet protocol\n",
    "params = {'amp_kernel': 1,\n",
    " 'length_scale': 0.45,\n",
    " 'power_sc': 0.4,\n",
    " 'sigma_noise': 1.2}\n",
    "\n",
    "x_quad, _, x_quad_test, y_quad_test, y_quad = data_aug_gp.quad_gp(**params)\n",
    "\n",
    "# Split into training and validation set\n",
    "x_quad_train, x_quad_vali, y_quad_train, y_quad_vali = train_test_split(x_quad, y_quad, test_size=0.2)\n",
    "\n",
    "plt.plot(x_quad_train, y_quad_train, 'o', label='train_data')\n",
    "plt.plot(x_quad_vali, y_quad_vali, 'o', label='vali_data')\n",
    "plt.plot(x_quad_test, y_quad_test, 'o', label='test_data')\n",
    "plt.legend(loc='upper left')"
   ]
  },
  {
   "cell_type": "code",
   "execution_count": 9,
   "metadata": {
    "collapsed": false,
    "deletable": true,
    "editable": true
   },
   "outputs": [],
   "source": [
    "# Put dt information into dataframe\n",
    "data_quad_train = data_aug_gp.quad_dw_gen(x_quad_train)\n",
    "data_quad_vali = data_aug_gp.quad_dw_gen(x_quad_vali)\n",
    "data_quad_test = data_aug_gp.quad_dw_gen(x_quad_test.reshape(-1,1))"
   ]
  },
  {
   "cell_type": "code",
   "execution_count": 10,
   "metadata": {
    "collapsed": false,
    "deletable": true,
    "editable": true
   },
   "outputs": [
    {
     "data": {
      "text/plain": [
       "((160, 13), (160, 1), (40, 13), (40, 1), (12, 13), (12, 1))"
      ]
     },
     "execution_count": 10,
     "metadata": {},
     "output_type": "execute_result"
    }
   ],
   "source": [
    "data_quad_train.shape, y_quad_train.shape, data_quad_vali.shape, y_quad_vali.shape, data_quad_test.shape, y_quad_test.shape"
   ]
  },
  {
   "cell_type": "code",
   "execution_count": 11,
   "metadata": {
    "collapsed": false,
    "deletable": true,
    "editable": true
   },
   "outputs": [],
   "source": [
    "# Generate data for Triplet\n",
    "dt = np.array([-10, -5, 0, 5, 10]).reshape(-1,1)\n",
    "data_trip, y_trip, data_trip_test, y_trip_test = data_aug_gp.triplet_dw_gen(n_samples=1)\n",
    "\n",
    "# Split the triplet data into training and validation\n",
    "np.random.seed(10)\n",
    "idx = np.random.permutation(len(data_trip))\n",
    "data_trip_train = data_trip.iloc[idx[:int(len(data_trip)*0.8)]]\n",
    "y_trip_train = y_trip[idx[:int(len(data_trip)*0.8)]]\n",
    "data_trip_vali = data_trip.iloc[idx[int(len(data_trip)*0.8):]]\n",
    "y_trip_vali = y_trip[idx[int(len(data_trip)*0.8):]]"
   ]
  },
  {
   "cell_type": "code",
   "execution_count": 12,
   "metadata": {
    "collapsed": false,
    "deletable": true,
    "editable": true
   },
   "outputs": [
    {
     "data": {
      "text/plain": [
       "((6, 13), (2, 13), (11, 13))"
      ]
     },
     "execution_count": 12,
     "metadata": {},
     "output_type": "execute_result"
    }
   ],
   "source": [
    "data_trip_train.shape, data_trip_vali.shape, data_trip_test.shape"
   ]
  },
  {
   "cell_type": "code",
   "execution_count": 13,
   "metadata": {
    "collapsed": false,
    "deletable": true,
    "editable": true
   },
   "outputs": [],
   "source": [
    "# Combine data from stdp and quadruplet\n",
    "data_gen_train = pd.concat([data_stdp_train, data_trip_train, data_quad_train], axis=0)\n",
    "y_train = np.concatenate([y_stdp_train, y_trip_train, y_quad_train])\n",
    "data_gen_vali = pd.concat([data_stdp_vali, data_trip_vali, data_quad_vali], axis=0)\n",
    "y_vali = np.concatenate([y_stdp_vali, y_trip_vali, y_quad_vali])\n",
    "data_gen_test = pd.concat([data_stdp_test, data_trip_test, data_quad_test], axis=0)\n",
    "y_test = np.concatenate([y_stdp_test, y_trip_test, y_quad_test])"
   ]
  },
  {
   "cell_type": "code",
   "execution_count": 14,
   "metadata": {
    "collapsed": false,
    "deletable": true,
    "editable": true
   },
   "outputs": [
    {
     "data": {
      "text/plain": [
       "((326, 13), (326, 1), (82, 13), (82, 1))"
      ]
     },
     "execution_count": 14,
     "metadata": {},
     "output_type": "execute_result"
    }
   ],
   "source": [
    "data_gen_train.shape, y_train.shape, data_gen_vali.shape, y_vali.shape"
   ]
  },
  {
   "cell_type": "code",
   "execution_count": 15,
   "metadata": {
    "collapsed": false,
    "deletable": true,
    "editable": true
   },
   "outputs": [],
   "source": [
    "trip_para = pd.read_pickle('/src/Plasticity_Ker/data/Gerstner_trip_para_df')\n",
    "trip_para\n",
    "# Reorder columns to match parameter of the model\n",
    "trip_para = trip_para[['A2_+', 'A3_-', 'A2_-', 'A3_+', 'Tau_+', 'Tau_x', 'Tau_-', 'Tau_y']]\n",
    "\n",
    "# Visualize kernel\n",
    "from modelval.kernel import KernelGen\n",
    "ker_test = KernelGen()\n",
    "\n",
    "para = trip_para.loc[('Hippo_AlltoAll', 'Full'), :]\n",
    "a = para[:4].values\n",
    "tau = para[4:].values\n",
    "reso_set = 2\n",
    "tau_pre_post = tau[0]/reso_set  # ms\n",
    "tau_post_pre = tau[2]/reso_set # ms\n",
    "\n",
    "len_kernel = 101\n",
    "len_trip = 151\n",
    "ker_test = KernelGen(len_kernel=len_kernel, len_trip=len_trip)\n",
    "ker_test.trip_model_ker(para, data_name='Hippocampus')"
   ]
  },
  {
   "cell_type": "code",
   "execution_count": 16,
   "metadata": {
    "collapsed": false,
    "deletable": true,
    "editable": true
   },
   "outputs": [
    {
     "data": {
      "text/plain": [
       "(151, 1)"
      ]
     },
     "execution_count": 16,
     "metadata": {},
     "output_type": "execute_result"
    }
   ],
   "source": [
    "ker_test.kernel_post_post.shape"
   ]
  },
  {
   "cell_type": "code",
   "execution_count": 17,
   "metadata": {
    "collapsed": false,
    "deletable": true,
    "editable": true
   },
   "outputs": [],
   "source": [
    "# Generat the spike trains and targets for STDP\n",
    "data_hippo = data[data['ptl_idx']<5]\n",
    "ptl_list = [1,2,3,4]\n",
    "spk_len = int(data_hippo['train_len'].max() * 1000 / ker_test.reso_kernel)\n",
    "if_noise = 1\n",
    "aug_times = [1,1,1,1]\n",
    "spk_pairs_train, targets_train = arb_w_gen(df=data_gen_train, ptl_list=ptl_list, targets=y_train, if_noise=if_noise, spk_len=spk_len, kernel=ker_test, net_type='triplet', aug_times=aug_times)\n",
    "spk_pairs_vali, targets_vali = arb_w_gen(df=data_gen_vali, ptl_list=ptl_list, targets=y_vali, if_noise=if_noise, spk_len=spk_len, kernel=ker_test, net_type='triplet', aug_times=aug_times)"
   ]
  },
  {
   "cell_type": "code",
   "execution_count": 18,
   "metadata": {
    "collapsed": false,
    "deletable": true,
    "editable": true
   },
   "outputs": [],
   "source": [
    "# Create the network\n",
    "ground_truth_init = 0\n",
    "reg_scale=(1,30,80)\n",
    "init_seed=(4,5,6,7)\n",
    "\n",
    "toy_data_net = network.TripNet(kernel=ker_test, ground_truth_init=ground_truth_init, reg_scale=reg_scale, n_input=spk_pairs_train.shape[1])"
   ]
  },
  {
   "cell_type": "code",
   "execution_count": 19,
   "metadata": {
    "collapsed": false,
    "deletable": true,
    "editable": true
   },
   "outputs": [],
   "source": [
    "# Create the trainer\n",
    "save_dir= '/src/Plasticity_Ker/model/Trip_ptl1_4_real_aug_gp_mean_noise_alpha1_alpha3_10_long_post_post_diff_bias'\n",
    "toy_net_trainer = trainer.Trainer(toy_data_net.mse, toy_data_net.loss, input_name=toy_data_net.inputs, target_name=toy_data_net.target, save_dir=save_dir, optimizer_config={'learning_rate': toy_data_net.lr})"
   ]
  },
  {
   "cell_type": "code",
   "execution_count": 20,
   "metadata": {
    "collapsed": false,
    "deletable": true,
    "editable": true
   },
   "outputs": [],
   "source": [
    "train_data = dataset.Dataset(spk_pairs_train, targets_train)\n",
    "vali_data = dataset.Dataset(spk_pairs_vali, targets_vali)"
   ]
  },
  {
   "cell_type": "code",
   "execution_count": 21,
   "metadata": {
    "collapsed": false,
    "deletable": true,
    "editable": true
   },
   "outputs": [
    {
     "name": "stdout",
     "output_type": "stream",
     "text": [
      "[-0.22614121 -0.27994752  0.95375919] [[ 0.]\n",
      " [ 0.]\n",
      " [ 0.]\n",
      " [ 0.]]\n"
     ]
    },
    {
     "data": {
      "image/png": "[encoded data removed]",
      "text/plain": [
       "<matplotlib.figure.Figure at 0x7fed136899b0>"
      ]
     },
     "metadata": {},
     "output_type": "display_data"
    }
   ],
   "source": [
    "w_pre = toy_net_trainer.evaluate(ops=toy_data_net.kernel_pre)\n",
    "w_post = toy_net_trainer.evaluate(ops=toy_data_net.kernel_post)\n",
    "w_post_post = toy_net_trainer.evaluate(ops=toy_data_net.kernel_post_post)\n",
    "fc_w = toy_net_trainer.evaluate(ops=toy_data_net.fc_w)\n",
    "bias = toy_net_trainer.evaluate(ops=toy_data_net.bias)\n",
    "plt.plot(w_pre,  label='ker_pre_init')\n",
    "plt.plot(w_post,  label='ker_post_init')\n",
    "plt.plot(w_post_post,  label='ker_post_post_init')\n",
    "\n",
    "plt.legend()\n",
    "print(fc_w, bias)"
   ]
  },
  {
   "cell_type": "code",
   "execution_count": 37,
   "metadata": {
    "collapsed": false,
    "deletable": true,
    "editable": true,
    "scrolled": true
   },
   "outputs": [
    {
     "name": "stdout",
     "output_type": "stream",
     "text": [
      "Global Step 1900 and Step 0041: validation mse=12.72178\n",
      "Updated min validation loss!Saving model...\n",
      "Global Step 1950 and Step 0091: validation mse=12.66177\n",
      "Updated min validation loss!Saving model...\n",
      "Global Step 2000 and Step 0141: validation mse=12.53557\n",
      "Updated min validation loss!Saving model...\n",
      "Global Step 2050 and Step 0191: validation mse=12.54764\n",
      "Global Step 2100 and Step 0241: validation mse=12.52334\n",
      "Updated min validation loss!Saving model...\n",
      "Global Step 2150 and Step 0291: validation mse=12.47921\n",
      "Updated min validation loss!Saving model...\n",
      "Global Step 2200 and Step 0341: validation mse=12.43012\n",
      "Updated min validation loss!Saving model...\n",
      "Global Step 2250 and Step 0391: validation mse=12.37513\n",
      "Updated min validation loss!Saving model...\n",
      "Global Step 2300 and Step 0441: validation mse=12.30217\n",
      "Updated min validation loss!Saving model...\n",
      "Global Step 2350 and Step 0491: validation mse=12.27772\n",
      "Updated min validation loss!Saving model...\n",
      "Global Step 2400 and Step 0541: validation mse=12.25028\n",
      "Updated min validation loss!Saving model...\n",
      "Global Step 2450 and Step 0591: validation mse=12.19824\n",
      "Updated min validation loss!Saving model...\n",
      "Global Step 2500 and Step 0641: validation mse=12.18284\n",
      "Updated min validation loss!Saving model...\n",
      "Global Step 2550 and Step 0691: validation mse=12.16136\n",
      "Updated min validation loss!Saving model...\n",
      "Global Step 2600 and Step 0741: validation mse=12.16390\n",
      "Global Step 2650 and Step 0791: validation mse=12.16223\n",
      "Global Step 2700 and Step 0841: validation mse=12.12807\n",
      "Updated min validation loss!Saving model...\n",
      "Global Step 2750 and Step 0891: validation mse=12.17004\n",
      "Global Step 2800 and Step 0941: validation mse=12.14644\n",
      "Global Step 2850 and Step 0991: validation mse=12.15874\n",
      "Global Step 2900 and Step 1041: validation mse=12.18892\n",
      "Global Step 2950 and Step 1091: validation mse=12.23262\n",
      "Global Step 3000 and Step 1141: validation mse=12.24062\n",
      "Global Step 3050 and Step 1191: validation mse=12.23688\n",
      "Global Step 3100 and Step 1241: validation mse=12.18909\n",
      "Global Step 3150 and Step 1291: validation mse=12.19149\n",
      "Global Step 3200 and Step 1341: validation mse=12.25633\n",
      "Global Step 3250 and Step 1391: validation mse=12.27508\n",
      "Global Step 3300 and Step 1441: validation mse=12.32443\n",
      "Global Step 3350 and Step 1491: validation mse=12.31722\n",
      "Global Step 3400 and Step 1541: validation mse=12.36926\n",
      "Global Step 3450 and Step 1591: validation mse=12.41925\n",
      "Early Stopping!!!\n",
      "Restoring the best parameters...\n",
      "Global Step 3500 and Step 0050: validation mse=12.14169\n",
      "Global Step 3550 and Step 0100: validation mse=12.14700\n",
      "Global Step 3600 and Step 0150: validation mse=12.15243\n",
      "Global Step 3650 and Step 0200: validation mse=12.15882\n",
      "Global Step 3700 and Step 0250: validation mse=12.15230\n",
      "Global Step 3750 and Step 0300: validation mse=12.15257\n",
      "Global Step 3800 and Step 0350: validation mse=12.18040\n",
      "Global Step 3850 and Step 0400: validation mse=12.18257\n",
      "Global Step 3900 and Step 0450: validation mse=12.19445\n",
      "Global Step 3950 and Step 0500: validation mse=12.17218\n",
      "Global Step 4000 and Step 0550: validation mse=12.18594\n",
      "Global Step 4050 and Step 0600: validation mse=12.19943\n",
      "Global Step 4100 and Step 0650: validation mse=12.19290\n",
      "Global Step 4150 and Step 0700: validation mse=12.17683\n",
      "Global Step 4200 and Step 0750: validation mse=12.18384\n",
      "Early Stopping!!!\n",
      "Restoring the best parameters...\n",
      "Global Step 4250 and Step 0050: validation mse=12.14202\n",
      "Global Step 4300 and Step 0100: validation mse=12.15101\n",
      "Global Step 4350 and Step 0150: validation mse=12.15098\n",
      "Global Step 4400 and Step 0200: validation mse=12.15517\n",
      "Global Step 4450 and Step 0250: validation mse=12.15980\n",
      "Global Step 4500 and Step 0300: validation mse=12.16791\n",
      "Global Step 4550 and Step 0350: validation mse=12.16888\n",
      "Global Step 4600 and Step 0400: validation mse=12.17271\n",
      "Global Step 4650 and Step 0450: validation mse=12.17511\n",
      "Global Step 4700 and Step 0500: validation mse=12.17479\n",
      "Global Step 4750 and Step 0550: validation mse=12.17431\n",
      "Global Step 4800 and Step 0600: validation mse=12.17150\n",
      "Global Step 4850 and Step 0650: validation mse=12.16138\n",
      "Global Step 4900 and Step 0700: validation mse=12.16298\n",
      "Global Step 4950 and Step 0750: validation mse=12.16835\n",
      "Early Stopping!!!\n",
      "Restoring the best parameters...\n",
      "Global Step 5000 and Step 0050: validation mse=12.15158\n",
      "Global Step 5050 and Step 0100: validation mse=12.15166\n",
      "Global Step 5100 and Step 0150: validation mse=12.15130\n",
      "Global Step 5150 and Step 0200: validation mse=12.15424\n",
      "Global Step 5200 and Step 0250: validation mse=12.15358\n",
      "Global Step 5250 and Step 0300: validation mse=12.15285\n",
      "Global Step 5300 and Step 0350: validation mse=12.15012\n",
      "Global Step 5350 and Step 0400: validation mse=12.15034\n",
      "Global Step 5400 and Step 0450: validation mse=12.14809\n",
      "Global Step 5450 and Step 0500: validation mse=12.14871\n",
      "Global Step 5500 and Step 0550: validation mse=12.14792\n",
      "Global Step 5550 and Step 0600: validation mse=12.14878\n",
      "Global Step 5600 and Step 0650: validation mse=12.14759\n",
      "Global Step 5650 and Step 0700: validation mse=12.14987\n",
      "Global Step 5700 and Step 0750: validation mse=12.14700\n",
      "Early Stopping!!!\n",
      "Restoring the best parameters...\n",
      "Global Step 5750 and Step 0050: validation mse=12.13869\n",
      "Global Step 5800 and Step 0100: validation mse=12.14621\n",
      "Global Step 5850 and Step 0150: validation mse=12.14907\n",
      "Global Step 5900 and Step 0200: validation mse=12.15030\n",
      "Global Step 5950 and Step 0250: validation mse=12.15127\n",
      "Global Step 6000 and Step 0300: validation mse=12.15265\n",
      "Global Step 6050 and Step 0350: validation mse=12.15371\n",
      "Global Step 6100 and Step 0400: validation mse=12.15409\n",
      "Global Step 6150 and Step 0450: validation mse=12.15305\n",
      "Global Step 6200 and Step 0500: validation mse=12.15304\n",
      "Global Step 6250 and Step 0550: validation mse=12.15305\n",
      "Global Step 6300 and Step 0600: validation mse=12.15320\n",
      "Global Step 6350 and Step 0650: validation mse=12.15318\n",
      "Global Step 6400 and Step 0700: validation mse=12.15323\n",
      "Global Step 6450 and Step 0750: validation mse=12.15290\n",
      "Early Stopping!!!\n",
      "Restoring the best parameters...\n"
     ]
    }
   ],
   "source": [
    "# Learn the kernel from random initialization\n",
    "learning_rate = 0.001\n",
    "iterations = 5\n",
    "min_error = -1\n",
    "for i in range(iterations):\n",
    "    toy_net_trainer.train(train_data, vali_data, batch_size=128, min_error=min_error, feed_dict={toy_data_net.lr: learning_rate})\n",
    "    learning_rate = learning_rate/3"
   ]
  },
  {
   "cell_type": "code",
   "execution_count": 23,
   "metadata": {
    "collapsed": false,
    "deletable": true,
    "editable": true
   },
   "outputs": [
    {
     "name": "stdout",
     "output_type": "stream",
     "text": [
      "[array([-1.26111472, -1.22803736,  2.01467419], dtype=float32), array([[ 0.72664255],\n",
      "       [ 0.1895964 ],\n",
      "       [-0.51417094],\n",
      "       [ 0.72331333]], dtype=float32)]\n"
     ]
    },
    {
     "data": {
      "image/png": "[encoded data removed]",
      "text/plain": [
       "<matplotlib.figure.Figure at 0x7fed087b6e48>"
      ]
     },
     "metadata": {},
     "output_type": "display_data"
    }
   ],
   "source": [
    "toy_net_trainer.restore_best()\n",
    "w_pre = toy_net_trainer.evaluate(ops=toy_data_net.kernel_pre)\n",
    "w_post = toy_net_trainer.evaluate(ops=toy_data_net.kernel_post)\n",
    "w_post_post = toy_net_trainer.evaluate(ops=toy_data_net.kernel_post_post)\n",
    "fc_w = toy_net_trainer.evaluate(ops=toy_data_net.fc_w)\n",
    "bias = toy_net_trainer.evaluate(ops=toy_data_net.bias)\n",
    "plt.plot(-1*w_pre, label='ker_pre_trained')\n",
    "\n",
    "plt.plot(-1*w_post, label='ker_post_trained')\n",
    "plt.plot(-1*w_post_post, label='ker_post_post_trained')\n",
    "plt.legend()\n",
    "print([fc_w, bias])"
   ]
  },
  {
   "cell_type": "code",
   "execution_count": 31,
   "metadata": {
    "collapsed": false,
    "deletable": true,
    "editable": true
   },
   "outputs": [
    {
     "data": {
      "image/png": "[encoded data removed]",
      "text/plain": [
       "<matplotlib.figure.Figure at 0x7fe9d42c7b38>"
      ]
     },
     "metadata": {},
     "output_type": "display_data"
    }
   ],
   "source": [
    "# Test effect of smoothed kernel\n",
    "w_pre_sm = w_pre\n",
    "w_post_sm = w_post \n",
    "w_post_post_sm = w_post_post\n",
    "w_pre_sm[:40] = data_aug_gp.smooth(w_pre[:40], width=10)\n",
    "w_post_sm[:38] = data_aug_gp.smooth(w_post[:38], width=10)\n",
    "w_post_post_sm[:100] = data_aug_gp.smooth(w_post_post[:100], width=5)\n",
    "\n",
    "plt.plot(-1 * w_pre_sm)\n",
    "plt.plot(-1 * w_post_sm)\n",
    "plt.plot(-1*w_post_post_sm)\n",
    "\n",
    "ker_test.kernel_pre = w_pre_sm\n",
    "ker_test.kernel_post = w_post_sm\n",
    "ker_test.kernel_post_post= w_post_post_sm\n",
    "ker_test.kernel_scale = fc_w\n",
    "ker_test.bias = bias"
   ]
  },
  {
   "cell_type": "markdown",
   "metadata": {
    "collapsed": true,
    "deletable": true,
    "editable": true
   },
   "source": [
    "Compare the target and prediction"
   ]
  },
  {
   "cell_type": "code",
   "execution_count": 32,
   "metadata": {
    "collapsed": false,
    "deletable": true,
    "editable": true
   },
   "outputs": [],
   "source": [
    "# Updated the kernel as trained kernel\n",
    "ker_test.kernel_pre = w_pre\n",
    "ker_test.kernel_post = w_post\n",
    "ker_test.kernel_post_post= w_post_post\n",
    "ker_test.kernel_scale = fc_w\n",
    "ker_test.bias = bias"
   ]
  },
  {
   "cell_type": "code",
   "execution_count": 33,
   "metadata": {
    "collapsed": false,
    "deletable": true,
    "editable": true
   },
   "outputs": [
    {
     "data": {
      "text/plain": [
       "<matplotlib.legend.Legend at 0x7fe9e462aa20>"
      ]
     },
     "execution_count": 33,
     "metadata": {},
     "output_type": "execute_result"
    },
    {
     "data": {
      "image/png": "[encoded data removed]",
      "text/plain": [
       "<matplotlib.figure.Figure at 0x7fecd47bdf28>"
      ]
     },
     "metadata": {},
     "output_type": "display_data"
    }
   ],
   "source": [
    "# Generate training predictions\n",
    "spk_len = int(data['train_len'].max() * 1000 / ker_test.reso_kernel)\n",
    "_, predictions_train = arb_w_gen(spk_pairs=spk_pairs_train, spk_len=spk_len, kernel=ker_test, net_type='triplet')\n",
    "\n",
    "ptl_len = np.array([160,3,160,3])\n",
    "rep_time = np.array([1,1,1,1])\n",
    "ptl_len, targets_out, predictions_out = data_aug_knn.target_pred_gen(targets_train, predictions_train, ptl_len, rep_time)\n",
    "\n",
    "# Calculate the total sum of squares\n",
    "R2 = 1 - np.sum(np.square(predictions_train-targets_train))/(np.square(np.std(targets_train))*(len(targets_train)-1))\n",
    "\n",
    "plt.plot(np.linspace(-30,50,80), np.linspace(-30,50,80),'k--')\n",
    "ptl_type = ['stdp', 'trip1', 'quad','trip2']\n",
    "for i in range(len(ptl_len)):\n",
    "    plt.plot(targets_out[i], predictions_out[i],'o', label=ptl_type[i])\n",
    "\n",
    "plt.title('Training data (R2=%0.2f)'%(R2))\n",
    "plt.legend()"
   ]
  },
  {
   "cell_type": "code",
   "execution_count": 34,
   "metadata": {
    "collapsed": false,
    "deletable": true,
    "editable": true
   },
   "outputs": [
    {
     "data": {
      "text/plain": [
       "<matplotlib.legend.Legend at 0x7fed086cf160>"
      ]
     },
     "execution_count": 34,
     "metadata": {},
     "output_type": "execute_result"
    },
    {
     "data": {
      "image/png": "[encoded data removed]",
      "text/plain": [
       "<matplotlib.figure.Figure at 0x7fe9d42aa780>"
      ]
     },
     "metadata": {},
     "output_type": "display_data"
    }
   ],
   "source": [
    "# Generate validation predictions\n",
    "spk_len = int(data['train_len'].max() * 1000 / ker_test.reso_kernel)\n",
    "_, predictions_vali = arb_w_gen(spk_pairs=spk_pairs_vali, spk_len=spk_len, kernel=ker_test, net_type='triplet')\n",
    "\n",
    "ptl_len = np.array([40,1,40,1])\n",
    "rep_time = np.array([1,1,1,1])\n",
    "ptl_len, targets_out, predictions_out = data_aug_knn.target_pred_gen(targets_vali, predictions_vali, ptl_len, rep_time)\n",
    "\n",
    "# Calculate the total sum of squares\n",
    "R2 = 1 - np.sum(np.square(predictions_vali-targets_vali))/(np.square(np.std(targets_vali))*(len(targets_vali)-1))\n",
    "corr = np.sqrt(R2)\n",
    "\n",
    "plt.plot(np.linspace(-30,50,80), np.linspace(-30,50,80),'k--')\n",
    "ptl_type = ['stdp', 'trip1', 'quad','trip2']\n",
    "for i in range(len(ptl_len)):\n",
    "    plt.plot(targets_out[i], predictions_out[i],'o', label=ptl_type[i])\n",
    "\n",
    "plt.title('Validation data (R2=%0.2f)'%(R2))\n",
    "plt.legend()"
   ]
  },
  {
   "cell_type": "code",
   "execution_count": 35,
   "metadata": {
    "collapsed": false,
    "deletable": true,
    "editable": true
   },
   "outputs": [],
   "source": [
    "# Generat the spike trains and targets for STDP\n",
    "data3 = data[data['ptl_idx']==3]\n",
    "ptl_list = [1,2,3,4]\n",
    "spk_len = int(data3['train_len'].max() * 1000 / ker_test.reso_kernel)\n",
    "if_noise = 0\n",
    "aug_times = [1,1,1,1]\n",
    "spk_pairs_test, targets_test = arb_w_gen(df=data_gen_test, ptl_list=ptl_list, targets=y_test, if_noise=if_noise, spk_len=spk_len, kernel=ker_test, net_type='triplet', aug_times=aug_times)"
   ]
  },
  {
   "cell_type": "code",
   "execution_count": 36,
   "metadata": {
    "collapsed": false,
    "deletable": true,
    "editable": true
   },
   "outputs": [
    {
     "data": {
      "text/plain": [
       "<matplotlib.legend.Legend at 0x7fe9d4173c88>"
      ]
     },
     "execution_count": 36,
     "metadata": {},
     "output_type": "execute_result"
    },
    {
     "data": {
      "image/png": "[encoded data removed]",
      "text/plain": [
       "<matplotlib.figure.Figure at 0x7fe9d42945f8>"
      ]
     },
     "metadata": {},
     "output_type": "display_data"
    }
   ],
   "source": [
    "# Generate test predictions\n",
    "spk_len = int(data['train_len'].max() * 1000 / ker_test.reso_kernel)\n",
    "_, predictions_test = arb_w_gen(spk_pairs=spk_pairs_test, spk_len=spk_len, kernel=ker_test, net_type='triplet')\n",
    "\n",
    "ptl_len = np.array([12,7,12,4])\n",
    "rep_time = np.array([1,1,1,1])\n",
    "ptl_len, targets_out, predictions_out = data_aug_knn.target_pred_gen(targets_test, predictions_test, ptl_len, rep_time)\n",
    "\n",
    "# Calculate the total sum of squares\n",
    "R2 = 1 - np.sum(np.square(predictions_test-targets_test))/(np.square(np.std(targets_test))*(len(targets_test)-1))\n",
    "corr = np.sqrt(R2)\n",
    "\n",
    "plt.plot(np.linspace(-30,50,80), np.linspace(-30,50,80),'k--')\n",
    "ptl_type = ['stdp', 'trip1', 'quad','trip2']\n",
    "for i in range(len(ptl_len)):\n",
    "    plt.plot(targets_out[i], predictions_out[i],'o', label=ptl_type[i])\n",
    "\n",
    "plt.title('Testing data (R2=%0.2f)'%(R2))\n",
    "plt.legend()"
   ]
  },
  {
   "cell_type": "code",
   "execution_count": null,
   "metadata": {
    "collapsed": true,
    "deletable": true,
    "editable": true
   },
   "outputs": [],
   "source": []
  }
 ],
 "metadata": {
  "kernelspec": {
   "display_name": "Python 3",
   "language": "python",
   "name": "python3"
  },
  "language_info": {
   "codemirror_mode": {
    "name": "ipython",
    "version": 3
   },
   "file_extension": ".py",
   "mimetype": "text/x-python",
   "name": "python",
   "nbconvert_exporter": "python",
   "pygments_lexer": "ipython3",
   "version": "3.5.2"
  }
 },
 "nbformat": 4,
 "nbformat_minor": 2
}

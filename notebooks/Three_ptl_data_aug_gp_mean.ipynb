{
 "cells": [
  {
   "cell_type": "markdown",
   "metadata": {
    "deletable": true,
    "editable": true
   },
   "source": [
    "Augment the literature data"
   ]
  },
  {
   "cell_type": "code",
   "execution_count": 1,
   "metadata": {
    "collapsed": false,
    "deletable": true,
    "editable": true
   },
   "outputs": [],
   "source": [
    "# Load libraries and modules\n",
    "import numpy as np\n",
    "import pandas as pd\n",
    "import matplotlib.pyplot as plt\n",
    "import seaborn as sns\n",
    "import tensorflow as tf\n",
    "from modelval import pairptl, network, trainer, dataset, data_aug_knn, perform_eval\n",
    "from modelval.ArbDataGen import arb_w_gen\n",
    "from modelval.spk_visu import spk_see, raster\n",
    "from modelval import gp_regressor\n",
    "from modelval import data_aug_gp\n",
    "from sklearn.model_selection import train_test_split\n",
    "\n",
    "import warnings\n",
    "warnings.filterwarnings('ignore')\n",
    "\n",
    "% matplotlib inline\n",
    "% load_ext autoreload\n",
    "% autoreload 2"
   ]
  },
  {
   "cell_type": "code",
   "execution_count": 2,
   "metadata": {
    "collapsed": false,
    "deletable": true,
    "editable": true
   },
   "outputs": [
    {
     "data": {
      "text/html": [
       "<div>\n",
       "<table border=\"1\" class=\"dataframe\">\n",
       "  <thead>\n",
       "    <tr style=\"text-align: right;\">\n",
       "      <th></th>\n",
       "      <th>ptl_idx</th>\n",
       "      <th>pre_spk_num</th>\n",
       "      <th>pre_spk_freq</th>\n",
       "      <th>post_spk_num</th>\n",
       "      <th>post_spk_freq</th>\n",
       "      <th>ptl_occ</th>\n",
       "      <th>ptl_freq</th>\n",
       "      <th>dt1</th>\n",
       "      <th>dt2</th>\n",
       "      <th>dt3</th>\n",
       "      <th>dw_mean</th>\n",
       "      <th>dw_ste</th>\n",
       "      <th>train_len</th>\n",
       "    </tr>\n",
       "  </thead>\n",
       "  <tbody>\n",
       "    <tr>\n",
       "      <th>0</th>\n",
       "      <td>1</td>\n",
       "      <td>1</td>\n",
       "      <td>0</td>\n",
       "      <td>1</td>\n",
       "      <td>0</td>\n",
       "      <td>60</td>\n",
       "      <td>1.0</td>\n",
       "      <td>-102.898046</td>\n",
       "      <td>0.0</td>\n",
       "      <td>0</td>\n",
       "      <td>-1.322590</td>\n",
       "      <td>0.0</td>\n",
       "      <td>60</td>\n",
       "    </tr>\n",
       "    <tr>\n",
       "      <th>1</th>\n",
       "      <td>1</td>\n",
       "      <td>1</td>\n",
       "      <td>0</td>\n",
       "      <td>1</td>\n",
       "      <td>0</td>\n",
       "      <td>60</td>\n",
       "      <td>1.0</td>\n",
       "      <td>-75.579896</td>\n",
       "      <td>0.0</td>\n",
       "      <td>0</td>\n",
       "      <td>2.674768</td>\n",
       "      <td>0.0</td>\n",
       "      <td>60</td>\n",
       "    </tr>\n",
       "    <tr>\n",
       "      <th>2</th>\n",
       "      <td>1</td>\n",
       "      <td>1</td>\n",
       "      <td>0</td>\n",
       "      <td>1</td>\n",
       "      <td>0</td>\n",
       "      <td>60</td>\n",
       "      <td>1.0</td>\n",
       "      <td>-80.871473</td>\n",
       "      <td>0.0</td>\n",
       "      <td>0</td>\n",
       "      <td>-12.696449</td>\n",
       "      <td>0.0</td>\n",
       "      <td>60</td>\n",
       "    </tr>\n",
       "    <tr>\n",
       "      <th>3</th>\n",
       "      <td>1</td>\n",
       "      <td>1</td>\n",
       "      <td>0</td>\n",
       "      <td>1</td>\n",
       "      <td>0</td>\n",
       "      <td>60</td>\n",
       "      <td>1.0</td>\n",
       "      <td>-67.562239</td>\n",
       "      <td>0.0</td>\n",
       "      <td>0</td>\n",
       "      <td>0.231446</td>\n",
       "      <td>0.0</td>\n",
       "      <td>60</td>\n",
       "    </tr>\n",
       "    <tr>\n",
       "      <th>4</th>\n",
       "      <td>1</td>\n",
       "      <td>1</td>\n",
       "      <td>0</td>\n",
       "      <td>1</td>\n",
       "      <td>0</td>\n",
       "      <td>60</td>\n",
       "      <td>1.0</td>\n",
       "      <td>-63.553410</td>\n",
       "      <td>0.0</td>\n",
       "      <td>0</td>\n",
       "      <td>-0.990216</td>\n",
       "      <td>0.0</td>\n",
       "      <td>60</td>\n",
       "    </tr>\n",
       "  </tbody>\n",
       "</table>\n",
       "</div>"
      ],
      "text/plain": [
       "   ptl_idx  pre_spk_num  pre_spk_freq  post_spk_num  post_spk_freq  ptl_occ  \\\n",
       "0        1            1             0             1              0       60   \n",
       "1        1            1             0             1              0       60   \n",
       "2        1            1             0             1              0       60   \n",
       "3        1            1             0             1              0       60   \n",
       "4        1            1             0             1              0       60   \n",
       "\n",
       "   ptl_freq         dt1  dt2  dt3    dw_mean  dw_ste  train_len  \n",
       "0       1.0 -102.898046  0.0    0  -1.322590     0.0         60  \n",
       "1       1.0  -75.579896  0.0    0   2.674768     0.0         60  \n",
       "2       1.0  -80.871473  0.0    0 -12.696449     0.0         60  \n",
       "3       1.0  -67.562239  0.0    0   0.231446     0.0         60  \n",
       "4       1.0  -63.553410  0.0    0  -0.990216     0.0         60  "
      ]
     },
     "execution_count": 2,
     "metadata": {},
     "output_type": "execute_result"
    }
   ],
   "source": [
    "# Load data frame\n",
    "data = pd.read_csv('/src/Plasticity_Ker/data/kernel_training_data_auto.csv')\n",
    "data.head()"
   ]
  },
  {
   "cell_type": "code",
   "execution_count": 3,
   "metadata": {
    "collapsed": false,
    "deletable": true,
    "editable": true
   },
   "outputs": [],
   "source": [
    "# Generate data for STDP\n",
    "data1 = data[data['ptl_idx']==1]\n",
    "data1_gen, targets1 = data_aug_knn.STDP_dw_gen(n_neighbors=3)"
   ]
  },
  {
   "cell_type": "code",
   "execution_count": 4,
   "metadata": {
    "collapsed": false,
    "deletable": true,
    "editable": true
   },
   "outputs": [],
   "source": [
    "# Obtain the gp mean\n",
    "params = {'amp_kernel': 1,\n",
    " 'length_scale': 0.1,\n",
    " 'power_sc': 0.2,\n",
    " 'sigma_noise': 1.0}\n",
    "\n",
    "x_stdp, _, x_stdp_test, y_stdp_test, y_stdp = data_aug_gp.stdp_gp(**params)\n",
    "\n",
    "x_stdp_train, x_stdp_vali, y_stdp_train, y_stdp_vali = train_test_split(x_stdp, y_stdp, test_size=0.2)"
   ]
  },
  {
   "cell_type": "code",
   "execution_count": 5,
   "metadata": {
    "collapsed": false,
    "deletable": true,
    "editable": true
   },
   "outputs": [
    {
     "data": {
      "text/plain": [
       "[-110, 110, -50, 110]"
      ]
     },
     "execution_count": 5,
     "metadata": {},
     "output_type": "execute_result"
    },
    {
     "data": {
      "image/png": "[encoded data removed]",
      "text/plain": [
       "<matplotlib.figure.Figure at 0x7f71c5d2d7f0>"
      ]
     },
     "metadata": {},
     "output_type": "display_data"
    }
   ],
   "source": [
    "plt.plot(x_stdp_train, y_stdp_train, 'o',label='train_data')\n",
    "plt.plot(x_stdp_vali, y_stdp_vali, 'o',label='vali_data')\n",
    "plt.plot(x_stdp_test,y_stdp_test, 'o', label='test_data')\n",
    "plt.legend(loc='upper left')\n",
    "plt.axis([-110,110,-50,110])"
   ]
  },
  {
   "cell_type": "code",
   "execution_count": 6,
   "metadata": {
    "collapsed": false,
    "deletable": true,
    "editable": true
   },
   "outputs": [],
   "source": [
    "# Pute time information into dataframe\n",
    "data_stdp_train = data_aug_gp.STDP_dw_gen(x_stdp_train)\n",
    "data_stdp_vali = data_aug_gp.STDP_dw_gen(x_stdp_vali)\n",
    "data_stdp_test = data_aug_gp.STDP_dw_gen(x_stdp_test.reshape(-1,1))"
   ]
  },
  {
   "cell_type": "code",
   "execution_count": 7,
   "metadata": {
    "collapsed": false,
    "deletable": true,
    "editable": true
   },
   "outputs": [
    {
     "data": {
      "text/plain": [
       "((160, 13), (160, 1), (40, 13), (40, 1), (9, 13), (9, 1))"
      ]
     },
     "execution_count": 7,
     "metadata": {},
     "output_type": "execute_result"
    }
   ],
   "source": [
    "data_stdp_train.shape, y_stdp_train.shape, data_stdp_vali.shape, y_stdp_vali.shape,data_stdp_test.shape, y_stdp_test.shape"
   ]
  },
  {
   "cell_type": "code",
   "execution_count": 8,
   "metadata": {
    "collapsed": false,
    "deletable": true,
    "editable": true
   },
   "outputs": [
    {
     "data": {
      "text/plain": [
       "<matplotlib.legend.Legend at 0x7f71c3c2cdd8>"
      ]
     },
     "execution_count": 8,
     "metadata": {},
     "output_type": "execute_result"
    },
    {
     "data": {
      "image/png": "[encoded data removed]",
      "text/plain": [
       "<matplotlib.figure.Figure at 0x7f71c3c5c550>"
      ]
     },
     "metadata": {},
     "output_type": "display_data"
    }
   ],
   "source": [
    "# Obtain augmented data from quadruplet protocol\n",
    "params = {'amp_kernel': 1,\n",
    " 'length_scale': 0.45,\n",
    " 'power_sc': 0.4,\n",
    " 'sigma_noise': 1.2}\n",
    "\n",
    "x_quad, _, x_quad_test, y_quad_test, y_quad = data_aug_gp.quad_gp(**params)\n",
    "\n",
    "# Split into training and validation set\n",
    "x_quad_train, x_quad_vali, y_quad_train, y_quad_vali = train_test_split(x_quad, y_quad, test_size=0.2)\n",
    "\n",
    "plt.plot(x_quad_train, y_quad_train, 'o', label='train_data')\n",
    "plt.plot(x_quad_vali, y_quad_vali, 'o', label='vali_data')\n",
    "plt.plot(x_quad_test, y_quad_test, 'o', label='test_data')\n",
    "plt.legend(loc='upper left')"
   ]
  },
  {
   "cell_type": "code",
   "execution_count": 9,
   "metadata": {
    "collapsed": false,
    "deletable": true,
    "editable": true
   },
   "outputs": [],
   "source": [
    "# Put dt information into dataframe\n",
    "data_quad_train = data_aug_gp.quad_dw_gen(x_quad_train)\n",
    "data_quad_vali = data_aug_gp.quad_dw_gen(x_quad_vali)\n",
    "data_quad_test = data_aug_gp.quad_dw_gen(x_quad_test.reshape(-1,1))"
   ]
  },
  {
   "cell_type": "code",
   "execution_count": 10,
   "metadata": {
    "collapsed": false,
    "deletable": true,
    "editable": true
   },
   "outputs": [
    {
     "data": {
      "text/plain": [
       "((160, 13), (160, 1), (40, 13), (40, 1), (12, 13), (12, 1))"
      ]
     },
     "execution_count": 10,
     "metadata": {},
     "output_type": "execute_result"
    }
   ],
   "source": [
    "data_quad_train.shape, y_quad_train.shape, data_quad_vali.shape, y_quad_vali.shape, data_quad_test.shape, y_quad_test.shape"
   ]
  },
  {
   "cell_type": "code",
   "execution_count": 11,
   "metadata": {
    "collapsed": false,
    "deletable": true,
    "editable": true
   },
   "outputs": [],
   "source": [
    "# Generate data for Triplet\n",
    "dt = np.array([-10, -5, 0, 5, 10]).reshape(-1,1)\n",
    "data_trip, y_trip, data_trip_test, y_trip_test = data_aug_gp.triplet_dw_gen(n_samples=1)\n",
    "\n",
    "# Split the triplet data into training and validation\n",
    "np.random.seed(10)\n",
    "idx = np.random.permutation(len(data_trip))\n",
    "data_trip_train = data_trip.iloc[idx[:int(len(data_trip)*0.8)]]\n",
    "y_trip_train = y_trip[idx[:int(len(data_trip)*0.8)]]\n",
    "data_trip_vali = data_trip.iloc[idx[int(len(data_trip)*0.8):]]\n",
    "y_trip_vali = y_trip[idx[int(len(data_trip)*0.8):]]"
   ]
  },
  {
   "cell_type": "code",
   "execution_count": 12,
   "metadata": {
    "collapsed": false,
    "deletable": true,
    "editable": true
   },
   "outputs": [
    {
     "data": {
      "text/plain": [
       "((6, 13), (2, 13), (11, 13))"
      ]
     },
     "execution_count": 12,
     "metadata": {},
     "output_type": "execute_result"
    }
   ],
   "source": [
    "data_trip_train.shape, data_trip_vali.shape, data_trip_test.shape"
   ]
  },
  {
   "cell_type": "code",
   "execution_count": 13,
   "metadata": {
    "collapsed": false,
    "deletable": true,
    "editable": true
   },
   "outputs": [],
   "source": [
    "# Combine data from stdp and quadruplet\n",
    "data_gen_train = pd.concat([data_stdp_train, data_trip_train, data_quad_train], axis=0)\n",
    "y_train = np.concatenate([y_stdp_train, y_trip_train, y_quad_train])\n",
    "data_gen_vali = pd.concat([data_stdp_vali, data_trip_vali, data_quad_vali], axis=0)\n",
    "y_vali = np.concatenate([y_stdp_vali, y_trip_vali, y_quad_vali])\n",
    "data_gen_test = pd.concat([data_stdp_test, data_trip_test, data_quad_test], axis=0)\n",
    "y_test = np.concatenate([y_stdp_test, y_trip_test, y_quad_test])"
   ]
  },
  {
   "cell_type": "code",
   "execution_count": 14,
   "metadata": {
    "collapsed": false,
    "deletable": true,
    "editable": true
   },
   "outputs": [
    {
     "data": {
      "text/plain": [
       "((326, 13), (326, 1), (82, 13), (82, 1))"
      ]
     },
     "execution_count": 14,
     "metadata": {},
     "output_type": "execute_result"
    }
   ],
   "source": [
    "data_gen_train.shape, y_train.shape, data_gen_vali.shape, y_vali.shape"
   ]
  },
  {
   "cell_type": "code",
   "execution_count": 15,
   "metadata": {
    "collapsed": false,
    "deletable": true,
    "editable": true
   },
   "outputs": [],
   "source": [
    "trip_para = pd.read_pickle('/src/Plasticity_Ker/data/Gerstner_trip_para_df')\n",
    "trip_para\n",
    "# Reorder columns to match parameter of the model\n",
    "trip_para = trip_para[['A2_+', 'A3_-', 'A2_-', 'A3_+', 'Tau_+', 'Tau_x', 'Tau_-', 'Tau_y']]\n",
    "\n",
    "# Visualize kernel\n",
    "from modelval.kernel import KernelGen\n",
    "ker_test = KernelGen()\n",
    "\n",
    "para = trip_para.loc[('Hippo_AlltoAll', 'Full'), :]\n",
    "a = para[:4].values\n",
    "tau = para[4:].values\n",
    "reso_set = 2\n",
    "tau_pre_post = tau[0]/reso_set  # ms\n",
    "tau_post_pre = tau[2]/reso_set # ms\n",
    "\n",
    "len_kernel = 101\n",
    "len_trip = 151\n",
    "ker_test = KernelGen(len_kernel=len_kernel, len_trip=len_trip)\n",
    "ker_test.trip_model_ker(para, data_name='Hippocampus')"
   ]
  },
  {
   "cell_type": "code",
   "execution_count": 16,
   "metadata": {
    "collapsed": false,
    "deletable": true,
    "editable": true
   },
   "outputs": [
    {
     "data": {
      "text/plain": [
       "(151, 1)"
      ]
     },
     "execution_count": 16,
     "metadata": {},
     "output_type": "execute_result"
    }
   ],
   "source": [
    "ker_test.kernel_post_post.shape"
   ]
  },
  {
   "cell_type": "code",
   "execution_count": 17,
   "metadata": {
    "collapsed": false,
    "deletable": true,
    "editable": true
   },
   "outputs": [
    {
     "data": {
      "text/plain": [
       "(3,)"
      ]
     },
     "execution_count": 17,
     "metadata": {},
     "output_type": "execute_result"
    }
   ],
   "source": [
    "ker_test.kernel_scale.shape"
   ]
  },
  {
   "cell_type": "code",
   "execution_count": 18,
   "metadata": {
    "collapsed": false,
    "deletable": true,
    "editable": true
   },
   "outputs": [],
   "source": [
    "# Generat the spike trains and targets for STDP\n",
    "data_hippo = data[data['ptl_idx']<5]\n",
    "ptl_list = [1,2,3,4]\n",
    "spk_len = int(data_hippo['train_len'].max() * 1000 / ker_test.reso_kernel)\n",
    "if_noise = 1\n",
    "aug_times = [1,1,1,1]\n",
    "spk_pairs_train, targets_train = arb_w_gen(df=data_gen_train, ptl_list=ptl_list, targets=y_train, if_noise=if_noise, spk_len=spk_len, kernel=ker_test, net_type='triplet', aug_times=aug_times)\n",
    "spk_pairs_vali, targets_vali = arb_w_gen(df=data_gen_vali, ptl_list=ptl_list, targets=y_vali, if_noise=if_noise, spk_len=spk_len, kernel=ker_test, net_type='triplet', aug_times=aug_times)"
   ]
  },
  {
   "cell_type": "code",
   "execution_count": 19,
   "metadata": {
    "collapsed": false,
    "deletable": true,
    "editable": true
   },
   "outputs": [],
   "source": [
    "# Create the network\n",
    "ground_truth_init = 0\n",
    "reg_scale=(1,50,100,200)\n",
    "init_seed=(4,5,6,7,8)\n",
    "\n",
    "toy_data_net = network.TripNet(kernel=ker_test, ground_truth_init=ground_truth_init, reg_scale=reg_scale, n_input=spk_pairs_train.shape[1])"
   ]
  },
  {
   "cell_type": "code",
   "execution_count": 20,
   "metadata": {
    "collapsed": false,
    "deletable": true,
    "editable": true
   },
   "outputs": [],
   "source": [
    "# Create the trainer\n",
    "save_dir= '/src/Plasticity_Ker/model/Trip_ptl1_4_real_aug_gp_mean_noise_alpha1_alpha3_10_long_post_post_diff_bias'\n",
    "toy_net_trainer = trainer.Trainer(toy_data_net.mse, toy_data_net.loss, input_name=toy_data_net.inputs, target_name=toy_data_net.target, save_dir=save_dir, optimizer_config={'learning_rate': toy_data_net.lr})"
   ]
  },
  {
   "cell_type": "code",
   "execution_count": 21,
   "metadata": {
    "collapsed": false,
    "deletable": true,
    "editable": true
   },
   "outputs": [],
   "source": [
    "train_data = dataset.Dataset(spk_pairs_train, targets_train)\n",
    "vali_data = dataset.Dataset(spk_pairs_vali, targets_vali)"
   ]
  },
  {
   "cell_type": "code",
   "execution_count": 22,
   "metadata": {
    "collapsed": false,
    "deletable": true,
    "editable": true
   },
   "outputs": [
    {
     "name": "stdout",
     "output_type": "stream",
     "text": [
      "[-0.22614121 -0.27994752  0.95375919] [[ 0.]\n",
      " [ 0.]\n",
      " [ 0.]\n",
      " [ 0.]] [[ 1.00032043]\n",
      " [-0.51089203]\n",
      " [ 1.09062028]\n",
      " [ 0.75781369]]\n"
     ]
    },
    {
     "data": {
      "image/png": "[encoded data removed]",
      "text/plain": [
       "<matplotlib.figure.Figure at 0x7f71b368b470>"
      ]
     },
     "metadata": {},
     "output_type": "display_data"
    }
   ],
   "source": [
    "w_pre = toy_net_trainer.evaluate(ops=toy_data_net.kernel_pre)\n",
    "w_post = toy_net_trainer.evaluate(ops=toy_data_net.kernel_post)\n",
    "w_post_post = toy_net_trainer.evaluate(ops=toy_data_net.kernel_post_post)\n",
    "scaler = toy_net_trainer.evaluate(ops=toy_data_net.scaler)\n",
    "fc_w = toy_net_trainer.evaluate(ops=toy_data_net.fc_w)\n",
    "bias = toy_net_trainer.evaluate(ops=toy_data_net.bias)\n",
    "plt.plot(w_pre,  label='ker_pre_init')\n",
    "plt.plot(w_post,  label='ker_post_init')\n",
    "plt.plot(w_post_post,  label='ker_post_post_init')\n",
    "\n",
    "plt.legend()\n",
    "print(fc_w, bias, scaler)"
   ]
  },
  {
   "cell_type": "code",
   "execution_count": 23,
   "metadata": {
    "collapsed": false,
    "deletable": true,
    "editable": true,
    "scrolled": true
   },
   "outputs": [
    {
     "name": "stdout",
     "output_type": "stream",
     "text": [
      "\n",
      "Initial validation mse=116.70379\n",
      "Global Step 0150 and Step 0150: validation mse=101.57374\n",
      "Updated min validation loss!Saving model...\n",
      "Global Step 0200 and Step 0200: validation mse=100.51176\n",
      "Updated min validation loss!Saving model...\n",
      "Global Step 0250 and Step 0250: validation mse=99.09891\n",
      "Updated min validation loss!Saving model...\n",
      "Global Step 0300 and Step 0300: validation mse=96.45882\n",
      "Updated min validation loss!Saving model...\n",
      "Global Step 0350 and Step 0350: validation mse=91.78880\n",
      "Updated min validation loss!Saving model...\n",
      "Global Step 0400 and Step 0400: validation mse=84.51715\n",
      "Updated min validation loss!Saving model...\n",
      "Global Step 0450 and Step 0450: validation mse=75.31411\n",
      "Updated min validation loss!Saving model...\n",
      "Global Step 0500 and Step 0500: validation mse=65.26508\n",
      "Updated min validation loss!Saving model...\n",
      "Global Step 0550 and Step 0550: validation mse=55.94225\n",
      "Updated min validation loss!Saving model...\n",
      "Global Step 0600 and Step 0600: validation mse=48.84129\n",
      "Updated min validation loss!Saving model...\n",
      "Global Step 0650 and Step 0650: validation mse=44.13303\n",
      "Updated min validation loss!Saving model...\n",
      "Global Step 0700 and Step 0700: validation mse=41.06590\n",
      "Updated min validation loss!Saving model...\n",
      "Global Step 0750 and Step 0750: validation mse=38.82887\n",
      "Updated min validation loss!Saving model...\n",
      "Global Step 0800 and Step 0800: validation mse=36.82565\n",
      "Updated min validation loss!Saving model...\n",
      "Global Step 0850 and Step 0850: validation mse=34.88696\n",
      "Updated min validation loss!Saving model...\n",
      "Global Step 0900 and Step 0900: validation mse=32.84456\n",
      "Updated min validation loss!Saving model...\n",
      "Global Step 0950 and Step 0950: validation mse=30.82078\n",
      "Updated min validation loss!Saving model...\n",
      "Global Step 1000 and Step 1000: validation mse=28.68345\n",
      "Updated min validation loss!Saving model...\n",
      "Global Step 1050 and Step 1050: validation mse=26.53656\n",
      "Updated min validation loss!Saving model...\n",
      "Global Step 1100 and Step 1100: validation mse=24.46369\n",
      "Updated min validation loss!Saving model...\n",
      "Global Step 1150 and Step 1150: validation mse=22.58838\n",
      "Updated min validation loss!Saving model...\n",
      "Global Step 1200 and Step 1200: validation mse=20.93376\n",
      "Updated min validation loss!Saving model...\n",
      "Global Step 1250 and Step 1250: validation mse=19.48174\n",
      "Updated min validation loss!Saving model...\n",
      "Global Step 1300 and Step 1300: validation mse=18.29554\n",
      "Updated min validation loss!Saving model...\n",
      "Global Step 1350 and Step 1350: validation mse=17.30360\n",
      "Updated min validation loss!Saving model...\n",
      "Global Step 1400 and Step 1400: validation mse=16.53947\n",
      "Updated min validation loss!Saving model...\n",
      "Global Step 1450 and Step 1450: validation mse=15.91638\n",
      "Updated min validation loss!Saving model...\n",
      "Global Step 1500 and Step 1500: validation mse=15.45677\n",
      "Updated min validation loss!Saving model...\n",
      "Global Step 1550 and Step 1550: validation mse=15.03762\n",
      "Updated min validation loss!Saving model...\n",
      "Global Step 1600 and Step 1600: validation mse=14.67090\n",
      "Updated min validation loss!Saving model...\n",
      "Global Step 1650 and Step 1650: validation mse=14.40289\n",
      "Updated min validation loss!Saving model...\n",
      "Global Step 1700 and Step 1700: validation mse=14.11604\n",
      "Updated min validation loss!Saving model...\n",
      "Global Step 1750 and Step 1750: validation mse=13.81003\n",
      "Updated min validation loss!Saving model...\n",
      "Global Step 1800 and Step 1800: validation mse=13.60065\n",
      "Updated min validation loss!Saving model...\n",
      "Global Step 1850 and Step 1850: validation mse=13.39323\n",
      "Updated min validation loss!Saving model...\n",
      "Global Step 1900 and Step 1900: validation mse=13.15798\n",
      "Updated min validation loss!Saving model...\n",
      "Global Step 1950 and Step 1950: validation mse=12.97132\n",
      "Updated min validation loss!Saving model...\n",
      "Global Step 2000 and Step 2000: validation mse=12.70013\n",
      "Updated min validation loss!Saving model...\n",
      "Global Step 2050 and Step 2050: validation mse=12.58130\n",
      "Updated min validation loss!Saving model...\n",
      "Global Step 2100 and Step 2100: validation mse=12.42477\n",
      "Updated min validation loss!Saving model...\n",
      "Global Step 2150 and Step 2150: validation mse=12.29101\n",
      "Updated min validation loss!Saving model...\n",
      "Global Step 2200 and Step 2200: validation mse=12.14369\n",
      "Updated min validation loss!Saving model...\n",
      "Global Step 2250 and Step 2250: validation mse=11.93036\n",
      "Updated min validation loss!Saving model...\n",
      "Global Step 2300 and Step 2300: validation mse=11.76155\n",
      "Updated min validation loss!Saving model...\n",
      "Global Step 2350 and Step 2350: validation mse=11.62959\n",
      "Updated min validation loss!Saving model...\n",
      "Global Step 2400 and Step 2400: validation mse=11.45129\n",
      "Updated min validation loss!Saving model...\n",
      "Global Step 2450 and Step 2450: validation mse=11.27779\n",
      "Updated min validation loss!Saving model...\n",
      "Global Step 2500 and Step 2500: validation mse=11.12053\n",
      "Updated min validation loss!Saving model...\n",
      "Global Step 2550 and Step 2550: validation mse=10.96999\n",
      "Updated min validation loss!Saving model...\n",
      "Global Step 2600 and Step 2600: validation mse=10.84493\n",
      "Updated min validation loss!Saving model...\n",
      "Global Step 2650 and Step 2650: validation mse=10.66730\n",
      "Updated min validation loss!Saving model...\n",
      "Global Step 2700 and Step 2700: validation mse=10.56451\n",
      "Updated min validation loss!Saving model...\n",
      "Global Step 2750 and Step 2750: validation mse=10.40266\n",
      "Updated min validation loss!Saving model...\n",
      "Global Step 2800 and Step 2800: validation mse=10.25391\n",
      "Updated min validation loss!Saving model...\n",
      "Global Step 2850 and Step 2850: validation mse=10.12922\n",
      "Updated min validation loss!Saving model...\n",
      "Global Step 2900 and Step 2900: validation mse=9.98461\n",
      "Updated min validation loss!Saving model...\n",
      "Global Step 2950 and Step 2950: validation mse=9.86794\n",
      "Updated min validation loss!Saving model...\n",
      "Global Step 3000 and Step 3000: validation mse=9.70666\n",
      "Updated min validation loss!Saving model...\n",
      "Global Step 3050 and Step 3050: validation mse=9.55229\n",
      "Updated min validation loss!Saving model...\n",
      "Global Step 3100 and Step 3100: validation mse=9.40908\n",
      "Updated min validation loss!Saving model...\n",
      "Global Step 3150 and Step 3150: validation mse=9.31740\n",
      "Updated min validation loss!Saving model...\n",
      "Global Step 3200 and Step 3200: validation mse=9.22917\n",
      "Updated min validation loss!Saving model...\n",
      "Global Step 3250 and Step 3250: validation mse=9.13031\n",
      "Updated min validation loss!Saving model...\n",
      "Global Step 3300 and Step 3300: validation mse=8.99480\n",
      "Updated min validation loss!Saving model...\n",
      "Global Step 3350 and Step 3350: validation mse=8.85438\n",
      "Updated min validation loss!Saving model...\n",
      "Global Step 3400 and Step 3400: validation mse=8.73599\n",
      "Updated min validation loss!Saving model...\n",
      "Global Step 3450 and Step 3450: validation mse=8.62912\n",
      "Updated min validation loss!Saving model...\n",
      "Global Step 3500 and Step 3500: validation mse=8.48315\n",
      "Updated min validation loss!Saving model...\n",
      "Global Step 3550 and Step 3550: validation mse=8.37691\n",
      "Updated min validation loss!Saving model...\n",
      "Global Step 3600 and Step 3600: validation mse=8.30378\n",
      "Updated min validation loss!Saving model...\n",
      "Global Step 3650 and Step 3650: validation mse=8.18057\n",
      "Updated min validation loss!Saving model...\n",
      "Global Step 3700 and Step 3700: validation mse=8.07951\n",
      "Updated min validation loss!Saving model...\n",
      "Global Step 3750 and Step 3750: validation mse=7.98585\n",
      "Updated min validation loss!Saving model...\n",
      "Global Step 3800 and Step 3800: validation mse=7.90582\n",
      "Updated min validation loss!Saving model...\n",
      "Global Step 3850 and Step 3850: validation mse=7.81553\n",
      "Updated min validation loss!Saving model...\n",
      "Global Step 3900 and Step 3900: validation mse=7.72414\n",
      "Updated min validation loss!Saving model...\n",
      "Global Step 3950 and Step 3950: validation mse=7.60470\n",
      "Updated min validation loss!Saving model...\n",
      "Global Step 4000 and Step 4000: validation mse=7.53547\n",
      "Updated min validation loss!Saving model...\n",
      "Global Step 4050 and Step 4050: validation mse=7.44843\n",
      "Updated min validation loss!Saving model...\n",
      "Global Step 4100 and Step 4100: validation mse=7.36286\n",
      "Updated min validation loss!Saving model...\n",
      "Global Step 4150 and Step 4150: validation mse=7.30873\n",
      "Updated min validation loss!Saving model...\n",
      "Global Step 4200 and Step 4200: validation mse=7.22111\n",
      "Updated min validation loss!Saving model...\n",
      "Global Step 4250 and Step 4250: validation mse=7.15367\n",
      "Updated min validation loss!Saving model...\n",
      "Global Step 4300 and Step 4300: validation mse=7.08312\n",
      "Updated min validation loss!Saving model...\n",
      "Global Step 4350 and Step 4350: validation mse=7.02820\n",
      "Updated min validation loss!Saving model...\n",
      "Global Step 4400 and Step 4400: validation mse=6.94802\n",
      "Updated min validation loss!Saving model...\n",
      "Global Step 4450 and Step 4450: validation mse=6.88593\n",
      "Updated min validation loss!Saving model...\n",
      "Global Step 4500 and Step 4500: validation mse=6.83573\n",
      "Updated min validation loss!Saving model...\n",
      "Global Step 4550 and Step 4550: validation mse=6.76359\n",
      "Updated min validation loss!Saving model...\n",
      "Global Step 4600 and Step 4600: validation mse=6.70433\n",
      "Updated min validation loss!Saving model...\n",
      "Global Step 4650 and Step 4650: validation mse=6.66671\n",
      "Updated min validation loss!Saving model...\n",
      "Global Step 4700 and Step 4700: validation mse=6.62541\n",
      "Updated min validation loss!Saving model...\n",
      "Global Step 4750 and Step 4750: validation mse=6.58477\n",
      "Updated min validation loss!Saving model...\n",
      "Global Step 4800 and Step 4800: validation mse=6.52877\n",
      "Updated min validation loss!Saving model...\n",
      "Global Step 4850 and Step 4850: validation mse=6.51054\n",
      "Updated min validation loss!Saving model...\n",
      "Global Step 4900 and Step 4900: validation mse=6.45491\n",
      "Updated min validation loss!Saving model...\n",
      "Global Step 4950 and Step 4950: validation mse=6.40883\n",
      "Updated min validation loss!Saving model...\n",
      "Global Step 5000 and Step 5000: validation mse=6.40263\n",
      "Updated min validation loss!Saving model...\n",
      "Global Step 5050 and Step 5050: validation mse=6.37877\n",
      "Updated min validation loss!Saving model...\n",
      "Global Step 5100 and Step 5100: validation mse=6.33239\n",
      "Updated min validation loss!Saving model...\n",
      "Global Step 5150 and Step 5150: validation mse=6.30815\n",
      "Updated min validation loss!Saving model...\n",
      "Global Step 5200 and Step 5200: validation mse=6.26259\n",
      "Updated min validation loss!Saving model...\n",
      "Global Step 5250 and Step 5250: validation mse=6.25268\n",
      "Updated min validation loss!Saving model...\n",
      "Global Step 5300 and Step 5300: validation mse=6.23625\n",
      "Updated min validation loss!Saving model...\n",
      "Global Step 5350 and Step 5350: validation mse=6.22095\n",
      "Updated min validation loss!Saving model...\n",
      "Global Step 5400 and Step 5400: validation mse=6.19453\n",
      "Updated min validation loss!Saving model...\n",
      "Global Step 5450 and Step 5450: validation mse=6.18797\n",
      "Updated min validation loss!Saving model...\n",
      "Global Step 5500 and Step 5500: validation mse=6.20763\n",
      "Global Step 5550 and Step 5550: validation mse=6.20328\n",
      "Global Step 5600 and Step 5600: validation mse=6.21058\n",
      "Global Step 5650 and Step 5650: validation mse=6.22781\n",
      "Global Step 5700 and Step 5700: validation mse=6.23161\n",
      "Global Step 5750 and Step 5750: validation mse=6.26850\n",
      "Global Step 5800 and Step 5800: validation mse=6.30196\n",
      "Global Step 5850 and Step 5850: validation mse=6.33084\n",
      "Global Step 5900 and Step 5900: validation mse=6.36929\n",
      "Global Step 5950 and Step 5950: validation mse=6.37546\n",
      "Global Step 6000 and Step 6000: validation mse=6.42902\n",
      "Global Step 6050 and Step 6050: validation mse=6.44502\n",
      "Global Step 6100 and Step 6100: validation mse=6.49686\n",
      "Global Step 6150 and Step 6150: validation mse=6.54624\n",
      "Global Step 6200 and Step 6200: validation mse=6.62430\n",
      "Early Stopping!!!\n",
      "Restoring the best parameters...\n",
      "Global Step 6250 and Step 0050: validation mse=6.19709\n",
      "Global Step 6300 and Step 0100: validation mse=6.20334\n",
      "Global Step 6350 and Step 0150: validation mse=6.20344\n",
      "Global Step 6400 and Step 0200: validation mse=6.20744\n",
      "Global Step 6450 and Step 0250: validation mse=6.19725\n",
      "Global Step 6500 and Step 0300: validation mse=6.20674\n",
      "Global Step 6550 and Step 0350: validation mse=6.20621\n",
      "Global Step 6600 and Step 0400: validation mse=6.20303\n",
      "Global Step 6650 and Step 0450: validation mse=6.21710\n",
      "Global Step 6700 and Step 0500: validation mse=6.22418\n",
      "Global Step 6750 and Step 0550: validation mse=6.23018\n",
      "Global Step 6800 and Step 0600: validation mse=6.23698\n",
      "Global Step 6850 and Step 0650: validation mse=6.24548\n",
      "Global Step 6900 and Step 0700: validation mse=6.26745\n",
      "Global Step 6950 and Step 0750: validation mse=6.24478\n",
      "Early Stopping!!!\n",
      "Restoring the best parameters...\n",
      "Global Step 7000 and Step 0050: validation mse=6.19218\n",
      "Global Step 7050 and Step 0100: validation mse=6.19232\n",
      "Global Step 7100 and Step 0150: validation mse=6.19396\n",
      "Global Step 7150 and Step 0200: validation mse=6.20470\n",
      "Global Step 7200 and Step 0250: validation mse=6.20721\n",
      "Global Step 7250 and Step 0300: validation mse=6.20784\n",
      "Global Step 7300 and Step 0350: validation mse=6.21104\n",
      "Global Step 7350 and Step 0400: validation mse=6.21319\n",
      "Global Step 7400 and Step 0450: validation mse=6.21042\n",
      "Global Step 7450 and Step 0500: validation mse=6.20770\n",
      "Global Step 7500 and Step 0550: validation mse=6.21351\n",
      "Global Step 7550 and Step 0600: validation mse=6.21455\n",
      "Global Step 7600 and Step 0650: validation mse=6.21139\n",
      "Global Step 7650 and Step 0700: validation mse=6.21134\n",
      "Global Step 7700 and Step 0750: validation mse=6.20612\n",
      "Early Stopping!!!\n",
      "Restoring the best parameters...\n",
      "Global Step 7750 and Step 0050: validation mse=6.18952\n",
      "Global Step 7800 and Step 0100: validation mse=6.19160\n",
      "Global Step 7850 and Step 0150: validation mse=6.19412\n",
      "Global Step 7900 and Step 0200: validation mse=6.19142\n",
      "Global Step 7950 and Step 0250: validation mse=6.19387\n",
      "Global Step 8000 and Step 0300: validation mse=6.19601\n",
      "Global Step 8050 and Step 0350: validation mse=6.19496\n",
      "Global Step 8100 and Step 0400: validation mse=6.19979\n",
      "Global Step 8150 and Step 0450: validation mse=6.20057\n",
      "Global Step 8200 and Step 0500: validation mse=6.20141\n",
      "Global Step 8250 and Step 0550: validation mse=6.20167\n",
      "Global Step 8300 and Step 0600: validation mse=6.20121\n",
      "Global Step 8350 and Step 0650: validation mse=6.20227\n",
      "Global Step 8400 and Step 0700: validation mse=6.20112\n",
      "Global Step 8450 and Step 0750: validation mse=6.20244\n",
      "Early Stopping!!!\n",
      "Restoring the best parameters...\n",
      "Global Step 8500 and Step 0050: validation mse=6.18864\n",
      "Global Step 8550 and Step 0100: validation mse=6.18753\n",
      "Updated min validation loss!Saving model...\n",
      "Global Step 8600 and Step 0150: validation mse=6.18763\n",
      "Global Step 8650 and Step 0200: validation mse=6.18841\n",
      "Global Step 8700 and Step 0250: validation mse=6.18929\n",
      "Global Step 8750 and Step 0300: validation mse=6.19023\n",
      "Global Step 8800 and Step 0350: validation mse=6.18963\n",
      "Global Step 8850 and Step 0400: validation mse=6.19092\n",
      "Global Step 8900 and Step 0450: validation mse=6.19217\n",
      "Global Step 8950 and Step 0500: validation mse=6.19366\n",
      "Global Step 9000 and Step 0550: validation mse=6.19320\n",
      "Global Step 9050 and Step 0600: validation mse=6.19379\n",
      "Global Step 9100 and Step 0650: validation mse=6.19303\n",
      "Global Step 9150 and Step 0700: validation mse=6.19349\n",
      "Global Step 9200 and Step 0750: validation mse=6.19460\n",
      "Global Step 9250 and Step 0800: validation mse=6.19510\n",
      "Global Step 9300 and Step 0850: validation mse=6.19534\n",
      "Early Stopping!!!\n",
      "Restoring the best parameters...\n"
     ]
    }
   ],
   "source": [
    "# Learn the kernel from random initialization\n",
    "learning_rate = 0.001\n",
    "iterations = 5\n",
    "min_error = -1\n",
    "for i in range(iterations):\n",
    "    toy_net_trainer.train(train_data, vali_data, batch_size=128, min_error=min_error, feed_dict={toy_data_net.lr: learning_rate})\n",
    "    learning_rate = learning_rate/3"
   ]
  },
  {
   "cell_type": "code",
   "execution_count": 24,
   "metadata": {
    "collapsed": false,
    "deletable": true,
    "editable": true
   },
   "outputs": [
    {
     "name": "stdout",
     "output_type": "stream",
     "text": [
      "[array([-0.70675153, -0.5094142 ,  4.07493925], dtype=float32), array([[ 2.18614244],\n",
      "       [ 0.5055418 ],\n",
      "       [-2.88940597],\n",
      "       [ 0.73443347]], dtype=float32), array([[ 2.75991917],\n",
      "       [ 1.65216351],\n",
      "       [ 0.88192993],\n",
      "       [ 1.91468751]], dtype=float32)]\n"
     ]
    },
    {
     "data": {
      "image/png": "[encoded data removed]",
      "text/plain": [
       "<matplotlib.figure.Figure at 0x7f71b0645550>"
      ]
     },
     "metadata": {},
     "output_type": "display_data"
    }
   ],
   "source": [
    "toy_net_trainer.restore_best()\n",
    "w_pre = toy_net_trainer.evaluate(ops=toy_data_net.kernel_pre)\n",
    "w_post = toy_net_trainer.evaluate(ops=toy_data_net.kernel_post)\n",
    "w_post_post = toy_net_trainer.evaluate(ops=toy_data_net.kernel_post_post)\n",
    "fc_w = toy_net_trainer.evaluate(ops=toy_data_net.fc_w)\n",
    "bias = toy_net_trainer.evaluate(ops=toy_data_net.bias)\n",
    "scaler = toy_net_trainer.evaluate(ops=toy_data_net.scaler)\n",
    "\n",
    "plt.plot(-1*w_pre, label='ker_pre_trained')\n",
    "\n",
    "plt.plot(-1*w_post, label='ker_post_trained')\n",
    "plt.plot(-1*w_post_post, label='ker_post_post_trained')\n",
    "plt.legend()\n",
    "print([fc_w, bias, scaler])"
   ]
  },
  {
   "cell_type": "code",
   "execution_count": 25,
   "metadata": {
    "collapsed": false,
    "deletable": true,
    "editable": true
   },
   "outputs": [
    {
     "data": {
      "image/png": "[encoded data removed]",
      "text/plain": [
       "<matplotlib.figure.Figure at 0x7f71b36a6be0>"
      ]
     },
     "metadata": {},
     "output_type": "display_data"
    }
   ],
   "source": [
    "# Test effect of smoothed kernel\n",
    "w_pre_sm = w_pre\n",
    "w_post_sm = w_post \n",
    "w_post_post_sm = w_post_post\n",
    "w_pre_sm[:51] = data_aug_gp.smooth(w_pre[:51], width=10)\n",
    "w_post_sm[:49] = data_aug_gp.smooth(w_post[:49], width=10)\n",
    "w_post_post_sm[:100] = data_aug_gp.smooth(w_post_post[:100], width=5)\n",
    "\n",
    "plt.plot(-1 * w_pre_sm)\n",
    "plt.plot(-1 * w_post_sm)\n",
    "plt.plot(-1*w_post_post_sm)\n",
    "\n",
    "ker_test.kernel_pre = w_pre_sm\n",
    "ker_test.kernel_post = w_post_sm\n",
    "ker_test.kernel_post_post= w_post_post_sm\n",
    "ker_test.kernel_scale = fc_w\n",
    "ker_test.bias = bias\n",
    "ker_test.scale = scaler"
   ]
  },
  {
   "cell_type": "markdown",
   "metadata": {
    "collapsed": true,
    "deletable": true,
    "editable": true
   },
   "source": [
    "Compare the target and prediction"
   ]
  },
  {
   "cell_type": "code",
   "execution_count": 26,
   "metadata": {
    "collapsed": false,
    "deletable": true,
    "editable": true
   },
   "outputs": [],
   "source": [
    "# Updated the kernel as trained kernel\n",
    "ker_test.kernel_pre = w_pre\n",
    "ker_test.kernel_post = w_post\n",
    "ker_test.kernel_post_post= w_post_post\n",
    "ker_test.kernel_scale = fc_w\n",
    "ker_test.bias = bias\n",
    "ker_test.scale = scaler"
   ]
  },
  {
   "cell_type": "code",
   "execution_count": 27,
   "metadata": {
    "collapsed": false,
    "deletable": true,
    "editable": true
   },
   "outputs": [
    {
     "data": {
      "text/plain": [
       "<matplotlib.legend.Legend at 0x7f718c34eb00>"
      ]
     },
     "execution_count": 27,
     "metadata": {},
     "output_type": "execute_result"
    },
    {
     "data": {
      "image/png": "[encoded data removed]",
      "text/plain": [
       "<matplotlib.figure.Figure at 0x7f71b36c08d0>"
      ]
     },
     "metadata": {},
     "output_type": "display_data"
    }
   ],
   "source": [
    "# Generate training predictions\n",
    "spk_len = int(data['train_len'].max() * 1000 / ker_test.reso_kernel)\n",
    "_, predictions_train = arb_w_gen(spk_pairs=spk_pairs_train, spk_len=spk_len, kernel=ker_test, net_type='triplet')\n",
    "\n",
    "ptl_len = np.array([160,3,160,3])\n",
    "rep_time = np.array([1,1,1,1])\n",
    "ptl_len, targets_out, predictions_out = data_aug_knn.target_pred_gen(targets_train, predictions_train, ptl_len, rep_time)\n",
    "\n",
    "# Calculate the total sum of squares\n",
    "R2 = 1 - np.sum(np.square(predictions_train-targets_train))/(np.square(np.std(targets_train))*(len(targets_train)-1))\n",
    "\n",
    "plt.plot(np.linspace(-30,50,80), np.linspace(-30,50,80),'k--')\n",
    "ptl_type = ['stdp', 'trip1', 'quad','trip2']\n",
    "for i in range(len(ptl_len)):\n",
    "    plt.plot(targets_out[i], predictions_out[i],'o', label=ptl_type[i])\n",
    "\n",
    "plt.title('Training data (R2=%0.2f)'%(R2))\n",
    "plt.legend()"
   ]
  },
  {
   "cell_type": "code",
   "execution_count": 28,
   "metadata": {
    "collapsed": false,
    "deletable": true,
    "editable": true
   },
   "outputs": [
    {
     "data": {
      "text/plain": [
       "<matplotlib.legend.Legend at 0x7f71700b7f98>"
      ]
     },
     "execution_count": 28,
     "metadata": {},
     "output_type": "execute_result"
    },
    {
     "data": {
      "image/png": "[encoded data removed]",
      "text/plain": [
       "<matplotlib.figure.Figure at 0x7f718c1c5518>"
      ]
     },
     "metadata": {},
     "output_type": "display_data"
    }
   ],
   "source": [
    "# Generate validation predictions\n",
    "spk_len = int(data['train_len'].max() * 1000 / ker_test.reso_kernel)\n",
    "_, predictions_vali = arb_w_gen(spk_pairs=spk_pairs_vali, spk_len=spk_len, kernel=ker_test, net_type='triplet')\n",
    "\n",
    "ptl_len = np.array([40,1,40,1])\n",
    "rep_time = np.array([1,1,1,1])\n",
    "ptl_len, targets_out, predictions_out = data_aug_knn.target_pred_gen(targets_vali, predictions_vali, ptl_len, rep_time)\n",
    "\n",
    "# Calculate the total sum of squares\n",
    "R2 = 1 - np.sum(np.square(predictions_vali-targets_vali))/(np.square(np.std(targets_vali))*(len(targets_vali)-1))\n",
    "corr = np.sqrt(R2)\n",
    "\n",
    "plt.plot(np.linspace(-30,50,80), np.linspace(-30,50,80),'k--')\n",
    "ptl_type = ['stdp', 'trip1', 'quad','trip2']\n",
    "for i in range(len(ptl_len)):\n",
    "    plt.plot(targets_out[i], predictions_out[i],'o', label=ptl_type[i])\n",
    "\n",
    "plt.title('Validation data (R2=%0.2f)'%(R2))\n",
    "plt.legend()"
   ]
  },
  {
   "cell_type": "code",
   "execution_count": 29,
   "metadata": {
    "collapsed": false,
    "deletable": true,
    "editable": true
   },
   "outputs": [],
   "source": [
    "# Generat the spike trains and targets for STDP\n",
    "data3 = data[data['ptl_idx']==3]\n",
    "ptl_list = [1,2,3,4]\n",
    "spk_len = int(data3['train_len'].max() * 1000 / ker_test.reso_kernel)\n",
    "if_noise = 0\n",
    "aug_times = [1,1,1,1]\n",
    "spk_pairs_test, targets_test = arb_w_gen(df=data_gen_test, ptl_list=ptl_list, targets=y_test, if_noise=if_noise, spk_len=spk_len, kernel=ker_test, net_type='triplet', aug_times=aug_times)"
   ]
  },
  {
   "cell_type": "code",
   "execution_count": 30,
   "metadata": {
    "collapsed": false,
    "deletable": true,
    "editable": true
   },
   "outputs": [
    {
     "data": {
      "text/plain": [
       "<matplotlib.legend.Legend at 0x7f717011fda0>"
      ]
     },
     "execution_count": 30,
     "metadata": {},
     "output_type": "execute_result"
    },
    {
     "data": {
      "image/png": "[encoded data removed]",
      "text/plain": [
       "<matplotlib.figure.Figure at 0x7f71c3c3bac8>"
      ]
     },
     "metadata": {},
     "output_type": "display_data"
    }
   ],
   "source": [
    "# Generate test predictions\n",
    "spk_len = int(data['train_len'].max() * 1000 / ker_test.reso_kernel)\n",
    "_, predictions_test = arb_w_gen(spk_pairs=spk_pairs_test, spk_len=spk_len, kernel=ker_test, net_type='triplet')\n",
    "\n",
    "ptl_len = np.array([12,7,12,4])\n",
    "rep_time = np.array([1,1,1,1])\n",
    "ptl_len, targets_out, predictions_out = data_aug_knn.target_pred_gen(targets_test, predictions_test, ptl_len, rep_time)\n",
    "\n",
    "# Calculate the total sum of squares\n",
    "R2 = 1 - np.sum(np.square(predictions_test-targets_test))/(np.square(np.std(targets_test))*(len(targets_test)-1))\n",
    "corr = np.sqrt(R2)\n",
    "\n",
    "plt.plot(np.linspace(-30,50,80), np.linspace(-30,50,80),'k--')\n",
    "ptl_type = ['stdp', 'trip1', 'quad','trip2']\n",
    "for i in range(len(ptl_len)):\n",
    "    plt.plot(targets_out[i], predictions_out[i],'o', label=ptl_type[i])\n",
    "\n",
    "plt.title('Testing data (R2=%0.2f)'%(R2))\n",
    "plt.legend()"
   ]
  },
  {
   "cell_type": "code",
   "execution_count": null,
   "metadata": {
    "collapsed": true,
    "deletable": true,
    "editable": true
   },
   "outputs": [],
   "source": []
  }
 ],
 "metadata": {
  "kernelspec": {
   "display_name": "Python 3",
   "language": "python",
   "name": "python3"
  },
  "language_info": {
   "codemirror_mode": {
    "name": "ipython",
    "version": 3
   },
   "file_extension": ".py",
   "mimetype": "text/x-python",
   "name": "python",
   "nbconvert_exporter": "python",
   "pygments_lexer": "ipython3",
   "version": "3.5.2"
  }
 },
 "nbformat": 4,
 "nbformat_minor": 2
}

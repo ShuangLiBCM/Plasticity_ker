{
 "cells": [
  {
   "cell_type": "markdown",
   "metadata": {
    "deletable": true,
    "editable": true
   },
   "source": [
    "Augment the literature data"
   ]
  },
  {
   "cell_type": "code",
   "execution_count": 1,
   "metadata": {
    "collapsed": false,
    "deletable": true,
    "editable": true
   },
   "outputs": [],
   "source": [
    "# Load libraries and modules\n",
    "import numpy as np\n",
    "import pandas as pd\n",
    "import matplotlib.pyplot as plt\n",
    "import seaborn as sns\n",
    "import tensorflow as tf\n",
    "from modelval import pairptl, network, trainer, dataset, dw_gen, perform_eval\n",
    "from modelval.ArbDataGen import arb_w_gen\n",
    "\n",
    "import warnings\n",
    "warnings.filterwarnings('ignore')\n",
    "\n",
    "% matplotlib inline\n",
    "% load_ext autoreload\n",
    "% autoreload 2"
   ]
  },
  {
   "cell_type": "code",
   "execution_count": 2,
   "metadata": {
    "collapsed": false,
    "deletable": true,
    "editable": true
   },
   "outputs": [
    {
     "data": {
      "text/html": [
       "<div>\n",
       "<table border=\"1\" class=\"dataframe\">\n",
       "  <thead>\n",
       "    <tr style=\"text-align: right;\">\n",
       "      <th></th>\n",
       "      <th>ptl_idx</th>\n",
       "      <th>pre_spk_num</th>\n",
       "      <th>pre_spk_freq</th>\n",
       "      <th>post_spk_num</th>\n",
       "      <th>post_spk_freq</th>\n",
       "      <th>ptl_occ</th>\n",
       "      <th>ptl_freq</th>\n",
       "      <th>dt1</th>\n",
       "      <th>dt2</th>\n",
       "      <th>dt3</th>\n",
       "      <th>dw_mean</th>\n",
       "      <th>dw_ste</th>\n",
       "      <th>train_len</th>\n",
       "    </tr>\n",
       "  </thead>\n",
       "  <tbody>\n",
       "    <tr>\n",
       "      <th>0</th>\n",
       "      <td>1</td>\n",
       "      <td>1</td>\n",
       "      <td>0</td>\n",
       "      <td>1</td>\n",
       "      <td>0</td>\n",
       "      <td>60</td>\n",
       "      <td>1.0</td>\n",
       "      <td>-102.898046</td>\n",
       "      <td>0.0</td>\n",
       "      <td>0</td>\n",
       "      <td>-1.322590</td>\n",
       "      <td>0.0</td>\n",
       "      <td>60.0</td>\n",
       "    </tr>\n",
       "    <tr>\n",
       "      <th>1</th>\n",
       "      <td>1</td>\n",
       "      <td>1</td>\n",
       "      <td>0</td>\n",
       "      <td>1</td>\n",
       "      <td>0</td>\n",
       "      <td>60</td>\n",
       "      <td>1.0</td>\n",
       "      <td>-75.579896</td>\n",
       "      <td>0.0</td>\n",
       "      <td>0</td>\n",
       "      <td>2.674768</td>\n",
       "      <td>0.0</td>\n",
       "      <td>60.0</td>\n",
       "    </tr>\n",
       "    <tr>\n",
       "      <th>2</th>\n",
       "      <td>1</td>\n",
       "      <td>1</td>\n",
       "      <td>0</td>\n",
       "      <td>1</td>\n",
       "      <td>0</td>\n",
       "      <td>60</td>\n",
       "      <td>1.0</td>\n",
       "      <td>-80.871473</td>\n",
       "      <td>0.0</td>\n",
       "      <td>0</td>\n",
       "      <td>-12.696449</td>\n",
       "      <td>0.0</td>\n",
       "      <td>60.0</td>\n",
       "    </tr>\n",
       "    <tr>\n",
       "      <th>3</th>\n",
       "      <td>1</td>\n",
       "      <td>1</td>\n",
       "      <td>0</td>\n",
       "      <td>1</td>\n",
       "      <td>0</td>\n",
       "      <td>60</td>\n",
       "      <td>1.0</td>\n",
       "      <td>-67.562239</td>\n",
       "      <td>0.0</td>\n",
       "      <td>0</td>\n",
       "      <td>0.231446</td>\n",
       "      <td>0.0</td>\n",
       "      <td>60.0</td>\n",
       "    </tr>\n",
       "    <tr>\n",
       "      <th>4</th>\n",
       "      <td>1</td>\n",
       "      <td>1</td>\n",
       "      <td>0</td>\n",
       "      <td>1</td>\n",
       "      <td>0</td>\n",
       "      <td>60</td>\n",
       "      <td>1.0</td>\n",
       "      <td>-63.553410</td>\n",
       "      <td>0.0</td>\n",
       "      <td>0</td>\n",
       "      <td>-0.990216</td>\n",
       "      <td>0.0</td>\n",
       "      <td>60.0</td>\n",
       "    </tr>\n",
       "  </tbody>\n",
       "</table>\n",
       "</div>"
      ],
      "text/plain": [
       "   ptl_idx  pre_spk_num  pre_spk_freq  post_spk_num  post_spk_freq  ptl_occ  \\\n",
       "0        1            1             0             1              0       60   \n",
       "1        1            1             0             1              0       60   \n",
       "2        1            1             0             1              0       60   \n",
       "3        1            1             0             1              0       60   \n",
       "4        1            1             0             1              0       60   \n",
       "\n",
       "   ptl_freq         dt1  dt2  dt3    dw_mean  dw_ste  train_len  \n",
       "0       1.0 -102.898046  0.0    0  -1.322590     0.0       60.0  \n",
       "1       1.0  -75.579896  0.0    0   2.674768     0.0       60.0  \n",
       "2       1.0  -80.871473  0.0    0 -12.696449     0.0       60.0  \n",
       "3       1.0  -67.562239  0.0    0   0.231446     0.0       60.0  \n",
       "4       1.0  -63.553410  0.0    0  -0.990216     0.0       60.0  "
      ]
     },
     "execution_count": 2,
     "metadata": {},
     "output_type": "execute_result"
    }
   ],
   "source": [
    "# Load data frame\n",
    "data = pd.read_csv('/src/Plasticity_Ker/data/kernel_training_data_auto.csv')\n",
    "data.head()"
   ]
  },
  {
   "cell_type": "code",
   "execution_count": 3,
   "metadata": {
    "collapsed": false,
    "deletable": true,
    "editable": true
   },
   "outputs": [],
   "source": [
    "# Generate data for STDP\n",
    "data1 = data[data['ptl_idx']==1]\n",
    "data1_gen, targets1 = dw_gen.STDP_dw_gen(n_neighbors=3)"
   ]
  },
  {
   "cell_type": "code",
   "execution_count": 4,
   "metadata": {
    "collapsed": false,
    "deletable": true,
    "editable": true
   },
   "outputs": [
    {
     "data": {
      "text/plain": [
       "<matplotlib.legend.Legend at 0x7f3b01612208>"
      ]
     },
     "execution_count": 4,
     "metadata": {},
     "output_type": "execute_result"
    },
    {
     "data": {
      "image/png": "[encoded data removed]",
      "text/plain": [
       "<matplotlib.figure.Figure at 0x7f3b016120b8>"
      ]
     },
     "metadata": {},
     "output_type": "display_data"
    }
   ],
   "source": [
    "plt.plot(data1['dt1'], data1['dw_mean'],'o', label='Raw data')\n",
    "width_list = np.concatenate([np.linspace(10,3,50), np.linspace(3,10,50)])\n",
    "plt.plot(data1_gen['dt1'], targets1,'o', label='KNN')\n",
    "targets1_sm = dw_gen.smooth(targets1,width_list = width_list)\n",
    "plt.plot(data1_gen['dt1'],targets1_sm,'o', label='Smoothness filter')\n",
    "plt.xlabel('dt(ms)')\n",
    "plt.ylabel('$\\Delta w$')\n",
    "plt.legend(loc='upper left')"
   ]
  },
  {
   "cell_type": "code",
   "execution_count": 5,
   "metadata": {
    "collapsed": false,
    "deletable": true,
    "editable": true
   },
   "outputs": [],
   "source": [
    "# Generate data for Triplet\n",
    "dt = np.array([-10, -5, 0, 5, 10]).reshape(-1,1)\n",
    "data2_gen, targets2 = dw_gen.triplet_dw_gen(dt)"
   ]
  },
  {
   "cell_type": "code",
   "execution_count": 6,
   "metadata": {
    "collapsed": false,
    "deletable": true,
    "editable": true
   },
   "outputs": [
    {
     "data": {
      "text/plain": [
       "[-110, 100, -30, 60]"
      ]
     },
     "execution_count": 6,
     "metadata": {},
     "output_type": "execute_result"
    },
    {
     "data": {
      "image/png": "[encoded data removed]",
      "text/plain": [
       "<matplotlib.figure.Figure at 0x7f3aff2f9c18>"
      ]
     },
     "metadata": {},
     "output_type": "display_data"
    }
   ],
   "source": [
    "data3 = data[data['ptl_idx']==3]\n",
    "X = np.array(data3['dt2']).reshape(-1,1)\n",
    "y = np.array(data3['dw_mean']).reshape(-1,1)\n",
    "plt.plot(data3['dt2'], data3['dw_mean'], 'o')\n",
    "plt.axis([-110, 100, -30, 60])"
   ]
  },
  {
   "cell_type": "code",
   "execution_count": 7,
   "metadata": {
    "collapsed": false,
    "deletable": true,
    "editable": true
   },
   "outputs": [],
   "source": [
    "# Generate dt1\n",
    "# Insert values for Quadruplet\n",
    "dt = np.concatenate([np.arange(-100,-10,2).reshape(-1,1), np.arange(10,100,2).reshape(-1,1)])\n",
    "data3_gen = pd.DataFrame(data=None, columns=list(data.columns))\n",
    "for i in range(len(dt)):\n",
    "    new_try3 = data3.iloc[0]\n",
    "    new_try3['dt2'] = dt[i]\n",
    "    data3_gen = data3_gen.append(new_try3, ignore_index=True)"
   ]
  },
  {
   "cell_type": "code",
   "execution_count": 8,
   "metadata": {
    "collapsed": false,
    "deletable": true,
    "editable": true
   },
   "outputs": [
    {
     "data": {
      "image/png": "[encoded data removed]",
      "text/plain": [
       "<matplotlib.figure.Figure at 0x7f3aff20e828>"
      ]
     },
     "metadata": {},
     "output_type": "display_data"
    }
   ],
   "source": [
    "# Use K nearest neigbors to estimate the mean value of a given dt1\n",
    "from sklearn.neighbors import KNeighborsRegressor\n",
    "\n",
    "# Search through the parameter for the one gives the minimum reconstruction error\n",
    "n_neighbors = [3,5,7,10]\n",
    "weights = ['uniform', 'distance']\n",
    "\n",
    "figure, ax = plt.subplots(2,4)\n",
    "figure.set_figheight(6)\n",
    "figure.set_figwidth(12)\n",
    "\n",
    "for j in range(len(weights)):\n",
    "    for i in range(len(n_neighbors)):\n",
    "        \n",
    "        Kn_reg = KNeighborsRegressor(n_neighbors=n_neighbors[i], weights=weights[j])\n",
    "        Kn_reg.fit(X,y)\n",
    "        y_pred = Kn_reg.predict(np.array(data3_gen['dt2']).reshape(-1,1))\n",
    "        \n",
    "        # Calculate mean squared error\n",
    "        \n",
    "        ax[j,i].plot(data3['dt2'], data3['dw_mean'], 'o')\n",
    "        ax[j,i].plot(data3_gen['dt2'], y_pred, 'ro')\n",
    "        ax[j,i].set_xlim([-110,100])\n",
    "        ax[j,i].set_title(['n=%d'%(n_neighbors[i]), ' w=%s'%(weights[j])])\n",
    "plt.tight_layout()"
   ]
  },
  {
   "cell_type": "code",
   "execution_count": 9,
   "metadata": {
    "collapsed": false,
    "deletable": true,
    "editable": true
   },
   "outputs": [
    {
     "data": {
      "text/plain": [
       "<matplotlib.text.Text at 0x7f3afeed9748>"
      ]
     },
     "execution_count": 9,
     "metadata": {},
     "output_type": "execute_result"
    },
    {
     "data": {
      "image/png": "[encoded data removed]",
      "text/plain": [
       "<matplotlib.figure.Figure at 0x7f3aff236d68>"
      ]
     },
     "metadata": {},
     "output_type": "display_data"
    }
   ],
   "source": [
    "# Choose one parameter and generate the prediction\n",
    "n_neighbors = 7\n",
    "weights = 'uniform'\n",
    "\n",
    "Kn_reg = KNeighborsRegressor(n_neighbors=n_neighbors, weights=weights)\n",
    "Kn_reg.fit(X,y)\n",
    "y_pred = Kn_reg.predict(np.array(data3_gen['dt2']).reshape(-1,1))\n",
    "targets3=y_pred\n",
    "plt.plot(data3['dt2'], data3['dw_mean'], 'o')\n",
    "plt.plot(data3_gen['dt2'], y_pred, 'ro')\n",
    "plt.axis([-110,100,-30,60])\n",
    "plt.title('.'.join(('n=%d'%(n_neighbors), ', w=%s'%(weights))))"
   ]
  },
  {
   "cell_type": "code",
   "execution_count": 10,
   "metadata": {
    "collapsed": false,
    "deletable": true,
    "editable": true
   },
   "outputs": [
    {
     "data": {
      "text/plain": [
       "(90, 1)"
      ]
     },
     "execution_count": 10,
     "metadata": {},
     "output_type": "execute_result"
    }
   ],
   "source": [
    "targets3.shape"
   ]
  },
  {
   "cell_type": "code",
   "execution_count": 18,
   "metadata": {
    "collapsed": false,
    "deletable": true,
    "editable": true
   },
   "outputs": [
    {
     "data": {
      "text/plain": [
       "<matplotlib.legend.Legend at 0x7f3afecd4cf8>"
      ]
     },
     "execution_count": 18,
     "metadata": {},
     "output_type": "execute_result"
    },
    {
     "data": {
      "image/png": "[encoded data removed]",
      "text/plain": [
       "<matplotlib.figure.Figure at 0x7f3afee914a8>"
      ]
     },
     "metadata": {},
     "output_type": "display_data"
    }
   ],
   "source": [
    "width_list = np.concatenate([np.linspace(10,3,45), np.linspace(3,10,45)])\n",
    "targets3_sm = np.concatenate([dw_gen.smooth(targets3[:45],width_list = width_list), dw_gen.smooth(targets3[45:],width_list = width_list)])\n",
    "plt.plot(data3['dt2'], data3['dw_mean'], 'o', label='Raw data')\n",
    "plt.plot(data3_gen['dt2'], targets3,'o', label='KNN')\n",
    "plt.plot(data3_gen['dt2'], targets3_sm,'o', label='Smoothness filter')\n",
    "plt.xlabel('dt(ms)')\n",
    "plt.ylabel('$\\Delta w$')\n",
    "plt.legend()"
   ]
  },
  {
   "cell_type": "code",
   "execution_count": 19,
   "metadata": {
    "collapsed": false,
    "deletable": true,
    "editable": true
   },
   "outputs": [
    {
     "data": {
      "text/html": [
       "<div>\n",
       "<table border=\"1\" class=\"dataframe\">\n",
       "  <thead>\n",
       "    <tr style=\"text-align: right;\">\n",
       "      <th></th>\n",
       "      <th></th>\n",
       "      <th>A2_+</th>\n",
       "      <th>A3_-</th>\n",
       "      <th>A2_-</th>\n",
       "      <th>A3_+</th>\n",
       "      <th>Tau_+</th>\n",
       "      <th>Tau_x</th>\n",
       "      <th>Tau_-</th>\n",
       "      <th>Tau_y</th>\n",
       "    </tr>\n",
       "  </thead>\n",
       "  <tbody>\n",
       "    <tr>\n",
       "      <th rowspan=\"2\" valign=\"top\">Visu_AlltoAll</th>\n",
       "      <th>Full</th>\n",
       "      <td>5e-10</td>\n",
       "      <td>0.00023</td>\n",
       "      <td>0.007</td>\n",
       "      <td>0.0062</td>\n",
       "      <td>16.8</td>\n",
       "      <td>101</td>\n",
       "      <td>33.7</td>\n",
       "      <td>125</td>\n",
       "    </tr>\n",
       "    <tr>\n",
       "      <th>Min</th>\n",
       "      <td>0</td>\n",
       "      <td>0</td>\n",
       "      <td>0.0071</td>\n",
       "      <td>0.0065</td>\n",
       "      <td>16.8</td>\n",
       "      <td>1</td>\n",
       "      <td>33.7</td>\n",
       "      <td>114</td>\n",
       "    </tr>\n",
       "    <tr>\n",
       "      <th rowspan=\"2\" valign=\"top\">Visu_NearestSpk</th>\n",
       "      <th>Full</th>\n",
       "      <td>8.8e-11</td>\n",
       "      <td>0.0031</td>\n",
       "      <td>0.0066</td>\n",
       "      <td>0.053</td>\n",
       "      <td>16.8</td>\n",
       "      <td>714</td>\n",
       "      <td>33.7</td>\n",
       "      <td>40</td>\n",
       "    </tr>\n",
       "    <tr>\n",
       "      <th>Min</th>\n",
       "      <td>0</td>\n",
       "      <td>0</td>\n",
       "      <td>0.008</td>\n",
       "      <td>0.05</td>\n",
       "      <td>16.8</td>\n",
       "      <td>1</td>\n",
       "      <td>33.7</td>\n",
       "      <td>40</td>\n",
       "    </tr>\n",
       "    <tr>\n",
       "      <th rowspan=\"2\" valign=\"top\">Hippo_AlltoAll</th>\n",
       "      <th>Full</th>\n",
       "      <td>0.0061</td>\n",
       "      <td>0.0014</td>\n",
       "      <td>0.0016</td>\n",
       "      <td>0.0067</td>\n",
       "      <td>16.8</td>\n",
       "      <td>946</td>\n",
       "      <td>33.7</td>\n",
       "      <td>27</td>\n",
       "    </tr>\n",
       "    <tr>\n",
       "      <th>Min</th>\n",
       "      <td>0.0053</td>\n",
       "      <td>0</td>\n",
       "      <td>0.0035</td>\n",
       "      <td>0.008</td>\n",
       "      <td>16.8</td>\n",
       "      <td>1</td>\n",
       "      <td>33.7</td>\n",
       "      <td>40</td>\n",
       "    </tr>\n",
       "    <tr>\n",
       "      <th rowspan=\"2\" valign=\"top\">Hippo_NearestSpk</th>\n",
       "      <th>Full</th>\n",
       "      <td>0.0046</td>\n",
       "      <td>7.5e-09</td>\n",
       "      <td>0.003</td>\n",
       "      <td>0.0091</td>\n",
       "      <td>16.8</td>\n",
       "      <td>575</td>\n",
       "      <td>33.7</td>\n",
       "      <td>47</td>\n",
       "    </tr>\n",
       "    <tr>\n",
       "      <th>Min</th>\n",
       "      <td>0.0046</td>\n",
       "      <td>0</td>\n",
       "      <td>0.003</td>\n",
       "      <td>0.0091</td>\n",
       "      <td>16.8</td>\n",
       "      <td>1</td>\n",
       "      <td>33.7</td>\n",
       "      <td>48</td>\n",
       "    </tr>\n",
       "  </tbody>\n",
       "</table>\n",
       "</div>"
      ],
      "text/plain": [
       "                          A2_+     A3_-    A2_-    A3_+ Tau_+ Tau_x Tau_-  \\\n",
       "Visu_AlltoAll    Full    5e-10  0.00023   0.007  0.0062  16.8   101  33.7   \n",
       "                 Min         0        0  0.0071  0.0065  16.8     1  33.7   \n",
       "Visu_NearestSpk  Full  8.8e-11   0.0031  0.0066   0.053  16.8   714  33.7   \n",
       "                 Min         0        0   0.008    0.05  16.8     1  33.7   \n",
       "Hippo_AlltoAll   Full   0.0061   0.0014  0.0016  0.0067  16.8   946  33.7   \n",
       "                 Min    0.0053        0  0.0035   0.008  16.8     1  33.7   \n",
       "Hippo_NearestSpk Full   0.0046  7.5e-09   0.003  0.0091  16.8   575  33.7   \n",
       "                 Min    0.0046        0   0.003  0.0091  16.8     1  33.7   \n",
       "\n",
       "                      Tau_y  \n",
       "Visu_AlltoAll    Full   125  \n",
       "                 Min    114  \n",
       "Visu_NearestSpk  Full    40  \n",
       "                 Min     40  \n",
       "Hippo_AlltoAll   Full    27  \n",
       "                 Min     40  \n",
       "Hippo_NearestSpk Full    47  \n",
       "                 Min     48  "
      ]
     },
     "execution_count": 19,
     "metadata": {},
     "output_type": "execute_result"
    }
   ],
   "source": [
    "trip_para = pd.read_pickle('/src/Plasticity_Ker/data/Gerstner_trip_para_df')\n",
    "trip_para\n",
    "# Reorder columns to match parameter of the model\n",
    "trip_para = trip_para[['A2_+', 'A3_-', 'A2_-', 'A3_+', 'Tau_+', 'Tau_x', 'Tau_-', 'Tau_y']]\n",
    "trip_para"
   ]
  },
  {
   "cell_type": "code",
   "execution_count": 20,
   "metadata": {
    "collapsed": false,
    "deletable": true,
    "editable": true
   },
   "outputs": [
    {
     "name": "stdout",
     "output_type": "stream",
     "text": [
      "1.0 1.0\n"
     ]
    },
    {
     "data": {
      "image/png": "[encoded data removed]",
      "text/plain": [
       "<matplotlib.figure.Figure at 0x7f3afec85cf8>"
      ]
     },
     "metadata": {},
     "output_type": "display_data"
    }
   ],
   "source": [
    "# Visualize kernel\n",
    "from modelval.kernel import KernelGen\n",
    "plt.figure(figsize=(5,3))\n",
    "ker_test = KernelGen()\n",
    "\n",
    "para = trip_para.loc[('Hippo_AlltoAll', 'Full'), :]\n",
    "a = para[:4].values\n",
    "tau = para[4:].values\n",
    "reso_set = 2\n",
    "tau_pre_post = tau[0]/reso_set  # ms\n",
    "tau_post_pre = tau[2]/reso_set # ms\n",
    "\n",
    "ker_test = KernelGen(len_kernel=101)\n",
    "ker_test.trip_model_ker(para, data_name='Hippocampus')\n",
    "plt.plot(ker_test.kernel_pre, label='ker_pre')\n",
    "plt.plot(ker_test.kernel_post, label='ker_post')\n",
    "plt.legend()\n",
    "print(np.linalg.norm(ker_test.kernel_pre, ord=2), np.linalg.norm(ker_test.kernel_post, ord=2))"
   ]
  },
  {
   "cell_type": "code",
   "execution_count": 21,
   "metadata": {
    "collapsed": false,
    "deletable": true,
    "editable": true
   },
   "outputs": [],
   "source": [
    "data_gen = pd.concat([data1_gen, data3_gen])\n",
    "targets = np.concatenate([targets1_sm, targets3_sm])"
   ]
  },
  {
   "cell_type": "code",
   "execution_count": 22,
   "metadata": {
    "collapsed": false,
    "deletable": true,
    "editable": true
   },
   "outputs": [
    {
     "data": {
      "text/plain": [
       "1.0    100\n",
       "3.0     90\n",
       "Name: ptl_idx, dtype: int64"
      ]
     },
     "execution_count": 22,
     "metadata": {},
     "output_type": "execute_result"
    }
   ],
   "source": [
    "data_gen['ptl_idx'].value_counts()"
   ]
  },
  {
   "cell_type": "code",
   "execution_count": 23,
   "metadata": {
    "collapsed": false,
    "deletable": true,
    "editable": true
   },
   "outputs": [
    {
     "data": {
      "text/plain": [
       "([<matplotlib.lines.Line2D at 0x7f3afebd87b8>],)"
      ]
     },
     "execution_count": 23,
     "metadata": {},
     "output_type": "execute_result"
    },
    {
     "data": {
      "image/png": "[encoded data removed]",
      "text/plain": [
       "<matplotlib.figure.Figure at 0x7f3afee2d710>"
      ]
     },
     "metadata": {},
     "output_type": "display_data"
    }
   ],
   "source": [
    "plt.plot(data_gen.iloc[:len(data1_gen)]['dt1'],targets[:targets1.shape[0]],'o'), "
   ]
  },
  {
   "cell_type": "code",
   "execution_count": 24,
   "metadata": {
    "collapsed": false,
    "deletable": true,
    "editable": true
   },
   "outputs": [
    {
     "data": {
      "text/plain": [
       "([<matplotlib.lines.Line2D at 0x7f3afeb4c908>],)"
      ]
     },
     "execution_count": 24,
     "metadata": {},
     "output_type": "execute_result"
    },
    {
     "data": {
      "image/png": "[encoded data removed]",
      "text/plain": [
       "<matplotlib.figure.Figure at 0x7f3afeb87f98>"
      ]
     },
     "metadata": {},
     "output_type": "display_data"
    }
   ],
   "source": [
    "plt.plot(data_gen.iloc[len(data1_gen):]['dt2'],targets[targets1.shape[0]:],'o'), "
   ]
  },
  {
   "cell_type": "code",
   "execution_count": 25,
   "metadata": {
    "collapsed": false,
    "deletable": true,
    "editable": true
   },
   "outputs": [],
   "source": [
    "ptl_list = [1,3]\n",
    "spk_len = int(data3_gen['train_len'].max() * 1000 / ker_test.reso_kernel)\n",
    "spk_pairs, targets = arb_w_gen(df=data_gen, ptl_list=ptl_list, targets=targets, spk_len=spk_len, kernel=ker_test, net_type='triplet', aug_times=[20,20])"
   ]
  },
  {
   "cell_type": "code",
   "execution_count": 26,
   "metadata": {
    "collapsed": true,
    "deletable": true,
    "editable": true
   },
   "outputs": [],
   "source": [
    "# # np.save('/src/Plasticity_Ker/data/spk_pairs.npy', spk_pairs)\n",
    "# # np.save('/src/Plasticity_Ker/data/targets.npy', targets)\n",
    "# spk_pairs = np.load('/src/Plasticity_Ker/data/spk_pairs.npy')\n",
    "# targets = np.load('/src/Plasticity_Ker/data/targets.npy')"
   ]
  },
  {
   "cell_type": "code",
   "execution_count": 27,
   "metadata": {
    "collapsed": false,
    "deletable": true,
    "editable": true
   },
   "outputs": [
    {
     "data": {
      "text/plain": [
       "(3800, 1)"
      ]
     },
     "execution_count": 27,
     "metadata": {},
     "output_type": "execute_result"
    }
   ],
   "source": [
    "targets.shape"
   ]
  },
  {
   "cell_type": "code",
   "execution_count": 28,
   "metadata": {
    "collapsed": false,
    "deletable": true,
    "editable": true
   },
   "outputs": [],
   "source": [
    "# Create the network\n",
    "ground_truth_init = 0\n",
    "toy_data_net = network.TripNet(kernel=ker_test, ground_truth_init=ground_truth_init, n_input=spk_pairs.shape[1])"
   ]
  },
  {
   "cell_type": "code",
   "execution_count": 29,
   "metadata": {
    "collapsed": true,
    "deletable": true,
    "editable": true
   },
   "outputs": [],
   "source": [
    "# Create the trainer\n",
    "save_dir= '/src/Plasticity_Ker/model/Trip_ptl1_3_real_aug'\n",
    "toy_net_trainer = trainer.Trainer(toy_data_net.loss, toy_data_net.loss, input_name=toy_data_net.inputs, target_name=toy_data_net.target, save_dir=save_dir, optimizer_config={'learning_rate': toy_data_net.lr})"
   ]
  },
  {
   "cell_type": "code",
   "execution_count": 30,
   "metadata": {
    "collapsed": false,
    "deletable": true,
    "editable": true
   },
   "outputs": [],
   "source": [
    "# Obtain the training and validation data\n",
    "from sklearn.model_selection import train_test_split\n",
    "\n",
    "X_train_val, X_test, y_train_val, y_test = train_test_split(spk_pairs, targets, test_size=0.1)\n",
    "X_train, X_vali, y_train, y_vali = train_test_split(X_train_val,  y_train_val, test_size=0.1)\n",
    "train_data = dataset.Dataset(X_train, y_train)\n",
    "vali_data = dataset.Dataset(X_vali, y_vali)"
   ]
  },
  {
   "cell_type": "code",
   "execution_count": 31,
   "metadata": {
    "collapsed": false,
    "deletable": true,
    "editable": true
   },
   "outputs": [
    {
     "name": "stdout",
     "output_type": "stream",
     "text": [
      "[-0.22614121 -0.27994752  0.95375919] 0.0\n"
     ]
    },
    {
     "data": {
      "image/png": "[encoded data removed]",
      "text/plain": [
       "<matplotlib.figure.Figure at 0x7f3a869cac88>"
      ]
     },
     "metadata": {},
     "output_type": "display_data"
    }
   ],
   "source": [
    "w_pre = toy_net_trainer.evaluate(ops=toy_data_net.kernel_pre)\n",
    "w_post = toy_net_trainer.evaluate(ops=toy_data_net.kernel_post)\n",
    "w_post_post = toy_net_trainer.evaluate(ops=toy_data_net.kernel_post_post)\n",
    "fc_w = toy_net_trainer.evaluate(ops=toy_data_net.fc_w)\n",
    "bias = toy_net_trainer.evaluate(ops=toy_data_net.bias)\n",
    "plt.plot(w_pre,  label='ker_pre_trained')\n",
    "plt.plot(w_post,  label='ker_post_trained')\n",
    "plt.plot(w_post_post,  label='ker_post_trained')\n",
    "plt.legend()\n",
    "print(fc_w, bias)"
   ]
  },
  {
   "cell_type": "code",
   "execution_count": 32,
   "metadata": {
    "collapsed": false,
    "deletable": true,
    "editable": true
   },
   "outputs": [
    {
     "name": "stdout",
     "output_type": "stream",
     "text": [
      "\n",
      "Initial validation cost=176.56241\n",
      "Global Step 0150 and Step 0150: validation cost=166.90849\n",
      "Updated min validation loss!Saving model...\n",
      "Global Step 0200 and Step 0200: validation cost=154.19823\n",
      "Updated min validation loss!Saving model...\n",
      "Global Step 0250 and Step 0250: validation cost=140.59026\n",
      "Updated min validation loss!Saving model...\n",
      "Global Step 0300 and Step 0300: validation cost=125.30146\n",
      "Updated min validation loss!Saving model...\n",
      "Global Step 0350 and Step 0350: validation cost=108.50401\n",
      "Updated min validation loss!Saving model...\n",
      "Global Step 0400 and Step 0400: validation cost=91.03016\n",
      "Updated min validation loss!Saving model...\n",
      "Global Step 0450 and Step 0450: validation cost=73.82193\n",
      "Updated min validation loss!Saving model...\n",
      "Global Step 0500 and Step 0500: validation cost=58.49775\n",
      "Updated min validation loss!Saving model...\n",
      "Global Step 0550 and Step 0550: validation cost=45.94563\n",
      "Updated min validation loss!Saving model...\n",
      "Global Step 0600 and Step 0600: validation cost=35.94750\n",
      "Updated min validation loss!Saving model...\n",
      "Global Step 0650 and Step 0650: validation cost=28.43941\n",
      "Updated min validation loss!Saving model...\n",
      "Global Step 0700 and Step 0700: validation cost=22.76468\n",
      "Updated min validation loss!Saving model...\n",
      "Global Step 0750 and Step 0750: validation cost=18.52969\n",
      "Updated min validation loss!Saving model...\n",
      "Global Step 0800 and Step 0800: validation cost=15.26638\n",
      "Updated min validation loss!Saving model...\n",
      "Global Step 0850 and Step 0850: validation cost=12.70980\n",
      "Updated min validation loss!Saving model...\n",
      "Global Step 0900 and Step 0900: validation cost=10.93428\n",
      "Updated min validation loss!Saving model...\n",
      "Global Step 0950 and Step 0950: validation cost=9.52815\n",
      "Updated min validation loss!Saving model...\n",
      "Global Step 1000 and Step 1000: validation cost=8.42099\n",
      "Updated min validation loss!Saving model...\n",
      "Global Step 1050 and Step 1050: validation cost=7.61686\n",
      "Updated min validation loss!Saving model...\n",
      "Global Step 1100 and Step 1100: validation cost=7.05428\n",
      "Updated min validation loss!Saving model...\n",
      "Global Step 1150 and Step 1150: validation cost=6.60980\n",
      "Updated min validation loss!Saving model...\n",
      "Global Step 1200 and Step 1200: validation cost=6.25150\n",
      "Updated min validation loss!Saving model...\n",
      "Global Step 1250 and Step 1250: validation cost=5.99136\n",
      "Updated min validation loss!Saving model...\n",
      "Global Step 1300 and Step 1300: validation cost=5.77141\n",
      "Updated min validation loss!Saving model...\n",
      "Global Step 1350 and Step 1350: validation cost=5.58875\n",
      "Updated min validation loss!Saving model...\n",
      "Global Step 1400 and Step 1400: validation cost=5.47288\n",
      "Updated min validation loss!Saving model...\n",
      "Global Step 1450 and Step 1450: validation cost=5.36352\n",
      "Updated min validation loss!Saving model...\n",
      "Global Step 1500 and Step 1500: validation cost=5.28271\n",
      "Updated min validation loss!Saving model...\n",
      "Global Step 1550 and Step 1550: validation cost=5.21131\n",
      "Updated min validation loss!Saving model...\n",
      "Global Step 1600 and Step 1600: validation cost=5.16315\n",
      "Updated min validation loss!Saving model...\n",
      "Global Step 1650 and Step 1650: validation cost=5.10622\n",
      "Updated min validation loss!Saving model...\n",
      "Global Step 1700 and Step 1700: validation cost=5.07818\n",
      "Updated min validation loss!Saving model...\n",
      "Global Step 1750 and Step 1750: validation cost=5.04145\n",
      "Updated min validation loss!Saving model...\n",
      "Global Step 1800 and Step 1800: validation cost=5.00397\n",
      "Updated min validation loss!Saving model...\n",
      "Global Step 1850 and Step 1850: validation cost=4.99749\n",
      "Updated min validation loss!Saving model...\n",
      "Global Step 1900 and Step 1900: validation cost=4.99435\n",
      "Updated min validation loss!Saving model...\n",
      "Global Step 1950 and Step 1950: validation cost=4.97121\n",
      "Updated min validation loss!Saving model...\n",
      "Global Step 2000 and Step 2000: validation cost=4.97543\n",
      "Global Step 2050 and Step 2050: validation cost=4.95339\n",
      "Updated min validation loss!Saving model...\n",
      "Global Step 2100 and Step 2100: validation cost=4.96907\n",
      "Global Step 2150 and Step 2150: validation cost=4.97072\n",
      "Global Step 2200 and Step 2200: validation cost=4.97032\n",
      "Global Step 2250 and Step 2250: validation cost=5.00773\n",
      "Global Step 2300 and Step 2300: validation cost=4.98916\n",
      "Global Step 2350 and Step 2350: validation cost=4.98791\n",
      "Global Step 2400 and Step 2400: validation cost=4.98663\n",
      "Global Step 2450 and Step 2450: validation cost=4.97630\n",
      "Global Step 2500 and Step 2500: validation cost=4.96194\n",
      "Global Step 2550 and Step 2550: validation cost=4.97838\n",
      "Global Step 2600 and Step 2600: validation cost=4.97726\n",
      "Global Step 2650 and Step 2650: validation cost=4.99028\n",
      "Global Step 2700 and Step 2700: validation cost=5.00006\n",
      "Global Step 2750 and Step 2750: validation cost=4.98397\n",
      "Global Step 2800 and Step 2800: validation cost=4.98431\n",
      "Early Stopping!!!\n",
      "Restoring the best parameters...\n",
      "Global Step 2850 and Step 0050: validation cost=4.95437\n",
      "Global Step 2900 and Step 0100: validation cost=4.95047\n",
      "Updated min validation loss!Saving model...\n",
      "Global Step 2950 and Step 0150: validation cost=4.95292\n",
      "Global Step 3000 and Step 0200: validation cost=4.95220\n",
      "Global Step 3050 and Step 0250: validation cost=4.95356\n",
      "Global Step 3100 and Step 0300: validation cost=4.94355\n",
      "Updated min validation loss!Saving model...\n",
      "Global Step 3150 and Step 0350: validation cost=4.95149\n",
      "Global Step 3200 and Step 0400: validation cost=4.94384\n",
      "Global Step 3250 and Step 0450: validation cost=4.95185\n",
      "Global Step 3300 and Step 0500: validation cost=4.94465\n",
      "Global Step 3350 and Step 0550: validation cost=4.94765\n",
      "Global Step 3400 and Step 0600: validation cost=4.94339\n",
      "Updated min validation loss!Saving model...\n",
      "Global Step 3450 and Step 0650: validation cost=4.95209\n",
      "Global Step 3500 and Step 0700: validation cost=4.95297\n",
      "Global Step 3550 and Step 0750: validation cost=4.94363\n",
      "Global Step 3600 and Step 0800: validation cost=4.94287\n",
      "Updated min validation loss!Saving model...\n",
      "Global Step 3650 and Step 0850: validation cost=4.94664\n",
      "Global Step 3700 and Step 0900: validation cost=4.93204\n",
      "Updated min validation loss!Saving model...\n",
      "Global Step 3750 and Step 0950: validation cost=4.92339\n",
      "Updated min validation loss!Saving model...\n",
      "Global Step 3800 and Step 1000: validation cost=4.93300\n",
      "Global Step 3850 and Step 1050: validation cost=4.93251\n",
      "Global Step 3900 and Step 1100: validation cost=4.92208\n",
      "Updated min validation loss!Saving model...\n",
      "Global Step 3950 and Step 1150: validation cost=4.93655\n",
      "Global Step 4000 and Step 1200: validation cost=4.93037\n",
      "Global Step 4050 and Step 1250: validation cost=4.93688\n",
      "Global Step 4100 and Step 1300: validation cost=4.92983\n",
      "Global Step 4150 and Step 1350: validation cost=4.91889\n",
      "Updated min validation loss!Saving model...\n",
      "Global Step 4200 and Step 1400: validation cost=4.94049\n",
      "Global Step 4250 and Step 1450: validation cost=4.93692\n",
      "Global Step 4300 and Step 1500: validation cost=4.92586\n",
      "Global Step 4350 and Step 1550: validation cost=4.91131\n",
      "Updated min validation loss!Saving model...\n",
      "Global Step 4400 and Step 1600: validation cost=4.91881\n",
      "Global Step 4450 and Step 1650: validation cost=4.92493\n",
      "Global Step 4500 and Step 1700: validation cost=4.91869\n",
      "Global Step 4550 and Step 1750: validation cost=4.92690\n",
      "Global Step 4600 and Step 1800: validation cost=4.93186\n",
      "Global Step 4650 and Step 1850: validation cost=4.92558\n",
      "Global Step 4700 and Step 1900: validation cost=4.92927\n",
      "Global Step 4750 and Step 1950: validation cost=4.91959\n",
      "Global Step 4800 and Step 2000: validation cost=4.91133\n",
      "Global Step 4850 and Step 2050: validation cost=4.90873\n",
      "Updated min validation loss!Saving model...\n",
      "Global Step 4900 and Step 2100: validation cost=4.88124\n",
      "Updated min validation loss!Saving model...\n",
      "Global Step 4950 and Step 2150: validation cost=4.87450\n",
      "Updated min validation loss!Saving model...\n",
      "Global Step 5000 and Step 2200: validation cost=4.86177\n",
      "Updated min validation loss!Saving model...\n",
      "Global Step 5050 and Step 2250: validation cost=4.86808\n",
      "Global Step 5100 and Step 2300: validation cost=4.86741\n",
      "Global Step 5150 and Step 2350: validation cost=4.86914\n",
      "Global Step 5200 and Step 2400: validation cost=4.87505\n",
      "Global Step 5250 and Step 2450: validation cost=4.88370\n",
      "Global Step 5300 and Step 2500: validation cost=4.87048\n",
      "Global Step 5350 and Step 2550: validation cost=4.85681\n",
      "Updated min validation loss!Saving model...\n",
      "Global Step 5400 and Step 2600: validation cost=4.84969\n",
      "Updated min validation loss!Saving model...\n",
      "Global Step 5450 and Step 2650: validation cost=4.85240\n",
      "Global Step 5500 and Step 2700: validation cost=4.85701\n",
      "Global Step 5550 and Step 2750: validation cost=4.87504\n",
      "Global Step 5600 and Step 2800: validation cost=4.87729\n",
      "Global Step 5650 and Step 2850: validation cost=4.87678\n",
      "Global Step 5700 and Step 2900: validation cost=4.86832\n",
      "Global Step 5750 and Step 2950: validation cost=4.86526\n",
      "Global Step 5800 and Step 3000: validation cost=4.84499\n",
      "Updated min validation loss!Saving model...\n",
      "Global Step 5850 and Step 3050: validation cost=4.83865\n",
      "Updated min validation loss!Saving model...\n",
      "Global Step 5900 and Step 3100: validation cost=4.84046\n",
      "Global Step 5950 and Step 3150: validation cost=4.84927\n",
      "Global Step 6000 and Step 3200: validation cost=4.84814\n",
      "Global Step 6050 and Step 3250: validation cost=4.84314\n",
      "Global Step 6100 and Step 3300: validation cost=4.83236\n",
      "Updated min validation loss!Saving model...\n",
      "Global Step 6150 and Step 3350: validation cost=4.80264\n",
      "Updated min validation loss!Saving model...\n",
      "Global Step 6200 and Step 3400: validation cost=4.80669\n",
      "Global Step 6250 and Step 3450: validation cost=4.78278\n",
      "Updated min validation loss!Saving model...\n",
      "Global Step 6300 and Step 3500: validation cost=4.79168\n",
      "Global Step 6350 and Step 3550: validation cost=4.78758\n",
      "Global Step 6400 and Step 3600: validation cost=4.78615\n",
      "Global Step 6450 and Step 3650: validation cost=4.79171\n",
      "Global Step 6500 and Step 3700: validation cost=4.78186\n",
      "Updated min validation loss!Saving model...\n",
      "Global Step 6550 and Step 3750: validation cost=4.77990\n",
      "Updated min validation loss!Saving model...\n",
      "Global Step 6600 and Step 3800: validation cost=4.77972\n",
      "Updated min validation loss!Saving model...\n",
      "Global Step 6650 and Step 3850: validation cost=4.77506\n",
      "Updated min validation loss!Saving model...\n",
      "Global Step 6700 and Step 3900: validation cost=4.77034\n",
      "Updated min validation loss!Saving model...\n",
      "Global Step 6750 and Step 3950: validation cost=4.76180\n",
      "Updated min validation loss!Saving model...\n",
      "Global Step 6800 and Step 4000: validation cost=4.75033\n",
      "Updated min validation loss!Saving model...\n",
      "Global Step 6850 and Step 4050: validation cost=4.75628\n",
      "Global Step 6900 and Step 4100: validation cost=4.74366\n",
      "Updated min validation loss!Saving model...\n",
      "Global Step 6950 and Step 4150: validation cost=4.73231\n",
      "Updated min validation loss!Saving model...\n",
      "Global Step 7000 and Step 4200: validation cost=4.71957\n",
      "Updated min validation loss!Saving model...\n",
      "Global Step 7050 and Step 4250: validation cost=4.70759\n",
      "Updated min validation loss!Saving model...\n",
      "Global Step 7100 and Step 4300: validation cost=4.71283\n",
      "Global Step 7150 and Step 4350: validation cost=4.71412\n",
      "Global Step 7200 and Step 4400: validation cost=4.73880\n",
      "Global Step 7250 and Step 4450: validation cost=4.72826\n",
      "Global Step 7300 and Step 4500: validation cost=4.71852\n",
      "Global Step 7350 and Step 4550: validation cost=4.71799\n",
      "Global Step 7400 and Step 4600: validation cost=4.72167\n",
      "Global Step 7450 and Step 4650: validation cost=4.71506\n",
      "Global Step 7500 and Step 4700: validation cost=4.70532\n",
      "Updated min validation loss!Saving model...\n",
      "Global Step 7550 and Step 4750: validation cost=4.68982\n",
      "Updated min validation loss!Saving model...\n",
      "Global Step 7600 and Step 4800: validation cost=4.69105\n",
      "Global Step 7650 and Step 4850: validation cost=4.68199\n",
      "Updated min validation loss!Saving model...\n",
      "Global Step 7700 and Step 4900: validation cost=4.66627\n",
      "Updated min validation loss!Saving model...\n",
      "Global Step 7750 and Step 4950: validation cost=4.66716\n",
      "Global Step 7800 and Step 5000: validation cost=4.66423\n",
      "Updated min validation loss!Saving model...\n",
      "Global Step 7850 and Step 5050: validation cost=4.66797\n",
      "Global Step 7900 and Step 5100: validation cost=4.64537\n",
      "Updated min validation loss!Saving model...\n",
      "Global Step 7950 and Step 5150: validation cost=4.63919\n",
      "Updated min validation loss!Saving model...\n",
      "Global Step 8000 and Step 5200: validation cost=4.65646\n",
      "Global Step 8050 and Step 5250: validation cost=4.65733\n",
      "Global Step 8100 and Step 5300: validation cost=4.66301\n",
      "Global Step 8150 and Step 5350: validation cost=4.64071\n",
      "Global Step 8200 and Step 5400: validation cost=4.62759\n",
      "Updated min validation loss!Saving model...\n",
      "Global Step 8250 and Step 5450: validation cost=4.63193\n",
      "Global Step 8300 and Step 5500: validation cost=4.63741\n",
      "Global Step 8350 and Step 5550: validation cost=4.62244\n",
      "Updated min validation loss!Saving model...\n",
      "Global Step 8400 and Step 5600: validation cost=4.62185\n",
      "Updated min validation loss!Saving model...\n",
      "Global Step 8450 and Step 5650: validation cost=4.62647\n",
      "Global Step 8500 and Step 5700: validation cost=4.61964\n",
      "Updated min validation loss!Saving model...\n",
      "Global Step 8550 and Step 5750: validation cost=4.62404\n",
      "Global Step 8600 and Step 5800: validation cost=4.62658\n",
      "Global Step 8650 and Step 5850: validation cost=4.62860\n",
      "Global Step 8700 and Step 5900: validation cost=4.59729\n",
      "Updated min validation loss!Saving model...\n",
      "Global Step 8750 and Step 5950: validation cost=4.59012\n",
      "Updated min validation loss!Saving model...\n",
      "Global Step 8800 and Step 6000: validation cost=4.60611\n",
      "Global Step 8850 and Step 6050: validation cost=4.60105\n",
      "Global Step 8900 and Step 6100: validation cost=4.59338\n",
      "Global Step 8950 and Step 6150: validation cost=4.59065\n",
      "Global Step 9000 and Step 6200: validation cost=4.57537\n",
      "Updated min validation loss!Saving model...\n",
      "Global Step 9050 and Step 6250: validation cost=4.56895\n",
      "Updated min validation loss!Saving model...\n",
      "Global Step 9100 and Step 6300: validation cost=4.57002\n",
      "Global Step 9150 and Step 6350: validation cost=4.57030\n",
      "Global Step 9200 and Step 6400: validation cost=4.58085\n",
      "Global Step 9250 and Step 6450: validation cost=4.57728\n",
      "Global Step 9300 and Step 6500: validation cost=4.55654\n",
      "Updated min validation loss!Saving model...\n",
      "Global Step 9350 and Step 6550: validation cost=4.57557\n",
      "Global Step 9400 and Step 6600: validation cost=4.56440\n",
      "Global Step 9450 and Step 6650: validation cost=4.56285\n",
      "Global Step 9500 and Step 6700: validation cost=4.56845\n",
      "Global Step 9550 and Step 6750: validation cost=4.55245\n",
      "Updated min validation loss!Saving model...\n",
      "Global Step 9600 and Step 6800: validation cost=4.55232\n",
      "Updated min validation loss!Saving model...\n",
      "Global Step 9650 and Step 6850: validation cost=4.54574\n",
      "Updated min validation loss!Saving model...\n",
      "Global Step 9700 and Step 6900: validation cost=4.53105\n",
      "Updated min validation loss!Saving model...\n",
      "Global Step 9750 and Step 6950: validation cost=4.50708\n",
      "Updated min validation loss!Saving model...\n",
      "Global Step 9800 and Step 7000: validation cost=4.49311\n",
      "Updated min validation loss!Saving model...\n",
      "Global Step 9850 and Step 7050: validation cost=4.46937\n",
      "Updated min validation loss!Saving model...\n",
      "Global Step 9900 and Step 7100: validation cost=4.47002\n",
      "Global Step 9950 and Step 7150: validation cost=4.46348\n",
      "Updated min validation loss!Saving model...\n",
      "Global Step 10000 and Step 7200: validation cost=4.44320\n",
      "Updated min validation loss!Saving model...\n",
      "Global Step 10050 and Step 7250: validation cost=4.45665\n",
      "Global Step 10100 and Step 7300: validation cost=4.45537\n",
      "Global Step 10150 and Step 7350: validation cost=4.45319\n",
      "Global Step 10200 and Step 7400: validation cost=4.44813\n",
      "Global Step 10250 and Step 7450: validation cost=4.44743\n",
      "Global Step 10300 and Step 7500: validation cost=4.44470\n",
      "Global Step 10350 and Step 7550: validation cost=4.44571\n",
      "Global Step 10400 and Step 7600: validation cost=4.42896\n",
      "Updated min validation loss!Saving model...\n",
      "Global Step 10450 and Step 7650: validation cost=4.45747\n",
      "Global Step 10500 and Step 7700: validation cost=4.44666\n",
      "Global Step 10550 and Step 7750: validation cost=4.42048\n",
      "Updated min validation loss!Saving model...\n",
      "Global Step 10600 and Step 7800: validation cost=4.43765\n",
      "Global Step 10650 and Step 7850: validation cost=4.42379\n",
      "Global Step 10700 and Step 7900: validation cost=4.41966\n",
      "Updated min validation loss!Saving model...\n",
      "Global Step 10750 and Step 7950: validation cost=4.41700\n",
      "Updated min validation loss!Saving model...\n",
      "Global Step 10800 and Step 8000: validation cost=4.42192\n",
      "Global Step 10850 and Step 8050: validation cost=4.40565\n",
      "Updated min validation loss!Saving model...\n",
      "Global Step 10900 and Step 8100: validation cost=4.40488\n",
      "Updated min validation loss!Saving model...\n",
      "Global Step 10950 and Step 8150: validation cost=4.41310\n",
      "Global Step 11000 and Step 8200: validation cost=4.41405\n",
      "Global Step 11050 and Step 8250: validation cost=4.41409\n",
      "Global Step 11100 and Step 8300: validation cost=4.41211\n",
      "Global Step 11150 and Step 8350: validation cost=4.40716\n",
      "Global Step 11200 and Step 8400: validation cost=4.40274\n",
      "Updated min validation loss!Saving model...\n",
      "Global Step 11250 and Step 8450: validation cost=4.39312\n",
      "Updated min validation loss!Saving model...\n",
      "Global Step 11300 and Step 8500: validation cost=4.38206\n",
      "Updated min validation loss!Saving model...\n",
      "Global Step 11350 and Step 8550: validation cost=4.38744\n",
      "Global Step 11400 and Step 8600: validation cost=4.37997\n",
      "Updated min validation loss!Saving model...\n",
      "Global Step 11450 and Step 8650: validation cost=4.36973\n",
      "Updated min validation loss!Saving model...\n",
      "Global Step 11500 and Step 8700: validation cost=4.35385\n",
      "Updated min validation loss!Saving model...\n",
      "Global Step 11550 and Step 8750: validation cost=4.34423\n",
      "Updated min validation loss!Saving model...\n",
      "Global Step 11600 and Step 8800: validation cost=4.36143\n",
      "Global Step 11650 and Step 8850: validation cost=4.36765\n",
      "Global Step 11700 and Step 8900: validation cost=4.36499\n",
      "Global Step 11750 and Step 8950: validation cost=4.36580\n",
      "Global Step 11800 and Step 9000: validation cost=4.36592\n",
      "Global Step 11850 and Step 9050: validation cost=4.36242\n",
      "Global Step 11900 and Step 9100: validation cost=4.36191\n",
      "Global Step 11950 and Step 9150: validation cost=4.36929\n",
      "Global Step 12000 and Step 9200: validation cost=4.36371\n",
      "Global Step 12050 and Step 9250: validation cost=4.33402\n",
      "Updated min validation loss!Saving model...\n",
      "Global Step 12100 and Step 9300: validation cost=4.33213\n",
      "Updated min validation loss!Saving model...\n",
      "Global Step 12150 and Step 9350: validation cost=4.33649\n",
      "Global Step 12200 and Step 9400: validation cost=4.31438\n",
      "Updated min validation loss!Saving model...\n",
      "Global Step 12250 and Step 9450: validation cost=4.32463\n",
      "Global Step 12300 and Step 9500: validation cost=4.32259\n",
      "Global Step 12350 and Step 9550: validation cost=4.32725\n",
      "Global Step 12400 and Step 9600: validation cost=4.33622\n",
      "Global Step 12450 and Step 9650: validation cost=4.30873\n",
      "Updated min validation loss!Saving model...\n",
      "Global Step 12500 and Step 9700: validation cost=4.30488\n",
      "Updated min validation loss!Saving model...\n",
      "Global Step 12550 and Step 9750: validation cost=4.31205\n",
      "Global Step 12600 and Step 9800: validation cost=4.31824\n",
      "Global Step 12650 and Step 9850: validation cost=4.31423\n",
      "Global Step 12700 and Step 9900: validation cost=4.30735\n",
      "Global Step 12750 and Step 9950: validation cost=4.31290\n",
      "Global Step 12800 and Step 10000: validation cost=4.31425\n",
      "Global Step 12850 and Step 10050: validation cost=4.29382\n",
      "Updated min validation loss!Saving model...\n",
      "Global Step 12900 and Step 10100: validation cost=4.29048\n",
      "Updated min validation loss!Saving model...\n",
      "Global Step 12950 and Step 10150: validation cost=4.28064\n",
      "Updated min validation loss!Saving model...\n",
      "Global Step 13000 and Step 10200: validation cost=4.27688\n",
      "Updated min validation loss!Saving model...\n",
      "Global Step 13050 and Step 10250: validation cost=4.30263\n",
      "Global Step 13100 and Step 10300: validation cost=4.27964\n",
      "Global Step 13150 and Step 10350: validation cost=4.26856\n",
      "Updated min validation loss!Saving model...\n",
      "Global Step 13200 and Step 10400: validation cost=4.28924\n",
      "Global Step 13250 and Step 10450: validation cost=4.27440\n",
      "Global Step 13300 and Step 10500: validation cost=4.27071\n",
      "Global Step 13350 and Step 10550: validation cost=4.26701\n",
      "Updated min validation loss!Saving model...\n",
      "Global Step 13400 and Step 10600: validation cost=4.25356\n",
      "Updated min validation loss!Saving model...\n",
      "Global Step 13450 and Step 10650: validation cost=4.26079\n",
      "Global Step 13500 and Step 10700: validation cost=4.26421\n",
      "Global Step 13550 and Step 10750: validation cost=4.26219\n",
      "Global Step 13600 and Step 10800: validation cost=4.26233\n",
      "Global Step 13650 and Step 10850: validation cost=4.23899\n",
      "Updated min validation loss!Saving model...\n",
      "Global Step 13700 and Step 10900: validation cost=4.21711\n",
      "Updated min validation loss!Saving model...\n",
      "Global Step 13750 and Step 10950: validation cost=4.24313\n",
      "Global Step 13800 and Step 11000: validation cost=4.23352\n",
      "Global Step 13850 and Step 11050: validation cost=4.25589\n",
      "Global Step 13900 and Step 11100: validation cost=4.24652\n",
      "Global Step 13950 and Step 11150: validation cost=4.23389\n",
      "Global Step 14000 and Step 11200: validation cost=4.22596\n",
      "Global Step 14050 and Step 11250: validation cost=4.23517\n",
      "Global Step 14100 and Step 11300: validation cost=4.22638\n",
      "Global Step 14150 and Step 11350: validation cost=4.21480\n",
      "Updated min validation loss!Saving model...\n",
      "Global Step 14200 and Step 11400: validation cost=4.21717\n",
      "Global Step 14250 and Step 11450: validation cost=4.22055\n",
      "Global Step 14300 and Step 11500: validation cost=4.24139\n",
      "Global Step 14350 and Step 11550: validation cost=4.22883\n",
      "Global Step 14400 and Step 11600: validation cost=4.23816\n",
      "Global Step 14450 and Step 11650: validation cost=4.23006\n",
      "Global Step 14500 and Step 11700: validation cost=4.21235\n",
      "Updated min validation loss!Saving model...\n",
      "Global Step 14550 and Step 11750: validation cost=4.22780\n",
      "Global Step 14600 and Step 11800: validation cost=4.21723\n",
      "Global Step 14650 and Step 11850: validation cost=4.21288\n",
      "Global Step 14700 and Step 11900: validation cost=4.22999\n",
      "Global Step 14750 and Step 11950: validation cost=4.22174\n",
      "Global Step 14800 and Step 12000: validation cost=4.20885\n",
      "Updated min validation loss!Saving model...\n",
      "Global Step 14850 and Step 12050: validation cost=4.21331\n",
      "Global Step 14900 and Step 12100: validation cost=4.20830\n",
      "Updated min validation loss!Saving model...\n",
      "Global Step 14950 and Step 12150: validation cost=4.20324\n",
      "Updated min validation loss!Saving model...\n",
      "Global Step 15000 and Step 12200: validation cost=4.19056\n",
      "Updated min validation loss!Saving model...\n",
      "Global Step 15050 and Step 12250: validation cost=4.18108\n",
      "Updated min validation loss!Saving model...\n",
      "Global Step 15100 and Step 12300: validation cost=4.18353\n",
      "Global Step 15150 and Step 12350: validation cost=4.19262\n",
      "Global Step 15200 and Step 12400: validation cost=4.17349\n",
      "Updated min validation loss!Saving model...\n",
      "Global Step 15250 and Step 12450: validation cost=4.18084\n",
      "Global Step 15300 and Step 12500: validation cost=4.17731\n",
      "Global Step 15350 and Step 12550: validation cost=4.17176\n",
      "Updated min validation loss!Saving model...\n",
      "Global Step 15400 and Step 12600: validation cost=4.16969\n",
      "Updated min validation loss!Saving model...\n",
      "Global Step 15450 and Step 12650: validation cost=4.17626\n",
      "Global Step 15500 and Step 12700: validation cost=4.20337\n",
      "Global Step 15550 and Step 12750: validation cost=4.18713\n",
      "Global Step 15600 and Step 12800: validation cost=4.18213\n",
      "Global Step 15650 and Step 12850: validation cost=4.18062\n",
      "Global Step 15700 and Step 12900: validation cost=4.17620\n",
      "Global Step 15750 and Step 12950: validation cost=4.18927\n",
      "Global Step 15800 and Step 13000: validation cost=4.18286\n",
      "Global Step 15850 and Step 13050: validation cost=4.18781\n",
      "Global Step 15900 and Step 13100: validation cost=4.17048\n",
      "Global Step 15950 and Step 13150: validation cost=4.16820\n",
      "Updated min validation loss!Saving model...\n",
      "Global Step 16000 and Step 13200: validation cost=4.19076\n",
      "Global Step 16050 and Step 13250: validation cost=4.17613\n",
      "Global Step 16100 and Step 13300: validation cost=4.15563\n",
      "Updated min validation loss!Saving model...\n",
      "Global Step 16150 and Step 13350: validation cost=4.15342\n",
      "Updated min validation loss!Saving model...\n",
      "Global Step 16200 and Step 13400: validation cost=4.15348\n",
      "Global Step 16250 and Step 13450: validation cost=4.14020\n",
      "Updated min validation loss!Saving model...\n",
      "Global Step 16300 and Step 13500: validation cost=4.14730\n",
      "Global Step 16350 and Step 13550: validation cost=4.14069\n",
      "Global Step 16400 and Step 13600: validation cost=4.15851\n",
      "Global Step 16450 and Step 13650: validation cost=4.14125\n",
      "Global Step 16500 and Step 13700: validation cost=4.13537\n",
      "Updated min validation loss!Saving model...\n",
      "Global Step 16550 and Step 13750: validation cost=4.13632\n",
      "Global Step 16600 and Step 13800: validation cost=4.13756\n",
      "Global Step 16650 and Step 13850: validation cost=4.12580\n",
      "Updated min validation loss!Saving model...\n",
      "Global Step 16700 and Step 13900: validation cost=4.11585\n",
      "Updated min validation loss!Saving model...\n",
      "Global Step 16750 and Step 13950: validation cost=4.12431\n",
      "Global Step 16800 and Step 14000: validation cost=4.12074\n",
      "Global Step 16850 and Step 14050: validation cost=4.12572\n",
      "Global Step 16900 and Step 14100: validation cost=4.13527\n",
      "Global Step 16950 and Step 14150: validation cost=4.12913\n",
      "Global Step 17000 and Step 14200: validation cost=4.12930\n",
      "Global Step 17050 and Step 14250: validation cost=4.12176\n",
      "Global Step 17100 and Step 14300: validation cost=4.11283\n",
      "Updated min validation loss!Saving model...\n",
      "Global Step 17150 and Step 14350: validation cost=4.11446\n",
      "Global Step 17200 and Step 14400: validation cost=4.12023\n",
      "Global Step 17250 and Step 14450: validation cost=4.11520\n",
      "Global Step 17300 and Step 14500: validation cost=4.13620\n",
      "Global Step 17350 and Step 14550: validation cost=4.12571\n",
      "Global Step 17400 and Step 14600: validation cost=4.12116\n",
      "Global Step 17450 and Step 14650: validation cost=4.11456\n",
      "Global Step 17500 and Step 14700: validation cost=4.09913\n",
      "Updated min validation loss!Saving model...\n",
      "Global Step 17550 and Step 14750: validation cost=4.09471\n",
      "Updated min validation loss!Saving model...\n",
      "Global Step 17600 and Step 14800: validation cost=4.07785\n",
      "Updated min validation loss!Saving model...\n",
      "Global Step 17650 and Step 14850: validation cost=4.09001\n",
      "Global Step 17700 and Step 14900: validation cost=4.07666\n",
      "Updated min validation loss!Saving model...\n",
      "Global Step 17750 and Step 14950: validation cost=4.09317\n",
      "Global Step 17800 and Step 15000: validation cost=4.09490\n",
      "Global Step 17850 and Step 15050: validation cost=4.09262\n",
      "Global Step 17900 and Step 15100: validation cost=4.09766\n",
      "Global Step 17950 and Step 15150: validation cost=4.09008\n",
      "Global Step 18000 and Step 15200: validation cost=4.08973\n",
      "Global Step 18050 and Step 15250: validation cost=4.07552\n",
      "Updated min validation loss!Saving model...\n",
      "Global Step 18100 and Step 15300: validation cost=4.08788\n",
      "Global Step 18150 and Step 15350: validation cost=4.09631\n",
      "Global Step 18200 and Step 15400: validation cost=4.11008\n",
      "Global Step 18250 and Step 15450: validation cost=4.11039\n",
      "Global Step 18300 and Step 15500: validation cost=4.11218\n",
      "Global Step 18350 and Step 15550: validation cost=4.10698\n",
      "Global Step 18400 and Step 15600: validation cost=4.09801\n",
      "Global Step 18450 and Step 15650: validation cost=4.12254\n",
      "Global Step 18500 and Step 15700: validation cost=4.09888\n",
      "Global Step 18550 and Step 15750: validation cost=4.11532\n",
      "Global Step 18600 and Step 15800: validation cost=4.12309\n",
      "Global Step 18650 and Step 15850: validation cost=4.10289\n",
      "Global Step 18700 and Step 15900: validation cost=4.11544\n",
      "Global Step 18750 and Step 15950: validation cost=4.11291\n",
      "Global Step 18800 and Step 16000: validation cost=4.09472\n",
      "Early Stopping!!!\n",
      "Restoring the best parameters...\n",
      "Global Step 18850 and Step 0050: validation cost=4.07793\n",
      "Global Step 18900 and Step 0100: validation cost=4.07551\n",
      "Updated min validation loss!Saving model...\n",
      "Global Step 18950 and Step 0150: validation cost=4.07473\n",
      "Updated min validation loss!Saving model...\n",
      "Global Step 19000 and Step 0200: validation cost=4.07971\n",
      "Global Step 19050 and Step 0250: validation cost=4.08184\n",
      "Global Step 19100 and Step 0300: validation cost=4.08213\n",
      "Global Step 19150 and Step 0350: validation cost=4.08256\n",
      "Global Step 19200 and Step 0400: validation cost=4.07997\n",
      "Global Step 19250 and Step 0450: validation cost=4.07829\n",
      "Global Step 19300 and Step 0500: validation cost=4.08007\n",
      "Global Step 19350 and Step 0550: validation cost=4.08289\n",
      "Global Step 19400 and Step 0600: validation cost=4.08897\n",
      "Global Step 19450 and Step 0650: validation cost=4.08349\n",
      "Global Step 19500 and Step 0700: validation cost=4.08187\n",
      "Global Step 19550 and Step 0750: validation cost=4.08135\n",
      "Global Step 19600 and Step 0800: validation cost=4.08091\n",
      "Global Step 19650 and Step 0850: validation cost=4.08014\n",
      "Global Step 19700 and Step 0900: validation cost=4.08448\n",
      "Early Stopping!!!\n",
      "Restoring the best parameters...\n",
      "Global Step 19750 and Step 0050: validation cost=4.07343\n",
      "Updated min validation loss!Saving model...\n",
      "Global Step 19800 and Step 0100: validation cost=4.07834\n",
      "Global Step 19850 and Step 0150: validation cost=4.07845\n",
      "Global Step 19900 and Step 0200: validation cost=4.07726\n",
      "Global Step 19950 and Step 0250: validation cost=4.07557\n",
      "Global Step 20000 and Step 0300: validation cost=4.07393\n",
      "Global Step 20050 and Step 0350: validation cost=4.07510\n",
      "Global Step 20100 and Step 0400: validation cost=4.07881\n",
      "Global Step 20150 and Step 0450: validation cost=4.07815\n",
      "Global Step 20200 and Step 0500: validation cost=4.07950\n",
      "Global Step 20250 and Step 0550: validation cost=4.07753\n",
      "Global Step 20300 and Step 0600: validation cost=4.07973\n",
      "Global Step 20350 and Step 0650: validation cost=4.08030\n",
      "Global Step 20400 and Step 0700: validation cost=4.07907\n",
      "Global Step 20450 and Step 0750: validation cost=4.07918\n",
      "Global Step 20500 and Step 0800: validation cost=4.08006\n",
      "Early Stopping!!!\n",
      "Restoring the best parameters...\n",
      "Global Step 20550 and Step 0050: validation cost=4.07528\n",
      "Global Step 20600 and Step 0100: validation cost=4.07507\n",
      "Global Step 20650 and Step 0150: validation cost=4.07479\n",
      "Global Step 20700 and Step 0200: validation cost=4.07427\n",
      "Global Step 20750 and Step 0250: validation cost=4.07402\n",
      "Global Step 20800 and Step 0300: validation cost=4.07443\n",
      "Global Step 20850 and Step 0350: validation cost=4.07446\n",
      "Global Step 20900 and Step 0400: validation cost=4.07424\n",
      "Global Step 20950 and Step 0450: validation cost=4.07404\n",
      "Global Step 21000 and Step 0500: validation cost=4.07412\n",
      "Global Step 21050 and Step 0550: validation cost=4.07479\n",
      "Global Step 21100 and Step 0600: validation cost=4.07509\n",
      "Global Step 21150 and Step 0650: validation cost=4.07477\n",
      "Global Step 21200 and Step 0700: validation cost=4.07466\n",
      "Global Step 21250 and Step 0750: validation cost=4.07434\n",
      "Early Stopping!!!\n",
      "Restoring the best parameters...\n"
     ]
    }
   ],
   "source": [
    "# Learn the kernel from random initialization\n",
    "learning_rate = 0.001\n",
    "iterations = 5\n",
    "min_error = -1\n",
    "for i in range(iterations):\n",
    "    toy_net_trainer.train(train_data, vali_data, batch_size=128, min_error=min_error, feed_dict={toy_data_net.lr: learning_rate})\n",
    "    learning_rate = learning_rate/3"
   ]
  },
  {
   "cell_type": "code",
   "execution_count": 33,
   "metadata": {
    "collapsed": false,
    "deletable": true,
    "editable": true
   },
   "outputs": [
    {
     "name": "stdout",
     "output_type": "stream",
     "text": [
      "[array([-1.4406718 , -1.1849407 ,  2.20998645], dtype=float32), 2.859879]\n"
     ]
    },
    {
     "data": {
      "image/png": "[encoded data removed]",
      "text/plain": [
       "<matplotlib.figure.Figure at 0x7f3a869a6438>"
      ]
     },
     "metadata": {},
     "output_type": "display_data"
    }
   ],
   "source": [
    "toy_net_trainer.restore_best()\n",
    "w_pre = toy_net_trainer.evaluate(ops=toy_data_net.kernel_pre)\n",
    "w_post = toy_net_trainer.evaluate(ops=toy_data_net.kernel_post)\n",
    "w_post_post = toy_net_trainer.evaluate(ops=toy_data_net.kernel_post_post)\n",
    "fc_w = toy_net_trainer.evaluate(ops=toy_data_net.fc_w)\n",
    "bias = toy_net_trainer.evaluate(ops=toy_data_net.bias)\n",
    "plt.plot(-1*w_pre, label='ker_pre_trained')\n",
    "plt.plot(-1*w_post, label='ker_post_trained')\n",
    "plt.plot(w_post_post, label='ker_post_post_trained')\n",
    "plt.legend()\n",
    "print([fc_w, bias])"
   ]
  },
  {
   "cell_type": "code",
   "execution_count": null,
   "metadata": {
    "collapsed": true,
    "deletable": true,
    "editable": true
   },
   "outputs": [],
   "source": [
    "# Compare the target and prediction"
   ]
  },
  {
   "cell_type": "code",
   "execution_count": 34,
   "metadata": {
    "collapsed": false,
    "deletable": true,
    "editable": true
   },
   "outputs": [],
   "source": [
    "ker_test.kernel_pre = w_pre\n",
    "ker_test.kernel_post = w_post\n",
    "ker_test.kernel_post_post= w_post_post\n",
    "ker_test.kernel_scale = fc_w"
   ]
  },
  {
   "cell_type": "code",
   "execution_count": 35,
   "metadata": {
    "collapsed": false,
    "deletable": true,
    "editable": true
   },
   "outputs": [],
   "source": [
    "spk_len = int(data1_gen['train_len'].max() * 1000 / ker_test.reso_kernel)\n",
    "spk_pairs, predictions = arb_w_gen(spk_pairs=spk_pairs, spk_len=spk_len, kernel=ker_test, net_type='triplet')"
   ]
  },
  {
   "cell_type": "code",
   "execution_count": 36,
   "metadata": {
    "collapsed": false,
    "deletable": true,
    "editable": true
   },
   "outputs": [],
   "source": [
    "# np.save('/src/Plasticity_Ker/data/predictions.npy', predictions)\n",
    "# predictions = np.load('/src/Plasticity_Ker/data/predictions.npy')"
   ]
  },
  {
   "cell_type": "code",
   "execution_count": 37,
   "metadata": {
    "collapsed": false,
    "deletable": true,
    "editable": true
   },
   "outputs": [],
   "source": [
    "x_fit = np.linspace(np.min(targets)-1, np.max(targets)+1, 100)\n",
    "targets_stdp = targets[:len(data1_gen)*20]\n",
    "predictions_stdp = predictions[:len(data1_gen)*20]\n",
    "targets_quad = targets[len(data1_gen)*20:]\n",
    "predictions_quad = predictions[len(data1_gen)*20:]\n",
    "R2, corr, y_fit = perform_eval.R2_corr(predictions,targets, x_fit)\n",
    "R2_stdp, corr_stdp, y_fit_stdp = perform_eval.R2_corr(predictions_stdp,targets_stdp, x_fit)\n",
    "R2_quad, corr_quad, y_fit_quad = perform_eval.R2_corr(predictions_quad ,targets_quad, x_fit)"
   ]
  },
  {
   "cell_type": "code",
   "execution_count": 38,
   "metadata": {
    "collapsed": false,
    "deletable": true,
    "editable": true
   },
   "outputs": [
    {
     "data": {
      "text/plain": [
       "[<matplotlib.lines.Line2D at 0x7f3a207df080>]"
      ]
     },
     "execution_count": 38,
     "metadata": {},
     "output_type": "execute_result"
    },
    {
     "data": {
      "image/png": "[encoded data removed]",
      "text/plain": [
       "<matplotlib.figure.Figure at 0x7f3afed70ba8>"
      ]
     },
     "metadata": {},
     "output_type": "display_data"
    }
   ],
   "source": [
    "plt.plot(targets,predictions,'o')"
   ]
  },
  {
   "cell_type": "code",
   "execution_count": 39,
   "metadata": {
    "collapsed": false,
    "deletable": true,
    "editable": true
   },
   "outputs": [
    {
     "data": {
      "text/plain": [
       "<matplotlib.legend.Legend at 0x7f3a20757240>"
      ]
     },
     "execution_count": 39,
     "metadata": {},
     "output_type": "execute_result"
    },
    {
     "data": {
      "image/png": "[encoded data removed]",
      "text/plain": [
       "<matplotlib.figure.Figure at 0x7f3a207e5080>"
      ]
     },
     "metadata": {},
     "output_type": "display_data"
    }
   ],
   "source": [
    "plt.plot(x_fit, y_fit_stdp, 'k--')\n",
    "plt.plot(x_fit, y_fit_quad, 'b--')\n",
    "\n",
    "plt.plot(targets_stdp, predictions_stdp, 'o', label='stdp')\n",
    "plt.plot(targets_quad, predictions_quad, 'o', label='quadruplet')\n",
    "\n",
    "plt.xlabel('targets')\n",
    "plt.ylabel('predictions')\n",
    "plt.title(''.join(('R2=%.4f'%(R2), ', Corr=%.4f'%(corr))))\n",
    "plt.legend()"
   ]
  },
  {
   "cell_type": "code",
   "execution_count": 40,
   "metadata": {
    "collapsed": false,
    "deletable": true,
    "editable": true
   },
   "outputs": [],
   "source": [
    "test= spk_pairs[len(data1_gen)*20:, :,:]"
   ]
  },
  {
   "cell_type": "code",
   "execution_count": 64,
   "metadata": {
    "collapsed": false,
    "deletable": true,
    "editable": true
   },
   "outputs": [
    {
     "data": {
      "text/plain": [
       "1800"
      ]
     },
     "execution_count": 64,
     "metadata": {},
     "output_type": "execute_result"
    }
   ],
   "source": [
    "test.shape[0]"
   ]
  },
  {
   "cell_type": "code",
   "execution_count": 65,
   "metadata": {
    "collapsed": false,
    "deletable": true,
    "editable": true
   },
   "outputs": [],
   "source": [
    "dt2=[]\n",
    "for i in range(test.shape[0]):\n",
    "    test_pre = np.where(test[i][:,0]==1)[0]\n",
    "    test_post = np.where(test[i][:, 1]==1)[0]\n",
    "    if test_pre[0] < test_post[0]:   # Pre-post-post-pre\n",
    "        idx = np.arange(0,len(test_post),2)\n",
    "        test_post_1 = test_post[idx]\n",
    "        test_post_2 = test_post[idx+1]\n",
    "        dt2.append(np.mean(test_post_1-test_post_2))\n",
    "    else:   # Post-pre-pre-post\n",
    "        idx = np.arange(0,len(test_pre),2)\n",
    "        test_pre_1 = test_pre[idx]\n",
    "        test_pre_2 = test_pre[idx+1]\n",
    "        dt2.append(np.mean(test_pre_2-test_pre_1))"
   ]
  },
  {
   "cell_type": "code",
   "execution_count": 67,
   "metadata": {
    "collapsed": false,
    "deletable": true,
    "editable": true
   },
   "outputs": [
    {
     "data": {
      "text/plain": [
       "[<matplotlib.lines.Line2D at 0x7fea607b81d0>]"
      ]
     },
     "execution_count": 67,
     "metadata": {},
     "output_type": "execute_result"
    },
    {
     "data": {
      "image/png": "[encoded data removed]",
      "text/plain": [
       "<matplotlib.figure.Figure at 0x7fea20275780>"
      ]
     },
     "metadata": {},
     "output_type": "display_data"
    }
   ],
   "source": [
    "plt.plot(dt2, predictions_quad, 'o')"
   ]
  },
  {
   "cell_type": "code",
   "execution_count": null,
   "metadata": {
    "collapsed": false,
    "deletable": true,
    "editable": true
   },
   "outputs": [],
   "source": [
    "dt2[902]"
   ]
  },
  {
   "cell_type": "code",
   "execution_count": null,
   "metadata": {
    "collapsed": false,
    "deletable": true,
    "editable": true
   },
   "outputs": [],
   "source": [
    "np.where(predictions_quad>60)[0][2]"
   ]
  },
  {
   "cell_type": "code",
   "execution_count": null,
   "metadata": {
    "collapsed": false,
    "deletable": true,
    "editable": true
   },
   "outputs": [],
   "source": [
    "data_gen.iloc[len(data1_gen)*20:]"
   ]
  },
  {
   "cell_type": "markdown",
   "metadata": {
    "deletable": true,
    "editable": true
   },
   "source": [
    "Generate test restuls"
   ]
  },
  {
   "cell_type": "code",
   "execution_count": null,
   "metadata": {
    "collapsed": true,
    "deletable": true,
    "editable": true
   },
   "outputs": [],
   "source": [
    "ptl_list = [1]\n",
    "spk_len = int(data1_gen['train_len'].max() * 1000 / ker_test.reso_kernel)\n",
    "spk_pairs, predictions = arb_w_gen(spk_pairs=X_test, df=data1_gen, ptl_list=ptl_list, spk_len=spk_len, kernel=ker_test, aug_times=[20])"
   ]
  },
  {
   "cell_type": "code",
   "execution_count": null,
   "metadata": {
    "collapsed": true,
    "deletable": true,
    "editable": true
   },
   "outputs": [],
   "source": [
    "targets = y_test"
   ]
  },
  {
   "cell_type": "code",
   "execution_count": null,
   "metadata": {
    "collapsed": false,
    "deletable": true,
    "editable": true
   },
   "outputs": [],
   "source": [
    "# Calculate R square\n",
    "R2 = 1 - np.sum(np.square(predictions - targets))/np.sum(np.square(targets - np.mean(targets)))\n",
    "# Calculate correlation coefficient\n",
    "corr = np.sum(np.dot((predictions - np.mean(predictions)).T, targets - np.mean(targets)))/np.std(predictions)/np.std(targets)/len(targets)\n",
    "b1 = np.sum(np.dot((predictions - np.mean(predictions)).T, targets - np.mean(targets)))/np.sum(np.square(targets - np.mean(targets)))\n",
    "b2 = np.mean(predictions) - np.mean(targets)*b1\n",
    "x_fit = np.linspace(np.min(targets)-1, np.max(targets)+1, 100)\n",
    "y_fit = x_fit * b1 + b2\n",
    "plt.plot(x_fit, y_fit, 'k--')\n",
    "plt.plot(targets, predictions, 'ro')\n",
    "plt.xlabel('targets')\n",
    "plt.ylabel('predictions')\n",
    "plt.title(''.join(('R2=%.4f'%(R2), ', Corr=%.4f'%(corr))))"
   ]
  }
 ],
 "metadata": {
  "kernelspec": {
   "display_name": "Python 3",
   "language": "python",
   "name": "python3"
  },
  "language_info": {
   "codemirror_mode": {
    "name": "ipython",
    "version": 3
   },
   "file_extension": ".py",
   "mimetype": "text/x-python",
   "name": "python",
   "nbconvert_exporter": "python",
   "pygments_lexer": "ipython3",
   "version": "3.5.2"
  }
 },
 "nbformat": 4,
 "nbformat_minor": 2
}

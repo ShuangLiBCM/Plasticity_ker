{
 "cells": [
  {
   "cell_type": "markdown",
   "metadata": {
    "deletable": true,
    "editable": true
   },
   "source": [
    "Use the raw data to train and play with the regularization."
   ]
  },
  {
   "cell_type": "code",
   "execution_count": 1,
   "metadata": {
    "collapsed": false,
    "deletable": true,
    "editable": true
   },
   "outputs": [],
   "source": [
    "# Load libraries and modules\n",
    "import numpy as np\n",
    "import pandas as pd\n",
    "import matplotlib.pyplot as plt\n",
    "import seaborn as sns\n",
    "import tensorflow as tf\n",
    "from modelval import pairptl, network, trainer, dataset, data_aug_knn, perform_eval\n",
    "from modelval.ArbDataGen import arb_w_gen\n",
    "from modelval.spk_visu import spk_see, raster\n",
    "from modelval import gp_regressor\n",
    "from modelval import data_aug_gp\n",
    "from sklearn.model_selection import train_test_split\n",
    "\n",
    "import warnings\n",
    "warnings.filterwarnings('ignore')\n",
    "\n",
    "% matplotlib inline\n",
    "% load_ext autoreload\n",
    "% autoreload 2"
   ]
  },
  {
   "cell_type": "code",
   "execution_count": 2,
   "metadata": {
    "collapsed": false,
    "deletable": true,
    "editable": true
   },
   "outputs": [
    {
     "data": {
      "text/html": [
       "<div>\n",
       "<table border=\"1\" class=\"dataframe\">\n",
       "  <thead>\n",
       "    <tr style=\"text-align: right;\">\n",
       "      <th></th>\n",
       "      <th>ptl_idx</th>\n",
       "      <th>pre_spk_num</th>\n",
       "      <th>pre_spk_freq</th>\n",
       "      <th>post_spk_num</th>\n",
       "      <th>post_spk_freq</th>\n",
       "      <th>ptl_occ</th>\n",
       "      <th>ptl_freq</th>\n",
       "      <th>dt1</th>\n",
       "      <th>dt2</th>\n",
       "      <th>dt3</th>\n",
       "      <th>dw_mean</th>\n",
       "      <th>dw_ste</th>\n",
       "      <th>train_len</th>\n",
       "    </tr>\n",
       "  </thead>\n",
       "  <tbody>\n",
       "    <tr>\n",
       "      <th>0</th>\n",
       "      <td>1</td>\n",
       "      <td>1</td>\n",
       "      <td>0</td>\n",
       "      <td>1</td>\n",
       "      <td>0</td>\n",
       "      <td>60</td>\n",
       "      <td>1.0</td>\n",
       "      <td>-102.898046</td>\n",
       "      <td>0.0</td>\n",
       "      <td>0</td>\n",
       "      <td>-1.322590</td>\n",
       "      <td>0.0</td>\n",
       "      <td>60</td>\n",
       "    </tr>\n",
       "    <tr>\n",
       "      <th>1</th>\n",
       "      <td>1</td>\n",
       "      <td>1</td>\n",
       "      <td>0</td>\n",
       "      <td>1</td>\n",
       "      <td>0</td>\n",
       "      <td>60</td>\n",
       "      <td>1.0</td>\n",
       "      <td>-75.579896</td>\n",
       "      <td>0.0</td>\n",
       "      <td>0</td>\n",
       "      <td>2.674768</td>\n",
       "      <td>0.0</td>\n",
       "      <td>60</td>\n",
       "    </tr>\n",
       "    <tr>\n",
       "      <th>2</th>\n",
       "      <td>1</td>\n",
       "      <td>1</td>\n",
       "      <td>0</td>\n",
       "      <td>1</td>\n",
       "      <td>0</td>\n",
       "      <td>60</td>\n",
       "      <td>1.0</td>\n",
       "      <td>-80.871473</td>\n",
       "      <td>0.0</td>\n",
       "      <td>0</td>\n",
       "      <td>-12.696449</td>\n",
       "      <td>0.0</td>\n",
       "      <td>60</td>\n",
       "    </tr>\n",
       "    <tr>\n",
       "      <th>3</th>\n",
       "      <td>1</td>\n",
       "      <td>1</td>\n",
       "      <td>0</td>\n",
       "      <td>1</td>\n",
       "      <td>0</td>\n",
       "      <td>60</td>\n",
       "      <td>1.0</td>\n",
       "      <td>-67.562239</td>\n",
       "      <td>0.0</td>\n",
       "      <td>0</td>\n",
       "      <td>0.231446</td>\n",
       "      <td>0.0</td>\n",
       "      <td>60</td>\n",
       "    </tr>\n",
       "    <tr>\n",
       "      <th>4</th>\n",
       "      <td>1</td>\n",
       "      <td>1</td>\n",
       "      <td>0</td>\n",
       "      <td>1</td>\n",
       "      <td>0</td>\n",
       "      <td>60</td>\n",
       "      <td>1.0</td>\n",
       "      <td>-63.553410</td>\n",
       "      <td>0.0</td>\n",
       "      <td>0</td>\n",
       "      <td>-0.990216</td>\n",
       "      <td>0.0</td>\n",
       "      <td>60</td>\n",
       "    </tr>\n",
       "  </tbody>\n",
       "</table>\n",
       "</div>"
      ],
      "text/plain": [
       "   ptl_idx  pre_spk_num  pre_spk_freq  post_spk_num  post_spk_freq  ptl_occ  \\\n",
       "0        1            1             0             1              0       60   \n",
       "1        1            1             0             1              0       60   \n",
       "2        1            1             0             1              0       60   \n",
       "3        1            1             0             1              0       60   \n",
       "4        1            1             0             1              0       60   \n",
       "\n",
       "   ptl_freq         dt1  dt2  dt3    dw_mean  dw_ste  train_len  \n",
       "0       1.0 -102.898046  0.0    0  -1.322590     0.0         60  \n",
       "1       1.0  -75.579896  0.0    0   2.674768     0.0         60  \n",
       "2       1.0  -80.871473  0.0    0 -12.696449     0.0         60  \n",
       "3       1.0  -67.562239  0.0    0   0.231446     0.0         60  \n",
       "4       1.0  -63.553410  0.0    0  -0.990216     0.0         60  "
      ]
     },
     "execution_count": 2,
     "metadata": {},
     "output_type": "execute_result"
    }
   ],
   "source": [
    "# Load data frame\n",
    "data = pd.read_csv('/src/Plasticity_Ker/data/kernel_training_data_auto.csv')\n",
    "data.head()"
   ]
  },
  {
   "cell_type": "code",
   "execution_count": 3,
   "metadata": {
    "collapsed": false,
    "deletable": true,
    "editable": true
   },
   "outputs": [],
   "source": [
    "# Generate data for STDP\n",
    "data1 = data[data['ptl_idx']==1]\n",
    "\n",
    "# Split into training, testing and validation set\n",
    "np.random.seed(7)\n",
    "data1_idx = np.random.permutation(len(data1))\n",
    "len_test = int(len(data1) * 0.2)\n",
    "len_vali = int(len(data1) * 0.16)\n",
    "data_stdp_test = data1.iloc[data1_idx[:len_test]]\n",
    "y_stdp_test = np.array(data_stdp_test['dw_mean']).reshape(-1,1)\n",
    "data_stdp_vali = data1.iloc[data1_idx[len_test:len_test+len_vali]]\n",
    "y_stdp_vali = np.array(data_stdp_vali['dw_mean']).reshape(-1,1)\n",
    "data_stdp_train = data1.iloc[data1_idx[len_test+len_vali:]]\n",
    "y_stdp_train = np.array(data_stdp_train['dw_mean']).reshape(-1,1)"
   ]
  },
  {
   "cell_type": "code",
   "execution_count": 4,
   "metadata": {
    "collapsed": false,
    "deletable": true,
    "editable": true
   },
   "outputs": [
    {
     "data": {
      "text/plain": [
       "[-110, 110, -50, 110]"
      ]
     },
     "execution_count": 4,
     "metadata": {},
     "output_type": "execute_result"
    },
    {
     "data": {
      "image/png": "[encoded data removed]",
      "text/plain": [
       "<matplotlib.figure.Figure at 0x7f21843a2b38>"
      ]
     },
     "metadata": {},
     "output_type": "display_data"
    }
   ],
   "source": [
    "plt.plot(data_stdp_train['dt1'], y_stdp_train, 'o',label='train_data')\n",
    "plt.plot(data_stdp_vali['dt1'], y_stdp_vali, 'o',label='vali_data')\n",
    "plt.plot(data_stdp_test['dt1'],y_stdp_test, 'o', label='test_data')\n",
    "plt.legend(loc='upper left')\n",
    "plt.axis([-110,110,-50,110])"
   ]
  },
  {
   "cell_type": "code",
   "execution_count": 5,
   "metadata": {
    "collapsed": false,
    "deletable": true,
    "editable": true
   },
   "outputs": [
    {
     "data": {
      "text/plain": [
       "((29, 13), (29, 1), (7, 13), (7, 1), (9, 13), (9, 1))"
      ]
     },
     "execution_count": 5,
     "metadata": {},
     "output_type": "execute_result"
    }
   ],
   "source": [
    "data_stdp_train.shape, y_stdp_train.shape, data_stdp_vali.shape, y_stdp_vali.shape,data_stdp_test.shape, y_stdp_test.shape"
   ]
  },
  {
   "cell_type": "code",
   "execution_count": 6,
   "metadata": {
    "collapsed": false,
    "deletable": true,
    "editable": true
   },
   "outputs": [],
   "source": [
    "# Generate data for STDP\n",
    "data3 = data[data['ptl_idx']==3]\n",
    "\n",
    "# Split into training, testing and validation set\n",
    "np.random.seed(9)\n",
    "data3_idx = np.random.permutation(len(data3))\n",
    "len_test = int(len(data3) * 0.2)\n",
    "len_vali = int(len(data3) * 0.16)\n",
    "data_quad_test = data3.iloc[data3_idx[:len_test]]\n",
    "y_quad_test = np.array(data_quad_test['dw_mean']).reshape(-1,1)\n",
    "data_quad_vali = data3.iloc[data3_idx[len_test:len_test+len_vali]]\n",
    "y_quad_vali = np.array(data_quad_vali['dw_mean']).reshape(-1,1)\n",
    "data_quad_train = data3.iloc[data3_idx[len_test+len_vali:]]\n",
    "y_quad_train = np.array(data_quad_train['dw_mean']).reshape(-1,1)"
   ]
  },
  {
   "cell_type": "code",
   "execution_count": 7,
   "metadata": {
    "collapsed": false,
    "deletable": true,
    "editable": true
   },
   "outputs": [
    {
     "data": {
      "text/plain": [
       "<matplotlib.legend.Legend at 0x7f218227cb00>"
      ]
     },
     "execution_count": 7,
     "metadata": {},
     "output_type": "execute_result"
    },
    {
     "data": {
      "image/png": "[encoded data removed]",
      "text/plain": [
       "<matplotlib.figure.Figure at 0x7f21822fa470>"
      ]
     },
     "metadata": {},
     "output_type": "display_data"
    }
   ],
   "source": [
    "plt.plot(data_quad_train['dt2'], y_quad_train, 'o',label='train_data')\n",
    "plt.plot(data_quad_vali['dt2'], y_quad_vali, 'o',label='vali_data')\n",
    "plt.plot(data_quad_test['dt2'],y_quad_test, 'o', label='test_data')\n",
    "plt.legend(loc='upper left')\n"
   ]
  },
  {
   "cell_type": "code",
   "execution_count": 8,
   "metadata": {
    "collapsed": false,
    "deletable": true,
    "editable": true
   },
   "outputs": [
    {
     "data": {
      "text/plain": [
       "((39, 13), (39, 1), (9, 13), (9, 1), (12, 13), (12, 1))"
      ]
     },
     "execution_count": 8,
     "metadata": {},
     "output_type": "execute_result"
    }
   ],
   "source": [
    "data_quad_train.shape, y_quad_train.shape, data_quad_vali.shape, y_quad_vali.shape, data_quad_test.shape, y_quad_test.shape"
   ]
  },
  {
   "cell_type": "code",
   "execution_count": 9,
   "metadata": {
    "collapsed": false,
    "deletable": true,
    "editable": true
   },
   "outputs": [],
   "source": [
    "# Generate data for Triplet\n",
    "dt = np.array([-10, -5, 0, 5, 10]).reshape(-1,1)\n",
    "data_trip, y_trip, data_trip_test, y_trip_test = data_aug_gp.triplet_dw_gen(n_samples=1)\n",
    "\n",
    "# Split the triplet data into training and validation\n",
    "np.random.seed(10)\n",
    "idx = np.random.permutation(len(data_trip))\n",
    "data_trip_train = data_trip.iloc[idx[:int(len(data_trip)*0.8)]]\n",
    "y_trip_train = y_trip[idx[:int(len(data_trip)*0.8)]]\n",
    "data_trip_vali = data_trip.iloc[idx[int(len(data_trip)*0.8):]]\n",
    "y_trip_vali = y_trip[idx[int(len(data_trip)*0.8):]]"
   ]
  },
  {
   "cell_type": "code",
   "execution_count": 10,
   "metadata": {
    "collapsed": false,
    "deletable": true,
    "editable": true
   },
   "outputs": [
    {
     "data": {
      "text/plain": [
       "((6, 13), (2, 13), (11, 13))"
      ]
     },
     "execution_count": 10,
     "metadata": {},
     "output_type": "execute_result"
    }
   ],
   "source": [
    "data_trip_train.shape, data_trip_vali.shape, data_trip_test.shape"
   ]
  },
  {
   "cell_type": "code",
   "execution_count": 11,
   "metadata": {
    "collapsed": false,
    "deletable": true,
    "editable": true
   },
   "outputs": [],
   "source": [
    "# Combine data from stdp and quadruplet\n",
    "data_gen_train = pd.concat([data_stdp_train, data_trip_train, data_quad_train], axis=0)\n",
    "y_train = np.concatenate([y_stdp_train, y_trip_train, y_quad_train])\n",
    "data_gen_vali = pd.concat([data_stdp_vali, data_trip_vali, data_quad_vali], axis=0)\n",
    "y_vali = np.concatenate([y_stdp_vali, y_trip_vali, y_quad_vali])\n",
    "data_gen_test = pd.concat([data_stdp_test, data_trip_test, data_quad_test], axis=0)\n",
    "y_test = np.concatenate([y_stdp_test, y_trip_test, y_quad_test])"
   ]
  },
  {
   "cell_type": "code",
   "execution_count": 12,
   "metadata": {
    "collapsed": false,
    "deletable": true,
    "editable": true
   },
   "outputs": [
    {
     "data": {
      "text/plain": [
       "((74, 13), (74, 1), (18, 13), (18, 1))"
      ]
     },
     "execution_count": 12,
     "metadata": {},
     "output_type": "execute_result"
    }
   ],
   "source": [
    "data_gen_train.shape, y_train.shape, data_gen_vali.shape, y_vali.shape"
   ]
  },
  {
   "cell_type": "code",
   "execution_count": 13,
   "metadata": {
    "collapsed": false,
    "deletable": true,
    "editable": true
   },
   "outputs": [],
   "source": [
    "trip_para = pd.read_pickle('/src/Plasticity_Ker/data/Gerstner_trip_para_df')\n",
    "trip_para\n",
    "# Reorder columns to match parameter of the model\n",
    "trip_para = trip_para[['A2_+', 'A3_-', 'A2_-', 'A3_+', 'Tau_+', 'Tau_x', 'Tau_-', 'Tau_y']]\n",
    "\n",
    "# Visualize kernel\n",
    "from modelval.kernel import KernelGen\n",
    "ker_test = KernelGen()\n",
    "\n",
    "para = trip_para.loc[('Hippo_AlltoAll', 'Full'), :]\n",
    "a = para[:4].values\n",
    "tau = para[4:].values\n",
    "reso_set = 2\n",
    "tau_pre_post = tau[0]/reso_set  # ms\n",
    "tau_post_pre = tau[2]/reso_set # ms\n",
    "\n",
    "len_kernel = 101\n",
    "len_trip = 151\n",
    "ker_test = KernelGen(len_kernel=len_kernel, len_trip=len_trip)\n",
    "ker_test.trip_model_ker(para, data_name='Hippocampus')"
   ]
  },
  {
   "cell_type": "code",
   "execution_count": 14,
   "metadata": {
    "collapsed": false,
    "deletable": true,
    "editable": true
   },
   "outputs": [],
   "source": [
    "# Generat the spike trains and targets for STDP\n",
    "data_hippo = data[data['ptl_idx']<5]\n",
    "ptl_list = [1,2,3,4]\n",
    "spk_len = int(data_hippo['train_len'].max() * 1000 / ker_test.reso_kernel)\n",
    "if_noise = 1\n",
    "aug_times = [1,1,1,1]\n",
    "spk_pairs_train, targets_train = arb_w_gen(df=data_gen_train, ptl_list=ptl_list, targets=y_train, if_noise=if_noise, spk_len=spk_len, kernel=ker_test, net_type='triplet', aug_times=aug_times)\n",
    "spk_pairs_vali, targets_vali = arb_w_gen(df=data_gen_vali, ptl_list=ptl_list, targets=y_vali, if_noise=if_noise, spk_len=spk_len, kernel=ker_test, net_type='triplet', aug_times=aug_times)"
   ]
  },
  {
   "cell_type": "code",
   "execution_count": 15,
   "metadata": {
    "collapsed": false,
    "deletable": true,
    "editable": true
   },
   "outputs": [],
   "source": [
    "# Create the network\n",
    "ground_truth_init = 0\n",
    "reg_scale=(1,500,1000)\n",
    "init_seed=(4,5,6,7)\n",
    "\n",
    "toy_data_net = network.TripNet(kernel=ker_test, ground_truth_init=ground_truth_init, reg_scale=reg_scale, n_input=spk_pairs_train.shape[1])"
   ]
  },
  {
   "cell_type": "code",
   "execution_count": 16,
   "metadata": {
    "collapsed": false,
    "deletable": true,
    "editable": true
   },
   "outputs": [],
   "source": [
    "# Create the trainer\n",
    "save_dir= '/src/Plasticity_Ker/model/Trip_ptl1_4_real_raw_data'\n",
    "toy_net_trainer = trainer.Trainer(toy_data_net.mse, toy_data_net.loss, input_name=toy_data_net.inputs, target_name=toy_data_net.target, save_dir=save_dir, optimizer_config={'learning_rate': toy_data_net.lr})"
   ]
  },
  {
   "cell_type": "code",
   "execution_count": 17,
   "metadata": {
    "collapsed": false,
    "deletable": true,
    "editable": true
   },
   "outputs": [],
   "source": [
    "train_data = dataset.Dataset(spk_pairs_train, targets_train)\n",
    "vali_data = dataset.Dataset(spk_pairs_vali, targets_vali)"
   ]
  },
  {
   "cell_type": "code",
   "execution_count": 18,
   "metadata": {
    "collapsed": false,
    "deletable": true,
    "editable": true
   },
   "outputs": [
    {
     "name": "stdout",
     "output_type": "stream",
     "text": [
      "[-0.22614121 -0.27994752  0.95375919] 0.0\n"
     ]
    },
    {
     "data": {
      "image/png": "[encoded data removed]",
      "text/plain": [
       "<matplotlib.figure.Figure at 0x7f2182377ac8>"
      ]
     },
     "metadata": {},
     "output_type": "display_data"
    }
   ],
   "source": [
    "w_pre = toy_net_trainer.evaluate(ops=toy_data_net.kernel_pre)\n",
    "w_post = toy_net_trainer.evaluate(ops=toy_data_net.kernel_post)\n",
    "w_post_post = toy_net_trainer.evaluate(ops=toy_data_net.kernel_post_post)\n",
    "fc_w = toy_net_trainer.evaluate(ops=toy_data_net.fc_w)\n",
    "bias = toy_net_trainer.evaluate(ops=toy_data_net.bias)\n",
    "plt.plot(w_pre,  label='ker_pre_init')\n",
    "plt.plot(w_post,  label='ker_post_init')\n",
    "plt.plot(w_post_post,  label='ker_post_post_init')\n",
    "\n",
    "plt.legend()\n",
    "print(fc_w, bias)"
   ]
  },
  {
   "cell_type": "code",
   "execution_count": 19,
   "metadata": {
    "collapsed": false,
    "deletable": true,
    "editable": true,
    "scrolled": true
   },
   "outputs": [
    {
     "name": "stdout",
     "output_type": "stream",
     "text": [
      "\n",
      "Initial validation mse=1729.12756\n",
      "Global Step 0150 and Step 0150: validation mse=1624.09827\n",
      "Updated min validation loss!Saving model...\n",
      "Global Step 0200 and Step 0200: validation mse=1569.15845\n",
      "Updated min validation loss!Saving model...\n",
      "Global Step 0250 and Step 0250: validation mse=1508.75366\n",
      "Updated min validation loss!Saving model...\n",
      "Global Step 0300 and Step 0300: validation mse=1446.75708\n",
      "Updated min validation loss!Saving model...\n",
      "Global Step 0350 and Step 0350: validation mse=1385.90527\n",
      "Updated min validation loss!Saving model...\n",
      "Global Step 0400 and Step 0400: validation mse=1326.51904\n",
      "Updated min validation loss!Saving model...\n",
      "Global Step 0450 and Step 0450: validation mse=1268.76343\n",
      "Updated min validation loss!Saving model...\n",
      "Global Step 0500 and Step 0500: validation mse=1213.71704\n",
      "Updated min validation loss!Saving model...\n",
      "Global Step 0550 and Step 0550: validation mse=1162.57617\n",
      "Updated min validation loss!Saving model...\n",
      "Global Step 0600 and Step 0600: validation mse=1116.10059\n",
      "Updated min validation loss!Saving model...\n",
      "Global Step 0650 and Step 0650: validation mse=1074.52795\n",
      "Updated min validation loss!Saving model...\n",
      "Global Step 0700 and Step 0700: validation mse=1037.67993\n",
      "Updated min validation loss!Saving model...\n",
      "Global Step 0750 and Step 0750: validation mse=1005.11877\n",
      "Updated min validation loss!Saving model...\n",
      "Global Step 0800 and Step 0800: validation mse=976.29199\n",
      "Updated min validation loss!Saving model...\n",
      "Global Step 0850 and Step 0850: validation mse=950.64319\n",
      "Updated min validation loss!Saving model...\n",
      "Global Step 0900 and Step 0900: validation mse=927.67834\n",
      "Updated min validation loss!Saving model...\n",
      "Global Step 0950 and Step 0950: validation mse=907.00098\n",
      "Updated min validation loss!Saving model...\n",
      "Global Step 1000 and Step 1000: validation mse=888.31628\n",
      "Updated min validation loss!Saving model...\n",
      "Global Step 1050 and Step 1050: validation mse=871.41785\n",
      "Updated min validation loss!Saving model...\n",
      "Global Step 1100 and Step 1100: validation mse=856.16724\n",
      "Updated min validation loss!Saving model...\n",
      "Global Step 1150 and Step 1150: validation mse=842.46484\n",
      "Updated min validation loss!Saving model...\n",
      "Global Step 1200 and Step 1200: validation mse=830.22815\n",
      "Updated min validation loss!Saving model...\n",
      "Global Step 1250 and Step 1250: validation mse=819.37366\n",
      "Updated min validation loss!Saving model...\n",
      "Global Step 1300 and Step 1300: validation mse=809.80713\n",
      "Updated min validation loss!Saving model...\n",
      "Global Step 1350 and Step 1350: validation mse=801.41913\n",
      "Updated min validation loss!Saving model...\n",
      "Global Step 1400 and Step 1400: validation mse=794.08899\n",
      "Updated min validation loss!Saving model...\n",
      "Global Step 1450 and Step 1450: validation mse=787.68982\n",
      "Updated min validation loss!Saving model...\n",
      "Global Step 1500 and Step 1500: validation mse=782.09326\n",
      "Updated min validation loss!Saving model...\n",
      "Global Step 1550 and Step 1550: validation mse=777.17889\n",
      "Updated min validation loss!Saving model...\n",
      "Global Step 1600 and Step 1600: validation mse=772.83545\n",
      "Updated min validation loss!Saving model...\n",
      "Global Step 1650 and Step 1650: validation mse=768.96521\n",
      "Updated min validation loss!Saving model...\n",
      "Global Step 1700 and Step 1700: validation mse=765.48596\n",
      "Updated min validation loss!Saving model...\n",
      "Global Step 1750 and Step 1750: validation mse=762.32849\n",
      "Updated min validation loss!Saving model...\n",
      "Global Step 1800 and Step 1800: validation mse=759.43713\n",
      "Updated min validation loss!Saving model...\n",
      "Global Step 1850 and Step 1850: validation mse=756.76617\n",
      "Updated min validation loss!Saving model...\n",
      "Global Step 1900 and Step 1900: validation mse=754.28107\n",
      "Updated min validation loss!Saving model...\n",
      "Global Step 1950 and Step 1950: validation mse=751.95386\n",
      "Updated min validation loss!Saving model...\n",
      "Global Step 2000 and Step 2000: validation mse=749.76111\n",
      "Updated min validation loss!Saving model...\n",
      "Global Step 2050 and Step 2050: validation mse=747.68604\n",
      "Updated min validation loss!Saving model...\n",
      "Global Step 2100 and Step 2100: validation mse=745.71320\n",
      "Updated min validation loss!Saving model...\n",
      "Global Step 2150 and Step 2150: validation mse=743.83105\n",
      "Updated min validation loss!Saving model...\n",
      "Global Step 2200 and Step 2200: validation mse=742.02997\n",
      "Updated min validation loss!Saving model...\n",
      "Global Step 2250 and Step 2250: validation mse=740.30078\n",
      "Updated min validation loss!Saving model...\n",
      "Global Step 2300 and Step 2300: validation mse=738.63684\n",
      "Updated min validation loss!Saving model...\n",
      "Global Step 2350 and Step 2350: validation mse=737.03143\n",
      "Updated min validation loss!Saving model...\n",
      "Global Step 2400 and Step 2400: validation mse=735.47888\n",
      "Updated min validation loss!Saving model...\n",
      "Global Step 2450 and Step 2450: validation mse=733.97394\n",
      "Updated min validation loss!Saving model...\n",
      "Global Step 2500 and Step 2500: validation mse=732.51306\n",
      "Updated min validation loss!Saving model...\n",
      "Global Step 2550 and Step 2550: validation mse=731.09021\n",
      "Updated min validation loss!Saving model...\n",
      "Global Step 2600 and Step 2600: validation mse=729.70618\n",
      "Updated min validation loss!Saving model...\n",
      "Global Step 2650 and Step 2650: validation mse=728.35327\n",
      "Updated min validation loss!Saving model...\n",
      "Global Step 2700 and Step 2700: validation mse=727.03638\n",
      "Updated min validation loss!Saving model...\n",
      "Global Step 2750 and Step 2750: validation mse=725.73486\n",
      "Updated min validation loss!Saving model...\n",
      "Global Step 2800 and Step 2800: validation mse=724.46777\n",
      "Updated min validation loss!Saving model...\n",
      "Global Step 2850 and Step 2850: validation mse=723.23999\n",
      "Updated min validation loss!Saving model...\n",
      "Global Step 2900 and Step 2900: validation mse=721.99622\n",
      "Updated min validation loss!Saving model...\n",
      "Global Step 2950 and Step 2950: validation mse=720.77148\n",
      "Updated min validation loss!Saving model...\n",
      "Global Step 3000 and Step 3000: validation mse=719.62506\n",
      "Updated min validation loss!Saving model...\n",
      "Global Step 3050 and Step 3050: validation mse=718.58337\n",
      "Updated min validation loss!Saving model...\n",
      "Global Step 3100 and Step 3100: validation mse=717.33221\n",
      "Updated min validation loss!Saving model...\n",
      "Global Step 3150 and Step 3150: validation mse=716.21130\n",
      "Updated min validation loss!Saving model...\n",
      "Global Step 3200 and Step 3200: validation mse=715.32135\n",
      "Updated min validation loss!Saving model...\n",
      "Global Step 3250 and Step 3250: validation mse=714.05347\n",
      "Updated min validation loss!Saving model...\n",
      "Global Step 3300 and Step 3300: validation mse=712.98901\n",
      "Updated min validation loss!Saving model...\n",
      "Global Step 3350 and Step 3350: validation mse=711.96088\n",
      "Updated min validation loss!Saving model...\n",
      "Global Step 3400 and Step 3400: validation mse=710.90094\n",
      "Updated min validation loss!Saving model...\n",
      "Global Step 3450 and Step 3450: validation mse=709.96851\n",
      "Updated min validation loss!Saving model...\n",
      "Global Step 3500 and Step 3500: validation mse=709.02319\n",
      "Updated min validation loss!Saving model...\n",
      "Global Step 3550 and Step 3550: validation mse=708.21411\n",
      "Updated min validation loss!Saving model...\n",
      "Global Step 3600 and Step 3600: validation mse=707.22192\n",
      "Updated min validation loss!Saving model...\n",
      "Global Step 3650 and Step 3650: validation mse=706.20117\n",
      "Updated min validation loss!Saving model...\n",
      "Global Step 3700 and Step 3700: validation mse=705.54041\n",
      "Updated min validation loss!Saving model...\n",
      "Global Step 3750 and Step 3750: validation mse=704.72388\n",
      "Updated min validation loss!Saving model...\n",
      "Global Step 3800 and Step 3800: validation mse=703.82892\n",
      "Updated min validation loss!Saving model...\n",
      "Global Step 3850 and Step 3850: validation mse=703.21399\n",
      "Updated min validation loss!Saving model...\n",
      "Global Step 3900 and Step 3900: validation mse=702.56274\n",
      "Updated min validation loss!Saving model...\n",
      "Global Step 3950 and Step 3950: validation mse=701.91968\n",
      "Updated min validation loss!Saving model...\n",
      "Global Step 4000 and Step 4000: validation mse=701.55756\n",
      "Updated min validation loss!Saving model...\n",
      "Global Step 4050 and Step 4050: validation mse=700.74713\n",
      "Updated min validation loss!Saving model...\n",
      "Global Step 4100 and Step 4100: validation mse=700.25623\n",
      "Updated min validation loss!Saving model...\n",
      "Global Step 4150 and Step 4150: validation mse=699.79156\n",
      "Updated min validation loss!Saving model...\n",
      "Global Step 4200 and Step 4200: validation mse=699.36584\n",
      "Updated min validation loss!Saving model...\n",
      "Global Step 4250 and Step 4250: validation mse=699.04395\n",
      "Updated min validation loss!Saving model...\n",
      "Global Step 4300 and Step 4300: validation mse=698.68317\n",
      "Updated min validation loss!Saving model...\n",
      "Global Step 4350 and Step 4350: validation mse=698.41425\n",
      "Updated min validation loss!Saving model...\n",
      "Global Step 4400 and Step 4400: validation mse=698.11108\n",
      "Updated min validation loss!Saving model...\n",
      "Global Step 4450 and Step 4450: validation mse=698.03125\n",
      "Updated min validation loss!Saving model...\n",
      "Global Step 4500 and Step 4500: validation mse=697.93060\n",
      "Updated min validation loss!Saving model...\n",
      "Global Step 4550 and Step 4550: validation mse=697.86646\n",
      "Updated min validation loss!Saving model...\n",
      "Global Step 4600 and Step 4600: validation mse=697.84937\n",
      "Updated min validation loss!Saving model...\n",
      "Global Step 4650 and Step 4650: validation mse=697.93628\n",
      "Global Step 4700 and Step 4700: validation mse=698.04895\n",
      "Global Step 4750 and Step 4750: validation mse=698.29614\n",
      "Global Step 4800 and Step 4800: validation mse=698.45947\n",
      "Global Step 4850 and Step 4850: validation mse=698.76630\n",
      "Global Step 4900 and Step 4900: validation mse=699.06543\n",
      "Global Step 4950 and Step 4950: validation mse=699.49420\n",
      "Global Step 5000 and Step 5000: validation mse=700.04297\n",
      "Global Step 5050 and Step 5050: validation mse=700.72253\n",
      "Global Step 5100 and Step 5100: validation mse=701.24023\n",
      "Global Step 5150 and Step 5150: validation mse=701.93213\n",
      "Global Step 5200 and Step 5200: validation mse=702.70679\n",
      "Global Step 5250 and Step 5250: validation mse=703.67004\n",
      "Global Step 5300 and Step 5300: validation mse=704.47607\n",
      "Global Step 5350 and Step 5350: validation mse=705.49146\n",
      "Early Stopping!!!\n",
      "Restoring the best parameters...\n",
      "Global Step 5400 and Step 0050: validation mse=697.89227\n",
      "Global Step 5450 and Step 0100: validation mse=697.91187\n",
      "Global Step 5500 and Step 0150: validation mse=697.93982\n",
      "Global Step 5550 and Step 0200: validation mse=697.97461\n",
      "Global Step 5600 and Step 0250: validation mse=698.01636\n",
      "Global Step 5650 and Step 0300: validation mse=698.06531\n",
      "Global Step 5700 and Step 0350: validation mse=698.12207\n",
      "Global Step 5750 and Step 0400: validation mse=698.18750\n",
      "Global Step 5800 and Step 0450: validation mse=698.26117\n",
      "Global Step 5850 and Step 0500: validation mse=698.34399\n",
      "Global Step 5900 and Step 0550: validation mse=698.43652\n",
      "Global Step 5950 and Step 0600: validation mse=698.53870\n",
      "Global Step 6000 and Step 0650: validation mse=698.65076\n",
      "Global Step 6050 and Step 0700: validation mse=698.77356\n",
      "Global Step 6100 and Step 0750: validation mse=698.90759\n",
      "Early Stopping!!!\n",
      "Restoring the best parameters...\n",
      "Global Step 6150 and Step 0050: validation mse=697.88031\n",
      "Global Step 6200 and Step 0100: validation mse=697.88599\n",
      "Global Step 6250 and Step 0150: validation mse=697.89252\n",
      "Global Step 6300 and Step 0200: validation mse=697.90027\n",
      "Global Step 6350 and Step 0250: validation mse=697.90869\n",
      "Global Step 6400 and Step 0300: validation mse=697.91797\n",
      "Global Step 6450 and Step 0350: validation mse=697.92822\n",
      "Global Step 6500 and Step 0400: validation mse=697.93909\n",
      "Global Step 6550 and Step 0450: validation mse=697.95093\n",
      "Global Step 6600 and Step 0500: validation mse=697.96399\n",
      "Global Step 6650 and Step 0550: validation mse=697.97766\n",
      "Global Step 6700 and Step 0600: validation mse=697.99255\n",
      "Global Step 6750 and Step 0650: validation mse=698.00818\n",
      "Global Step 6800 and Step 0700: validation mse=698.02539\n",
      "Global Step 6850 and Step 0750: validation mse=698.04376\n",
      "Early Stopping!!!\n",
      "Restoring the best parameters...\n",
      "Global Step 6900 and Step 0050: validation mse=697.87592\n",
      "Global Step 6950 and Step 0100: validation mse=697.87915\n",
      "Global Step 7000 and Step 0150: validation mse=697.88123\n",
      "Global Step 7050 and Step 0200: validation mse=697.88367\n",
      "Global Step 7100 and Step 0250: validation mse=697.88647\n",
      "Global Step 7150 and Step 0300: validation mse=697.88940\n",
      "Global Step 7200 and Step 0350: validation mse=697.89233\n",
      "Global Step 7250 and Step 0400: validation mse=697.89600\n",
      "Global Step 7300 and Step 0450: validation mse=697.89960\n",
      "Global Step 7350 and Step 0500: validation mse=697.90381\n",
      "Global Step 7400 and Step 0550: validation mse=697.90771\n",
      "Global Step 7450 and Step 0600: validation mse=697.91199\n",
      "Global Step 7500 and Step 0650: validation mse=697.91663\n",
      "Global Step 7550 and Step 0700: validation mse=697.92163\n",
      "Global Step 7600 and Step 0750: validation mse=697.92627\n",
      "Early Stopping!!!\n",
      "Restoring the best parameters...\n",
      "Global Step 7650 and Step 0050: validation mse=697.87866\n",
      "Global Step 7700 and Step 0100: validation mse=697.87842\n",
      "Global Step 7750 and Step 0150: validation mse=697.87878\n",
      "Global Step 7800 and Step 0200: validation mse=697.87970\n",
      "Global Step 7850 and Step 0250: validation mse=697.87976\n",
      "Global Step 7900 and Step 0300: validation mse=697.88086\n",
      "Global Step 7950 and Step 0350: validation mse=697.88239\n",
      "Global Step 8000 and Step 0400: validation mse=697.88416\n",
      "Global Step 8050 and Step 0450: validation mse=697.88617\n",
      "Global Step 8100 and Step 0500: validation mse=697.88666\n",
      "Global Step 8150 and Step 0550: validation mse=697.88843\n",
      "Global Step 8200 and Step 0600: validation mse=697.88965\n",
      "Global Step 8250 and Step 0650: validation mse=697.89246\n",
      "Global Step 8300 and Step 0700: validation mse=697.89465\n",
      "Global Step 8350 and Step 0750: validation mse=697.89703\n",
      "Early Stopping!!!\n",
      "Restoring the best parameters...\n"
     ]
    }
   ],
   "source": [
    "# Learn the kernel from random initialization\n",
    "learning_rate = 0.001\n",
    "iterations = 5\n",
    "min_error = -1\n",
    "for i in range(iterations):\n",
    "    toy_net_trainer.train(train_data, vali_data, batch_size=128, min_error=min_error, feed_dict={toy_data_net.lr: learning_rate})\n",
    "    learning_rate = learning_rate/3"
   ]
  },
  {
   "cell_type": "code",
   "execution_count": 20,
   "metadata": {
    "collapsed": false,
    "deletable": true,
    "editable": true,
    "scrolled": true
   },
   "outputs": [
    {
     "name": "stdout",
     "output_type": "stream",
     "text": [
      "[array([-2.66328478, -3.38343   ,  5.56901121], dtype=float32), 2.0763133]\n"
     ]
    },
    {
     "data": {
      "image/png": "[encoded data removed]",
      "text/plain": [
       "<matplotlib.figure.Figure at 0x7f21786593c8>"
      ]
     },
     "metadata": {},
     "output_type": "display_data"
    }
   ],
   "source": [
    "toy_net_trainer.restore_best()\n",
    "w_pre = toy_net_trainer.evaluate(ops=toy_data_net.kernel_pre)\n",
    "w_post = toy_net_trainer.evaluate(ops=toy_data_net.kernel_post)\n",
    "w_post_post = toy_net_trainer.evaluate(ops=toy_data_net.kernel_post_post)\n",
    "fc_w = toy_net_trainer.evaluate(ops=toy_data_net.fc_w)\n",
    "bias = toy_net_trainer.evaluate(ops=toy_data_net.bias)\n",
    "plt.plot(-1*w_pre, label='ker_pre_trained')\n",
    "plt.plot(-1*w_post, label='ker_post_trained')\n",
    "plt.plot(w_post_post, label='ker_post_post_trained')\n",
    "plt.legend()\n",
    "print([fc_w, bias])"
   ]
  },
  {
   "cell_type": "code",
   "execution_count": 21,
   "metadata": {
    "collapsed": true
   },
   "outputs": [],
   "source": [
    "def kernel_hp2(w, len=11):\n",
    "    \"\"\"\n",
    "    Use the hamming filter to detect the frequency range that you want to eliminate\n",
    "    :param w:\n",
    "    :return:\n",
    "    \"\"\"\n",
    "    window = signal.hamming(len)\n",
    "    hp_ker2 = tf.constant(window / np.sum(window), shape=(len, 1), dtype=tf.float32)\n",
    "    w_out = w - tf.nn.conv1d(tf.expand_dims(input=w, axis=0), tf.expand_dims(hp_ker2, axis=2),\n",
    "                         stride=1, padding='SAME')\n",
    "    return w_out"
   ]
  },
  {
   "cell_type": "code",
   "execution_count": 22,
   "metadata": {
    "collapsed": false
   },
   "outputs": [
    {
     "data": {
      "text/plain": [
       "[<matplotlib.lines.Line2D at 0x7f2171fec4e0>]"
      ]
     },
     "execution_count": 22,
     "metadata": {},
     "output_type": "execute_result"
    },
    {
     "data": {
      "image/png": "[encoded data removed]",
      "text/plain": [
       "<matplotlib.figure.Figure at 0x7f2171fec0f0>"
      ]
     },
     "metadata": {},
     "output_type": "display_data"
    }
   ],
   "source": [
    "from scipy import signal\n",
    "\n",
    "with tf.Graph().as_default():\n",
    "    window = signal.hamming(11)\n",
    "    w = tf.constant(w_post_post, dtype=tf.float32)\n",
    "    \n",
    "    w_hp = kernel_hp2(w, len=11)\n",
    "    \n",
    "    with tf.Session() as sess:\n",
    "        sess.run(tf.global_variables_initializer())\n",
    "        window_inst = sess.run(w_hp)\n",
    "    \n",
    "plt.plot(np.squeeze(window_inst))\n",
    "plt.plot(w_post_post)"
   ]
  },
  {
   "cell_type": "code",
   "execution_count": 23,
   "metadata": {
    "collapsed": false,
    "deletable": true,
    "editable": true
   },
   "outputs": [],
   "source": [
    "# # Test effect of smoothed kernel\n",
    "# w_pre_sm = w_pre\n",
    "# w_post_sm = w_post \n",
    "# w_post_post_sm = w_post_post\n",
    "# w_pre_sm[:50] = dw_gen.smooth(w_pre[:50], width=2)\n",
    "# w_post_sm[:48] = dw_gen.smooth(w_post[:48], width=2)\n",
    "# w_post_post_sm[:49] = dw_gen.smooth(w_post_post[:49], width=3)\n",
    "\n",
    "# plt.plot(-1 * w_pre_sm)\n",
    "# plt.plot(-1 * w_post_sm)\n",
    "# plt.plot(-1*w_post_post_sm)\n",
    "\n",
    "# ker_test.kernel_pre = w_pre_sm\n",
    "# ker_test.kernel_post = w_post_sm\n",
    "# ker_test.kernel_post_post= w_post_post_sm\n",
    "# ker_test.kernel_scale = fc_w\n",
    "# ker_test.bias = bias"
   ]
  },
  {
   "cell_type": "markdown",
   "metadata": {
    "collapsed": true,
    "deletable": true,
    "editable": true
   },
   "source": [
    "Compare the target and prediction"
   ]
  },
  {
   "cell_type": "code",
   "execution_count": 24,
   "metadata": {
    "collapsed": false,
    "deletable": true,
    "editable": true
   },
   "outputs": [],
   "source": [
    "# Updated the kernel as trained kernel\n",
    "ker_test.kernel_pre = w_pre\n",
    "ker_test.kernel_post = w_post\n",
    "ker_test.kernel_post_post= w_post_post\n",
    "ker_test.kernel_scale = fc_w\n",
    "ker_test.bias = bias"
   ]
  },
  {
   "cell_type": "code",
   "execution_count": 25,
   "metadata": {
    "collapsed": false,
    "deletable": true,
    "editable": true
   },
   "outputs": [
    {
     "data": {
      "text/plain": [
       "<matplotlib.legend.Legend at 0x7f2144341eb8>"
      ]
     },
     "execution_count": 25,
     "metadata": {},
     "output_type": "execute_result"
    },
    {
     "data": {
      "image/png": "[encoded data removed]",
      "text/plain": [
       "<matplotlib.figure.Figure at 0x7f2171fe3cf8>"
      ]
     },
     "metadata": {},
     "output_type": "display_data"
    }
   ],
   "source": [
    "# Generate training predictions\n",
    "spk_len = int(data['train_len'].max() * 1000 / ker_test.reso_kernel)\n",
    "_, predictions_train = arb_w_gen(spk_pairs=spk_pairs_train, spk_len=spk_len, kernel=ker_test, net_type='triplet')\n",
    "\n",
    "ptl_len = np.array([29,3,39,3])\n",
    "rep_time = np.array([1,1,1,1])\n",
    "ptl_len, targets_out, predictions_out = data_aug_knn.target_pred_gen(targets_train, predictions_train, ptl_len, rep_time)\n",
    "\n",
    "# Calculate the total sum of squares\n",
    "R2 = 1 - np.sum(np.square(predictions_train-targets_train))/(np.square(np.std(targets_train))*(len(targets_train)-1))\n",
    "\n",
    "plt.plot(np.linspace(-30,50,80), np.linspace(-30,50,80),'k--')\n",
    "ptl_type = ['stdp', 'trip1', 'quad','trip2']\n",
    "for i in range(len(ptl_len)):\n",
    "    plt.plot(targets_out[i], predictions_out[i],'o', label=ptl_type[i])\n",
    "\n",
    "plt.title('Training data (R2=%0.2f)'%(R2))\n",
    "plt.legend()"
   ]
  },
  {
   "cell_type": "code",
   "execution_count": 26,
   "metadata": {
    "collapsed": false,
    "deletable": true,
    "editable": true
   },
   "outputs": [
    {
     "data": {
      "text/plain": [
       "<matplotlib.legend.Legend at 0x7f213810f828>"
      ]
     },
     "execution_count": 26,
     "metadata": {},
     "output_type": "execute_result"
    },
    {
     "data": {
      "image/png": "[encoded data removed]",
      "text/plain": [
       "<matplotlib.figure.Figure at 0x7f214413dcc0>"
      ]
     },
     "metadata": {},
     "output_type": "display_data"
    }
   ],
   "source": [
    "# Generate validation predictions\n",
    "spk_len = int(data['train_len'].max() * 1000 / ker_test.reso_kernel)\n",
    "_, predictions_vali = arb_w_gen(spk_pairs=spk_pairs_vali, spk_len=spk_len, kernel=ker_test, net_type='triplet')\n",
    "\n",
    "ptl_len = np.array([7,1,9,1])\n",
    "rep_time = np.array([1,1,1,1])\n",
    "ptl_len, targets_out, predictions_out = data_aug_knn.target_pred_gen(targets_vali, predictions_vali, ptl_len, rep_time)\n",
    "\n",
    "# Calculate the total sum of squares\n",
    "R2 = 1 - np.sum(np.square(predictions_vali-targets_vali))/(np.square(np.std(targets_vali))*(len(targets_vali)-1))\n",
    "corr = np.sqrt(R2)\n",
    "\n",
    "plt.plot(np.linspace(-30,50,80), np.linspace(-30,50,80),'k--')\n",
    "ptl_type = ['stdp', 'trip1', 'quad','trip2']\n",
    "for i in range(len(ptl_len)):\n",
    "    plt.plot(targets_out[i], predictions_out[i],'o', label=ptl_type[i])\n",
    "\n",
    "plt.title('Validation data (R2=%0.2f)'%(R2))\n",
    "plt.legend()"
   ]
  },
  {
   "cell_type": "code",
   "execution_count": 27,
   "metadata": {
    "collapsed": false,
    "deletable": true,
    "editable": true
   },
   "outputs": [],
   "source": [
    "# Generat the spike trains and targets for STDP\n",
    "data3 = data[data['ptl_idx']==3]\n",
    "ptl_list = [1,2,3,4]\n",
    "spk_len = int(data3['train_len'].max() * 1000 / ker_test.reso_kernel)\n",
    "if_noise = 0\n",
    "aug_times = [1,1,1,1]\n",
    "spk_pairs_test, targets_test = arb_w_gen(df=data_gen_test, ptl_list=ptl_list, targets=y_test, if_noise=if_noise, spk_len=spk_len, kernel=ker_test, net_type='triplet', aug_times=aug_times)"
   ]
  },
  {
   "cell_type": "code",
   "execution_count": 28,
   "metadata": {
    "collapsed": false,
    "deletable": true,
    "editable": true
   },
   "outputs": [
    {
     "data": {
      "text/plain": [
       "<matplotlib.legend.Legend at 0x7f2144119c88>"
      ]
     },
     "execution_count": 28,
     "metadata": {},
     "output_type": "execute_result"
    },
    {
     "data": {
      "image/png": "[encoded data removed]",
      "text/plain": [
       "<matplotlib.figure.Figure at 0x7f2171f73208>"
      ]
     },
     "metadata": {},
     "output_type": "display_data"
    }
   ],
   "source": [
    "# Generate test predictions\n",
    "spk_len = int(data['train_len'].max() * 1000 / ker_test.reso_kernel)\n",
    "_, predictions_test = arb_w_gen(spk_pairs=spk_pairs_test, spk_len=spk_len, kernel=ker_test, net_type='triplet')\n",
    "\n",
    "ptl_len = np.array([12,7,18,4])\n",
    "rep_time = np.array([1,1,1,1])\n",
    "ptl_len, targets_out, predictions_out = data_aug_knn.target_pred_gen(targets_test, predictions_test, ptl_len, rep_time)\n",
    "\n",
    "# Calculate the total sum of squares\n",
    "R2 = 1 - np.sum(np.square(predictions_test-targets_test))/(np.square(np.std(targets_test))*(len(targets_test)-1))\n",
    "corr = np.sqrt(R2)\n",
    "\n",
    "plt.plot(np.linspace(-30,50,80), np.linspace(-30,50,80),'k--')\n",
    "ptl_type = ['stdp', 'trip1', 'quad','trip2']\n",
    "for i in range(len(ptl_len)):\n",
    "    plt.plot(targets_out[i], predictions_out[i],'o', label=ptl_type[i])\n",
    "\n",
    "plt.title('Testing data (R2=%0.2f)'%(R2))\n",
    "plt.legend()"
   ]
  },
  {
   "cell_type": "code",
   "execution_count": null,
   "metadata": {
    "collapsed": true,
    "deletable": true,
    "editable": true
   },
   "outputs": [],
   "source": []
  }
 ],
 "metadata": {
  "kernelspec": {
   "display_name": "Python 3",
   "language": "python",
   "name": "python3"
  },
  "language_info": {
   "codemirror_mode": {
    "name": "ipython",
    "version": 3
   },
   "file_extension": ".py",
   "mimetype": "text/x-python",
   "name": "python",
   "nbconvert_exporter": "python",
   "pygments_lexer": "ipython3",
   "version": "3.5.2"
  }
 },
 "nbformat": 4,
 "nbformat_minor": 2
}

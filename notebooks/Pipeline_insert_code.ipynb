{
 "cells": [
  {
   "cell_type": "code",
   "execution_count": null,
   "metadata": {
    "collapsed": true,
    "deletable": true,
    "editable": true
   },
   "outputs": [],
   "source": [
    "data = pd.read_csv('/src/Plasticity_Ker/data/kernel_training_data_auto.csv')\n",
    "key_list = list(data.keys())\n",
    "\n",
    "for i in range(data.shape[0]):\n",
    "    key = {}\n",
    "    key['ptl_index'] = i+1\n",
    "    for keyword in key_list:\n",
    "        key[keyword] = data.iloc[i][keyword]\n",
    "    Protocol.insert1(key, skip_duplicates=True)\n"
   ]
  },
  {
   "cell_type": "code",
   "execution_count": null,
   "metadata": {
    "collapsed": true
   },
   "outputs": [],
   "source": [
    "para = trip_para.loc[('Visu_NearestSpk', 'Full'), :]\n",
    "key_list = ['a_fast', 'a_slow', 'a_fast_', 'a_slow_', 'tau_fast', 'tau_slow', 'tau_fast_', 'tau_slow_']\n",
    "\n",
    "key_list2 = list(para.keys())\n",
    "\n",
    "for i in range(1):\n",
    "    key = {}\n",
    "    key['kernel_id'] = i+4\n",
    "    for j in range(len(key_list)):\n",
    "        key[key_list[j]] = para[key_list2[j]]\n",
    "    pipe.Kernel.insert1(key, skip_duplicates=True)"
   ]
  }
 ],
 "metadata": {
  "kernelspec": {
   "display_name": "Python 3",
   "language": "python",
   "name": "python3"
  },
  "language_info": {
   "codemirror_mode": {
    "name": "ipython",
    "version": 3
   },
   "file_extension": ".py",
   "mimetype": "text/x-python",
   "name": "python",
   "nbconvert_exporter": "python",
   "pygments_lexer": "ipython3",
   "version": "3.5.2"
  }
 },
 "nbformat": 4,
 "nbformat_minor": 2
}

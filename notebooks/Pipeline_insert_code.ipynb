{
 "cells": [
  {
   "cell_type": "code",
   "execution_count": null,
   "metadata": {
    "collapsed": true,
    "deletable": true,
    "editable": true
   },
   "outputs": [],
   "source": [
    "data = pd.read_csv('/src/Plasticity_Ker/data/kernel_training_data_auto.csv')\n",
    "key_list = list(data.keys())\n",
    "\n",
    "for i in range(data.shape[0]):\n",
    "    key = {}\n",
    "    key['ptl_index'] = i+1\n",
    "    for keyword in key_list:\n",
    "        key[keyword] = data.iloc[i][keyword]\n",
    "    Protocol.insert1(key, skip_duplicates=True)\n"
   ]
  },
  {
   "cell_type": "code",
   "execution_count": null,
   "metadata": {
    "collapsed": true,
    "deletable": true,
    "editable": true
   },
   "outputs": [],
   "source": [
    "para = trip_para.loc[('Visu_NearestSpk', 'Full'), :]\n",
    "key_list = ['a_fast', 'a_slow', 'a_fast_', 'a_slow_', 'tau_fast', 'tau_slow', 'tau_fast_', 'tau_slow_']\n",
    "\n",
    "key_list2 = list(para.keys())\n",
    "\n",
    "for i in range(1):\n",
    "    key = {}\n",
    "    key['kernel_id'] = i+4\n",
    "    for j in range(len(key_list)):\n",
    "        key[key_list[j]] = para[key_list2[j]]\n",
    "    pipe.Kernel.insert1(key, skip_duplicates=True)"
   ]
  },
  {
   "cell_type": "code",
   "execution_count": 1,
   "metadata": {
    "collapsed": false
   },
   "outputs": [
    {
     "ename": "NameError",
     "evalue": "name 'ker_test' is not defined",
     "output_type": "error",
     "traceback": [
      "\u001b[0;31m---------------------------------------------------------------------------\u001b[0m",
      "\u001b[0;31mNameError\u001b[0m                                 Traceback (most recent call last)",
      "\u001b[0;32m<ipython-input-1-f370c2d3b698>\u001b[0m in \u001b[0;36m<module>\u001b[0;34m()\u001b[0m\n\u001b[1;32m      1\u001b[0m \u001b[0;31m# Generate test predictions\u001b[0m\u001b[0;34m\u001b[0m\u001b[0;34m\u001b[0m\u001b[0m\n\u001b[0;32m----> 2\u001b[0;31m \u001b[0mker_test\u001b[0m\u001b[0;34m.\u001b[0m\u001b[0mlen_kernel\u001b[0m \u001b[0;34m=\u001b[0m \u001b[0;36m101\u001b[0m\u001b[0;34m\u001b[0m\u001b[0m\n\u001b[0m\u001b[1;32m      3\u001b[0m \u001b[0mker_test\u001b[0m\u001b[0;34m.\u001b[0m\u001b[0mlen_trip\u001b[0m \u001b[0;34m=\u001b[0m \u001b[0;36m151\u001b[0m\u001b[0;34m\u001b[0m\u001b[0m\n\u001b[1;32m      4\u001b[0m \u001b[0;34m\u001b[0m\u001b[0m\n\u001b[1;32m      5\u001b[0m \u001b[0my_test\u001b[0m \u001b[0;34m=\u001b[0m \u001b[0my_vali\u001b[0m\u001b[0;34m[\u001b[0m\u001b[0;36m0\u001b[0m\u001b[0;34m]\u001b[0m\u001b[0;34m\u001b[0m\u001b[0m\n",
      "\u001b[0;31mNameError\u001b[0m: name 'ker_test' is not defined"
     ]
    }
   ],
   "source": [
    "# Generate test predictions\n",
    "ker_test.len_kernel = 101\n",
    "ker_test.len_trip = 151\n",
    "\n",
    "y_test = y_vali[0]\n",
    "\n",
    "_, predictions_test = arb_w_gen(spk_pairs=spk_pairs_test, spk_len=spk_len, kernel=ker_test, net_type='triplet')\n",
    "\n",
    "ptl_len = np.array([9,6,12,4])\n",
    "rep_time = np.array([1,1,1,1])\n",
    "\n",
    "ptl_len, targets_out, predictions_out = data_aug_gp.target_pred_gen(y_test, predictions_test, ptl_len, rep_time)\n",
    "\n",
    "plt.plot(predictions_test, y_test, 'o')\n",
    "# Calculate the total sum of squares\n",
    "R2 = 1 - np.sum(np.square(predictions_test-y_test))/(np.square(np.std(y_test))*(len(y_test)-1))\n",
    "corr = np.sqrt(R2)\n",
    "\n",
    "plt.plot(np.linspace(-30,50,80), np.linspace(-30,50,80),'k--')\n",
    "ptl_type = ['stdp', 'trip1', 'quad','trip2']\n",
    "for i in range(len(ptl_len)):\n",
    "    plt.plot(y_test[i].T, predictions_test[i].T,'o', label=ptl_type[i])\n",
    "\n",
    "plt.title('Testing data (R2=%0.2f)'%(R2))\n",
    "plt.legend()"
   ]
  },
  {
   "cell_type": "code",
   "execution_count": null,
   "metadata": {
    "collapsed": true
   },
   "outputs": [],
   "source": []
  }
 ],
 "metadata": {
  "kernelspec": {
   "display_name": "Python 3",
   "language": "python",
   "name": "python3"
  },
  "language_info": {
   "codemirror_mode": {
    "name": "ipython",
    "version": 3
   },
   "file_extension": ".py",
   "mimetype": "text/x-python",
   "name": "python",
   "nbconvert_exporter": "python",
   "pygments_lexer": "ipython3",
   "version": "3.5.2"
  }
 },
 "nbformat": 4,
 "nbformat_minor": 2
}

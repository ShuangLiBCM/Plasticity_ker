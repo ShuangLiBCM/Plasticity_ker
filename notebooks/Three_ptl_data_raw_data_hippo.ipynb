{
 "cells": [
  {
   "cell_type": "markdown",
   "metadata": {
    "deletable": true,
    "editable": true
   },
   "source": [
    "Use the raw data to train and play with the regularization."
   ]
  },
  {
   "cell_type": "code",
   "execution_count": 1,
   "metadata": {
    "collapsed": false,
    "deletable": true,
    "editable": true
   },
   "outputs": [],
   "source": [
    "# Load libraries and modules\n",
    "import numpy as np\n",
    "import pandas as pd\n",
    "import matplotlib.pyplot as plt\n",
    "import seaborn as sns\n",
    "import tensorflow as tf\n",
    "from modelval import pairptl, network, trainer, dataset, data_aug_knn, perform_eval\n",
    "from modelval.ArbDataGen import arb_w_gen\n",
    "from modelval.spk_visu import spk_see, raster\n",
    "from modelval import gp_regressor\n",
    "from modelval import data_aug_gp\n",
    "from sklearn.model_selection import train_test_split\n",
    "\n",
    "import warnings\n",
    "warnings.filterwarnings('ignore')\n",
    "\n",
    "% matplotlib inline\n",
    "% load_ext autoreload\n",
    "% autoreload 2"
   ]
  },
  {
   "cell_type": "code",
   "execution_count": 2,
   "metadata": {
    "collapsed": false,
    "deletable": true,
    "editable": true
   },
   "outputs": [
    {
     "data": {
      "text/html": [
       "<div>\n",
       "<table border=\"1\" class=\"dataframe\">\n",
       "  <thead>\n",
       "    <tr style=\"text-align: right;\">\n",
       "      <th></th>\n",
       "      <th>ptl_idx</th>\n",
       "      <th>pre_spk_num</th>\n",
       "      <th>pre_spk_freq</th>\n",
       "      <th>post_spk_num</th>\n",
       "      <th>post_spk_freq</th>\n",
       "      <th>ptl_occ</th>\n",
       "      <th>ptl_freq</th>\n",
       "      <th>dt1</th>\n",
       "      <th>dt2</th>\n",
       "      <th>dt3</th>\n",
       "      <th>dw_mean</th>\n",
       "      <th>dw_ste</th>\n",
       "      <th>train_len</th>\n",
       "    </tr>\n",
       "  </thead>\n",
       "  <tbody>\n",
       "    <tr>\n",
       "      <th>0</th>\n",
       "      <td>1</td>\n",
       "      <td>1</td>\n",
       "      <td>0</td>\n",
       "      <td>1</td>\n",
       "      <td>0</td>\n",
       "      <td>60</td>\n",
       "      <td>1.0</td>\n",
       "      <td>-102.898046</td>\n",
       "      <td>0.0</td>\n",
       "      <td>0</td>\n",
       "      <td>-1.322590</td>\n",
       "      <td>0.0</td>\n",
       "      <td>60</td>\n",
       "    </tr>\n",
       "    <tr>\n",
       "      <th>1</th>\n",
       "      <td>1</td>\n",
       "      <td>1</td>\n",
       "      <td>0</td>\n",
       "      <td>1</td>\n",
       "      <td>0</td>\n",
       "      <td>60</td>\n",
       "      <td>1.0</td>\n",
       "      <td>-75.579896</td>\n",
       "      <td>0.0</td>\n",
       "      <td>0</td>\n",
       "      <td>2.674768</td>\n",
       "      <td>0.0</td>\n",
       "      <td>60</td>\n",
       "    </tr>\n",
       "    <tr>\n",
       "      <th>2</th>\n",
       "      <td>1</td>\n",
       "      <td>1</td>\n",
       "      <td>0</td>\n",
       "      <td>1</td>\n",
       "      <td>0</td>\n",
       "      <td>60</td>\n",
       "      <td>1.0</td>\n",
       "      <td>-80.871473</td>\n",
       "      <td>0.0</td>\n",
       "      <td>0</td>\n",
       "      <td>-12.696449</td>\n",
       "      <td>0.0</td>\n",
       "      <td>60</td>\n",
       "    </tr>\n",
       "    <tr>\n",
       "      <th>3</th>\n",
       "      <td>1</td>\n",
       "      <td>1</td>\n",
       "      <td>0</td>\n",
       "      <td>1</td>\n",
       "      <td>0</td>\n",
       "      <td>60</td>\n",
       "      <td>1.0</td>\n",
       "      <td>-67.562239</td>\n",
       "      <td>0.0</td>\n",
       "      <td>0</td>\n",
       "      <td>0.231446</td>\n",
       "      <td>0.0</td>\n",
       "      <td>60</td>\n",
       "    </tr>\n",
       "    <tr>\n",
       "      <th>4</th>\n",
       "      <td>1</td>\n",
       "      <td>1</td>\n",
       "      <td>0</td>\n",
       "      <td>1</td>\n",
       "      <td>0</td>\n",
       "      <td>60</td>\n",
       "      <td>1.0</td>\n",
       "      <td>-63.553410</td>\n",
       "      <td>0.0</td>\n",
       "      <td>0</td>\n",
       "      <td>-0.990216</td>\n",
       "      <td>0.0</td>\n",
       "      <td>60</td>\n",
       "    </tr>\n",
       "  </tbody>\n",
       "</table>\n",
       "</div>"
      ],
      "text/plain": [
       "   ptl_idx  pre_spk_num  pre_spk_freq  post_spk_num  post_spk_freq  ptl_occ  \\\n",
       "0        1            1             0             1              0       60   \n",
       "1        1            1             0             1              0       60   \n",
       "2        1            1             0             1              0       60   \n",
       "3        1            1             0             1              0       60   \n",
       "4        1            1             0             1              0       60   \n",
       "\n",
       "   ptl_freq         dt1  dt2  dt3    dw_mean  dw_ste  train_len  \n",
       "0       1.0 -102.898046  0.0    0  -1.322590     0.0         60  \n",
       "1       1.0  -75.579896  0.0    0   2.674768     0.0         60  \n",
       "2       1.0  -80.871473  0.0    0 -12.696449     0.0         60  \n",
       "3       1.0  -67.562239  0.0    0   0.231446     0.0         60  \n",
       "4       1.0  -63.553410  0.0    0  -0.990216     0.0         60  "
      ]
     },
     "execution_count": 2,
     "metadata": {},
     "output_type": "execute_result"
    }
   ],
   "source": [
    "# Load data frame\n",
    "data = pd.read_csv('/src/Plasticity_Ker/data/kernel_training_data_auto.csv')\n",
    "data.head()"
   ]
  },
  {
   "cell_type": "code",
   "execution_count": 3,
   "metadata": {
    "collapsed": false,
    "deletable": true,
    "editable": true
   },
   "outputs": [],
   "source": [
    "# Generate data for STDP\n",
    "data1 = data[data['ptl_idx']==1]\n",
    "\n",
    "# Split into training, testing and validation set\n",
    "np.random.seed(7)\n",
    "data1_idx = np.random.permutation(len(data1))\n",
    "len_test = int(len(data1) * 0.2)\n",
    "len_vali = int(len(data1) * 0.16)\n",
    "data_stdp_test = data1.iloc[data1_idx[:len_test]]\n",
    "y_stdp_test = np.array(data_stdp_test['dw_mean']).reshape(-1,1)\n",
    "data_stdp_vali = data1.iloc[data1_idx[len_test:len_test+len_vali]]\n",
    "y_stdp_vali = np.array(data_stdp_vali['dw_mean']).reshape(-1,1)\n",
    "data_stdp_train = data1.iloc[data1_idx[len_test+len_vali:]]\n",
    "y_stdp_train = np.array(data_stdp_train['dw_mean']).reshape(-1,1)"
   ]
  },
  {
   "cell_type": "code",
   "execution_count": 4,
   "metadata": {
    "collapsed": false,
    "deletable": true,
    "editable": true
   },
   "outputs": [
    {
     "data": {
      "text/plain": [
       "[-110, 110, -50, 110]"
      ]
     },
     "execution_count": 4,
     "metadata": {},
     "output_type": "execute_result"
    },
    {
     "data": {
      "image/png": "[encoded data removed]",
      "text/plain": [
       "<matplotlib.figure.Figure at 0x7fd402fe1ba8>"
      ]
     },
     "metadata": {},
     "output_type": "display_data"
    }
   ],
   "source": [
    "plt.plot(data_stdp_train['dt1'], y_stdp_train, 'o',label='train_data')\n",
    "plt.plot(data_stdp_vali['dt1'], y_stdp_vali, 'o',label='vali_data')\n",
    "plt.plot(data_stdp_test['dt1'],y_stdp_test, 'o', label='test_data')\n",
    "plt.legend(loc='upper left')\n",
    "plt.axis([-110,110,-50,110])"
   ]
  },
  {
   "cell_type": "code",
   "execution_count": 5,
   "metadata": {
    "collapsed": false,
    "deletable": true,
    "editable": true
   },
   "outputs": [
    {
     "data": {
      "text/plain": [
       "((29, 13), (29, 1), (7, 13), (7, 1), (9, 13), (9, 1))"
      ]
     },
     "execution_count": 5,
     "metadata": {},
     "output_type": "execute_result"
    }
   ],
   "source": [
    "data_stdp_train.shape, y_stdp_train.shape, data_stdp_vali.shape, y_stdp_vali.shape,data_stdp_test.shape, y_stdp_test.shape"
   ]
  },
  {
   "cell_type": "code",
   "execution_count": 6,
   "metadata": {
    "collapsed": false,
    "deletable": true,
    "editable": true
   },
   "outputs": [],
   "source": [
    "# Generate data for STDP\n",
    "data3 = data[data['ptl_idx']==3]\n",
    "\n",
    "# Split into training, testing and validation set\n",
    "np.random.seed(9)\n",
    "data3_idx = np.random.permutation(len(data3))\n",
    "len_test = int(len(data3) * 0.2)\n",
    "len_vali = int(len(data3) * 0.16)\n",
    "data_quad_test = data3.iloc[data3_idx[:len_test]]\n",
    "y_quad_test = np.array(data_quad_test['dw_mean']).reshape(-1,1)\n",
    "data_quad_vali = data3.iloc[data3_idx[len_test:len_test+len_vali]]\n",
    "y_quad_vali = np.array(data_quad_vali['dw_mean']).reshape(-1,1)\n",
    "data_quad_train = data3.iloc[data3_idx[len_test+len_vali:]]\n",
    "y_quad_train = np.array(data_quad_train['dw_mean']).reshape(-1,1)"
   ]
  },
  {
   "cell_type": "code",
   "execution_count": 7,
   "metadata": {
    "collapsed": false,
    "deletable": true,
    "editable": true
   },
   "outputs": [
    {
     "data": {
      "text/plain": [
       "<matplotlib.legend.Legend at 0x7fd400ebbba8>"
      ]
     },
     "execution_count": 7,
     "metadata": {},
     "output_type": "execute_result"
    },
    {
     "data": {
      "image/png": "[encoded data removed]",
      "text/plain": [
       "<matplotlib.figure.Figure at 0x7fd400f3c908>"
      ]
     },
     "metadata": {},
     "output_type": "display_data"
    }
   ],
   "source": [
    "plt.plot(data_quad_train['dt2'], y_quad_train, 'o',label='train_data')\n",
    "plt.plot(data_quad_vali['dt2'], y_quad_vali, 'o',label='vali_data')\n",
    "plt.plot(data_quad_test['dt2'],y_quad_test, 'o', label='test_data')\n",
    "plt.legend(loc='upper left')\n"
   ]
  },
  {
   "cell_type": "code",
   "execution_count": 8,
   "metadata": {
    "collapsed": false,
    "deletable": true,
    "editable": true
   },
   "outputs": [
    {
     "data": {
      "text/plain": [
       "((39, 13), (39, 1), (9, 13), (9, 1), (12, 13), (12, 1))"
      ]
     },
     "execution_count": 8,
     "metadata": {},
     "output_type": "execute_result"
    }
   ],
   "source": [
    "data_quad_train.shape, y_quad_train.shape, data_quad_vali.shape, y_quad_vali.shape, data_quad_test.shape, y_quad_test.shape"
   ]
  },
  {
   "cell_type": "code",
   "execution_count": 9,
   "metadata": {
    "collapsed": false,
    "deletable": true,
    "editable": true
   },
   "outputs": [],
   "source": [
    "# Generate data for Triplet\n",
    "dt = np.array([-10, -5, 0, 5, 10]).reshape(-1,1)\n",
    "data_trip, y_trip, data_trip_test, y_trip_test = data_aug_gp.triplet_dw_gen(n_samples=1)\n",
    "\n",
    "# Split the triplet data into training and validation\n",
    "np.random.seed(10)\n",
    "idx = np.random.permutation(len(data_trip))\n",
    "data_trip_train = data_trip.iloc[idx[:int(len(data_trip)*0.8)]]\n",
    "y_trip_train = y_trip[idx[:int(len(data_trip)*0.8)]]\n",
    "data_trip_vali = data_trip.iloc[idx[int(len(data_trip)*0.8):]]\n",
    "y_trip_vali = y_trip[idx[int(len(data_trip)*0.8):]]"
   ]
  },
  {
   "cell_type": "code",
   "execution_count": 10,
   "metadata": {
    "collapsed": false,
    "deletable": true,
    "editable": true
   },
   "outputs": [
    {
     "data": {
      "text/plain": [
       "((6, 13), (2, 13), (11, 13))"
      ]
     },
     "execution_count": 10,
     "metadata": {},
     "output_type": "execute_result"
    }
   ],
   "source": [
    "data_trip_train.shape, data_trip_vali.shape, data_trip_test.shape"
   ]
  },
  {
   "cell_type": "code",
   "execution_count": 11,
   "metadata": {
    "collapsed": false,
    "deletable": true,
    "editable": true
   },
   "outputs": [],
   "source": [
    "# Combine data from stdp and quadruplet\n",
    "data_gen_train = pd.concat([data_stdp_train, data_trip_train, data_quad_train], axis=0)\n",
    "y_train = np.concatenate([y_stdp_train, y_trip_train, y_quad_train])\n",
    "data_gen_vali = pd.concat([data_stdp_vali, data_trip_vali, data_quad_vali], axis=0)\n",
    "y_vali = np.concatenate([y_stdp_vali, y_trip_vali, y_quad_vali])\n",
    "data_gen_test = pd.concat([data_stdp_test, data_trip_test, data_quad_test], axis=0)\n",
    "y_test = np.concatenate([y_stdp_test, y_trip_test, y_quad_test])"
   ]
  },
  {
   "cell_type": "code",
   "execution_count": 12,
   "metadata": {
    "collapsed": false,
    "deletable": true,
    "editable": true
   },
   "outputs": [
    {
     "data": {
      "text/plain": [
       "((74, 13), (74, 1), (18, 13), (18, 1))"
      ]
     },
     "execution_count": 12,
     "metadata": {},
     "output_type": "execute_result"
    }
   ],
   "source": [
    "data_gen_train.shape, y_train.shape, data_gen_vali.shape, y_vali.shape"
   ]
  },
  {
   "cell_type": "code",
   "execution_count": 13,
   "metadata": {
    "collapsed": false,
    "deletable": true,
    "editable": true
   },
   "outputs": [],
   "source": [
    "trip_para = pd.read_pickle('/src/Plasticity_Ker/data/Gerstner_trip_para_df')\n",
    "trip_para\n",
    "# Reorder columns to match parameter of the model\n",
    "trip_para = trip_para[['A2_+', 'A3_-', 'A2_-', 'A3_+', 'Tau_+', 'Tau_x', 'Tau_-', 'Tau_y']]\n",
    "\n",
    "# Visualize kernel\n",
    "from modelval.kernel import KernelGen\n",
    "ker_test = KernelGen()\n",
    "\n",
    "para = trip_para.loc[('Hippo_AlltoAll', 'Full'), :]\n",
    "a = para[:4].values\n",
    "tau = para[4:].values\n",
    "reso_set = 2\n",
    "tau_pre_post = tau[0]/reso_set  # ms\n",
    "tau_post_pre = tau[2]/reso_set # ms\n",
    "\n",
    "len_kernel = 101\n",
    "len_trip = 151\n",
    "ker_test = KernelGen(len_kernel=len_kernel, len_trip=len_trip)\n",
    "ker_test.trip_model_ker(para, data_name='Hippocampus')"
   ]
  },
  {
   "cell_type": "code",
   "execution_count": 14,
   "metadata": {
    "collapsed": false,
    "deletable": true,
    "editable": true
   },
   "outputs": [],
   "source": [
    "# Generat the spike trains and targets for STDP\n",
    "data_hippo = data[data['ptl_idx']<5]\n",
    "ptl_list = [1,2,3,4]\n",
    "spk_len = int(data_hippo['train_len'].max() * 1000 / ker_test.reso_kernel)\n",
    "if_noise = 1\n",
    "aug_times = [1,1,1,1]\n",
    "spk_pairs_train, targets_train = arb_w_gen(df=data_gen_train, ptl_list=ptl_list, targets=y_train, if_noise=if_noise, spk_len=spk_len, kernel=ker_test, net_type='triplet', aug_times=aug_times)\n",
    "spk_pairs_vali, targets_vali = arb_w_gen(df=data_gen_vali, ptl_list=ptl_list, targets=y_vali, if_noise=if_noise, spk_len=spk_len, kernel=ker_test, net_type='triplet', aug_times=aug_times)"
   ]
  },
  {
   "cell_type": "code",
   "execution_count": 15,
   "metadata": {
    "collapsed": false,
    "deletable": true,
    "editable": true
   },
   "outputs": [
    {
     "data": {
      "text/plain": [
       "(74, 30002, 2)"
      ]
     },
     "execution_count": 15,
     "metadata": {},
     "output_type": "execute_result"
    }
   ],
   "source": [
    "spk_pairs_train.shape"
   ]
  },
  {
   "cell_type": "code",
   "execution_count": 16,
   "metadata": {
    "collapsed": false,
    "deletable": true,
    "editable": true
   },
   "outputs": [],
   "source": [
    "# Create the network\n",
    "ground_truth_init = 0\n",
    "reg_scale=(10,50,500,3000)\n",
    "init_seed=(4,5,6,7,8)\n",
    "\n",
    "toy_data_net = network.TripNet(kernel=ker_test, ground_truth_init=ground_truth_init, reg_scale=reg_scale, n_input=spk_pairs_train.shape[1])"
   ]
  },
  {
   "cell_type": "code",
   "execution_count": 17,
   "metadata": {
    "collapsed": false,
    "deletable": true,
    "editable": true
   },
   "outputs": [],
   "source": [
    "# Create the trainer\n",
    "save_dir= '/src/Plasticity_Ker/model/Trip_ptl1_4_real_raw_data0'\n",
    "toy_net_trainer = trainer.Trainer(toy_data_net.mse, toy_data_net.loss, input_name=toy_data_net.inputs, target_name=toy_data_net.target, save_dir=save_dir, optimizer_config={'learning_rate': toy_data_net.lr})"
   ]
  },
  {
   "cell_type": "code",
   "execution_count": 18,
   "metadata": {
    "collapsed": false,
    "deletable": true,
    "editable": true
   },
   "outputs": [],
   "source": [
    "train_data = dataset.Dataset(spk_pairs_train, targets_train)\n",
    "vali_data = dataset.Dataset(spk_pairs_vali, targets_vali)"
   ]
  },
  {
   "cell_type": "code",
   "execution_count": 19,
   "metadata": {
    "collapsed": false,
    "deletable": true,
    "editable": true
   },
   "outputs": [
    {
     "name": "stdout",
     "output_type": "stream",
     "text": [
      "[-0.22614121 -0.27994752  0.95375919] [[ 0.]\n",
      " [ 0.]\n",
      " [ 0.]\n",
      " [ 0.]]\n"
     ]
    },
    {
     "data": {
      "image/png": "[encoded data removed]",
      "text/plain": [
       "<matplotlib.figure.Figure at 0x7fd3f9b6beb8>"
      ]
     },
     "metadata": {},
     "output_type": "display_data"
    }
   ],
   "source": [
    "w_pre = toy_net_trainer.evaluate(ops=toy_data_net.kernel_pre)\n",
    "w_post = toy_net_trainer.evaluate(ops=toy_data_net.kernel_post)\n",
    "w_post_post = toy_net_trainer.evaluate(ops=toy_data_net.kernel_post_post)\n",
    "fc_w = toy_net_trainer.evaluate(ops=toy_data_net.fc_w)\n",
    "bias = toy_net_trainer.evaluate(ops=toy_data_net.bias)\n",
    "plt.plot(w_pre,  label='ker_pre_init')\n",
    "plt.plot(w_post,  label='ker_post_init')\n",
    "plt.plot(w_post_post,  label='ker_post_post_init')\n",
    "\n",
    "plt.legend()\n",
    "print(fc_w, bias)"
   ]
  },
  {
   "cell_type": "code",
   "execution_count": 22,
   "metadata": {
    "collapsed": false,
    "deletable": true,
    "editable": true,
    "scrolled": true
   },
   "outputs": [
    {
     "name": "stdout",
     "output_type": "stream",
     "text": [
      "Global Step 5050 and Step 0012: validation mse=680.76013\n",
      "Global Step 5100 and Step 0062: validation mse=680.57153\n",
      "Updated min validation loss!Saving model...\n",
      "Global Step 5150 and Step 0112: validation mse=680.49084\n",
      "Updated min validation loss!Saving model...\n",
      "Global Step 5200 and Step 0162: validation mse=680.44690\n",
      "Updated min validation loss!Saving model...\n",
      "Global Step 5250 and Step 0212: validation mse=680.28625\n",
      "Updated min validation loss!Saving model...\n",
      "Global Step 5300 and Step 0262: validation mse=680.43152\n",
      "Global Step 5350 and Step 0312: validation mse=680.45923\n",
      "Global Step 5400 and Step 0362: validation mse=680.13092\n",
      "Updated min validation loss!Saving model...\n",
      "Global Step 5450 and Step 0412: validation mse=680.63049\n",
      "Global Step 5500 and Step 0462: validation mse=680.76855\n",
      "Global Step 5550 and Step 0512: validation mse=680.90332\n",
      "Global Step 5600 and Step 0562: validation mse=681.07037\n",
      "Global Step 5650 and Step 0612: validation mse=681.34143\n",
      "Global Step 5700 and Step 0662: validation mse=681.57715\n",
      "Global Step 5750 and Step 0712: validation mse=681.94824\n",
      "Global Step 5800 and Step 0762: validation mse=682.19275\n",
      "Global Step 5850 and Step 0812: validation mse=682.46472\n",
      "Global Step 5900 and Step 0862: validation mse=682.82135\n",
      "Global Step 5950 and Step 0912: validation mse=683.59143\n",
      "Global Step 6000 and Step 0962: validation mse=683.53406\n",
      "Global Step 6050 and Step 1012: validation mse=684.00305\n",
      "Global Step 6100 and Step 1062: validation mse=684.43665\n",
      "Global Step 6150 and Step 1112: validation mse=684.88550\n",
      "Early Stopping!!!\n",
      "Restoring the best parameters...\n",
      "Global Step 6200 and Step 0050: validation mse=680.58459\n",
      "Global Step 6250 and Step 0100: validation mse=680.59576\n",
      "Global Step 6300 and Step 0150: validation mse=680.63574\n",
      "Global Step 6350 and Step 0200: validation mse=680.67651\n",
      "Global Step 6400 and Step 0250: validation mse=680.72150\n",
      "Global Step 6450 and Step 0300: validation mse=680.76971\n",
      "Global Step 6500 and Step 0350: validation mse=680.82190\n",
      "Global Step 6550 and Step 0400: validation mse=680.87756\n",
      "Global Step 6600 and Step 0450: validation mse=680.93793\n",
      "Global Step 6650 and Step 0500: validation mse=681.00195\n",
      "Global Step 6700 and Step 0550: validation mse=681.07056\n",
      "Global Step 6750 and Step 0600: validation mse=681.14355\n",
      "Global Step 6800 and Step 0650: validation mse=681.22089\n",
      "Global Step 6850 and Step 0700: validation mse=681.30334\n",
      "Global Step 6900 and Step 0750: validation mse=681.39032\n",
      "Early Stopping!!!\n",
      "Restoring the best parameters...\n",
      "Global Step 6950 and Step 0050: validation mse=680.52893\n",
      "Global Step 7000 and Step 0100: validation mse=680.55426\n",
      "Global Step 7050 and Step 0150: validation mse=680.56458\n",
      "Global Step 7100 and Step 0200: validation mse=680.57666\n",
      "Global Step 7150 and Step 0250: validation mse=680.58948\n",
      "Global Step 7200 and Step 0300: validation mse=680.60223\n",
      "Global Step 7250 and Step 0350: validation mse=680.61536\n",
      "Global Step 7300 and Step 0400: validation mse=680.62891\n",
      "Global Step 7350 and Step 0450: validation mse=680.64252\n",
      "Global Step 7400 and Step 0500: validation mse=680.65649\n",
      "Global Step 7450 and Step 0550: validation mse=680.67108\n",
      "Global Step 7500 and Step 0600: validation mse=680.68604\n",
      "Global Step 7550 and Step 0650: validation mse=680.70154\n",
      "Global Step 7600 and Step 0700: validation mse=680.71741\n",
      "Global Step 7650 and Step 0750: validation mse=680.73389\n",
      "Early Stopping!!!\n",
      "Restoring the best parameters...\n",
      "Global Step 7700 and Step 0050: validation mse=680.50909\n",
      "Global Step 7750 and Step 0100: validation mse=680.53644\n",
      "Global Step 7800 and Step 0150: validation mse=680.54230\n",
      "Global Step 7850 and Step 0200: validation mse=680.54675\n",
      "Global Step 7900 and Step 0250: validation mse=680.55127\n",
      "Global Step 7950 and Step 0300: validation mse=680.55640\n",
      "Global Step 8000 and Step 0350: validation mse=680.56128\n",
      "Global Step 8050 and Step 0400: validation mse=680.56628\n",
      "Global Step 8100 and Step 0450: validation mse=680.57141\n",
      "Global Step 8150 and Step 0500: validation mse=680.57678\n",
      "Global Step 8200 and Step 0550: validation mse=680.58215\n",
      "Global Step 8250 and Step 0600: validation mse=680.58771\n",
      "Global Step 8300 and Step 0650: validation mse=680.59302\n",
      "Global Step 8350 and Step 0700: validation mse=680.59851\n",
      "Global Step 8400 and Step 0750: validation mse=680.60400\n",
      "Early Stopping!!!\n",
      "Restoring the best parameters...\n",
      "Global Step 8450 and Step 0050: validation mse=680.55487\n",
      "Global Step 8500 and Step 0100: validation mse=680.53357\n",
      "Global Step 8550 and Step 0150: validation mse=680.53485\n",
      "Global Step 8600 and Step 0200: validation mse=680.53668\n",
      "Global Step 8650 and Step 0250: validation mse=680.53815\n",
      "Global Step 8700 and Step 0300: validation mse=680.54053\n",
      "Global Step 8750 and Step 0350: validation mse=680.54205\n",
      "Global Step 8800 and Step 0400: validation mse=680.54456\n",
      "Global Step 8850 and Step 0450: validation mse=680.54639\n",
      "Global Step 8900 and Step 0500: validation mse=680.54907\n",
      "Global Step 8950 and Step 0550: validation mse=680.55115\n",
      "Global Step 9000 and Step 0600: validation mse=680.55396\n",
      "Global Step 9050 and Step 0650: validation mse=680.55652\n",
      "Global Step 9100 and Step 0700: validation mse=680.55957\n",
      "Global Step 9150 and Step 0750: validation mse=680.56226\n",
      "Early Stopping!!!\n",
      "Restoring the best parameters...\n"
     ]
    }
   ],
   "source": [
    "# Learn the kernel from random initialization\n",
    "learning_rate = 0.001\n",
    "iterations = 5\n",
    "min_error = -1\n",
    "for i in range(iterations):\n",
    "    toy_net_trainer.train(train_data, vali_data, batch_size=128, min_error=min_error, feed_dict={toy_data_net.lr: learning_rate})\n",
    "    learning_rate = learning_rate/3"
   ]
  },
  {
   "cell_type": "code",
   "execution_count": 23,
   "metadata": {
    "collapsed": false,
    "deletable": true,
    "editable": true,
    "scrolled": true
   },
   "outputs": [
    {
     "name": "stdout",
     "output_type": "stream",
     "text": [
      "[array([-3.47749662, -4.07789803,  6.22867346], dtype=float32), array([[ 3.12642169],\n",
      "       [-2.40600181],\n",
      "       [-2.78014851],\n",
      "       [ 3.61282706]], dtype=float32)]\n"
     ]
    },
    {
     "data": {
      "image/png": "[encoded data removed]",
      "text/plain": [
       "<matplotlib.figure.Figure at 0x7fd3f8176128>"
      ]
     },
     "metadata": {},
     "output_type": "display_data"
    }
   ],
   "source": [
    "toy_net_trainer.restore_best()\n",
    "w_pre = toy_net_trainer.evaluate(ops=toy_data_net.kernel_pre)\n",
    "w_post = toy_net_trainer.evaluate(ops=toy_data_net.kernel_post)\n",
    "w_post_post = toy_net_trainer.evaluate(ops=toy_data_net.kernel_post_post)\n",
    "fc_w = toy_net_trainer.evaluate(ops=toy_data_net.fc_w)\n",
    "bias = toy_net_trainer.evaluate(ops=toy_data_net.bias)\n",
    "plt.plot(-1*w_pre, label='ker_pre_trained')\n",
    "plt.plot(-1*w_post, label='ker_post_trained')\n",
    "plt.plot(-1*w_post_post, label='ker_post_post_trained')\n",
    "plt.legend()\n",
    "print([fc_w, bias])"
   ]
  },
  {
   "cell_type": "code",
   "execution_count": 29,
   "metadata": {
    "collapsed": false,
    "deletable": true,
    "editable": true
   },
   "outputs": [
    {
     "data": {
      "text/plain": [
       "0.54981321"
      ]
     },
     "execution_count": 29,
     "metadata": {},
     "output_type": "execute_result"
    }
   ],
   "source": [
    "np.linalg.norm(w_pre, ord=2)"
   ]
  },
  {
   "cell_type": "code",
   "execution_count": null,
   "metadata": {
    "collapsed": true,
    "deletable": true,
    "editable": true
   },
   "outputs": [],
   "source": [
    "def kernel_hp2(w, len=11):\n",
    "    \"\"\"\n",
    "    Use the hamming filter to detect the frequency range that you want to eliminate\n",
    "    :param w:\n",
    "    :return:\n",
    "    \"\"\"\n",
    "    window = signal.hamming(len)\n",
    "    hp_ker2 = tf.constant(window / np.sum(window), shape=(len, 1), dtype=tf.float32)\n",
    "    w_out = w - tf.nn.conv1d(tf.expand_dims(input=w, axis=0), tf.expand_dims(hp_ker2, axis=2),\n",
    "                         stride=1, padding='SAME')\n",
    "    return w_out"
   ]
  },
  {
   "cell_type": "code",
   "execution_count": null,
   "metadata": {
    "collapsed": false,
    "deletable": true,
    "editable": true
   },
   "outputs": [],
   "source": [
    "from scipy import signal\n",
    "\n",
    "with tf.Graph().as_default():\n",
    "    window = signal.hamming(11)\n",
    "    w = tf.constant(w_post_post, dtype=tf.float32)\n",
    "    \n",
    "    w_hp = kernel_hp2(w, len=11)\n",
    "    \n",
    "    with tf.Session() as sess:\n",
    "        sess.run(tf.global_variables_initializer())\n",
    "        window_inst = sess.run(w_hp)\n",
    "    \n",
    "plt.plot(np.squeeze(window_inst))\n",
    "plt.plot(w_post_post)"
   ]
  },
  {
   "cell_type": "code",
   "execution_count": null,
   "metadata": {
    "collapsed": false,
    "deletable": true,
    "editable": true
   },
   "outputs": [],
   "source": [
    "# # Test effect of smoothed kernel\n",
    "# w_pre_sm = w_pre\n",
    "# w_post_sm = w_post \n",
    "# w_post_post_sm = w_post_post\n",
    "# w_pre_sm[:50] = dw_gen.smooth(w_pre[:50], width=2)\n",
    "# w_post_sm[:48] = dw_gen.smooth(w_post[:48], width=2)\n",
    "# w_post_post_sm[:49] = dw_gen.smooth(w_post_post[:49], width=3)\n",
    "\n",
    "# plt.plot(-1 * w_pre_sm)\n",
    "# plt.plot(-1 * w_post_sm)\n",
    "# plt.plot(-1*w_post_post_sm)\n",
    "\n",
    "# ker_test.kernel_pre = w_pre_sm\n",
    "# ker_test.kernel_post = w_post_sm\n",
    "# ker_test.kernel_post_post= w_post_post_sm\n",
    "# ker_test.kernel_scale = fc_w\n",
    "# ker_test.bias = bias"
   ]
  },
  {
   "cell_type": "markdown",
   "metadata": {
    "collapsed": true,
    "deletable": true,
    "editable": true
   },
   "source": [
    "Compare the target and prediction"
   ]
  },
  {
   "cell_type": "code",
   "execution_count": null,
   "metadata": {
    "collapsed": false,
    "deletable": true,
    "editable": true
   },
   "outputs": [],
   "source": [
    "# Updated the kernel as trained kernel\n",
    "ker_test.kernel_pre = w_pre\n",
    "ker_test.kernel_post = w_post\n",
    "ker_test.kernel_post_post= w_post_post\n",
    "ker_test.kernel_scale = fc_w\n",
    "ker_test.bias = bias"
   ]
  },
  {
   "cell_type": "code",
   "execution_count": null,
   "metadata": {
    "collapsed": false,
    "deletable": true,
    "editable": true
   },
   "outputs": [],
   "source": [
    "# Generate training predictions\n",
    "spk_len = int(data['train_len'].max() * 1000 / ker_test.reso_kernel)\n",
    "_, predictions_train = arb_w_gen(spk_pairs=spk_pairs_train, spk_len=spk_len, kernel=ker_test, net_type='triplet')\n",
    "\n",
    "ptl_len = np.array([29,3,39,3])\n",
    "rep_time = np.array([1,1,1,1])\n",
    "ptl_len, targets_out, predictions_out = data_aug_knn.target_pred_gen(targets_train, predictions_train, ptl_len, rep_time)\n",
    "\n",
    "# Calculate the total sum of squares\n",
    "R2 = 1 - np.sum(np.square(predictions_train-targets_train))/(np.square(np.std(targets_train))*(len(targets_train)-1))\n",
    "\n",
    "plt.plot(np.linspace(-30,50,80), np.linspace(-30,50,80),'k--')\n",
    "ptl_type = ['stdp', 'trip1', 'quad','trip2']\n",
    "for i in range(len(ptl_len)):\n",
    "    plt.plot(targets_out[i], predictions_out[i],'o', label=ptl_type[i])\n",
    "\n",
    "plt.title('Training data (R2=%0.2f)'%(R2))\n",
    "plt.legend()"
   ]
  },
  {
   "cell_type": "code",
   "execution_count": null,
   "metadata": {
    "collapsed": false,
    "deletable": true,
    "editable": true
   },
   "outputs": [],
   "source": [
    "# Generate validation predictions\n",
    "spk_len = int(data['train_len'].max() * 1000 / ker_test.reso_kernel)\n",
    "_, predictions_vali = arb_w_gen(spk_pairs=spk_pairs_vali, spk_len=spk_len, kernel=ker_test, net_type='triplet')\n",
    "\n",
    "ptl_len = np.array([7,1,9,1])\n",
    "rep_time = np.array([1,1,1,1])\n",
    "ptl_len, targets_out, predictions_out = data_aug_knn.target_pred_gen(targets_vali, predictions_vali, ptl_len, rep_time)\n",
    "\n",
    "# Calculate the total sum of squares\n",
    "R2 = 1 - np.sum(np.square(predictions_vali-targets_vali))/(np.square(np.std(targets_vali))*(len(targets_vali)-1))\n",
    "corr = np.sqrt(R2)\n",
    "\n",
    "plt.plot(np.linspace(-30,50,80), np.linspace(-30,50,80),'k--')\n",
    "ptl_type = ['stdp', 'trip1', 'quad','trip2']\n",
    "for i in range(len(ptl_len)):\n",
    "    plt.plot(targets_out[i], predictions_out[i],'o', label=ptl_type[i])\n",
    "\n",
    "plt.title('Validation data (R2=%0.2f)'%(R2))\n",
    "plt.legend()"
   ]
  },
  {
   "cell_type": "code",
   "execution_count": null,
   "metadata": {
    "collapsed": false,
    "deletable": true,
    "editable": true
   },
   "outputs": [],
   "source": [
    "# Generat the spike trains and targets for STDP\n",
    "data3 = data[data['ptl_idx']==3]\n",
    "ptl_list = [1,2,3,4]\n",
    "spk_len = int(data3['train_len'].max() * 1000 / ker_test.reso_kernel)\n",
    "if_noise = 0\n",
    "aug_times = [1,1,1,1]\n",
    "spk_pairs_test, targets_test = arb_w_gen(df=data_gen_test, ptl_list=ptl_list, targets=y_test, if_noise=if_noise, spk_len=spk_len, kernel=ker_test, net_type='triplet', aug_times=aug_times)"
   ]
  },
  {
   "cell_type": "code",
   "execution_count": null,
   "metadata": {
    "collapsed": false,
    "deletable": true,
    "editable": true
   },
   "outputs": [],
   "source": [
    "# Generate test predictions\n",
    "spk_len = int(data['train_len'].max() * 1000 / ker_test.reso_kernel)\n",
    "_, predictions_test = arb_w_gen(spk_pairs=spk_pairs_test, spk_len=spk_len, kernel=ker_test, net_type='triplet')\n",
    "\n",
    "ptl_len = np.array([12,7,18,4])\n",
    "rep_time = np.array([1,1,1,1])\n",
    "ptl_len, targets_out, predictions_out = data_aug_knn.target_pred_gen(targets_test, predictions_test, ptl_len, rep_time)\n",
    "\n",
    "# Calculate the total sum of squares\n",
    "R2 = 1 - np.sum(np.square(predictions_test-targets_test))/(np.square(np.std(targets_test))*(len(targets_test)-1))\n",
    "corr = np.sqrt(R2)\n",
    "\n",
    "plt.plot(np.linspace(-30,50,80), np.linspace(-30,50,80),'k--')\n",
    "ptl_type = ['stdp', 'trip1', 'quad','trip2']\n",
    "for i in range(len(ptl_len)):\n",
    "    plt.plot(targets_out[i], predictions_out[i],'o', label=ptl_type[i])\n",
    "\n",
    "plt.title('Testing data (R2=%0.2f)'%(R2))\n",
    "plt.legend()"
   ]
  },
  {
   "cell_type": "code",
   "execution_count": null,
   "metadata": {
    "collapsed": true,
    "deletable": true,
    "editable": true
   },
   "outputs": [],
   "source": []
  }
 ],
 "metadata": {
  "kernelspec": {
   "display_name": "Python 3",
   "language": "python",
   "name": "python3"
  },
  "language_info": {
   "codemirror_mode": {
    "name": "ipython",
    "version": 3
   },
   "file_extension": ".py",
   "mimetype": "text/x-python",
   "name": "python",
   "nbconvert_exporter": "python",
   "pygments_lexer": "ipython3",
   "version": "3.5.2"
  }
 },
 "nbformat": 4,
 "nbformat_minor": 2
}

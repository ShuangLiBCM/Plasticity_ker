{
 "cells": [
  {
   "cell_type": "markdown",
   "metadata": {
    "deletable": true,
    "editable": true
   },
   "source": [
    "Test the validation schema"
   ]
  },
  {
   "cell_type": "code",
   "execution_count": 6,
   "metadata": {
    "collapsed": false,
    "deletable": true,
    "editable": true
   },
   "outputs": [
    {
     "name": "stdout",
     "output_type": "stream",
     "text": [
      "The autoreload extension is already loaded. To reload it, use:\n",
      "  %reload_ext autoreload\n"
     ]
    }
   ],
   "source": [
    "import pandas as pd\n",
    "import numpy as np\n",
    "import matplotlib.pyplot as plt\n",
    "import seaborn as sns\n",
    "import datajoint as dj \n",
    "import model_validation_schema as sk\n",
    "\n",
    "%matplotlib inline\n",
    "%load_ext autoreload\n",
    "%autoreload 2"
   ]
  },
  {
   "cell_type": "code",
   "execution_count": null,
   "metadata": {
    "collapsed": false,
    "deletable": true,
    "editable": true
   },
   "outputs": [
    {
     "name": "stdout",
     "output_type": "stream",
     "text": [
      "Populating {'network_id': 0, 'random_start': 0, 'l2_id': 0, 'dataset_id': 0, 'l1_id': 0, 'seed': 0, 'lr_id': 1, 'iterations': 5}\n",
      "\n",
      "Initial validation cost=2.49028\n",
      "Global Step 0150 and Step 0150: validation cost=0.34110\n",
      "Updated min validation loss!Saving model...\n",
      "Global Step 0200 and Step 0200: validation cost=0.20867\n",
      "Updated min validation loss!Saving model...\n",
      "Global Step 0250 and Step 0250: validation cost=0.13564\n",
      "Updated min validation loss!Saving model...\n",
      "Global Step 0300 and Step 0300: validation cost=0.09201\n",
      "Updated min validation loss!Saving model...\n",
      "Global Step 0350 and Step 0350: validation cost=0.06470\n",
      "Updated min validation loss!Saving model...\n",
      "Global Step 0400 and Step 0400: validation cost=0.04666\n",
      "Updated min validation loss!Saving model...\n",
      "Global Step 0450 and Step 0450: validation cost=0.03436\n",
      "Updated min validation loss!Saving model...\n",
      "Global Step 0500 and Step 0500: validation cost=0.02597\n",
      "Updated min validation loss!Saving model...\n",
      "Global Step 0550 and Step 0550: validation cost=0.02007\n",
      "Updated min validation loss!Saving model...\n",
      "Global Step 0600 and Step 0600: validation cost=0.01581\n",
      "Updated min validation loss!Saving model...\n",
      "Global Step 0650 and Step 0650: validation cost=0.01267\n",
      "Updated min validation loss!Saving model...\n",
      "Global Step 0700 and Step 0700: validation cost=0.01034\n",
      "Updated min validation loss!Saving model...\n",
      "Global Step 0750 and Step 0750: validation cost=0.00861\n",
      "Updated min validation loss!Saving model...\n",
      "Global Step 0800 and Step 0800: validation cost=0.00729\n",
      "Updated min validation loss!Saving model...\n",
      "Global Step 0850 and Step 0850: validation cost=0.00626\n",
      "Updated min validation loss!Saving model...\n",
      "Global Step 0900 and Step 0900: validation cost=0.00543\n",
      "Updated min validation loss!Saving model...\n",
      "Global Step 0950 and Step 0950: validation cost=0.00475\n",
      "Updated min validation loss!Saving model...\n",
      "Global Step 1000 and Step 1000: validation cost=0.00420\n",
      "Updated min validation loss!Saving model...\n",
      "Global Step 1050 and Step 1050: validation cost=0.00374\n",
      "Updated min validation loss!Saving model...\n",
      "Global Step 1100 and Step 1100: validation cost=0.00334\n",
      "Updated min validation loss!Saving model...\n",
      "Global Step 1150 and Step 1150: validation cost=0.00299\n",
      "Updated min validation loss!Saving model...\n",
      "Global Step 1200 and Step 1200: validation cost=0.00269\n",
      "Updated min validation loss!Saving model...\n",
      "Global Step 1250 and Step 1250: validation cost=0.00241\n",
      "Updated min validation loss!Saving model...\n",
      "Global Step 1300 and Step 1300: validation cost=0.00218\n",
      "Updated min validation loss!Saving model...\n",
      "Global Step 1350 and Step 1350: validation cost=0.00196\n",
      "Updated min validation loss!Saving model...\n",
      "Global Step 1400 and Step 1400: validation cost=0.00177\n",
      "Updated min validation loss!Saving model...\n",
      "Global Step 1450 and Step 1450: validation cost=0.00160\n",
      "Updated min validation loss!Saving model...\n",
      "Global Step 1500 and Step 1500: validation cost=0.00144\n",
      "Updated min validation loss!Saving model...\n",
      "Global Step 1550 and Step 1550: validation cost=0.00130\n",
      "Updated min validation loss!Saving model...\n",
      "Global Step 1600 and Step 1600: validation cost=0.00117\n",
      "Updated min validation loss!Saving model...\n",
      "Global Step 1650 and Step 1650: validation cost=0.00105\n",
      "Updated min validation loss!Saving model...\n",
      "Global Step 1700 and Step 1700: validation cost=0.00095\n",
      "Updated min validation loss!Saving model...\n",
      "Global Step 1750 and Step 1750: validation cost=0.00085\n",
      "Updated min validation loss!Saving model...\n",
      "Global Step 1800 and Step 1800: validation cost=0.00076\n",
      "Updated min validation loss!Saving model...\n",
      "Global Step 1850 and Step 1850: validation cost=0.00069\n",
      "Updated min validation loss!Saving model...\n",
      "Global Step 1900 and Step 1900: validation cost=0.00062\n",
      "Updated min validation loss!Saving model...\n",
      "Global Step 1950 and Step 1950: validation cost=0.00056\n",
      "Updated min validation loss!Saving model...\n",
      "Global Step 2000 and Step 2000: validation cost=0.00050\n",
      "Updated min validation loss!Saving model...\n",
      "Global Step 2050 and Step 2050: validation cost=0.00046\n",
      "Updated min validation loss!Saving model...\n",
      "Global Step 2100 and Step 2100: validation cost=0.00041\n",
      "Updated min validation loss!Saving model...\n",
      "Global Step 2150 and Step 2150: validation cost=0.00037\n",
      "Updated min validation loss!Saving model...\n",
      "Global Step 2200 and Step 2200: validation cost=0.00033\n",
      "Updated min validation loss!Saving model...\n",
      "Global Step 2250 and Step 2250: validation cost=0.00030\n",
      "Updated min validation loss!Saving model...\n",
      "Global Step 2300 and Step 2300: validation cost=0.00027\n",
      "Updated min validation loss!Saving model...\n",
      "Global Step 2350 and Step 2350: validation cost=0.00025\n",
      "Updated min validation loss!Saving model...\n",
      "Global Step 2400 and Step 2400: validation cost=0.00022\n",
      "Updated min validation loss!Saving model...\n",
      "Global Step 2450 and Step 2450: validation cost=0.00020\n",
      "Updated min validation loss!Saving model...\n",
      "Global Step 2500 and Step 2500: validation cost=0.00018\n",
      "Updated min validation loss!Saving model...\n",
      "Global Step 2550 and Step 2550: validation cost=0.00016\n",
      "Updated min validation loss!Saving model...\n",
      "Global Step 2600 and Step 2600: validation cost=0.00015\n",
      "Updated min validation loss!Saving model...\n",
      "Global Step 2650 and Step 2650: validation cost=0.00013\n",
      "Updated min validation loss!Saving model...\n",
      "Global Step 2700 and Step 2700: validation cost=0.00012\n",
      "Updated min validation loss!Saving model...\n",
      "Global Step 2750 and Step 2750: validation cost=0.00011\n",
      "Updated min validation loss!Saving model...\n",
      "Global Step 2800 and Step 2800: validation cost=0.00010\n",
      "Updated min validation loss!Saving model...\n",
      "Global Step 2850 and Step 2850: validation cost=0.00009\n",
      "Updated min validation loss!Saving model...\n",
      "Global Step 2900 and Step 2900: validation cost=0.00008\n",
      "Updated min validation loss!Saving model...\n",
      "Global Step 2950 and Step 2950: validation cost=0.00007\n",
      "Updated min validation loss!Saving model...\n",
      "Global Step 3000 and Step 3000: validation cost=0.00006\n",
      "Updated min validation loss!Saving model...\n",
      "Global Step 3050 and Step 3050: validation cost=0.00006\n",
      "Updated min validation loss!Saving model...\n",
      "Global Step 3100 and Step 3100: validation cost=0.00005\n",
      "Updated min validation loss!Saving model...\n",
      "Global Step 3150 and Step 3150: validation cost=0.00005\n",
      "Updated min validation loss!Saving model...\n",
      "Global Step 3200 and Step 3200: validation cost=0.00004\n",
      "Updated min validation loss!Saving model...\n",
      "Global Step 3250 and Step 3250: validation cost=0.00004\n",
      "Updated min validation loss!Saving model...\n",
      "Global Step 3300 and Step 3300: validation cost=0.00003\n",
      "Updated min validation loss!Saving model...\n",
      "Global Step 3350 and Step 3350: validation cost=0.00003\n",
      "Updated min validation loss!Saving model...\n",
      "Global Step 3400 and Step 3400: validation cost=0.00003\n",
      "Updated min validation loss!Saving model...\n",
      "Global Step 3450 and Step 3450: validation cost=0.00002\n",
      "Updated min validation loss!Saving model...\n"
     ]
    }
   ],
   "source": [
    "sk.ModelSelection().populate(reserve_jobs=True)"
   ]
  },
  {
   "cell_type": "code",
   "execution_count": null,
   "metadata": {
    "collapsed": true,
    "deletable": true,
    "editable": true
   },
   "outputs": [],
   "source": []
  }
 ],
 "metadata": {
  "kernelspec": {
   "display_name": "Python 3",
   "language": "python",
   "name": "python3"
  },
  "language_info": {
   "codemirror_mode": {
    "name": "ipython",
    "version": 3
   },
   "file_extension": ".py",
   "mimetype": "text/x-python",
   "name": "python",
   "nbconvert_exporter": "python",
   "pygments_lexer": "ipython3",
   "version": "3.5.2"
  }
 },
 "nbformat": 4,
 "nbformat_minor": 2
}
